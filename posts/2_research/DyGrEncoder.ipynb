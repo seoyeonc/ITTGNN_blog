{
 "cells": [
  {
   "cell_type": "markdown",
   "id": "8924c9f8-9477-4e3c-8934-1995ee963a3d",
   "metadata": {},
   "source": [
    "DyGrEncoder"
   ]
  },
  {
   "cell_type": "code",
   "execution_count": null,
   "id": "07c3d328-2c34-47dd-8e3a-59f2f7870689",
   "metadata": {},
   "outputs": [],
   "source": [
    "import itstgcnDYGRENCODER\n",
    "import torch\n",
    "import itstgcnDYGRENCODER.planner \n",
    "import pandas as pd\n",
    "\n",
    "import numpy as np\n",
    "import random"
   ]
  },
  {
   "cell_type": "code",
   "execution_count": 2,
   "id": "1efa0d80-29c9-4220-8a4d-d674ae8f2163",
   "metadata": {},
   "outputs": [],
   "source": [
    "loader6 = itstgcnDYGRENCODER.load_data('./data/Windmillsmall.pkl')"
   ]
  },
  {
   "cell_type": "code",
   "execution_count": 3,
   "id": "9768024a-f328-41ba-b4bc-7382d7ff2541",
   "metadata": {},
   "outputs": [],
   "source": [
    "mindex= [list(range(4500,10000)),list(range(4500,10000)),[],list(range(4500,10000)),list(range(4500,10000)),\\\n",
    "        list(range(4500,10000)),list(range(4500,10000)),[],list(range(4500,10000)),list(range(4500,10000)),[]]\n",
    "plans_stgcn_block = {\n",
    "    'max_iteration': 1, \n",
    "    'method': ['STGCN', 'IT-STGCN'], \n",
    "    'mindex': [mindex],\n",
    "    'lags': [8], \n",
    "    'nof_filters': [12], \n",
    "    'inter_method': ['linear'],\n",
    "    'epoch': [50]\n",
    "}"
   ]
  },
  {
   "cell_type": "code",
   "execution_count": null,
   "id": "8483f568-fa7f-47ff-b2f7-745bfabd51b9",
   "metadata": {},
   "outputs": [
    {
     "name": "stderr",
     "output_type": "stream",
     "text": [
      "/home/csy/Dropbox/ITTGNN_blog/posts/2_research/itstgcnDYGRENCODER/utils.py:71: UserWarning: Creating a tensor from a list of numpy.ndarrays is extremely slow. Please consider converting the list to a single numpy.ndarray with numpy.array() before converting to a tensor. (Triggered internally at /opt/conda/conda-bld/pytorch_1682343998658/work/torch/csrc/utils/tensor_new.cpp:245.)\n",
      "  lags = torch.tensor(train_dataset.features).shape[-1]\n"
     ]
    },
    {
     "name": "stdout",
     "output_type": "stream",
     "text": [
      "2/50\r"
     ]
    }
   ],
   "source": [
    "plnr = itstgcnDYGRENCODER.planner.PLNR_STGCN_MANUAL(plans_stgcn_block,loader6,dataset_name='sindmillsmallDyGrEncoder')\n",
    "plnr.simulate(mindex=mindex,mtype='block')"
   ]
  },
  {
   "cell_type": "code",
   "execution_count": null,
   "id": "6bbbe6c8-6ee2-4e6c-9880-95fcca486ead",
   "metadata": {},
   "outputs": [],
   "source": [
    "plnr = itstgcnDYGRENCODER.planner.PLNR_STGCN_MANUAL(plans_stgcn_block,loader6,dataset_name='sindmillsmallDyGrEncoder')\n",
    "plnr.simulate(mindex=mindex,mtype='block')"
   ]
  },
  {
   "cell_type": "code",
   "execution_count": null,
   "id": "987ba630-d817-4888-88e2-a54b089dd390",
   "metadata": {},
   "outputs": [],
   "source": [
    "plnr = itstgcnDYGRENCODER.planner.PLNR_STGCN_MANUAL(plans_stgcn_block,loader6,dataset_name='sindmillsmallDyGrEncoder')\n",
    "plnr.simulate(mindex=mindex,mtype='block')"
   ]
  },
  {
   "cell_type": "code",
   "execution_count": null,
   "id": "44cc67d0-3f30-4504-b2ea-c313409c7db3",
   "metadata": {},
   "outputs": [],
   "source": [
    "plnr = itstgcnDYGRENCODER.planner.PLNR_STGCN_MANUAL(plans_stgcn_block,loader6,dataset_name='sindmillsmallDyGrEncoder')\n",
    "plnr.simulate(mindex=mindex,mtype='block')"
   ]
  },
  {
   "cell_type": "code",
   "execution_count": null,
   "id": "ac77ad2e-bf95-44cc-a58c-bf9fcbda0e7e",
   "metadata": {},
   "outputs": [],
   "source": [
    "plnr = itstgcnDYGRENCODER.planner.PLNR_STGCN_MANUAL(plans_stgcn_block,loader6,dataset_name='sindmillsmallDyGrEncoder')\n",
    "plnr.simulate(mindex=mindex,mtype='block')"
   ]
  },
  {
   "cell_type": "code",
   "execution_count": null,
   "id": "1b3185fb-58ba-447c-9d89-6276483c28e9",
   "metadata": {},
   "outputs": [],
   "source": [
    "plnr = itstgcnDYGRENCODER.planner.PLNR_STGCN_MANUAL(plans_stgcn_block,loader6,dataset_name='sindmillsmallDyGrEncoder')\n",
    "plnr.simulate(mindex=mindex,mtype='block')"
   ]
  },
  {
   "cell_type": "code",
   "execution_count": null,
   "id": "de24204a-49d0-427f-a3f0-428bcbbe5e4c",
   "metadata": {},
   "outputs": [],
   "source": [
    "plnr = itstgcnDYGRENCODER.planner.PLNR_STGCN_MANUAL(plans_stgcn_block,loader6,dataset_name='sindmillsmallDyGrEncoder')\n",
    "plnr.simulate(mindex=mindex,mtype='block')"
   ]
  },
  {
   "cell_type": "code",
   "execution_count": null,
   "id": "38c6e9c8-3ea2-4234-a9a6-7ba0f13b5794",
   "metadata": {},
   "outputs": [],
   "source": [
    "plnr = itstgcnDYGRENCODER.planner.PLNR_STGCN_MANUAL(plans_stgcn_block,loader6,dataset_name='sindmillsmallDyGrEncoder')\n",
    "plnr.simulate(mindex=mindex,mtype='block')"
   ]
  },
  {
   "cell_type": "code",
   "execution_count": null,
   "id": "0156892e-6801-4e0d-b2a2-967cc871af95",
   "metadata": {},
   "outputs": [],
   "source": [
    "plnr = itstgcnDYGRENCODER.planner.PLNR_STGCN_MANUAL(plans_stgcn_block,loader6,dataset_name='sindmillsmallDyGrEncoder')\n",
    "plnr.simulate(mindex=mindex,mtype='block')"
   ]
  },
  {
   "cell_type": "code",
   "execution_count": null,
   "id": "f775b51c-7462-41c1-a244-0f5357a7d1c0",
   "metadata": {},
   "outputs": [],
   "source": [
    "plnr = itstgcnDYGRENCODER.planner.PLNR_STGCN_MANUAL(plans_stgcn_block,loader6,dataset_name='sindmillsmallDyGrEncoder')\n",
    "plnr.simulate(mindex=mindex,mtype='block')"
   ]
  },
  {
   "cell_type": "code",
   "execution_count": null,
   "id": "28bbf884-8e5f-43ea-9f02-06bb699d2599",
   "metadata": {},
   "outputs": [],
   "source": [
    "plnr = itstgcnDYGRENCODER.planner.PLNR_STGCN_MANUAL(plans_stgcn_block,loader6,dataset_name='sindmillsmallDyGrEncoder')\n",
    "plnr.simulate(mindex=mindex,mtype='block')"
   ]
  },
  {
   "cell_type": "code",
   "execution_count": null,
   "id": "25509bbb-a72d-4420-b4c8-b00bfff05aae",
   "metadata": {},
   "outputs": [],
   "source": [
    "plnr = itstgcnDYGRENCODER.planner.PLNR_STGCN_MANUAL(plans_stgcn_block,loader6,dataset_name='sindmillsmallDyGrEncoder')\n",
    "plnr.simulate(mindex=mindex,mtype='block')"
   ]
  },
  {
   "cell_type": "code",
   "execution_count": null,
   "id": "0242a902-1b65-453e-9c63-40aed570ada2",
   "metadata": {},
   "outputs": [],
   "source": [
    "plnr = itstgcnDYGRENCODER.planner.PLNR_STGCN_MANUAL(plans_stgcn_block,loader6,dataset_name='sindmillsmallDyGrEncoder')\n",
    "plnr.simulate(mindex=mindex,mtype='block')"
   ]
  },
  {
   "cell_type": "code",
   "execution_count": null,
   "id": "fbaa5415-1e20-4f2a-afaf-44c487d0786f",
   "metadata": {},
   "outputs": [],
   "source": [
    "plnr = itstgcnDYGRENCODER.planner.PLNR_STGCN_MANUAL(plans_stgcn_block,loader6,dataset_name='sindmillsmallDyGrEncoder')\n",
    "plnr.simulate(mindex=mindex,mtype='block')"
   ]
  },
  {
   "cell_type": "code",
   "execution_count": null,
   "id": "fcfeba4e-c71b-42fd-8599-c17238b86e91",
   "metadata": {},
   "outputs": [],
   "source": [
    "plnr = itstgcnDYGRENCODER.planner.PLNR_STGCN_MANUAL(plans_stgcn_block,loader6,dataset_name='sindmillsmallDyGrEncoder')\n",
    "plnr.simulate(mindex=mindex,mtype='block')"
   ]
  },
  {
   "cell_type": "code",
   "execution_count": null,
   "id": "8730124e-6d30-47cc-9733-d86c995efc99",
   "metadata": {},
   "outputs": [],
   "source": [
    "plnr = itstgcnDYGRENCODER.planner.PLNR_STGCN_MANUAL(plans_stgcn_block,loader6,dataset_name='sindmillsmallDyGrEncoder')\n",
    "plnr.simulate(mindex=mindex,mtype='block')"
   ]
  },
  {
   "cell_type": "code",
   "execution_count": null,
   "id": "a17412e9-102b-4867-ad32-40ab4beacf09",
   "metadata": {},
   "outputs": [],
   "source": [
    "plnr = itstgcnDYGRENCODER.planner.PLNR_STGCN_MANUAL(plans_stgcn_block,loader6,dataset_name='sindmillsmallDyGrEncoder')\n",
    "plnr.simulate(mindex=mindex,mtype='block')"
   ]
  },
  {
   "cell_type": "code",
   "execution_count": null,
   "id": "f15c1b8a-03f1-4c4d-ba3c-87dd6a9cfeee",
   "metadata": {},
   "outputs": [],
   "source": []
  },
  {
   "cell_type": "code",
   "execution_count": null,
   "id": "0ad21c0b-50eb-4e92-9d05-efc6a0af55fb",
   "metadata": {},
   "outputs": [],
   "source": []
  }
 ],
 "metadata": {
  "kernelspec": {
   "display_name": "Python 3",
   "language": "python",
   "name": "python3"
  },
  "language_info": {
   "codemirror_mode": {
    "name": "ipython",
    "version": 3
   },
   "file_extension": ".py",
   "mimetype": "text/x-python",
   "name": "python",
   "nbconvert_exporter": "python",
   "pygments_lexer": "ipython3",
   "version": "3.8.0"
  }
 },
 "nbformat": 4,
 "nbformat_minor": 5
}
