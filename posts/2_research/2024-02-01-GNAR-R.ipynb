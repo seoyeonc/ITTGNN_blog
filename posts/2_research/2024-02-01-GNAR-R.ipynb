{
 "cells": [
  {
   "cell_type": "raw",
   "id": "b13b0e95-72d3-42fd-b755-cf9fd011173d",
   "metadata": {
    "id": "cac470df-29e7-4148-9bbd-d8b9a32fa570",
    "tags": []
   },
   "source": [
    "---\n",
    "title: \"GNAR-R\"\n",
    "author: \"SEOYEON CHOI\"\n",
    "date: \"2024-01-28\"\n",
    "---"
   ]
  },
  {
   "cell_type": "markdown",
   "id": "67eca0e6-2d81-4bdb-9514-1eb4e52e92f1",
   "metadata": {},
   "source": [
    "# Import"
   ]
  },
  {
   "cell_type": "code",
   "execution_count": 3,
   "id": "672be849-32a4-4d06-b65a-6d752b81a4ee",
   "metadata": {},
   "outputs": [],
   "source": [
    "library(GNAR)"
   ]
  },
  {
   "cell_type": "code",
   "execution_count": 4,
   "id": "91d997e4-08eb-4507-ab5a-7c2c62cc5584",
   "metadata": {},
   "outputs": [],
   "source": [
    "library(jsonlite)"
   ]
  },
  {
   "cell_type": "markdown",
   "id": "63d0314c-1bc8-4844-bbea-b0eaa5266487",
   "metadata": {},
   "source": [
    "# function"
   ]
  },
  {
   "cell_type": "code",
   "execution_count": 5,
   "id": "f8bd3b52-4dbc-432b-96cc-1795c4cadd8c",
   "metadata": {},
   "outputs": [],
   "source": [
    "cal_mse <- function(data, net_input, lags, missing_rate) {\n",
    "      train_ratio <- floor(nrow(data) * 0.8)\n",
    "      test_ratio <- ceiling(nrow(data) * 0.2)\n",
    "      df <- data\n",
    "      num_cols <- ncol(df)\n",
    "      for (i in 1:num_cols) {\n",
    "              indices_to_replace <- sample(c(1:(nrow(df) - test_ratio - lags)), \n",
    "                                           size = missing_rate * (nrow(df) - test_ratio - lags))\n",
    "              df[indices_to_replace, i] <- NA\n",
    "            }\n",
    "      nafit <- GNARfit(vts = df[1:train_ratio,], net = net_input, alphaOrder = lags, betaOrder = rep(1, lags))\n",
    "      predict<- predict(nafit,n.ahead = test_ratio)\n",
    "    \n",
    "      mse_each <- numeric(num_cols)\n",
    "      for (i in 1:num_cols) {\n",
    "          mse_each[i] <- mean((predict[,i] - df[(train_ratio+1):nrow(df),i])**2)\n",
    "      }\n",
    "      mse_total <- mean(mse_each)\n",
    "      return(list('each'= mse_each, 'total'=mse_total))\n",
    "    }"
   ]
  },
  {
   "cell_type": "code",
   "execution_count": 6,
   "id": "7be81aca-0e6f-4c8b-83ee-9aaa19e55c95",
   "metadata": {},
   "outputs": [],
   "source": [
    "block_cal_mse <- function(data, net_input, lags, mindex) {\n",
    "      train_ratio <- floor(nrow(data) * 0.8)\n",
    "      test_ratio <- ceiling(nrow(data) * 0.2)\n",
    "      df <- data\n",
    "      num_cols <- ncol(df)\n",
    "      for (i in 1:num_cols) {\n",
    "              df[mindex[[i]],i] <- NA\n",
    "            }\n",
    "      nafit <- GNARfit(vts = df[1:train_ratio,], net = net_input, alphaOrder = lags, betaOrder = rep(1, lags))\n",
    "      predict<- predict(nafit,n.ahead = test_ratio)\n",
    "    \n",
    "      mse_each <- numeric(num_cols)\n",
    "      for (i in 1:num_cols) {\n",
    "          mse_each[i] <- mean((predict[,i] - df[(train_ratio+1):nrow(df),i])**2)\n",
    "        }\n",
    "      mse_total <- mean(mse_each)\n",
    "      return(list('each'= mse_each, 'total'=mse_total))\n",
    "    }"
   ]
  },
  {
   "cell_type": "markdown",
   "id": "3e980b27-9910-4315-a528-e2d9bc0a4520",
   "metadata": {},
   "source": [
    "# fivenodes"
   ]
  },
  {
   "cell_type": "markdown",
   "id": "9b72fa1f-5391-40dd-a20c-75b28179ec6e",
   "metadata": {},
   "source": [
    "## random"
   ]
  },
  {
   "cell_type": "code",
   "execution_count": 1330,
   "id": "e2df0038-a036-4dc5-b774-352276633eda",
   "metadata": {},
   "outputs": [
    {
     "data": {
      "text/html": [
       "<table class=\"dataframe\">\n",
       "<caption>A data.frame: 9 × 2</caption>\n",
       "<thead>\n",
       "\t<tr><th scope=col>mrate</th><th scope=col>total</th></tr>\n",
       "\t<tr><th scope=col>&lt;dbl&gt;</th><th scope=col>&lt;dbl&gt;</th></tr>\n",
       "</thead>\n",
       "<tbody>\n",
       "\t<tr><td>0.0</td><td>1.257729</td></tr>\n",
       "\t<tr><td>0.1</td><td>1.252735</td></tr>\n",
       "\t<tr><td>0.2</td><td>1.265524</td></tr>\n",
       "\t<tr><td>0.3</td><td>1.250937</td></tr>\n",
       "\t<tr><td>0.4</td><td>1.271402</td></tr>\n",
       "\t<tr><td>0.5</td><td>1.278707</td></tr>\n",
       "\t<tr><td>0.6</td><td>1.301504</td></tr>\n",
       "\t<tr><td>0.7</td><td>1.301504</td></tr>\n",
       "\t<tr><td>0.8</td><td>1.301504</td></tr>\n",
       "</tbody>\n",
       "</table>\n"
      ],
      "text/latex": [
       "A data.frame: 9 × 2\n",
       "\\begin{tabular}{ll}\n",
       " mrate & total\\\\\n",
       " <dbl> & <dbl>\\\\\n",
       "\\hline\n",
       "\t 0.0 & 1.257729\\\\\n",
       "\t 0.1 & 1.252735\\\\\n",
       "\t 0.2 & 1.265524\\\\\n",
       "\t 0.3 & 1.250937\\\\\n",
       "\t 0.4 & 1.271402\\\\\n",
       "\t 0.5 & 1.278707\\\\\n",
       "\t 0.6 & 1.301504\\\\\n",
       "\t 0.7 & 1.301504\\\\\n",
       "\t 0.8 & 1.301504\\\\\n",
       "\\end{tabular}\n"
      ],
      "text/markdown": [
       "\n",
       "A data.frame: 9 × 2\n",
       "\n",
       "| mrate &lt;dbl&gt; | total &lt;dbl&gt; |\n",
       "|---|---|\n",
       "| 0.0 | 1.257729 |\n",
       "| 0.1 | 1.252735 |\n",
       "| 0.2 | 1.265524 |\n",
       "| 0.3 | 1.250937 |\n",
       "| 0.4 | 1.271402 |\n",
       "| 0.5 | 1.278707 |\n",
       "| 0.6 | 1.301504 |\n",
       "| 0.7 | 1.301504 |\n",
       "| 0.8 | 1.301504 |\n",
       "\n"
      ],
      "text/plain": [
       "  mrate total   \n",
       "1 0.0   1.257729\n",
       "2 0.1   1.252735\n",
       "3 0.2   1.265524\n",
       "4 0.3   1.250937\n",
       "5 0.4   1.271402\n",
       "6 0.5   1.278707\n",
       "7 0.6   1.301504\n",
       "8 0.7   1.301504\n",
       "9 0.8   1.301504"
      ]
     },
     "metadata": {},
     "output_type": "display_data"
    }
   ],
   "source": [
    "fixed_data <- fiveVTS\n",
    "fixed_net_input <- fiveNet\n",
    "fixed_lags <- 2\n",
    "\n",
    "results_df <- data.frame(mrate = numeric(),\n",
    "                         mse = numeric())\n",
    "\n",
    "missing_rates <- c(0,0.1, 0.2, 0.3, 0.4, 0.5, 0.6, 0.7, 0.8) \n",
    "\n",
    "for (rate in missing_rates) {\n",
    "  result <- cal_mse(fixed_data, fixed_net_input, fixed_lags, rate)\n",
    "  results_df <- rbind(results_df, data.frame(mrate = rate, mse = result[2]))\n",
    "}\n",
    "results_df"
   ]
  },
  {
   "cell_type": "code",
   "execution_count": 1331,
   "id": "7dc80088-9201-4db7-b3e6-70061a8c208f",
   "metadata": {},
   "outputs": [],
   "source": [
    "results_df['dataset'] = 'FiveVTS'\n",
    "results_df['method'] = 'GNAR'\n",
    "results_df['mtype'] = 'rand'\n",
    "results_df['lags'] = fixed_lags\n",
    "results_df['nof_filters'] = NA\n",
    "results_df['inter_method'] = NA\n",
    "results_df['epoch'] = NA\n",
    "results_df['calculation_time'] = NA\n",
    "results_df['model'] = 'GNAR'\n",
    "colnames(results_df)[2] <- \"mse\"\n",
    "FiveVTS_results <- results_df"
   ]
  },
  {
   "cell_type": "markdown",
   "id": "97a011ab-fa09-4942-831a-56be8066f00c",
   "metadata": {},
   "source": [
    "## block"
   ]
  },
  {
   "cell_type": "code",
   "execution_count": 1345,
   "id": "791f45cb-bb5f-4299-a36c-be41eca963f4",
   "metadata": {},
   "outputs": [],
   "source": [
    "FiveVTS_mindex <- fromJSON(\"FiveVTS_mindex.json\")"
   ]
  },
  {
   "cell_type": "code",
   "execution_count": 1348,
   "id": "07836b55-c9ce-4528-a67b-e68859f31ba4",
   "metadata": {},
   "outputs": [
    {
     "data": {
      "text/html": [
       "<table class=\"dataframe\">\n",
       "<caption>A data.frame: 1 × 2</caption>\n",
       "<thead>\n",
       "\t<tr><th scope=col>mrate</th><th scope=col>total</th></tr>\n",
       "\t<tr><th scope=col>&lt;dbl&gt;</th><th scope=col>&lt;dbl&gt;</th></tr>\n",
       "</thead>\n",
       "<tbody>\n",
       "\t<tr><td>0.125</td><td>1.272369</td></tr>\n",
       "</tbody>\n",
       "</table>\n"
      ],
      "text/latex": [
       "A data.frame: 1 × 2\n",
       "\\begin{tabular}{ll}\n",
       " mrate & total\\\\\n",
       " <dbl> & <dbl>\\\\\n",
       "\\hline\n",
       "\t 0.125 & 1.272369\\\\\n",
       "\\end{tabular}\n"
      ],
      "text/markdown": [
       "\n",
       "A data.frame: 1 × 2\n",
       "\n",
       "| mrate &lt;dbl&gt; | total &lt;dbl&gt; |\n",
       "|---|---|\n",
       "| 0.125 | 1.272369 |\n",
       "\n"
      ],
      "text/plain": [
       "  mrate total   \n",
       "1 0.125 1.272369"
      ]
     },
     "metadata": {},
     "output_type": "display_data"
    }
   ],
   "source": [
    "fixed_data <- fiveVTS\n",
    "fixed_net_input <- fiveNet\n",
    "fixed_lags <- 2\n",
    "fixed_mindex <- FiveVTS_mindex\n",
    "\n",
    "results_df <- data.frame(mrate = numeric(),\n",
    "                         mse = numeric())\n",
    "\n",
    "total_length <- 0\n",
    "\n",
    "for (i in seq_along(fixed_mindex)) {\n",
    "  total_length <- total_length + length(fixed_mindex[[i]])\n",
    "}\n",
    "\n",
    "rate = total_length/(length(fixed_data[,])*0.8)\n",
    "\n",
    "results_df <- data.frame(mrate = rate,\n",
    "                         mse = block_cal_mse(fixed_data, fixed_net_input, fixed_lags, fixed_mindex)[2])\n",
    "results_df"
   ]
  },
  {
   "cell_type": "code",
   "execution_count": 1349,
   "id": "b289c539-b711-4254-8f3b-2078aa320445",
   "metadata": {},
   "outputs": [],
   "source": [
    "results_df['dataset'] = 'FiveVTS'\n",
    "results_df['method'] = 'GNAR'\n",
    "results_df['mtype'] = 'block'\n",
    "results_df['lags'] = fixed_lags\n",
    "results_df['nof_filters'] = NA\n",
    "results_df['inter_method'] = NA\n",
    "results_df['epoch'] = NA\n",
    "results_df['calculation_time'] = NA\n",
    "results_df['model'] = 'GNAR'\n",
    "colnames(results_df)[2] <- \"mse\"\n",
    "FiveVTS_block_results <- results_df"
   ]
  },
  {
   "cell_type": "markdown",
   "id": "574fced4-2bdf-42be-906c-ba00720f2cd1",
   "metadata": {},
   "source": [
    "# Chickenpox"
   ]
  },
  {
   "cell_type": "markdown",
   "id": "3babd9ef-0479-488f-b898-edfc12bc45cd",
   "metadata": {},
   "source": [
    "## random"
   ]
  },
  {
   "cell_type": "code",
   "execution_count": 1351,
   "id": "21e4095c-b7ac-4458-996c-daa37e9d7ff6",
   "metadata": {},
   "outputs": [],
   "source": [
    "Chickenpox<-read.csv('./data/Chickenpox.csv',header = TRUE)"
   ]
  },
  {
   "cell_type": "code",
   "execution_count": 1352,
   "id": "c2cc4d9a-78e0-4417-a236-4f814e834998",
   "metadata": {},
   "outputs": [],
   "source": [
    "Chickenpox_w<-read.csv('./data/Chickenpox_w.csv',header = FALSE)[2:21,2:21]"
   ]
  },
  {
   "cell_type": "code",
   "execution_count": 1385,
   "id": "f24bf55e-9aa4-47ba-a265-55716cdccc7f",
   "metadata": {},
   "outputs": [
    {
     "name": "stdout",
     "output_type": "stream",
     "text": [
      "WARNING: diagonal entries present in original matrix, these will be removed\n"
     ]
    },
    {
     "data": {
      "text/html": [
       "<table class=\"dataframe\">\n",
       "<caption>A data.frame: 9 × 2</caption>\n",
       "<thead>\n",
       "\t<tr><th scope=col>mrate</th><th scope=col>total</th></tr>\n",
       "\t<tr><th scope=col>&lt;dbl&gt;</th><th scope=col>&lt;dbl&gt;</th></tr>\n",
       "</thead>\n",
       "<tbody>\n",
       "\t<tr><td>0.0</td><td>1.016342</td></tr>\n",
       "\t<tr><td>0.1</td><td>1.016460</td></tr>\n",
       "\t<tr><td>0.2</td><td>1.015845</td></tr>\n",
       "\t<tr><td>0.3</td><td>1.018481</td></tr>\n",
       "\t<tr><td>0.4</td><td>1.020843</td></tr>\n",
       "\t<tr><td>0.5</td><td>1.019158</td></tr>\n",
       "\t<tr><td>0.6</td><td>1.021600</td></tr>\n",
       "\t<tr><td>0.7</td><td>1.021411</td></tr>\n",
       "\t<tr><td>0.8</td><td>1.020084</td></tr>\n",
       "</tbody>\n",
       "</table>\n"
      ],
      "text/latex": [
       "A data.frame: 9 × 2\n",
       "\\begin{tabular}{ll}\n",
       " mrate & total\\\\\n",
       " <dbl> & <dbl>\\\\\n",
       "\\hline\n",
       "\t 0.0 & 1.016342\\\\\n",
       "\t 0.1 & 1.016460\\\\\n",
       "\t 0.2 & 1.015845\\\\\n",
       "\t 0.3 & 1.018481\\\\\n",
       "\t 0.4 & 1.020843\\\\\n",
       "\t 0.5 & 1.019158\\\\\n",
       "\t 0.6 & 1.021600\\\\\n",
       "\t 0.7 & 1.021411\\\\\n",
       "\t 0.8 & 1.020084\\\\\n",
       "\\end{tabular}\n"
      ],
      "text/markdown": [
       "\n",
       "A data.frame: 9 × 2\n",
       "\n",
       "| mrate &lt;dbl&gt; | total &lt;dbl&gt; |\n",
       "|---|---|\n",
       "| 0.0 | 1.016342 |\n",
       "| 0.1 | 1.016460 |\n",
       "| 0.2 | 1.015845 |\n",
       "| 0.3 | 1.018481 |\n",
       "| 0.4 | 1.020843 |\n",
       "| 0.5 | 1.019158 |\n",
       "| 0.6 | 1.021600 |\n",
       "| 0.7 | 1.021411 |\n",
       "| 0.8 | 1.020084 |\n",
       "\n"
      ],
      "text/plain": [
       "  mrate total   \n",
       "1 0.0   1.016342\n",
       "2 0.1   1.016460\n",
       "3 0.2   1.015845\n",
       "4 0.3   1.018481\n",
       "5 0.4   1.020843\n",
       "6 0.5   1.019158\n",
       "7 0.6   1.021600\n",
       "8 0.7   1.021411\n",
       "9 0.8   1.020084"
      ]
     },
     "metadata": {},
     "output_type": "display_data"
    }
   ],
   "source": [
    "fixed_data <- as.matrix(Chickenpox[,2:ncol(Chickenpox)])\n",
    "fixed_net_input <- GNAR::matrixtoGNAR(as.matrix(Chickenpox_w))\n",
    "fixed_lags <- 4\n",
    "\n",
    "results_df <- data.frame(mrate = numeric(),\n",
    "                         mse = numeric())\n",
    "\n",
    "missing_rates <- c(0,0.1, 0.2, 0.3, 0.4, 0.5, 0.6, 0.7, 0.8)\n",
    "\n",
    "for (rate in missing_rates) {\n",
    "  result <- cal_mse(fixed_data, fixed_net_input, fixed_lags, rate)\n",
    "  results_df <- rbind(results_df, data.frame(mrate = rate, mse = result[2]))\n",
    "}\n",
    "results_df"
   ]
  },
  {
   "cell_type": "code",
   "execution_count": 1386,
   "id": "3dd891df-94e1-49ad-b18f-c9a75a52caf1",
   "metadata": {},
   "outputs": [],
   "source": [
    "results_df['dataset'] = 'Chickenpox'\n",
    "results_df['method'] = 'GNAR'\n",
    "results_df['mtype'] = 'rand'\n",
    "results_df['lags'] = fixed_lags\n",
    "results_df['nof_filters'] = NA\n",
    "results_df['inter_method'] = NA\n",
    "results_df['epoch'] = NA\n",
    "results_df['calculation_time'] = NA\n",
    "results_df['model'] = 'GNAR'\n",
    "colnames(results_df)[2] <- \"mse\"\n",
    "Chickenpox_results <- results_df"
   ]
  },
  {
   "cell_type": "markdown",
   "id": "e429b84a-6613-4bb3-94a7-9ac1364e559b",
   "metadata": {},
   "source": [
    "## block"
   ]
  },
  {
   "cell_type": "code",
   "execution_count": 1387,
   "id": "9e729126-ea69-462a-b183-0f1ccd5fb3f2",
   "metadata": {},
   "outputs": [],
   "source": [
    "Chickenpox_mindex <- fromJSON(\"Chickenpox_mindex.json\")"
   ]
  },
  {
   "cell_type": "code",
   "execution_count": 1388,
   "id": "22c04b9d-fe28-4de3-a183-fca9035c7d40",
   "metadata": {},
   "outputs": [
    {
     "name": "stdout",
     "output_type": "stream",
     "text": [
      "WARNING: diagonal entries present in original matrix, these will be removed\n"
     ]
    },
    {
     "data": {
      "text/html": [
       "<table class=\"dataframe\">\n",
       "<caption>A data.frame: 1 × 2</caption>\n",
       "<thead>\n",
       "\t<tr><th scope=col>mrate</th><th scope=col>total</th></tr>\n",
       "\t<tr><th scope=col>&lt;dbl&gt;</th><th scope=col>&lt;dbl&gt;</th></tr>\n",
       "</thead>\n",
       "<tbody>\n",
       "\t<tr><td>0.2884615</td><td>1.017119</td></tr>\n",
       "</tbody>\n",
       "</table>\n"
      ],
      "text/latex": [
       "A data.frame: 1 × 2\n",
       "\\begin{tabular}{ll}\n",
       " mrate & total\\\\\n",
       " <dbl> & <dbl>\\\\\n",
       "\\hline\n",
       "\t 0.2884615 & 1.017119\\\\\n",
       "\\end{tabular}\n"
      ],
      "text/markdown": [
       "\n",
       "A data.frame: 1 × 2\n",
       "\n",
       "| mrate &lt;dbl&gt; | total &lt;dbl&gt; |\n",
       "|---|---|\n",
       "| 0.2884615 | 1.017119 |\n",
       "\n"
      ],
      "text/plain": [
       "  mrate     total   \n",
       "1 0.2884615 1.017119"
      ]
     },
     "metadata": {},
     "output_type": "display_data"
    }
   ],
   "source": [
    "fixed_data <- as.matrix(Chickenpox[,2:ncol(Chickenpox)])\n",
    "fixed_net_input <- GNAR::matrixtoGNAR(as.matrix(Chickenpox_w))\n",
    "fixed_lags <- 4\n",
    "fixed_mindex <- Chickenpox_mindex\n",
    "\n",
    "total_length <- 0\n",
    "\n",
    "for (i in seq_along(fixed_mindex)) {\n",
    "  total_length <- total_length + length(fixed_mindex[[i]])\n",
    "}\n",
    "\n",
    "rate = total_length/(length(fixed_data[,])*0.8)\n",
    "\n",
    "results_df <- data.frame(mrate = rate,\n",
    "                         mse = block_cal_mse(fixed_data, fixed_net_input, fixed_lags, fixed_mindex)[2])\n",
    "results_df"
   ]
  },
  {
   "cell_type": "code",
   "execution_count": 1389,
   "id": "adcb04d7-e329-4ae2-bb7e-05fb30448870",
   "metadata": {},
   "outputs": [],
   "source": [
    "results_df['dataset'] = 'Chickenpox'\n",
    "results_df['method'] = 'GNAR'\n",
    "results_df['mtype'] = 'block'\n",
    "results_df['lags'] = fixed_lags\n",
    "results_df['nof_filters'] = NA\n",
    "results_df['inter_method'] = NA\n",
    "results_df['epoch'] = NA\n",
    "results_df['calculation_time'] = NA\n",
    "results_df['model'] = 'GNAR'\n",
    "colnames(results_df)[2] <- \"mse\"\n",
    "Chickenpox_block_results <- results_df"
   ]
  },
  {
   "cell_type": "markdown",
   "id": "35131ff6-fde3-4789-8e9c-3205dd389880",
   "metadata": {},
   "source": [
    "# PedalMe"
   ]
  },
  {
   "cell_type": "markdown",
   "id": "8ed2dd8e-2c58-4c2a-9cf7-e2693eb5c4eb",
   "metadata": {},
   "source": [
    "## random"
   ]
  },
  {
   "cell_type": "code",
   "execution_count": 1390,
   "id": "d4a68742-a740-49f8-b49a-4c7207f3eaeb",
   "metadata": {},
   "outputs": [],
   "source": [
    "PedalMe<-read.csv('./data/PedalMe.csv',header = TRUE)"
   ]
  },
  {
   "cell_type": "code",
   "execution_count": 1391,
   "id": "b498688d-9680-40c9-ada6-eef465ad31a6",
   "metadata": {},
   "outputs": [],
   "source": [
    "PedalMe_w<-read.csv('./data/PedalMe_w.csv',header = FALSE)[2:16,2:16]"
   ]
  },
  {
   "cell_type": "code",
   "execution_count": 1455,
   "id": "e83d960b-872c-480e-ac4b-1f6f18393479",
   "metadata": {},
   "outputs": [
    {
     "name": "stdout",
     "output_type": "stream",
     "text": [
      "WARNING: diagonal entries present in original matrix, these will be removed\n"
     ]
    },
    {
     "data": {
      "text/html": [
       "<table class=\"dataframe\">\n",
       "<caption>A data.frame: 9 × 2</caption>\n",
       "<thead>\n",
       "\t<tr><th scope=col>mrate</th><th scope=col>total</th></tr>\n",
       "\t<tr><th scope=col>&lt;dbl&gt;</th><th scope=col>&lt;dbl&gt;</th></tr>\n",
       "</thead>\n",
       "<tbody>\n",
       "\t<tr><td>0.0</td><td>0.5016028</td></tr>\n",
       "\t<tr><td>0.1</td><td>0.4971018</td></tr>\n",
       "\t<tr><td>0.2</td><td>0.5027820</td></tr>\n",
       "\t<tr><td>0.3</td><td>0.5148579</td></tr>\n",
       "\t<tr><td>0.4</td><td>0.5226205</td></tr>\n",
       "\t<tr><td>0.5</td><td>0.5917800</td></tr>\n",
       "\t<tr><td>0.6</td><td>0.4917371</td></tr>\n",
       "\t<tr><td>0.7</td><td>0.4917371</td></tr>\n",
       "\t<tr><td>0.8</td><td>0.4917371</td></tr>\n",
       "</tbody>\n",
       "</table>\n"
      ],
      "text/latex": [
       "A data.frame: 9 × 2\n",
       "\\begin{tabular}{ll}\n",
       " mrate & total\\\\\n",
       " <dbl> & <dbl>\\\\\n",
       "\\hline\n",
       "\t 0.0 & 0.5016028\\\\\n",
       "\t 0.1 & 0.4971018\\\\\n",
       "\t 0.2 & 0.5027820\\\\\n",
       "\t 0.3 & 0.5148579\\\\\n",
       "\t 0.4 & 0.5226205\\\\\n",
       "\t 0.5 & 0.5917800\\\\\n",
       "\t 0.6 & 0.4917371\\\\\n",
       "\t 0.7 & 0.4917371\\\\\n",
       "\t 0.8 & 0.4917371\\\\\n",
       "\\end{tabular}\n"
      ],
      "text/markdown": [
       "\n",
       "A data.frame: 9 × 2\n",
       "\n",
       "| mrate &lt;dbl&gt; | total &lt;dbl&gt; |\n",
       "|---|---|\n",
       "| 0.0 | 0.5016028 |\n",
       "| 0.1 | 0.4971018 |\n",
       "| 0.2 | 0.5027820 |\n",
       "| 0.3 | 0.5148579 |\n",
       "| 0.4 | 0.5226205 |\n",
       "| 0.5 | 0.5917800 |\n",
       "| 0.6 | 0.4917371 |\n",
       "| 0.7 | 0.4917371 |\n",
       "| 0.8 | 0.4917371 |\n",
       "\n"
      ],
      "text/plain": [
       "  mrate total    \n",
       "1 0.0   0.5016028\n",
       "2 0.1   0.4971018\n",
       "3 0.2   0.5027820\n",
       "4 0.3   0.5148579\n",
       "5 0.4   0.5226205\n",
       "6 0.5   0.5917800\n",
       "7 0.6   0.4917371\n",
       "8 0.7   0.4917371\n",
       "9 0.8   0.4917371"
      ]
     },
     "metadata": {},
     "output_type": "display_data"
    }
   ],
   "source": [
    "fixed_data <- as.matrix(PedalMe[,2:ncol(PedalMe)])\n",
    "fixed_net_input <- GNAR::matrixtoGNAR(as.matrix(PedalMe_w))\n",
    "fixed_lags <- 4\n",
    "\n",
    "results_df <- data.frame(mrate = numeric(),\n",
    "                         mse = numeric())\n",
    "\n",
    "missing_rates <- c(0,0.1, 0.2, 0.3, 0.4, 0.5, 0.6,0.7, 0.8) \n",
    "\n",
    "for (rate in missing_rates) {\n",
    "  result <- cal_mse(fixed_data, fixed_net_input, fixed_lags, rate)\n",
    "  results_df <- rbind(results_df, data.frame(mrate = rate, mse = result[2]))\n",
    "}\n",
    "results_df"
   ]
  },
  {
   "cell_type": "code",
   "execution_count": 1456,
   "id": "ed89cca0-fe6d-449e-bce7-b40659ac9114",
   "metadata": {},
   "outputs": [],
   "source": [
    "results_df['dataset'] = 'Pedalme'\n",
    "results_df['method'] = 'GNAR'\n",
    "results_df['mtype'] = 'rand'\n",
    "results_df['lags'] = fixed_lags\n",
    "results_df['nof_filters'] = NA\n",
    "results_df['inter_method'] = NA\n",
    "results_df['epoch'] = NA\n",
    "results_df['calculation_time'] = NA\n",
    "results_df['model'] = 'GNAR'\n",
    "colnames(results_df)[2] <- \"mse\"\n",
    "Pedalme_results <- results_df"
   ]
  },
  {
   "cell_type": "markdown",
   "id": "42d76cbf-5cbd-41ff-b3c0-85382f9a8fff",
   "metadata": {},
   "source": [
    "## block"
   ]
  },
  {
   "cell_type": "code",
   "execution_count": 1457,
   "id": "ee3ceebf-4197-484d-ad9a-f5fc4b365883",
   "metadata": {},
   "outputs": [],
   "source": [
    "Pedalme_mindex <- fromJSON(\"Pedalme_mindex.json\")"
   ]
  },
  {
   "cell_type": "code",
   "execution_count": 1458,
   "id": "1959fafd-b60e-4b40-a721-52c197f51754",
   "metadata": {},
   "outputs": [
    {
     "name": "stdout",
     "output_type": "stream",
     "text": [
      "WARNING: diagonal entries present in original matrix, these will be removed\n"
     ]
    },
    {
     "data": {
      "text/html": [
       "<table class=\"dataframe\">\n",
       "<caption>A data.frame: 1 × 2</caption>\n",
       "<thead>\n",
       "\t<tr><th scope=col>mrate</th><th scope=col>total</th></tr>\n",
       "\t<tr><th scope=col>&lt;dbl&gt;</th><th scope=col>&lt;dbl&gt;</th></tr>\n",
       "</thead>\n",
       "<tbody>\n",
       "\t<tr><td>0.2941176</td><td>0.4916068</td></tr>\n",
       "</tbody>\n",
       "</table>\n"
      ],
      "text/latex": [
       "A data.frame: 1 × 2\n",
       "\\begin{tabular}{ll}\n",
       " mrate & total\\\\\n",
       " <dbl> & <dbl>\\\\\n",
       "\\hline\n",
       "\t 0.2941176 & 0.4916068\\\\\n",
       "\\end{tabular}\n"
      ],
      "text/markdown": [
       "\n",
       "A data.frame: 1 × 2\n",
       "\n",
       "| mrate &lt;dbl&gt; | total &lt;dbl&gt; |\n",
       "|---|---|\n",
       "| 0.2941176 | 0.4916068 |\n",
       "\n"
      ],
      "text/plain": [
       "  mrate     total    \n",
       "1 0.2941176 0.4916068"
      ]
     },
     "metadata": {},
     "output_type": "display_data"
    }
   ],
   "source": [
    "fixed_data <- as.matrix(PedalMe[,2:ncol(PedalMe)])\n",
    "fixed_net_input <- GNAR::matrixtoGNAR(as.matrix(PedalMe_w))\n",
    "fixed_lags <- 4\n",
    "fixed_mindex <- Pedalme_mindex\n",
    "\n",
    "total_length <- 0\n",
    "\n",
    "for (i in seq_along(fixed_mindex)) {\n",
    "  total_length <- total_length + length(fixed_mindex[[i]])\n",
    "}\n",
    "\n",
    "rate = total_length/(length(fixed_data[,])*0.8)\n",
    "\n",
    "results_df <- data.frame(mrate = rate,\n",
    "                         mse = block_cal_mse(fixed_data, fixed_net_input, fixed_lags, fixed_mindex)[2])\n",
    "results_df"
   ]
  },
  {
   "cell_type": "code",
   "execution_count": 1459,
   "id": "fcd69572-2630-47f0-b5d2-c72332b2ba0d",
   "metadata": {},
   "outputs": [],
   "source": [
    "results_df['dataset'] = 'Pedalme'\n",
    "results_df['method'] = 'GNAR'\n",
    "results_df['mtype'] = 'block'\n",
    "results_df['lags'] = fixed_lags\n",
    "results_df['nof_filters'] = NA\n",
    "results_df['inter_method'] = NA\n",
    "results_df['epoch'] = NA\n",
    "results_df['calculation_time'] = NA\n",
    "results_df['model'] = 'GNAR'\n",
    "colnames(results_df)[2] <- \"mse\"\n",
    "Pedalme_block_results <- results_df"
   ]
  },
  {
   "cell_type": "markdown",
   "id": "c0e6bfea-47fb-4a36-9438-0aae60152791",
   "metadata": {},
   "source": [
    "# WikiMath"
   ]
  },
  {
   "cell_type": "markdown",
   "id": "898d06b7-9cd1-40ab-991e-4e43a85666c8",
   "metadata": {},
   "source": [
    "## random"
   ]
  },
  {
   "cell_type": "code",
   "execution_count": 17,
   "id": "0e6cc4ba-a9ff-40e9-8c4c-6cad2c1eac05",
   "metadata": {},
   "outputs": [],
   "source": [
    "WikiMath <- read.csv('./data/WikiMath.csv',header = TRUE)"
   ]
  },
  {
   "cell_type": "code",
   "execution_count": 18,
   "id": "0409837a-a90e-44fa-a956-9ad22b4e2907",
   "metadata": {},
   "outputs": [],
   "source": [
    "WikiMath_w<-read.csv('./data/WikiMath_w.csv',header = FALSE)[2:1069,2:1069]"
   ]
  },
  {
   "cell_type": "code",
   "execution_count": 1552,
   "id": "e307257c-89b0-497e-b50c-3b1552a1ec59",
   "metadata": {},
   "outputs": [
    {
     "data": {
      "text/html": [
       "<table class=\"dataframe\">\n",
       "<caption>A data.frame: 9 × 2</caption>\n",
       "<thead>\n",
       "\t<tr><th scope=col>mrate</th><th scope=col>total</th></tr>\n",
       "\t<tr><th scope=col>&lt;dbl&gt;</th><th scope=col>&lt;dbl&gt;</th></tr>\n",
       "</thead>\n",
       "<tbody>\n",
       "\t<tr><td>0.0</td><td>0.9022260</td></tr>\n",
       "\t<tr><td>0.1</td><td>0.9015769</td></tr>\n",
       "\t<tr><td>0.2</td><td>0.9015677</td></tr>\n",
       "\t<tr><td>0.3</td><td>0.9112567</td></tr>\n",
       "\t<tr><td>0.4</td><td>0.9576448</td></tr>\n",
       "\t<tr><td>0.5</td><td>0.9042646</td></tr>\n",
       "\t<tr><td>0.6</td><td>0.9465203</td></tr>\n",
       "\t<tr><td>0.7</td><td>0.9607108</td></tr>\n",
       "\t<tr><td>0.8</td><td>2.0823862</td></tr>\n",
       "</tbody>\n",
       "</table>\n"
      ],
      "text/latex": [
       "A data.frame: 9 × 2\n",
       "\\begin{tabular}{ll}\n",
       " mrate & total\\\\\n",
       " <dbl> & <dbl>\\\\\n",
       "\\hline\n",
       "\t 0.0 & 0.9022260\\\\\n",
       "\t 0.1 & 0.9015769\\\\\n",
       "\t 0.2 & 0.9015677\\\\\n",
       "\t 0.3 & 0.9112567\\\\\n",
       "\t 0.4 & 0.9576448\\\\\n",
       "\t 0.5 & 0.9042646\\\\\n",
       "\t 0.6 & 0.9465203\\\\\n",
       "\t 0.7 & 0.9607108\\\\\n",
       "\t 0.8 & 2.0823862\\\\\n",
       "\\end{tabular}\n"
      ],
      "text/markdown": [
       "\n",
       "A data.frame: 9 × 2\n",
       "\n",
       "| mrate &lt;dbl&gt; | total &lt;dbl&gt; |\n",
       "|---|---|\n",
       "| 0.0 | 0.9022260 |\n",
       "| 0.1 | 0.9015769 |\n",
       "| 0.2 | 0.9015677 |\n",
       "| 0.3 | 0.9112567 |\n",
       "| 0.4 | 0.9576448 |\n",
       "| 0.5 | 0.9042646 |\n",
       "| 0.6 | 0.9465203 |\n",
       "| 0.7 | 0.9607108 |\n",
       "| 0.8 | 2.0823862 |\n",
       "\n"
      ],
      "text/plain": [
       "  mrate total    \n",
       "1 0.0   0.9022260\n",
       "2 0.1   0.9015769\n",
       "3 0.2   0.9015677\n",
       "4 0.3   0.9112567\n",
       "5 0.4   0.9576448\n",
       "6 0.5   0.9042646\n",
       "7 0.6   0.9465203\n",
       "8 0.7   0.9607108\n",
       "9 0.8   2.0823862"
      ]
     },
     "metadata": {},
     "output_type": "display_data"
    }
   ],
   "source": [
    "fixed_data <- as.matrix(WikiMath[,2:ncol(WikiMath)])\n",
    "fixed_net_input <- GNAR::matrixtoGNAR(as.matrix(WikiMath_w))\n",
    "fixed_lags <- 8\n",
    "\n",
    "results_df <- data.frame(mrate = numeric(),\n",
    "                         mse = numeric())\n",
    "\n",
    "missing_rates <- c(0, 0.1, 0.2, 0.3, 0.4, 0.5, 0.6, 0.7,0.8) \n",
    "\n",
    "for (rate in missing_rates) {\n",
    "  result <- cal_mse(fixed_data, fixed_net_input, fixed_lags, rate)\n",
    "  results_df <- rbind(results_df, data.frame(mrate = rate, mse = result[2]))\n",
    "}\n",
    "results_df"
   ]
  },
  {
   "cell_type": "code",
   "execution_count": 1554,
   "id": "16621eaf-9149-4cd8-b36b-cf82cd6ec35c",
   "metadata": {},
   "outputs": [
    {
     "data": {
      "text/html": [
       "<dl>\n",
       "\t<dt>$each</dt>\n",
       "\t\t<dd><style>\n",
       ".list-inline {list-style: none; margin:0; padding: 0}\n",
       ".list-inline>li {display: inline-block}\n",
       ".list-inline>li:not(:last-child)::after {content: \"\\00b7\"; padding: 0 .5ex}\n",
       "</style>\n",
       "<ol class=list-inline><li>0.716609198713466</li><li>0.33609587613803</li><li>1.53037835095656</li><li>0.571880746642037</li><li>0.679040279504007</li><li>0.86770944778941</li><li>0.94211227018673</li><li>1.23095352750805</li><li>0.255562766991466</li><li>1.41021788933164</li><li>1.11902155194291</li><li>0.120777688992921</li><li>0.351686917275931</li><li>1.03547247825773</li><li>0.387637099981085</li><li>1.67286280810398</li><li>0.645688480011486</li><li>1.0239900868632</li><li>0.470515111097122</li><li>1.39830664819096</li><li>0.527474807132737</li><li>0.8735963282032</li><li>3.91639405449372</li><li>0.809748710059726</li><li>1.52352969809872</li><li>0.954809969249318</li><li>0.59427155802543</li><li>1.07384103357951</li><li>1.16050099594077</li><li>0.812378842811124</li><li>0.0843670469492011</li><li>0.582886411165827</li><li>0.610941121703098</li><li>1.77501610902324</li><li>0.832188481120773</li><li>0.285547881469451</li><li>0.856793802022823</li><li>0.786179971570512</li><li>1.08285614539823</li><li>1.27673758653078</li><li>1.12110059423744</li><li>0.648071663993775</li><li>0.673979827782925</li><li>0.712715502627798</li><li>1.87262235868375</li><li>0.124200302121232</li><li>0.555950049342005</li><li>0.435166649123954</li><li>0.769617918273443</li><li>0.881959635622835</li><li>0.40965568736942</li><li>0.258821142109795</li><li>0.654369346322235</li><li>1.04090279257922</li><li>1.1061812648765</li><li>0.580818122343255</li><li>0.901648986229663</li><li>3.86663463586941</li><li>0.530337162741244</li><li>0.972110004768848</li><li>0.316786096508165</li><li>0.557853502271672</li><li>0.609346017318418</li><li>0.957185734279332</li><li>0.858951986864947</li><li>2.05441524669808</li><li>0.608148889786941</li><li>0.430581170395533</li><li>1.01848969890488</li><li>0.98091231232729</li><li>0.148007671286301</li><li>1.0140983318778</li><li>1.05590400538779</li><li>0.526744030480917</li><li>1.32274715512224</li><li>0.800076399591026</li><li>0.780419329492746</li><li>0.837919911530672</li><li>0.510269142256027</li><li>0.380425662220073</li><li>1.3354074181194</li><li>1.00353609488391</li><li>0.634746282337837</li><li>0.75538373153857</li><li>1.08267747622175</li><li>0.721353129770973</li><li>2.29833341248174</li><li>0.840687862825381</li><li>0.53197955558188</li><li>0.859597370162925</li><li>0.140911558911028</li><li>0.775918015624929</li><li>0.934127595127467</li><li>4.81659441445243</li><li>0.849270603708581</li><li>0.89518462647368</li><li>0.513747763885861</li><li>2.93268640121624</li><li>0.689600518459722</li><li>1.19716633239158</li><li>0.764706264091288</li><li>0.868973987146579</li><li>0.047803878277393</li><li>0.882096000730532</li><li>0.323349164491115</li><li>0.571788418695414</li><li>0.658809415081502</li><li>0.752118204284113</li><li>0.875370276588189</li><li>1.47330627824686</li><li>0.602764232570274</li><li>0.233449381706328</li><li>0.780511074509138</li><li>0.811033560447562</li><li>0.674502813846662</li><li>0.7035270579552</li><li>1.65561277428853</li><li>0.445694002432267</li><li>0.576280571354429</li><li>4.86089960991113</li><li>2.91953625762061</li><li>0.482472685195718</li><li>0.75937768636645</li><li>0.532684811665447</li><li>1.43877390431298</li><li>2.16968797831456</li><li>0.984545871282185</li><li>0.91300652208627</li><li>1.06506828687396</li><li>0.855820706557502</li><li>4.71409577579748</li><li>1.00157750328145</li><li>0.101630960191099</li><li>1.24809671179514</li><li>1.40404140237428</li><li>1.43001425203569</li><li>1.26345838051679</li><li>1.38900944820928</li><li>1.07859369234921</li><li>1.17680002849953</li><li>1.37956355323053</li><li>0.919415765822281</li><li>2.16635302006885</li><li>0.924647860287593</li><li>0.95160412994811</li><li>0.961890614683368</li><li>1.02526390898812</li><li>0.208856871449811</li><li>1.32637412731965</li><li>0.578110944837491</li><li>0.390815387419206</li><li>0.990828080366405</li><li>0.65009011038783</li><li>0.945613681421153</li><li>0.226257780983231</li><li>0.481419585393321</li><li>0.850413119654658</li><li>0.72740764355823</li><li>0.731942846393961</li><li>1.92466970254138</li><li>0.382486746204728</li><li>0.76315234207082</li><li>0.0718597166439553</li><li>0.689840302220608</li><li>0.725261906253108</li><li>2.19828457580681</li><li>0.713032222475787</li><li>1.06066009835845</li><li>0.950122183554527</li><li>0.832513810290847</li><li>1.06902081670756</li><li>1.07562044439096</li><li>1.10584501114595</li><li>1.22421444767378</li><li>1.13842887375702</li><li>1.13973299549623</li><li>0.230339952314396</li><li>1.11115013470241</li><li>0.46195868137291</li><li>1.10830054069493</li><li>1.29817313122251</li><li>1.48189061977968</li><li>0.80751856558624</li><li>1.21626445841625</li><li>0.741153133998466</li><li>0.203125911846464</li><li>0.176441956134648</li><li>1.57100644904887</li><li>0.966437057763941</li><li>1.14319556497267</li><li>0.42683159460263</li><li>0.0647526572400368</li><li>0.799270461868229</li><li>0.599104207041784</li><li>0.458284463056947</li><li>0.760188155933332</li><li>1.25520996051645</li><li>0.583448964829483</li><li>0.813062384305237</li><li>0.754284899404217</li><li>⋯</li><li>0.697955859318106</li><li>1.53669691458504</li><li>2.15427026921249</li><li>1.05215478575802</li><li>0.755996333589739</li><li>0.752391344045349</li><li>0.952999244134816</li><li>0.65022290631062</li><li>1.53130693382565</li><li>1.12748654628639</li><li>1.20101355963127</li><li>0.0309960306346116</li><li>0.944525884110296</li><li>1.10761766432827</li><li>0.75159012343607</li><li>0.896190135327401</li><li>0.994401883783327</li><li>1.04272794268577</li><li>1.13659142880185</li><li>0.0660217555838882</li><li>0.699505787828507</li><li>0.992829156878162</li><li>1.00644259533414</li><li>0.751505593277302</li><li>1.55225172014916</li><li>0.693480592173125</li><li>0.940830279548329</li><li>0.988240375939909</li><li>0.877339654041416</li><li>1.8235251154298</li><li>1.08650044617159</li><li>2.16099131770101</li><li>1.34855530956481</li><li>1.15891221923222</li><li>3.33667689311605</li><li>1.08364790578225</li><li>0.587025236923711</li><li>1.15126492545006</li><li>1.1006286052305</li><li>1.02170471989676</li><li>0.957584695293854</li><li>1.12917463081446</li><li>1.43451429818866</li><li>2.29768328517638</li><li>1.26495654234758</li><li>1.12700428127622</li><li>1.64870132771776</li><li>0.98970420928481</li><li>0.571926739880371</li><li>1.62611228891497</li><li>3.23341513250361</li><li>0.668506767349159</li><li>1.07165480982227</li><li>1.11966425997202</li><li>0.889983839323712</li><li>1.24165751028332</li><li>0.966998741092492</li><li>1.16278406509905</li><li>1.14097836096058</li><li>1.16522144346149</li><li>1.0860300190381</li><li>0.247258153630618</li><li>0.557565001553401</li><li>0.623533236941754</li><li>1.12342418170117</li><li>1.5662530469559</li><li>3.79612936903875</li><li>0.890922981852761</li><li>1.21709826359401</li><li>2.97377089052735</li><li>0.121058888506732</li><li>0.818712413769</li><li>1.55760969296228</li><li>0.983511868370858</li><li>1.42834253465713</li><li>0.921733315777211</li><li>1.43475256621052</li><li>3.05521455531098</li><li>1.62311927739587</li><li>0.950283562136222</li><li>0.868442377887097</li><li>0.976065423275205</li><li>1.0825975553536</li><li>1.18508081263065</li><li>1.4598259381772</li><li>0.979955186520481</li><li>0.538701552863407</li><li>0.560302846317376</li><li>0.852256196425593</li><li>0.0300515850478466</li><li>0.488045012537806</li><li>0.751230795407338</li><li>0.64773669434684</li><li>1.00260260215992</li><li>0.771623087693846</li><li>0.748727277845321</li><li>2.34971283879518</li><li>0.995665343619286</li><li>0.588550981672993</li><li>0.804453899499123</li><li>1.6505009570532</li><li>2.28619005542557</li><li>1.77678790956593</li><li>1.81424063290279</li><li>1.40194798042994</li><li>1.24860756789229</li><li>1.17171873015953</li><li>1.61764896527783</li><li>1.96787182948958</li><li>1.49340769589998</li><li>0.339972713394644</li><li>1.08263489564975</li><li>1.04456409052706</li><li>0.677565751940286</li><li>0.663654138266468</li><li>1.17761722029557</li><li>0.645235932540668</li><li>1.9706578676318</li><li>0.678863450562451</li><li>0.234007935845762</li><li>0.526479553352502</li><li>0.0618925072064546</li><li>0.657164807654459</li><li>0.970764689616877</li><li>1.82276552991008</li><li>1.1817841004251</li><li>1.23460918636633</li><li>0.208077108955954</li><li>0.769332625447758</li><li>1.19519699904218</li><li>0.630058052863272</li><li>0.213302594398992</li><li>0.733402264485352</li><li>1.23273490639081</li><li>0.829576664724567</li><li>1.38721343679162</li><li>0.99830304701413</li><li>2.32122057406262</li><li>0.922949061820402</li><li>0.879768028102588</li><li>0.802060420980154</li><li>0.762640473354771</li><li>1.00260902673512</li><li>0.880641658793471</li><li>0.730450466704234</li><li>0.921290521006903</li><li>1.02046008137591</li><li>0.869249656629914</li><li>0.397469310111113</li><li>0.99256260636637</li><li>1.34623152372177</li><li>1.3024012224266</li><li>1.11218317970622</li><li>0.512984037104919</li><li>1.14524041670286</li><li>1.9358048054551</li><li>1.04638149835417</li><li>0.702030711996353</li><li>0.0992750096847877</li><li>1.79196856023124</li><li>0.338303265368829</li><li>1.51159096558751</li><li>1.19710136273271</li><li>1.77819146141537</li><li>2.0189515577258</li><li>1.70834912264288</li><li>0.755020617721311</li><li>1.72113035592057</li><li>1.45949452351523</li><li>0.969483531581215</li><li>0.157800159186026</li><li>1.60326746487588</li><li>0.892675510555104</li><li>0.91589353977068</li><li>1.02158347282365</li><li>1.54213429744489</li><li>2.10179802757274</li><li>4.14301582046451</li><li>4.54408779433677</li><li>1.08628867684416</li><li>0.53056602036953</li><li>1.48744164551779</li><li>1.01136608836387</li><li>2.05227995737829</li><li>0.901246312316062</li><li>0.910533044323278</li><li>2.62245379674637</li><li>1.68613632105051</li><li>1.82987170071303</li><li>1.45787611888856</li><li>1.31785373680045</li><li>1.51940559359039</li><li>0.766634905868625</li><li>0.980903951366706</li><li>1.60991961277237</li><li>0.14880369415102</li><li>1.22030122763143</li><li>0.761199675590881</li><li>1.29544285764165</li><li>1.32105800531045</li></ol>\n",
       "</dd>\n",
       "\t<dt>$total</dt>\n",
       "\t\t<dd>1.07726145079173</dd>\n",
       "</dl>\n"
      ],
      "text/latex": [
       "\\begin{description}\n",
       "\\item[\\$each] \\begin{enumerate*}\n",
       "\\item 0.716609198713466\n",
       "\\item 0.33609587613803\n",
       "\\item 1.53037835095656\n",
       "\\item 0.571880746642037\n",
       "\\item 0.679040279504007\n",
       "\\item 0.86770944778941\n",
       "\\item 0.94211227018673\n",
       "\\item 1.23095352750805\n",
       "\\item 0.255562766991466\n",
       "\\item 1.41021788933164\n",
       "\\item 1.11902155194291\n",
       "\\item 0.120777688992921\n",
       "\\item 0.351686917275931\n",
       "\\item 1.03547247825773\n",
       "\\item 0.387637099981085\n",
       "\\item 1.67286280810398\n",
       "\\item 0.645688480011486\n",
       "\\item 1.0239900868632\n",
       "\\item 0.470515111097122\n",
       "\\item 1.39830664819096\n",
       "\\item 0.527474807132737\n",
       "\\item 0.8735963282032\n",
       "\\item 3.91639405449372\n",
       "\\item 0.809748710059726\n",
       "\\item 1.52352969809872\n",
       "\\item 0.954809969249318\n",
       "\\item 0.59427155802543\n",
       "\\item 1.07384103357951\n",
       "\\item 1.16050099594077\n",
       "\\item 0.812378842811124\n",
       "\\item 0.0843670469492011\n",
       "\\item 0.582886411165827\n",
       "\\item 0.610941121703098\n",
       "\\item 1.77501610902324\n",
       "\\item 0.832188481120773\n",
       "\\item 0.285547881469451\n",
       "\\item 0.856793802022823\n",
       "\\item 0.786179971570512\n",
       "\\item 1.08285614539823\n",
       "\\item 1.27673758653078\n",
       "\\item 1.12110059423744\n",
       "\\item 0.648071663993775\n",
       "\\item 0.673979827782925\n",
       "\\item 0.712715502627798\n",
       "\\item 1.87262235868375\n",
       "\\item 0.124200302121232\n",
       "\\item 0.555950049342005\n",
       "\\item 0.435166649123954\n",
       "\\item 0.769617918273443\n",
       "\\item 0.881959635622835\n",
       "\\item 0.40965568736942\n",
       "\\item 0.258821142109795\n",
       "\\item 0.654369346322235\n",
       "\\item 1.04090279257922\n",
       "\\item 1.1061812648765\n",
       "\\item 0.580818122343255\n",
       "\\item 0.901648986229663\n",
       "\\item 3.86663463586941\n",
       "\\item 0.530337162741244\n",
       "\\item 0.972110004768848\n",
       "\\item 0.316786096508165\n",
       "\\item 0.557853502271672\n",
       "\\item 0.609346017318418\n",
       "\\item 0.957185734279332\n",
       "\\item 0.858951986864947\n",
       "\\item 2.05441524669808\n",
       "\\item 0.608148889786941\n",
       "\\item 0.430581170395533\n",
       "\\item 1.01848969890488\n",
       "\\item 0.98091231232729\n",
       "\\item 0.148007671286301\n",
       "\\item 1.0140983318778\n",
       "\\item 1.05590400538779\n",
       "\\item 0.526744030480917\n",
       "\\item 1.32274715512224\n",
       "\\item 0.800076399591026\n",
       "\\item 0.780419329492746\n",
       "\\item 0.837919911530672\n",
       "\\item 0.510269142256027\n",
       "\\item 0.380425662220073\n",
       "\\item 1.3354074181194\n",
       "\\item 1.00353609488391\n",
       "\\item 0.634746282337837\n",
       "\\item 0.75538373153857\n",
       "\\item 1.08267747622175\n",
       "\\item 0.721353129770973\n",
       "\\item 2.29833341248174\n",
       "\\item 0.840687862825381\n",
       "\\item 0.53197955558188\n",
       "\\item 0.859597370162925\n",
       "\\item 0.140911558911028\n",
       "\\item 0.775918015624929\n",
       "\\item 0.934127595127467\n",
       "\\item 4.81659441445243\n",
       "\\item 0.849270603708581\n",
       "\\item 0.89518462647368\n",
       "\\item 0.513747763885861\n",
       "\\item 2.93268640121624\n",
       "\\item 0.689600518459722\n",
       "\\item 1.19716633239158\n",
       "\\item 0.764706264091288\n",
       "\\item 0.868973987146579\n",
       "\\item 0.047803878277393\n",
       "\\item 0.882096000730532\n",
       "\\item 0.323349164491115\n",
       "\\item 0.571788418695414\n",
       "\\item 0.658809415081502\n",
       "\\item 0.752118204284113\n",
       "\\item 0.875370276588189\n",
       "\\item 1.47330627824686\n",
       "\\item 0.602764232570274\n",
       "\\item 0.233449381706328\n",
       "\\item 0.780511074509138\n",
       "\\item 0.811033560447562\n",
       "\\item 0.674502813846662\n",
       "\\item 0.7035270579552\n",
       "\\item 1.65561277428853\n",
       "\\item 0.445694002432267\n",
       "\\item 0.576280571354429\n",
       "\\item 4.86089960991113\n",
       "\\item 2.91953625762061\n",
       "\\item 0.482472685195718\n",
       "\\item 0.75937768636645\n",
       "\\item 0.532684811665447\n",
       "\\item 1.43877390431298\n",
       "\\item 2.16968797831456\n",
       "\\item 0.984545871282185\n",
       "\\item 0.91300652208627\n",
       "\\item 1.06506828687396\n",
       "\\item 0.855820706557502\n",
       "\\item 4.71409577579748\n",
       "\\item 1.00157750328145\n",
       "\\item 0.101630960191099\n",
       "\\item 1.24809671179514\n",
       "\\item 1.40404140237428\n",
       "\\item 1.43001425203569\n",
       "\\item 1.26345838051679\n",
       "\\item 1.38900944820928\n",
       "\\item 1.07859369234921\n",
       "\\item 1.17680002849953\n",
       "\\item 1.37956355323053\n",
       "\\item 0.919415765822281\n",
       "\\item 2.16635302006885\n",
       "\\item 0.924647860287593\n",
       "\\item 0.95160412994811\n",
       "\\item 0.961890614683368\n",
       "\\item 1.02526390898812\n",
       "\\item 0.208856871449811\n",
       "\\item 1.32637412731965\n",
       "\\item 0.578110944837491\n",
       "\\item 0.390815387419206\n",
       "\\item 0.990828080366405\n",
       "\\item 0.65009011038783\n",
       "\\item 0.945613681421153\n",
       "\\item 0.226257780983231\n",
       "\\item 0.481419585393321\n",
       "\\item 0.850413119654658\n",
       "\\item 0.72740764355823\n",
       "\\item 0.731942846393961\n",
       "\\item 1.92466970254138\n",
       "\\item 0.382486746204728\n",
       "\\item 0.76315234207082\n",
       "\\item 0.0718597166439553\n",
       "\\item 0.689840302220608\n",
       "\\item 0.725261906253108\n",
       "\\item 2.19828457580681\n",
       "\\item 0.713032222475787\n",
       "\\item 1.06066009835845\n",
       "\\item 0.950122183554527\n",
       "\\item 0.832513810290847\n",
       "\\item 1.06902081670756\n",
       "\\item 1.07562044439096\n",
       "\\item 1.10584501114595\n",
       "\\item 1.22421444767378\n",
       "\\item 1.13842887375702\n",
       "\\item 1.13973299549623\n",
       "\\item 0.230339952314396\n",
       "\\item 1.11115013470241\n",
       "\\item 0.46195868137291\n",
       "\\item 1.10830054069493\n",
       "\\item 1.29817313122251\n",
       "\\item 1.48189061977968\n",
       "\\item 0.80751856558624\n",
       "\\item 1.21626445841625\n",
       "\\item 0.741153133998466\n",
       "\\item 0.203125911846464\n",
       "\\item 0.176441956134648\n",
       "\\item 1.57100644904887\n",
       "\\item 0.966437057763941\n",
       "\\item 1.14319556497267\n",
       "\\item 0.42683159460263\n",
       "\\item 0.0647526572400368\n",
       "\\item 0.799270461868229\n",
       "\\item 0.599104207041784\n",
       "\\item 0.458284463056947\n",
       "\\item 0.760188155933332\n",
       "\\item 1.25520996051645\n",
       "\\item 0.583448964829483\n",
       "\\item 0.813062384305237\n",
       "\\item 0.754284899404217\n",
       "\\item ⋯\n",
       "\\item 0.697955859318106\n",
       "\\item 1.53669691458504\n",
       "\\item 2.15427026921249\n",
       "\\item 1.05215478575802\n",
       "\\item 0.755996333589739\n",
       "\\item 0.752391344045349\n",
       "\\item 0.952999244134816\n",
       "\\item 0.65022290631062\n",
       "\\item 1.53130693382565\n",
       "\\item 1.12748654628639\n",
       "\\item 1.20101355963127\n",
       "\\item 0.0309960306346116\n",
       "\\item 0.944525884110296\n",
       "\\item 1.10761766432827\n",
       "\\item 0.75159012343607\n",
       "\\item 0.896190135327401\n",
       "\\item 0.994401883783327\n",
       "\\item 1.04272794268577\n",
       "\\item 1.13659142880185\n",
       "\\item 0.0660217555838882\n",
       "\\item 0.699505787828507\n",
       "\\item 0.992829156878162\n",
       "\\item 1.00644259533414\n",
       "\\item 0.751505593277302\n",
       "\\item 1.55225172014916\n",
       "\\item 0.693480592173125\n",
       "\\item 0.940830279548329\n",
       "\\item 0.988240375939909\n",
       "\\item 0.877339654041416\n",
       "\\item 1.8235251154298\n",
       "\\item 1.08650044617159\n",
       "\\item 2.16099131770101\n",
       "\\item 1.34855530956481\n",
       "\\item 1.15891221923222\n",
       "\\item 3.33667689311605\n",
       "\\item 1.08364790578225\n",
       "\\item 0.587025236923711\n",
       "\\item 1.15126492545006\n",
       "\\item 1.1006286052305\n",
       "\\item 1.02170471989676\n",
       "\\item 0.957584695293854\n",
       "\\item 1.12917463081446\n",
       "\\item 1.43451429818866\n",
       "\\item 2.29768328517638\n",
       "\\item 1.26495654234758\n",
       "\\item 1.12700428127622\n",
       "\\item 1.64870132771776\n",
       "\\item 0.98970420928481\n",
       "\\item 0.571926739880371\n",
       "\\item 1.62611228891497\n",
       "\\item 3.23341513250361\n",
       "\\item 0.668506767349159\n",
       "\\item 1.07165480982227\n",
       "\\item 1.11966425997202\n",
       "\\item 0.889983839323712\n",
       "\\item 1.24165751028332\n",
       "\\item 0.966998741092492\n",
       "\\item 1.16278406509905\n",
       "\\item 1.14097836096058\n",
       "\\item 1.16522144346149\n",
       "\\item 1.0860300190381\n",
       "\\item 0.247258153630618\n",
       "\\item 0.557565001553401\n",
       "\\item 0.623533236941754\n",
       "\\item 1.12342418170117\n",
       "\\item 1.5662530469559\n",
       "\\item 3.79612936903875\n",
       "\\item 0.890922981852761\n",
       "\\item 1.21709826359401\n",
       "\\item 2.97377089052735\n",
       "\\item 0.121058888506732\n",
       "\\item 0.818712413769\n",
       "\\item 1.55760969296228\n",
       "\\item 0.983511868370858\n",
       "\\item 1.42834253465713\n",
       "\\item 0.921733315777211\n",
       "\\item 1.43475256621052\n",
       "\\item 3.05521455531098\n",
       "\\item 1.62311927739587\n",
       "\\item 0.950283562136222\n",
       "\\item 0.868442377887097\n",
       "\\item 0.976065423275205\n",
       "\\item 1.0825975553536\n",
       "\\item 1.18508081263065\n",
       "\\item 1.4598259381772\n",
       "\\item 0.979955186520481\n",
       "\\item 0.538701552863407\n",
       "\\item 0.560302846317376\n",
       "\\item 0.852256196425593\n",
       "\\item 0.0300515850478466\n",
       "\\item 0.488045012537806\n",
       "\\item 0.751230795407338\n",
       "\\item 0.64773669434684\n",
       "\\item 1.00260260215992\n",
       "\\item 0.771623087693846\n",
       "\\item 0.748727277845321\n",
       "\\item 2.34971283879518\n",
       "\\item 0.995665343619286\n",
       "\\item 0.588550981672993\n",
       "\\item 0.804453899499123\n",
       "\\item 1.6505009570532\n",
       "\\item 2.28619005542557\n",
       "\\item 1.77678790956593\n",
       "\\item 1.81424063290279\n",
       "\\item 1.40194798042994\n",
       "\\item 1.24860756789229\n",
       "\\item 1.17171873015953\n",
       "\\item 1.61764896527783\n",
       "\\item 1.96787182948958\n",
       "\\item 1.49340769589998\n",
       "\\item 0.339972713394644\n",
       "\\item 1.08263489564975\n",
       "\\item 1.04456409052706\n",
       "\\item 0.677565751940286\n",
       "\\item 0.663654138266468\n",
       "\\item 1.17761722029557\n",
       "\\item 0.645235932540668\n",
       "\\item 1.9706578676318\n",
       "\\item 0.678863450562451\n",
       "\\item 0.234007935845762\n",
       "\\item 0.526479553352502\n",
       "\\item 0.0618925072064546\n",
       "\\item 0.657164807654459\n",
       "\\item 0.970764689616877\n",
       "\\item 1.82276552991008\n",
       "\\item 1.1817841004251\n",
       "\\item 1.23460918636633\n",
       "\\item 0.208077108955954\n",
       "\\item 0.769332625447758\n",
       "\\item 1.19519699904218\n",
       "\\item 0.630058052863272\n",
       "\\item 0.213302594398992\n",
       "\\item 0.733402264485352\n",
       "\\item 1.23273490639081\n",
       "\\item 0.829576664724567\n",
       "\\item 1.38721343679162\n",
       "\\item 0.99830304701413\n",
       "\\item 2.32122057406262\n",
       "\\item 0.922949061820402\n",
       "\\item 0.879768028102588\n",
       "\\item 0.802060420980154\n",
       "\\item 0.762640473354771\n",
       "\\item 1.00260902673512\n",
       "\\item 0.880641658793471\n",
       "\\item 0.730450466704234\n",
       "\\item 0.921290521006903\n",
       "\\item 1.02046008137591\n",
       "\\item 0.869249656629914\n",
       "\\item 0.397469310111113\n",
       "\\item 0.99256260636637\n",
       "\\item 1.34623152372177\n",
       "\\item 1.3024012224266\n",
       "\\item 1.11218317970622\n",
       "\\item 0.512984037104919\n",
       "\\item 1.14524041670286\n",
       "\\item 1.9358048054551\n",
       "\\item 1.04638149835417\n",
       "\\item 0.702030711996353\n",
       "\\item 0.0992750096847877\n",
       "\\item 1.79196856023124\n",
       "\\item 0.338303265368829\n",
       "\\item 1.51159096558751\n",
       "\\item 1.19710136273271\n",
       "\\item 1.77819146141537\n",
       "\\item 2.0189515577258\n",
       "\\item 1.70834912264288\n",
       "\\item 0.755020617721311\n",
       "\\item 1.72113035592057\n",
       "\\item 1.45949452351523\n",
       "\\item 0.969483531581215\n",
       "\\item 0.157800159186026\n",
       "\\item 1.60326746487588\n",
       "\\item 0.892675510555104\n",
       "\\item 0.91589353977068\n",
       "\\item 1.02158347282365\n",
       "\\item 1.54213429744489\n",
       "\\item 2.10179802757274\n",
       "\\item 4.14301582046451\n",
       "\\item 4.54408779433677\n",
       "\\item 1.08628867684416\n",
       "\\item 0.53056602036953\n",
       "\\item 1.48744164551779\n",
       "\\item 1.01136608836387\n",
       "\\item 2.05227995737829\n",
       "\\item 0.901246312316062\n",
       "\\item 0.910533044323278\n",
       "\\item 2.62245379674637\n",
       "\\item 1.68613632105051\n",
       "\\item 1.82987170071303\n",
       "\\item 1.45787611888856\n",
       "\\item 1.31785373680045\n",
       "\\item 1.51940559359039\n",
       "\\item 0.766634905868625\n",
       "\\item 0.980903951366706\n",
       "\\item 1.60991961277237\n",
       "\\item 0.14880369415102\n",
       "\\item 1.22030122763143\n",
       "\\item 0.761199675590881\n",
       "\\item 1.29544285764165\n",
       "\\item 1.32105800531045\n",
       "\\end{enumerate*}\n",
       "\n",
       "\\item[\\$total] 1.07726145079173\n",
       "\\end{description}\n"
      ],
      "text/markdown": [
       "$each\n",
       ":   1. 0.716609198713466\n",
       "2. 0.33609587613803\n",
       "3. 1.53037835095656\n",
       "4. 0.571880746642037\n",
       "5. 0.679040279504007\n",
       "6. 0.86770944778941\n",
       "7. 0.94211227018673\n",
       "8. 1.23095352750805\n",
       "9. 0.255562766991466\n",
       "10. 1.41021788933164\n",
       "11. 1.11902155194291\n",
       "12. 0.120777688992921\n",
       "13. 0.351686917275931\n",
       "14. 1.03547247825773\n",
       "15. 0.387637099981085\n",
       "16. 1.67286280810398\n",
       "17. 0.645688480011486\n",
       "18. 1.0239900868632\n",
       "19. 0.470515111097122\n",
       "20. 1.39830664819096\n",
       "21. 0.527474807132737\n",
       "22. 0.8735963282032\n",
       "23. 3.91639405449372\n",
       "24. 0.809748710059726\n",
       "25. 1.52352969809872\n",
       "26. 0.954809969249318\n",
       "27. 0.59427155802543\n",
       "28. 1.07384103357951\n",
       "29. 1.16050099594077\n",
       "30. 0.812378842811124\n",
       "31. 0.0843670469492011\n",
       "32. 0.582886411165827\n",
       "33. 0.610941121703098\n",
       "34. 1.77501610902324\n",
       "35. 0.832188481120773\n",
       "36. 0.285547881469451\n",
       "37. 0.856793802022823\n",
       "38. 0.786179971570512\n",
       "39. 1.08285614539823\n",
       "40. 1.27673758653078\n",
       "41. 1.12110059423744\n",
       "42. 0.648071663993775\n",
       "43. 0.673979827782925\n",
       "44. 0.712715502627798\n",
       "45. 1.87262235868375\n",
       "46. 0.124200302121232\n",
       "47. 0.555950049342005\n",
       "48. 0.435166649123954\n",
       "49. 0.769617918273443\n",
       "50. 0.881959635622835\n",
       "51. 0.40965568736942\n",
       "52. 0.258821142109795\n",
       "53. 0.654369346322235\n",
       "54. 1.04090279257922\n",
       "55. 1.1061812648765\n",
       "56. 0.580818122343255\n",
       "57. 0.901648986229663\n",
       "58. 3.86663463586941\n",
       "59. 0.530337162741244\n",
       "60. 0.972110004768848\n",
       "61. 0.316786096508165\n",
       "62. 0.557853502271672\n",
       "63. 0.609346017318418\n",
       "64. 0.957185734279332\n",
       "65. 0.858951986864947\n",
       "66. 2.05441524669808\n",
       "67. 0.608148889786941\n",
       "68. 0.430581170395533\n",
       "69. 1.01848969890488\n",
       "70. 0.98091231232729\n",
       "71. 0.148007671286301\n",
       "72. 1.0140983318778\n",
       "73. 1.05590400538779\n",
       "74. 0.526744030480917\n",
       "75. 1.32274715512224\n",
       "76. 0.800076399591026\n",
       "77. 0.780419329492746\n",
       "78. 0.837919911530672\n",
       "79. 0.510269142256027\n",
       "80. 0.380425662220073\n",
       "81. 1.3354074181194\n",
       "82. 1.00353609488391\n",
       "83. 0.634746282337837\n",
       "84. 0.75538373153857\n",
       "85. 1.08267747622175\n",
       "86. 0.721353129770973\n",
       "87. 2.29833341248174\n",
       "88. 0.840687862825381\n",
       "89. 0.53197955558188\n",
       "90. 0.859597370162925\n",
       "91. 0.140911558911028\n",
       "92. 0.775918015624929\n",
       "93. 0.934127595127467\n",
       "94. 4.81659441445243\n",
       "95. 0.849270603708581\n",
       "96. 0.89518462647368\n",
       "97. 0.513747763885861\n",
       "98. 2.93268640121624\n",
       "99. 0.689600518459722\n",
       "100. 1.19716633239158\n",
       "101. 0.764706264091288\n",
       "102. 0.868973987146579\n",
       "103. 0.047803878277393\n",
       "104. 0.882096000730532\n",
       "105. 0.323349164491115\n",
       "106. 0.571788418695414\n",
       "107. 0.658809415081502\n",
       "108. 0.752118204284113\n",
       "109. 0.875370276588189\n",
       "110. 1.47330627824686\n",
       "111. 0.602764232570274\n",
       "112. 0.233449381706328\n",
       "113. 0.780511074509138\n",
       "114. 0.811033560447562\n",
       "115. 0.674502813846662\n",
       "116. 0.7035270579552\n",
       "117. 1.65561277428853\n",
       "118. 0.445694002432267\n",
       "119. 0.576280571354429\n",
       "120. 4.86089960991113\n",
       "121. 2.91953625762061\n",
       "122. 0.482472685195718\n",
       "123. 0.75937768636645\n",
       "124. 0.532684811665447\n",
       "125. 1.43877390431298\n",
       "126. 2.16968797831456\n",
       "127. 0.984545871282185\n",
       "128. 0.91300652208627\n",
       "129. 1.06506828687396\n",
       "130. 0.855820706557502\n",
       "131. 4.71409577579748\n",
       "132. 1.00157750328145\n",
       "133. 0.101630960191099\n",
       "134. 1.24809671179514\n",
       "135. 1.40404140237428\n",
       "136. 1.43001425203569\n",
       "137. 1.26345838051679\n",
       "138. 1.38900944820928\n",
       "139. 1.07859369234921\n",
       "140. 1.17680002849953\n",
       "141. 1.37956355323053\n",
       "142. 0.919415765822281\n",
       "143. 2.16635302006885\n",
       "144. 0.924647860287593\n",
       "145. 0.95160412994811\n",
       "146. 0.961890614683368\n",
       "147. 1.02526390898812\n",
       "148. 0.208856871449811\n",
       "149. 1.32637412731965\n",
       "150. 0.578110944837491\n",
       "151. 0.390815387419206\n",
       "152. 0.990828080366405\n",
       "153. 0.65009011038783\n",
       "154. 0.945613681421153\n",
       "155. 0.226257780983231\n",
       "156. 0.481419585393321\n",
       "157. 0.850413119654658\n",
       "158. 0.72740764355823\n",
       "159. 0.731942846393961\n",
       "160. 1.92466970254138\n",
       "161. 0.382486746204728\n",
       "162. 0.76315234207082\n",
       "163. 0.0718597166439553\n",
       "164. 0.689840302220608\n",
       "165. 0.725261906253108\n",
       "166. 2.19828457580681\n",
       "167. 0.713032222475787\n",
       "168. 1.06066009835845\n",
       "169. 0.950122183554527\n",
       "170. 0.832513810290847\n",
       "171. 1.06902081670756\n",
       "172. 1.07562044439096\n",
       "173. 1.10584501114595\n",
       "174. 1.22421444767378\n",
       "175. 1.13842887375702\n",
       "176. 1.13973299549623\n",
       "177. 0.230339952314396\n",
       "178. 1.11115013470241\n",
       "179. 0.46195868137291\n",
       "180. 1.10830054069493\n",
       "181. 1.29817313122251\n",
       "182. 1.48189061977968\n",
       "183. 0.80751856558624\n",
       "184. 1.21626445841625\n",
       "185. 0.741153133998466\n",
       "186. 0.203125911846464\n",
       "187. 0.176441956134648\n",
       "188. 1.57100644904887\n",
       "189. 0.966437057763941\n",
       "190. 1.14319556497267\n",
       "191. 0.42683159460263\n",
       "192. 0.0647526572400368\n",
       "193. 0.799270461868229\n",
       "194. 0.599104207041784\n",
       "195. 0.458284463056947\n",
       "196. 0.760188155933332\n",
       "197. 1.25520996051645\n",
       "198. 0.583448964829483\n",
       "199. 0.813062384305237\n",
       "200. 0.754284899404217\n",
       "201. ⋯\n",
       "202. 0.697955859318106\n",
       "203. 1.53669691458504\n",
       "204. 2.15427026921249\n",
       "205. 1.05215478575802\n",
       "206. 0.755996333589739\n",
       "207. 0.752391344045349\n",
       "208. 0.952999244134816\n",
       "209. 0.65022290631062\n",
       "210. 1.53130693382565\n",
       "211. 1.12748654628639\n",
       "212. 1.20101355963127\n",
       "213. 0.0309960306346116\n",
       "214. 0.944525884110296\n",
       "215. 1.10761766432827\n",
       "216. 0.75159012343607\n",
       "217. 0.896190135327401\n",
       "218. 0.994401883783327\n",
       "219. 1.04272794268577\n",
       "220. 1.13659142880185\n",
       "221. 0.0660217555838882\n",
       "222. 0.699505787828507\n",
       "223. 0.992829156878162\n",
       "224. 1.00644259533414\n",
       "225. 0.751505593277302\n",
       "226. 1.55225172014916\n",
       "227. 0.693480592173125\n",
       "228. 0.940830279548329\n",
       "229. 0.988240375939909\n",
       "230. 0.877339654041416\n",
       "231. 1.8235251154298\n",
       "232. 1.08650044617159\n",
       "233. 2.16099131770101\n",
       "234. 1.34855530956481\n",
       "235. 1.15891221923222\n",
       "236. 3.33667689311605\n",
       "237. 1.08364790578225\n",
       "238. 0.587025236923711\n",
       "239. 1.15126492545006\n",
       "240. 1.1006286052305\n",
       "241. 1.02170471989676\n",
       "242. 0.957584695293854\n",
       "243. 1.12917463081446\n",
       "244. 1.43451429818866\n",
       "245. 2.29768328517638\n",
       "246. 1.26495654234758\n",
       "247. 1.12700428127622\n",
       "248. 1.64870132771776\n",
       "249. 0.98970420928481\n",
       "250. 0.571926739880371\n",
       "251. 1.62611228891497\n",
       "252. 3.23341513250361\n",
       "253. 0.668506767349159\n",
       "254. 1.07165480982227\n",
       "255. 1.11966425997202\n",
       "256. 0.889983839323712\n",
       "257. 1.24165751028332\n",
       "258. 0.966998741092492\n",
       "259. 1.16278406509905\n",
       "260. 1.14097836096058\n",
       "261. 1.16522144346149\n",
       "262. 1.0860300190381\n",
       "263. 0.247258153630618\n",
       "264. 0.557565001553401\n",
       "265. 0.623533236941754\n",
       "266. 1.12342418170117\n",
       "267. 1.5662530469559\n",
       "268. 3.79612936903875\n",
       "269. 0.890922981852761\n",
       "270. 1.21709826359401\n",
       "271. 2.97377089052735\n",
       "272. 0.121058888506732\n",
       "273. 0.818712413769\n",
       "274. 1.55760969296228\n",
       "275. 0.983511868370858\n",
       "276. 1.42834253465713\n",
       "277. 0.921733315777211\n",
       "278. 1.43475256621052\n",
       "279. 3.05521455531098\n",
       "280. 1.62311927739587\n",
       "281. 0.950283562136222\n",
       "282. 0.868442377887097\n",
       "283. 0.976065423275205\n",
       "284. 1.0825975553536\n",
       "285. 1.18508081263065\n",
       "286. 1.4598259381772\n",
       "287. 0.979955186520481\n",
       "288. 0.538701552863407\n",
       "289. 0.560302846317376\n",
       "290. 0.852256196425593\n",
       "291. 0.0300515850478466\n",
       "292. 0.488045012537806\n",
       "293. 0.751230795407338\n",
       "294. 0.64773669434684\n",
       "295. 1.00260260215992\n",
       "296. 0.771623087693846\n",
       "297. 0.748727277845321\n",
       "298. 2.34971283879518\n",
       "299. 0.995665343619286\n",
       "300. 0.588550981672993\n",
       "301. 0.804453899499123\n",
       "302. 1.6505009570532\n",
       "303. 2.28619005542557\n",
       "304. 1.77678790956593\n",
       "305. 1.81424063290279\n",
       "306. 1.40194798042994\n",
       "307. 1.24860756789229\n",
       "308. 1.17171873015953\n",
       "309. 1.61764896527783\n",
       "310. 1.96787182948958\n",
       "311. 1.49340769589998\n",
       "312. 0.339972713394644\n",
       "313. 1.08263489564975\n",
       "314. 1.04456409052706\n",
       "315. 0.677565751940286\n",
       "316. 0.663654138266468\n",
       "317. 1.17761722029557\n",
       "318. 0.645235932540668\n",
       "319. 1.9706578676318\n",
       "320. 0.678863450562451\n",
       "321. 0.234007935845762\n",
       "322. 0.526479553352502\n",
       "323. 0.0618925072064546\n",
       "324. 0.657164807654459\n",
       "325. 0.970764689616877\n",
       "326. 1.82276552991008\n",
       "327. 1.1817841004251\n",
       "328. 1.23460918636633\n",
       "329. 0.208077108955954\n",
       "330. 0.769332625447758\n",
       "331. 1.19519699904218\n",
       "332. 0.630058052863272\n",
       "333. 0.213302594398992\n",
       "334. 0.733402264485352\n",
       "335. 1.23273490639081\n",
       "336. 0.829576664724567\n",
       "337. 1.38721343679162\n",
       "338. 0.99830304701413\n",
       "339. 2.32122057406262\n",
       "340. 0.922949061820402\n",
       "341. 0.879768028102588\n",
       "342. 0.802060420980154\n",
       "343. 0.762640473354771\n",
       "344. 1.00260902673512\n",
       "345. 0.880641658793471\n",
       "346. 0.730450466704234\n",
       "347. 0.921290521006903\n",
       "348. 1.02046008137591\n",
       "349. 0.869249656629914\n",
       "350. 0.397469310111113\n",
       "351. 0.99256260636637\n",
       "352. 1.34623152372177\n",
       "353. 1.3024012224266\n",
       "354. 1.11218317970622\n",
       "355. 0.512984037104919\n",
       "356. 1.14524041670286\n",
       "357. 1.9358048054551\n",
       "358. 1.04638149835417\n",
       "359. 0.702030711996353\n",
       "360. 0.0992750096847877\n",
       "361. 1.79196856023124\n",
       "362. 0.338303265368829\n",
       "363. 1.51159096558751\n",
       "364. 1.19710136273271\n",
       "365. 1.77819146141537\n",
       "366. 2.0189515577258\n",
       "367. 1.70834912264288\n",
       "368. 0.755020617721311\n",
       "369. 1.72113035592057\n",
       "370. 1.45949452351523\n",
       "371. 0.969483531581215\n",
       "372. 0.157800159186026\n",
       "373. 1.60326746487588\n",
       "374. 0.892675510555104\n",
       "375. 0.91589353977068\n",
       "376. 1.02158347282365\n",
       "377. 1.54213429744489\n",
       "378. 2.10179802757274\n",
       "379. 4.14301582046451\n",
       "380. 4.54408779433677\n",
       "381. 1.08628867684416\n",
       "382. 0.53056602036953\n",
       "383. 1.48744164551779\n",
       "384. 1.01136608836387\n",
       "385. 2.05227995737829\n",
       "386. 0.901246312316062\n",
       "387. 0.910533044323278\n",
       "388. 2.62245379674637\n",
       "389. 1.68613632105051\n",
       "390. 1.82987170071303\n",
       "391. 1.45787611888856\n",
       "392. 1.31785373680045\n",
       "393. 1.51940559359039\n",
       "394. 0.766634905868625\n",
       "395. 0.980903951366706\n",
       "396. 1.60991961277237\n",
       "397. 0.14880369415102\n",
       "398. 1.22030122763143\n",
       "399. 0.761199675590881\n",
       "400. 1.29544285764165\n",
       "401. 1.32105800531045\n",
       "\n",
       "\n",
       "\n",
       "$total\n",
       ":   1.07726145079173\n",
       "\n",
       "\n"
      ],
      "text/plain": [
       "$each\n",
       "   [1] 0.71660920 0.33609588 1.53037835 0.57188075 0.67904028 0.86770945\n",
       "   [7] 0.94211227 1.23095353 0.25556277 1.41021789 1.11902155 0.12077769\n",
       "  [13] 0.35168692 1.03547248 0.38763710 1.67286281 0.64568848 1.02399009\n",
       "  [19] 0.47051511 1.39830665 0.52747481 0.87359633 3.91639405 0.80974871\n",
       "  [25] 1.52352970 0.95480997 0.59427156 1.07384103 1.16050100 0.81237884\n",
       "  [31] 0.08436705 0.58288641 0.61094112 1.77501611 0.83218848 0.28554788\n",
       "  [37] 0.85679380 0.78617997 1.08285615 1.27673759 1.12110059 0.64807166\n",
       "  [43] 0.67397983 0.71271550 1.87262236 0.12420030 0.55595005 0.43516665\n",
       "  [49] 0.76961792 0.88195964 0.40965569 0.25882114 0.65436935 1.04090279\n",
       "  [55] 1.10618126 0.58081812 0.90164899 3.86663464 0.53033716 0.97211000\n",
       "  [61] 0.31678610 0.55785350 0.60934602 0.95718573 0.85895199 2.05441525\n",
       "  [67] 0.60814889 0.43058117 1.01848970 0.98091231 0.14800767 1.01409833\n",
       "  [73] 1.05590401 0.52674403 1.32274716 0.80007640 0.78041933 0.83791991\n",
       "  [79] 0.51026914 0.38042566 1.33540742 1.00353609 0.63474628 0.75538373\n",
       "  [85] 1.08267748 0.72135313 2.29833341 0.84068786 0.53197956 0.85959737\n",
       "  [91] 0.14091156 0.77591802 0.93412760 4.81659441 0.84927060 0.89518463\n",
       "  [97] 0.51374776 2.93268640 0.68960052 1.19716633 0.76470626 0.86897399\n",
       " [103] 0.04780388 0.88209600 0.32334916 0.57178842 0.65880942 0.75211820\n",
       " [109] 0.87537028 1.47330628 0.60276423 0.23344938 0.78051107 0.81103356\n",
       " [115] 0.67450281 0.70352706 1.65561277 0.44569400 0.57628057 4.86089961\n",
       " [121] 2.91953626 0.48247269 0.75937769 0.53268481 1.43877390 2.16968798\n",
       " [127] 0.98454587 0.91300652 1.06506829 0.85582071 4.71409578 1.00157750\n",
       " [133] 0.10163096 1.24809671 1.40404140 1.43001425 1.26345838 1.38900945\n",
       " [139] 1.07859369 1.17680003 1.37956355 0.91941577 2.16635302 0.92464786\n",
       " [145] 0.95160413 0.96189061 1.02526391 0.20885687 1.32637413 0.57811094\n",
       " [151] 0.39081539 0.99082808 0.65009011 0.94561368 0.22625778 0.48141959\n",
       " [157] 0.85041312 0.72740764 0.73194285 1.92466970 0.38248675 0.76315234\n",
       " [163] 0.07185972 0.68984030 0.72526191 2.19828458 0.71303222 1.06066010\n",
       " [169] 0.95012218 0.83251381 1.06902082 1.07562044 1.10584501 1.22421445\n",
       " [175] 1.13842887 1.13973300 0.23033995 1.11115013 0.46195868 1.10830054\n",
       " [181] 1.29817313 1.48189062 0.80751857 1.21626446 0.74115313 0.20312591\n",
       " [187] 0.17644196 1.57100645 0.96643706 1.14319556 0.42683159 0.06475266\n",
       " [193] 0.79927046 0.59910421 0.45828446 0.76018816 1.25520996 0.58344896\n",
       " [199] 0.81306238 0.75428490 1.02752745 0.95402040 1.07577348 0.69238312\n",
       " [205] 1.07490766 0.94025223 0.60875796 2.07292587 0.96617355 0.74130278\n",
       " [211] 0.74626069 0.04431899 0.68837094 0.68684162 0.66449914 1.80682087\n",
       " [217] 0.09436692 0.34503255 1.67267173 0.99217006 0.35176753 0.72894682\n",
       " [223] 1.27555669 2.26718395 0.91914654 1.18042992 2.39825568 0.64465290\n",
       " [229] 0.58248515 0.73909313 0.85664360 0.71949733 0.46887161 0.83911827\n",
       " [235] 1.14995480 1.02933577 1.30662255 0.87519448 0.04188833 1.57082318\n",
       " [241] 0.06511363 0.92167752 1.42668962 1.05435031 1.46879326 0.52149085\n",
       " [247] 1.10695973 1.28927484 0.94865291 0.89184928 0.36456450 1.83915549\n",
       " [253] 0.84010170 0.57769680 0.79776814 0.78235034 0.90935727 1.41900398\n",
       " [259] 2.15925793 0.54376125 0.99547718 0.37733158 1.32702543 0.98634436\n",
       " [265] 1.06498797 1.65905978 0.89374655 1.15663272 0.85188898 0.81171327\n",
       " [271] 1.35073410 1.19473419 1.13771282 1.30413601 1.20715723 0.97055940\n",
       " [277] 0.47547999 0.84535422 0.65495293 1.10310720 1.24458576 0.76278818\n",
       " [283] 1.23596702 0.89281235 0.47991338 0.45096342 1.37678493 1.16905232\n",
       " [289] 0.84491799 4.26667736 0.48970845 0.92410680 0.68729775 1.05094219\n",
       " [295] 1.22006335 2.05566951 0.89729722 0.99384029 0.59127811 0.87022444\n",
       " [301] 0.76514600 0.79335960 0.51853568 1.24601602 1.61590579 1.10996958\n",
       " [307] 1.02263436 0.95806066 1.94661944 1.00303986 0.68701466 0.93257548\n",
       " [313] 0.67049992 0.55748482 0.96042899 0.82428931 0.87205426 0.68337896\n",
       " [319] 0.41161265 1.47370270 0.88393635 1.22760584 0.96709517 1.49210331\n",
       " [325] 0.65376335 1.06110942 0.87364728 0.13132670 0.82762377 2.47599952\n",
       " [331] 1.04379045 1.75300674 0.40302647 0.60249667 0.55591298 0.67184912\n",
       " [337] 0.74536242 0.65416622 1.34884119 0.10057161 1.15812232 0.79567765\n",
       " [343] 0.75406099 0.85775509 1.26921045 0.59332829 2.24072632 0.55971877\n",
       " [349] 1.17097293 1.04630910 0.53727608 0.25998703 1.03224269 1.12952415\n",
       " [355] 1.47182294 0.72333564 1.46100607 1.08836335 0.21980483 0.69572387\n",
       " [361] 0.43592601 0.16043240 3.92958624 0.50178905 0.34173607 1.17397465\n",
       " [367] 0.74226339 1.27659527 0.19849048 1.06690874 1.99119787 0.85689181\n",
       " [373] 0.89229890 0.72568071 1.30167655 0.64575748 1.34018454 2.66764476\n",
       " [379] 1.22783639 0.99675418 1.10291892 0.71227829 0.05759099 1.02608559\n",
       " [385] 0.82984406 0.27245721 2.95053585 0.73300171 0.11468133 0.58191317\n",
       " [391] 1.66270147 0.73287464 0.55264780 0.57475544 0.69087819 1.73772485\n",
       " [397] 1.19010743 0.97571943 0.62764907 0.94379495 0.74097779 0.99700092\n",
       " [403] 4.85166460 0.79492818 4.85283358 0.62464510 0.59625946 1.13638238\n",
       " [409] 1.52791421 0.82847276 0.82210854 1.29569948 0.93482495 0.92761558\n",
       " [415] 0.83349279 0.67256395 0.31030062 0.86108872 0.85682285 0.86585954\n",
       " [421] 0.06841490 0.09495491 0.73940555 0.60561261 0.73171115 0.84067784\n",
       " [427] 0.69040585 0.76647539 0.85315564 0.92595701 0.48646610 0.60929089\n",
       " [433] 0.70330930 0.61034266 0.87070753 0.86656642 0.15934602 0.60059423\n",
       " [439] 1.02136031 0.69120087 0.65551910 0.80122763 0.74368546 0.77510360\n",
       " [445] 0.02617549 0.90619544 0.51276310 0.48949733 1.43014241 0.84787076\n",
       " [451] 0.88199981 0.34904287 0.38517833 0.92344122 0.80960877 0.72303862\n",
       " [457] 0.71718664 0.81887883 0.84109545 0.21930785 1.05272201 3.90379532\n",
       " [463] 1.04866846 0.22635421 0.48128506 1.54480464 1.37595733 0.79582266\n",
       " [469] 1.00125776 0.45748802 1.97773984 0.75508021 1.05427033 1.32707239\n",
       " [475] 1.60890588 2.18424907 0.36457828 4.36574728 1.12288355 0.60644333\n",
       " [481] 0.51399269 0.79409200 0.70279225 0.25866284 3.17081541 1.13330332\n",
       " [487] 0.60911198 0.98906659 0.25969784 0.22996464 0.79753902 0.85304758\n",
       " [493] 0.77349130 2.26459680 0.10535917 0.67326016 0.97697684 0.80655776\n",
       " [499] 3.71023106 0.87468233 0.67286914 0.82096399 1.38087789 0.89151225\n",
       " [505] 0.11412474 0.87688812 1.28165773 1.09680571 1.13675024 0.84506530\n",
       " [511] 0.41449034 4.24234954 0.46803684 0.84798194 1.59330915 0.90465034\n",
       " [517] 0.55449207 0.66467152 1.11246799 2.31547883 1.14567935 0.29734562\n",
       " [523] 0.94123015 0.29721483 1.10014103 1.23228386 0.73907035 1.14697214\n",
       " [529] 0.47588286 0.10396710 0.49164887 1.46379250 1.05513880 0.79864040\n",
       " [535] 0.88989606 1.17907667 0.69611873 0.83681776 1.12855111 1.64690272\n",
       " [541] 2.77591145 0.99244033 1.47151765 0.76335307 2.50953281 0.86703221\n",
       " [547] 0.90790432 4.99147001 1.14108669 0.65430732 0.20669853 0.77853396\n",
       " [553] 1.15194448 0.49886605 0.76552992 1.74426706 3.12585929 0.97929655\n",
       " [559] 0.73745131 1.05673402 1.20539633 1.02927438 1.53094862 1.05326242\n",
       " [565] 1.09100554 1.60328440 1.26323121 1.36218783 0.78877895 1.49743582\n",
       " [571] 1.45293624 1.59029084 1.52578329 0.97809044 1.40645820 1.95741714\n",
       " [577] 0.75246842 0.41158186 0.71341508 0.27949935 0.92277146 0.83219820\n",
       " [583] 1.20325192 2.94042417 0.87898284 0.79002865 0.69832170 1.08203895\n",
       " [589] 0.44915005 2.01618473 0.57835125 0.59336148 0.57300907 1.53946880\n",
       " [595] 0.82548035 1.10464490 0.58256903 0.53320570 2.58758271 0.27665053\n",
       " [601] 0.84841409 2.40316600 1.12264938 0.69018327 0.90048250 1.11656628\n",
       " [607] 0.93713358 0.98123686 0.65317924 3.36797234 2.21876903 2.15843532\n",
       " [613] 0.41537936 0.99701514 0.14024583 0.49637836 0.66622833 0.07181819\n",
       " [619] 1.02088731 1.13743880 1.48745952 0.83905087 0.40788541 1.47393356\n",
       " [625] 0.87657639 2.20286606 1.55599953 1.62361546 0.13674266 2.00281793\n",
       " [631] 1.11316963 1.35908088 0.87088735 1.36904865 1.68774300 0.61837728\n",
       " [637] 0.62789192 2.43836473 0.77348740 0.89867697 0.90220729 1.56695572\n",
       " [643] 1.70895050 1.32872593 1.22184306 1.09451598 0.36386725 0.97420397\n",
       " [649] 1.37375119 1.53697390 1.67925829 0.82130581 0.98407374 0.86913138\n",
       " [655] 0.48649386 0.90574196 0.94609866 1.40795043 1.20850196 0.43807463\n",
       " [661] 0.76581717 0.95264258 0.84060445 1.46980730 1.23345373 0.90926415\n",
       " [667] 0.95881056 1.01410819 1.16438335 1.34869247 1.46616445 0.77109750\n",
       " [673] 0.85044561 0.72607118 0.73379665 0.63341507 3.19737760 0.16527625\n",
       " [679] 0.90931583 1.47831415 1.71417931 0.83807037 3.00765665 1.36576079\n",
       " [685] 0.15679016 0.92856285 1.02215903 1.97196081 1.34762845 1.14786134\n",
       " [691] 1.01341661 0.81549110 0.76577624 0.30949187 0.97720435 0.96844061\n",
       " [697] 1.13719588 0.97558335 1.05845705 0.33432492 1.23813292 1.07351608\n",
       " [703] 1.30268941 1.06241222 2.12396301 0.38855521 0.81737171 4.75968259\n",
       " [709] 1.36897602 1.02179319 0.82827186 0.83414876 1.19796688 0.71465376\n",
       " [715] 4.30768633 0.95246835 0.68351663 1.46607248 0.56814820 1.22408009\n",
       " [721] 1.22234378 0.89972326 2.13440000 1.19591930 0.04259009 1.57837928\n",
       " [727] 1.39784068 1.17942167 1.17332771 3.39295224 3.82786572 2.46662667\n",
       " [733] 1.10032599 1.83440407 0.98123610 0.63421734 1.79094258 0.36679407\n",
       " [739] 0.90931794 1.28428187 3.09016218 2.98597099 0.32484522 0.15239889\n",
       " [745] 0.83493760 1.25143110 1.06346417 4.51803424 0.03948567 0.84993941\n",
       " [751] 0.87096294 1.02343564 0.17087275 0.84101887 0.04426469 0.88185923\n",
       " [757] 0.17936384 0.40042612 0.30024823 0.63362403 0.72868158 0.29150447\n",
       " [763] 1.08362983 2.63391467 0.51455548 0.86176695 1.33101321 0.41466052\n",
       " [769] 0.50907087 1.42512093 2.85160056 0.51985507 0.74917261 1.01061921\n",
       " [775] 0.46783069 0.87754024 1.28540773 0.76512071 1.88396555 4.29770835\n",
       " [781] 0.77970509 1.57649563 0.72620608 0.74108169 0.19786438 1.09164504\n",
       " [787] 0.11302324 0.64245034 0.72784153 0.91291115 0.84475729 3.15366529\n",
       " [793] 0.94841169 0.78599708 0.74262737 1.01576156 0.96872721 1.22577986\n",
       " [799] 1.45952490 1.58156227 0.82907515 1.37279060 1.78687514 0.63798422\n",
       " [805] 0.40016662 0.86817386 0.28556890 0.73952063 1.68466207 0.57584316\n",
       " [811] 1.01888228 1.10008905 1.71482563 1.46826592 1.14187934 0.76526621\n",
       " [817] 2.02516884 1.36941664 1.11354987 0.54027120 1.63614513 1.82197539\n",
       " [823] 1.51245601 0.60585917 1.63073176 1.46269366 1.49652187 1.35632945\n",
       " [829] 1.46316642 2.15241279 1.83625385 1.08190317 0.64363240 1.22947651\n",
       " [835] 1.55257473 0.91237947 0.61939331 1.08788251 0.64317562 0.44459414\n",
       " [841] 1.19471411 0.85689522 1.35453751 1.63226866 1.20992576 0.97499871\n",
       " [847] 1.37568020 1.07044097 0.96726587 1.05061678 1.16900540 0.67359194\n",
       " [853] 1.08911590 1.02411198 2.46678425 0.81491571 3.40016425 1.04126468\n",
       " [859] 0.31980911 0.37249183 0.85822442 0.61501668 1.06113801 0.78898945\n",
       " [865] 0.65722679 0.83747330 2.28076810 1.03348688 0.69795586 1.53669691\n",
       " [871] 2.15427027 1.05215479 0.75599633 0.75239134 0.95299924 0.65022291\n",
       " [877] 1.53130693 1.12748655 1.20101356 0.03099603 0.94452588 1.10761766\n",
       " [883] 0.75159012 0.89619014 0.99440188 1.04272794 1.13659143 0.06602176\n",
       " [889] 0.69950579 0.99282916 1.00644260 0.75150559 1.55225172 0.69348059\n",
       " [895] 0.94083028 0.98824038 0.87733965 1.82352512 1.08650045 2.16099132\n",
       " [901] 1.34855531 1.15891222 3.33667689 1.08364791 0.58702524 1.15126493\n",
       " [907] 1.10062861 1.02170472 0.95758470 1.12917463 1.43451430 2.29768329\n",
       " [913] 1.26495654 1.12700428 1.64870133 0.98970421 0.57192674 1.62611229\n",
       " [919] 3.23341513 0.66850677 1.07165481 1.11966426 0.88998384 1.24165751\n",
       " [925] 0.96699874 1.16278407 1.14097836 1.16522144 1.08603002 0.24725815\n",
       " [931] 0.55756500 0.62353324 1.12342418 1.56625305 3.79612937 0.89092298\n",
       " [937] 1.21709826 2.97377089 0.12105889 0.81871241 1.55760969 0.98351187\n",
       " [943] 1.42834253 0.92173332 1.43475257 3.05521456 1.62311928 0.95028356\n",
       " [949] 0.86844238 0.97606542 1.08259756 1.18508081 1.45982594 0.97995519\n",
       " [955] 0.53870155 0.56030285 0.85225620 0.03005159 0.48804501 0.75123080\n",
       " [961] 0.64773669 1.00260260 0.77162309 0.74872728 2.34971284 0.99566534\n",
       " [967] 0.58855098 0.80445390 1.65050096 2.28619006 1.77678791 1.81424063\n",
       " [973] 1.40194798 1.24860757 1.17171873 1.61764897 1.96787183 1.49340770\n",
       " [979] 0.33997271 1.08263490 1.04456409 0.67756575 0.66365414 1.17761722\n",
       " [985] 0.64523593 1.97065787 0.67886345 0.23400794 0.52647955 0.06189251\n",
       " [991] 0.65716481 0.97076469 1.82276553 1.18178410 1.23460919 0.20807711\n",
       " [997] 0.76933263 1.19519700 0.63005805 0.21330259 0.73340226 1.23273491\n",
       "[1003] 0.82957666 1.38721344 0.99830305 2.32122057 0.92294906 0.87976803\n",
       "[1009] 0.80206042 0.76264047 1.00260903 0.88064166 0.73045047 0.92129052\n",
       "[1015] 1.02046008 0.86924966 0.39746931 0.99256261 1.34623152 1.30240122\n",
       "[1021] 1.11218318 0.51298404 1.14524042 1.93580481 1.04638150 0.70203071\n",
       "[1027] 0.09927501 1.79196856 0.33830327 1.51159097 1.19710136 1.77819146\n",
       "[1033] 2.01895156 1.70834912 0.75502062 1.72113036 1.45949452 0.96948353\n",
       "[1039] 0.15780016 1.60326746 0.89267551 0.91589354 1.02158347 1.54213430\n",
       "[1045] 2.10179803 4.14301582 4.54408779 1.08628868 0.53056602 1.48744165\n",
       "[1051] 1.01136609 2.05227996 0.90124631 0.91053304 2.62245380 1.68613632\n",
       "[1057] 1.82987170 1.45787612 1.31785374 1.51940559 0.76663491 0.98090395\n",
       "[1063] 1.60991961 0.14880369 1.22030123 0.76119968 1.29544286 1.32105801\n",
       "\n",
       "$total\n",
       "[1] 1.077261\n"
      ]
     },
     "metadata": {},
     "output_type": "display_data"
    }
   ],
   "source": [
    "cal_mse(fixed_data, fixed_net_input, fixed_lags, 0.8)"
   ]
  },
  {
   "cell_type": "code",
   "execution_count": null,
   "id": "4c9f3f69-86d2-4ccf-913d-92a2d2f1a7f3",
   "metadata": {},
   "outputs": [],
   "source": [
    "results_df['dataset'] = 'Wikimath'\n",
    "results_df['method'] = 'GNAR'\n",
    "results_df['mtype'] = 'rand'\n",
    "results_df['lags'] = fixed_lags\n",
    "results_df['nof_filters'] = NA\n",
    "results_df['inter_method'] = NA\n",
    "results_df['epoch'] = NA\n",
    "results_df['calculation_time'] = NA\n",
    "results_df['model'] = 'GNAR'\n",
    "colnames(results_df)[2] <- \"mse\"\n",
    "Wikimath_results <- results_df"
   ]
  },
  {
   "cell_type": "markdown",
   "id": "91d2bff3-bb20-4bbb-9316-d90e9cd2ee7a",
   "metadata": {},
   "source": [
    "## block"
   ]
  },
  {
   "cell_type": "code",
   "execution_count": 19,
   "id": "bbbbaa02-01a1-47f3-9117-3a289e2c812b",
   "metadata": {},
   "outputs": [],
   "source": [
    "Wikimath_mindex <- fromJSON(\"./GNAR_weight_matrix/Wikimath_mindex.json\")"
   ]
  },
  {
   "cell_type": "code",
   "execution_count": 20,
   "id": "5d86da53-2339-4471-a3fc-4b1c66cfe0cc",
   "metadata": {},
   "outputs": [
    {
     "data": {
      "text/html": [
       "<table class=\"dataframe\">\n",
       "<caption>A data.frame: 1 × 2</caption>\n",
       "<thead>\n",
       "\t<tr><th scope=col>mrate</th><th scope=col>total</th></tr>\n",
       "\t<tr><th scope=col>&lt;dbl&gt;</th><th scope=col>&lt;dbl&gt;</th></tr>\n",
       "</thead>\n",
       "<tbody>\n",
       "\t<tr><td>0.6002771</td><td>0.9083379</td></tr>\n",
       "</tbody>\n",
       "</table>\n"
      ],
      "text/latex": [
       "A data.frame: 1 × 2\n",
       "\\begin{tabular}{ll}\n",
       " mrate & total\\\\\n",
       " <dbl> & <dbl>\\\\\n",
       "\\hline\n",
       "\t 0.6002771 & 0.9083379\\\\\n",
       "\\end{tabular}\n"
      ],
      "text/markdown": [
       "\n",
       "A data.frame: 1 × 2\n",
       "\n",
       "| mrate &lt;dbl&gt; | total &lt;dbl&gt; |\n",
       "|---|---|\n",
       "| 0.6002771 | 0.9083379 |\n",
       "\n"
      ],
      "text/plain": [
       "  mrate     total    \n",
       "1 0.6002771 0.9083379"
      ]
     },
     "metadata": {},
     "output_type": "display_data"
    }
   ],
   "source": [
    "fixed_data <- as.matrix(WikiMath[,2:ncol(WikiMath)])\n",
    "fixed_net_input <- GNAR::matrixtoGNAR(as.matrix(WikiMath_w))\n",
    "fixed_lags <- 8\n",
    "fixed_mindex <- Wikimath_mindex\n",
    "\n",
    "total_length <- 0\n",
    "\n",
    "for (i in seq_along(fixed_mindex)) {\n",
    "  total_length <- total_length + length(fixed_mindex[[i]])\n",
    "}\n",
    "\n",
    "rate = total_length/(length(fixed_data[,])*0.8)\n",
    "\n",
    "results_df <- data.frame(mrate = rate,\n",
    "                         mse = block_cal_mse(fixed_data, fixed_net_input, fixed_lags, fixed_mindex)[2])\n",
    "results_df"
   ]
  },
  {
   "cell_type": "code",
   "execution_count": 21,
   "id": "be667ccc-4ed6-4bed-8efd-54b21519e531",
   "metadata": {},
   "outputs": [],
   "source": [
    "results_df['dataset'] = 'Wikimath'\n",
    "results_df['method'] = 'GNAR'\n",
    "results_df['mtype'] = 'block'\n",
    "results_df['lags'] = fixed_lags\n",
    "results_df['nof_filters'] = NA\n",
    "results_df['inter_method'] = NA\n",
    "results_df['epoch'] = NA\n",
    "results_df['calculation_time'] = NA\n",
    "results_df['model'] = 'GNAR'\n",
    "colnames(results_df)[2] <- \"mse\"\n",
    "Wikimath_block_results <- results_df"
   ]
  },
  {
   "cell_type": "markdown",
   "id": "3dfd78f0-399c-435b-bba7-2204e2f818d8",
   "metadata": {},
   "source": [
    "# Windmillsmall"
   ]
  },
  {
   "cell_type": "markdown",
   "id": "523ff65d-2976-4732-ba60-5b061cb7f607",
   "metadata": {},
   "source": [
    "## random"
   ]
  },
  {
   "cell_type": "code",
   "execution_count": 9,
   "id": "984fb82a-9e60-497c-8317-e77494b630b2",
   "metadata": {},
   "outputs": [],
   "source": [
    "Windmillsmall<-read.csv('./data/Windmillsmall.csv',header = TRUE)"
   ]
  },
  {
   "cell_type": "code",
   "execution_count": 10,
   "id": "913ff377-4620-4493-bc30-6e07e6b40018",
   "metadata": {},
   "outputs": [],
   "source": [
    "Windmillsmall_w<-read.csv('./data/Windmillsmall_w.csv',header = FALSE)[2:12,2:12]"
   ]
  },
  {
   "cell_type": "markdown",
   "id": "b0862b29-7086-4a73-847d-cdb91997f5a8",
   "metadata": {},
   "source": [
    "계속 오류남;;"
   ]
  },
  {
   "cell_type": "code",
   "execution_count": 885,
   "id": "4f1560e6-872f-4993-a5f2-9419b01241a4",
   "metadata": {},
   "outputs": [],
   "source": [
    "# fixed_data <- as.matrix(Windmillsmall[,2:ncol(Windmillsmall)])\n",
    "# fixed_net_input <- GNAR::matrixtoGNAR(as.matrix(Windmillsmall_w))\n",
    "# fixed_lags <- 8\n",
    "\n",
    "# results_df <- data.frame(mrate = numeric(),\n",
    "#                          mse = numeric())\n",
    "\n",
    "# missing_rates <- c(0,0.1, 0.2, 0.3, 0.4, 0.5, 0.6, 0.7,0.8) \n",
    "\n",
    "# for (rate in missing_rates) {\n",
    "#   result <- cal_mse(fixed_data, fixed_net_input, fixed_lags, rate)\n",
    "#   results_df <- rbind(results_df, data.frame(mrate = rate, mse = result))\n",
    "# }\n",
    "# results_df"
   ]
  },
  {
   "cell_type": "code",
   "execution_count": 1543,
   "id": "24c1a989-1683-41bb-a891-56be1635e353",
   "metadata": {},
   "outputs": [],
   "source": [
    "results_df <- data.frame(\n",
    "  mrate = c(0.8, 0.7, 0.6, 0.5, 0.4, 0.3, 0.2, 0.1, 0.0),\n",
    "  mse = c(0.980465007853614,0.980465007853614,0.980742615896619,0.980465007853614, 0.980529157673243, 0.980548927794843,0.980486712335988,0.980471934178215, 0.980486581012802)\n",
    ")"
   ]
  },
  {
   "cell_type": "code",
   "execution_count": 1544,
   "id": "d0d4feb8-9206-4a0a-8e74-b60cbb0efca6",
   "metadata": {},
   "outputs": [],
   "source": [
    "results_df['dataset'] = 'Windmillsmall'\n",
    "results_df['method'] = 'GNAR'\n",
    "results_df['mtype'] = 'rand'\n",
    "results_df['lags'] = fixed_lags\n",
    "results_df['nof_filters'] = NA\n",
    "results_df['inter_method'] = NA\n",
    "results_df['epoch'] = NA\n",
    "results_df['calculation_time'] = NA\n",
    "results_df['model'] = 'GNAR'\n",
    "colnames(results_df)[2] <- \"mse\"\n",
    "Windmillsmall_results <- results_df"
   ]
  },
  {
   "cell_type": "code",
   "execution_count": 1505,
   "id": "bec5a9ee-f48a-4c7a-b7a2-7b1ebb8dbc9c",
   "metadata": {},
   "outputs": [
    {
     "name": "stdout",
     "output_type": "stream",
     "text": [
      "WARNING: diagonal entries present in original matrix, these will be removed\n"
     ]
    }
   ],
   "source": [
    "fixed_data <- as.matrix(Windmillsmall[,2:ncol(Windmillsmall)])\n",
    "fixed_net_input <- GNAR::matrixtoGNAR(as.matrix(Windmillsmall_w))\n",
    "fixed_lags <- 8"
   ]
  },
  {
   "cell_type": "code",
   "execution_count": 1524,
   "id": "7e70c8c4-383d-4268-94c5-3a6c0b82fe69",
   "metadata": {},
   "outputs": [
    {
     "data": {
      "text/html": [
       "<strong>$total</strong> = 0.980465007853614"
      ],
      "text/latex": [
       "\\textbf{\\$total} = 0.980465007853614"
      ],
      "text/markdown": [
       "**$total** = 0.980465007853614"
      ],
      "text/plain": [
       "$total\n",
       "[1] 0.980465\n"
      ]
     },
     "metadata": {},
     "output_type": "display_data"
    }
   ],
   "source": [
    "cal_mse(fixed_data, fixed_net_input, fixed_lags, 0.8)[2]"
   ]
  },
  {
   "cell_type": "code",
   "execution_count": 1541,
   "id": "5e37e519-8a26-4303-942d-994aa199466a",
   "metadata": {},
   "outputs": [
    {
     "data": {
      "text/html": [
       "<strong>$total</strong> = 0.980465007853614"
      ],
      "text/latex": [
       "\\textbf{\\$total} = 0.980465007853614"
      ],
      "text/markdown": [
       "**$total** = 0.980465007853614"
      ],
      "text/plain": [
       "$total\n",
       "[1] 0.980465\n"
      ]
     },
     "metadata": {},
     "output_type": "display_data"
    }
   ],
   "source": [
    "cal_mse(fixed_data, fixed_net_input, fixed_lags, 0.7)[2]"
   ]
  },
  {
   "cell_type": "code",
   "execution_count": 1527,
   "id": "e40d9f44-0009-42da-8649-a19c63c8282a",
   "metadata": {},
   "outputs": [
    {
     "data": {
      "text/html": [
       "<strong>$total</strong> = 0.980742615896619"
      ],
      "text/latex": [
       "\\textbf{\\$total} = 0.980742615896619"
      ],
      "text/markdown": [
       "**$total** = 0.980742615896619"
      ],
      "text/plain": [
       "$total\n",
       "[1] 0.9807426\n"
      ]
     },
     "metadata": {},
     "output_type": "display_data"
    }
   ],
   "source": [
    "cal_mse(fixed_data, fixed_net_input, fixed_lags, 0.6)[2]"
   ]
  },
  {
   "cell_type": "code",
   "execution_count": 1512,
   "id": "e674425e-8b0a-405d-9ab2-64b2b65b4172",
   "metadata": {},
   "outputs": [
    {
     "data": {
      "text/html": [
       "<strong>$total</strong> = 0.980465007853614"
      ],
      "text/latex": [
       "\\textbf{\\$total} = 0.980465007853614"
      ],
      "text/markdown": [
       "**$total** = 0.980465007853614"
      ],
      "text/plain": [
       "$total\n",
       "[1] 0.980465\n"
      ]
     },
     "metadata": {},
     "output_type": "display_data"
    }
   ],
   "source": [
    "cal_mse(fixed_data, fixed_net_input, fixed_lags, 0.5)[2]"
   ]
  },
  {
   "cell_type": "code",
   "execution_count": 1511,
   "id": "177dab61-855e-41bb-9400-56139112e205",
   "metadata": {},
   "outputs": [
    {
     "data": {
      "text/html": [
       "<strong>$total</strong> = 0.980529157673243"
      ],
      "text/latex": [
       "\\textbf{\\$total} = 0.980529157673243"
      ],
      "text/markdown": [
       "**$total** = 0.980529157673243"
      ],
      "text/plain": [
       "$total\n",
       "[1] 0.9805292\n"
      ]
     },
     "metadata": {},
     "output_type": "display_data"
    }
   ],
   "source": [
    "cal_mse(fixed_data, fixed_net_input, fixed_lags, 0.4)[2]"
   ]
  },
  {
   "cell_type": "code",
   "execution_count": 1510,
   "id": "7fc8e99c-b129-411e-9531-54aa3332422f",
   "metadata": {},
   "outputs": [
    {
     "data": {
      "text/html": [
       "<strong>$total</strong> = 0.980548927794843"
      ],
      "text/latex": [
       "\\textbf{\\$total} = 0.980548927794843"
      ],
      "text/markdown": [
       "**$total** = 0.980548927794843"
      ],
      "text/plain": [
       "$total\n",
       "[1] 0.9805489\n"
      ]
     },
     "metadata": {},
     "output_type": "display_data"
    }
   ],
   "source": [
    "cal_mse(fixed_data, fixed_net_input, fixed_lags, 0.3)[2]"
   ]
  },
  {
   "cell_type": "code",
   "execution_count": 1509,
   "id": "c76bca82-6694-43ce-b81d-9a3482a164d6",
   "metadata": {},
   "outputs": [
    {
     "data": {
      "text/html": [
       "<strong>$total</strong> = 0.980486712335988"
      ],
      "text/latex": [
       "\\textbf{\\$total} = 0.980486712335988"
      ],
      "text/markdown": [
       "**$total** = 0.980486712335988"
      ],
      "text/plain": [
       "$total\n",
       "[1] 0.9804867\n"
      ]
     },
     "metadata": {},
     "output_type": "display_data"
    }
   ],
   "source": [
    "cal_mse(fixed_data, fixed_net_input, fixed_lags, 0.2)[2]"
   ]
  },
  {
   "cell_type": "code",
   "execution_count": 1508,
   "id": "7bebad4e-69ea-4d6f-9822-e12f5a43db2a",
   "metadata": {},
   "outputs": [
    {
     "data": {
      "text/html": [
       "<strong>$total</strong> = 0.980471934178215"
      ],
      "text/latex": [
       "\\textbf{\\$total} = 0.980471934178215"
      ],
      "text/markdown": [
       "**$total** = 0.980471934178215"
      ],
      "text/plain": [
       "$total\n",
       "[1] 0.9804719\n"
      ]
     },
     "metadata": {},
     "output_type": "display_data"
    }
   ],
   "source": [
    "cal_mse(fixed_data, fixed_net_input, fixed_lags, 0.1)[2]"
   ]
  },
  {
   "cell_type": "code",
   "execution_count": 1507,
   "id": "46229a5d-0c68-4efd-96ea-0b835449166f",
   "metadata": {},
   "outputs": [
    {
     "data": {
      "text/html": [
       "<strong>$total</strong> = 0.980486581012802"
      ],
      "text/latex": [
       "\\textbf{\\$total} = 0.980486581012802"
      ],
      "text/markdown": [
       "**$total** = 0.980486581012802"
      ],
      "text/plain": [
       "$total\n",
       "[1] 0.9804866\n"
      ]
     },
     "metadata": {},
     "output_type": "display_data"
    }
   ],
   "source": [
    "cal_mse(fixed_data, fixed_net_input, fixed_lags, 0)[2]"
   ]
  },
  {
   "cell_type": "markdown",
   "id": "44729402-9b9d-4768-a5cd-aa128a4fff63",
   "metadata": {},
   "source": [
    "## block"
   ]
  },
  {
   "cell_type": "code",
   "execution_count": 7,
   "id": "a07efc69-b992-4231-8090-a6b5a5518a95",
   "metadata": {},
   "outputs": [],
   "source": [
    "Windmillsmall_mindex <- fromJSON(\"Windmillsmall_mindex.json\")"
   ]
  },
  {
   "cell_type": "code",
   "execution_count": 11,
   "id": "c1ecbf79-57f8-4c2d-b767-6b132efa230b",
   "metadata": {},
   "outputs": [
    {
     "name": "stdout",
     "output_type": "stream",
     "text": [
      "WARNING: diagonal entries present in original matrix, these will be removed\n"
     ]
    },
    {
     "data": {
      "text/html": [
       "<table class=\"dataframe\">\n",
       "<caption>A data.frame: 1 × 2</caption>\n",
       "<thead>\n",
       "\t<tr><th scope=col>mrate</th><th scope=col>total</th></tr>\n",
       "\t<tr><th scope=col>&lt;dbl&gt;</th><th scope=col>&lt;dbl&gt;</th></tr>\n",
       "</thead>\n",
       "<tbody>\n",
       "\t<tr><td>0.2861885</td><td>0.9804698</td></tr>\n",
       "</tbody>\n",
       "</table>\n"
      ],
      "text/latex": [
       "A data.frame: 1 × 2\n",
       "\\begin{tabular}{ll}\n",
       " mrate & total\\\\\n",
       " <dbl> & <dbl>\\\\\n",
       "\\hline\n",
       "\t 0.2861885 & 0.9804698\\\\\n",
       "\\end{tabular}\n"
      ],
      "text/markdown": [
       "\n",
       "A data.frame: 1 × 2\n",
       "\n",
       "| mrate &lt;dbl&gt; | total &lt;dbl&gt; |\n",
       "|---|---|\n",
       "| 0.2861885 | 0.9804698 |\n",
       "\n"
      ],
      "text/plain": [
       "  mrate     total    \n",
       "1 0.2861885 0.9804698"
      ]
     },
     "metadata": {},
     "output_type": "display_data"
    }
   ],
   "source": [
    "fixed_data <- as.matrix(Windmillsmall[,2:ncol(Windmillsmall)])\n",
    "fixed_net_input <- GNAR::matrixtoGNAR(as.matrix(Windmillsmall_w))\n",
    "fixed_lags <- 8\n",
    "fixed_mindex <- Windmillsmall_mindex\n",
    "\n",
    "total_length <- 0\n",
    "\n",
    "for (i in seq_along(fixed_mindex)) {\n",
    "  total_length <- total_length + length(fixed_mindex[[i]])\n",
    "}\n",
    "\n",
    "rate = total_length/(length(fixed_data[,])*0.8)\n",
    "\n",
    "results_df <- data.frame(mrate = rate,\n",
    "                         mse = block_cal_mse(fixed_data, fixed_net_input, fixed_lags, fixed_mindex)[2])\n",
    "results_df"
   ]
  },
  {
   "cell_type": "code",
   "execution_count": 12,
   "id": "eaa26ae0-a8af-4fb8-9f33-bc321bb8fb14",
   "metadata": {},
   "outputs": [],
   "source": [
    "results_df['dataset'] = 'Windmillsmall'\n",
    "results_df['method'] = 'GNAR'\n",
    "results_df['mtype'] = 'block'\n",
    "results_df['lags'] = fixed_lags\n",
    "results_df['nof_filters'] = NA\n",
    "results_df['inter_method'] = NA\n",
    "results_df['epoch'] = NA\n",
    "results_df['calculation_time'] = NA\n",
    "results_df['model'] = 'GNAR'\n",
    "colnames(results_df)[2] <- \"mse\"\n",
    "Windmillsmall_block_results <- results_df"
   ]
  },
  {
   "cell_type": "markdown",
   "id": "e89a7a02-db59-4a21-986b-bb0a5e2c448c",
   "metadata": {},
   "source": [
    "# MontevideoBus"
   ]
  },
  {
   "cell_type": "markdown",
   "id": "4ed844d0-ae02-4a07-abf5-64175b2a8089",
   "metadata": {},
   "source": [
    "## random"
   ]
  },
  {
   "cell_type": "code",
   "execution_count": 877,
   "id": "1369de83-ec43-4b62-9b27-64dc092b9e3e",
   "metadata": {},
   "outputs": [],
   "source": [
    "MontevideoBus<-read.csv('./data/MontevideoBus.csv',header = TRUE)"
   ]
  },
  {
   "cell_type": "code",
   "execution_count": 878,
   "id": "6642a2c5-4d9e-41b1-acd1-111417d504e6",
   "metadata": {},
   "outputs": [],
   "source": [
    "MontevideoBus_w<-read.csv('./data/MontevideoBus_w.csv',header = FALSE)[2:676,2:676]"
   ]
  },
  {
   "cell_type": "code",
   "execution_count": 1498,
   "id": "641b42f8-5450-4f0a-8581-b0c78ddea6d9",
   "metadata": {},
   "outputs": [
    {
     "data": {
      "text/html": [
       "<table class=\"dataframe\">\n",
       "<caption>A data.frame: 9 × 2</caption>\n",
       "<thead>\n",
       "\t<tr><th scope=col>mrate</th><th scope=col>total</th></tr>\n",
       "\t<tr><th scope=col>&lt;dbl&gt;</th><th scope=col>&lt;dbl&gt;</th></tr>\n",
       "</thead>\n",
       "<tbody>\n",
       "\t<tr><td>0.0</td><td>1.002868</td></tr>\n",
       "\t<tr><td>0.1</td><td>1.002744</td></tr>\n",
       "\t<tr><td>0.2</td><td>1.002750</td></tr>\n",
       "\t<tr><td>0.3</td><td>1.002771</td></tr>\n",
       "\t<tr><td>0.4</td><td>1.001533</td></tr>\n",
       "\t<tr><td>0.5</td><td>1.002278</td></tr>\n",
       "\t<tr><td>0.6</td><td>1.002135</td></tr>\n",
       "\t<tr><td>0.7</td><td>1.003126</td></tr>\n",
       "\t<tr><td>0.8</td><td>1.003196</td></tr>\n",
       "</tbody>\n",
       "</table>\n"
      ],
      "text/latex": [
       "A data.frame: 9 × 2\n",
       "\\begin{tabular}{ll}\n",
       " mrate & total\\\\\n",
       " <dbl> & <dbl>\\\\\n",
       "\\hline\n",
       "\t 0.0 & 1.002868\\\\\n",
       "\t 0.1 & 1.002744\\\\\n",
       "\t 0.2 & 1.002750\\\\\n",
       "\t 0.3 & 1.002771\\\\\n",
       "\t 0.4 & 1.001533\\\\\n",
       "\t 0.5 & 1.002278\\\\\n",
       "\t 0.6 & 1.002135\\\\\n",
       "\t 0.7 & 1.003126\\\\\n",
       "\t 0.8 & 1.003196\\\\\n",
       "\\end{tabular}\n"
      ],
      "text/markdown": [
       "\n",
       "A data.frame: 9 × 2\n",
       "\n",
       "| mrate &lt;dbl&gt; | total &lt;dbl&gt; |\n",
       "|---|---|\n",
       "| 0.0 | 1.002868 |\n",
       "| 0.1 | 1.002744 |\n",
       "| 0.2 | 1.002750 |\n",
       "| 0.3 | 1.002771 |\n",
       "| 0.4 | 1.001533 |\n",
       "| 0.5 | 1.002278 |\n",
       "| 0.6 | 1.002135 |\n",
       "| 0.7 | 1.003126 |\n",
       "| 0.8 | 1.003196 |\n",
       "\n"
      ],
      "text/plain": [
       "  mrate total   \n",
       "1 0.0   1.002868\n",
       "2 0.1   1.002744\n",
       "3 0.2   1.002750\n",
       "4 0.3   1.002771\n",
       "5 0.4   1.001533\n",
       "6 0.5   1.002278\n",
       "7 0.6   1.002135\n",
       "8 0.7   1.003126\n",
       "9 0.8   1.003196"
      ]
     },
     "metadata": {},
     "output_type": "display_data"
    }
   ],
   "source": [
    "fixed_data <- as.matrix(MontevideoBus[,2:ncol(MontevideoBus)])\n",
    "fixed_net_input <- GNAR::matrixtoGNAR(as.matrix(MontevideoBus_w))\n",
    "fixed_lags <- 8\n",
    "\n",
    "results_df <- data.frame(mrate = numeric(),\n",
    "                         mse = numeric())\n",
    "\n",
    "missing_rates <- c(0,0.1, 0.2, 0.3, 0.4, 0.5, 0.6, 0.7,0.8) \n",
    "\n",
    "for (rate in missing_rates) {\n",
    "  result <- cal_mse(fixed_data, fixed_net_input, fixed_lags, rate)\n",
    "  results_df <- rbind(results_df, data.frame(mrate = rate, mse = result[2]))\n",
    "}\n",
    "results_df"
   ]
  },
  {
   "cell_type": "code",
   "execution_count": 1499,
   "id": "4a3872dc-3802-4161-a2db-5cc608773eb4",
   "metadata": {},
   "outputs": [],
   "source": [
    "results_df['dataset'] = 'MontevideoBus'\n",
    "results_df['method'] = 'GNAR'\n",
    "results_df['mtype'] = 'rand'\n",
    "results_df['lags'] = fixed_lags\n",
    "results_df['nof_filters'] = NA\n",
    "results_df['inter_method'] = NA\n",
    "results_df['epoch'] = NA\n",
    "results_df['calculation_time'] = NA\n",
    "results_df['model'] = 'GNAR'\n",
    "colnames(results_df)[2] <- \"mse\"\n",
    "MontevideoBus_results <- results_df"
   ]
  },
  {
   "cell_type": "markdown",
   "id": "aa55e92c-03e4-44b6-b531-ed8f711a5616",
   "metadata": {},
   "source": [
    "## block"
   ]
  },
  {
   "cell_type": "code",
   "execution_count": 1226,
   "id": "dcbc4a75-5daf-46d6-90b5-3145651796c7",
   "metadata": {},
   "outputs": [],
   "source": [
    "MontevideoBus_mindex <- fromJSON(\"MontevideoBus_mindex.json\")"
   ]
  },
  {
   "cell_type": "code",
   "execution_count": 1501,
   "id": "df300d62-88c5-495f-8b10-1840bb4f2565",
   "metadata": {},
   "outputs": [
    {
     "data": {
      "text/html": [
       "<table class=\"dataframe\">\n",
       "<caption>A data.frame: 1 × 2</caption>\n",
       "<thead>\n",
       "\t<tr><th scope=col>mrate</th><th scope=col>total</th></tr>\n",
       "\t<tr><th scope=col>&lt;dbl&gt;</th><th scope=col>&lt;dbl&gt;</th></tr>\n",
       "</thead>\n",
       "<tbody>\n",
       "\t<tr><td>0.1495439</td><td>1.002894</td></tr>\n",
       "</tbody>\n",
       "</table>\n"
      ],
      "text/latex": [
       "A data.frame: 1 × 2\n",
       "\\begin{tabular}{ll}\n",
       " mrate & total\\\\\n",
       " <dbl> & <dbl>\\\\\n",
       "\\hline\n",
       "\t 0.1495439 & 1.002894\\\\\n",
       "\\end{tabular}\n"
      ],
      "text/markdown": [
       "\n",
       "A data.frame: 1 × 2\n",
       "\n",
       "| mrate &lt;dbl&gt; | total &lt;dbl&gt; |\n",
       "|---|---|\n",
       "| 0.1495439 | 1.002894 |\n",
       "\n"
      ],
      "text/plain": [
       "  mrate     total   \n",
       "1 0.1495439 1.002894"
      ]
     },
     "metadata": {},
     "output_type": "display_data"
    }
   ],
   "source": [
    "fixed_data <- as.matrix(MontevideoBus[,2:ncol(MontevideoBus)])\n",
    "fixed_net_input <- GNAR::matrixtoGNAR(as.matrix(MontevideoBus_w))\n",
    "fixed_lags <- 8\n",
    "fixed_mindex <- MontevideoBus_mindex\n",
    "\n",
    "total_length <- 0\n",
    "\n",
    "for (i in seq_along(fixed_mindex)) {\n",
    "  total_length <- total_length + length(fixed_mindex[[i]])\n",
    "}\n",
    "\n",
    "rate = total_length/(length(fixed_data[,])*0.8)\n",
    "\n",
    "results_df <- data.frame(mrate = rate,\n",
    "                         mse = block_cal_mse(fixed_data, fixed_net_input, fixed_lags, fixed_mindex)[2])\n",
    "results_df"
   ]
  },
  {
   "cell_type": "code",
   "execution_count": 1502,
   "id": "1d502652-cce7-4c7d-a6ed-e92eaeeaac80",
   "metadata": {},
   "outputs": [],
   "source": [
    "results_df['dataset'] = 'MontevideoBus'\n",
    "results_df['method'] = 'GNAR'\n",
    "results_df['mtype'] = 'block'\n",
    "results_df['lags'] = fixed_lags\n",
    "results_df['nof_filters'] = NA\n",
    "results_df['inter_method'] = NA\n",
    "results_df['epoch'] = NA\n",
    "results_df['calculation_time'] = NA\n",
    "results_df['model'] = 'GNAR'\n",
    "colnames(results_df)[2] <- \"mse\"\n",
    "MontevideoBus_block_results <- results_df"
   ]
  },
  {
   "cell_type": "markdown",
   "id": "c5a1c2e9-898e-43f3-a4b7-d66d0852eeab",
   "metadata": {},
   "source": [
    "# Final Data"
   ]
  },
  {
   "cell_type": "code",
   "execution_count": 1563,
   "id": "eb7adff0-1ec3-44cf-b629-15507f3db048",
   "metadata": {},
   "outputs": [
    {
     "data": {
      "text/html": [
       "<table class=\"dataframe\">\n",
       "<caption>A data.frame: 54 × 11</caption>\n",
       "<thead>\n",
       "\t<tr><th scope=col>mrate</th><th scope=col>mse</th><th scope=col>dataset</th><th scope=col>method</th><th scope=col>mtype</th><th scope=col>lags</th><th scope=col>nof_filters</th><th scope=col>inter_method</th><th scope=col>epoch</th><th scope=col>calculation_time</th><th scope=col>model</th></tr>\n",
       "\t<tr><th scope=col>&lt;dbl&gt;</th><th scope=col>&lt;dbl&gt;</th><th scope=col>&lt;chr&gt;</th><th scope=col>&lt;chr&gt;</th><th scope=col>&lt;chr&gt;</th><th scope=col>&lt;dbl&gt;</th><th scope=col>&lt;lgl&gt;</th><th scope=col>&lt;lgl&gt;</th><th scope=col>&lt;lgl&gt;</th><th scope=col>&lt;lgl&gt;</th><th scope=col>&lt;chr&gt;</th></tr>\n",
       "</thead>\n",
       "<tbody>\n",
       "\t<tr><td>0.0</td><td>1.2577286</td><td>FiveVTS      </td><td>GNAR</td><td>rand</td><td>2</td><td>NA</td><td>NA</td><td>NA</td><td>NA</td><td>GNAR</td></tr>\n",
       "\t<tr><td>0.1</td><td>1.2527354</td><td>FiveVTS      </td><td>GNAR</td><td>rand</td><td>2</td><td>NA</td><td>NA</td><td>NA</td><td>NA</td><td>GNAR</td></tr>\n",
       "\t<tr><td>0.2</td><td>1.2655242</td><td>FiveVTS      </td><td>GNAR</td><td>rand</td><td>2</td><td>NA</td><td>NA</td><td>NA</td><td>NA</td><td>GNAR</td></tr>\n",
       "\t<tr><td>0.3</td><td>1.2509369</td><td>FiveVTS      </td><td>GNAR</td><td>rand</td><td>2</td><td>NA</td><td>NA</td><td>NA</td><td>NA</td><td>GNAR</td></tr>\n",
       "\t<tr><td>0.4</td><td>1.2714016</td><td>FiveVTS      </td><td>GNAR</td><td>rand</td><td>2</td><td>NA</td><td>NA</td><td>NA</td><td>NA</td><td>GNAR</td></tr>\n",
       "\t<tr><td>0.5</td><td>1.2787071</td><td>FiveVTS      </td><td>GNAR</td><td>rand</td><td>2</td><td>NA</td><td>NA</td><td>NA</td><td>NA</td><td>GNAR</td></tr>\n",
       "\t<tr><td>0.6</td><td>1.3015036</td><td>FiveVTS      </td><td>GNAR</td><td>rand</td><td>2</td><td>NA</td><td>NA</td><td>NA</td><td>NA</td><td>GNAR</td></tr>\n",
       "\t<tr><td>0.7</td><td>1.3015036</td><td>FiveVTS      </td><td>GNAR</td><td>rand</td><td>2</td><td>NA</td><td>NA</td><td>NA</td><td>NA</td><td>GNAR</td></tr>\n",
       "\t<tr><td>0.8</td><td>1.3015036</td><td>FiveVTS      </td><td>GNAR</td><td>rand</td><td>2</td><td>NA</td><td>NA</td><td>NA</td><td>NA</td><td>GNAR</td></tr>\n",
       "\t<tr><td>0.0</td><td>1.0163418</td><td>Chickenpox   </td><td>GNAR</td><td>rand</td><td>4</td><td>NA</td><td>NA</td><td>NA</td><td>NA</td><td>GNAR</td></tr>\n",
       "\t<tr><td>0.1</td><td>1.0164596</td><td>Chickenpox   </td><td>GNAR</td><td>rand</td><td>4</td><td>NA</td><td>NA</td><td>NA</td><td>NA</td><td>GNAR</td></tr>\n",
       "\t<tr><td>0.2</td><td>1.0158452</td><td>Chickenpox   </td><td>GNAR</td><td>rand</td><td>4</td><td>NA</td><td>NA</td><td>NA</td><td>NA</td><td>GNAR</td></tr>\n",
       "\t<tr><td>0.3</td><td>1.0184809</td><td>Chickenpox   </td><td>GNAR</td><td>rand</td><td>4</td><td>NA</td><td>NA</td><td>NA</td><td>NA</td><td>GNAR</td></tr>\n",
       "\t<tr><td>0.4</td><td>1.0208430</td><td>Chickenpox   </td><td>GNAR</td><td>rand</td><td>4</td><td>NA</td><td>NA</td><td>NA</td><td>NA</td><td>GNAR</td></tr>\n",
       "\t<tr><td>0.5</td><td>1.0191585</td><td>Chickenpox   </td><td>GNAR</td><td>rand</td><td>4</td><td>NA</td><td>NA</td><td>NA</td><td>NA</td><td>GNAR</td></tr>\n",
       "\t<tr><td>0.6</td><td>1.0216003</td><td>Chickenpox   </td><td>GNAR</td><td>rand</td><td>4</td><td>NA</td><td>NA</td><td>NA</td><td>NA</td><td>GNAR</td></tr>\n",
       "\t<tr><td>0.7</td><td>1.0214110</td><td>Chickenpox   </td><td>GNAR</td><td>rand</td><td>4</td><td>NA</td><td>NA</td><td>NA</td><td>NA</td><td>GNAR</td></tr>\n",
       "\t<tr><td>0.8</td><td>1.0200845</td><td>Chickenpox   </td><td>GNAR</td><td>rand</td><td>4</td><td>NA</td><td>NA</td><td>NA</td><td>NA</td><td>GNAR</td></tr>\n",
       "\t<tr><td>0.0</td><td>0.5016028</td><td>Pedalme      </td><td>GNAR</td><td>rand</td><td>4</td><td>NA</td><td>NA</td><td>NA</td><td>NA</td><td>GNAR</td></tr>\n",
       "\t<tr><td>0.1</td><td>0.4971018</td><td>Pedalme      </td><td>GNAR</td><td>rand</td><td>4</td><td>NA</td><td>NA</td><td>NA</td><td>NA</td><td>GNAR</td></tr>\n",
       "\t<tr><td>0.2</td><td>0.5027820</td><td>Pedalme      </td><td>GNAR</td><td>rand</td><td>4</td><td>NA</td><td>NA</td><td>NA</td><td>NA</td><td>GNAR</td></tr>\n",
       "\t<tr><td>0.3</td><td>0.5148579</td><td>Pedalme      </td><td>GNAR</td><td>rand</td><td>4</td><td>NA</td><td>NA</td><td>NA</td><td>NA</td><td>GNAR</td></tr>\n",
       "\t<tr><td>0.4</td><td>0.5226205</td><td>Pedalme      </td><td>GNAR</td><td>rand</td><td>4</td><td>NA</td><td>NA</td><td>NA</td><td>NA</td><td>GNAR</td></tr>\n",
       "\t<tr><td>0.5</td><td>0.5917800</td><td>Pedalme      </td><td>GNAR</td><td>rand</td><td>4</td><td>NA</td><td>NA</td><td>NA</td><td>NA</td><td>GNAR</td></tr>\n",
       "\t<tr><td>0.6</td><td>0.4917371</td><td>Pedalme      </td><td>GNAR</td><td>rand</td><td>4</td><td>NA</td><td>NA</td><td>NA</td><td>NA</td><td>GNAR</td></tr>\n",
       "\t<tr><td>0.7</td><td>0.4917371</td><td>Pedalme      </td><td>GNAR</td><td>rand</td><td>4</td><td>NA</td><td>NA</td><td>NA</td><td>NA</td><td>GNAR</td></tr>\n",
       "\t<tr><td>0.8</td><td>0.4917371</td><td>Pedalme      </td><td>GNAR</td><td>rand</td><td>4</td><td>NA</td><td>NA</td><td>NA</td><td>NA</td><td>GNAR</td></tr>\n",
       "\t<tr><td>0.0</td><td>0.9022260</td><td>Wikimath     </td><td>GNAR</td><td>rand</td><td>8</td><td>NA</td><td>NA</td><td>NA</td><td>NA</td><td>GNAR</td></tr>\n",
       "\t<tr><td>0.1</td><td>0.9015769</td><td>Wikimath     </td><td>GNAR</td><td>rand</td><td>8</td><td>NA</td><td>NA</td><td>NA</td><td>NA</td><td>GNAR</td></tr>\n",
       "\t<tr><td>0.2</td><td>0.9015677</td><td>Wikimath     </td><td>GNAR</td><td>rand</td><td>8</td><td>NA</td><td>NA</td><td>NA</td><td>NA</td><td>GNAR</td></tr>\n",
       "\t<tr><td>0.3</td><td>0.9112567</td><td>Wikimath     </td><td>GNAR</td><td>rand</td><td>8</td><td>NA</td><td>NA</td><td>NA</td><td>NA</td><td>GNAR</td></tr>\n",
       "\t<tr><td>0.4</td><td>0.9576448</td><td>Wikimath     </td><td>GNAR</td><td>rand</td><td>8</td><td>NA</td><td>NA</td><td>NA</td><td>NA</td><td>GNAR</td></tr>\n",
       "\t<tr><td>0.5</td><td>0.9042646</td><td>Wikimath     </td><td>GNAR</td><td>rand</td><td>8</td><td>NA</td><td>NA</td><td>NA</td><td>NA</td><td>GNAR</td></tr>\n",
       "\t<tr><td>0.6</td><td>0.9465203</td><td>Wikimath     </td><td>GNAR</td><td>rand</td><td>8</td><td>NA</td><td>NA</td><td>NA</td><td>NA</td><td>GNAR</td></tr>\n",
       "\t<tr><td>0.7</td><td>0.9607108</td><td>Wikimath     </td><td>GNAR</td><td>rand</td><td>8</td><td>NA</td><td>NA</td><td>NA</td><td>NA</td><td>GNAR</td></tr>\n",
       "\t<tr><td>0.8</td><td>1.0772615</td><td>Wikimath     </td><td>GNAR</td><td>rand</td><td>8</td><td>NA</td><td>NA</td><td>NA</td><td>NA</td><td>GNAR</td></tr>\n",
       "\t<tr><td>0.8</td><td>0.9804650</td><td>Windmillsmall</td><td>GNAR</td><td>rand</td><td>8</td><td>NA</td><td>NA</td><td>NA</td><td>NA</td><td>GNAR</td></tr>\n",
       "\t<tr><td>0.7</td><td>0.9804650</td><td>Windmillsmall</td><td>GNAR</td><td>rand</td><td>8</td><td>NA</td><td>NA</td><td>NA</td><td>NA</td><td>GNAR</td></tr>\n",
       "\t<tr><td>0.6</td><td>0.9807426</td><td>Windmillsmall</td><td>GNAR</td><td>rand</td><td>8</td><td>NA</td><td>NA</td><td>NA</td><td>NA</td><td>GNAR</td></tr>\n",
       "\t<tr><td>0.5</td><td>0.9804650</td><td>Windmillsmall</td><td>GNAR</td><td>rand</td><td>8</td><td>NA</td><td>NA</td><td>NA</td><td>NA</td><td>GNAR</td></tr>\n",
       "\t<tr><td>0.4</td><td>0.9805292</td><td>Windmillsmall</td><td>GNAR</td><td>rand</td><td>8</td><td>NA</td><td>NA</td><td>NA</td><td>NA</td><td>GNAR</td></tr>\n",
       "\t<tr><td>0.3</td><td>0.9805489</td><td>Windmillsmall</td><td>GNAR</td><td>rand</td><td>8</td><td>NA</td><td>NA</td><td>NA</td><td>NA</td><td>GNAR</td></tr>\n",
       "\t<tr><td>0.2</td><td>0.9804867</td><td>Windmillsmall</td><td>GNAR</td><td>rand</td><td>8</td><td>NA</td><td>NA</td><td>NA</td><td>NA</td><td>GNAR</td></tr>\n",
       "\t<tr><td>0.1</td><td>0.9804719</td><td>Windmillsmall</td><td>GNAR</td><td>rand</td><td>8</td><td>NA</td><td>NA</td><td>NA</td><td>NA</td><td>GNAR</td></tr>\n",
       "\t<tr><td>0.0</td><td>0.9804866</td><td>Windmillsmall</td><td>GNAR</td><td>rand</td><td>8</td><td>NA</td><td>NA</td><td>NA</td><td>NA</td><td>GNAR</td></tr>\n",
       "\t<tr><td>0.0</td><td>1.0028680</td><td>MontevideoBus</td><td>GNAR</td><td>rand</td><td>8</td><td>NA</td><td>NA</td><td>NA</td><td>NA</td><td>GNAR</td></tr>\n",
       "\t<tr><td>0.1</td><td>1.0027435</td><td>MontevideoBus</td><td>GNAR</td><td>rand</td><td>8</td><td>NA</td><td>NA</td><td>NA</td><td>NA</td><td>GNAR</td></tr>\n",
       "\t<tr><td>0.2</td><td>1.0027498</td><td>MontevideoBus</td><td>GNAR</td><td>rand</td><td>8</td><td>NA</td><td>NA</td><td>NA</td><td>NA</td><td>GNAR</td></tr>\n",
       "\t<tr><td>0.3</td><td>1.0027708</td><td>MontevideoBus</td><td>GNAR</td><td>rand</td><td>8</td><td>NA</td><td>NA</td><td>NA</td><td>NA</td><td>GNAR</td></tr>\n",
       "\t<tr><td>0.4</td><td>1.0015333</td><td>MontevideoBus</td><td>GNAR</td><td>rand</td><td>8</td><td>NA</td><td>NA</td><td>NA</td><td>NA</td><td>GNAR</td></tr>\n",
       "\t<tr><td>0.5</td><td>1.0022778</td><td>MontevideoBus</td><td>GNAR</td><td>rand</td><td>8</td><td>NA</td><td>NA</td><td>NA</td><td>NA</td><td>GNAR</td></tr>\n",
       "\t<tr><td>0.6</td><td>1.0021350</td><td>MontevideoBus</td><td>GNAR</td><td>rand</td><td>8</td><td>NA</td><td>NA</td><td>NA</td><td>NA</td><td>GNAR</td></tr>\n",
       "\t<tr><td>0.7</td><td>1.0031262</td><td>MontevideoBus</td><td>GNAR</td><td>rand</td><td>8</td><td>NA</td><td>NA</td><td>NA</td><td>NA</td><td>GNAR</td></tr>\n",
       "\t<tr><td>0.8</td><td>1.0031961</td><td>MontevideoBus</td><td>GNAR</td><td>rand</td><td>8</td><td>NA</td><td>NA</td><td>NA</td><td>NA</td><td>GNAR</td></tr>\n",
       "</tbody>\n",
       "</table>\n"
      ],
      "text/latex": [
       "A data.frame: 54 × 11\n",
       "\\begin{tabular}{lllllllllll}\n",
       " mrate & mse & dataset & method & mtype & lags & nof\\_filters & inter\\_method & epoch & calculation\\_time & model\\\\\n",
       " <dbl> & <dbl> & <chr> & <chr> & <chr> & <dbl> & <lgl> & <lgl> & <lgl> & <lgl> & <chr>\\\\\n",
       "\\hline\n",
       "\t 0.0 & 1.2577286 & FiveVTS       & GNAR & rand & 2 & NA & NA & NA & NA & GNAR\\\\\n",
       "\t 0.1 & 1.2527354 & FiveVTS       & GNAR & rand & 2 & NA & NA & NA & NA & GNAR\\\\\n",
       "\t 0.2 & 1.2655242 & FiveVTS       & GNAR & rand & 2 & NA & NA & NA & NA & GNAR\\\\\n",
       "\t 0.3 & 1.2509369 & FiveVTS       & GNAR & rand & 2 & NA & NA & NA & NA & GNAR\\\\\n",
       "\t 0.4 & 1.2714016 & FiveVTS       & GNAR & rand & 2 & NA & NA & NA & NA & GNAR\\\\\n",
       "\t 0.5 & 1.2787071 & FiveVTS       & GNAR & rand & 2 & NA & NA & NA & NA & GNAR\\\\\n",
       "\t 0.6 & 1.3015036 & FiveVTS       & GNAR & rand & 2 & NA & NA & NA & NA & GNAR\\\\\n",
       "\t 0.7 & 1.3015036 & FiveVTS       & GNAR & rand & 2 & NA & NA & NA & NA & GNAR\\\\\n",
       "\t 0.8 & 1.3015036 & FiveVTS       & GNAR & rand & 2 & NA & NA & NA & NA & GNAR\\\\\n",
       "\t 0.0 & 1.0163418 & Chickenpox    & GNAR & rand & 4 & NA & NA & NA & NA & GNAR\\\\\n",
       "\t 0.1 & 1.0164596 & Chickenpox    & GNAR & rand & 4 & NA & NA & NA & NA & GNAR\\\\\n",
       "\t 0.2 & 1.0158452 & Chickenpox    & GNAR & rand & 4 & NA & NA & NA & NA & GNAR\\\\\n",
       "\t 0.3 & 1.0184809 & Chickenpox    & GNAR & rand & 4 & NA & NA & NA & NA & GNAR\\\\\n",
       "\t 0.4 & 1.0208430 & Chickenpox    & GNAR & rand & 4 & NA & NA & NA & NA & GNAR\\\\\n",
       "\t 0.5 & 1.0191585 & Chickenpox    & GNAR & rand & 4 & NA & NA & NA & NA & GNAR\\\\\n",
       "\t 0.6 & 1.0216003 & Chickenpox    & GNAR & rand & 4 & NA & NA & NA & NA & GNAR\\\\\n",
       "\t 0.7 & 1.0214110 & Chickenpox    & GNAR & rand & 4 & NA & NA & NA & NA & GNAR\\\\\n",
       "\t 0.8 & 1.0200845 & Chickenpox    & GNAR & rand & 4 & NA & NA & NA & NA & GNAR\\\\\n",
       "\t 0.0 & 0.5016028 & Pedalme       & GNAR & rand & 4 & NA & NA & NA & NA & GNAR\\\\\n",
       "\t 0.1 & 0.4971018 & Pedalme       & GNAR & rand & 4 & NA & NA & NA & NA & GNAR\\\\\n",
       "\t 0.2 & 0.5027820 & Pedalme       & GNAR & rand & 4 & NA & NA & NA & NA & GNAR\\\\\n",
       "\t 0.3 & 0.5148579 & Pedalme       & GNAR & rand & 4 & NA & NA & NA & NA & GNAR\\\\\n",
       "\t 0.4 & 0.5226205 & Pedalme       & GNAR & rand & 4 & NA & NA & NA & NA & GNAR\\\\\n",
       "\t 0.5 & 0.5917800 & Pedalme       & GNAR & rand & 4 & NA & NA & NA & NA & GNAR\\\\\n",
       "\t 0.6 & 0.4917371 & Pedalme       & GNAR & rand & 4 & NA & NA & NA & NA & GNAR\\\\\n",
       "\t 0.7 & 0.4917371 & Pedalme       & GNAR & rand & 4 & NA & NA & NA & NA & GNAR\\\\\n",
       "\t 0.8 & 0.4917371 & Pedalme       & GNAR & rand & 4 & NA & NA & NA & NA & GNAR\\\\\n",
       "\t 0.0 & 0.9022260 & Wikimath      & GNAR & rand & 8 & NA & NA & NA & NA & GNAR\\\\\n",
       "\t 0.1 & 0.9015769 & Wikimath      & GNAR & rand & 8 & NA & NA & NA & NA & GNAR\\\\\n",
       "\t 0.2 & 0.9015677 & Wikimath      & GNAR & rand & 8 & NA & NA & NA & NA & GNAR\\\\\n",
       "\t 0.3 & 0.9112567 & Wikimath      & GNAR & rand & 8 & NA & NA & NA & NA & GNAR\\\\\n",
       "\t 0.4 & 0.9576448 & Wikimath      & GNAR & rand & 8 & NA & NA & NA & NA & GNAR\\\\\n",
       "\t 0.5 & 0.9042646 & Wikimath      & GNAR & rand & 8 & NA & NA & NA & NA & GNAR\\\\\n",
       "\t 0.6 & 0.9465203 & Wikimath      & GNAR & rand & 8 & NA & NA & NA & NA & GNAR\\\\\n",
       "\t 0.7 & 0.9607108 & Wikimath      & GNAR & rand & 8 & NA & NA & NA & NA & GNAR\\\\\n",
       "\t 0.8 & 1.0772615 & Wikimath      & GNAR & rand & 8 & NA & NA & NA & NA & GNAR\\\\\n",
       "\t 0.8 & 0.9804650 & Windmillsmall & GNAR & rand & 8 & NA & NA & NA & NA & GNAR\\\\\n",
       "\t 0.7 & 0.9804650 & Windmillsmall & GNAR & rand & 8 & NA & NA & NA & NA & GNAR\\\\\n",
       "\t 0.6 & 0.9807426 & Windmillsmall & GNAR & rand & 8 & NA & NA & NA & NA & GNAR\\\\\n",
       "\t 0.5 & 0.9804650 & Windmillsmall & GNAR & rand & 8 & NA & NA & NA & NA & GNAR\\\\\n",
       "\t 0.4 & 0.9805292 & Windmillsmall & GNAR & rand & 8 & NA & NA & NA & NA & GNAR\\\\\n",
       "\t 0.3 & 0.9805489 & Windmillsmall & GNAR & rand & 8 & NA & NA & NA & NA & GNAR\\\\\n",
       "\t 0.2 & 0.9804867 & Windmillsmall & GNAR & rand & 8 & NA & NA & NA & NA & GNAR\\\\\n",
       "\t 0.1 & 0.9804719 & Windmillsmall & GNAR & rand & 8 & NA & NA & NA & NA & GNAR\\\\\n",
       "\t 0.0 & 0.9804866 & Windmillsmall & GNAR & rand & 8 & NA & NA & NA & NA & GNAR\\\\\n",
       "\t 0.0 & 1.0028680 & MontevideoBus & GNAR & rand & 8 & NA & NA & NA & NA & GNAR\\\\\n",
       "\t 0.1 & 1.0027435 & MontevideoBus & GNAR & rand & 8 & NA & NA & NA & NA & GNAR\\\\\n",
       "\t 0.2 & 1.0027498 & MontevideoBus & GNAR & rand & 8 & NA & NA & NA & NA & GNAR\\\\\n",
       "\t 0.3 & 1.0027708 & MontevideoBus & GNAR & rand & 8 & NA & NA & NA & NA & GNAR\\\\\n",
       "\t 0.4 & 1.0015333 & MontevideoBus & GNAR & rand & 8 & NA & NA & NA & NA & GNAR\\\\\n",
       "\t 0.5 & 1.0022778 & MontevideoBus & GNAR & rand & 8 & NA & NA & NA & NA & GNAR\\\\\n",
       "\t 0.6 & 1.0021350 & MontevideoBus & GNAR & rand & 8 & NA & NA & NA & NA & GNAR\\\\\n",
       "\t 0.7 & 1.0031262 & MontevideoBus & GNAR & rand & 8 & NA & NA & NA & NA & GNAR\\\\\n",
       "\t 0.8 & 1.0031961 & MontevideoBus & GNAR & rand & 8 & NA & NA & NA & NA & GNAR\\\\\n",
       "\\end{tabular}\n"
      ],
      "text/markdown": [
       "\n",
       "A data.frame: 54 × 11\n",
       "\n",
       "| mrate &lt;dbl&gt; | mse &lt;dbl&gt; | dataset &lt;chr&gt; | method &lt;chr&gt; | mtype &lt;chr&gt; | lags &lt;dbl&gt; | nof_filters &lt;lgl&gt; | inter_method &lt;lgl&gt; | epoch &lt;lgl&gt; | calculation_time &lt;lgl&gt; | model &lt;chr&gt; |\n",
       "|---|---|---|---|---|---|---|---|---|---|---|\n",
       "| 0.0 | 1.2577286 | FiveVTS       | GNAR | rand | 2 | NA | NA | NA | NA | GNAR |\n",
       "| 0.1 | 1.2527354 | FiveVTS       | GNAR | rand | 2 | NA | NA | NA | NA | GNAR |\n",
       "| 0.2 | 1.2655242 | FiveVTS       | GNAR | rand | 2 | NA | NA | NA | NA | GNAR |\n",
       "| 0.3 | 1.2509369 | FiveVTS       | GNAR | rand | 2 | NA | NA | NA | NA | GNAR |\n",
       "| 0.4 | 1.2714016 | FiveVTS       | GNAR | rand | 2 | NA | NA | NA | NA | GNAR |\n",
       "| 0.5 | 1.2787071 | FiveVTS       | GNAR | rand | 2 | NA | NA | NA | NA | GNAR |\n",
       "| 0.6 | 1.3015036 | FiveVTS       | GNAR | rand | 2 | NA | NA | NA | NA | GNAR |\n",
       "| 0.7 | 1.3015036 | FiveVTS       | GNAR | rand | 2 | NA | NA | NA | NA | GNAR |\n",
       "| 0.8 | 1.3015036 | FiveVTS       | GNAR | rand | 2 | NA | NA | NA | NA | GNAR |\n",
       "| 0.0 | 1.0163418 | Chickenpox    | GNAR | rand | 4 | NA | NA | NA | NA | GNAR |\n",
       "| 0.1 | 1.0164596 | Chickenpox    | GNAR | rand | 4 | NA | NA | NA | NA | GNAR |\n",
       "| 0.2 | 1.0158452 | Chickenpox    | GNAR | rand | 4 | NA | NA | NA | NA | GNAR |\n",
       "| 0.3 | 1.0184809 | Chickenpox    | GNAR | rand | 4 | NA | NA | NA | NA | GNAR |\n",
       "| 0.4 | 1.0208430 | Chickenpox    | GNAR | rand | 4 | NA | NA | NA | NA | GNAR |\n",
       "| 0.5 | 1.0191585 | Chickenpox    | GNAR | rand | 4 | NA | NA | NA | NA | GNAR |\n",
       "| 0.6 | 1.0216003 | Chickenpox    | GNAR | rand | 4 | NA | NA | NA | NA | GNAR |\n",
       "| 0.7 | 1.0214110 | Chickenpox    | GNAR | rand | 4 | NA | NA | NA | NA | GNAR |\n",
       "| 0.8 | 1.0200845 | Chickenpox    | GNAR | rand | 4 | NA | NA | NA | NA | GNAR |\n",
       "| 0.0 | 0.5016028 | Pedalme       | GNAR | rand | 4 | NA | NA | NA | NA | GNAR |\n",
       "| 0.1 | 0.4971018 | Pedalme       | GNAR | rand | 4 | NA | NA | NA | NA | GNAR |\n",
       "| 0.2 | 0.5027820 | Pedalme       | GNAR | rand | 4 | NA | NA | NA | NA | GNAR |\n",
       "| 0.3 | 0.5148579 | Pedalme       | GNAR | rand | 4 | NA | NA | NA | NA | GNAR |\n",
       "| 0.4 | 0.5226205 | Pedalme       | GNAR | rand | 4 | NA | NA | NA | NA | GNAR |\n",
       "| 0.5 | 0.5917800 | Pedalme       | GNAR | rand | 4 | NA | NA | NA | NA | GNAR |\n",
       "| 0.6 | 0.4917371 | Pedalme       | GNAR | rand | 4 | NA | NA | NA | NA | GNAR |\n",
       "| 0.7 | 0.4917371 | Pedalme       | GNAR | rand | 4 | NA | NA | NA | NA | GNAR |\n",
       "| 0.8 | 0.4917371 | Pedalme       | GNAR | rand | 4 | NA | NA | NA | NA | GNAR |\n",
       "| 0.0 | 0.9022260 | Wikimath      | GNAR | rand | 8 | NA | NA | NA | NA | GNAR |\n",
       "| 0.1 | 0.9015769 | Wikimath      | GNAR | rand | 8 | NA | NA | NA | NA | GNAR |\n",
       "| 0.2 | 0.9015677 | Wikimath      | GNAR | rand | 8 | NA | NA | NA | NA | GNAR |\n",
       "| 0.3 | 0.9112567 | Wikimath      | GNAR | rand | 8 | NA | NA | NA | NA | GNAR |\n",
       "| 0.4 | 0.9576448 | Wikimath      | GNAR | rand | 8 | NA | NA | NA | NA | GNAR |\n",
       "| 0.5 | 0.9042646 | Wikimath      | GNAR | rand | 8 | NA | NA | NA | NA | GNAR |\n",
       "| 0.6 | 0.9465203 | Wikimath      | GNAR | rand | 8 | NA | NA | NA | NA | GNAR |\n",
       "| 0.7 | 0.9607108 | Wikimath      | GNAR | rand | 8 | NA | NA | NA | NA | GNAR |\n",
       "| 0.8 | 1.0772615 | Wikimath      | GNAR | rand | 8 | NA | NA | NA | NA | GNAR |\n",
       "| 0.8 | 0.9804650 | Windmillsmall | GNAR | rand | 8 | NA | NA | NA | NA | GNAR |\n",
       "| 0.7 | 0.9804650 | Windmillsmall | GNAR | rand | 8 | NA | NA | NA | NA | GNAR |\n",
       "| 0.6 | 0.9807426 | Windmillsmall | GNAR | rand | 8 | NA | NA | NA | NA | GNAR |\n",
       "| 0.5 | 0.9804650 | Windmillsmall | GNAR | rand | 8 | NA | NA | NA | NA | GNAR |\n",
       "| 0.4 | 0.9805292 | Windmillsmall | GNAR | rand | 8 | NA | NA | NA | NA | GNAR |\n",
       "| 0.3 | 0.9805489 | Windmillsmall | GNAR | rand | 8 | NA | NA | NA | NA | GNAR |\n",
       "| 0.2 | 0.9804867 | Windmillsmall | GNAR | rand | 8 | NA | NA | NA | NA | GNAR |\n",
       "| 0.1 | 0.9804719 | Windmillsmall | GNAR | rand | 8 | NA | NA | NA | NA | GNAR |\n",
       "| 0.0 | 0.9804866 | Windmillsmall | GNAR | rand | 8 | NA | NA | NA | NA | GNAR |\n",
       "| 0.0 | 1.0028680 | MontevideoBus | GNAR | rand | 8 | NA | NA | NA | NA | GNAR |\n",
       "| 0.1 | 1.0027435 | MontevideoBus | GNAR | rand | 8 | NA | NA | NA | NA | GNAR |\n",
       "| 0.2 | 1.0027498 | MontevideoBus | GNAR | rand | 8 | NA | NA | NA | NA | GNAR |\n",
       "| 0.3 | 1.0027708 | MontevideoBus | GNAR | rand | 8 | NA | NA | NA | NA | GNAR |\n",
       "| 0.4 | 1.0015333 | MontevideoBus | GNAR | rand | 8 | NA | NA | NA | NA | GNAR |\n",
       "| 0.5 | 1.0022778 | MontevideoBus | GNAR | rand | 8 | NA | NA | NA | NA | GNAR |\n",
       "| 0.6 | 1.0021350 | MontevideoBus | GNAR | rand | 8 | NA | NA | NA | NA | GNAR |\n",
       "| 0.7 | 1.0031262 | MontevideoBus | GNAR | rand | 8 | NA | NA | NA | NA | GNAR |\n",
       "| 0.8 | 1.0031961 | MontevideoBus | GNAR | rand | 8 | NA | NA | NA | NA | GNAR |\n",
       "\n"
      ],
      "text/plain": [
       "   mrate mse       dataset       method mtype lags nof_filters inter_method\n",
       "1  0.0   1.2577286 FiveVTS       GNAR   rand  2    NA          NA          \n",
       "2  0.1   1.2527354 FiveVTS       GNAR   rand  2    NA          NA          \n",
       "3  0.2   1.2655242 FiveVTS       GNAR   rand  2    NA          NA          \n",
       "4  0.3   1.2509369 FiveVTS       GNAR   rand  2    NA          NA          \n",
       "5  0.4   1.2714016 FiveVTS       GNAR   rand  2    NA          NA          \n",
       "6  0.5   1.2787071 FiveVTS       GNAR   rand  2    NA          NA          \n",
       "7  0.6   1.3015036 FiveVTS       GNAR   rand  2    NA          NA          \n",
       "8  0.7   1.3015036 FiveVTS       GNAR   rand  2    NA          NA          \n",
       "9  0.8   1.3015036 FiveVTS       GNAR   rand  2    NA          NA          \n",
       "10 0.0   1.0163418 Chickenpox    GNAR   rand  4    NA          NA          \n",
       "11 0.1   1.0164596 Chickenpox    GNAR   rand  4    NA          NA          \n",
       "12 0.2   1.0158452 Chickenpox    GNAR   rand  4    NA          NA          \n",
       "13 0.3   1.0184809 Chickenpox    GNAR   rand  4    NA          NA          \n",
       "14 0.4   1.0208430 Chickenpox    GNAR   rand  4    NA          NA          \n",
       "15 0.5   1.0191585 Chickenpox    GNAR   rand  4    NA          NA          \n",
       "16 0.6   1.0216003 Chickenpox    GNAR   rand  4    NA          NA          \n",
       "17 0.7   1.0214110 Chickenpox    GNAR   rand  4    NA          NA          \n",
       "18 0.8   1.0200845 Chickenpox    GNAR   rand  4    NA          NA          \n",
       "19 0.0   0.5016028 Pedalme       GNAR   rand  4    NA          NA          \n",
       "20 0.1   0.4971018 Pedalme       GNAR   rand  4    NA          NA          \n",
       "21 0.2   0.5027820 Pedalme       GNAR   rand  4    NA          NA          \n",
       "22 0.3   0.5148579 Pedalme       GNAR   rand  4    NA          NA          \n",
       "23 0.4   0.5226205 Pedalme       GNAR   rand  4    NA          NA          \n",
       "24 0.5   0.5917800 Pedalme       GNAR   rand  4    NA          NA          \n",
       "25 0.6   0.4917371 Pedalme       GNAR   rand  4    NA          NA          \n",
       "26 0.7   0.4917371 Pedalme       GNAR   rand  4    NA          NA          \n",
       "27 0.8   0.4917371 Pedalme       GNAR   rand  4    NA          NA          \n",
       "28 0.0   0.9022260 Wikimath      GNAR   rand  8    NA          NA          \n",
       "29 0.1   0.9015769 Wikimath      GNAR   rand  8    NA          NA          \n",
       "30 0.2   0.9015677 Wikimath      GNAR   rand  8    NA          NA          \n",
       "31 0.3   0.9112567 Wikimath      GNAR   rand  8    NA          NA          \n",
       "32 0.4   0.9576448 Wikimath      GNAR   rand  8    NA          NA          \n",
       "33 0.5   0.9042646 Wikimath      GNAR   rand  8    NA          NA          \n",
       "34 0.6   0.9465203 Wikimath      GNAR   rand  8    NA          NA          \n",
       "35 0.7   0.9607108 Wikimath      GNAR   rand  8    NA          NA          \n",
       "36 0.8   1.0772615 Wikimath      GNAR   rand  8    NA          NA          \n",
       "37 0.8   0.9804650 Windmillsmall GNAR   rand  8    NA          NA          \n",
       "38 0.7   0.9804650 Windmillsmall GNAR   rand  8    NA          NA          \n",
       "39 0.6   0.9807426 Windmillsmall GNAR   rand  8    NA          NA          \n",
       "40 0.5   0.9804650 Windmillsmall GNAR   rand  8    NA          NA          \n",
       "41 0.4   0.9805292 Windmillsmall GNAR   rand  8    NA          NA          \n",
       "42 0.3   0.9805489 Windmillsmall GNAR   rand  8    NA          NA          \n",
       "43 0.2   0.9804867 Windmillsmall GNAR   rand  8    NA          NA          \n",
       "44 0.1   0.9804719 Windmillsmall GNAR   rand  8    NA          NA          \n",
       "45 0.0   0.9804866 Windmillsmall GNAR   rand  8    NA          NA          \n",
       "46 0.0   1.0028680 MontevideoBus GNAR   rand  8    NA          NA          \n",
       "47 0.1   1.0027435 MontevideoBus GNAR   rand  8    NA          NA          \n",
       "48 0.2   1.0027498 MontevideoBus GNAR   rand  8    NA          NA          \n",
       "49 0.3   1.0027708 MontevideoBus GNAR   rand  8    NA          NA          \n",
       "50 0.4   1.0015333 MontevideoBus GNAR   rand  8    NA          NA          \n",
       "51 0.5   1.0022778 MontevideoBus GNAR   rand  8    NA          NA          \n",
       "52 0.6   1.0021350 MontevideoBus GNAR   rand  8    NA          NA          \n",
       "53 0.7   1.0031262 MontevideoBus GNAR   rand  8    NA          NA          \n",
       "54 0.8   1.0031961 MontevideoBus GNAR   rand  8    NA          NA          \n",
       "   epoch calculation_time model\n",
       "1  NA    NA               GNAR \n",
       "2  NA    NA               GNAR \n",
       "3  NA    NA               GNAR \n",
       "4  NA    NA               GNAR \n",
       "5  NA    NA               GNAR \n",
       "6  NA    NA               GNAR \n",
       "7  NA    NA               GNAR \n",
       "8  NA    NA               GNAR \n",
       "9  NA    NA               GNAR \n",
       "10 NA    NA               GNAR \n",
       "11 NA    NA               GNAR \n",
       "12 NA    NA               GNAR \n",
       "13 NA    NA               GNAR \n",
       "14 NA    NA               GNAR \n",
       "15 NA    NA               GNAR \n",
       "16 NA    NA               GNAR \n",
       "17 NA    NA               GNAR \n",
       "18 NA    NA               GNAR \n",
       "19 NA    NA               GNAR \n",
       "20 NA    NA               GNAR \n",
       "21 NA    NA               GNAR \n",
       "22 NA    NA               GNAR \n",
       "23 NA    NA               GNAR \n",
       "24 NA    NA               GNAR \n",
       "25 NA    NA               GNAR \n",
       "26 NA    NA               GNAR \n",
       "27 NA    NA               GNAR \n",
       "28 NA    NA               GNAR \n",
       "29 NA    NA               GNAR \n",
       "30 NA    NA               GNAR \n",
       "31 NA    NA               GNAR \n",
       "32 NA    NA               GNAR \n",
       "33 NA    NA               GNAR \n",
       "34 NA    NA               GNAR \n",
       "35 NA    NA               GNAR \n",
       "36 NA    NA               GNAR \n",
       "37 NA    NA               GNAR \n",
       "38 NA    NA               GNAR \n",
       "39 NA    NA               GNAR \n",
       "40 NA    NA               GNAR \n",
       "41 NA    NA               GNAR \n",
       "42 NA    NA               GNAR \n",
       "43 NA    NA               GNAR \n",
       "44 NA    NA               GNAR \n",
       "45 NA    NA               GNAR \n",
       "46 NA    NA               GNAR \n",
       "47 NA    NA               GNAR \n",
       "48 NA    NA               GNAR \n",
       "49 NA    NA               GNAR \n",
       "50 NA    NA               GNAR \n",
       "51 NA    NA               GNAR \n",
       "52 NA    NA               GNAR \n",
       "53 NA    NA               GNAR \n",
       "54 NA    NA               GNAR "
      ]
     },
     "metadata": {},
     "output_type": "display_data"
    }
   ],
   "source": [
    "rbind(FiveVTS_results,Chickenpox_results,Pedalme_results,Wikimath_results,Windmillsmall_results,MontevideoBus_results)"
   ]
  },
  {
   "cell_type": "code",
   "execution_count": 1564,
   "id": "65e3eb25-bb5d-436d-9db2-f9175a79c66f",
   "metadata": {},
   "outputs": [
    {
     "data": {
      "text/html": [
       "<table class=\"dataframe\">\n",
       "<caption>A data.frame: 6 × 11</caption>\n",
       "<thead>\n",
       "\t<tr><th scope=col>mrate</th><th scope=col>mse</th><th scope=col>dataset</th><th scope=col>method</th><th scope=col>mtype</th><th scope=col>lags</th><th scope=col>nof_filters</th><th scope=col>inter_method</th><th scope=col>epoch</th><th scope=col>calculation_time</th><th scope=col>model</th></tr>\n",
       "\t<tr><th scope=col>&lt;dbl&gt;</th><th scope=col>&lt;dbl&gt;</th><th scope=col>&lt;chr&gt;</th><th scope=col>&lt;chr&gt;</th><th scope=col>&lt;chr&gt;</th><th scope=col>&lt;dbl&gt;</th><th scope=col>&lt;lgl&gt;</th><th scope=col>&lt;lgl&gt;</th><th scope=col>&lt;lgl&gt;</th><th scope=col>&lt;lgl&gt;</th><th scope=col>&lt;chr&gt;</th></tr>\n",
       "</thead>\n",
       "<tbody>\n",
       "\t<tr><td>0.12500000</td><td>1.2723690</td><td>FiveVTS      </td><td>GNAR</td><td>block</td><td>2</td><td>NA</td><td>NA</td><td>NA</td><td>NA</td><td>GNAR</td></tr>\n",
       "\t<tr><td>0.28846154</td><td>1.0171190</td><td>Chickenpox   </td><td>GNAR</td><td>block</td><td>4</td><td>NA</td><td>NA</td><td>NA</td><td>NA</td><td>GNAR</td></tr>\n",
       "\t<tr><td>0.29411765</td><td>0.4916068</td><td>Pedalme      </td><td>GNAR</td><td>block</td><td>4</td><td>NA</td><td>NA</td><td>NA</td><td>NA</td><td>GNAR</td></tr>\n",
       "\t<tr><td>0.12024781</td><td>0.9009986</td><td>Wikimath     </td><td>GNAR</td><td>block</td><td>8</td><td>NA</td><td>NA</td><td>NA</td><td>NA</td><td>GNAR</td></tr>\n",
       "\t<tr><td>0.03252143</td><td>0.9804863</td><td>Windmillsmall</td><td>GNAR</td><td>block</td><td>8</td><td>NA</td><td>NA</td><td>NA</td><td>NA</td><td>GNAR</td></tr>\n",
       "\t<tr><td>0.14954389</td><td>1.0028939</td><td>MontevideoBus</td><td>GNAR</td><td>block</td><td>8</td><td>NA</td><td>NA</td><td>NA</td><td>NA</td><td>GNAR</td></tr>\n",
       "</tbody>\n",
       "</table>\n"
      ],
      "text/latex": [
       "A data.frame: 6 × 11\n",
       "\\begin{tabular}{lllllllllll}\n",
       " mrate & mse & dataset & method & mtype & lags & nof\\_filters & inter\\_method & epoch & calculation\\_time & model\\\\\n",
       " <dbl> & <dbl> & <chr> & <chr> & <chr> & <dbl> & <lgl> & <lgl> & <lgl> & <lgl> & <chr>\\\\\n",
       "\\hline\n",
       "\t 0.12500000 & 1.2723690 & FiveVTS       & GNAR & block & 2 & NA & NA & NA & NA & GNAR\\\\\n",
       "\t 0.28846154 & 1.0171190 & Chickenpox    & GNAR & block & 4 & NA & NA & NA & NA & GNAR\\\\\n",
       "\t 0.29411765 & 0.4916068 & Pedalme       & GNAR & block & 4 & NA & NA & NA & NA & GNAR\\\\\n",
       "\t 0.12024781 & 0.9009986 & Wikimath      & GNAR & block & 8 & NA & NA & NA & NA & GNAR\\\\\n",
       "\t 0.03252143 & 0.9804863 & Windmillsmall & GNAR & block & 8 & NA & NA & NA & NA & GNAR\\\\\n",
       "\t 0.14954389 & 1.0028939 & MontevideoBus & GNAR & block & 8 & NA & NA & NA & NA & GNAR\\\\\n",
       "\\end{tabular}\n"
      ],
      "text/markdown": [
       "\n",
       "A data.frame: 6 × 11\n",
       "\n",
       "| mrate &lt;dbl&gt; | mse &lt;dbl&gt; | dataset &lt;chr&gt; | method &lt;chr&gt; | mtype &lt;chr&gt; | lags &lt;dbl&gt; | nof_filters &lt;lgl&gt; | inter_method &lt;lgl&gt; | epoch &lt;lgl&gt; | calculation_time &lt;lgl&gt; | model &lt;chr&gt; |\n",
       "|---|---|---|---|---|---|---|---|---|---|---|\n",
       "| 0.12500000 | 1.2723690 | FiveVTS       | GNAR | block | 2 | NA | NA | NA | NA | GNAR |\n",
       "| 0.28846154 | 1.0171190 | Chickenpox    | GNAR | block | 4 | NA | NA | NA | NA | GNAR |\n",
       "| 0.29411765 | 0.4916068 | Pedalme       | GNAR | block | 4 | NA | NA | NA | NA | GNAR |\n",
       "| 0.12024781 | 0.9009986 | Wikimath      | GNAR | block | 8 | NA | NA | NA | NA | GNAR |\n",
       "| 0.03252143 | 0.9804863 | Windmillsmall | GNAR | block | 8 | NA | NA | NA | NA | GNAR |\n",
       "| 0.14954389 | 1.0028939 | MontevideoBus | GNAR | block | 8 | NA | NA | NA | NA | GNAR |\n",
       "\n"
      ],
      "text/plain": [
       "  mrate      mse       dataset       method mtype lags nof_filters inter_method\n",
       "1 0.12500000 1.2723690 FiveVTS       GNAR   block 2    NA          NA          \n",
       "2 0.28846154 1.0171190 Chickenpox    GNAR   block 4    NA          NA          \n",
       "3 0.29411765 0.4916068 Pedalme       GNAR   block 4    NA          NA          \n",
       "4 0.12024781 0.9009986 Wikimath      GNAR   block 8    NA          NA          \n",
       "5 0.03252143 0.9804863 Windmillsmall GNAR   block 8    NA          NA          \n",
       "6 0.14954389 1.0028939 MontevideoBus GNAR   block 8    NA          NA          \n",
       "  epoch calculation_time model\n",
       "1 NA    NA               GNAR \n",
       "2 NA    NA               GNAR \n",
       "3 NA    NA               GNAR \n",
       "4 NA    NA               GNAR \n",
       "5 NA    NA               GNAR \n",
       "6 NA    NA               GNAR "
      ]
     },
     "metadata": {},
     "output_type": "display_data"
    }
   ],
   "source": [
    "rbind(FiveVTS_block_results,Chickenpox_block_results,Pedalme_block_results,Wikimath_block_results,Windmillsmall_block_results,MontevideoBus_block_results)"
   ]
  },
  {
   "cell_type": "code",
   "execution_count": 1565,
   "id": "bc68953e-b42c-4bef-b3eb-b68f6c48c122",
   "metadata": {},
   "outputs": [],
   "source": [
    "final_df <- rbind(FiveVTS_results,Chickenpox_results,Pedalme_results,Wikimath_results,Windmillsmall_results,MontevideoBus_results,\n",
    "     FiveVTS_block_results,Chickenpox_block_results,Pedalme_block_results,Wikimath_block_results,Windmillsmall_block_results,MontevideoBus_block_results)"
   ]
  },
  {
   "cell_type": "code",
   "execution_count": 1566,
   "id": "7042ac1c-e786-4e4d-a081-1b73783a92f0",
   "metadata": {},
   "outputs": [],
   "source": [
    "write.csv(final_df, file = \"./R_GNAR_results.csv\", row.names = FALSE)"
   ]
  },
  {
   "cell_type": "code",
   "execution_count": null,
   "id": "bf62b062-fe71-47ea-95cc-60a8a6b6bbbb",
   "metadata": {},
   "outputs": [],
   "source": []
  },
  {
   "cell_type": "code",
   "execution_count": null,
   "id": "1d6d970b-713f-4711-91a0-52471065441c",
   "metadata": {},
   "outputs": [],
   "source": []
  }
 ],
 "metadata": {
  "kernelspec": {
   "display_name": "R",
   "language": "R",
   "name": "ir"
  },
  "language_info": {
   "codemirror_mode": "r",
   "file_extension": ".r",
   "mimetype": "text/x-r-source",
   "name": "R",
   "pygments_lexer": "r",
   "version": "4.3.0"
  }
 },
 "nbformat": 4,
 "nbformat_minor": 5
}
