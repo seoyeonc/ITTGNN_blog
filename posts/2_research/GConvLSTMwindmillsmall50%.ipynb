{
 "cells": [
  {
   "cell_type": "raw",
   "id": "bbd0ca3b-7f3f-4648-a6c3-fcdd22a8ebc6",
   "metadata": {
    "id": "cac470df-29e7-4148-9bbd-d8b9a32fa570",
    "tags": []
   },
   "source": [
    "---\n",
    "title: \"wikimathsmall 50% 시뮬 데이터 GConvGRU\"\n",
    "author: \"SEOYEON CHOI\"\n",
    "date: \"2024-01-28\"\n",
    "---"
   ]
  },
  {
   "cell_type": "markdown",
   "id": "3c7f6d75-5321-4a78-992e-6adce920b9fa",
   "metadata": {},
   "source": [
    "50%  \n",
    "\n",
    "wikimath\n",
    "\n",
    "- ~GConvGRU~\n",
    "- GConvLSTM\n",
    "- GCLSTM\n",
    "- LRGCN\n",
    "- DyGrEncoder\n",
    "- ~EvolveGCNH~\n",
    "- ~EvolveGCNO~\n",
    "- ~TGCN~\n",
    "- ~DCRNN~"
   ]
  },
  {
   "cell_type": "markdown",
   "id": "0039cffc-af67-4337-933a-e6e5113e62d1",
   "metadata": {},
   "source": [
    "| Model               | FiveVTS | Chickenpox | Pedalme | Wikimath | Windmillsmall | MontevideoBus |\n",
    "|---------------------|---------|------------|---------|----------|---------------|---------------|\n",
    "| Max iter.           | 30      | 30         | 30      | 30       | 30            | 30            |\n",
    "| Epochs              | 50      | 50         | 50      | 50       | 50            | 50            |\n",
    "| Lags                | 2       | 4          | 4       | 8        | 8             | 4             |\n",
    "| Interpolation       | linear  | linear     | nearest | linear   | linear        | nearest       |\n",
    "| Filters             |         |            |         |          |               |               |\n",
    "| GConvGRU            | 12      | 16         | 12      | 12       | 12            | 12            |\n",
    "| GConvLSTM           | 12      | 32         | 2       | 64       | 16            | 12            |\n",
    "| GCLSTM              | 4       | 16         | 4       | 64       | 16            | 12            |\n",
    "| LRGCN               | 4       | 8          | 8       | 32       | 12            | 2             |\n",
    "| DyGrEncoder         | 12      | 12         | 12      | 12       | 12            | 12            |\n",
    "| EvolveGCNH          | No need | No need    | No need | No need  | No need       | No need       |\n",
    "| EvolveGCNO          | No need | No need    | No need | No need  | No need       | No need       |\n",
    "| TGCN                | 12      | 12         | 12      | 12       | 12            | 8             |\n",
    "| DCRNN               | 2       | 16         | 8       | 12       | 4             | 12            |\n"
   ]
  },
  {
   "cell_type": "code",
   "execution_count": 1,
   "id": "15246274-7df9-4bca-b802-1904e37661a2",
   "metadata": {},
   "outputs": [],
   "source": [
    "import itstgcnGConvLSTM\n",
    "import torch\n",
    "import itstgcnGConvLSTM.planner \n",
    "import pandas as pd\n",
    "\n",
    "import numpy as np\n",
    "import random"
   ]
  },
  {
   "cell_type": "code",
   "execution_count": 2,
   "id": "3141ca5f-5aec-4fa1-a0c3-60223f37c937",
   "metadata": {},
   "outputs": [],
   "source": [
    "loader6 = itstgcnGConvLSTM.load_data('./data/Windmillsmall.pkl')"
   ]
  },
  {
   "cell_type": "code",
   "execution_count": 3,
   "id": "1de9b217-494e-44ab-b100-bc6c0393b82e",
   "metadata": {},
   "outputs": [],
   "source": [
    "plans_stgcn_rand = {\n",
    "    'max_iteration': 1, \n",
    "    'method': ['STGCN', 'IT-STGCN'],\n",
    "    'mrate': [0.5],\n",
    "    'lags': [8], \n",
    "    'nof_filters': [16], \n",
    "    'inter_method': ['linear'],\n",
    "    'epoch': [50]\n",
    "}"
   ]
  },
  {
   "cell_type": "code",
   "execution_count": null,
   "id": "a3c99d86-c27e-402b-a708-cb4606f04fbb",
   "metadata": {},
   "outputs": [],
   "source": []
  },
  {
   "cell_type": "code",
   "execution_count": null,
   "id": "0b06d839-f042-4e35-a248-f9c0bc40d6d1",
   "metadata": {},
   "outputs": [],
   "source": [
    "plnr = itstgcnGConvLSTM.planner.PLNR_STGCN_RAND(plans_stgcn_rand,loader6,dataset_name='windmillsmallGConvLSTM')\n",
    "plnr.simulate()"
   ]
  },
  {
   "cell_type": "code",
   "execution_count": null,
   "id": "fec7968c-fe34-4f0e-a395-99350996384b",
   "metadata": {},
   "outputs": [],
   "source": [
    "plnr = itstgcnGConvLSTM.planner.PLNR_STGCN_RAND(plans_stgcn_rand,loader6,dataset_name='windmillsmallGConvLSTM')\n",
    "plnr.simulate()"
   ]
  },
  {
   "cell_type": "code",
   "execution_count": null,
   "id": "0c377a34-f681-4833-9697-6e33201efb88",
   "metadata": {},
   "outputs": [],
   "source": [
    "plnr = itstgcnGConvLSTM.planner.PLNR_STGCN_RAND(plans_stgcn_rand,loader6,dataset_name='windmillsmallGConvLSTM')\n",
    "plnr.simulate()"
   ]
  },
  {
   "cell_type": "code",
   "execution_count": null,
   "id": "647e8c8d-937d-4140-9120-3e7db450f943",
   "metadata": {},
   "outputs": [],
   "source": [
    "plnr = itstgcnGConvLSTM.planner.PLNR_STGCN_RAND(plans_stgcn_rand,loader6,dataset_name='windmillsmallGConvLSTM')\n",
    "plnr.simulate()"
   ]
  },
  {
   "cell_type": "code",
   "execution_count": null,
   "id": "9b3a41cd-1420-448e-859d-c9ffaf6e9303",
   "metadata": {},
   "outputs": [],
   "source": [
    "plnr = itstgcnGConvLSTM.planner.PLNR_STGCN_RAND(plans_stgcn_rand,loader6,dataset_name='windmillsmallGConvLSTM')\n",
    "plnr.simulate()"
   ]
  },
  {
   "cell_type": "code",
   "execution_count": null,
   "id": "e769e0bc-2bc7-4150-934f-d285890c3dd7",
   "metadata": {},
   "outputs": [],
   "source": [
    "plnr = itstgcnGConvLSTM.planner.PLNR_STGCN_RAND(plans_stgcn_rand,loader6,dataset_name='windmillsmallGConvLSTM')\n",
    "plnr.simulate()"
   ]
  },
  {
   "cell_type": "code",
   "execution_count": null,
   "id": "0786d8e0-577d-445e-96b6-0d1cfd93a42c",
   "metadata": {},
   "outputs": [],
   "source": [
    "plnr = itstgcnGConvLSTM.planner.PLNR_STGCN_RAND(plans_stgcn_rand,loader6,dataset_name='windmillsmallGConvLSTM')\n",
    "plnr.simulate()"
   ]
  },
  {
   "cell_type": "code",
   "execution_count": null,
   "id": "4da1a5db-865b-4dd2-aec3-0eaf20569b46",
   "metadata": {},
   "outputs": [],
   "source": [
    "plnr = itstgcnGConvLSTM.planner.PLNR_STGCN_RAND(plans_stgcn_rand,loader6,dataset_name='windmillsmallGConvLSTM')\n",
    "plnr.simulate()"
   ]
  },
  {
   "cell_type": "code",
   "execution_count": null,
   "id": "2c5a1382-eebd-45bf-aa55-644f75df1caa",
   "metadata": {},
   "outputs": [],
   "source": [
    "plnr = itstgcnGConvLSTM.planner.PLNR_STGCN_RAND(plans_stgcn_rand,loader6,dataset_name='windmillsmallGConvLSTM')\n",
    "plnr.simulate()"
   ]
  },
  {
   "cell_type": "code",
   "execution_count": null,
   "id": "70584df7-6776-42f5-a918-f1e341d0e96c",
   "metadata": {},
   "outputs": [],
   "source": []
  },
  {
   "cell_type": "code",
   "execution_count": null,
   "id": "25f63e3b-75db-4607-a735-3489c1842372",
   "metadata": {},
   "outputs": [],
   "source": []
  },
  {
   "cell_type": "markdown",
   "id": "f7ec57ab-c935-47d5-b7ed-dcba73bf97c1",
   "metadata": {},
   "source": [
    "0.5 끝나면 0.8 해야지"
   ]
  },
  {
   "cell_type": "code",
   "execution_count": 3,
   "id": "d3bad5ef-b510-4d56-9f3d-fb2226383007",
   "metadata": {},
   "outputs": [],
   "source": [
    "plans_stgcn_rand = {\n",
    "    'max_iteration': 1, \n",
    "    'method': ['STGCN', 'IT-STGCN'],\n",
    "    'mrate': [0.8],\n",
    "    'lags': [8], \n",
    "    'nof_filters': [16], \n",
    "    'inter_method': ['linear'],\n",
    "    'epoch': [50]\n",
    "}"
   ]
  },
  {
   "cell_type": "code",
   "execution_count": null,
   "id": "0dfc592a-b9c5-43a1-ae34-29ab9cce9af1",
   "metadata": {},
   "outputs": [],
   "source": [
    "plnr = itstgcnGConvLSTM.planner.PLNR_STGCN_RAND(plans_stgcn_rand,loader6,dataset_name='windmillsmallGConvLSTM')\n",
    "plnr.simulate()"
   ]
  },
  {
   "cell_type": "code",
   "execution_count": null,
   "id": "12fc6ae2-1a13-47d1-869e-93587ba6fc61",
   "metadata": {},
   "outputs": [],
   "source": []
  }
 ],
 "metadata": {
  "kernelspec": {
   "display_name": "Python 3",
   "language": "python",
   "name": "python3"
  },
  "language_info": {
   "codemirror_mode": {
    "name": "ipython",
    "version": 3
   },
   "file_extension": ".py",
   "mimetype": "text/x-python",
   "name": "python",
   "nbconvert_exporter": "python",
   "pygments_lexer": "ipython3",
   "version": "3.8.0"
  }
 },
 "nbformat": 4,
 "nbformat_minor": 5
}
