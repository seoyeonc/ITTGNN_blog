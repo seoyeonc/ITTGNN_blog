{
 "cells": [
  {
   "cell_type": "raw",
   "id": "bbd0ca3b-7f3f-4648-a6c3-fcdd22a8ebc6",
   "metadata": {
    "id": "cac470df-29e7-4148-9bbd-d8b9a32fa570",
    "tags": []
   },
   "source": [
    "---\n",
    "title: \"wikimathsmall 50% 시뮬 데이터 GConvGRU\"\n",
    "author: \"SEOYEON CHOI\"\n",
    "date: \"2024-01-28\"\n",
    "---"
   ]
  },
  {
   "cell_type": "markdown",
   "id": "3c7f6d75-5321-4a78-992e-6adce920b9fa",
   "metadata": {},
   "source": [
    "50%  \n",
    "\n",
    "wikimath\n",
    "\n",
    "- ~GConvGRU~\n",
    "- GConvLSTM\n",
    "- GCLSTM\n",
    "- LRGCN\n",
    "- DyGrEncoder\n",
    "- ~EvolveGCNH~\n",
    "- ~EvolveGCNO~\n",
    "- ~TGCN~\n",
    "- ~DCRNN~"
   ]
  },
  {
   "cell_type": "markdown",
   "id": "0039cffc-af67-4337-933a-e6e5113e62d1",
   "metadata": {},
   "source": [
    "| Model               | FiveVTS | Chickenpox | Pedalme | Wikimath | Windmillsmall | MontevideoBus |\n",
    "|---------------------|---------|------------|---------|----------|---------------|---------------|\n",
    "| Max iter.           | 30      | 30         | 30      | 30       | 30            | 30            |\n",
    "| Epochs              | 50      | 50         | 50      | 50       | 50            | 50            |\n",
    "| Lags                | 2       | 4          | 4       | 8        | 8             | 4             |\n",
    "| Interpolation       | linear  | linear     | nearest | linear   | linear        | nearest       |\n",
    "| Filters             |         |            |         |          |               |               |\n",
    "| GConvGRU            | 12      | 16         | 12      | 12       | 12            | 12            |\n",
    "| GConvLSTM           | 12      | 32         | 2       | 64       | 16            | 12            |\n",
    "| GCLSTM              | 4       | 16         | 4       | 64       | 16            | 12            |\n",
    "| LRGCN               | 4       | 8          | 8       | 32       | 12            | 2             |\n",
    "| DyGrEncoder         | 12      | 12         | 12      | 12       | 12            | 12            |\n",
    "| EvolveGCNH          | No need | No need    | No need | No need  | No need       | No need       |\n",
    "| EvolveGCNO          | No need | No need    | No need | No need  | No need       | No need       |\n",
    "| TGCN                | 12      | 12         | 12      | 12       | 12            | 8             |\n",
    "| DCRNN               | 2       | 16         | 8       | 12       | 4             | 12            |\n"
   ]
  },
  {
   "cell_type": "code",
   "execution_count": 1,
   "id": "15246274-7df9-4bca-b802-1904e37661a2",
   "metadata": {},
   "outputs": [],
   "source": [
    "import itstgcnGConvLSTM\n",
    "import torch\n",
    "import itstgcnGConvLSTM.planner \n",
    "import pandas as pd\n",
    "\n",
    "import numpy as np\n",
    "import random"
   ]
  },
  {
   "cell_type": "code",
   "execution_count": 2,
   "id": "3141ca5f-5aec-4fa1-a0c3-60223f37c937",
   "metadata": {},
   "outputs": [],
   "source": [
    "loader6 = itstgcnGConvLSTM.load_data('./data/Windmillsmall.pkl')"
   ]
  },
  {
   "cell_type": "code",
   "execution_count": 3,
   "id": "1de9b217-494e-44ab-b100-bc6c0393b82e",
   "metadata": {},
   "outputs": [],
   "source": [
    "plans_stgcn_rand = {\n",
    "    'max_iteration': 1, \n",
    "    'method': ['STGCN', 'IT-STGCN'],\n",
    "    'mrate': [0.5],\n",
    "    'lags': [8], \n",
    "    'nof_filters': [16], \n",
    "    'inter_method': ['linear'],\n",
    "    'epoch': [50]\n",
    "}"
   ]
  },
  {
   "cell_type": "code",
   "execution_count": null,
   "id": "669974a6-5e73-4879-9f2f-34239f14f97c",
   "metadata": {},
   "outputs": [],
   "source": [
    "plnr = itstgcnGCLSTM.planner.PLNR_STGCN_RAND(plans_stgcn_rand,loader6,dataset_name='windmillsmallGCLSTM')\n",
    "plnr.simulate()"
   ]
  },
  {
   "cell_type": "code",
   "execution_count": null,
   "id": "1a42009c-779b-4c16-be25-d3bdb0b4815b",
   "metadata": {},
   "outputs": [],
   "source": [
    "plnr = itstgcnGCLSTM.planner.PLNR_STGCN_RAND(plans_stgcn_rand,loader6,dataset_name='windmillsmallGCLSTM')\n",
    "plnr.simulate()"
   ]
  },
  {
   "cell_type": "code",
   "execution_count": null,
   "id": "4cfd10c8-0149-4a1a-a275-9a9e49fb6836",
   "metadata": {},
   "outputs": [],
   "source": [
    "plnr = itstgcnGCLSTM.planner.PLNR_STGCN_RAND(plans_stgcn_rand,loader6,dataset_name='windmillsmallGCLSTM')\n",
    "plnr.simulate()"
   ]
  },
  {
   "cell_type": "code",
   "execution_count": null,
   "id": "bb57840e-fa8e-4b34-bd06-627e0eb7271e",
   "metadata": {},
   "outputs": [],
   "source": [
    "plnr = itstgcnGCLSTM.planner.PLNR_STGCN_RAND(plans_stgcn_rand,loader6,dataset_name='windmillsmallGCLSTM')\n",
    "plnr.simulate()"
   ]
  },
  {
   "cell_type": "code",
   "execution_count": null,
   "id": "8ba93ab5-e190-4ca9-a148-0636f82db135",
   "metadata": {},
   "outputs": [],
   "source": [
    "plnr = itstgcnGCLSTM.planner.PLNR_STGCN_RAND(plans_stgcn_rand,loader6,dataset_name='windmillsmallGCLSTM')\n",
    "plnr.simulate()"
   ]
  },
  {
   "cell_type": "code",
   "execution_count": null,
   "id": "72e1d1b4-856f-47c0-98da-84ee42c2a546",
   "metadata": {},
   "outputs": [],
   "source": [
    "plnr = itstgcnGCLSTM.planner.PLNR_STGCN_RAND(plans_stgcn_rand,loader6,dataset_name='windmillsmallGCLSTM')\n",
    "plnr.simulate()"
   ]
  },
  {
   "cell_type": "code",
   "execution_count": null,
   "id": "cbc2a0a9-e33a-4138-84c5-4fc1359ae911",
   "metadata": {},
   "outputs": [],
   "source": [
    "plnr = itstgcnGCLSTM.planner.PLNR_STGCN_RAND(plans_stgcn_rand,loader6,dataset_name='windmillsmallGCLSTM')\n",
    "plnr.simulate()"
   ]
  },
  {
   "cell_type": "code",
   "execution_count": null,
   "id": "038490a5-13c6-4b45-9c69-5ef3fbd6f660",
   "metadata": {},
   "outputs": [],
   "source": [
    "plnr = itstgcnGCLSTM.planner.PLNR_STGCN_RAND(plans_stgcn_rand,loader6,dataset_name='windmillsmallGCLSTM')\n",
    "plnr.simulate()"
   ]
  },
  {
   "cell_type": "code",
   "execution_count": null,
   "id": "a320bf7f-0867-465d-9b08-d9691fe46707",
   "metadata": {},
   "outputs": [],
   "source": [
    "plnr = itstgcnGCLSTM.planner.PLNR_STGCN_RAND(plans_stgcn_rand,loader6,dataset_name='windmillsmallGCLSTM')\n",
    "plnr.simulate()"
   ]
  },
  {
   "cell_type": "code",
   "execution_count": null,
   "id": "a2e46bd2-dee4-46db-af59-1cdad070cd5a",
   "metadata": {},
   "outputs": [],
   "source": [
    "plnr = itstgcnGCLSTM.planner.PLNR_STGCN_RAND(plans_stgcn_rand,loader6,dataset_name='windmillsmallGCLSTM')\n",
    "plnr.simulate()"
   ]
  },
  {
   "cell_type": "code",
   "execution_count": null,
   "id": "12fc6ae2-1a13-47d1-869e-93587ba6fc61",
   "metadata": {},
   "outputs": [],
   "source": []
  },
  {
   "cell_type": "markdown",
   "id": "0510e7d8-f47a-4e60-b90e-a9b80fb4461f",
   "metadata": {},
   "source": [
    "0.5 끝나면 0.8 해야지"
   ]
  },
  {
   "cell_type": "code",
   "execution_count": null,
   "id": "bea3bc2c-1043-4b64-82be-dcd179af4bc9",
   "metadata": {},
   "outputs": [],
   "source": [
    "plans_stgcn_rand = {\n",
    "    'max_iteration': 1, \n",
    "    'method': ['STGCN', 'IT-STGCN'],\n",
    "    'mrate': [0.8],\n",
    "    'lags': [8], \n",
    "    'nof_filters': [16], \n",
    "    'inter_method': ['linear'],\n",
    "    'epoch': [50]\n",
    "}"
   ]
  },
  {
   "cell_type": "code",
   "execution_count": null,
   "id": "a136000b-c168-400d-a923-f145732665c8",
   "metadata": {},
   "outputs": [],
   "source": [
    "plnr = itstgcnGCLSTM.planner.PLNR_STGCN_RAND(plans_stgcn_rand,loader6,dataset_name='windmillsmallGCLSTM')\n",
    "plnr.simulate()"
   ]
  },
  {
   "cell_type": "code",
   "execution_count": null,
   "id": "b1f06287-b1e4-4b59-b806-c30eb7c2bd3b",
   "metadata": {},
   "outputs": [],
   "source": [
    "plnr = itstgcnGCLSTM.planner.PLNR_STGCN_RAND(plans_stgcn_rand,loader6,dataset_name='windmillsmallGCLSTM')\n",
    "plnr.simulate()"
   ]
  },
  {
   "cell_type": "code",
   "execution_count": null,
   "id": "652d49c1-5604-46ed-843b-f178c45507c2",
   "metadata": {},
   "outputs": [],
   "source": [
    "plnr = itstgcnGCLSTM.planner.PLNR_STGCN_RAND(plans_stgcn_rand,loader6,dataset_name='windmillsmallGCLSTM')\n",
    "plnr.simulate()"
   ]
  },
  {
   "cell_type": "code",
   "execution_count": null,
   "id": "057cd2bd-42c4-481a-9497-0b04faec272e",
   "metadata": {},
   "outputs": [],
   "source": [
    "plnr = itstgcnGCLSTM.planner.PLNR_STGCN_RAND(plans_stgcn_rand,loader6,dataset_name='windmillsmallGCLSTM')\n",
    "plnr.simulate()"
   ]
  },
  {
   "cell_type": "code",
   "execution_count": null,
   "id": "f59053e7-1760-4e6d-a76c-6a1619f6e82b",
   "metadata": {},
   "outputs": [],
   "source": [
    "plnr = itstgcnGCLSTM.planner.PLNR_STGCN_RAND(plans_stgcn_rand,loader6,dataset_name='windmillsmallGCLSTM')\n",
    "plnr.simulate()"
   ]
  },
  {
   "cell_type": "code",
   "execution_count": null,
   "id": "bd05bd49-0556-47fa-b808-0711c7bdef00",
   "metadata": {},
   "outputs": [],
   "source": [
    "plnr = itstgcnGCLSTM.planner.PLNR_STGCN_RAND(plans_stgcn_rand,loader6,dataset_name='windmillsmallGCLSTM')\n",
    "plnr.simulate()"
   ]
  },
  {
   "cell_type": "code",
   "execution_count": null,
   "id": "b360e72c-0940-46da-ae88-5279bf3e8340",
   "metadata": {},
   "outputs": [],
   "source": [
    "plnr = itstgcnGCLSTM.planner.PLNR_STGCN_RAND(plans_stgcn_rand,loader6,dataset_name='windmillsmallGCLSTM')\n",
    "plnr.simulate()"
   ]
  },
  {
   "cell_type": "code",
   "execution_count": null,
   "id": "ed553fec-cf9e-4533-9a82-441f0855cef5",
   "metadata": {},
   "outputs": [],
   "source": [
    "plnr = itstgcnGCLSTM.planner.PLNR_STGCN_RAND(plans_stgcn_rand,loader6,dataset_name='windmillsmallGCLSTM')\n",
    "plnr.simulate()"
   ]
  },
  {
   "cell_type": "code",
   "execution_count": null,
   "id": "018c39aa-c4c8-4ed5-999c-d7f85a1c9e10",
   "metadata": {},
   "outputs": [],
   "source": [
    "plnr = itstgcnGCLSTM.planner.PLNR_STGCN_RAND(plans_stgcn_rand,loader6,dataset_name='windmillsmallGCLSTM')\n",
    "plnr.simulate()"
   ]
  },
  {
   "cell_type": "code",
   "execution_count": null,
   "id": "b50516cf-8908-4878-b313-b11d2780cadb",
   "metadata": {},
   "outputs": [],
   "source": [
    "plnr = itstgcnGCLSTM.planner.PLNR_STGCN_RAND(plans_stgcn_rand,loader6,dataset_name='windmillsmallGCLSTM')\n",
    "plnr.simulate()"
   ]
  },
  {
   "cell_type": "code",
   "execution_count": null,
   "id": "8c547dc0-854b-4e8c-8876-87c7d1840efb",
   "metadata": {},
   "outputs": [],
   "source": [
    "plnr = itstgcnGCLSTM.planner.PLNR_STGCN_RAND(plans_stgcn_rand,loader6,dataset_name='windmillsmallGCLSTM')\n",
    "plnr.simulate()"
   ]
  },
  {
   "cell_type": "code",
   "execution_count": null,
   "id": "bcdbe127-6bc7-4ea6-863e-afd9050e7568",
   "metadata": {},
   "outputs": [],
   "source": [
    "plnr = itstgcnGCLSTM.planner.PLNR_STGCN_RAND(plans_stgcn_rand,loader6,dataset_name='windmillsmallGCLSTM')\n",
    "plnr.simulate()"
   ]
  },
  {
   "cell_type": "code",
   "execution_count": null,
   "id": "bf60dc3b-be6c-477c-9024-f14894993a81",
   "metadata": {},
   "outputs": [],
   "source": [
    "plnr = itstgcnGCLSTM.planner.PLNR_STGCN_RAND(plans_stgcn_rand,loader6,dataset_name='windmillsmallGCLSTM')\n",
    "plnr.simulate()"
   ]
  },
  {
   "cell_type": "code",
   "execution_count": null,
   "id": "6ef32d48-e1c5-4990-b822-8bdb70276d9f",
   "metadata": {},
   "outputs": [],
   "source": [
    "plnr = itstgcnGCLSTM.planner.PLNR_STGCN_RAND(plans_stgcn_rand,loader6,dataset_name='windmillsmallGCLSTM')\n",
    "plnr.simulate()"
   ]
  },
  {
   "cell_type": "code",
   "execution_count": null,
   "id": "eac7cbc3-a2f8-44c4-a506-aded2154bfac",
   "metadata": {},
   "outputs": [],
   "source": [
    "plnr = itstgcnGCLSTM.planner.PLNR_STGCN_RAND(plans_stgcn_rand,loader6,dataset_name='windmillsmallGCLSTM')\n",
    "plnr.simulate()"
   ]
  },
  {
   "cell_type": "code",
   "execution_count": null,
   "id": "8405ae93-1da2-4f60-95af-d2398d1ce6c5",
   "metadata": {},
   "outputs": [],
   "source": [
    "plnr = itstgcnGCLSTM.planner.PLNR_STGCN_RAND(plans_stgcn_rand,loader6,dataset_name='windmillsmallGCLSTM')\n",
    "plnr.simulate()"
   ]
  },
  {
   "cell_type": "code",
   "execution_count": null,
   "id": "8a217737-4bbb-426f-b24f-3ece6e399e65",
   "metadata": {},
   "outputs": [],
   "source": [
    "plnr = itstgcnGCLSTM.planner.PLNR_STGCN_RAND(plans_stgcn_rand,loader6,dataset_name='windmillsmallGCLSTM')\n",
    "plnr.simulate()"
   ]
  },
  {
   "cell_type": "code",
   "execution_count": null,
   "id": "24dcf21b-7a21-4ee1-8058-9694d6d65d80",
   "metadata": {},
   "outputs": [],
   "source": [
    "plnr = itstgcnGCLSTM.planner.PLNR_STGCN_RAND(plans_stgcn_rand,loader6,dataset_name='windmillsmallGCLSTM')\n",
    "plnr.simulate()"
   ]
  },
  {
   "cell_type": "code",
   "execution_count": null,
   "id": "b66ebb44-d377-4d36-be72-4fa49b6dadaa",
   "metadata": {},
   "outputs": [],
   "source": [
    "plnr = itstgcnGCLSTM.planner.PLNR_STGCN_RAND(plans_stgcn_rand,loader6,dataset_name='windmillsmallGCLSTM')\n",
    "plnr.simulate()"
   ]
  },
  {
   "cell_type": "code",
   "execution_count": null,
   "id": "5abae36e-ee4f-4398-a579-76112b826669",
   "metadata": {},
   "outputs": [],
   "source": [
    "plnr = itstgcnGCLSTM.planner.PLNR_STGCN_RAND(plans_stgcn_rand,loader6,dataset_name='windmillsmallGCLSTM')\n",
    "plnr.simulate()"
   ]
  },
  {
   "cell_type": "code",
   "execution_count": null,
   "id": "1c02d1e0-5a27-4a14-98db-d8ce8d994474",
   "metadata": {},
   "outputs": [],
   "source": [
    "plnr = itstgcnGCLSTM.planner.PLNR_STGCN_RAND(plans_stgcn_rand,loader6,dataset_name='windmillsmallGCLSTM')\n",
    "plnr.simulate()"
   ]
  },
  {
   "cell_type": "code",
   "execution_count": null,
   "id": "5ce7d429-4378-4d84-94c4-9d7247366609",
   "metadata": {},
   "outputs": [],
   "source": [
    "plnr = itstgcnGCLSTM.planner.PLNR_STGCN_RAND(plans_stgcn_rand,loader6,dataset_name='windmillsmallGCLSTM')\n",
    "plnr.simulate()"
   ]
  },
  {
   "cell_type": "code",
   "execution_count": null,
   "id": "2e8d867d-5a20-4ced-b0aa-fb2954577387",
   "metadata": {},
   "outputs": [],
   "source": [
    "plnr = itstgcnGCLSTM.planner.PLNR_STGCN_RAND(plans_stgcn_rand,loader6,dataset_name='windmillsmallGCLSTM')\n",
    "plnr.simulate()"
   ]
  },
  {
   "cell_type": "code",
   "execution_count": null,
   "id": "e9aa1a9e-0faa-4a3d-90f3-c7abf09a223d",
   "metadata": {},
   "outputs": [],
   "source": [
    "plnr = itstgcnGCLSTM.planner.PLNR_STGCN_RAND(plans_stgcn_rand,loader6,dataset_name='windmillsmallGCLSTM')\n",
    "plnr.simulate()"
   ]
  },
  {
   "cell_type": "code",
   "execution_count": null,
   "id": "10bc5368-fdda-4a8f-81b0-ba9a9d6747d8",
   "metadata": {},
   "outputs": [],
   "source": [
    "plnr = itstgcnGCLSTM.planner.PLNR_STGCN_RAND(plans_stgcn_rand,loader6,dataset_name='windmillsmallGCLSTM')\n",
    "plnr.simulate()"
   ]
  },
  {
   "cell_type": "code",
   "execution_count": null,
   "id": "12fd39ce-d1ac-404b-87e2-878ad8aafe80",
   "metadata": {},
   "outputs": [],
   "source": [
    "plnr = itstgcnGCLSTM.planner.PLNR_STGCN_RAND(plans_stgcn_rand,loader6,dataset_name='windmillsmallGCLSTM')\n",
    "plnr.simulate()"
   ]
  },
  {
   "cell_type": "code",
   "execution_count": null,
   "id": "fc2ad9a7-2594-44c9-8f0a-043ee0d709b5",
   "metadata": {},
   "outputs": [],
   "source": [
    "plnr = itstgcnGCLSTM.planner.PLNR_STGCN_RAND(plans_stgcn_rand,loader6,dataset_name='windmillsmallGCLSTM')\n",
    "plnr.simulate()"
   ]
  },
  {
   "cell_type": "code",
   "execution_count": null,
   "id": "a76740eb-4f74-4fc8-8ecd-4f5a4652ad7e",
   "metadata": {},
   "outputs": [],
   "source": [
    "plnr = itstgcnGCLSTM.planner.PLNR_STGCN_RAND(plans_stgcn_rand,loader6,dataset_name='windmillsmallGCLSTM')\n",
    "plnr.simulate()"
   ]
  },
  {
   "cell_type": "code",
   "execution_count": null,
   "id": "38e8f345-8984-4ef4-8777-1958992e34e9",
   "metadata": {},
   "outputs": [],
   "source": [
    "plnr = itstgcnGCLSTM.planner.PLNR_STGCN_RAND(plans_stgcn_rand,loader6,dataset_name='windmillsmallGCLSTM')\n",
    "plnr.simulate()"
   ]
  },
  {
   "cell_type": "code",
   "execution_count": null,
   "id": "4f96b4e6-4d11-40be-8672-60453a75a33d",
   "metadata": {},
   "outputs": [],
   "source": [
    "plnr = itstgcnGCLSTM.planner.PLNR_STGCN_RAND(plans_stgcn_rand,loader6,dataset_name='windmillsmallGCLSTM')\n",
    "plnr.simulate()"
   ]
  },
  {
   "cell_type": "code",
   "execution_count": null,
   "id": "fb476864-18e6-4749-8973-65e32860a368",
   "metadata": {},
   "outputs": [],
   "source": []
  }
 ],
 "metadata": {
  "kernelspec": {
   "display_name": "Python 3",
   "language": "python",
   "name": "python3"
  },
  "language_info": {
   "codemirror_mode": {
    "name": "ipython",
    "version": 3
   },
   "file_extension": ".py",
   "mimetype": "text/x-python",
   "name": "python",
   "nbconvert_exporter": "python",
   "pygments_lexer": "ipython3",
   "version": "3.8.0"
  }
 },
 "nbformat": 4,
 "nbformat_minor": 5
}
