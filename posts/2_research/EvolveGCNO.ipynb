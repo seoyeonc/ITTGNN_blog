{
 "cells": [
  {
   "cell_type": "markdown",
   "id": "a255dc72-d233-42fe-a7e5-ae5fe3714159",
   "metadata": {},
   "source": [
    "EvolveGCNO\t"
   ]
  },
  {
   "cell_type": "code",
   "execution_count": 1,
   "id": "5473847f-297d-4009-a292-903904b64661",
   "metadata": {},
   "outputs": [],
   "source": [
    "import itstgcnEvolveGCNO\t\n",
    "import torch\n",
    "import itstgcnEvolveGCNO.planner \n",
    "import pandas as pd\n",
    "\n",
    "import numpy as np\n",
    "import random"
   ]
  },
  {
   "cell_type": "code",
   "execution_count": 2,
   "id": "605d7d86-9f12-495e-be3e-c7dd6da3cffb",
   "metadata": {},
   "outputs": [],
   "source": [
    "loader6 = itstgcnEvolveGCNO.load_data('./data/Windmillsmall.pkl')"
   ]
  },
  {
   "cell_type": "code",
   "execution_count": 3,
   "id": "25029c2b-0906-40b2-9952-7af0a5da57b5",
   "metadata": {},
   "outputs": [],
   "source": [
    "mindex= [list(range(4500,10000)),list(range(4500,10000)),[],list(range(4500,10000)),list(range(4500,10000)),\\\n",
    "        list(range(4500,10000)),list(range(4500,10000)),[],list(range(4500,10000)),list(range(4500,10000)),[]]\n",
    "plans_stgcn_block = {\n",
    "    'max_iteration': 1, \n",
    "    'method': ['STGCN', 'IT-STGCN'], \n",
    "    'mindex': [mindex],\n",
    "    'lags': [8], \n",
    "    'nof_filters': [4], \n",
    "    'inter_method': ['linear'],\n",
    "    'epoch': [50]\n",
    "}"
   ]
  },
  {
   "cell_type": "code",
   "execution_count": null,
   "id": "c8dd5ea0-4660-4751-8843-e504ea6620ff",
   "metadata": {},
   "outputs": [
    {
     "name": "stderr",
     "output_type": "stream",
     "text": [
      "/home/csy/Dropbox/ITTGNN_blog/posts/2_research/itstgcnEvolveGCNO/utils.py:71: UserWarning: Creating a tensor from a list of numpy.ndarrays is extremely slow. Please consider converting the list to a single numpy.ndarray with numpy.array() before converting to a tensor. (Triggered internally at /opt/conda/conda-bld/pytorch_1682343998658/work/torch/csrc/utils/tensor_new.cpp:245.)\n",
      "  lags = torch.tensor(train_dataset.features).shape[-1]\n"
     ]
    },
    {
     "name": "stdout",
     "output_type": "stream",
     "text": [
      "42/50\r"
     ]
    }
   ],
   "source": [
    "plnr = itstgcnEvolveGCNO.planner.PLNR_STGCN_MANUAL(plans_stgcn_block,loader6,dataset_name='windmillsmallEvolveGCNO')\n",
    "plnr.simulate(mindex=mindex,mtype='block')"
   ]
  },
  {
   "cell_type": "code",
   "execution_count": null,
   "id": "a5a9bae7-ad5a-45c6-b084-d68503e4afb8",
   "metadata": {},
   "outputs": [],
   "source": [
    "plnr = itstgcnEvolveGCNO.planner.PLNR_STGCN_MANUAL(plans_stgcn_block,loader6,dataset_name='windmillsmallEvolveGCNO')\n",
    "plnr.simulate(mindex=mindex,mtype='block')"
   ]
  },
  {
   "cell_type": "code",
   "execution_count": null,
   "id": "eecec53a-a06e-4540-adb2-23d6cf3da52a",
   "metadata": {},
   "outputs": [],
   "source": [
    "plnr = itstgcnEvolveGCNO.planner.PLNR_STGCN_MANUAL(plans_stgcn_block,loader6,dataset_name='windmillsmallEvolveGCNO')\n",
    "plnr.simulate(mindex=mindex,mtype='block')"
   ]
  },
  {
   "cell_type": "code",
   "execution_count": null,
   "id": "9cbeda8f-8945-4179-a2de-2cf4f2fe25a0",
   "metadata": {},
   "outputs": [],
   "source": [
    "plnr = itstgcnEvolveGCNO.planner.PLNR_STGCN_MANUAL(plans_stgcn_block,loader6,dataset_name='windmillsmallEvolveGCNO')\n",
    "plnr.simulate(mindex=mindex,mtype='block')"
   ]
  },
  {
   "cell_type": "code",
   "execution_count": null,
   "id": "a1785036-1db5-4544-88ba-1e0079fe8b3a",
   "metadata": {},
   "outputs": [],
   "source": [
    "plnr = itstgcnEvolveGCNO.planner.PLNR_STGCN_MANUAL(plans_stgcn_block,loader6,dataset_name='windmillsmallEvolveGCNO')\n",
    "plnr.simulate(mindex=mindex,mtype='block')"
   ]
  },
  {
   "cell_type": "code",
   "execution_count": null,
   "id": "41289426-b34d-4b1c-9e30-833b5175c9e0",
   "metadata": {},
   "outputs": [],
   "source": [
    "plnr = itstgcnEvolveGCNO.planner.PLNR_STGCN_MANUAL(plans_stgcn_block,loader6,dataset_name='windmillsmallEvolveGCNO')\n",
    "plnr.simulate(mindex=mindex,mtype='block')"
   ]
  },
  {
   "cell_type": "code",
   "execution_count": null,
   "id": "b0b16ba0-2c72-4b23-8366-aa15565fba42",
   "metadata": {},
   "outputs": [],
   "source": [
    "plnr = itstgcnEvolveGCNO.planner.PLNR_STGCN_MANUAL(plans_stgcn_block,loader6,dataset_name='windmillsmallEvolveGCNO')\n",
    "plnr.simulate(mindex=mindex,mtype='block')"
   ]
  },
  {
   "cell_type": "code",
   "execution_count": null,
   "id": "9352d312-094e-4064-bd18-d994117df89a",
   "metadata": {},
   "outputs": [],
   "source": [
    "plnr = itstgcnEvolveGCNO.planner.PLNR_STGCN_MANUAL(plans_stgcn_block,loader6,dataset_name='windmillsmallEvolveGCNO')\n",
    "plnr.simulate(mindex=mindex,mtype='block')"
   ]
  },
  {
   "cell_type": "code",
   "execution_count": null,
   "id": "380a171f-8044-4e46-bfee-a5e6d2e4e04b",
   "metadata": {},
   "outputs": [],
   "source": [
    "plnr = itstgcnEvolveGCNO.planner.PLNR_STGCN_MANUAL(plans_stgcn_block,loader6,dataset_name='windmillsmallEvolveGCNO')\n",
    "plnr.simulate(mindex=mindex,mtype='block')"
   ]
  },
  {
   "cell_type": "code",
   "execution_count": null,
   "id": "8e68a0e9-7cb6-43f0-a1fa-607b5ac0aabe",
   "metadata": {},
   "outputs": [],
   "source": [
    "plnr = itstgcnEvolveGCNO.planner.PLNR_STGCN_MANUAL(plans_stgcn_block,loader6,dataset_name='windmillsmallEvolveGCNO')\n",
    "plnr.simulate(mindex=mindex,mtype='block')"
   ]
  },
  {
   "cell_type": "code",
   "execution_count": null,
   "id": "8ceddeff-be6d-4c45-b2f7-91719e578272",
   "metadata": {},
   "outputs": [],
   "source": [
    "plnr = itstgcnEvolveGCNO.planner.PLNR_STGCN_MANUAL(plans_stgcn_block,loader6,dataset_name='windmillsmallEvolveGCNO')\n",
    "plnr.simulate(mindex=mindex,mtype='block')"
   ]
  },
  {
   "cell_type": "code",
   "execution_count": null,
   "id": "f6719027-7c82-4a9e-b9c7-5917bcaeea20",
   "metadata": {},
   "outputs": [],
   "source": [
    "plnr = itstgcnEvolveGCNO.planner.PLNR_STGCN_MANUAL(plans_stgcn_block,loader6,dataset_name='windmillsmallEvolveGCNO')\n",
    "plnr.simulate(mindex=mindex,mtype='block')"
   ]
  },
  {
   "cell_type": "code",
   "execution_count": null,
   "id": "2efa301a-c80e-4c86-be08-ff8e263e4768",
   "metadata": {},
   "outputs": [],
   "source": [
    "plnr = itstgcnEvolveGCNO.planner.PLNR_STGCN_MANUAL(plans_stgcn_block,loader6,dataset_name='windmillsmallEvolveGCNO')\n",
    "plnr.simulate(mindex=mindex,mtype='block')"
   ]
  },
  {
   "cell_type": "code",
   "execution_count": null,
   "id": "347c4a50-848e-4dd9-b4e1-fc6cb29ca2d9",
   "metadata": {},
   "outputs": [],
   "source": [
    "plnr = itstgcnEvolveGCNO.planner.PLNR_STGCN_MANUAL(plans_stgcn_block,loader6,dataset_name='windmillsmallEvolveGCNO')\n",
    "plnr.simulate(mindex=mindex,mtype='block')"
   ]
  },
  {
   "cell_type": "code",
   "execution_count": null,
   "id": "bc20ea29-8f91-4582-82f4-53431639332d",
   "metadata": {},
   "outputs": [],
   "source": [
    "plnr = itstgcnEvolveGCNO.planner.PLNR_STGCN_MANUAL(plans_stgcn_block,loader6,dataset_name='windmillsmallEvolveGCNO')\n",
    "plnr.simulate(mindex=mindex,mtype='block')"
   ]
  },
  {
   "cell_type": "code",
   "execution_count": null,
   "id": "17728694-fb7a-49be-a470-362bb8b3b9d1",
   "metadata": {},
   "outputs": [],
   "source": [
    "plnr = itstgcnEvolveGCNO.planner.PLNR_STGCN_MANUAL(plans_stgcn_block,loader6,dataset_name='windmillsmallEvolveGCNO')\n",
    "plnr.simulate(mindex=mindex,mtype='block')"
   ]
  },
  {
   "cell_type": "code",
   "execution_count": null,
   "id": "ff544be7-4d0c-4621-93ff-bb955f021503",
   "metadata": {},
   "outputs": [],
   "source": [
    "plnr = itstgcnEvolveGCNO.planner.PLNR_STGCN_MANUAL(plans_stgcn_block,loader6,dataset_name='windmillsmallEvolveGCNO')\n",
    "plnr.simulate(mindex=mindex,mtype='block')"
   ]
  },
  {
   "cell_type": "code",
   "execution_count": null,
   "id": "72db061e-1ab3-4e7e-9552-9637aba8bce1",
   "metadata": {},
   "outputs": [],
   "source": [
    "plnr = itstgcnEvolveGCNO.planner.PLNR_STGCN_MANUAL(plans_stgcn_block,loader6,dataset_name='windmillsmallEvolveGCNO')\n",
    "plnr.simulate(mindex=mindex,mtype='block')"
   ]
  },
  {
   "cell_type": "code",
   "execution_count": null,
   "id": "2c5aef6c-48b5-4a3c-9c45-fa645155f5ab",
   "metadata": {},
   "outputs": [],
   "source": [
    "plnr = itstgcnEvolveGCNO.planner.PLNR_STGCN_MANUAL(plans_stgcn_block,loader6,dataset_name='windmillsmallEvolveGCNO')\n",
    "plnr.simulate(mindex=mindex,mtype='block')"
   ]
  },
  {
   "cell_type": "code",
   "execution_count": null,
   "id": "934250ae-61f1-44d8-8a34-bdd6bf48dd5f",
   "metadata": {},
   "outputs": [],
   "source": [
    "plnr = itstgcnEvolveGCNO.planner.PLNR_STGCN_MANUAL(plans_stgcn_block,loader6,dataset_name='windmillsmallEvolveGCNO')\n",
    "plnr.simulate(mindex=mindex,mtype='block')"
   ]
  }
 ],
 "metadata": {
  "kernelspec": {
   "display_name": "Python 3",
   "language": "python",
   "name": "python3"
  },
  "language_info": {
   "codemirror_mode": {
    "name": "ipython",
    "version": 3
   },
   "file_extension": ".py",
   "mimetype": "text/x-python",
   "name": "python",
   "nbconvert_exporter": "python",
   "pygments_lexer": "ipython3",
   "version": "3.8.0"
  }
 },
 "nbformat": 4,
 "nbformat_minor": 5
}
