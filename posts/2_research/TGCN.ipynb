{
 "cells": [
  {
   "cell_type": "markdown",
   "id": "bb926404-75ee-4ce4-91ac-f8f6818bd49e",
   "metadata": {},
   "source": [
    "TGCN"
   ]
  },
  {
   "cell_type": "code",
   "execution_count": null,
   "id": "3c5955d0-85de-44ac-a3ac-a9f7c699efd0",
   "metadata": {},
   "outputs": [],
   "source": [
    "import itstgcnTGCN\n",
    "import torch\n",
    "import itstgcnTGCN.planner \n",
    "import pandas as pd\n",
    "\n",
    "import numpy as np\n",
    "import random"
   ]
  },
  {
   "cell_type": "code",
   "execution_count": 2,
   "id": "82df6831-957b-47ad-8d64-8fac05aed71c",
   "metadata": {},
   "outputs": [],
   "source": [
    "loader6 = itstgcnTGCN.load_data('./data/Windmillsmall.pkl')"
   ]
  },
  {
   "cell_type": "code",
   "execution_count": 3,
   "id": "6c909776-08fd-4df7-8fff-400c0f11f156",
   "metadata": {},
   "outputs": [],
   "source": [
    "mindex= [list(range(4500,10000)),list(range(4500,10000)),[],list(range(4500,10000)),list(range(4500,10000)),\\\n",
    "        list(range(4500,10000)),list(range(4500,10000)),[],list(range(4500,10000)),list(range(4500,10000)),[]]\n",
    "plans_stgcn_block = {\n",
    "    'max_iteration': 1, \n",
    "    'method': ['STGCN', 'IT-STGCN'], \n",
    "    'mindex': [mindex],\n",
    "    'lags': [8], \n",
    "    'nof_filters': [12], \n",
    "    'inter_method': ['linear'],\n",
    "    'epoch': [50]\n",
    "}"
   ]
  },
  {
   "cell_type": "code",
   "execution_count": null,
   "id": "0bd1a874-c9ca-41f3-b30d-9d2e75f87919",
   "metadata": {},
   "outputs": [
    {
     "name": "stderr",
     "output_type": "stream",
     "text": [
      "/home/csy/Dropbox/ITTGNN_blog/posts/2_research/itstgcnTGCN/utils.py:71: UserWarning: Creating a tensor from a list of numpy.ndarrays is extremely slow. Please consider converting the list to a single numpy.ndarray with numpy.array() before converting to a tensor. (Triggered internally at /opt/conda/conda-bld/pytorch_1682343998658/work/torch/csrc/utils/tensor_new.cpp:245.)\n",
      "  lags = torch.tensor(train_dataset.features).shape[-1]\n"
     ]
    },
    {
     "name": "stdout",
     "output_type": "stream",
     "text": [
      "11/50\r"
     ]
    }
   ],
   "source": [
    "plnr = itstgcnTGCN.planner.PLNR_STGCN_MANUAL(plans_stgcn_block,loader6,dataset_name='sindmillsmallTGCN')\n",
    "plnr.simulate(mindex=mindex,mtype='block')"
   ]
  },
  {
   "cell_type": "code",
   "execution_count": null,
   "id": "3db9b976-f7cd-43ad-b683-3f81ea85306d",
   "metadata": {},
   "outputs": [],
   "source": [
    "plnr = itstgcnTGCN.planner.PLNR_STGCN_MANUAL(plans_stgcn_block,loader6,dataset_name='sindmillsmallTGCN')\n",
    "plnr.simulate(mindex=mindex,mtype='block')"
   ]
  },
  {
   "cell_type": "code",
   "execution_count": null,
   "id": "034b98af-20ff-41df-92c4-7a73f79b2f21",
   "metadata": {},
   "outputs": [],
   "source": [
    "plnr = itstgcnTGCN.planner.PLNR_STGCN_MANUAL(plans_stgcn_block,loader6,dataset_name='sindmillsmallTGCN')\n",
    "plnr.simulate(mindex=mindex,mtype='block')"
   ]
  },
  {
   "cell_type": "code",
   "execution_count": null,
   "id": "a95ff0f1-b997-4c88-9ac7-2a14955ca500",
   "metadata": {},
   "outputs": [],
   "source": [
    "plnr = itstgcnTGCN.planner.PLNR_STGCN_MANUAL(plans_stgcn_block,loader6,dataset_name='sindmillsmallTGCN')\n",
    "plnr.simulate(mindex=mindex,mtype='block')"
   ]
  },
  {
   "cell_type": "code",
   "execution_count": null,
   "id": "33a2184b-b717-494e-8adf-8871c64f2aaf",
   "metadata": {},
   "outputs": [],
   "source": [
    "plnr = itstgcnTGCN.planner.PLNR_STGCN_MANUAL(plans_stgcn_block,loader6,dataset_name='sindmillsmallTGCN')\n",
    "plnr.simulate(mindex=mindex,mtype='block')"
   ]
  },
  {
   "cell_type": "code",
   "execution_count": null,
   "id": "fc031cea-5f81-49fb-9a97-e4c945dfca55",
   "metadata": {},
   "outputs": [],
   "source": [
    "plnr = itstgcnTGCN.planner.PLNR_STGCN_MANUAL(plans_stgcn_block,loader6,dataset_name='sindmillsmallTGCN')\n",
    "plnr.simulate(mindex=mindex,mtype='block')"
   ]
  },
  {
   "cell_type": "code",
   "execution_count": null,
   "id": "b371ebeb-21f8-4378-9637-b5ce34772a16",
   "metadata": {},
   "outputs": [],
   "source": [
    "plnr = itstgcnTGCN.planner.PLNR_STGCN_MANUAL(plans_stgcn_block,loader6,dataset_name='sindmillsmallTGCN')\n",
    "plnr.simulate(mindex=mindex,mtype='block')"
   ]
  },
  {
   "cell_type": "code",
   "execution_count": null,
   "id": "f9c3ae00-840c-4526-b96d-6d9fbc1e139a",
   "metadata": {},
   "outputs": [],
   "source": [
    "plnr = itstgcnTGCN.planner.PLNR_STGCN_MANUAL(plans_stgcn_block,loader6,dataset_name='sindmillsmallTGCN')\n",
    "plnr.simulate(mindex=mindex,mtype='block')"
   ]
  },
  {
   "cell_type": "code",
   "execution_count": null,
   "id": "6c38fb52-86a6-4126-b6a9-b7ea56189c6f",
   "metadata": {},
   "outputs": [],
   "source": [
    "plnr = itstgcnTGCN.planner.PLNR_STGCN_MANUAL(plans_stgcn_block,loader6,dataset_name='sindmillsmallTGCN')\n",
    "plnr.simulate(mindex=mindex,mtype='block')"
   ]
  },
  {
   "cell_type": "code",
   "execution_count": null,
   "id": "111caa0c-4ba8-4f18-af86-26672c3de71b",
   "metadata": {},
   "outputs": [],
   "source": [
    "plnr = itstgcnTGCN.planner.PLNR_STGCN_MANUAL(plans_stgcn_block,loader6,dataset_name='sindmillsmallTGCN')\n",
    "plnr.simulate(mindex=mindex,mtype='block')"
   ]
  },
  {
   "cell_type": "code",
   "execution_count": null,
   "id": "2b888d8d-fb13-4204-8a5b-29461279e753",
   "metadata": {},
   "outputs": [],
   "source": [
    "plnr = itstgcnTGCN.planner.PLNR_STGCN_MANUAL(plans_stgcn_block,loader6,dataset_name='sindmillsmallTGCN')\n",
    "plnr.simulate(mindex=mindex,mtype='block')"
   ]
  },
  {
   "cell_type": "code",
   "execution_count": null,
   "id": "39a56422-51f3-451d-b3cd-2494a360728b",
   "metadata": {},
   "outputs": [],
   "source": [
    "plnr = itstgcnTGCN.planner.PLNR_STGCN_MANUAL(plans_stgcn_block,loader6,dataset_name='sindmillsmallTGCN')\n",
    "plnr.simulate(mindex=mindex,mtype='block')"
   ]
  },
  {
   "cell_type": "code",
   "execution_count": null,
   "id": "dd9f4315-6e7e-456d-b65a-15fbd23a30fe",
   "metadata": {},
   "outputs": [],
   "source": [
    "plnr = itstgcnTGCN.planner.PLNR_STGCN_MANUAL(plans_stgcn_block,loader6,dataset_name='sindmillsmallTGCN')\n",
    "plnr.simulate(mindex=mindex,mtype='block')"
   ]
  },
  {
   "cell_type": "code",
   "execution_count": null,
   "id": "4cf5b1c0-2da9-428e-8cd7-a13c5207204c",
   "metadata": {},
   "outputs": [],
   "source": [
    "plnr = itstgcnTGCN.planner.PLNR_STGCN_MANUAL(plans_stgcn_block,loader6,dataset_name='sindmillsmallTGCN')\n",
    "plnr.simulate(mindex=mindex,mtype='block')"
   ]
  },
  {
   "cell_type": "code",
   "execution_count": null,
   "id": "da9a216a-9125-4c58-8e38-2f0df99c151b",
   "metadata": {},
   "outputs": [],
   "source": [
    "plnr = itstgcnTGCN.planner.PLNR_STGCN_MANUAL(plans_stgcn_block,loader6,dataset_name='sindmillsmallTGCN')\n",
    "plnr.simulate(mindex=mindex,mtype='block')"
   ]
  },
  {
   "cell_type": "code",
   "execution_count": null,
   "id": "8d47d0ab-66fb-4037-853b-adbf74e0b7f5",
   "metadata": {},
   "outputs": [],
   "source": [
    "plnr = itstgcnTGCN.planner.PLNR_STGCN_MANUAL(plans_stgcn_block,loader6,dataset_name='sindmillsmallTGCN')\n",
    "plnr.simulate(mindex=mindex,mtype='block')"
   ]
  },
  {
   "cell_type": "code",
   "execution_count": null,
   "id": "19074946-d8bd-40ba-8233-b76f0f41b627",
   "metadata": {},
   "outputs": [],
   "source": [
    "plnr = itstgcnTGCN.planner.PLNR_STGCN_MANUAL(plans_stgcn_block,loader6,dataset_name='sindmillsmallTGCN')\n",
    "plnr.simulate(mindex=mindex,mtype='block')"
   ]
  },
  {
   "cell_type": "code",
   "execution_count": null,
   "id": "b14f054e-aa87-4dc7-81b7-511374885bee",
   "metadata": {},
   "outputs": [],
   "source": [
    "plnr = itstgcnTGCN.planner.PLNR_STGCN_MANUAL(plans_stgcn_block,loader6,dataset_name='sindmillsmallTGCN')\n",
    "plnr.simulate(mindex=mindex,mtype='block')"
   ]
  },
  {
   "cell_type": "code",
   "execution_count": null,
   "id": "f0ced8af-e099-4f71-848f-5837118cb2c2",
   "metadata": {},
   "outputs": [],
   "source": [
    "plnr = itstgcnTGCN.planner.PLNR_STGCN_MANUAL(plans_stgcn_block,loader6,dataset_name='sindmillsmallTGCN')\n",
    "plnr.simulate(mindex=mindex,mtype='block')"
   ]
  },
  {
   "cell_type": "code",
   "execution_count": null,
   "id": "56c975a9-2d43-4a7f-8cb9-02d04922c6f3",
   "metadata": {},
   "outputs": [],
   "source": []
  },
  {
   "cell_type": "code",
   "execution_count": null,
   "id": "9c32a7e2-0c32-44f5-bdd2-a4b34a18fb1d",
   "metadata": {},
   "outputs": [],
   "source": []
  }
 ],
 "metadata": {
  "kernelspec": {
   "display_name": "Python 3",
   "language": "python",
   "name": "python3"
  },
  "language_info": {
   "codemirror_mode": {
    "name": "ipython",
    "version": 3
   },
   "file_extension": ".py",
   "mimetype": "text/x-python",
   "name": "python",
   "nbconvert_exporter": "python",
   "pygments_lexer": "ipython3",
   "version": "3.8.0"
  }
 },
 "nbformat": 4,
 "nbformat_minor": 5
}
