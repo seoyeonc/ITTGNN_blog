{
 "cells": [
  {
   "cell_type": "markdown",
   "id": "bb926404-75ee-4ce4-91ac-f8f6818bd49e",
   "metadata": {},
   "source": [
    "EvolveGCNH\n"
   ]
  },
  {
   "cell_type": "code",
   "execution_count": 1,
   "id": "3c5955d0-85de-44ac-a3ac-a9f7c699efd0",
   "metadata": {},
   "outputs": [],
   "source": [
    "import itstgcnEvolveGCNH\n",
    "import torch\n",
    "import itstgcnEvolveGCNH.planner \n",
    "import pandas as pd\n",
    "\n",
    "import numpy as np\n",
    "import random"
   ]
  },
  {
   "cell_type": "code",
   "execution_count": 2,
   "id": "82df6831-957b-47ad-8d64-8fac05aed71c",
   "metadata": {},
   "outputs": [],
   "source": [
    "loader6 = itstgcnEvolveGCNH.load_data('./data/Windmillsmall.pkl')"
   ]
  },
  {
   "cell_type": "code",
   "execution_count": 3,
   "id": "6c909776-08fd-4df7-8fff-400c0f11f156",
   "metadata": {},
   "outputs": [],
   "source": [
    "mindex= [list(range(4500,10000)),list(range(4500,10000)),[],list(range(4500,10000)),list(range(4500,10000)),\\\n",
    "        list(range(4500,10000)),list(range(4500,10000)),[],list(range(4500,10000)),list(range(4500,10000)),[]]\n",
    "plans_stgcn_block = {\n",
    "    'max_iteration': 1, \n",
    "    'method': ['STGCN', 'IT-STGCN'], \n",
    "    'mindex': [mindex],\n",
    "    'lags': [8], \n",
    "    'nof_filters': [12], \n",
    "    'inter_method': ['linear'],\n",
    "    'epoch': [50]\n",
    "}"
   ]
  },
  {
   "cell_type": "code",
   "execution_count": null,
   "id": "a8a3e6bb-715e-4965-b8e6-e7e932b03795",
   "metadata": {},
   "outputs": [
    {
     "name": "stderr",
     "output_type": "stream",
     "text": [
      "/home/csy/Dropbox/ITTGNN_blog/posts/2_research/itstgcnEvolveGCNH/utils.py:71: UserWarning: Creating a tensor from a list of numpy.ndarrays is extremely slow. Please consider converting the list to a single numpy.ndarray with numpy.array() before converting to a tensor. (Triggered internally at /opt/conda/conda-bld/pytorch_1682343998658/work/torch/csrc/utils/tensor_new.cpp:245.)\n",
      "  lags = torch.tensor(train_dataset.features).shape[-1]\n"
     ]
    },
    {
     "name": "stdout",
     "output_type": "stream",
     "text": [
      "50/50\r"
     ]
    }
   ],
   "source": [
    "plnr = itstgcnEvolveGCNH.planner.PLNR_STGCN_MANUAL(plans_stgcn_block,loader6,dataset_name='windmillsmallEvolveGCNH')\n",
    "plnr.simulate(mindex=mindex,mtype='block')"
   ]
  },
  {
   "cell_type": "code",
   "execution_count": null,
   "id": "1a092f1d-f4e6-47af-9d23-a4e21b4fc311",
   "metadata": {},
   "outputs": [],
   "source": [
    "plnr = itstgcnEvolveGCNH.planner.PLNR_STGCN_MANUAL(plans_stgcn_block,loader6,dataset_name='windmillsmallEvolveGCNH')\n",
    "plnr.simulate(mindex=mindex,mtype='block')"
   ]
  },
  {
   "cell_type": "code",
   "execution_count": null,
   "id": "d3ff4cdc-a838-4886-bf6b-83135f8cdcea",
   "metadata": {},
   "outputs": [],
   "source": [
    "plnr = itstgcnEvolveGCNH.planner.PLNR_STGCN_MANUAL(plans_stgcn_block,loader6,dataset_name='windmillsmallEvolveGCNH')\n",
    "plnr.simulate(mindex=mindex,mtype='block')"
   ]
  },
  {
   "cell_type": "code",
   "execution_count": null,
   "id": "ee876f21-0eba-47bc-99ef-41af664aa018",
   "metadata": {},
   "outputs": [],
   "source": [
    "plnr = itstgcnEvolveGCNH.planner.PLNR_STGCN_MANUAL(plans_stgcn_block,loader6,dataset_name='windmillsmallEvolveGCNH')\n",
    "plnr.simulate(mindex=mindex,mtype='block')"
   ]
  },
  {
   "cell_type": "code",
   "execution_count": null,
   "id": "f4674c1c-5a35-4f80-a1e9-d1891bfc79d9",
   "metadata": {},
   "outputs": [],
   "source": [
    "plnr = itstgcnEvolveGCNH.planner.PLNR_STGCN_MANUAL(plans_stgcn_block,loader6,dataset_name='windmillsmallEvolveGCNH')\n",
    "plnr.simulate(mindex=mindex,mtype='block')"
   ]
  },
  {
   "cell_type": "code",
   "execution_count": null,
   "id": "7cc719e6-968e-4db8-b6c2-7fe289990fc6",
   "metadata": {},
   "outputs": [],
   "source": [
    "plnr = itstgcnEvolveGCNH.planner.PLNR_STGCN_MANUAL(plans_stgcn_block,loader6,dataset_name='windmillsmallEvolveGCNH')\n",
    "plnr.simulate(mindex=mindex,mtype='block')"
   ]
  },
  {
   "cell_type": "code",
   "execution_count": null,
   "id": "b9680d00-60cb-456d-8d56-b30a38eaa3c8",
   "metadata": {},
   "outputs": [],
   "source": [
    "plnr = itstgcnEvolveGCNH.planner.PLNR_STGCN_MANUAL(plans_stgcn_block,loader6,dataset_name='windmillsmallEvolveGCNH')\n",
    "plnr.simulate(mindex=mindex,mtype='block')"
   ]
  },
  {
   "cell_type": "code",
   "execution_count": null,
   "id": "c23a2304-70f2-4e77-b181-f34ce2b547a4",
   "metadata": {},
   "outputs": [],
   "source": [
    "plnr = itstgcnEvolveGCNH.planner.PLNR_STGCN_MANUAL(plans_stgcn_block,loader6,dataset_name='windmillsmallEvolveGCNH')\n",
    "plnr.simulate(mindex=mindex,mtype='block')"
   ]
  },
  {
   "cell_type": "code",
   "execution_count": null,
   "id": "e61ce39b-462c-4d5b-b882-acc9c41224b2",
   "metadata": {},
   "outputs": [],
   "source": [
    "plnr = itstgcnEvolveGCNH.planner.PLNR_STGCN_MANUAL(plans_stgcn_block,loader6,dataset_name='windmillsmallEvolveGCNH')\n",
    "plnr.simulate(mindex=mindex,mtype='block')"
   ]
  },
  {
   "cell_type": "code",
   "execution_count": null,
   "id": "dd5a7e07-c674-4c8f-8ac2-3170eeefbe84",
   "metadata": {},
   "outputs": [],
   "source": [
    "plnr = itstgcnEvolveGCNH.planner.PLNR_STGCN_MANUAL(plans_stgcn_block,loader6,dataset_name='windmillsmallEvolveGCNH')\n",
    "plnr.simulate(mindex=mindex,mtype='block')"
   ]
  },
  {
   "cell_type": "code",
   "execution_count": null,
   "id": "26a8eeec-d7ad-45f2-84f9-f9399b98e295",
   "metadata": {},
   "outputs": [],
   "source": [
    "plnr = itstgcnEvolveGCNH.planner.PLNR_STGCN_MANUAL(plans_stgcn_block,loader6,dataset_name='windmillsmallEvolveGCNH')\n",
    "plnr.simulate(mindex=mindex,mtype='block')"
   ]
  },
  {
   "cell_type": "code",
   "execution_count": null,
   "id": "20b57518-a4ea-4883-82cb-137b96d69c3a",
   "metadata": {},
   "outputs": [],
   "source": [
    "plnr = itstgcnEvolveGCNH.planner.PLNR_STGCN_MANUAL(plans_stgcn_block,loader6,dataset_name='windmillsmallEvolveGCNH')\n",
    "plnr.simulate(mindex=mindex,mtype='block')"
   ]
  },
  {
   "cell_type": "code",
   "execution_count": null,
   "id": "04188269-3d03-4c40-8fe6-ebfa90dea0bd",
   "metadata": {},
   "outputs": [],
   "source": [
    "plnr = itstgcnEvolveGCNH.planner.PLNR_STGCN_MANUAL(plans_stgcn_block,loader6,dataset_name='windmillsmallEvolveGCNH')\n",
    "plnr.simulate(mindex=mindex,mtype='block')"
   ]
  },
  {
   "cell_type": "code",
   "execution_count": null,
   "id": "7cc23c5e-4406-453e-8767-9b9c9303cc47",
   "metadata": {},
   "outputs": [],
   "source": [
    "plnr = itstgcnEvolveGCNH.planner.PLNR_STGCN_MANUAL(plans_stgcn_block,loader6,dataset_name='windmillsmallEvolveGCNH')\n",
    "plnr.simulate(mindex=mindex,mtype='block')"
   ]
  },
  {
   "cell_type": "code",
   "execution_count": null,
   "id": "56c975a9-2d43-4a7f-8cb9-02d04922c6f3",
   "metadata": {},
   "outputs": [],
   "source": []
  },
  {
   "cell_type": "code",
   "execution_count": null,
   "id": "9c32a7e2-0c32-44f5-bdd2-a4b34a18fb1d",
   "metadata": {},
   "outputs": [],
   "source": []
  }
 ],
 "metadata": {
  "kernelspec": {
   "display_name": "Python 3",
   "language": "python",
   "name": "python3"
  },
  "language_info": {
   "codemirror_mode": {
    "name": "ipython",
    "version": 3
   },
   "file_extension": ".py",
   "mimetype": "text/x-python",
   "name": "python",
   "nbconvert_exporter": "python",
   "pygments_lexer": "ipython3",
   "version": "3.8.0"
  }
 },
 "nbformat": 4,
 "nbformat_minor": 5
}
