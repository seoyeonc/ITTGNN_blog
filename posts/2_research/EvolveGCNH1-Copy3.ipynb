{
 "cells": [
  {
   "cell_type": "code",
   "execution_count": 1,
   "id": "3c5955d0-85de-44ac-a3ac-a9f7c699efd0",
   "metadata": {},
   "outputs": [],
   "source": [
    "import itstgcnEvolveGCNH\n",
    "import torch\n",
    "import itstgcnEvolveGCNH.planner \n",
    "import pandas as pd\n",
    "\n",
    "import numpy as np\n",
    "import random"
   ]
  },
  {
   "cell_type": "code",
   "execution_count": 2,
   "id": "82df6831-957b-47ad-8d64-8fac05aed71c",
   "metadata": {},
   "outputs": [],
   "source": [
    "loader6 = itstgcnEvolveGCNH.load_data('./data/Windmillsmall.pkl')"
   ]
  },
  {
   "cell_type": "code",
   "execution_count": 3,
   "id": "6c909776-08fd-4df7-8fff-400c0f11f156",
   "metadata": {},
   "outputs": [],
   "source": [
    "mindex= [list(range(4500,10000)),list(range(4500,10000)),[],list(range(4500,10000)),list(range(4500,10000)),\\\n",
    "        list(range(4500,10000)),list(range(4500,10000)),[],list(range(4500,10000)),list(range(4500,10000)),[]]\n",
    "plans_stgcn_block = {\n",
    "    'max_iteration': 1, \n",
    "    'method': ['STGCN', 'IT-STGCN'], \n",
    "    'mindex': [mindex],\n",
    "    'lags': [8], \n",
    "    'nof_filters': [12], \n",
    "    'inter_method': ['linear'],\n",
    "    'epoch': [50]\n",
    "}"
   ]
  },
  {
   "cell_type": "code",
   "execution_count": null,
   "id": "2179b893-3d21-4bc7-9a78-8ae444cca31d",
   "metadata": {},
   "outputs": [
    {
     "name": "stderr",
     "output_type": "stream",
     "text": [
      "/home/csy/Dropbox/ITTGNN_blog/posts/2_research/itstgcnEvolveGCNH/utils.py:71: UserWarning: Creating a tensor from a list of numpy.ndarrays is extremely slow. Please consider converting the list to a single numpy.ndarray with numpy.array() before converting to a tensor. (Triggered internally at /opt/conda/conda-bld/pytorch_1682343998658/work/torch/csrc/utils/tensor_new.cpp:245.)\n",
      "  lags = torch.tensor(train_dataset.features).shape[-1]\n"
     ]
    },
    {
     "name": "stdout",
     "output_type": "stream",
     "text": [
      "44/50\r"
     ]
    }
   ],
   "source": [
    "plnr = itstgcnEvolveGCNH.planner.PLNR_STGCN_MANUAL(plans_stgcn_block,loader6,dataset_name='windmillsmallEvolveGCNH')\n",
    "plnr.simulate(mindex=mindex,mtype='block')"
   ]
  },
  {
   "cell_type": "code",
   "execution_count": null,
   "id": "24302aa1-b8d0-4d76-b916-4f696f56efdd",
   "metadata": {},
   "outputs": [],
   "source": [
    "plnr = itstgcnEvolveGCNH.planner.PLNR_STGCN_MANUAL(plans_stgcn_block,loader6,dataset_name='windmillsmallEvolveGCNH')\n",
    "plnr.simulate(mindex=mindex,mtype='block')"
   ]
  },
  {
   "cell_type": "code",
   "execution_count": null,
   "id": "d059a8e0-f9fc-450a-9ead-62eba3d2b209",
   "metadata": {},
   "outputs": [],
   "source": [
    "plnr = itstgcnEvolveGCNH.planner.PLNR_STGCN_MANUAL(plans_stgcn_block,loader6,dataset_name='windmillsmallEvolveGCNH')\n",
    "plnr.simulate(mindex=mindex,mtype='block')"
   ]
  },
  {
   "cell_type": "code",
   "execution_count": null,
   "id": "238345a8-24ec-4423-a9bd-3c71545e6fa6",
   "metadata": {},
   "outputs": [],
   "source": [
    "plnr = itstgcnEvolveGCNH.planner.PLNR_STGCN_MANUAL(plans_stgcn_block,loader6,dataset_name='windmillsmallEvolveGCNH')\n",
    "plnr.simulate(mindex=mindex,mtype='block')"
   ]
  },
  {
   "cell_type": "code",
   "execution_count": null,
   "id": "dc48a4f0-8ad1-407e-9c9b-05760525cf70",
   "metadata": {},
   "outputs": [],
   "source": [
    "plnr = itstgcnEvolveGCNH.planner.PLNR_STGCN_MANUAL(plans_stgcn_block,loader6,dataset_name='windmillsmallEvolveGCNH')\n",
    "plnr.simulate(mindex=mindex,mtype='block')"
   ]
  },
  {
   "cell_type": "code",
   "execution_count": null,
   "id": "12415c3f-3b06-4b6b-91a3-4ef044248672",
   "metadata": {},
   "outputs": [],
   "source": [
    "plnr = itstgcnEvolveGCNH.planner.PLNR_STGCN_MANUAL(plans_stgcn_block,loader6,dataset_name='windmillsmallEvolveGCNH')\n",
    "plnr.simulate(mindex=mindex,mtype='block')"
   ]
  },
  {
   "cell_type": "code",
   "execution_count": null,
   "id": "f90b19d1-e921-4578-b1af-bf5373bf0a77",
   "metadata": {},
   "outputs": [],
   "source": [
    "plnr = itstgcnEvolveGCNH.planner.PLNR_STGCN_MANUAL(plans_stgcn_block,loader6,dataset_name='windmillsmallEvolveGCNH')\n",
    "plnr.simulate(mindex=mindex,mtype='block')"
   ]
  },
  {
   "cell_type": "code",
   "execution_count": null,
   "id": "a4edc6e0-6e4f-4072-8fa3-f562429eab7b",
   "metadata": {},
   "outputs": [],
   "source": [
    "plnr = itstgcnEvolveGCNH.planner.PLNR_STGCN_MANUAL(plans_stgcn_block,loader6,dataset_name='windmillsmallEvolveGCNH')\n",
    "plnr.simulate(mindex=mindex,mtype='block')"
   ]
  },
  {
   "cell_type": "code",
   "execution_count": null,
   "id": "dc46ed12-6c75-4931-b5d8-30860d67eed8",
   "metadata": {},
   "outputs": [],
   "source": [
    "plnr = itstgcnEvolveGCNH.planner.PLNR_STGCN_MANUAL(plans_stgcn_block,loader6,dataset_name='windmillsmallEvolveGCNH')\n",
    "plnr.simulate(mindex=mindex,mtype='block')"
   ]
  },
  {
   "cell_type": "code",
   "execution_count": null,
   "id": "40202b7a-06cc-4c72-8f09-46b9d532a8f9",
   "metadata": {},
   "outputs": [],
   "source": [
    "plnr = itstgcnEvolveGCNH.planner.PLNR_STGCN_MANUAL(plans_stgcn_block,loader6,dataset_name='windmillsmallEvolveGCNH')\n",
    "plnr.simulate(mindex=mindex,mtype='block')"
   ]
  },
  {
   "cell_type": "code",
   "execution_count": null,
   "id": "4bfd07cc-931f-4964-a1c7-ec984a7d0f4f",
   "metadata": {},
   "outputs": [],
   "source": [
    "plnr = itstgcnEvolveGCNH.planner.PLNR_STGCN_MANUAL(plans_stgcn_block,loader6,dataset_name='windmillsmallEvolveGCNH')\n",
    "plnr.simulate(mindex=mindex,mtype='block')"
   ]
  },
  {
   "cell_type": "code",
   "execution_count": null,
   "id": "78ca6aed-472c-4a61-9af8-8e5774dbfa3a",
   "metadata": {},
   "outputs": [],
   "source": [
    "plnr = itstgcnEvolveGCNH.planner.PLNR_STGCN_MANUAL(plans_stgcn_block,loader6,dataset_name='windmillsmallEvolveGCNH')\n",
    "plnr.simulate(mindex=mindex,mtype='block')"
   ]
  },
  {
   "cell_type": "code",
   "execution_count": null,
   "id": "0697921c-b610-4c00-a4ba-9f77f83dc9fa",
   "metadata": {},
   "outputs": [],
   "source": [
    "plnr = itstgcnEvolveGCNH.planner.PLNR_STGCN_MANUAL(plans_stgcn_block,loader6,dataset_name='windmillsmallEvolveGCNH')\n",
    "plnr.simulate(mindex=mindex,mtype='block')"
   ]
  },
  {
   "cell_type": "code",
   "execution_count": null,
   "id": "685c0ce9-d204-425b-aac1-168972f043ae",
   "metadata": {},
   "outputs": [],
   "source": [
    "plnr = itstgcnEvolveGCNH.planner.PLNR_STGCN_MANUAL(plans_stgcn_block,loader6,dataset_name='windmillsmallEvolveGCNH')\n",
    "plnr.simulate(mindex=mindex,mtype='block')"
   ]
  },
  {
   "cell_type": "code",
   "execution_count": null,
   "id": "56c975a9-2d43-4a7f-8cb9-02d04922c6f3",
   "metadata": {},
   "outputs": [],
   "source": []
  },
  {
   "cell_type": "code",
   "execution_count": null,
   "id": "9c32a7e2-0c32-44f5-bdd2-a4b34a18fb1d",
   "metadata": {},
   "outputs": [],
   "source": []
  }
 ],
 "metadata": {
  "kernelspec": {
   "display_name": "Python 3",
   "language": "python",
   "name": "python3"
  },
  "language_info": {
   "codemirror_mode": {
    "name": "ipython",
    "version": 3
   },
   "file_extension": ".py",
   "mimetype": "text/x-python",
   "name": "python",
   "nbconvert_exporter": "python",
   "pygments_lexer": "ipython3",
   "version": "3.8.0"
  }
 },
 "nbformat": 4,
 "nbformat_minor": 5
}
