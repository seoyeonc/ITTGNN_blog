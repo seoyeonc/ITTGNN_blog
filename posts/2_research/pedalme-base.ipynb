{
 "cells": [
  {
   "cell_type": "raw",
   "id": "43e511fe-f020-4da6-a9ca-f80abb6cddbf",
   "metadata": {
    "id": "cac470df-29e7-4148-9bbd-d8b9a32fa570",
    "tags": []
   },
   "source": [
    "---\n",
    "title: \"pedalme base check\"\n",
    "author: \"SEOYEON CHOI\"\n",
    "date: \"2024-02-02\"\n",
    "---"
   ]
  },
  {
   "cell_type": "markdown",
   "id": "dd869e37-cc32-486c-99bb-d722e174a24c",
   "metadata": {},
   "source": [
    "| Model               | FiveVTS | Chickenpox | Pedalme | Wikimath | Windmillsmall | MontevideoBus |\n",
    "|---------------------|---------|------------|---------|----------|---------------|---------------|\n",
    "| Max iter.           | 30      | 30         | 30      | 30       | 30            | 30            |\n",
    "| Epochs              | 50      | 50         | 50      | 50       | 50            | 50            |\n",
    "| Lags                | 2       | 4          | 4       | 8        | 8             | 4             |\n",
    "| Interpolation       | linear  | linear     | nearest | linear   | linear        | nearest       |\n",
    "| Filters             |         |            |         |          |               |               |\n",
    "| GConvGRU            | 12      | 16         | 12      | 12       | 12            | 12            |\n",
    "| GConvLSTM           | 12      | 32         | 2       | 64       | 16            | 12            |\n",
    "| GCLSTM              | 4       | 16         | 4       | 64       | 16            | 12            |\n",
    "| LRGCN               | 4       | 8          | 8       | 32       | 12            | 2             |\n",
    "| DyGrEncoder         | 12      | 12         | 12      | 12       | 12            | 12            |\n",
    "| EvolveGCNH          | No need | No need    | No need | No need  | No need       | No need       |\n",
    "| EvolveGCNO          | No need | No need    | No need | No need  | No need       | No need       |\n",
    "| TGCN                | 12      | 12         | 12      | 12       | 12            | 8             |\n",
    "| DCRNN               | 2       | 16         | 8       | 12       | 4             | 12            |\n"
   ]
  },
  {
   "cell_type": "code",
   "execution_count": 3,
   "id": "a44d3da8-572e-4c11-b442-b403e364be26",
   "metadata": {},
   "outputs": [],
   "source": [
    "import pandas as pd\n",
    "\n",
    "import itstgcnTGCN\n",
    "import torch\n",
    "import itstgcnTGCN.planner "
   ]
  },
  {
   "cell_type": "code",
   "execution_count": 4,
   "id": "21b18310-1cd6-45df-9448-87d8d9c8f310",
   "metadata": {},
   "outputs": [],
   "source": [
    "from torch_geometric_temporal.dataset import PedalMeDatasetLoader\n",
    "loader2 = PedalMeDatasetLoader()"
   ]
  },
  {
   "cell_type": "code",
   "execution_count": 5,
   "id": "c35be09f-1689-44ca-ac60-9fbd9a56910a",
   "metadata": {},
   "outputs": [],
   "source": [
    "plans_stgcn_rand = {\n",
    "    'max_iteration': 30, \n",
    "    'method': ['STGCN', 'IT-STGCN'],\n",
    "    'mrate': [0],\n",
    "    'lags': [4], \n",
    "    'nof_filters': [12], \n",
    "    'inter_method': ['linear'],\n",
    "    'epoch': [50]\n",
    "}"
   ]
  },
  {
   "cell_type": "code",
   "execution_count": null,
   "id": "1ead0391-dad0-4d26-b592-3fd906449731",
   "metadata": {},
   "outputs": [
    {
     "name": "stdout",
     "output_type": "stream",
     "text": [
      "1/30 is done\n",
      "2/30 is done\n",
      "3/30 is done\n",
      "4/30 is done\n",
      "5/30 is done\n",
      "6/30 is done\n",
      "7/30 is done\n",
      "8/30 is done\n",
      "9/30 is done\n",
      "10/30 is done\n",
      "11/30 is done\n",
      "12/30 is done\n",
      "13/30 is done\n",
      "14/30 is done\n",
      "15/30 is done\n",
      "16/30 is done\n",
      "17/30 is done\n",
      "18/30 is done\n",
      "19/30 is done\n",
      "20/30 is done\n",
      "21/30 is done\n",
      "22/30 is done\n",
      "23/30 is done\n",
      "24/30 is done\n",
      "25/30 is done\n",
      "26/30 is done\n",
      "27/30 is done\n",
      "28/30 is done\n",
      "2/50\r"
     ]
    }
   ],
   "source": [
    "plnr = itstgcnTGCN.planner.PLNR_STGCN_RAND(plans_stgcn_rand,loader2,dataset_name='pedalme')\n",
    "plnr.simulate()"
   ]
  },
  {
   "cell_type": "code",
   "execution_count": null,
   "id": "3bcfa832-14f9-4e4a-8dce-935486f31f6a",
   "metadata": {},
   "outputs": [],
   "source": [
    "plnr = itstgcnTGCN.planner.PLNR_STGCN_RAND(plans_stgcn_rand,loader2,dataset_name='pedalme')\n",
    "plnr.simulate()"
   ]
  },
  {
   "cell_type": "code",
   "execution_count": null,
   "id": "e757cfb7-d7dc-40cb-9ff6-44a7bf0ecf6b",
   "metadata": {},
   "outputs": [],
   "source": []
  },
  {
   "cell_type": "code",
   "execution_count": null,
   "id": "d8b940e1-8ccf-4f58-ab8d-b4d6d4b8b80b",
   "metadata": {},
   "outputs": [],
   "source": [
    "pd.concat([pd.DataFrame('./simulation)results/2024-02-04_09-21-48.csv'),\n",
    "          pd.DataFrame('./simulation)results/2024-02-04_09-26-46.csv'),\n",
    "          pd.DataFrame('./simulation)results/2024-02-04_09-31-36.csv'),\n",
    "          pd.DataFrame('./simulation)results/.csv'),\n",
    "          pd.DataFrame('./simulation)results/.csv'),\n",
    "          ]).groupby(['method']).mean('mse')"
   ]
  },
  {
   "cell_type": "code",
   "execution_count": null,
   "id": "1871c1c2-1ad3-4e55-a9b3-8387e5178a28",
   "metadata": {},
   "outputs": [],
   "source": []
  },
  {
   "cell_type": "code",
   "execution_count": null,
   "id": "f24add8e-4853-46ac-89ea-b94532f34c9f",
   "metadata": {},
   "outputs": [],
   "source": []
  },
  {
   "cell_type": "markdown",
   "id": "fc9008d6-4bab-4a98-b5b1-ff19717a367c",
   "metadata": {},
   "source": [
    "# Check"
   ]
  },
  {
   "cell_type": "markdown",
   "id": "baebf0ba-b0ef-4561-9597-c8588445c4fa",
   "metadata": {},
   "source": [
    "---"
   ]
  },
  {
   "cell_type": "code",
   "execution_count": 3,
   "id": "489056af-7e73-44cf-9dea-81f37dbdcd25",
   "metadata": {},
   "outputs": [],
   "source": [
    "import torch_geometric_temporal"
   ]
  },
  {
   "cell_type": "code",
   "execution_count": 4,
   "id": "568c6515-4ab7-4416-baa9-13f888c64b8f",
   "metadata": {},
   "outputs": [],
   "source": [
    "dataset = loader2.get_dataset(lags=4)"
   ]
  },
  {
   "cell_type": "code",
   "execution_count": 5,
   "id": "18d8f925-6f00-47f4-8f92-f2976d66b106",
   "metadata": {},
   "outputs": [],
   "source": [
    "train_dataset, test_dataset = torch_geometric_temporal.signal.temporal_signal_split(dataset, train_ratio=0.8)"
   ]
  },
  {
   "cell_type": "code",
   "execution_count": 6,
   "id": "73c3102d-3edb-47b6-8a23-505353cbe8d6",
   "metadata": {},
   "outputs": [],
   "source": [
    "mtype = None\n",
    "inter_method = None "
   ]
  },
  {
   "cell_type": "code",
   "execution_count": 7,
   "id": "b5454568-b114-4974-8e1e-9d5c3acb7afa",
   "metadata": {},
   "outputs": [
    {
     "name": "stdout",
     "output_type": "stream",
     "text": [
      "1/1\r"
     ]
    },
    {
     "name": "stderr",
     "output_type": "stream",
     "text": [
      "/home/csy/Dropbox/ITTGNN_blog/posts/2_research/itstgcnTGCN/learners.py:84: UserWarning: Creating a tensor from a list of numpy.ndarrays is extremely slow. Please consider converting the list to a single numpy.ndarray with numpy.array() before converting to a tensor. (Triggered internally at /opt/conda/conda-bld/pytorch_1682343998658/work/torch/csrc/utils/tensor_new.cpp:245.)\n",
      "  self.lags = torch.tensor(train_dataset.features).shape[-1]\n"
     ]
    },
    {
     "data": {
      "text/plain": [
       "1.337457299232483"
      ]
     },
     "execution_count": 7,
     "metadata": {},
     "output_type": "execute_result"
    }
   ],
   "source": [
    "method = 'STGCN'\n",
    "lrnr = itstgcnTGCN.StgcnLearner(train_dataset,dataset_name='pedalme')\n",
    "lrnr.learn(filters=12,epoch=1)\n",
    "evtor = itstgcnTGCN.Evaluator(lrnr,train_dataset,test_dataset)\n",
    "evtor.calculate_mse()\n",
    "evtor.mse['test']['total']"
   ]
  },
  {
   "cell_type": "code",
   "execution_count": 8,
   "id": "f0c5c9eb-54ad-4046-bf60-ebdba07375aa",
   "metadata": {},
   "outputs": [
    {
     "name": "stdout",
     "output_type": "stream",
     "text": [
      "1/1\r"
     ]
    },
    {
     "data": {
      "text/plain": [
       "1.200137734413147"
      ]
     },
     "execution_count": 8,
     "metadata": {},
     "output_type": "execute_result"
    }
   ],
   "source": [
    "method = 'IT-STGCN'\n",
    "lrnr = itstgcnTGCN.ITStgcnLearner(train_dataset,dataset_name='pedalme')\n",
    "lrnr.learn(filters=12,epoch=1)\n",
    "evtor = itstgcnTGCN.Evaluator(lrnr,train_dataset,test_dataset)\n",
    "evtor.calculate_mse()\n",
    "evtor.mse['test']['total']"
   ]
  },
  {
   "cell_type": "markdown",
   "id": "6d07573b-d6e6-4a0d-9d3b-42b09b70cd4d",
   "metadata": {},
   "source": [
    "---"
   ]
  },
  {
   "cell_type": "code",
   "execution_count": 81,
   "id": "67b341e4-f9fc-4b15-8cbd-b66fdb88b555",
   "metadata": {},
   "outputs": [],
   "source": [
    "import itstgcnTGCN"
   ]
  },
  {
   "cell_type": "code",
   "execution_count": 82,
   "id": "994944e7-f0e3-4013-8dcc-2a730e35bcdb",
   "metadata": {},
   "outputs": [],
   "source": [
    "from torch_geometric_temporal.dataset import PedalMeDatasetLoader\n",
    "loader2 = PedalMeDatasetLoader()"
   ]
  },
  {
   "cell_type": "code",
   "execution_count": 83,
   "id": "0b42ffa2-5ccf-440f-a821-5e04eff496d7",
   "metadata": {},
   "outputs": [],
   "source": [
    "import torch_geometric_temporal"
   ]
  },
  {
   "cell_type": "code",
   "execution_count": 85,
   "id": "8e3813bf-d42b-434a-af05-ab2611219e3b",
   "metadata": {},
   "outputs": [],
   "source": [
    "dataset = loader2.get_dataset(lags=4)"
   ]
  },
  {
   "cell_type": "code",
   "execution_count": 86,
   "id": "bd76aa7e-409d-463e-b012-fca5206e475b",
   "metadata": {},
   "outputs": [],
   "source": [
    "train_dataset, test_dataset = torch_geometric_temporal.signal.temporal_signal_split(dataset, train_ratio=0.8)"
   ]
  },
  {
   "cell_type": "code",
   "execution_count": 87,
   "id": "f35e4267-ecfc-4d6d-9ae7-3c0a5d732310",
   "metadata": {},
   "outputs": [],
   "source": [
    "f,lags = itstgcnTGCN.convert_train_dataset(train_dataset)"
   ]
  },
  {
   "cell_type": "code",
   "execution_count": 94,
   "id": "1fa25d72-7aec-4b4d-9626-01985f16ba37",
   "metadata": {},
   "outputs": [],
   "source": [
    "\n",
    "from rpy2.robjects.vectors import FloatVector\n",
    "import rpy2.robjects as robjects\n",
    "from rpy2.robjects.packages import importr\n",
    "import rpy2.robjects.numpy2ri as rpyn\n",
    "GNAR = importr('GNAR') # import GNAR \n",
    "#igraph = importr('igraph') # import igraph \n",
    "\n",
    "ebayesthresh = importr('EbayesThresh').ebayesthresh"
   ]
  },
  {
   "cell_type": "code",
   "execution_count": 95,
   "id": "e43c6f28-c70a-416b-a5d2-12566994b561",
   "metadata": {},
   "outputs": [],
   "source": [
    "f = np.array(f)\n",
    "if len(f.shape)==1: f = f.reshape(-1,1)\n",
    "T,N = f.shape\n",
    "Psi = itstgcnTGCN.make_Psi(T)\n",
    "fbar = Psi.T @ f # apply dft \n",
    "fbar_threshed = np.stack([ebayesthresh(FloatVector(fbar[:,i])) for i in range(N)],axis=1)\n",
    "fhat = Psi @ fbar_threshed # inverse dft "
   ]
  },
  {
   "cell_type": "code",
   "execution_count": 100,
   "id": "3323ae04-b033-4c53-8ec0-356865b9b4f7",
   "metadata": {},
   "outputs": [
    {
     "data": {
      "text/plain": [
       "array([[0., 0., 0., 0., 0., 0., 0., 0., 0., 0., 0., 0., 0., 0., 0.],\n",
       "       [0., 0., 0., 0., 0., 0., 0., 0., 0., 0., 0., 0., 0., 0., 0.],\n",
       "       [0., 0., 0., 0., 0., 0., 0., 0., 0., 0., 0., 0., 0., 0., 0.],\n",
       "       [0., 0., 0., 0., 0., 0., 0., 0., 0., 0., 0., 0., 0., 0., 0.],\n",
       "       [0., 0., 0., 0., 0., 0., 0., 0., 0., 0., 0., 0., 0., 0., 0.],\n",
       "       [0., 0., 0., 0., 0., 0., 0., 0., 0., 0., 0., 0., 0., 0., 0.],\n",
       "       [0., 0., 0., 0., 0., 0., 0., 0., 0., 0., 0., 0., 0., 0., 0.],\n",
       "       [0., 0., 0., 0., 0., 0., 0., 0., 0., 0., 0., 0., 0., 0., 0.],\n",
       "       [0., 0., 0., 0., 0., 0., 0., 0., 0., 0., 0., 0., 0., 0., 0.],\n",
       "       [0., 0., 0., 0., 0., 0., 0., 0., 0., 0., 0., 0., 0., 0., 0.],\n",
       "       [0., 0., 0., 0., 0., 0., 0., 0., 0., 0., 0., 0., 0., 0., 0.],\n",
       "       [0., 0., 0., 0., 0., 0., 0., 0., 0., 0., 0., 0., 0., 0., 0.],\n",
       "       [0., 0., 0., 0., 0., 0., 0., 0., 0., 0., 0., 0., 0., 0., 0.],\n",
       "       [0., 0., 0., 0., 0., 0., 0., 0., 0., 0., 0., 0., 0., 0., 0.],\n",
       "       [0., 0., 0., 0., 0., 0., 0., 0., 0., 0., 0., 0., 0., 0., 0.],\n",
       "       [0., 0., 0., 0., 0., 0., 0., 0., 0., 0., 0., 0., 0., 0., 0.],\n",
       "       [0., 0., 0., 0., 0., 0., 0., 0., 0., 0., 0., 0., 0., 0., 0.],\n",
       "       [0., 0., 0., 0., 0., 0., 0., 0., 0., 0., 0., 0., 0., 0., 0.],\n",
       "       [0., 0., 0., 0., 0., 0., 0., 0., 0., 0., 0., 0., 0., 0., 0.],\n",
       "       [0., 0., 0., 0., 0., 0., 0., 0., 0., 0., 0., 0., 0., 0., 0.],\n",
       "       [0., 0., 0., 0., 0., 0., 0., 0., 0., 0., 0., 0., 0., 0., 0.],\n",
       "       [0., 0., 0., 0., 0., 0., 0., 0., 0., 0., 0., 0., 0., 0., 0.],\n",
       "       [0., 0., 0., 0., 0., 0., 0., 0., 0., 0., 0., 0., 0., 0., 0.],\n",
       "       [0., 0., 0., 0., 0., 0., 0., 0., 0., 0., 0., 0., 0., 0., 0.],\n",
       "       [0., 0., 0., 0., 0., 0., 0., 0., 0., 0., 0., 0., 0., 0., 0.],\n",
       "       [0., 0., 0., 0., 0., 0., 0., 0., 0., 0., 0., 0., 0., 0., 0.],\n",
       "       [0., 0., 0., 0., 0., 0., 0., 0., 0., 0., 0., 0., 0., 0., 0.],\n",
       "       [0., 0., 0., 0., 0., 0., 0., 0., 0., 0., 0., 0., 0., 0., 0.]])"
      ]
     },
     "execution_count": 100,
     "metadata": {},
     "output_type": "execute_result"
    }
   ],
   "source": [
    "itstgcnTGCN.update_from_freq_domain(f,None) - f"
   ]
  },
  {
   "cell_type": "code",
   "execution_count": null,
   "id": "d43b6616-c0ac-47aa-a30f-76b5128ae324",
   "metadata": {},
   "outputs": [],
   "source": [
    "\n",
    "                "
   ]
  },
  {
   "cell_type": "code",
   "execution_count": null,
   "id": "645203d9-348b-44b2-a7b3-d9de726b2854",
   "metadata": {},
   "outputs": [],
   "source": []
  }
 ],
 "metadata": {
  "kernelspec": {
   "display_name": "Python 3",
   "language": "python",
   "name": "python3"
  },
  "language_info": {
   "codemirror_mode": {
    "name": "ipython",
    "version": 3
   },
   "file_extension": ".py",
   "mimetype": "text/x-python",
   "name": "python",
   "nbconvert_exporter": "python",
   "pygments_lexer": "ipython3",
   "version": "3.8.0"
  }
 },
 "nbformat": 4,
 "nbformat_minor": 5
}
