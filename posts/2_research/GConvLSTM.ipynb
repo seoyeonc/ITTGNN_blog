{
 "cells": [
  {
   "cell_type": "markdown",
   "id": "8fbffe65-83d1-4f1d-a454-d6b6e7890433",
   "metadata": {},
   "source": [
    "GConvLSTM"
   ]
  },
  {
   "cell_type": "code",
   "execution_count": 1,
   "id": "1eba8b27-9cba-413b-86f2-75b71ab55e5d",
   "metadata": {},
   "outputs": [],
   "source": [
    "import itstgcnGConvLSTM\n",
    "import torch\n",
    "import itstgcnGConvLSTM.planner \n",
    "import pandas as pd\n",
    "\n",
    "import numpy as np\n",
    "import random"
   ]
  },
  {
   "cell_type": "code",
   "execution_count": 2,
   "id": "27cd4f1f-e1d9-40f4-92b1-64acd226cbfa",
   "metadata": {},
   "outputs": [],
   "source": [
    "loader6 = itstgcnGConvLSTM.load_data('./data/Windmillsmall.pkl')"
   ]
  },
  {
   "cell_type": "code",
   "execution_count": 3,
   "id": "1af11439-29c7-4a87-97e0-9515bb8954b2",
   "metadata": {},
   "outputs": [],
   "source": [
    "mindex= [list(range(4500,10000)),list(range(4500,10000)),[],list(range(4500,10000)),list(range(4500,10000)),\\\n",
    "        list(range(4500,10000)),list(range(4500,10000)),[],list(range(4500,10000)),list(range(4500,10000)),[]]\n",
    "plans_stgcn_block = {\n",
    "    'max_iteration': 1, \n",
    "    'method': ['STGCN', 'IT-STGCN'], \n",
    "    'mindex': [mindex],\n",
    "    'lags': [8], \n",
    "    'nof_filters': [12], \n",
    "    'inter_method': ['linear'],\n",
    "    'epoch': [50]\n",
    "}"
   ]
  },
  {
   "cell_type": "code",
   "execution_count": null,
   "id": "849d2aa5-1e6b-4564-9008-47748d00483d",
   "metadata": {},
   "outputs": [
    {
     "name": "stderr",
     "output_type": "stream",
     "text": [
      "/home/csy/Dropbox/ITTGNN_blog/posts/2_research/itstgcnGConvLSTM/utils.py:71: UserWarning: Creating a tensor from a list of numpy.ndarrays is extremely slow. Please consider converting the list to a single numpy.ndarray with numpy.array() before converting to a tensor. (Triggered internally at /opt/conda/conda-bld/pytorch_1682343998658/work/torch/csrc/utils/tensor_new.cpp:245.)\n",
      "  lags = torch.tensor(train_dataset.features).shape[-1]\n"
     ]
    },
    {
     "name": "stdout",
     "output_type": "stream",
     "text": [
      "10/50\r"
     ]
    }
   ],
   "source": [
    "plnr = itstgcnGConvLSTM.planner.PLNR_STGCN_MANUAL(plans_stgcn_block,loader6,dataset_name='sindmillsmallGConvLSTM')\n",
    "plnr.simulate(mindex=mindex,mtype='block')"
   ]
  },
  {
   "cell_type": "code",
   "execution_count": null,
   "id": "73d8189e-20f7-42e5-8c57-71bf01375882",
   "metadata": {},
   "outputs": [],
   "source": [
    "plnr = itstgcnGConvLSTM.planner.PLNR_STGCN_MANUAL(plans_stgcn_block,loader6,dataset_name='sindmillsmallGConvLSTM')\n",
    "plnr.simulate(mindex=mindex,mtype='block')"
   ]
  },
  {
   "cell_type": "code",
   "execution_count": null,
   "id": "2a0e4e26-af68-4135-a5db-97f3f23f73d2",
   "metadata": {},
   "outputs": [],
   "source": [
    "plnr = itstgcnGConvLSTM.planner.PLNR_STGCN_MANUAL(plans_stgcn_block,loader6,dataset_name='sindmillsmallGConvLSTM')\n",
    "plnr.simulate(mindex=mindex,mtype='block')"
   ]
  },
  {
   "cell_type": "code",
   "execution_count": null,
   "id": "23c61b34-32f1-4578-ba0d-633c241ae962",
   "metadata": {},
   "outputs": [],
   "source": [
    "plnr = itstgcnGConvLSTM.planner.PLNR_STGCN_MANUAL(plans_stgcn_block,loader6,dataset_name='sindmillsmallGConvLSTM')\n",
    "plnr.simulate(mindex=mindex,mtype='block')"
   ]
  },
  {
   "cell_type": "code",
   "execution_count": null,
   "id": "4f072857-d01c-43d6-bc2c-8fbcf4770822",
   "metadata": {},
   "outputs": [],
   "source": [
    "plnr = itstgcnGConvLSTM.planner.PLNR_STGCN_MANUAL(plans_stgcn_block,loader6,dataset_name='sindmillsmallGConvLSTM')\n",
    "plnr.simulate(mindex=mindex,mtype='block')"
   ]
  },
  {
   "cell_type": "code",
   "execution_count": null,
   "id": "40096b5b-b88b-4576-80d2-a59c072ac0c1",
   "metadata": {},
   "outputs": [],
   "source": [
    "plnr = itstgcnGConvLSTM.planner.PLNR_STGCN_MANUAL(plans_stgcn_block,loader6,dataset_name='sindmillsmallGConvLSTM')\n",
    "plnr.simulate(mindex=mindex,mtype='block')"
   ]
  },
  {
   "cell_type": "code",
   "execution_count": null,
   "id": "99238b09-4b42-4dda-8d31-198072e46fb5",
   "metadata": {},
   "outputs": [],
   "source": [
    "plnr = itstgcnGConvLSTM.planner.PLNR_STGCN_MANUAL(plans_stgcn_block,loader6,dataset_name='sindmillsmallGConvLSTM')\n",
    "plnr.simulate(mindex=mindex,mtype='block')"
   ]
  },
  {
   "cell_type": "code",
   "execution_count": null,
   "id": "15f2fe9b-57fd-4a04-a357-79108c3781d6",
   "metadata": {},
   "outputs": [],
   "source": [
    "plnr = itstgcnGConvLSTM.planner.PLNR_STGCN_MANUAL(plans_stgcn_block,loader6,dataset_name='sindmillsmallGConvLSTM')\n",
    "plnr.simulate(mindex=mindex,mtype='block')"
   ]
  },
  {
   "cell_type": "code",
   "execution_count": null,
   "id": "407383de-6b3e-4327-bc26-15a4fe550602",
   "metadata": {},
   "outputs": [],
   "source": [
    "plnr = itstgcnGConvLSTM.planner.PLNR_STGCN_MANUAL(plans_stgcn_block,loader6,dataset_name='sindmillsmallGConvLSTM')\n",
    "plnr.simulate(mindex=mindex,mtype='block')"
   ]
  },
  {
   "cell_type": "code",
   "execution_count": null,
   "id": "e72dad82-56e5-49e7-a538-22c2cef1858e",
   "metadata": {},
   "outputs": [],
   "source": [
    "plnr = itstgcnGConvLSTM.planner.PLNR_STGCN_MANUAL(plans_stgcn_block,loader6,dataset_name='sindmillsmallGConvLSTM')\n",
    "plnr.simulate(mindex=mindex,mtype='block')"
   ]
  },
  {
   "cell_type": "code",
   "execution_count": null,
   "id": "3b7ca159-4192-429e-a24d-f07fe7389df0",
   "metadata": {},
   "outputs": [],
   "source": [
    "plnr = itstgcnGConvLSTM.planner.PLNR_STGCN_MANUAL(plans_stgcn_block,loader6,dataset_name='sindmillsmallGConvLSTM')\n",
    "plnr.simulate(mindex=mindex,mtype='block')"
   ]
  },
  {
   "cell_type": "code",
   "execution_count": null,
   "id": "3eafddc5-e16d-4f90-9291-369e6902e033",
   "metadata": {},
   "outputs": [],
   "source": [
    "plnr = itstgcnGConvLSTM.planner.PLNR_STGCN_MANUAL(plans_stgcn_block,loader6,dataset_name='sindmillsmallGConvLSTM')\n",
    "plnr.simulate(mindex=mindex,mtype='block')"
   ]
  },
  {
   "cell_type": "code",
   "execution_count": null,
   "id": "342f50db-d26d-40c4-9179-6e0589e8fc50",
   "metadata": {},
   "outputs": [],
   "source": [
    "plnr = itstgcnGConvLSTM.planner.PLNR_STGCN_MANUAL(plans_stgcn_block,loader6,dataset_name='sindmillsmallGConvLSTM')\n",
    "plnr.simulate(mindex=mindex,mtype='block')"
   ]
  },
  {
   "cell_type": "code",
   "execution_count": null,
   "id": "5f8b8145-516b-4356-b000-71bc94c713ef",
   "metadata": {},
   "outputs": [],
   "source": [
    "plnr = itstgcnGConvLSTM.planner.PLNR_STGCN_MANUAL(plans_stgcn_block,loader6,dataset_name='sindmillsmallGConvLSTM')\n",
    "plnr.simulate(mindex=mindex,mtype='block')"
   ]
  },
  {
   "cell_type": "code",
   "execution_count": null,
   "id": "7d06f4af-587d-4fe9-9064-64f3024e02d9",
   "metadata": {},
   "outputs": [],
   "source": [
    "plnr = itstgcnGConvLSTM.planner.PLNR_STGCN_MANUAL(plans_stgcn_block,loader6,dataset_name='sindmillsmallGConvLSTM')\n",
    "plnr.simulate(mindex=mindex,mtype='block')"
   ]
  },
  {
   "cell_type": "code",
   "execution_count": null,
   "id": "e9a8b092-3d06-4ca2-9b83-031cd0053aa9",
   "metadata": {},
   "outputs": [],
   "source": [
    "plnr = itstgcnGConvLSTM.planner.PLNR_STGCN_MANUAL(plans_stgcn_block,loader6,dataset_name='sindmillsmallGConvLSTM')\n",
    "plnr.simulate(mindex=mindex,mtype='block')"
   ]
  },
  {
   "cell_type": "code",
   "execution_count": null,
   "id": "8da3054c-d171-44bb-b561-6d793a785dff",
   "metadata": {},
   "outputs": [],
   "source": [
    "plnr = itstgcnGConvLSTM.planner.PLNR_STGCN_MANUAL(plans_stgcn_block,loader6,dataset_name='sindmillsmallGConvLSTM')\n",
    "plnr.simulate(mindex=mindex,mtype='block')"
   ]
  },
  {
   "cell_type": "code",
   "execution_count": null,
   "id": "db909c86-76aa-4549-a9cb-ef60ef9050d2",
   "metadata": {},
   "outputs": [],
   "source": [
    "plnr = itstgcnGConvLSTM.planner.PLNR_STGCN_MANUAL(plans_stgcn_block,loader6,dataset_name='sindmillsmallGConvLSTM')\n",
    "plnr.simulate(mindex=mindex,mtype='block')"
   ]
  },
  {
   "cell_type": "code",
   "execution_count": null,
   "id": "07156fd2-18ad-47f2-aa69-1847d7f90212",
   "metadata": {},
   "outputs": [],
   "source": []
  }
 ],
 "metadata": {
  "kernelspec": {
   "display_name": "Python 3",
   "language": "python",
   "name": "python3"
  },
  "language_info": {
   "codemirror_mode": {
    "name": "ipython",
    "version": 3
   },
   "file_extension": ".py",
   "mimetype": "text/x-python",
   "name": "python",
   "nbconvert_exporter": "python",
   "pygments_lexer": "ipython3",
   "version": "3.8.0"
  }
 },
 "nbformat": 4,
 "nbformat_minor": 5
}
