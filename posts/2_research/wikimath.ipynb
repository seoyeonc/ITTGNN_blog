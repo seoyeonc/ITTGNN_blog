{
 "cells": [
  {
   "cell_type": "code",
   "execution_count": null,
   "id": "f04127e8-80de-41cc-bddd-692789288c27",
   "metadata": {},
   "outputs": [],
   "source": []
  },
  {
   "cell_type": "markdown",
   "id": "67fba03f-e60d-44ee-9208-1f87f0d0294c",
   "metadata": {},
   "source": [
    "| Model               | FiveVTS | Chickenpox | Pedalme | Wikimath | Windmillsmall | MontevideoBus |\n",
    "|---------------------|---------|------------|---------|----------|---------------|---------------|\n",
    "| Max iter.           | 30      | 30         | 30      | 30       | 30            | 30            |\n",
    "| Epochs              | 50      | 50         | 50      | 50       | 50            | 50            |\n",
    "| Lags                | 2       | 4          | 4       | 8        | 8             | 4             |\n",
    "| Interpolation       | linear  | linear     | nearest | linear   | linear        | nearest       |\n",
    "| Filters             |         |            |         |          |               |               |\n",
    "| GConvGRU            | 12      | 16         | 12      | 12       | 12            | 12            |\n",
    "| GConvLSTM           | 12      | 32         | 2       | 64       | 16            | 12            |\n",
    "| GCLSTM              | 4       | 16         | 4       | 64       | 16            | 12            |\n",
    "| LRGCN               | 4       | 8          | 8       | 32       | 12            | 2             |\n",
    "| DyGrEncoder         | 12      | 12         | 12      | 12       | 12            | 12            |\n",
    "| EvolveGCNH          | No need | No need    | No need | No need  | No need       | No need       |\n",
    "| EvolveGCNO          | No need | No need    | No need | No need  | No need       | No need       |\n",
    "| TGCN                | 12      | 12         | 12      | 12       | 12            | 8             |\n",
    "| DCRNN               | 2       | 16         | 8       | 12       | 4             | 12            |\n"
   ]
  },
  {
   "cell_type": "code",
   "execution_count": 1,
   "id": "1464aaf8-f6cc-4969-9084-1df62962417e",
   "metadata": {},
   "outputs": [],
   "source": [
    "import torch\n",
    "import pandas as pd\n",
    "import itstgcnGConvLSTM\n",
    "import itstgcnGConvLSTM.planner \n",
    "\n",
    "import numpy as np\n",
    "import random"
   ]
  },
  {
   "cell_type": "code",
   "execution_count": 2,
   "id": "8044847c-9ce8-4b9c-8415-7f1ffe68d1db",
   "metadata": {},
   "outputs": [],
   "source": [
    "from torch_geometric_temporal.dataset import WikiMathsDatasetLoader\n",
    "loader3 = WikiMathsDatasetLoader()"
   ]
  },
  {
   "cell_type": "code",
   "execution_count": 3,
   "id": "0bd02cfb-6e58-4759-b2d9-619014598245",
   "metadata": {},
   "outputs": [],
   "source": [
    "import random\n",
    "my_list = [[] for _ in range(1068)] # wikimath\n",
    "another_list = list(range(120,520))\n",
    "selected_indexes = random.sample(range(1,len(my_list)), 936)\n",
    "for index in selected_indexes:\n",
    "    my_list[index] = another_list\n",
    "mindex = my_list"
   ]
  },
  {
   "cell_type": "code",
   "execution_count": 4,
   "id": "95220a69-33e5-4721-8e0d-cdb187f0946b",
   "metadata": {
    "tags": []
   },
   "outputs": [],
   "source": [
    "plans_stgcn_block = {\n",
    "    'max_iteration': 30, \n",
    "    'method': ['STGCN', 'IT-STGCN'], \n",
    "    'mindex': [mindex],\n",
    "    'lags': [8], \n",
    "    'nof_filters': [64], \n",
    "    'inter_method': ['linear'],\n",
    "    'epoch': [50]\n",
    "}"
   ]
  },
  {
   "cell_type": "code",
   "execution_count": null,
   "id": "66d4ee22-1129-4495-bebf-c89a96a88c43",
   "metadata": {},
   "outputs": [],
   "source": [
    "plnr = itstgcnGConvLSTM.planner.PLNR_STGCN_MANUAL(plans_stgcn_block,loader3,dataset_name='wikimath')\n",
    "plnr.simulate(mindex=mindex,mtype='block')"
   ]
  },
  {
   "cell_type": "code",
   "execution_count": null,
   "id": "5e4cf268-e9ba-4493-99e6-c099ab44a5dd",
   "metadata": {},
   "outputs": [],
   "source": [
    "import itstgcnGCLSTM\n",
    "import itstgcnGCLSTM.planner "
   ]
  },
  {
   "cell_type": "code",
   "execution_count": null,
   "id": "8d31efc1-1018-463b-9cc0-d994a999bb70",
   "metadata": {},
   "outputs": [],
   "source": [
    "plnr = itstgcnGCLSTM.planner.PLNR_STGCN_MANUAL(plans_stgcn_block,loader3,dataset_name='wikimathGCLSTM')\n",
    "plnr.simulate(mindex=mindex,mtype='block')"
   ]
  },
  {
   "cell_type": "code",
   "execution_count": null,
   "id": "0e7ef5f3-278b-4149-879d-54a269bdd18a",
   "metadata": {},
   "outputs": [],
   "source": [
    "import itstgcnLRGCN\n",
    "import itstgcnLRGCN.planner "
   ]
  },
  {
   "cell_type": "code",
   "execution_count": null,
   "id": "b39fd471-f5ba-4945-a584-17ae15a55009",
   "metadata": {
    "tags": []
   },
   "outputs": [],
   "source": [
    "plans_stgcn_block = {\n",
    "    'max_iteration': 30, \n",
    "    'method': ['STGCN', 'IT-STGCN'], \n",
    "    'mindex': [mindex],\n",
    "    'lags': [8], \n",
    "    'nof_filters': [32], \n",
    "    'inter_method': ['linear'],\n",
    "    'epoch': [50]\n",
    "}"
   ]
  },
  {
   "cell_type": "code",
   "execution_count": null,
   "id": "375d24cf-702e-44fb-bff5-9cf1273872ea",
   "metadata": {},
   "outputs": [],
   "source": [
    "plnr = itstgcnLRGCN.planner.PLNR_STGCN_MANUAL(plans_stgcn_block,loader3,dataset_name='wikimathLRGCN')\n",
    "plnr.simulate(mindex=mindex,mtype='block')"
   ]
  },
  {
   "cell_type": "code",
   "execution_count": null,
   "id": "c0c119bd-3e17-42f4-ade4-2a35802aec09",
   "metadata": {},
   "outputs": [],
   "source": [
    "import itstgcnDYGRENCODER\n",
    "import itstgcnDYGRENCODER.planner "
   ]
  },
  {
   "cell_type": "code",
   "execution_count": null,
   "id": "2a31cf45-ade8-4713-b5de-7d23c1b9cdba",
   "metadata": {
    "tags": []
   },
   "outputs": [],
   "source": [
    "plans_stgcn_block = {\n",
    "    'max_iteration': 30, \n",
    "    'method': ['STGCN', 'IT-STGCN'], \n",
    "    'mindex': [mindex],\n",
    "    'lags': [8], \n",
    "    'nof_filters': [12], \n",
    "    'inter_method': ['linear'],\n",
    "    'epoch': [50]\n",
    "}"
   ]
  },
  {
   "cell_type": "code",
   "execution_count": null,
   "id": "fb42aa3d-e4ae-40f9-9ed2-5dda47c17919",
   "metadata": {},
   "outputs": [],
   "source": [
    "plnr = itstgcnDYGRENCODER.planner.PLNR_STGCN_MANUAL(plans_stgcn_block,loader3,dataset_name='wikimathDyGrEncoder')\n",
    "plnr.simulate(mindex=mindex,mtype='block')"
   ]
  },
  {
   "cell_type": "code",
   "execution_count": null,
   "id": "b5660224-71d9-4faa-bd9b-12db1d6f6960",
   "metadata": {},
   "outputs": [],
   "source": [
    "import itstgcnEvolveGCNH\n",
    "import itstgcnEvolveGCNH.planner "
   ]
  },
  {
   "cell_type": "code",
   "execution_count": null,
   "id": "8cb17f25-4240-4f80-bc28-d6cfb621fff3",
   "metadata": {},
   "outputs": [],
   "source": [
    "plnr = itstgcnEvolveGCNH.planner.PLNR_STGCN_MANUAL(plans_stgcn_block,loader3,dataset_name='wikimathEvolveGCNH')\n",
    "plnr.simulate(mindex=mindex,mtype='block')"
   ]
  },
  {
   "cell_type": "code",
   "execution_count": null,
   "id": "76b2f0ac-1419-476c-9332-51bdd0566386",
   "metadata": {},
   "outputs": [],
   "source": []
  }
 ],
 "metadata": {
  "kernelspec": {
   "display_name": "Python 3",
   "language": "python",
   "name": "python3"
  },
  "language_info": {
   "codemirror_mode": {
    "name": "ipython",
    "version": 3
   },
   "file_extension": ".py",
   "mimetype": "text/x-python",
   "name": "python",
   "nbconvert_exporter": "python",
   "pygments_lexer": "ipython3",
   "version": "3.8.0"
  }
 },
 "nbformat": 4,
 "nbformat_minor": 5
}
