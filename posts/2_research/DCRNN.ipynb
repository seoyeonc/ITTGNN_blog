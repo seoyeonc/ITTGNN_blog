{
 "cells": [
  {
   "cell_type": "markdown",
   "id": "13f3d32b-c946-4e83-a06f-56a5400a4831",
   "metadata": {},
   "source": [
    "DCRNN"
   ]
  },
  {
   "cell_type": "code",
   "execution_count": 1,
   "id": "b6813e08-c672-4e66-b516-2989e34b5f0f",
   "metadata": {},
   "outputs": [],
   "source": [
    "import itstgcnDCRNN\n",
    "import torch\n",
    "import itstgcnDCRNN.planner \n",
    "import pandas as pd\n",
    "\n",
    "import numpy as np\n",
    "import random"
   ]
  },
  {
   "cell_type": "code",
   "execution_count": 2,
   "id": "bfbf7c47-cccc-46e4-830d-17015a35f8bc",
   "metadata": {},
   "outputs": [],
   "source": [
    "loader6 = itstgcnDCRNN.load_data('./data/Windmillsmall.pkl')"
   ]
  },
  {
   "cell_type": "code",
   "execution_count": 3,
   "id": "30919181-ca34-462b-a3d7-4368bd6aef79",
   "metadata": {},
   "outputs": [],
   "source": [
    "mindex= [list(range(4500,10000)),list(range(4500,10000)),[],list(range(4500,10000)),list(range(4500,10000)),\\\n",
    "        list(range(4500,10000)),list(range(4500,10000)),[],list(range(4500,10000)),list(range(4500,10000)),[]]\n",
    "plans_stgcn_block = {\n",
    "    'max_iteration': 1, \n",
    "    'method': ['STGCN', 'IT-STGCN'], \n",
    "    'mindex': [mindex],\n",
    "    'lags': [8], \n",
    "    'nof_filters': [4], \n",
    "    'inter_method': ['linear'],\n",
    "    'epoch': [50]\n",
    "}"
   ]
  },
  {
   "cell_type": "code",
   "execution_count": null,
   "id": "95c3ed7e-6cab-4047-851c-74c53216d54b",
   "metadata": {},
   "outputs": [
    {
     "name": "stderr",
     "output_type": "stream",
     "text": [
      "/home/csy/Dropbox/ITTGNN_blog/posts/2_research/itstgcnDCRNN/utils.py:71: UserWarning: Creating a tensor from a list of numpy.ndarrays is extremely slow. Please consider converting the list to a single numpy.ndarray with numpy.array() before converting to a tensor. (Triggered internally at /opt/conda/conda-bld/pytorch_1682343998658/work/torch/csrc/utils/tensor_new.cpp:245.)\n",
      "  lags = torch.tensor(train_dataset.features).shape[-1]\n"
     ]
    },
    {
     "name": "stdout",
     "output_type": "stream",
     "text": [
      "1/50\r"
     ]
    }
   ],
   "source": [
    "plnr = itstgcnDCRNN.planner.PLNR_STGCN_MANUAL(plans_stgcn_block,loader6,dataset_name='sindmillsmallDCRNN')\n",
    "plnr.simulate(mindex=mindex,mtype='block')"
   ]
  },
  {
   "cell_type": "code",
   "execution_count": null,
   "id": "e4eee90f-4234-4fe5-a087-3c91c6ab214f",
   "metadata": {},
   "outputs": [],
   "source": [
    "plnr = itstgcnDCRNN.planner.PLNR_STGCN_MANUAL(plans_stgcn_block,loader6,dataset_name='sindmillsmallDCRNN')\n",
    "plnr.simulate(mindex=mindex,mtype='block')"
   ]
  },
  {
   "cell_type": "code",
   "execution_count": null,
   "id": "def78e19-4db0-4afb-a664-ac5def7a3fa7",
   "metadata": {},
   "outputs": [],
   "source": [
    "plnr = itstgcnDCRNN.planner.PLNR_STGCN_MANUAL(plans_stgcn_block,loader6,dataset_name='sindmillsmallDCRNN')\n",
    "plnr.simulate(mindex=mindex,mtype='block')"
   ]
  },
  {
   "cell_type": "code",
   "execution_count": null,
   "id": "4d6e9eda-d816-468a-8c35-af06b1ec4d0d",
   "metadata": {},
   "outputs": [],
   "source": [
    "plnr = itstgcnDCRNN.planner.PLNR_STGCN_MANUAL(plans_stgcn_block,loader6,dataset_name='sindmillsmallDCRNN')\n",
    "plnr.simulate(mindex=mindex,mtype='block')"
   ]
  },
  {
   "cell_type": "code",
   "execution_count": null,
   "id": "657e2a0f-a0d4-46ce-b5de-dc57085024f3",
   "metadata": {},
   "outputs": [],
   "source": [
    "plnr = itstgcnDCRNN.planner.PLNR_STGCN_MANUAL(plans_stgcn_block,loader6,dataset_name='sindmillsmallDCRNN')\n",
    "plnr.simulate(mindex=mindex,mtype='block')"
   ]
  },
  {
   "cell_type": "code",
   "execution_count": null,
   "id": "c61df120-b519-4a27-94de-a4939410ad1e",
   "metadata": {},
   "outputs": [],
   "source": [
    "plnr = itstgcnDCRNN.planner.PLNR_STGCN_MANUAL(plans_stgcn_block,loader6,dataset_name='sindmillsmallDCRNN')\n",
    "plnr.simulate(mindex=mindex,mtype='block')"
   ]
  },
  {
   "cell_type": "code",
   "execution_count": null,
   "id": "363cd323-44a7-43a0-a36e-b8ec03724ef5",
   "metadata": {},
   "outputs": [],
   "source": [
    "plnr = itstgcnDCRNN.planner.PLNR_STGCN_MANUAL(plans_stgcn_block,loader6,dataset_name='sindmillsmallDCRNN')\n",
    "plnr.simulate(mindex=mindex,mtype='block')"
   ]
  },
  {
   "cell_type": "code",
   "execution_count": null,
   "id": "d6db2f7e-0be1-4f6d-ac9e-e2c682c8f05c",
   "metadata": {},
   "outputs": [],
   "source": [
    "plnr = itstgcnDCRNN.planner.PLNR_STGCN_MANUAL(plans_stgcn_block,loader6,dataset_name='sindmillsmallDCRNN')\n",
    "plnr.simulate(mindex=mindex,mtype='block')"
   ]
  },
  {
   "cell_type": "code",
   "execution_count": null,
   "id": "e2679563-f23a-442b-a5a3-b378eec8578f",
   "metadata": {},
   "outputs": [],
   "source": [
    "plnr = itstgcnDCRNN.planner.PLNR_STGCN_MANUAL(plans_stgcn_block,loader6,dataset_name='sindmillsmallDCRNN')\n",
    "plnr.simulate(mindex=mindex,mtype='block')"
   ]
  },
  {
   "cell_type": "code",
   "execution_count": null,
   "id": "c6b43c3a-05fc-44a1-aa00-dc5673627c5d",
   "metadata": {},
   "outputs": [],
   "source": [
    "plnr = itstgcnDCRNN.planner.PLNR_STGCN_MANUAL(plans_stgcn_block,loader6,dataset_name='sindmillsmallDCRNN')\n",
    "plnr.simulate(mindex=mindex,mtype='block')"
   ]
  },
  {
   "cell_type": "code",
   "execution_count": null,
   "id": "94ea71bc-0ab1-423f-bc6a-1b409199538b",
   "metadata": {},
   "outputs": [],
   "source": [
    "plnr = itstgcnDCRNN.planner.PLNR_STGCN_MANUAL(plans_stgcn_block,loader6,dataset_name='sindmillsmallDCRNN')\n",
    "plnr.simulate(mindex=mindex,mtype='block')"
   ]
  },
  {
   "cell_type": "code",
   "execution_count": null,
   "id": "87e0892a-b7fd-4938-b5ae-e70a63e1fcac",
   "metadata": {},
   "outputs": [],
   "source": [
    "plnr = itstgcnDCRNN.planner.PLNR_STGCN_MANUAL(plans_stgcn_block,loader6,dataset_name='sindmillsmallDCRNN')\n",
    "plnr.simulate(mindex=mindex,mtype='block')"
   ]
  },
  {
   "cell_type": "code",
   "execution_count": null,
   "id": "623e979f-73aa-4a12-90ff-ad2db3ace297",
   "metadata": {},
   "outputs": [],
   "source": [
    "plnr = itstgcnDCRNN.planner.PLNR_STGCN_MANUAL(plans_stgcn_block,loader6,dataset_name='sindmillsmallDCRNN')\n",
    "plnr.simulate(mindex=mindex,mtype='block')"
   ]
  }
 ],
 "metadata": {
  "kernelspec": {
   "display_name": "Python 3",
   "language": "python",
   "name": "python3"
  },
  "language_info": {
   "codemirror_mode": {
    "name": "ipython",
    "version": 3
   },
   "file_extension": ".py",
   "mimetype": "text/x-python",
   "name": "python",
   "nbconvert_exporter": "python",
   "pygments_lexer": "ipython3",
   "version": "3.8.0"
  }
 },
 "nbformat": 4,
 "nbformat_minor": 5
}
