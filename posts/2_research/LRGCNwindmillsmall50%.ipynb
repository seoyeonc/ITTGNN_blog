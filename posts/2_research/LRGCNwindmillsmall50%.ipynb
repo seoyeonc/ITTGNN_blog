{
 "cells": [
  {
   "cell_type": "markdown",
   "id": "3c7f6d75-5321-4a78-992e-6adce920b9fa",
   "metadata": {},
   "source": [
    "50%  \n",
    "\n",
    "wikimath\n",
    "\n",
    "- ~GConvGRU~\n",
    "- GConvLSTM\n",
    "- GCLSTM\n",
    "- LRGCN\n",
    "- DyGrEncoder\n",
    "- ~EvolveGCNH~\n",
    "- ~EvolveGCNO~\n",
    "- ~TGCN~\n",
    "- ~DCRNN~"
   ]
  },
  {
   "cell_type": "markdown",
   "id": "0039cffc-af67-4337-933a-e6e5113e62d1",
   "metadata": {},
   "source": [
    "| Model               | FiveVTS | Chickenpox | Pedalme | Wikimath | Windmillsmall | MontevideoBus |\n",
    "|---------------------|---------|------------|---------|----------|---------------|---------------|\n",
    "| Max iter.           | 30      | 30         | 30      | 30       | 30            | 30            |\n",
    "| Epochs              | 50      | 50         | 50      | 50       | 50            | 50            |\n",
    "| Lags                | 2       | 4          | 4       | 8        | 8             | 4             |\n",
    "| Interpolation       | linear  | linear     | nearest | linear   | linear        | nearest       |\n",
    "| Filters             |         |            |         |          |               |               |\n",
    "| GConvGRU            | 12      | 16         | 12      | 12       | 12            | 12            |\n",
    "| GConvLSTM           | 12      | 32         | 2       | 64       | 16            | 12            |\n",
    "| GCLSTM              | 4       | 16         | 4       | 64       | 16            | 12            |\n",
    "| LRGCN               | 4       | 8          | 8       | 32       | 12            | 2             |\n",
    "| DyGrEncoder         | 12      | 12         | 12      | 12       | 12            | 12            |\n",
    "| EvolveGCNH          | No need | No need    | No need | No need  | No need       | No need       |\n",
    "| EvolveGCNO          | No need | No need    | No need | No need  | No need       | No need       |\n",
    "| TGCN                | 12      | 12         | 12      | 12       | 12            | 8             |\n",
    "| DCRNN               | 2       | 16         | 8       | 12       | 4             | 12            |\n"
   ]
  },
  {
   "cell_type": "code",
   "execution_count": 1,
   "id": "15246274-7df9-4bca-b802-1904e37661a2",
   "metadata": {},
   "outputs": [],
   "source": [
    "import itstgcnLRGCN\n",
    "import itstgcnLRGCN.planner \n",
    "import torch\n",
    "import pandas as pd\n",
    "\n",
    "import numpy as np\n",
    "import random"
   ]
  },
  {
   "cell_type": "code",
   "execution_count": 2,
   "id": "3141ca5f-5aec-4fa1-a0c3-60223f37c937",
   "metadata": {},
   "outputs": [],
   "source": [
    "loader6 = itstgcnLRGCN.load_data('./data/Windmillsmall.pkl')"
   ]
  },
  {
   "cell_type": "code",
   "execution_count": 3,
   "id": "0c68275f-ea68-48fc-9e9e-570cd4f2a282",
   "metadata": {},
   "outputs": [],
   "source": [
    "plans_stgcn_rand = {\n",
    "    'max_iteration': 1, \n",
    "    'method': ['STGCN', 'IT-STGCN'],\n",
    "    'mrate': [0.5],\n",
    "    'lags': [8], \n",
    "    'nof_filters': [12], \n",
    "    'inter_method': ['linear'],\n",
    "    'epoch': [50]\n",
    "}"
   ]
  },
  {
   "cell_type": "code",
   "execution_count": null,
   "id": "185c38b6-6d74-4113-a72b-d6a4ed9cdae4",
   "metadata": {},
   "outputs": [
    {
     "name": "stderr",
     "output_type": "stream",
     "text": [
      "/home/csy/Dropbox/ITTGNN_blog/posts/2_research/itstgcnLRGCN/utils.py:71: UserWarning: Creating a tensor from a list of numpy.ndarrays is extremely slow. Please consider converting the list to a single numpy.ndarray with numpy.array() before converting to a tensor. (Triggered internally at /opt/conda/conda-bld/pytorch_1682343998658/work/torch/csrc/utils/tensor_new.cpp:245.)\n",
      "  lags = torch.tensor(train_dataset.features).shape[-1]\n"
     ]
    },
    {
     "name": "stdout",
     "output_type": "stream",
     "text": [
      "2/50\r"
     ]
    }
   ],
   "source": [
    "plnr = itstgcnLRGCN.planner.PLNR_STGCN_RAND(plans_stgcn_rand,loader6,dataset_name='windmillsmallLRGCN')\n",
    "plnr.simulate()"
   ]
  },
  {
   "cell_type": "code",
   "execution_count": null,
   "id": "df3ab65d-089a-4b1f-bab7-ec4e69ad8fe4",
   "metadata": {},
   "outputs": [],
   "source": [
    "plnr = itstgcnLRGCN.planner.PLNR_STGCN_RAND(plans_stgcn_rand,loader6,dataset_name='windmillsmallLRGCN')\n",
    "plnr.simulate()"
   ]
  },
  {
   "cell_type": "code",
   "execution_count": null,
   "id": "46d1f945-8699-4df1-a9af-92dc3e0bc9a6",
   "metadata": {},
   "outputs": [],
   "source": [
    "plnr = itstgcnLRGCN.planner.PLNR_STGCN_RAND(plans_stgcn_rand,loader6,dataset_name='windmillsmallLRGCN')\n",
    "plnr.simulate()"
   ]
  },
  {
   "cell_type": "code",
   "execution_count": null,
   "id": "b0c33624-565a-44ca-8819-3f5ebc224693",
   "metadata": {},
   "outputs": [],
   "source": [
    "plnr = itstgcnLRGCN.planner.PLNR_STGCN_RAND(plans_stgcn_rand,loader6,dataset_name='windmillsmallLRGCN')\n",
    "plnr.simulate()"
   ]
  },
  {
   "cell_type": "code",
   "execution_count": null,
   "id": "bb84355f-3c55-45e4-a309-35154f81e5c0",
   "metadata": {},
   "outputs": [],
   "source": [
    "plnr = itstgcnLRGCN.planner.PLNR_STGCN_RAND(plans_stgcn_rand,loader6,dataset_name='windmillsmallLRGCN')\n",
    "plnr.simulate()"
   ]
  },
  {
   "cell_type": "code",
   "execution_count": null,
   "id": "ebe25eb7-946e-4f39-948e-67be25c6b4a9",
   "metadata": {},
   "outputs": [],
   "source": [
    "plnr = itstgcnLRGCN.planner.PLNR_STGCN_RAND(plans_stgcn_rand,loader6,dataset_name='windmillsmallLRGCN')\n",
    "plnr.simulate()"
   ]
  },
  {
   "cell_type": "code",
   "execution_count": null,
   "id": "2840c1e8-7a71-42b9-bcb9-76b54a40464f",
   "metadata": {},
   "outputs": [],
   "source": [
    "plnr = itstgcnLRGCN.planner.PLNR_STGCN_RAND(plans_stgcn_rand,loader6,dataset_name='windmillsmallLRGCN')\n",
    "plnr.simulate()"
   ]
  },
  {
   "cell_type": "code",
   "execution_count": null,
   "id": "03ea742c-004b-4906-9379-f8bf6e66f0c7",
   "metadata": {},
   "outputs": [],
   "source": [
    "plnr = itstgcnLRGCN.planner.PLNR_STGCN_RAND(plans_stgcn_rand,loader6,dataset_name='windmillsmallLRGCN')\n",
    "plnr.simulate()"
   ]
  },
  {
   "cell_type": "code",
   "execution_count": null,
   "id": "4aa90ac1-d003-4702-b03e-d0fa8c28efdc",
   "metadata": {},
   "outputs": [],
   "source": [
    "plnr = itstgcnLRGCN.planner.PLNR_STGCN_RAND(plans_stgcn_rand,loader6,dataset_name='windmillsmallLRGCN')\n",
    "plnr.simulate()"
   ]
  },
  {
   "cell_type": "code",
   "execution_count": null,
   "id": "5bf940cb-cd88-4b5d-b09e-1dbad8715d22",
   "metadata": {},
   "outputs": [],
   "source": [
    "plnr = itstgcnLRGCN.planner.PLNR_STGCN_RAND(plans_stgcn_rand,loader6,dataset_name='windmillsmallLRGCN')\n",
    "plnr.simulate()"
   ]
  },
  {
   "cell_type": "code",
   "execution_count": null,
   "id": "5cbcc6df-d776-444b-b8d2-c3886919ad12",
   "metadata": {},
   "outputs": [],
   "source": [
    "plnr = itstgcnLRGCN.planner.PLNR_STGCN_RAND(plans_stgcn_rand,loader6,dataset_name='windmillsmallLRGCN')\n",
    "plnr.simulate()"
   ]
  },
  {
   "cell_type": "code",
   "execution_count": null,
   "id": "b32f8e6f-a30d-4e7a-bcd8-4eee5d2e825e",
   "metadata": {},
   "outputs": [],
   "source": [
    "plnr = itstgcnLRGCN.planner.PLNR_STGCN_RAND(plans_stgcn_rand,loader6,dataset_name='windmillsmallLRGCN')\n",
    "plnr.simulate()"
   ]
  },
  {
   "cell_type": "code",
   "execution_count": null,
   "id": "5dca57b0-c83c-449d-ac38-0f53828a22c7",
   "metadata": {},
   "outputs": [],
   "source": [
    "plnr = itstgcnLRGCN.planner.PLNR_STGCN_RAND(plans_stgcn_rand,loader6,dataset_name='windmillsmallLRGCN')\n",
    "plnr.simulate()"
   ]
  },
  {
   "cell_type": "code",
   "execution_count": null,
   "id": "63314f0a-4628-466a-ac94-dcb299a46f48",
   "metadata": {},
   "outputs": [],
   "source": [
    "plnr = itstgcnLRGCN.planner.PLNR_STGCN_RAND(plans_stgcn_rand,loader6,dataset_name='windmillsmallLRGCN')\n",
    "plnr.simulate()"
   ]
  },
  {
   "cell_type": "code",
   "execution_count": null,
   "id": "05ca0e89-9574-44bc-8327-f9a7bf38579c",
   "metadata": {},
   "outputs": [],
   "source": [
    "plnr = itstgcnLRGCN.planner.PLNR_STGCN_RAND(plans_stgcn_rand,loader6,dataset_name='windmillsmallLRGCN')\n",
    "plnr.simulate()"
   ]
  },
  {
   "cell_type": "code",
   "execution_count": null,
   "id": "240cacac-3030-4ba8-a921-c0eb11a6b7a3",
   "metadata": {},
   "outputs": [],
   "source": [
    "plnr = itstgcnLRGCN.planner.PLNR_STGCN_RAND(plans_stgcn_rand,loader6,dataset_name='windmillsmallLRGCN')\n",
    "plnr.simulate()"
   ]
  },
  {
   "cell_type": "code",
   "execution_count": null,
   "id": "e5001414-3746-460d-ba54-48b732f6961a",
   "metadata": {},
   "outputs": [],
   "source": [
    "plnr = itstgcnLRGCN.planner.PLNR_STGCN_RAND(plans_stgcn_rand,loader6,dataset_name='windmillsmallLRGCN')\n",
    "plnr.simulate()"
   ]
  },
  {
   "cell_type": "code",
   "execution_count": null,
   "id": "e56032ef-acd0-4a0d-b5d6-70ac06254ed0",
   "metadata": {},
   "outputs": [],
   "source": [
    "plnr = itstgcnLRGCN.planner.PLNR_STGCN_RAND(plans_stgcn_rand,loader6,dataset_name='windmillsmallLRGCN')\n",
    "plnr.simulate()"
   ]
  },
  {
   "cell_type": "code",
   "execution_count": null,
   "id": "c25ce91b-fa16-43f2-82d3-68091cbec26a",
   "metadata": {},
   "outputs": [],
   "source": [
    "plnr = itstgcnLRGCN.planner.PLNR_STGCN_RAND(plans_stgcn_rand,loader6,dataset_name='windmillsmallLRGCN')\n",
    "plnr.simulate()"
   ]
  },
  {
   "cell_type": "code",
   "execution_count": null,
   "id": "cecf8dea-8a3a-4b44-8cdc-7bf01b99b851",
   "metadata": {},
   "outputs": [],
   "source": [
    "plnr = itstgcnLRGCN.planner.PLNR_STGCN_RAND(plans_stgcn_rand,loader6,dataset_name='windmillsmallLRGCN')\n",
    "plnr.simulate()"
   ]
  },
  {
   "cell_type": "code",
   "execution_count": null,
   "id": "311d2ff7-116f-48bd-9ff1-f4b494885871",
   "metadata": {},
   "outputs": [],
   "source": [
    "plnr = itstgcnLRGCN.planner.PLNR_STGCN_RAND(plans_stgcn_rand,loader6,dataset_name='windmillsmallLRGCN')\n",
    "plnr.simulate()"
   ]
  },
  {
   "cell_type": "code",
   "execution_count": null,
   "id": "c546b83d-5547-4973-a4df-42dfb6c52611",
   "metadata": {},
   "outputs": [],
   "source": [
    "plnr = itstgcnLRGCN.planner.PLNR_STGCN_RAND(plans_stgcn_rand,loader6,dataset_name='windmillsmallLRGCN')\n",
    "plnr.simulate()"
   ]
  },
  {
   "cell_type": "code",
   "execution_count": null,
   "id": "50e7ad30-d6b8-45d3-a790-b90931e0842d",
   "metadata": {},
   "outputs": [],
   "source": [
    "plnr = itstgcnLRGCN.planner.PLNR_STGCN_RAND(plans_stgcn_rand,loader6,dataset_name='windmillsmallLRGCN')\n",
    "plnr.simulate()"
   ]
  },
  {
   "cell_type": "code",
   "execution_count": null,
   "id": "ab77d1e5-3dc4-4ea9-a9d6-c43c74948077",
   "metadata": {},
   "outputs": [],
   "source": [
    "plnr = itstgcnLRGCN.planner.PLNR_STGCN_RAND(plans_stgcn_rand,loader6,dataset_name='windmillsmallLRGCN')\n",
    "plnr.simulate()"
   ]
  },
  {
   "cell_type": "code",
   "execution_count": null,
   "id": "e65c7697-8afe-4dab-a0c6-ae9dff2e34b4",
   "metadata": {},
   "outputs": [],
   "source": [
    "plnr = itstgcnLRGCN.planner.PLNR_STGCN_RAND(plans_stgcn_rand,loader6,dataset_name='windmillsmallLRGCN')\n",
    "plnr.simulate()"
   ]
  },
  {
   "cell_type": "code",
   "execution_count": null,
   "id": "316e88bc-9b82-416b-8bdd-d91d163bc6ea",
   "metadata": {},
   "outputs": [],
   "source": [
    "plnr = itstgcnLRGCN.planner.PLNR_STGCN_RAND(plans_stgcn_rand,loader6,dataset_name='windmillsmallLRGCN')\n",
    "plnr.simulate()"
   ]
  },
  {
   "cell_type": "code",
   "execution_count": null,
   "id": "a5459e4d-0c62-48ad-bb26-bda855d3caa0",
   "metadata": {},
   "outputs": [],
   "source": [
    "plnr = itstgcnLRGCN.planner.PLNR_STGCN_RAND(plans_stgcn_rand,loader6,dataset_name='windmillsmallLRGCN')\n",
    "plnr.simulate()"
   ]
  },
  {
   "cell_type": "code",
   "execution_count": null,
   "id": "a17605db-573d-4cce-a7bd-dab920052ab9",
   "metadata": {},
   "outputs": [],
   "source": [
    "plnr = itstgcnLRGCN.planner.PLNR_STGCN_RAND(plans_stgcn_rand,loader6,dataset_name='windmillsmallLRGCN')\n",
    "plnr.simulate()"
   ]
  },
  {
   "cell_type": "code",
   "execution_count": null,
   "id": "3dfdbdad-44e0-499f-ad31-b11dcf867021",
   "metadata": {},
   "outputs": [],
   "source": [
    "plnr = itstgcnLRGCN.planner.PLNR_STGCN_RAND(plans_stgcn_rand,loader6,dataset_name='windmillsmallLRGCN')\n",
    "plnr.simulate()"
   ]
  },
  {
   "cell_type": "code",
   "execution_count": null,
   "id": "66bb9634-cb35-41a9-9b24-2e1ff9757b09",
   "metadata": {},
   "outputs": [],
   "source": [
    "plnr = itstgcnLRGCN.planner.PLNR_STGCN_RAND(plans_stgcn_rand,loader6,dataset_name='windmillsmallLRGCN')\n",
    "plnr.simulate()"
   ]
  },
  {
   "cell_type": "code",
   "execution_count": null,
   "id": "12fc6ae2-1a13-47d1-869e-93587ba6fc61",
   "metadata": {},
   "outputs": [],
   "source": []
  }
 ],
 "metadata": {
  "kernelspec": {
   "display_name": "Python 3",
   "language": "python",
   "name": "python3"
  },
  "language_info": {
   "codemirror_mode": {
    "name": "ipython",
    "version": 3
   },
   "file_extension": ".py",
   "mimetype": "text/x-python",
   "name": "python",
   "nbconvert_exporter": "python",
   "pygments_lexer": "ipython3",
   "version": "3.8.0"
  }
 },
 "nbformat": 4,
 "nbformat_minor": 5
}
