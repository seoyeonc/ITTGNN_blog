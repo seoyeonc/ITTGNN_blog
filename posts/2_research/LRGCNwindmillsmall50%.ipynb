{
 "cells": [
  {
   "cell_type": "raw",
   "id": "bbd0ca3b-7f3f-4648-a6c3-fcdd22a8ebc6",
   "metadata": {
    "id": "cac470df-29e7-4148-9bbd-d8b9a32fa570",
    "tags": []
   },
   "source": [
    "---\n",
    "title: \"wikimathsmall 50% 시뮬 데이터 GConvGRU\"\n",
    "author: \"SEOYEON CHOI\"\n",
    "date: \"2024-01-28\"\n",
    "---"
   ]
  },
  {
   "cell_type": "markdown",
   "id": "0039cffc-af67-4337-933a-e6e5113e62d1",
   "metadata": {},
   "source": [
    "| Model               | FiveVTS | Chickenpox | Pedalme | Wikimath | Windmillsmall | MontevideoBus |\n",
    "|---------------------|---------|------------|---------|----------|---------------|---------------|\n",
    "| Max iter.           | 30      | 30         | 30      | 30       | 30            | 30            |\n",
    "| Epochs              | 50      | 50         | 50      | 50       | 50            | 50            |\n",
    "| Lags                | 2       | 4          | 4       | 8        | 8             | 4             |\n",
    "| Interpolation       | linear  | linear     | nearest | linear   | linear        | nearest       |\n",
    "| Filters             |         |            |         |          |               |               |\n",
    "| GConvGRU            | 12      | 16         | 12      | 12       | 12            | 12            |\n",
    "| GConvLSTM           | 12      | 32         | 2       | 64       | 16            | 12            |\n",
    "| GCLSTM              | 4       | 16         | 4       | 64       | 16            | 12            |\n",
    "| LRGCN               | 4       | 8          | 8       | 32       | 12            | 2             |\n",
    "| DyGrEncoder         | 12      | 12         | 12      | 12       | 12            | 12            |\n",
    "| EvolveGCNH          | No need | No need    | No need | No need  | No need       | No need       |\n",
    "| EvolveGCNO          | No need | No need    | No need | No need  | No need       | No need       |\n",
    "| TGCN                | 12      | 12         | 12      | 12       | 12            | 8             |\n",
    "| DCRNN               | 2       | 16         | 8       | 12       | 4             | 12            |\n"
   ]
  },
  {
   "cell_type": "code",
   "execution_count": 10,
   "id": "15246274-7df9-4bca-b802-1904e37661a2",
   "metadata": {},
   "outputs": [],
   "source": [
    "\n",
    "import torch\n",
    "import itstgcnLRGCN\n",
    "import itstgcnLRGCN.planner \n",
    "import pandas as pd\n",
    "\n",
    "import numpy as np\n",
    "import random"
   ]
  },
  {
   "cell_type": "code",
   "execution_count": 11,
   "id": "3141ca5f-5aec-4fa1-a0c3-60223f37c937",
   "metadata": {},
   "outputs": [],
   "source": [
    "loader6 = itstgcnLRGCN.load_data('./data/Windmillsmall.pkl')"
   ]
  },
  {
   "cell_type": "code",
   "execution_count": 4,
   "id": "4e48bf70-30b5-4c1d-a9de-1d54dfc3ca8e",
   "metadata": {},
   "outputs": [],
   "source": [
    "plans_stgcn_rand = {\n",
    "    'max_iteration': 1, \n",
    "    'method': ['STGCN', 'IT-STGCN'],\n",
    "    'mrate': [0.8],\n",
    "    'lags': [8], \n",
    "    'nof_filters': [12], \n",
    "    'inter_method': ['linear'],\n",
    "    'epoch': [50]\n",
    "}"
   ]
  },
  {
   "cell_type": "code",
   "execution_count": null,
   "id": "1a51b76d-3069-489d-b493-82083f8ccf32",
   "metadata": {},
   "outputs": [],
   "source": [
    "plnr = itstgcnLRGCN.planner.PLNR_STGCN_RAND(plans_stgcn_rand,loader6,dataset_name='windmillsmallLRGCN')\n",
    "plnr.simulate()"
   ]
  },
  {
   "cell_type": "code",
   "execution_count": null,
   "id": "d36cb1c6-915d-41c2-95ca-d45c10b30e80",
   "metadata": {},
   "outputs": [],
   "source": []
  }
 ],
 "metadata": {
  "kernelspec": {
   "display_name": "Python 3",
   "language": "python",
   "name": "python3"
  },
  "language_info": {
   "codemirror_mode": {
    "name": "ipython",
    "version": 3
   },
   "file_extension": ".py",
   "mimetype": "text/x-python",
   "name": "python",
   "nbconvert_exporter": "python",
   "pygments_lexer": "ipython3",
   "version": "3.8.0"
  }
 },
 "nbformat": 4,
 "nbformat_minor": 5
}
