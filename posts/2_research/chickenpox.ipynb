{
 "cells": [
  {
   "cell_type": "markdown",
   "id": "f0cc1696-9951-46e1-af27-5ef26da98036",
   "metadata": {},
   "source": [
    "80%\n",
    "\n",
    "chickenpox\n",
    "\n",
    "- ~GConvGRU~\n",
    "- GConvLSTM\n",
    "- GCLSTM\n",
    "- LRGCN\n",
    "- DyGrEncoder\n",
    "- ~EvolveGCNH~\n",
    "- ~EvolveGCNO~\n",
    "- ~TGCN~\n",
    "- ~DCRNN~"
   ]
  },
  {
   "cell_type": "markdown",
   "id": "9ee000f6-e2f0-4b11-98fc-637d27093852",
   "metadata": {
    "id": "cac470df-29e7-4148-9bbd-d8b9a32fa570",
    "tags": []
   },
   "source": [
    "| Model               | FiveVTS | Chickenpox | Pedalme | Wikimath | Windmillsmall | MontevideoBus |\n",
    "|---------------------|---------|------------|---------|----------|---------------|---------------|\n",
    "| Max iter.           | 30      | 30         | 30      | 30       | 30            | 30            |\n",
    "| Epochs              | 50      | 50         | 50      | 50       | 50            | 50            |\n",
    "| Lags                | 2       | 4          | 4       | 8        | 8             | 4             |\n",
    "| Interpolation       | linear  | linear     | nearest | linear   | linear        | nearest       |\n",
    "| Filters             |         |            |         |          |               |               |\n",
    "| GConvGRU            | 12      | 16         | 12      | 12       | 12            | 12            |\n",
    "| GConvLSTM           | 12      | 32         | 2       | 64       | 16            | 12            |\n",
    "| GCLSTM              | 4       | 16         | 4       | 64       | 16            | 12            |\n",
    "| LRGCN               | 4       | 8          | 8       | 32       | 12            | 2             |\n",
    "| DyGrEncoder         | 12      | 12         | 12      | 12       | 12            | 12            |\n",
    "| EvolveGCNH          | No need | No need    | No need | No need  | No need       | No need       |\n",
    "| EvolveGCNO          | No need | No need    | No need | No need  | No need       | No need       |\n",
    "| TGCN                | 12      | 12         | 12      | 12       | 12            | 8             |\n",
    "| DCRNN               | 2       | 16         | 8       | 12       | 4             | 12            |\n"
   ]
  },
  {
   "cell_type": "code",
   "execution_count": 15,
   "id": "ea4cf8e9-bc9b-43d1-9e4a-508b752573a5",
   "metadata": {},
   "outputs": [],
   "source": [
    "# import itstgcnDYGRENCODER\n",
    "# import itstgcnDYGRENCODER.planner "
   ]
  },
  {
   "cell_type": "code",
   "execution_count": 16,
   "id": "f106e806-f127-43d0-bb59-0e490bd27617",
   "metadata": {},
   "outputs": [],
   "source": [
    "# plans_stgcn_rand = {\n",
    "#     'max_iteration': 30, \n",
    "#     'method': ['STGCN', 'IT-STGCN'],\n",
    "#     'mrate': [0.8],\n",
    "#     'lags': [4], \n",
    "#     'nof_filters': [12], \n",
    "#     'inter_method': ['cubic','nearest'],\n",
    "#     'epoch': [50]\n",
    "# }"
   ]
  },
  {
   "cell_type": "code",
   "execution_count": 17,
   "id": "8be97951-2260-4cec-a605-49a32f208d60",
   "metadata": {},
   "outputs": [],
   "source": [
    "# plnr = itstgcnDYGRENCODER.planner.PLNR_STGCN_RAND(plans_stgcn_rand,loader1,dataset_name='chickenpox')\n",
    "# plnr.simulate()"
   ]
  },
  {
   "cell_type": "code",
   "execution_count": null,
   "id": "ccd88f5e-9854-4418-bce7-2a0135975375",
   "metadata": {},
   "outputs": [],
   "source": []
  }
 ],
 "metadata": {
  "kernelspec": {
   "display_name": "Python 3",
   "language": "python",
   "name": "python3"
  },
  "language_info": {
   "codemirror_mode": {
    "name": "ipython",
    "version": 3
   },
   "file_extension": ".py",
   "mimetype": "text/x-python",
   "name": "python",
   "nbconvert_exporter": "python",
   "pygments_lexer": "ipython3",
   "version": "3.8.0"
  }
 },
 "nbformat": 4,
 "nbformat_minor": 5
}
