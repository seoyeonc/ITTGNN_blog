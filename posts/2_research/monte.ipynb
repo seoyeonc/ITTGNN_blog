{
 "cells": [
  {
   "cell_type": "markdown",
   "id": "1be5c692-08b1-4626-b676-64f4cd3e5c98",
   "metadata": {},
   "source": [
    "monte"
   ]
  },
  {
   "cell_type": "markdown",
   "id": "56119a94-5e1f-43e9-a338-f30a1dc8591f",
   "metadata": {},
   "source": [
    "| Model               | MontevideoBus |\n",
    "|---------------------|---------------|\n",
    "| Max iter.           | 30            |\n",
    "| Epochs              | 50            |\n",
    "| Lags                | 4             |\n",
    "| Interpolation       | nearest       |\n",
    "| Filters             |               |\n",
    "| GConvGRU            | 12            |\n",
    "| GConvLSTM           | 12            |\n",
    "| GCLSTM              | 12            |\n",
    "| LRGCN               | 2             |\n",
    "| DyGrEncoder         | 12            |\n",
    "| EvolveGCNH          | No need       |\n",
    "| EvolveGCNO          | No need       |\n",
    "| TGCN                | 8             |\n",
    "| DCRNN               | 12           "
   ]
  },
  {
   "cell_type": "code",
   "execution_count": 8,
   "id": "50dc7571-2a00-4a7f-8f7f-49d4a991d043",
   "metadata": {},
   "outputs": [],
   "source": [
    "import itstgcn\n",
    "import torch\n",
    "import itstgcn.planner \n",
    "import pandas as pd\n",
    "\n",
    "import numpy as np\n",
    "import random"
   ]
  },
  {
   "cell_type": "code",
   "execution_count": 2,
   "id": "51d10465-ff69-4ad1-b176-66f79d290f1d",
   "metadata": {},
   "outputs": [],
   "source": [
    "from torch_geometric_temporal.dataset import MontevideoBusDatasetLoader\n",
    "loader10 = MontevideoBusDatasetLoader()"
   ]
  },
  {
   "cell_type": "code",
   "execution_count": 3,
   "id": "5831c8d9-b08e-41ec-bcf9-018d461ff5df",
   "metadata": {},
   "outputs": [],
   "source": [
    "my_list = [[] for _ in range(675)] #monte\n",
    "another_list = list(range(200,350)) #743\n",
    "\n",
    "for i in np.array(random.sample(range(0, 675), 400)):\n",
    "    my_list[i] = another_list\n",
    "mindex = my_list"
   ]
  },
  {
   "cell_type": "code",
   "execution_count": 9,
   "id": "91beb9a9-a4d8-492e-9abd-edd7fff4fc52",
   "metadata": {},
   "outputs": [],
   "source": [
    "plans_stgcn_block = {\n",
    "    'max_iteration': 30, \n",
    "    'method': ['STGCN', 'IT-STGCN'], \n",
    "    'mindex': [mindex],\n",
    "    'lags': [4], \n",
    "    'nof_filters': [12], \n",
    "    'inter_method': ['linear'],\n",
    "    'epoch': [50]\n",
    "}"
   ]
  },
  {
   "cell_type": "code",
   "execution_count": 11,
   "id": "210517b6-7a3f-449b-a469-f888fafe4be8",
   "metadata": {},
   "outputs": [],
   "source": [
    "import itstgcnGConvLSTM\n",
    "import itstgcnGConvLSTM.planner"
   ]
  },
  {
   "cell_type": "code",
   "execution_count": null,
   "id": "42e4ddfc-2006-4eaa-ac59-4be5b0d0e02a",
   "metadata": {},
   "outputs": [
    {
     "name": "stdout",
     "output_type": "stream",
     "text": [
      "5/50\r"
     ]
    }
   ],
   "source": [
    "plnr = itstgcnGConvLSTM.planner.PLNR_STGCN_MANUAL(plans_stgcn_block,loader10,dataset_name='monteblockGConvLSTM')\n",
    "plnr.simulate(mindex=mindex,mtype='block')"
   ]
  },
  {
   "cell_type": "code",
   "execution_count": null,
   "id": "94bc210b-6350-48ba-b0da-97b13b911af2",
   "metadata": {},
   "outputs": [],
   "source": [
    "import itstgcnGCLSTM\n",
    "import itstgcnGCLSTM.planner"
   ]
  },
  {
   "cell_type": "code",
   "execution_count": null,
   "id": "cf30a893-5e5f-438d-83fd-349141f7292c",
   "metadata": {},
   "outputs": [],
   "source": [
    "plnr = itstgcnGCLSTM.planner.PLNR_STGCN_MANUAL(plans_stgcn_block,loader10,dataset_name='monteblockGCLSTM')\n",
    "plnr.simulate(mindex=mindex,mtype='block')"
   ]
  },
  {
   "cell_type": "code",
   "execution_count": null,
   "id": "94448132-ad3d-4812-a224-654c7f0ffec2",
   "metadata": {},
   "outputs": [],
   "source": [
    "import itstgcnDYGRENCODER\n",
    "import itstgcnDYGRENCODER.planner"
   ]
  },
  {
   "cell_type": "code",
   "execution_count": null,
   "id": "7372bbb6-964e-41b1-b228-d80c6232951c",
   "metadata": {},
   "outputs": [],
   "source": [
    "plnr = itstgcnDYGRENCODER.planner.PLNR_STGCN_MANUAL(plans_stgcn_block,loader10,dataset_name='monteblockDyGrEncoder')\n",
    "plnr.simulate(mindex=mindex,mtype='block')"
   ]
  },
  {
   "cell_type": "code",
   "execution_count": null,
   "id": "866ca241-a8a9-4c7c-9882-ac724b87f97d",
   "metadata": {},
   "outputs": [],
   "source": [
    "import itstgcnDCRNN\n",
    "import itstgcnDCRNN.planner"
   ]
  },
  {
   "cell_type": "code",
   "execution_count": null,
   "id": "58d1e3aa-a9d8-496e-b6b4-f6c161cbe68e",
   "metadata": {},
   "outputs": [],
   "source": [
    "plnr = itstgcnDCRNN.planner.PLNR_STGCN_MANUAL(plans_stgcn_block,loader10,dataset_name='monteblockDCRNN')\n",
    "plnr.simulate(mindex=mindex,mtype='block')"
   ]
  },
  {
   "cell_type": "code",
   "execution_count": null,
   "id": "5767ca6f-3b1f-41ca-afc6-4bedfcabd7a1",
   "metadata": {},
   "outputs": [],
   "source": [
    "plans_stgcn_block = {\n",
    "    'max_iteration': 30, \n",
    "    'method': ['STGCN', 'IT-STGCN'],\n",
    "    'mrate': [mindex],\n",
    "    'lags': [4], \n",
    "    'nof_filters': [2], \n",
    "    'inter_method': ['linear'],\n",
    "    'epoch': [50]\n",
    "}"
   ]
  },
  {
   "cell_type": "code",
   "execution_count": null,
   "id": "32ce27fe-abc0-4513-8f4f-5d513479321a",
   "metadata": {},
   "outputs": [],
   "source": [
    "import itstgcnLRGCN\n",
    "import itstgcnLRGCN.planner"
   ]
  },
  {
   "cell_type": "code",
   "execution_count": null,
   "id": "2c4bc9c2-470e-4de1-804e-04e0edd331ee",
   "metadata": {},
   "outputs": [],
   "source": [
    "plnr = itstgcnLRGCN.planner.PLNR_STGCN_MANUAL(plans_stgcn_block,loader10,dataset_name='monteblockLRGCN')\n",
    "plnr.simulate(mindex=mindex,mtype='block')"
   ]
  },
  {
   "cell_type": "code",
   "execution_count": null,
   "id": "a1367b57-e917-4358-9574-21a3cfb37a45",
   "metadata": {},
   "outputs": [],
   "source": [
    "import itstgcnEvolveGCNH\n",
    "import itstgcnEvolveGCNH.planner"
   ]
  },
  {
   "cell_type": "code",
   "execution_count": null,
   "id": "45f5beea-6a72-4f98-ba3e-1f8a1e3b2396",
   "metadata": {},
   "outputs": [],
   "source": [
    "plnr = itstgcnEvolveGCNH.planner.PLNR_STGCN_MANUAL(plans_stgcn_block,loader10,dataset_name='monteblockEvolveGCNH')\n",
    "plnr.simulate(mindex=mindex,mtype='block')"
   ]
  },
  {
   "cell_type": "code",
   "execution_count": null,
   "id": "2fcf4ca5-7e62-449d-a13f-6f57d9024941",
   "metadata": {},
   "outputs": [],
   "source": [
    "import itstgcnEvolveGCNO\n",
    "import itstgcnEvolveGCNO.planner"
   ]
  },
  {
   "cell_type": "code",
   "execution_count": null,
   "id": "900b144f-0170-4688-b232-ed56affa9813",
   "metadata": {},
   "outputs": [],
   "source": [
    "plnr = itstgcnEvolveGCNO.planner.PLNR_STGCN_MANUAL(plans_stgcn_block,loader10,dataset_name='monteblockEvolveGCNO')\n",
    "plnr.simulate(mindex=mindex,mtype='block')"
   ]
  },
  {
   "cell_type": "code",
   "execution_count": null,
   "id": "8ef9875d-c273-47b1-a3f7-8b1e9e27d5a9",
   "metadata": {},
   "outputs": [],
   "source": [
    "plans_stgcn_block = {\n",
    "    'max_iteration': 30, \n",
    "    'method': ['STGCN', 'IT-STGCN'],\n",
    "    'mrate': [mindex],\n",
    "    'lags': [4], \n",
    "    'nof_filters': [8], \n",
    "    'inter_method': ['linear'],\n",
    "    'epoch': [50]\n",
    "}"
   ]
  },
  {
   "cell_type": "code",
   "execution_count": null,
   "id": "575a8362-c7a6-4236-a4e1-3be980cf9ddf",
   "metadata": {},
   "outputs": [],
   "source": [
    "import itstgcnTGCN\n",
    "import itstgcnTGCN.planner"
   ]
  },
  {
   "cell_type": "code",
   "execution_count": null,
   "id": "a9980d2f-2af6-4e9f-8990-8fb60facbb94",
   "metadata": {},
   "outputs": [],
   "source": [
    "plnr = itstgcnTGCN.planner.PLNR_STGCN_MANUAL(plans_stgcn_block,loader10,dataset_name='monteblockTGCN')\n",
    "plnr.simulate(mindex=mindex,mtype='block')"
   ]
  },
  {
   "cell_type": "code",
   "execution_count": null,
   "id": "a3146392-a807-482c-9892-edaab06afb83",
   "metadata": {},
   "outputs": [],
   "source": [
    "plans_stgcn_rand = {\n",
    "    'max_iteration': 30, \n",
    "    'method': ['STGCN', 'IT-STGCN'],\n",
    "    'mrate': [0.3,0.5,0.7,0.8],\n",
    "    'lags': [4], \n",
    "    'nof_filters': [2], \n",
    "    'inter_method': ['linear'],\n",
    "    'epoch': [50]\n",
    "}"
   ]
  },
  {
   "cell_type": "code",
   "execution_count": null,
   "id": "e1c34f09-5ba7-4671-9edb-1193990c963c",
   "metadata": {},
   "outputs": [],
   "source": [
    "plnr = itstgcnLRGCN.planner.PLNR_STGCN_RAND(plans_stgcn_rand,loader10,dataset_name='monteLRGCN')\n",
    "plnr.simulate()"
   ]
  },
  {
   "cell_type": "code",
   "execution_count": null,
   "id": "ca3eb966-0976-43e3-83d7-7355cc78514b",
   "metadata": {},
   "outputs": [],
   "source": []
  }
 ],
 "metadata": {
  "kernelspec": {
   "display_name": "Python 3",
   "language": "python",
   "name": "python3"
  },
  "language_info": {
   "codemirror_mode": {
    "name": "ipython",
    "version": 3
   },
   "file_extension": ".py",
   "mimetype": "text/x-python",
   "name": "python",
   "nbconvert_exporter": "python",
   "pygments_lexer": "ipython3",
   "version": "3.8.0"
  }
 },
 "nbformat": 4,
 "nbformat_minor": 5
}
