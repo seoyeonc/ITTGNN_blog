{
 "cells": [
  {
   "cell_type": "raw",
   "id": "ad744ae7-ba14-487f-86ff-b5dd4a1b269c",
   "metadata": {
    "id": "cac470df-29e7-4148-9bbd-d8b9a32fa570",
    "tags": []
   },
   "source": [
    "---\n",
    "title: \"montevideobus 시뮬 데이터\"\n",
    "author: \"SEOYEON CHOI\"\n",
    "date: \"2024-01-28\"\n",
    "---"
   ]
  },
  {
   "cell_type": "markdown",
   "id": "1be5c692-08b1-4626-b676-64f4cd3e5c98",
   "metadata": {},
   "source": [
    "monte"
   ]
  },
  {
   "cell_type": "markdown",
   "id": "56119a94-5e1f-43e9-a338-f30a1dc8591f",
   "metadata": {},
   "source": [
    "| Model               | MontevideoBus |\n",
    "|---------------------|---------------|\n",
    "| Max iter.           | 30            |\n",
    "| Epochs              | 50            |\n",
    "| Lags                | 4             |\n",
    "| Interpolation       | nearest       |\n",
    "| Filters             |               |\n",
    "| GConvGRU            | 12            |\n",
    "| GConvLSTM           | 12            |\n",
    "| GCLSTM              | 12            |\n",
    "| LRGCN               | 2             |\n",
    "| DyGrEncoder         | 12            |\n",
    "| EvolveGCNH          | No need       |\n",
    "| EvolveGCNO          | No need       |\n",
    "| TGCN                | 8             |\n",
    "| DCRNN               | 12           "
   ]
  },
  {
   "cell_type": "code",
   "execution_count": 23,
   "id": "50dc7571-2a00-4a7f-8f7f-49d4a991d043",
   "metadata": {},
   "outputs": [],
   "source": [
    "import itstgcn\n",
    "import torch\n",
    "import itstgcn.planner \n",
    "import pandas as pd\n",
    "\n",
    "import numpy as np\n",
    "import random"
   ]
  },
  {
   "cell_type": "code",
   "execution_count": 2,
   "id": "51d10465-ff69-4ad1-b176-66f79d290f1d",
   "metadata": {},
   "outputs": [],
   "source": [
    "from torch_geometric_temporal.dataset import MontevideoBusDatasetLoader\n",
    "loader10 = MontevideoBusDatasetLoader()"
   ]
  },
  {
   "cell_type": "code",
   "execution_count": null,
   "id": "a3146392-a807-482c-9892-edaab06afb83",
   "metadata": {},
   "outputs": [],
   "source": [
    "plans_stgcn_rand = {\n",
    "    'max_iteration': 30, \n",
    "    'method': ['STGCN', 'IT-STGCN'],\n",
    "    'mrate': [0.3,0.5,0.7,0.8],\n",
    "    'lags': [4], \n",
    "    'nof_filters': [2], \n",
    "    'inter_method': ['linear'],\n",
    "    'epoch': [50]\n",
    "}"
   ]
  },
  {
   "cell_type": "code",
   "execution_count": null,
   "id": "e1c34f09-5ba7-4671-9edb-1193990c963c",
   "metadata": {},
   "outputs": [],
   "source": [
    "plnr = itstgcnLRGCN.planner.PLNR_STGCN_RAND(plans_stgcn_rand,loader10,dataset_name='monteLRGCN')\n",
    "plnr.simulate()"
   ]
  },
  {
   "cell_type": "code",
   "execution_count": null,
   "id": "ca3eb966-0976-43e3-83d7-7355cc78514b",
   "metadata": {},
   "outputs": [],
   "source": []
  }
 ],
 "metadata": {
  "kernelspec": {
   "display_name": "Python 3",
   "language": "python",
   "name": "python3"
  },
  "language_info": {
   "codemirror_mode": {
    "name": "ipython",
    "version": 3
   },
   "file_extension": ".py",
   "mimetype": "text/x-python",
   "name": "python",
   "nbconvert_exporter": "python",
   "pygments_lexer": "ipython3",
   "version": "3.8.0"
  }
 },
 "nbformat": 4,
 "nbformat_minor": 5
}
