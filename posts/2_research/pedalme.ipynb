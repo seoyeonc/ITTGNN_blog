{
 "cells": [
  {
   "cell_type": "code",
   "execution_count": null,
   "id": "6743be1e-e289-4441-9cb7-7b244ffe34f1",
   "metadata": {},
   "outputs": [],
   "source": []
  },
  {
   "cell_type": "markdown",
   "id": "ef6addc3-69f0-4977-b8c3-4f4afe6cc2d5",
   "metadata": {},
   "source": [
    "| Model               |  Pedalme |\n",
    "|---------------------|----------|\n",
    "| Max iter.           |  30      |\n",
    "| Epochs              |  50      |\n",
    "| Lags                |  4       |\n",
    "| Interpolation       |  nearest |\n",
    "| Filters             |          |\n",
    "| GConvGRU            |  12      |\n",
    "| GConvLSTM           |  2       |\n",
    "| GCLSTM              |  4       |\n",
    "| LRGCN               |  8       |\n",
    "| DyGrEncoder         |  12      |\n",
    "| EvolveGCNH          |  No need |\n",
    "| EvolveGCNO          |  No need |\n",
    "| TGCN                |  12      |\n",
    "| DCRNN               |  8       |\n"
   ]
  },
  {
   "cell_type": "code",
   "execution_count": 1,
   "id": "15246274-7df9-4bca-b802-1904e37661a2",
   "metadata": {},
   "outputs": [],
   "source": [
    "import itstgcn\n",
    "import torch\n",
    "import itstgcn.planner \n",
    "import pandas as pd\n",
    "\n",
    "import numpy as np\n",
    "import random"
   ]
  },
  {
   "cell_type": "code",
   "execution_count": 2,
   "id": "6db74e7b-37c3-41c7-bbf2-1d93284df3e0",
   "metadata": {},
   "outputs": [],
   "source": [
    "from torch_geometric_temporal.dataset import PedalMeDatasetLoader\n",
    "loader2 = PedalMeDatasetLoader()"
   ]
  },
  {
   "cell_type": "code",
   "execution_count": 3,
   "id": "1de9b217-494e-44ab-b100-bc6c0393b82e",
   "metadata": {},
   "outputs": [],
   "source": [
    "plans_stgcn_rand = {\n",
    "    'max_iteration': 30, \n",
    "    'method': ['STGCN', 'IT-STGCN'],\n",
    "    'mrate': [0,0.3,0.5,0.6,0.8],\n",
    "    'lags': [4], \n",
    "    'nof_filters': [12], \n",
    "    'inter_method': ['linear'],\n",
    "    'epoch': [50]\n",
    "}"
   ]
  },
  {
   "cell_type": "code",
   "execution_count": 4,
   "id": "88abc9ba-6f6c-4f1a-86a7-ea411fd5ba60",
   "metadata": {},
   "outputs": [
    {
     "name": "stderr",
     "output_type": "stream",
     "text": [
      "/home/csy/Dropbox/ITTGNN_blog/posts/2_research/itstgcn/learners.py:83: UserWarning: Creating a tensor from a list of numpy.ndarrays is extremely slow. Please consider converting the list to a single numpy.ndarray with numpy.array() before converting to a tensor. (Triggered internally at /opt/conda/conda-bld/pytorch_1682343998658/work/torch/csrc/utils/tensor_new.cpp:245.)\n",
      "  self.lags = torch.tensor(train_dataset.features).shape[-1]\n"
     ]
    },
    {
     "name": "stdout",
     "output_type": "stream",
     "text": [
      "1/30 is done\n",
      "2/30 is done\n",
      "3/30 is done\n",
      "4/30 is done\n",
      "5/30 is done\n",
      "6/30 is done\n",
      "7/30 is done\n",
      "8/30 is done\n",
      "9/30 is done\n",
      "10/30 is done\n",
      "11/30 is done\n",
      "12/30 is done\n",
      "13/30 is done\n",
      "14/30 is done\n",
      "15/30 is done\n",
      "16/30 is done\n",
      "17/30 is done\n",
      "18/30 is done\n",
      "19/30 is done\n",
      "20/30 is done\n",
      "21/30 is done\n",
      "22/30 is done\n",
      "23/30 is done\n",
      "24/30 is done\n",
      "25/30 is done\n",
      "26/30 is done\n",
      "27/30 is done\n",
      "28/30 is done\n",
      "29/30 is done\n",
      "30/30 is done\n",
      "All results are stored in ./simulation_results/2024-02-01_12-21-45.csv\n"
     ]
    }
   ],
   "source": [
    "plnr = itstgcn.planner.PLNR_STGCN_RAND(plans_stgcn_rand,loader2,dataset_name='pedalmeGConvGRU')\n",
    "plnr.simulate()"
   ]
  },
  {
   "cell_type": "code",
   "execution_count": 5,
   "id": "6f0303a2-affa-4d3b-ae37-5517b2896e15",
   "metadata": {},
   "outputs": [],
   "source": [
    "import itstgcnDYGRENCODER\n",
    "import itstgcnDYGRENCODER.planner "
   ]
  },
  {
   "cell_type": "code",
   "execution_count": 6,
   "id": "4e7489c4-9936-416e-ace0-b4da7c74459c",
   "metadata": {},
   "outputs": [
    {
     "name": "stdout",
     "output_type": "stream",
     "text": [
      "1/30 is done\n",
      "2/30 is done\n",
      "3/30 is done\n",
      "4/30 is done\n",
      "5/30 is done\n",
      "6/30 is done\n",
      "7/30 is done\n",
      "8/30 is done\n",
      "9/30 is done\n",
      "10/30 is done\n",
      "11/30 is done\n",
      "12/30 is done\n",
      "13/30 is done\n",
      "14/30 is done\n",
      "15/30 is done\n",
      "16/30 is done\n",
      "17/30 is done\n",
      "18/30 is done\n",
      "19/30 is done\n",
      "20/30 is done\n",
      "21/30 is done\n",
      "22/30 is done\n",
      "23/30 is done\n",
      "24/30 is done\n",
      "25/30 is done\n",
      "26/30 is done\n",
      "27/30 is done\n",
      "28/30 is done\n",
      "29/30 is done\n",
      "30/30 is done\n",
      "All results are stored in ./simulation_results/2024-02-01_13-06-50.csv\n"
     ]
    }
   ],
   "source": [
    "plnr = itstgcnDYGRENCODER.planner.PLNR_STGCN_RAND(plans_stgcn_rand,loader2,dataset_name='pedalmeDyGrEncoder')\n",
    "plnr.simulate()"
   ]
  },
  {
   "cell_type": "code",
   "execution_count": 7,
   "id": "363eb437-ebe3-4379-843e-dcefc6e51298",
   "metadata": {},
   "outputs": [],
   "source": [
    "import itstgcnEvolveGCNH\n",
    "import itstgcnEvolveGCNH.planner "
   ]
  },
  {
   "cell_type": "code",
   "execution_count": 8,
   "id": "509c82eb-bc4a-4e79-bc4a-8693893f9ac7",
   "metadata": {},
   "outputs": [
    {
     "name": "stdout",
     "output_type": "stream",
     "text": [
      "1/30 is done\n",
      "2/30 is done\n",
      "3/30 is done\n",
      "4/30 is done\n",
      "5/30 is done\n",
      "6/30 is done\n",
      "7/30 is done\n",
      "8/30 is done\n",
      "9/30 is done\n",
      "10/30 is done\n",
      "11/30 is done\n",
      "12/30 is done\n",
      "13/30 is done\n",
      "14/30 is done\n",
      "15/30 is done\n",
      "16/30 is done\n",
      "17/30 is done\n",
      "18/30 is done\n",
      "19/30 is done\n",
      "20/30 is done\n",
      "21/30 is done\n",
      "22/30 is done\n",
      "23/30 is done\n",
      "24/30 is done\n",
      "25/30 is done\n",
      "26/30 is done\n",
      "27/30 is done\n",
      "28/30 is done\n",
      "29/30 is done\n",
      "30/30 is done\n",
      "All results are stored in ./simulation_results/2024-02-01_13-25-34.csv\n"
     ]
    }
   ],
   "source": [
    "plnr = itstgcnEvolveGCNH.planner.PLNR_STGCN_RAND(plans_stgcn_rand,loader2,dataset_name='pedalmeEvolveGCNH')\n",
    "plnr.simulate()"
   ]
  },
  {
   "cell_type": "code",
   "execution_count": 9,
   "id": "87bae03e-ad99-409f-83dd-3645bc489eeb",
   "metadata": {},
   "outputs": [],
   "source": [
    "import itstgcnEvolveGCNO\n",
    "import itstgcnEvolveGCNO.planner "
   ]
  },
  {
   "cell_type": "code",
   "execution_count": 10,
   "id": "2afafbac-838c-4f01-b55a-b57964112c09",
   "metadata": {},
   "outputs": [
    {
     "name": "stdout",
     "output_type": "stream",
     "text": [
      "1/30 is done\n",
      "2/30 is done\n",
      "3/30 is done\n",
      "4/30 is done\n",
      "5/30 is done\n",
      "6/30 is done\n",
      "7/30 is done\n",
      "8/30 is done\n",
      "9/30 is done\n",
      "10/30 is done\n",
      "11/30 is done\n",
      "12/30 is done\n",
      "13/30 is done\n",
      "14/30 is done\n",
      "15/30 is done\n",
      "16/30 is done\n",
      "17/30 is done\n",
      "18/30 is done\n",
      "19/30 is done\n",
      "20/30 is done\n",
      "21/30 is done\n",
      "22/30 is done\n",
      "23/30 is done\n",
      "24/30 is done\n",
      "25/30 is done\n",
      "26/30 is done\n",
      "27/30 is done\n",
      "28/30 is done\n",
      "29/30 is done\n",
      "30/30 is done\n",
      "All results are stored in ./simulation_results/2024-02-01_13-38-43.csv\n"
     ]
    }
   ],
   "source": [
    "plnr = itstgcnEvolveGCNO.planner.PLNR_STGCN_RAND(plans_stgcn_rand,loader2,dataset_name='pedalmeEvolveGCNO')\n",
    "plnr.simulate()"
   ]
  },
  {
   "cell_type": "code",
   "execution_count": 11,
   "id": "ad9a3b59-594f-43d2-8bf3-e9cae83be940",
   "metadata": {},
   "outputs": [],
   "source": [
    "import itstgcnTGCN\n",
    "import itstgcnTGCN.planner "
   ]
  },
  {
   "cell_type": "code",
   "execution_count": 12,
   "id": "c2591fd9-d767-448b-b7d2-549def4a6131",
   "metadata": {},
   "outputs": [
    {
     "name": "stdout",
     "output_type": "stream",
     "text": [
      "1/30 is done\n",
      "2/30 is done\n",
      "3/30 is done\n",
      "4/30 is done\n",
      "5/30 is done\n",
      "6/30 is done\n",
      "7/30 is done\n",
      "8/30 is done\n",
      "9/30 is done\n",
      "10/30 is done\n",
      "11/30 is done\n",
      "12/30 is done\n",
      "13/30 is done\n",
      "14/30 is done\n",
      "15/30 is done\n",
      "16/30 is done\n",
      "17/30 is done\n",
      "18/30 is done\n",
      "19/30 is done\n",
      "20/30 is done\n",
      "21/30 is done\n",
      "22/30 is done\n",
      "23/30 is done\n",
      "24/30 is done\n",
      "25/30 is done\n",
      "26/30 is done\n",
      "27/30 is done\n",
      "28/30 is done\n",
      "29/30 is done\n",
      "30/30 is done\n",
      "All results are stored in ./simulation_results/2024-02-01_14-02-20.csv\n"
     ]
    }
   ],
   "source": [
    "plnr = itstgcnTGCN.planner.PLNR_STGCN_RAND(plans_stgcn_rand,loader2,dataset_name='pedalmeTGCN')\n",
    "plnr.simulate()"
   ]
  },
  {
   "cell_type": "code",
   "execution_count": 13,
   "id": "2a51793f-ce95-4be3-af3b-146b260a6be3",
   "metadata": {},
   "outputs": [],
   "source": [
    "plans_stgcn_rand = {\n",
    "    'max_iteration': 30, \n",
    "    'method': ['STGCN', 'IT-STGCN'],\n",
    "    'mrate': [0,0.3,0.5,0.6,0.8],\n",
    "    'lags': [4], \n",
    "    'nof_filters': [2], \n",
    "    'inter_method': ['linear'],\n",
    "    'epoch': [50]\n",
    "}"
   ]
  },
  {
   "cell_type": "code",
   "execution_count": 14,
   "id": "8b2821b8-d0c2-4c74-9e15-e32ee73f7162",
   "metadata": {},
   "outputs": [],
   "source": [
    "import itstgcnGConvLSTM\n",
    "import itstgcnGConvLSTM.planner "
   ]
  },
  {
   "cell_type": "code",
   "execution_count": 15,
   "id": "c149f0f3-7147-4690-8c4f-b3de849cef6a",
   "metadata": {},
   "outputs": [
    {
     "name": "stdout",
     "output_type": "stream",
     "text": [
      "1/30 is done\n",
      "2/30 is done\n",
      "3/30 is done\n",
      "4/30 is done\n",
      "5/30 is done\n",
      "6/30 is done\n",
      "7/30 is done\n",
      "8/30 is done\n",
      "9/30 is done\n",
      "10/30 is done\n",
      "11/30 is done\n",
      "12/30 is done\n",
      "13/30 is done\n",
      "14/30 is done\n",
      "15/30 is done\n",
      "16/30 is done\n",
      "17/30 is done\n",
      "18/30 is done\n",
      "19/30 is done\n",
      "20/30 is done\n",
      "21/30 is done\n",
      "22/30 is done\n",
      "23/30 is done\n",
      "24/30 is done\n",
      "25/30 is done\n",
      "26/30 is done\n",
      "27/30 is done\n",
      "28/30 is done\n",
      "29/30 is done\n",
      "30/30 is done\n",
      "All results are stored in ./simulation_results/2024-02-01_14-50-24.csv\n"
     ]
    }
   ],
   "source": [
    "plnr = itstgcnGConvLSTM.planner.PLNR_STGCN_RAND(plans_stgcn_rand,loader2,dataset_name='pedalmeGConvLSTM')\n",
    "plnr.simulate()"
   ]
  },
  {
   "cell_type": "code",
   "execution_count": 16,
   "id": "a0c59d7e-06c6-42fb-ac11-a457cc1400f5",
   "metadata": {},
   "outputs": [],
   "source": [
    "plans_stgcn_rand = {\n",
    "    'max_iteration': 30, \n",
    "    'method': ['STGCN', 'IT-STGCN'],\n",
    "    'mrate': [0,0.3,0.5,0.6,0.8],\n",
    "    'lags': [4], \n",
    "    'nof_filters': [4], \n",
    "    'inter_method': ['linear'],\n",
    "    'epoch': [50]\n",
    "}"
   ]
  },
  {
   "cell_type": "code",
   "execution_count": 17,
   "id": "81865b35-7a44-43ad-a561-b30389661814",
   "metadata": {},
   "outputs": [],
   "source": [
    "import itstgcnGCLSTM\n",
    "import itstgcnGCLSTM.planner "
   ]
  },
  {
   "cell_type": "code",
   "execution_count": 18,
   "id": "4cb8cc15-854b-40f4-b713-02265804683d",
   "metadata": {},
   "outputs": [
    {
     "name": "stdout",
     "output_type": "stream",
     "text": [
      "1/30 is done\n",
      "2/30 is done\n",
      "3/30 is done\n",
      "4/30 is done\n",
      "5/30 is done\n",
      "6/30 is done\n",
      "7/30 is done\n",
      "8/30 is done\n",
      "9/30 is done\n",
      "10/30 is done\n",
      "11/30 is done\n",
      "12/30 is done\n",
      "13/30 is done\n",
      "14/30 is done\n",
      "15/30 is done\n",
      "16/30 is done\n",
      "17/30 is done\n",
      "18/30 is done\n",
      "19/30 is done\n",
      "20/30 is done\n",
      "21/30 is done\n",
      "22/30 is done\n",
      "23/30 is done\n",
      "24/30 is done\n",
      "25/30 is done\n",
      "26/30 is done\n",
      "27/30 is done\n",
      "28/30 is done\n",
      "29/30 is done\n",
      "30/30 is done\n",
      "All results are stored in ./simulation_results/2024-02-01_15-12-44.csv\n"
     ]
    }
   ],
   "source": [
    "plnr = itstgcnGCLSTM.planner.PLNR_STGCN_RAND(plans_stgcn_rand,loader2,dataset_name='pedalmeGCLSTM')\n",
    "plnr.simulate()"
   ]
  },
  {
   "cell_type": "code",
   "execution_count": 19,
   "id": "618a52fb-4b0f-4f0a-8f91-0973c9f6ded0",
   "metadata": {},
   "outputs": [],
   "source": [
    "plans_stgcn_rand = {\n",
    "    'max_iteration': 30, \n",
    "    'method': ['STGCN', 'IT-STGCN'],\n",
    "    'mrate': [0,0.3,0.5,0.6,0.8],\n",
    "    'lags': [4], \n",
    "    'nof_filters': [2], \n",
    "    'inter_method': ['linear'],\n",
    "    'epoch': [50]\n",
    "}"
   ]
  },
  {
   "cell_type": "code",
   "execution_count": 20,
   "id": "bc705fbd-a3be-4bda-8189-8e947e559fa6",
   "metadata": {},
   "outputs": [],
   "source": [
    "import itstgcnGCLSTM\n",
    "import itstgcnGCLSTM.planner "
   ]
  },
  {
   "cell_type": "code",
   "execution_count": 21,
   "id": "f0206983-5d41-40c1-a7aa-7d81a3706e19",
   "metadata": {},
   "outputs": [
    {
     "name": "stdout",
     "output_type": "stream",
     "text": [
      "1/30 is done\n",
      "2/30 is done\n",
      "3/30 is done\n",
      "4/30 is done\n",
      "5/30 is done\n",
      "6/30 is done\n",
      "7/30 is done\n",
      "8/30 is done\n",
      "9/30 is done\n",
      "10/30 is done\n",
      "11/30 is done\n",
      "12/30 is done\n",
      "13/30 is done\n",
      "14/30 is done\n",
      "15/30 is done\n",
      "16/30 is done\n",
      "17/30 is done\n",
      "18/30 is done\n",
      "19/30 is done\n",
      "20/30 is done\n",
      "21/30 is done\n",
      "22/30 is done\n",
      "23/30 is done\n",
      "24/30 is done\n",
      "25/30 is done\n",
      "26/30 is done\n",
      "27/30 is done\n",
      "28/30 is done\n",
      "29/30 is done\n",
      "30/30 is done\n",
      "All results are stored in ./simulation_results/2024-02-01_15-35-27.csv\n"
     ]
    }
   ],
   "source": [
    "plnr = itstgcnGCLSTM.planner.PLNR_STGCN_RAND(plans_stgcn_rand,loader2,dataset_name='pedalmeGCLSTM')\n",
    "plnr.simulate()"
   ]
  },
  {
   "cell_type": "code",
   "execution_count": 22,
   "id": "2a15b2cb-52c6-47db-addd-8bb55403e161",
   "metadata": {},
   "outputs": [],
   "source": [
    "plans_stgcn_rand = {\n",
    "    'max_iteration': 30, \n",
    "    'method': ['STGCN', 'IT-STGCN'],\n",
    "    'mrate': [0,0.3,0.5,0.6,0.8],\n",
    "    'lags': [4], \n",
    "    'nof_filters': [8], \n",
    "    'inter_method': ['linear'],\n",
    "    'epoch': [50]\n",
    "}"
   ]
  },
  {
   "cell_type": "code",
   "execution_count": 23,
   "id": "ce3dd7c5-27c2-41de-9f70-5e2b533718d8",
   "metadata": {},
   "outputs": [],
   "source": [
    "import itstgcnLRGCN\n",
    "import itstgcnLRGCN.planner "
   ]
  },
  {
   "cell_type": "code",
   "execution_count": 24,
   "id": "80880a07-40a5-4d62-93ac-323ad8643a07",
   "metadata": {},
   "outputs": [
    {
     "name": "stdout",
     "output_type": "stream",
     "text": [
      "1/30 is done\n",
      "2/30 is done\n",
      "3/30 is done\n",
      "4/30 is done\n",
      "5/30 is done\n",
      "6/30 is done\n",
      "7/30 is done\n",
      "8/30 is done\n",
      "9/30 is done\n",
      "10/30 is done\n",
      "11/30 is done\n",
      "12/30 is done\n",
      "13/30 is done\n",
      "14/30 is done\n",
      "15/30 is done\n",
      "16/30 is done\n",
      "17/30 is done\n",
      "18/30 is done\n",
      "19/30 is done\n",
      "20/30 is done\n",
      "21/30 is done\n",
      "22/30 is done\n",
      "23/30 is done\n",
      "24/30 is done\n",
      "25/30 is done\n",
      "26/30 is done\n",
      "27/30 is done\n",
      "28/30 is done\n",
      "29/30 is done\n",
      "30/30 is done\n",
      "All results are stored in ./simulation_results/2024-02-01_16-07-18.csv\n"
     ]
    }
   ],
   "source": [
    "plnr = itstgcnLRGCN.planner.PLNR_STGCN_RAND(plans_stgcn_rand,loader2,dataset_name='pedalmeLRGCN')\n",
    "plnr.simulate()"
   ]
  },
  {
   "cell_type": "code",
   "execution_count": 25,
   "id": "b3390222-ac79-498b-a5ea-03e971c015c5",
   "metadata": {},
   "outputs": [],
   "source": [
    "import itstgcnDCRNN\n",
    "import itstgcnDCRNN.planner "
   ]
  },
  {
   "cell_type": "code",
   "execution_count": 26,
   "id": "c4097757-c63a-4a35-a059-9b0278d01039",
   "metadata": {},
   "outputs": [
    {
     "name": "stdout",
     "output_type": "stream",
     "text": [
      "1/30 is done\n",
      "2/30 is done\n",
      "3/30 is done\n",
      "4/30 is done\n",
      "5/30 is done\n",
      "6/30 is done\n",
      "7/30 is done\n",
      "8/30 is done\n",
      "9/30 is done\n",
      "10/30 is done\n",
      "11/30 is done\n",
      "12/30 is done\n",
      "13/30 is done\n",
      "14/30 is done\n",
      "15/30 is done\n",
      "16/30 is done\n",
      "17/30 is done\n",
      "18/30 is done\n",
      "19/30 is done\n",
      "20/30 is done\n",
      "21/30 is done\n",
      "22/30 is done\n",
      "23/30 is done\n",
      "24/30 is done\n",
      "25/30 is done\n",
      "26/30 is done\n",
      "27/30 is done\n",
      "28/30 is done\n",
      "29/30 is done\n",
      "30/30 is done\n",
      "All results are stored in ./simulation_results/2024-02-01_16-27-28.csv\n"
     ]
    }
   ],
   "source": [
    "plnr = itstgcnDCRNN.planner.PLNR_STGCN_RAND(plans_stgcn_rand,loader2,dataset_name='pedalmeDCRNN')\n",
    "plnr.simulate()"
   ]
  },
  {
   "cell_type": "code",
   "execution_count": null,
   "id": "879e1628-358e-42f4-9864-e44d12126e7f",
   "metadata": {},
   "outputs": [],
   "source": []
  },
  {
   "cell_type": "code",
   "execution_count": 27,
   "id": "f8174433-099f-416a-bc15-f899b309fb01",
   "metadata": {},
   "outputs": [],
   "source": [
    "my_list = [[] for _ in range(15)] #pedalme\n",
    "another_list = list(range(5,25))\n",
    "my_list[1] = another_list\n",
    "my_list[3] = another_list\n",
    "my_list[5] = another_list\n",
    "my_list[7] = another_list\n",
    "my_list[9] = another_list\n",
    "my_list[11] = another_list\n",
    "mindex = my_list"
   ]
  },
  {
   "cell_type": "code",
   "execution_count": 28,
   "id": "522577c4-9739-4816-a537-f3aea7d822a7",
   "metadata": {},
   "outputs": [],
   "source": [
    "plans_stgcn_block = {\n",
    "    'max_iteration': 30, \n",
    "    'method': ['STGCN', 'IT-STGCN'], \n",
    "    'mindex': [mindex],\n",
    "    'lags': [4], \n",
    "    'nof_filters': [12], \n",
    "    'inter_method': ['linear'],\n",
    "    'epoch': [50]\n",
    "}"
   ]
  },
  {
   "cell_type": "code",
   "execution_count": null,
   "id": "d5ac2cc1-87e1-4a10-8931-ddb8a04dcd92",
   "metadata": {
    "tags": []
   },
   "outputs": [
    {
     "name": "stdout",
     "output_type": "stream",
     "text": [
      "1/30 is done\n",
      "2/30 is done\n",
      "3/30 is done\n",
      "4/30 is done\n",
      "38/50\r"
     ]
    }
   ],
   "source": [
    "plnr = itstgcn.planner.PLNR_STGCN_MANUAL(plans_stgcn_block,loader2,dataset_name='pedalmeGConvGRU')\n",
    "plnr.simulate(mindex=mindex,mtype='block')"
   ]
  },
  {
   "cell_type": "code",
   "execution_count": null,
   "id": "ba3db7e0-da60-4a7f-a8d5-29627695f83e",
   "metadata": {
    "tags": []
   },
   "outputs": [],
   "source": [
    "plnr = itstgcnDYGRENCODER.planner.PLNR_STGCN_MANUAL(plans_stgcn_block,loader2,dataset_name='pedalmeDyGrEncoder')\n",
    "plnr.simulate(mindex=mindex,mtype='block')"
   ]
  },
  {
   "cell_type": "code",
   "execution_count": null,
   "id": "fc6981c4-99d0-4a63-949e-2c8b9b251965",
   "metadata": {
    "tags": []
   },
   "outputs": [],
   "source": [
    "plnr = itstgcnEvolveGCNH.planner.PLNR_STGCN_MANUAL(plans_stgcn_block,loader2,dataset_name='pedalmeEvolveGCNH')\n",
    "plnr.simulate(mindex=mindex,mtype='block')"
   ]
  },
  {
   "cell_type": "code",
   "execution_count": null,
   "id": "993c099e-708f-4809-a696-7813e26dcb69",
   "metadata": {
    "tags": []
   },
   "outputs": [],
   "source": [
    "plnr = itstgcnEvolveGCNO.planner.PLNR_STGCN_MANUAL(plans_stgcn_block,loader2,dataset_name='pedalmeEvolveGCNO')\n",
    "plnr.simulate(mindex=mindex,mtype='block')"
   ]
  },
  {
   "cell_type": "code",
   "execution_count": null,
   "id": "825561e7-1241-4ec1-9d56-5a6648762363",
   "metadata": {
    "tags": []
   },
   "outputs": [],
   "source": [
    "plnr = itstgcnTGCN.planner.PLNR_STGCN_MANUAL(plans_stgcn_block,loader2,dataset_name='pedalmeTGCN')\n",
    "plnr.simulate(mindex=mindex,mtype='block')"
   ]
  },
  {
   "cell_type": "code",
   "execution_count": null,
   "id": "b345a7b9-a82b-4cb1-9b71-e628fb682490",
   "metadata": {},
   "outputs": [],
   "source": [
    "plans_stgcn_block = {\n",
    "    'max_iteration': 30, \n",
    "    'method': ['STGCN', 'IT-STGCN'], \n",
    "    'mindex': [mindex],\n",
    "    'lags': [4], \n",
    "    'nof_filters': [2], \n",
    "    'inter_method': ['linear'],\n",
    "    'epoch': [50]\n",
    "}"
   ]
  },
  {
   "cell_type": "code",
   "execution_count": null,
   "id": "fdc79390-53fd-49ff-8d4d-8bf8b6a117db",
   "metadata": {
    "tags": []
   },
   "outputs": [],
   "source": [
    "plnr = itstgcnGConvLSTM\t.planner.PLNR_STGCN_MANUAL(plans_stgcn_block,loader2,dataset_name='pedalmeGConvLSTM')\n",
    "plnr.simulate(mindex=mindex,mtype='block')"
   ]
  },
  {
   "cell_type": "code",
   "execution_count": null,
   "id": "d7dc981a-45fa-45ca-95cc-9e91c067dcc7",
   "metadata": {},
   "outputs": [],
   "source": [
    "plans_stgcn_block = {\n",
    "    'max_iteration': 30, \n",
    "    'method': ['STGCN', 'IT-STGCN'], \n",
    "    'mindex': [mindex],\n",
    "    'lags': [4], \n",
    "    'nof_filters': [4], \n",
    "    'inter_method': ['linear'],\n",
    "    'epoch': [50]\n",
    "}"
   ]
  },
  {
   "cell_type": "code",
   "execution_count": null,
   "id": "4f774219-77a1-4725-ad6d-baf147a0553d",
   "metadata": {
    "tags": []
   },
   "outputs": [],
   "source": [
    "plnr = itstgcnGCLSTM.planner.PLNR_STGCN_MANUAL(plans_stgcn_block,loader2,dataset_name='pedalmeGCLSTM')\n",
    "plnr.simulate(mindex=mindex,mtype='block')"
   ]
  },
  {
   "cell_type": "code",
   "execution_count": null,
   "id": "61d79609-649a-4113-a6c6-bf030a6c8c09",
   "metadata": {},
   "outputs": [],
   "source": [
    "plans_stgcn_block = {\n",
    "    'max_iteration': 30, \n",
    "    'method': ['STGCN', 'IT-STGCN'], \n",
    "    'mindex': [mindex],\n",
    "    'lags': [4], \n",
    "    'nof_filters': [8], \n",
    "    'inter_method': ['linear'],\n",
    "    'epoch': [50]\n",
    "}"
   ]
  },
  {
   "cell_type": "code",
   "execution_count": null,
   "id": "2513aff9-0ebf-42a7-bd6a-614ec302813a",
   "metadata": {
    "tags": []
   },
   "outputs": [],
   "source": [
    "plnr = itstgcnLRGCN.planner.PLNR_STGCN_MANUAL(plans_stgcn_block,loader2,dataset_name='pedalmeLRGCN')\n",
    "plnr.simulate(mindex=mindex,mtype='block')"
   ]
  },
  {
   "cell_type": "code",
   "execution_count": null,
   "id": "4ca6b962-b64a-4260-ad9f-cebe91a625a7",
   "metadata": {
    "tags": []
   },
   "outputs": [],
   "source": [
    "plnr = itstgcnDCRNN.planner.PLNR_STGCN_MANUAL(plans_stgcn_block,loader2,dataset_name='pedalmeDCRNN')\n",
    "plnr.simulate(mindex=mindex,mtype='block')"
   ]
  },
  {
   "cell_type": "code",
   "execution_count": null,
   "id": "4532d4b3-de94-4f82-9b1c-4228db7545d0",
   "metadata": {},
   "outputs": [],
   "source": []
  }
 ],
 "metadata": {
  "kernelspec": {
   "display_name": "Python 3",
   "language": "python",
   "name": "python3"
  },
  "language_info": {
   "codemirror_mode": {
    "name": "ipython",
    "version": 3
   },
   "file_extension": ".py",
   "mimetype": "text/x-python",
   "name": "python",
   "nbconvert_exporter": "python",
   "pygments_lexer": "ipython3",
   "version": "3.8.0"
  }
 },
 "nbformat": 4,
 "nbformat_minor": 5
}
