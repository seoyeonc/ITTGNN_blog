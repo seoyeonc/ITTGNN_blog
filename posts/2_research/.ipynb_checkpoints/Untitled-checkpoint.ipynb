{
 "cells": [
  {
   "cell_type": "code",
   "execution_count": null,
   "id": "9ed39152-2c4f-4561-975c-206691da5023",
   "metadata": {},
   "outputs": [],
   "source": []
  },
  {
   "cell_type": "markdown",
   "id": "de089eff-4000-4d83-a019-7cc9cd76fe3d",
   "metadata": {},
   "source": [
    "GNAR"
   ]
  },
  {
   "cell_type": "markdown",
   "id": "e938e850-d299-4360-a86c-70c12c91e0b3",
   "metadata": {},
   "source": [
    "| Model               | FiveVTS | Chickenpox | Pedalme | Wikimath | Windmillsmall | MontevideoBus |"
   ]
  },
  {
   "cell_type": "code",
   "execution_count": 107,
   "id": "672be849-32a4-4d06-b65a-6d752b81a4ee",
   "metadata": {},
   "outputs": [],
   "source": [
    "library(GNAR)"
   ]
  },
  {
   "cell_type": "code",
   "execution_count": 108,
   "id": "038f4bbf-e7b7-424e-97d4-7fd4468dbfd1",
   "metadata": {},
   "outputs": [],
   "source": [
    "fiveVTS0<-fiveVTS"
   ]
  },
  {
   "cell_type": "code",
   "execution_count": 109,
   "id": "24591902-9b41-480b-82ea-c508d48d866a",
   "metadata": {},
   "outputs": [],
   "source": [
    "n<-(length(fiveVTS0[,1])*0.8)\n",
    "nlags<-(length(fiveVTS0[,1])*0.8)-2"
   ]
  },
  {
   "cell_type": "code",
   "execution_count": 110,
   "id": "128fe343-d963-4c2c-ad7a-5c41474e56db",
   "metadata": {},
   "outputs": [],
   "source": [
    "fiveVTS0[sample(c(1:nlags), size = 0.3 * n),1] <- NA\n",
    "fiveVTS0[sample(c(1:nlags), size = 0.3 * n),2] <- NA\n",
    "fiveVTS0[sample(c(1:nlags), size = 0.3 * n),3] <- NA\n",
    "fiveVTS0[sample(c(1:nlags), size = 0.3 * n),4] <- NA\n",
    "fiveVTS0[sample(c(1:nlags), size = 0.3 * n),5] <- NA"
   ]
  },
  {
   "cell_type": "code",
   "execution_count": 111,
   "id": "170905a5-ce47-4a6a-8964-3873f5960766",
   "metadata": {},
   "outputs": [],
   "source": [
    "nafit <- GNARfit(vts = fiveVTS0[1:160,], net = fiveNet, alphaOrder = 2, betaOrder = c(1, 1))"
   ]
  },
  {
   "cell_type": "code",
   "execution_count": 117,
   "id": "2c703b56-6a40-4be5-905c-0ebbcdeb3505",
   "metadata": {},
   "outputs": [
    {
     "data": {
      "text/html": [
       "<table class=\"dataframe\">\n",
       "<caption>A matrix: 6 × 5 of type dbl</caption>\n",
       "<thead>\n",
       "\t<tr><th scope=col>Series 1</th><th scope=col>Series 2</th><th scope=col>Series 3</th><th scope=col>Series 4</th><th scope=col>Series 5</th></tr>\n",
       "</thead>\n",
       "<tbody>\n",
       "\t<tr><td>-0.97639279</td><td> 0.241614109</td><td> 0.174537938</td><td>-0.17350937</td><td>-1.36886707</td></tr>\n",
       "\t<tr><td>-0.49231754</td><td> 0.039523956</td><td> 0.043116491</td><td>-0.10898089</td><td>-0.64489769</td></tr>\n",
       "\t<tr><td>-0.24308640</td><td>-0.007812236</td><td>-0.008004649</td><td>-0.07678112</td><td>-0.31780000</td></tr>\n",
       "\t<tr><td>-0.12485799</td><td>-0.019603268</td><td>-0.019592963</td><td>-0.04980972</td><td>-0.15681519</td></tr>\n",
       "\t<tr><td>-0.06498647</td><td>-0.018195074</td><td>-0.018195626</td><td>-0.03175021</td><td>-0.07950193</td></tr>\n",
       "\t<tr><td>-0.03462597</td><td>-0.013759023</td><td>-0.013758994</td><td>-0.01977786</td><td>-0.04103494</td></tr>\n",
       "</tbody>\n",
       "</table>\n"
      ],
      "text/latex": [
       "A matrix: 6 × 5 of type dbl\n",
       "\\begin{tabular}{lllll}\n",
       " Series 1 & Series 2 & Series 3 & Series 4 & Series 5\\\\\n",
       "\\hline\n",
       "\t -0.97639279 &  0.241614109 &  0.174537938 & -0.17350937 & -1.36886707\\\\\n",
       "\t -0.49231754 &  0.039523956 &  0.043116491 & -0.10898089 & -0.64489769\\\\\n",
       "\t -0.24308640 & -0.007812236 & -0.008004649 & -0.07678112 & -0.31780000\\\\\n",
       "\t -0.12485799 & -0.019603268 & -0.019592963 & -0.04980972 & -0.15681519\\\\\n",
       "\t -0.06498647 & -0.018195074 & -0.018195626 & -0.03175021 & -0.07950193\\\\\n",
       "\t -0.03462597 & -0.013759023 & -0.013758994 & -0.01977786 & -0.04103494\\\\\n",
       "\\end{tabular}\n"
      ],
      "text/markdown": [
       "\n",
       "A matrix: 6 × 5 of type dbl\n",
       "\n",
       "| Series 1 | Series 2 | Series 3 | Series 4 | Series 5 |\n",
       "|---|---|---|---|---|\n",
       "| -0.97639279 |  0.241614109 |  0.174537938 | -0.17350937 | -1.36886707 |\n",
       "| -0.49231754 |  0.039523956 |  0.043116491 | -0.10898089 | -0.64489769 |\n",
       "| -0.24308640 | -0.007812236 | -0.008004649 | -0.07678112 | -0.31780000 |\n",
       "| -0.12485799 | -0.019603268 | -0.019592963 | -0.04980972 | -0.15681519 |\n",
       "| -0.06498647 | -0.018195074 | -0.018195626 | -0.03175021 | -0.07950193 |\n",
       "| -0.03462597 | -0.013759023 | -0.013758994 | -0.01977786 | -0.04103494 |\n",
       "\n"
      ],
      "text/plain": [
       "     Series 1    Series 2     Series 3     Series 4    Series 5   \n",
       "[1,] -0.97639279  0.241614109  0.174537938 -0.17350937 -1.36886707\n",
       "[2,] -0.49231754  0.039523956  0.043116491 -0.10898089 -0.64489769\n",
       "[3,] -0.24308640 -0.007812236 -0.008004649 -0.07678112 -0.31780000\n",
       "[4,] -0.12485799 -0.019603268 -0.019592963 -0.04980972 -0.15681519\n",
       "[5,] -0.06498647 -0.018195074 -0.018195626 -0.03175021 -0.07950193\n",
       "[6,] -0.03462597 -0.013759023 -0.013758994 -0.01977786 -0.04103494"
      ]
     },
     "metadata": {},
     "output_type": "display_data"
    }
   ],
   "source": [
    "predict<- predict(nafit,n.ahead = 40)\n",
    "head(predict)"
   ]
  },
  {
   "cell_type": "code",
   "execution_count": 124,
   "id": "2a09df26-2e30-4181-8f16-8faa8d926317",
   "metadata": {},
   "outputs": [
    {
     "data": {
      "text/html": [
       "A Time Series:<br><style>\n",
       ".list-inline {list-style: none; margin:0; padding: 0}\n",
       ".list-inline>li {display: inline-block}\n",
       ".list-inline>li:not(:last-child)::after {content: \"\\00b7\"; padding: 0 .5ex}\n",
       "</style>\n",
       "<ol class=list-inline><li>5.58799142878491</li><li>0.666965936416604</li><li>0.159809063293537</li><li>&lt;NA&gt;</li><li>0.00629188488278831</li><li>0.337957697581599</li><li>&lt;NA&gt;</li><li>0.0282212014797316</li><li>0.0820240071704887</li><li>5.31407494055649</li><li>1.89861101707401</li><li>0.471539906296974</li><li>0.519313859990452</li><li>0.520226772784529</li><li>1.57787754873223</li><li>2.90999783956481</li><li>1.54063047709504</li><li>3.00519315533831</li><li>0.628067859074328</li><li>1.71210536909797</li><li>0.0229105680673379</li><li>2.07631869538371</li><li>0.363194271357353</li><li>1.62629234903699</li><li>1.97255528389458</li><li>0.430600847795843</li><li>0.155353902033888</li><li>0.888562415318064</li><li>0.000539626024893533</li><li>0.133740154132464</li><li>2.93851790947897e-05</li><li>0.000623092051748548</li><li>0.684606311618659</li><li>0.199387537472046</li><li>0.727258122881312</li><li>0.297083148986031</li><li>1.53152479927919</li><li>0.160478681230306</li><li>0.119736781238533</li><li>0.0588538252162804</li></ol>\n"
      ],
      "text/latex": [
       "A Time Series:\\\\\\begin{enumerate*}\n",
       "\\item 5.58799142878491\n",
       "\\item 0.666965936416604\n",
       "\\item 0.159809063293537\n",
       "\\item <NA>\n",
       "\\item 0.00629188488278831\n",
       "\\item 0.337957697581599\n",
       "\\item <NA>\n",
       "\\item 0.0282212014797316\n",
       "\\item 0.0820240071704887\n",
       "\\item 5.31407494055649\n",
       "\\item 1.89861101707401\n",
       "\\item 0.471539906296974\n",
       "\\item 0.519313859990452\n",
       "\\item 0.520226772784529\n",
       "\\item 1.57787754873223\n",
       "\\item 2.90999783956481\n",
       "\\item 1.54063047709504\n",
       "\\item 3.00519315533831\n",
       "\\item 0.628067859074328\n",
       "\\item 1.71210536909797\n",
       "\\item 0.0229105680673379\n",
       "\\item 2.07631869538371\n",
       "\\item 0.363194271357353\n",
       "\\item 1.62629234903699\n",
       "\\item 1.97255528389458\n",
       "\\item 0.430600847795843\n",
       "\\item 0.155353902033888\n",
       "\\item 0.888562415318064\n",
       "\\item 0.000539626024893533\n",
       "\\item 0.133740154132464\n",
       "\\item 2.93851790947897e-05\n",
       "\\item 0.000623092051748548\n",
       "\\item 0.684606311618659\n",
       "\\item 0.199387537472046\n",
       "\\item 0.727258122881312\n",
       "\\item 0.297083148986031\n",
       "\\item 1.53152479927919\n",
       "\\item 0.160478681230306\n",
       "\\item 0.119736781238533\n",
       "\\item 0.0588538252162804\n",
       "\\end{enumerate*}\n"
      ],
      "text/markdown": [
       "A Time Series:  \n",
       "1. 5.58799142878491\n",
       "2. 0.666965936416604\n",
       "3. 0.159809063293537\n",
       "4. &lt;NA&gt;\n",
       "5. 0.00629188488278831\n",
       "6. 0.337957697581599\n",
       "7. &lt;NA&gt;\n",
       "8. 0.0282212014797316\n",
       "9. 0.0820240071704887\n",
       "10. 5.31407494055649\n",
       "11. 1.89861101707401\n",
       "12. 0.471539906296974\n",
       "13. 0.519313859990452\n",
       "14. 0.520226772784529\n",
       "15. 1.57787754873223\n",
       "16. 2.90999783956481\n",
       "17. 1.54063047709504\n",
       "18. 3.00519315533831\n",
       "19. 0.628067859074328\n",
       "20. 1.71210536909797\n",
       "21. 0.0229105680673379\n",
       "22. 2.07631869538371\n",
       "23. 0.363194271357353\n",
       "24. 1.62629234903699\n",
       "25. 1.97255528389458\n",
       "26. 0.430600847795843\n",
       "27. 0.155353902033888\n",
       "28. 0.888562415318064\n",
       "29. 0.000539626024893533\n",
       "30. 0.133740154132464\n",
       "31. 2.93851790947897e-05\n",
       "32. 0.000623092051748548\n",
       "33. 0.684606311618659\n",
       "34. 0.199387537472046\n",
       "35. 0.727258122881312\n",
       "36. 0.297083148986031\n",
       "37. 1.53152479927919\n",
       "38. 0.160478681230306\n",
       "39. 0.119736781238533\n",
       "40. 0.0588538252162804\n",
       "\n",
       "\n"
      ],
      "text/plain": [
       "A Time Series:\n",
       " [1] 5.587991e+00 6.669659e-01 1.598091e-01           NA 6.291885e-03\n",
       " [6] 3.379577e-01           NA 2.822120e-02 8.202401e-02 5.314075e+00\n",
       "[11] 1.898611e+00 4.715399e-01 5.193139e-01 5.202268e-01 1.577878e+00\n",
       "[16] 2.909998e+00 1.540630e+00 3.005193e+00 6.280679e-01 1.712105e+00\n",
       "[21] 2.291057e-02 2.076319e+00 3.631943e-01 1.626292e+00 1.972555e+00\n",
       "[26] 4.306008e-01 1.553539e-01 8.885624e-01 5.396260e-04 1.337402e-01\n",
       "[31] 2.938518e-05 6.230921e-04 6.846063e-01 1.993875e-01 7.272581e-01\n",
       "[36] 2.970831e-01 1.531525e+00 1.604787e-01 1.197368e-01 5.885383e-02"
      ]
     },
     "metadata": {},
     "output_type": "display_data"
    }
   ],
   "source": [
    "(predict[,1] - ts(fiveVTS0[151:200,1]))**2"
   ]
  },
  {
   "cell_type": "code",
   "execution_count": 122,
   "id": "6c35c0f7-a354-403d-859d-59d03662bb60",
   "metadata": {},
   "outputs": [
    {
     "data": {
      "text/html": [
       "A Time Series:<br><style>\n",
       ".list-inline {list-style: none; margin:0; padding: 0}\n",
       ".list-inline>li {display: inline-block}\n",
       ".list-inline>li:not(:last-child)::after {content: \"\\00b7\"; padding: 0 .5ex}\n",
       "</style>\n",
       "<ol class=list-inline><li>1.38750049162408</li><li>0.324362289439763</li><li>-0.642847662295262</li><li>&lt;NA&gt;</li><li>-0.14430787604546</li><li>0.546715317493225</li><li>&lt;NA&gt;</li><li>-0.178360097916621</li><li>-0.292207540157746</li><li>-2.30852414877782</li><li>-1.37979103173847</li><li>-0.687780533435674</li><li>0.719998168522977</li><li>0.720895215996944</li><li>1.25591724610612</li><li>1.70574267686919</li><li>-1.24129751477714</li><li>-1.73359436186417</li><li>0.792480615392693</li><li>-1.30849028854218</li><li>-0.151371780816588</li><li>-1.44094927084689</li><li>-0.602659335556662</li><li>1.27525970399717</li><li>-1.40447804622763</li><li>-0.656202533069454</li><li>-0.394150008933574</li><li>0.942635639757677</li><li>-0.0232299990766641</li><li>0.365704922218769</li><li>-0.00542086188327778</li><li>0.0249617808876408</li><li>0.827409379395341</li><li>0.446528305569579</li><li>-0.852794309324289</li><li>0.545053341197971</li><li>-1.23754790008359</li><li>-0.400597906051167</li><li>-0.346030030207122</li><li>-0.242598073884934</li><li>1.90692732958981</li><li>0.24755601276494</li><li>0.109182478356391</li><li>-0.428068354558935</li><li>-2.39169609312685</li><li>-2.21077486518177</li><li>-0.722601931885225</li><li>-2.93859071485278</li><li>-0.985951916349864</li><li>0.447242608669382</li></ol>\n"
      ],
      "text/latex": [
       "A Time Series:\\\\\\begin{enumerate*}\n",
       "\\item 1.38750049162408\n",
       "\\item 0.324362289439763\n",
       "\\item -0.642847662295262\n",
       "\\item <NA>\n",
       "\\item -0.14430787604546\n",
       "\\item 0.546715317493225\n",
       "\\item <NA>\n",
       "\\item -0.178360097916621\n",
       "\\item -0.292207540157746\n",
       "\\item -2.30852414877782\n",
       "\\item -1.37979103173847\n",
       "\\item -0.687780533435674\n",
       "\\item 0.719998168522977\n",
       "\\item 0.720895215996944\n",
       "\\item 1.25591724610612\n",
       "\\item 1.70574267686919\n",
       "\\item -1.24129751477714\n",
       "\\item -1.73359436186417\n",
       "\\item 0.792480615392693\n",
       "\\item -1.30849028854218\n",
       "\\item -0.151371780816588\n",
       "\\item -1.44094927084689\n",
       "\\item -0.602659335556662\n",
       "\\item 1.27525970399717\n",
       "\\item -1.40447804622763\n",
       "\\item -0.656202533069454\n",
       "\\item -0.394150008933574\n",
       "\\item 0.942635639757677\n",
       "\\item -0.0232299990766641\n",
       "\\item 0.365704922218769\n",
       "\\item -0.00542086188327778\n",
       "\\item 0.0249617808876408\n",
       "\\item 0.827409379395341\n",
       "\\item 0.446528305569579\n",
       "\\item -0.852794309324289\n",
       "\\item 0.545053341197971\n",
       "\\item -1.23754790008359\n",
       "\\item -0.400597906051167\n",
       "\\item -0.346030030207122\n",
       "\\item -0.242598073884934\n",
       "\\item 1.90692732958981\n",
       "\\item 0.24755601276494\n",
       "\\item 0.109182478356391\n",
       "\\item -0.428068354558935\n",
       "\\item -2.39169609312685\n",
       "\\item -2.21077486518177\n",
       "\\item -0.722601931885225\n",
       "\\item -2.93859071485278\n",
       "\\item -0.985951916349864\n",
       "\\item 0.447242608669382\n",
       "\\end{enumerate*}\n"
      ],
      "text/markdown": [
       "A Time Series:  \n",
       "1. 1.38750049162408\n",
       "2. 0.324362289439763\n",
       "3. -0.642847662295262\n",
       "4. &lt;NA&gt;\n",
       "5. -0.14430787604546\n",
       "6. 0.546715317493225\n",
       "7. &lt;NA&gt;\n",
       "8. -0.178360097916621\n",
       "9. -0.292207540157746\n",
       "10. -2.30852414877782\n",
       "11. -1.37979103173847\n",
       "12. -0.687780533435674\n",
       "13. 0.719998168522977\n",
       "14. 0.720895215996944\n",
       "15. 1.25591724610612\n",
       "16. 1.70574267686919\n",
       "17. -1.24129751477714\n",
       "18. -1.73359436186417\n",
       "19. 0.792480615392693\n",
       "20. -1.30849028854218\n",
       "21. -0.151371780816588\n",
       "22. -1.44094927084689\n",
       "23. -0.602659335556662\n",
       "24. 1.27525970399717\n",
       "25. -1.40447804622763\n",
       "26. -0.656202533069454\n",
       "27. -0.394150008933574\n",
       "28. 0.942635639757677\n",
       "29. -0.0232299990766641\n",
       "30. 0.365704922218769\n",
       "31. -0.00542086188327778\n",
       "32. 0.0249617808876408\n",
       "33. 0.827409379395341\n",
       "34. 0.446528305569579\n",
       "35. -0.852794309324289\n",
       "36. 0.545053341197971\n",
       "37. -1.23754790008359\n",
       "38. -0.400597906051167\n",
       "39. -0.346030030207122\n",
       "40. -0.242598073884934\n",
       "41. 1.90692732958981\n",
       "42. 0.24755601276494\n",
       "43. 0.109182478356391\n",
       "44. -0.428068354558935\n",
       "45. -2.39169609312685\n",
       "46. -2.21077486518177\n",
       "47. -0.722601931885225\n",
       "48. -2.93859071485278\n",
       "49. -0.985951916349864\n",
       "50. 0.447242608669382\n",
       "\n",
       "\n"
      ],
      "text/plain": [
       "A Time Series:\n",
       " [1]  1.387500492  0.324362289 -0.642847662           NA -0.144307876\n",
       " [6]  0.546715317           NA -0.178360098 -0.292207540 -2.308524149\n",
       "[11] -1.379791032 -0.687780533  0.719998169  0.720895216  1.255917246\n",
       "[16]  1.705742677 -1.241297515 -1.733594362  0.792480615 -1.308490289\n",
       "[21] -0.151371781 -1.440949271 -0.602659336  1.275259704 -1.404478046\n",
       "[26] -0.656202533 -0.394150009  0.942635640 -0.023229999  0.365704922\n",
       "[31] -0.005420862  0.024961781  0.827409379  0.446528306 -0.852794309\n",
       "[36]  0.545053341 -1.237547900 -0.400597906 -0.346030030 -0.242598074\n",
       "[41]  1.906927330  0.247556013  0.109182478 -0.428068355 -2.391696093\n",
       "[46] -2.210774865 -0.722601932 -2.938590715 -0.985951916  0.447242609"
      ]
     },
     "metadata": {},
     "output_type": "display_data"
    }
   ],
   "source": [
    "ts(fiveVTS0[151:200,1])"
   ]
  },
  {
   "cell_type": "code",
   "execution_count": 60,
   "id": "7d2cd39c-603c-4f04-b4e5-c037136a3e76",
   "metadata": {},
   "outputs": [
    {
     "data": {
      "text/html": [
       "50.3789293250082"
      ],
      "text/latex": [
       "50.3789293250082"
      ],
      "text/markdown": [
       "50.3789293250082"
      ],
      "text/plain": [
       "[1] 50.37893"
      ]
     },
     "metadata": {},
     "output_type": "display_data"
    }
   ],
   "source": [
    "sum((fiveVTS0[161:200,1] - predict[,1])**2)"
   ]
  },
  {
   "cell_type": "code",
   "execution_count": 65,
   "id": "0341d119-437d-4c09-b85b-4d85890526db",
   "metadata": {},
   "outputs": [
    {
     "data": {
      "image/png": "[encoded data removed]",
      "text/plain": [
       "plot without title"
      ]
     },
     "metadata": {
      "image/png": {
       "height": 420,
       "width": 420
      }
     },
     "output_type": "display_data"
    }
   ],
   "source": [
    "plot(predict[,1])"
   ]
  },
  {
   "cell_type": "code",
   "execution_count": null,
   "id": "b272b4ee-4536-4fb0-acd4-eeaf2a96347f",
   "metadata": {},
   "outputs": [],
   "source": []
  }
 ],
 "metadata": {
  "kernelspec": {
   "display_name": "R",
   "language": "R",
   "name": "ir"
  },
  "language_info": {
   "codemirror_mode": "r",
   "file_extension": ".r",
   "mimetype": "text/x-r-source",
   "name": "R",
   "pygments_lexer": "r",
   "version": "4.3.0"
  }
 },
 "nbformat": 4,
 "nbformat_minor": 5
}
