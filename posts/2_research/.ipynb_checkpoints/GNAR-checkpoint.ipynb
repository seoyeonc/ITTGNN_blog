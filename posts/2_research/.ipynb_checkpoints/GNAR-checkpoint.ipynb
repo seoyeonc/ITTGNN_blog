{
 "cells": [
  {
   "cell_type": "markdown",
   "id": "f4865201-e9bc-4c2e-bcd8-3a19d2f95745",
   "metadata": {},
   "source": [
    "GNAR"
   ]
  },
  {
   "cell_type": "markdown",
   "id": "acc9f71d-5c2b-4728-b92c-292c975a2607",
   "metadata": {},
   "source": [
    "| Model               | FiveVTS | Chickenpox | Pedalme | Wikimath | Windmillsmall | MontevideoBus |\n",
    "|---------------------|---------|------------|---------|----------|---------------|---------------|\n",
    "| Max iter.           | 30      | 30         | 30      | 30       | 30            | 30            |\n",
    "| Epochs              | 50      | 50         | 50      | 50       | 50            | 50            |\n",
    "| Lags                | 2       | 4          | 4       | 8        | 8             | 4             |\n",
    "| Interpolation       | linear  | linear     | nearest | linear   | linear        | nearest       |"
   ]
  },
  {
   "cell_type": "code",
   "execution_count": null,
   "id": "b0c2e707-a477-4cbd-b8ff-3dd35c65266e",
   "metadata": {
    "tags": []
   },
   "outputs": [],
   "source": [
    "import itstgcn\n",
    "import torch\n",
    "import itstgcn.planner \n",
    "import numpy as np\n",
    "import pandas as pd"
   ]
  },
  {
   "cell_type": "code",
   "execution_count": 2,
   "id": "16756a05-f15e-4262-8afa-ad4c5a780617",
   "metadata": {},
   "outputs": [],
   "source": [
    "from torch_geometric_temporal.dataset import ChickenpoxDatasetLoader\n",
    "loader1 = ChickenpoxDatasetLoader()"
   ]
  },
  {
   "cell_type": "code",
   "execution_count": 3,
   "id": "b2960ce7-2237-46ca-b562-7ebfc7b549bc",
   "metadata": {},
   "outputs": [],
   "source": [
    "from torch_geometric_temporal.dataset import PedalMeDatasetLoader\n",
    "loader2 = PedalMeDatasetLoader()"
   ]
  },
  {
   "cell_type": "code",
   "execution_count": 4,
   "id": "23e27442-0481-4349-b96a-84621cb5ac8c",
   "metadata": {},
   "outputs": [],
   "source": [
    "from torch_geometric_temporal.dataset import WikiMathsDatasetLoader\n",
    "loader3 = WikiMathsDatasetLoader()"
   ]
  },
  {
   "cell_type": "code",
   "execution_count": 5,
   "id": "5a938b6b-d6a0-4314-b6d3-b8366625d99d",
   "metadata": {},
   "outputs": [],
   "source": [
    "loader6 = itstgcn.load_data('./data/Windmillsmall.pkl')"
   ]
  },
  {
   "cell_type": "code",
   "execution_count": 6,
   "id": "2bc19553-a5dd-4ee1-9de9-271bc0c60392",
   "metadata": {},
   "outputs": [],
   "source": [
    "from torch_geometric_temporal.dataset import MontevideoBusDatasetLoader\n",
    "loader10 = MontevideoBusDatasetLoader()"
   ]
  },
  {
   "cell_type": "code",
   "execution_count": 7,
   "id": "32330e84-252e-4009-8076-cd44cd9704cd",
   "metadata": {},
   "outputs": [],
   "source": [
    "# _data = itstgcn.load_data('./data/fivenodes.pkl')\n",
    "# _edges = torch.tensor(_data['edges']).nonzero().tolist()\n",
    "# _FX = _data['f'].tolist()\n",
    "# _node_ids = {'node1':0, 'node2':1, 'node3':2, 'node4':3, 'node5':4} \n",
    "# data_dict = {'edges':_edges, 'node_ids':_node_ids, 'FX':_FX}\n",
    "data_dict = itstgcn.load_data('./data/fivenodes.pkl')\n",
    "loader = itstgcn.DatasetLoader(data_dict)"
   ]
  },
  {
   "cell_type": "code",
   "execution_count": 17,
   "id": "c649cc13-ab06-447c-a3b1-893cb9a5be27",
   "metadata": {},
   "outputs": [],
   "source": [
    "dataset = loader.get_dataset(lags=2)"
   ]
  },
  {
   "cell_type": "code",
   "execution_count": 18,
   "id": "096e9baf-900b-4bc6-bf3e-12259b5481e3",
   "metadata": {},
   "outputs": [],
   "source": [
    "import torch_geometric_temporal"
   ]
  },
  {
   "cell_type": "code",
   "execution_count": 19,
   "id": "f29ddf72-c82c-44c2-ae02-8a56b1f48fab",
   "metadata": {},
   "outputs": [],
   "source": [
    "train_dataset, test_dataset = torch_geometric_temporal.signal.temporal_signal_split(dataset, train_ratio=0.8)"
   ]
  },
  {
   "cell_type": "code",
   "execution_count": null,
   "id": "9383e8b5-1c0d-4968-9ecf-ea1f3c625286",
   "metadata": {},
   "outputs": [],
   "source": []
  },
  {
   "cell_type": "code",
   "execution_count": 20,
   "id": "0826efff-bfcc-449e-8d96-84776002d192",
   "metadata": {},
   "outputs": [],
   "source": [
    "mindex = itstgcn.rand_mindex_gnar(train_dataset,mrate=0.3)"
   ]
  },
  {
   "cell_type": "code",
   "execution_count": 21,
   "id": "7e1d3297-e994-44cd-b877-dcac271ac225",
   "metadata": {},
   "outputs": [],
   "source": [
    "# mindex= [[],[],[],[list(range(50,150))],[]] # fivenodes"
   ]
  },
  {
   "cell_type": "code",
   "execution_count": 22,
   "id": "5426d4fe-ec6c-497c-b122-1515b319881f",
   "metadata": {},
   "outputs": [],
   "source": [
    "train_dataset = itstgcn.miss(train_dataset,mindex=mindex,mtype='rand')"
   ]
  },
  {
   "cell_type": "code",
   "execution_count": 26,
   "id": "f51ffd6e-b055-47b9-bd7e-44eb11fe5a0c",
   "metadata": {},
   "outputs": [],
   "source": [
    "lrnr = itstgcn.GNARLearner(dataset)"
   ]
  },
  {
   "cell_type": "code",
   "execution_count": 27,
   "id": "605f14bd-fdf4-48d2-aa54-3d756e03403e",
   "metadata": {},
   "outputs": [
    {
     "name": "stdout",
     "output_type": "stream",
     "text": [
      "WARNING: diagonal entries present in original matrix, these will be removed\n"
     ]
    }
   ],
   "source": [
    "lrnr.learn()"
   ]
  },
  {
   "cell_type": "code",
   "execution_count": 28,
   "id": "a5ae3d94-d638-466a-af0f-d73161e8be60",
   "metadata": {},
   "outputs": [
    {
     "name": "stdout",
     "output_type": "stream",
     "text": [
      "WARNING: diagonal entries present in original matrix, these will be removed\n"
     ]
    },
    {
     "data": {
      "text/plain": [
       "tensor([[-0.0686, -0.0177,  0.2272,  0.1208,  0.1801]])"
      ]
     },
     "execution_count": 28,
     "metadata": {},
     "output_type": "execute_result"
    }
   ],
   "source": [
    "lrnr(dataset,n_ahead=1)['yhat']"
   ]
  },
  {
   "cell_type": "code",
   "execution_count": null,
   "id": "b2941fc5-0652-4706-bbf9-122c05026bd5",
   "metadata": {},
   "outputs": [],
   "source": []
  },
  {
   "cell_type": "code",
   "execution_count": null,
   "id": "a28518a7-81e2-4cbe-b07a-096e600a04c1",
   "metadata": {},
   "outputs": [],
   "source": []
  },
  {
   "cell_type": "code",
   "execution_count": null,
   "id": "00eefaec-d8d2-4808-bda7-87f0c17ae832",
   "metadata": {},
   "outputs": [],
   "source": []
  },
  {
   "cell_type": "code",
   "execution_count": null,
   "id": "fc01f4fd-4452-4265-b5a1-addb1c8ccfc3",
   "metadata": {},
   "outputs": [],
   "source": []
  },
  {
   "cell_type": "code",
   "execution_count": null,
   "id": "6a0a4412-336c-4fc1-9165-dbf64af0e036",
   "metadata": {},
   "outputs": [],
   "source": []
  },
  {
   "cell_type": "code",
   "execution_count": null,
   "id": "420ba48b-3cd1-4e5d-825d-d142005a9d6c",
   "metadata": {},
   "outputs": [],
   "source": []
  },
  {
   "cell_type": "code",
   "execution_count": null,
   "id": "e82a4f96-8b94-4543-9d32-7d9ba263a519",
   "metadata": {},
   "outputs": [],
   "source": []
  },
  {
   "cell_type": "code",
   "execution_count": 9,
   "id": "79183350-4811-4273-bbe1-c5678a46e09a",
   "metadata": {},
   "outputs": [],
   "source": [
    "plans_gnar_rand = {\n",
    "    'max_iteration': 3, \n",
    "#    'method': ['GNAR'], \n",
    "    'mrate': [0.3  , 0.5  , 0.6 ,0.7  , 0.8],\n",
    "    'lags': [2], \n",
    "#    'nof_filters': [8,16], \n",
    "    'inter_method': ['linear'],\n",
    "#    'epoch': [1]\n",
    "}"
   ]
  },
  {
   "cell_type": "code",
   "execution_count": 10,
   "id": "e7a15885-89b1-4b4a-98c9-46d3aa0336fe",
   "metadata": {
    "tags": []
   },
   "outputs": [
    {
     "name": "stdout",
     "output_type": "stream",
     "text": [
      "WARNING: diagonal entries present in original matrix, these will be removed\n",
      "WARNING: diagonal entries present in original matrix, these will be removed\n",
      "WARNING: diagonal entries present in original matrix, these will be removed\n"
     ]
    },
    {
     "name": "stderr",
     "output_type": "stream",
     "text": [
      "/home/csy/Dropbox/ITTGNN_blog/posts/2_research/itstgcn/utils.py:71: UserWarning: Creating a tensor from a list of numpy.ndarrays is extremely slow. Please consider converting the list to a single numpy.ndarray with numpy.array() before converting to a tensor. (Triggered internally at /opt/conda/conda-bld/pytorch_1682343998658/work/torch/csrc/utils/tensor_new.cpp:245.)\n",
      "  lags = torch.tensor(train_dataset.features).shape[-1]\n"
     ]
    },
    {
     "name": "stdout",
     "output_type": "stream",
     "text": [
      "WARNING: diagonal entries present in original matrix, these will be removed\n",
      "WARNING: diagonal entries present in original matrix, these will be removed\n",
      "WARNING: diagonal entries present in original matrix, these will be removed\n",
      "WARNING: diagonal entries present in original matrix, these will be removed\n",
      "WARNING: diagonal entries present in original matrix, these will be removed\n",
      "WARNING: diagonal entries present in original matrix, these will be removed\n",
      "WARNING: diagonal entries present in original matrix, these will be removed\n",
      "1/3 is done\n",
      "WARNING: diagonal entries present in original matrix, these will be removed\n",
      "WARNING: diagonal entries present in original matrix, these will be removed\n",
      "WARNING: diagonal entries present in original matrix, these will be removed\n",
      "WARNING: diagonal entries present in original matrix, these will be removed\n",
      "WARNING: diagonal entries present in original matrix, these will be removed\n",
      "WARNING: diagonal entries present in original matrix, these will be removed\n",
      "WARNING: diagonal entries present in original matrix, these will be removed\n",
      "WARNING: diagonal entries present in original matrix, these will be removed\n",
      "WARNING: diagonal entries present in original matrix, these will be removed\n",
      "WARNING: diagonal entries present in original matrix, these will be removed\n",
      "2/3 is done\n",
      "WARNING: diagonal entries present in original matrix, these will be removed\n",
      "WARNING: diagonal entries present in original matrix, these will be removed\n",
      "WARNING: diagonal entries present in original matrix, these will be removed\n",
      "WARNING: diagonal entries present in original matrix, these will be removed\n",
      "WARNING: diagonal entries present in original matrix, these will be removed\n",
      "WARNING: diagonal entries present in original matrix, these will be removed\n",
      "WARNING: diagonal entries present in original matrix, these will be removed\n",
      "WARNING: diagonal entries present in original matrix, these will be removed\n",
      "WARNING: diagonal entries present in original matrix, these will be removed\n",
      "WARNING: diagonal entries present in original matrix, these will be removed\n",
      "3/3 is done\n",
      "All results are stored in ./simulation_results/2024-01-26_09-56-59.csv\n"
     ]
    }
   ],
   "source": [
    "plnr = itstgcn.planner.PLNR_GNAR_RAND(plans_gnar_rand,loader,dataset_name='GNARfivenodes')\n",
    "plnr.simulate()"
   ]
  },
  {
   "cell_type": "code",
   "execution_count": null,
   "id": "1d21b552-8025-4679-9fca-51ed42ad0a62",
   "metadata": {},
   "outputs": [],
   "source": [
    "plans_gnar_rand = {\n",
    "    'max_iteration': 3, \n",
    "#    'method': ['GNAR'], \n",
    "    'mrate': [0.3  , 0.5  , 0.6 , 0.8],\n",
    "    'lags': [4], \n",
    "#    'nof_filters': [8,16], \n",
    "    'inter_method': ['linear'],\n",
    "#    'epoch': [1]\n",
    "}"
   ]
  },
  {
   "cell_type": "code",
   "execution_count": null,
   "id": "b9aa2507-5562-4bb3-aafd-eb2a0c876dd0",
   "metadata": {
    "tags": []
   },
   "outputs": [],
   "source": [
    "plnr = itstgcn.planner.PLNR_GNAR_RAND(plans_gnar_rand,loader1,dataset_name='GNARChickenpox')\n",
    "plnr.simulate()"
   ]
  },
  {
   "cell_type": "code",
   "execution_count": null,
   "id": "2a17c54e-6406-4b3d-b6e7-340efbc3b5ca",
   "metadata": {
    "tags": []
   },
   "outputs": [],
   "source": [
    "plnr = itstgcn.planner.PLNR_GNAR_RAND(plans_gnar_rand,loader2,dataset_name='GNARPedalMe')\n",
    "plnr.simulate()"
   ]
  },
  {
   "cell_type": "code",
   "execution_count": null,
   "id": "1a4c8a25-16b3-4dfe-9418-54df16911242",
   "metadata": {
    "tags": []
   },
   "outputs": [],
   "source": [
    "plnr = itstgcn.planner.PLNR_GNAR_RAND(plans_gnar_rand,loader10,dataset_name='GNARMonte')\n",
    "plnr.simulate()"
   ]
  },
  {
   "cell_type": "code",
   "execution_count": null,
   "id": "dbb90485-1630-4d17-9f75-8fe45437b035",
   "metadata": {},
   "outputs": [],
   "source": [
    "plans_gnar_rand = {\n",
    "    'max_iteration': 3, \n",
    "#    'method': ['GNAR'], \n",
    "    'mrate': [0.3  , 0.5  , 0.6 , 0.8],\n",
    "    'lags': [8], \n",
    "#    'nof_filters': [8,16], \n",
    "    'inter_method': ['linear'],\n",
    "#    'epoch': [1]\n",
    "}"
   ]
  },
  {
   "cell_type": "code",
   "execution_count": null,
   "id": "55a28bdd-aed2-40c1-9c34-bea304f80c0f",
   "metadata": {
    "tags": []
   },
   "outputs": [],
   "source": [
    "plnr = itstgcn.planner.PLNR_GNAR_RAND(plans_gnar_rand,loader3,dataset_name='GNARwikimath')\n",
    "plnr.simulate()"
   ]
  },
  {
   "cell_type": "code",
   "execution_count": null,
   "id": "e3b5ac60-dcf9-4d9f-bfd9-bd067424c245",
   "metadata": {
    "tags": []
   },
   "outputs": [],
   "source": [
    "plnr = itstgcn.planner.PLNR_GNAR_RAND(plans_gnar_rand,loader6,dataset_name='GNARwindmillsmall')\n",
    "plnr.simulate()"
   ]
  },
  {
   "cell_type": "code",
   "execution_count": null,
   "id": "dccb2bad-50b5-4987-83fa-1f1a6d956cb2",
   "metadata": {},
   "outputs": [],
   "source": []
  },
  {
   "cell_type": "code",
   "execution_count": null,
   "id": "36a53803-674c-4a09-9d1c-0a97d8aa9eb6",
   "metadata": {},
   "outputs": [],
   "source": []
  },
  {
   "cell_type": "code",
   "execution_count": null,
   "id": "fd46edb0-f48e-4dcc-8de0-c42bf12af6e4",
   "metadata": {},
   "outputs": [],
   "source": []
  },
  {
   "cell_type": "code",
   "execution_count": 12,
   "id": "9779f175-8b00-4879-86a2-48f854abab5d",
   "metadata": {},
   "outputs": [],
   "source": [
    "mindex= [[],[],[],list(range(50,150)),[]] # fivenodes"
   ]
  },
  {
   "cell_type": "code",
   "execution_count": 11,
   "id": "0ad595c3-4a5a-421f-a688-19e119a17b8b",
   "metadata": {},
   "outputs": [],
   "source": [
    "mindex= [[],[],[],list(range(50,150)),list(range(50,150))] # fivenodes"
   ]
  },
  {
   "cell_type": "code",
   "execution_count": 13,
   "id": "db8bbddf-074e-41ef-9fdc-82f253f9e4cb",
   "metadata": {},
   "outputs": [],
   "source": [
    "plans_gnar_block = {\n",
    "    'max_iteration': 3, \n",
    "    # 'method': ['GNAR'], \n",
    "    'mindex': [mindex],\n",
    "    'lags': [2], \n",
    "    # 'nof_filters': [None],\n",
    "    'inter_method': ['linear'],\n",
    "    # 'epoch' : [1]\n",
    "}"
   ]
  },
  {
   "cell_type": "code",
   "execution_count": 14,
   "id": "b8969812-5b8a-4311-a314-ac3ca97ac246",
   "metadata": {},
   "outputs": [
    {
     "name": "stdout",
     "output_type": "stream",
     "text": [
      "WARNING: diagonal entries present in original matrix, these will be removed\n",
      "WARNING: diagonal entries present in original matrix, these will be removed\n",
      "1/3 is done\n",
      "WARNING: diagonal entries present in original matrix, these will be removed\n",
      "WARNING: diagonal entries present in original matrix, these will be removed\n",
      "2/3 is done\n",
      "WARNING: diagonal entries present in original matrix, these will be removed\n",
      "WARNING: diagonal entries present in original matrix, these will be removed\n",
      "3/3 is done\n",
      "All results are stored in ./simulation_results/2024-01-26_10-00-10.csv\n"
     ]
    }
   ],
   "source": [
    "plnr = itstgcn.planner.PLNR_GNAR_MANUAL(plans_gnar_block,loader,dataset_name='fivenode')\n",
    "plnr.simulate(mindex=mindex,mtype='block')"
   ]
  },
  {
   "cell_type": "code",
   "execution_count": 10,
   "id": "bb823029-a3f8-498c-8144-258f9f5bbcf5",
   "metadata": {},
   "outputs": [],
   "source": [
    "my_list = [[] for _ in range(20)] #chickenpox\n",
    "another_list = list(range(100,400))\n",
    "my_list[1] = another_list\n",
    "my_list[3] = another_list\n",
    "my_list[5] = another_list\n",
    "my_list[7] = another_list\n",
    "my_list[9] = another_list\n",
    "my_list[11] = another_list\n",
    "my_list[13] = another_list\n",
    "my_list[15] = another_list\n",
    "mindex = my_list"
   ]
  },
  {
   "cell_type": "code",
   "execution_count": 109,
   "id": "88200cd5-d379-46e7-8b7e-ed38d6129843",
   "metadata": {},
   "outputs": [],
   "source": [
    "my_list = [[] for _ in range(15)] #pedalme\n",
    "another_list = list(range(5,35))\n",
    "my_list[2] = another_list\n",
    "my_list[4] = another_list\n",
    "my_list[7] = another_list\n",
    "my_list[11] = another_list\n",
    "mindex = my_list"
   ]
  },
  {
   "cell_type": "code",
   "execution_count": 110,
   "id": "d2784e47-2ea2-4840-8a2c-6173e365b0e2",
   "metadata": {},
   "outputs": [],
   "source": [
    "my_list = [[] for _ in range(11)] #windmilsmall\n",
    "another_list = list(range(5000,7500)) # 17470*0.8 = 13976.0\n",
    "my_list[1] = another_list\n",
    "my_list[3] = another_list\n",
    "my_list[5] = another_list\n",
    "my_list[7] = another_list\n",
    "my_list[9] = another_list\n",
    "mindex = my_list"
   ]
  },
  {
   "cell_type": "code",
   "execution_count": 111,
   "id": "94b94bcf-9d10-4540-bf3d-dc3d6f801fb6",
   "metadata": {},
   "outputs": [],
   "source": [
    "import random\n",
    "my_list = [[] for _ in range(1068)] # wikimath\n",
    "another_list = random.sample(range(570), 72)\n",
    "# my_list에서 250개 요소 무작위 선택\n",
    "selected_indexes = random.sample(range(len(my_list)), 250)\n",
    "# 선택된 요소에 해당하는 값들을 another_list에 할당\n",
    "for index in selected_indexes:\n",
    "    my_list[index] = another_list"
   ]
  },
  {
   "cell_type": "code",
   "execution_count": 112,
   "id": "c94abdd9-9fd0-4d47-83a5-6a1c8f8ba059",
   "metadata": {},
   "outputs": [],
   "source": [
    "my_list = [[] for _ in range(675)] #monte\n",
    "another_list = list(range(200,350)) #743\n",
    "\n",
    "for i in np.array(random.sample(range(0, 675), 400)):\n",
    "    my_list[i] = another_list\n",
    "mindex = my_list"
   ]
  },
  {
   "cell_type": "code",
   "execution_count": null,
   "id": "9c1f0dbb-4311-42f2-99ec-1d3efd58c401",
   "metadata": {},
   "outputs": [],
   "source": [
    "# mindex= [[],[],[],list(range(50,150)),[]]\n",
    "# mindex= [list(range(50,150)),[],list(range(50,90)),list(range(50,150)),[]] # node 2\n",
    "plans_stgcn_block = {\n",
    "    'max_iteration': 10, \n",
    "    'method': ['STGCN', 'IT-STGCN'], \n",
    "    'RecurrentGCN' : ['GConvGRU','GConvLSTM'],\n",
    "    'mindex': [mindex],\n",
    "    'lags': [2,4], \n",
    "    'nof_filters': [12], \n",
    "    'inter_method': ['linear'],\n",
    "    'epoch': [50]\n",
    "}"
   ]
  },
  {
   "cell_type": "code",
   "execution_count": null,
   "id": "bf53c080-64a0-4fde-ae85-b6286ae8c0a5",
   "metadata": {},
   "outputs": [],
   "source": [
    "plnr = itstgcn.planner.PLNR_GNAR_MANUAL(plans_gnar_block,loader,dataset_name='fivenodes')\n",
    "plnr.simulate(mindex,mtype='block')"
   ]
  },
  {
   "cell_type": "code",
   "execution_count": null,
   "id": "c6914e91-bd82-4e0e-bcfb-f0ee590d52aa",
   "metadata": {},
   "outputs": [],
   "source": [
    "# mindex= [[],[],[],list(range(50,150)),[]]\n",
    "# mindex= [list(range(50,150)),[],list(range(50,90)),list(range(50,150)),[]] # node 2\n",
    "plans_gnar_block = {\n",
    "    'max_iteration': 3, \n",
    "    'method': ['GNAR'], \n",
    "    'mindex': [mindex],\n",
    "    'lags': [2,4], \n",
    "    'inter_method': ['linear'],\n",
    "}"
   ]
  },
  {
   "cell_type": "code",
   "execution_count": null,
   "id": "ac1b005e-134a-4d10-af02-8bb2cfdc1b50",
   "metadata": {},
   "outputs": [],
   "source": []
  }
 ],
 "metadata": {
  "kernelspec": {
   "display_name": "Python 3",
   "language": "python",
   "name": "python3"
  },
  "language_info": {
   "codemirror_mode": {
    "name": "ipython",
    "version": 3
   },
   "file_extension": ".py",
   "mimetype": "text/x-python",
   "name": "python",
   "nbconvert_exporter": "python",
   "pygments_lexer": "ipython3",
   "version": "3.8.0"
  }
 },
 "nbformat": 4,
 "nbformat_minor": 5
}
