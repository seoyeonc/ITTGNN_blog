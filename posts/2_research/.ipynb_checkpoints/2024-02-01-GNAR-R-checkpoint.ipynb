{
 "cells": [
  {
   "cell_type": "raw",
   "id": "b13b0e95-72d3-42fd-b755-cf9fd011173d",
   "metadata": {
    "id": "cac470df-29e7-4148-9bbd-d8b9a32fa570",
    "tags": []
   },
   "source": [
    "---\n",
    "title: \"GNAR-R\"\n",
    "author: \"SEOYEON CHOI\"\n",
    "date: \"2024-01-28\"\n",
    "---"
   ]
  },
  {
   "cell_type": "markdown",
   "id": "67eca0e6-2d81-4bdb-9514-1eb4e52e92f1",
   "metadata": {},
   "source": [
    "# Import"
   ]
  },
  {
   "cell_type": "code",
   "execution_count": 240,
   "id": "672be849-32a4-4d06-b65a-6d752b81a4ee",
   "metadata": {},
   "outputs": [],
   "source": [
    "library(GNAR)"
   ]
  },
  {
   "cell_type": "code",
   "execution_count": 897,
   "id": "91d997e4-08eb-4507-ab5a-7c2c62cc5584",
   "metadata": {},
   "outputs": [],
   "source": [
    "library(jsonlite)"
   ]
  },
  {
   "cell_type": "markdown",
   "id": "63d0314c-1bc8-4844-bbea-b0eaa5266487",
   "metadata": {},
   "source": [
    "# function"
   ]
  },
  {
   "cell_type": "code",
   "execution_count": 1318,
   "id": "f8bd3b52-4dbc-432b-96cc-1795c4cadd8c",
   "metadata": {},
   "outputs": [],
   "source": [
    "cal_mse <- function(data, net_input, lags, missing_rate) {\n",
    "      train_ratio <- floor(nrow(data) * 0.8)\n",
    "      test_ratio <- ceiling(nrow(data) * 0.2)\n",
    "      df <- data\n",
    "      num_cols <- ncol(df)\n",
    "      for (i in 1:num_cols) {\n",
    "              indices_to_replace <- sample(c(1:(nrow(df) - test_ratio - lags)), \n",
    "                                           size = missing_rate * (nrow(df) - test_ratio - lags))\n",
    "              df[indices_to_replace, i] <- NA\n",
    "            }\n",
    "      nafit <- GNARfit(vts = df[1:train_ratio,], net = net_input, alphaOrder = lags, betaOrder = rep(1, lags))\n",
    "      predict<- predict(nafit,n.ahead = test_ratio)\n",
    "    \n",
    "      mse_each <- numeric(num_cols)\n",
    "      for (i in 1:num_cols) {\n",
    "          mse_each[i] <- mean((predict[,i] - df[(train_ratio+1):nrow(df),i])**2)\n",
    "      }\n",
    "      mse_total <- mean(mse_each)\n",
    "      return(list('each'= mse_each, 'total'=mse_total))\n",
    "    }"
   ]
  },
  {
   "cell_type": "code",
   "execution_count": 1344,
   "id": "7be81aca-0e6f-4c8b-83ee-9aaa19e55c95",
   "metadata": {},
   "outputs": [],
   "source": [
    "block_cal_mse <- function(data, net_input, lags, mindex) {\n",
    "      train_ratio <- floor(nrow(data) * 0.8)\n",
    "      test_ratio <- ceiling(nrow(data) * 0.2)\n",
    "      df <- data\n",
    "      num_cols <- ncol(df)\n",
    "      for (i in 1:num_cols) {\n",
    "              df[mindex[[i]],i] <- NA\n",
    "            }\n",
    "      nafit <- GNARfit(vts = df[1:train_ratio,], net = net_input, alphaOrder = lags, betaOrder = rep(1, lags))\n",
    "      predict<- predict(nafit,n.ahead = test_ratio)\n",
    "    \n",
    "      mse_each <- numeric(num_cols)\n",
    "      for (i in 1:num_cols) {\n",
    "          mse_each[i] <- mean((predict[,i] - df[(train_ratio+1):nrow(df),i])**2)\n",
    "        }\n",
    "      mse_total <- mean(mse_each)\n",
    "      return(list('each'= mse_each, 'total'=mse_total))\n",
    "    }"
   ]
  },
  {
   "cell_type": "markdown",
   "id": "3e980b27-9910-4315-a528-e2d9bc0a4520",
   "metadata": {},
   "source": [
    "# fivenodes"
   ]
  },
  {
   "cell_type": "markdown",
   "id": "9b72fa1f-5391-40dd-a20c-75b28179ec6e",
   "metadata": {},
   "source": [
    "## random"
   ]
  },
  {
   "cell_type": "code",
   "execution_count": 1330,
   "id": "e2df0038-a036-4dc5-b774-352276633eda",
   "metadata": {},
   "outputs": [
    {
     "data": {
      "text/html": [
       "<table class=\"dataframe\">\n",
       "<caption>A data.frame: 9 × 2</caption>\n",
       "<thead>\n",
       "\t<tr><th scope=col>mrate</th><th scope=col>total</th></tr>\n",
       "\t<tr><th scope=col>&lt;dbl&gt;</th><th scope=col>&lt;dbl&gt;</th></tr>\n",
       "</thead>\n",
       "<tbody>\n",
       "\t<tr><td>0.0</td><td>1.257729</td></tr>\n",
       "\t<tr><td>0.1</td><td>1.252735</td></tr>\n",
       "\t<tr><td>0.2</td><td>1.265524</td></tr>\n",
       "\t<tr><td>0.3</td><td>1.250937</td></tr>\n",
       "\t<tr><td>0.4</td><td>1.271402</td></tr>\n",
       "\t<tr><td>0.5</td><td>1.278707</td></tr>\n",
       "\t<tr><td>0.6</td><td>1.301504</td></tr>\n",
       "\t<tr><td>0.7</td><td>1.301504</td></tr>\n",
       "\t<tr><td>0.8</td><td>1.301504</td></tr>\n",
       "</tbody>\n",
       "</table>\n"
      ],
      "text/latex": [
       "A data.frame: 9 × 2\n",
       "\\begin{tabular}{ll}\n",
       " mrate & total\\\\\n",
       " <dbl> & <dbl>\\\\\n",
       "\\hline\n",
       "\t 0.0 & 1.257729\\\\\n",
       "\t 0.1 & 1.252735\\\\\n",
       "\t 0.2 & 1.265524\\\\\n",
       "\t 0.3 & 1.250937\\\\\n",
       "\t 0.4 & 1.271402\\\\\n",
       "\t 0.5 & 1.278707\\\\\n",
       "\t 0.6 & 1.301504\\\\\n",
       "\t 0.7 & 1.301504\\\\\n",
       "\t 0.8 & 1.301504\\\\\n",
       "\\end{tabular}\n"
      ],
      "text/markdown": [
       "\n",
       "A data.frame: 9 × 2\n",
       "\n",
       "| mrate &lt;dbl&gt; | total &lt;dbl&gt; |\n",
       "|---|---|\n",
       "| 0.0 | 1.257729 |\n",
       "| 0.1 | 1.252735 |\n",
       "| 0.2 | 1.265524 |\n",
       "| 0.3 | 1.250937 |\n",
       "| 0.4 | 1.271402 |\n",
       "| 0.5 | 1.278707 |\n",
       "| 0.6 | 1.301504 |\n",
       "| 0.7 | 1.301504 |\n",
       "| 0.8 | 1.301504 |\n",
       "\n"
      ],
      "text/plain": [
       "  mrate total   \n",
       "1 0.0   1.257729\n",
       "2 0.1   1.252735\n",
       "3 0.2   1.265524\n",
       "4 0.3   1.250937\n",
       "5 0.4   1.271402\n",
       "6 0.5   1.278707\n",
       "7 0.6   1.301504\n",
       "8 0.7   1.301504\n",
       "9 0.8   1.301504"
      ]
     },
     "metadata": {},
     "output_type": "display_data"
    }
   ],
   "source": [
    "fixed_data <- fiveVTS\n",
    "fixed_net_input <- fiveNet\n",
    "fixed_lags <- 2\n",
    "\n",
    "results_df <- data.frame(mrate = numeric(),\n",
    "                         mse = numeric())\n",
    "\n",
    "missing_rates <- c(0,0.1, 0.2, 0.3, 0.4, 0.5, 0.6, 0.7, 0.8) \n",
    "\n",
    "for (rate in missing_rates) {\n",
    "  result <- cal_mse(fixed_data, fixed_net_input, fixed_lags, rate)\n",
    "  results_df <- rbind(results_df, data.frame(mrate = rate, mse = result[2]))\n",
    "}\n",
    "results_df"
   ]
  },
  {
   "cell_type": "code",
   "execution_count": 1331,
   "id": "7dc80088-9201-4db7-b3e6-70061a8c208f",
   "metadata": {},
   "outputs": [],
   "source": [
    "results_df['dataset'] = 'FiveVTS'\n",
    "results_df['method'] = 'GNAR'\n",
    "results_df['mtype'] = 'rand'\n",
    "results_df['lags'] = fixed_lags\n",
    "results_df['nof_filters'] = NA\n",
    "results_df['inter_method'] = NA\n",
    "results_df['epoch'] = NA\n",
    "results_df['calculation_time'] = NA\n",
    "results_df['model'] = 'GNAR'\n",
    "colnames(results_df)[2] <- \"mse\"\n",
    "FiveVTS_results <- results_df"
   ]
  },
  {
   "cell_type": "markdown",
   "id": "97a011ab-fa09-4942-831a-56be8066f00c",
   "metadata": {},
   "source": [
    "## block"
   ]
  },
  {
   "cell_type": "code",
   "execution_count": 1345,
   "id": "791f45cb-bb5f-4299-a36c-be41eca963f4",
   "metadata": {},
   "outputs": [],
   "source": [
    "FiveVTS_mindex <- fromJSON(\"FiveVTS_mindex.json\")"
   ]
  },
  {
   "cell_type": "code",
   "execution_count": 1348,
   "id": "07836b55-c9ce-4528-a67b-e68859f31ba4",
   "metadata": {},
   "outputs": [
    {
     "data": {
      "text/html": [
       "<table class=\"dataframe\">\n",
       "<caption>A data.frame: 1 × 2</caption>\n",
       "<thead>\n",
       "\t<tr><th scope=col>mrate</th><th scope=col>total</th></tr>\n",
       "\t<tr><th scope=col>&lt;dbl&gt;</th><th scope=col>&lt;dbl&gt;</th></tr>\n",
       "</thead>\n",
       "<tbody>\n",
       "\t<tr><td>0.125</td><td>1.272369</td></tr>\n",
       "</tbody>\n",
       "</table>\n"
      ],
      "text/latex": [
       "A data.frame: 1 × 2\n",
       "\\begin{tabular}{ll}\n",
       " mrate & total\\\\\n",
       " <dbl> & <dbl>\\\\\n",
       "\\hline\n",
       "\t 0.125 & 1.272369\\\\\n",
       "\\end{tabular}\n"
      ],
      "text/markdown": [
       "\n",
       "A data.frame: 1 × 2\n",
       "\n",
       "| mrate &lt;dbl&gt; | total &lt;dbl&gt; |\n",
       "|---|---|\n",
       "| 0.125 | 1.272369 |\n",
       "\n"
      ],
      "text/plain": [
       "  mrate total   \n",
       "1 0.125 1.272369"
      ]
     },
     "metadata": {},
     "output_type": "display_data"
    }
   ],
   "source": [
    "fixed_data <- fiveVTS\n",
    "fixed_net_input <- fiveNet\n",
    "fixed_lags <- 2\n",
    "fixed_mindex <- FiveVTS_mindex\n",
    "\n",
    "results_df <- data.frame(mrate = numeric(),\n",
    "                         mse = numeric())\n",
    "\n",
    "total_length <- 0\n",
    "\n",
    "for (i in seq_along(fixed_mindex)) {\n",
    "  total_length <- total_length + length(fixed_mindex[[i]])\n",
    "}\n",
    "\n",
    "rate = total_length/(length(fixed_data[,])*0.8)\n",
    "\n",
    "results_df <- data.frame(mrate = rate,\n",
    "                         mse = block_cal_mse(fixed_data, fixed_net_input, fixed_lags, fixed_mindex)[2])\n",
    "results_df"
   ]
  },
  {
   "cell_type": "code",
   "execution_count": 1349,
   "id": "b289c539-b711-4254-8f3b-2078aa320445",
   "metadata": {},
   "outputs": [],
   "source": [
    "results_df['dataset'] = 'FiveVTS'\n",
    "results_df['method'] = 'GNAR'\n",
    "results_df['mtype'] = 'block'\n",
    "results_df['lags'] = fixed_lags\n",
    "results_df['nof_filters'] = NA\n",
    "results_df['inter_method'] = NA\n",
    "results_df['epoch'] = NA\n",
    "results_df['calculation_time'] = NA\n",
    "results_df['model'] = 'GNAR'\n",
    "colnames(results_df)[2] <- \"mse\"\n",
    "FiveVTS_block_results <- results_df"
   ]
  },
  {
   "cell_type": "markdown",
   "id": "574fced4-2bdf-42be-906c-ba00720f2cd1",
   "metadata": {},
   "source": [
    "# Chickenpox"
   ]
  },
  {
   "cell_type": "markdown",
   "id": "3babd9ef-0479-488f-b898-edfc12bc45cd",
   "metadata": {},
   "source": [
    "## random"
   ]
  },
  {
   "cell_type": "code",
   "execution_count": 1351,
   "id": "21e4095c-b7ac-4458-996c-daa37e9d7ff6",
   "metadata": {},
   "outputs": [],
   "source": [
    "Chickenpox<-read.csv('./data/Chickenpox.csv',header = TRUE)"
   ]
  },
  {
   "cell_type": "code",
   "execution_count": 1352,
   "id": "c2cc4d9a-78e0-4417-a236-4f814e834998",
   "metadata": {},
   "outputs": [],
   "source": [
    "Chickenpox_w<-read.csv('./data/Chickenpox_w.csv',header = FALSE)[2:21,2:21]"
   ]
  },
  {
   "cell_type": "code",
   "execution_count": 1385,
   "id": "f24bf55e-9aa4-47ba-a265-55716cdccc7f",
   "metadata": {},
   "outputs": [
    {
     "name": "stdout",
     "output_type": "stream",
     "text": [
      "WARNING: diagonal entries present in original matrix, these will be removed\n"
     ]
    },
    {
     "data": {
      "text/html": [
       "<table class=\"dataframe\">\n",
       "<caption>A data.frame: 9 × 2</caption>\n",
       "<thead>\n",
       "\t<tr><th scope=col>mrate</th><th scope=col>total</th></tr>\n",
       "\t<tr><th scope=col>&lt;dbl&gt;</th><th scope=col>&lt;dbl&gt;</th></tr>\n",
       "</thead>\n",
       "<tbody>\n",
       "\t<tr><td>0.0</td><td>1.016342</td></tr>\n",
       "\t<tr><td>0.1</td><td>1.016460</td></tr>\n",
       "\t<tr><td>0.2</td><td>1.015845</td></tr>\n",
       "\t<tr><td>0.3</td><td>1.018481</td></tr>\n",
       "\t<tr><td>0.4</td><td>1.020843</td></tr>\n",
       "\t<tr><td>0.5</td><td>1.019158</td></tr>\n",
       "\t<tr><td>0.6</td><td>1.021600</td></tr>\n",
       "\t<tr><td>0.7</td><td>1.021411</td></tr>\n",
       "\t<tr><td>0.8</td><td>1.020084</td></tr>\n",
       "</tbody>\n",
       "</table>\n"
      ],
      "text/latex": [
       "A data.frame: 9 × 2\n",
       "\\begin{tabular}{ll}\n",
       " mrate & total\\\\\n",
       " <dbl> & <dbl>\\\\\n",
       "\\hline\n",
       "\t 0.0 & 1.016342\\\\\n",
       "\t 0.1 & 1.016460\\\\\n",
       "\t 0.2 & 1.015845\\\\\n",
       "\t 0.3 & 1.018481\\\\\n",
       "\t 0.4 & 1.020843\\\\\n",
       "\t 0.5 & 1.019158\\\\\n",
       "\t 0.6 & 1.021600\\\\\n",
       "\t 0.7 & 1.021411\\\\\n",
       "\t 0.8 & 1.020084\\\\\n",
       "\\end{tabular}\n"
      ],
      "text/markdown": [
       "\n",
       "A data.frame: 9 × 2\n",
       "\n",
       "| mrate &lt;dbl&gt; | total &lt;dbl&gt; |\n",
       "|---|---|\n",
       "| 0.0 | 1.016342 |\n",
       "| 0.1 | 1.016460 |\n",
       "| 0.2 | 1.015845 |\n",
       "| 0.3 | 1.018481 |\n",
       "| 0.4 | 1.020843 |\n",
       "| 0.5 | 1.019158 |\n",
       "| 0.6 | 1.021600 |\n",
       "| 0.7 | 1.021411 |\n",
       "| 0.8 | 1.020084 |\n",
       "\n"
      ],
      "text/plain": [
       "  mrate total   \n",
       "1 0.0   1.016342\n",
       "2 0.1   1.016460\n",
       "3 0.2   1.015845\n",
       "4 0.3   1.018481\n",
       "5 0.4   1.020843\n",
       "6 0.5   1.019158\n",
       "7 0.6   1.021600\n",
       "8 0.7   1.021411\n",
       "9 0.8   1.020084"
      ]
     },
     "metadata": {},
     "output_type": "display_data"
    }
   ],
   "source": [
    "fixed_data <- as.matrix(Chickenpox[,2:ncol(Chickenpox)])\n",
    "fixed_net_input <- GNAR::matrixtoGNAR(as.matrix(Chickenpox_w))\n",
    "fixed_lags <- 4\n",
    "\n",
    "results_df <- data.frame(mrate = numeric(),\n",
    "                         mse = numeric())\n",
    "\n",
    "missing_rates <- c(0,0.1, 0.2, 0.3, 0.4, 0.5, 0.6, 0.7, 0.8)\n",
    "\n",
    "for (rate in missing_rates) {\n",
    "  result <- cal_mse(fixed_data, fixed_net_input, fixed_lags, rate)\n",
    "  results_df <- rbind(results_df, data.frame(mrate = rate, mse = result[2]))\n",
    "}\n",
    "results_df"
   ]
  },
  {
   "cell_type": "code",
   "execution_count": 1386,
   "id": "3dd891df-94e1-49ad-b18f-c9a75a52caf1",
   "metadata": {},
   "outputs": [],
   "source": [
    "results_df['dataset'] = 'Chickenpox'\n",
    "results_df['method'] = 'GNAR'\n",
    "results_df['mtype'] = 'rand'\n",
    "results_df['lags'] = fixed_lags\n",
    "results_df['nof_filters'] = NA\n",
    "results_df['inter_method'] = NA\n",
    "results_df['epoch'] = NA\n",
    "results_df['calculation_time'] = NA\n",
    "results_df['model'] = 'GNAR'\n",
    "colnames(results_df)[2] <- \"mse\"\n",
    "Chickenpox_results <- results_df"
   ]
  },
  {
   "cell_type": "markdown",
   "id": "e429b84a-6613-4bb3-94a7-9ac1364e559b",
   "metadata": {},
   "source": [
    "## block"
   ]
  },
  {
   "cell_type": "code",
   "execution_count": 1387,
   "id": "9e729126-ea69-462a-b183-0f1ccd5fb3f2",
   "metadata": {},
   "outputs": [],
   "source": [
    "Chickenpox_mindex <- fromJSON(\"Chickenpox_mindex.json\")"
   ]
  },
  {
   "cell_type": "code",
   "execution_count": 1388,
   "id": "22c04b9d-fe28-4de3-a183-fca9035c7d40",
   "metadata": {},
   "outputs": [
    {
     "name": "stdout",
     "output_type": "stream",
     "text": [
      "WARNING: diagonal entries present in original matrix, these will be removed\n"
     ]
    },
    {
     "data": {
      "text/html": [
       "<table class=\"dataframe\">\n",
       "<caption>A data.frame: 1 × 2</caption>\n",
       "<thead>\n",
       "\t<tr><th scope=col>mrate</th><th scope=col>total</th></tr>\n",
       "\t<tr><th scope=col>&lt;dbl&gt;</th><th scope=col>&lt;dbl&gt;</th></tr>\n",
       "</thead>\n",
       "<tbody>\n",
       "\t<tr><td>0.2884615</td><td>1.017119</td></tr>\n",
       "</tbody>\n",
       "</table>\n"
      ],
      "text/latex": [
       "A data.frame: 1 × 2\n",
       "\\begin{tabular}{ll}\n",
       " mrate & total\\\\\n",
       " <dbl> & <dbl>\\\\\n",
       "\\hline\n",
       "\t 0.2884615 & 1.017119\\\\\n",
       "\\end{tabular}\n"
      ],
      "text/markdown": [
       "\n",
       "A data.frame: 1 × 2\n",
       "\n",
       "| mrate &lt;dbl&gt; | total &lt;dbl&gt; |\n",
       "|---|---|\n",
       "| 0.2884615 | 1.017119 |\n",
       "\n"
      ],
      "text/plain": [
       "  mrate     total   \n",
       "1 0.2884615 1.017119"
      ]
     },
     "metadata": {},
     "output_type": "display_data"
    }
   ],
   "source": [
    "fixed_data <- as.matrix(Chickenpox[,2:ncol(Chickenpox)])\n",
    "fixed_net_input <- GNAR::matrixtoGNAR(as.matrix(Chickenpox_w))\n",
    "fixed_lags <- 4\n",
    "fixed_mindex <- Chickenpox_mindex\n",
    "\n",
    "total_length <- 0\n",
    "\n",
    "for (i in seq_along(fixed_mindex)) {\n",
    "  total_length <- total_length + length(fixed_mindex[[i]])\n",
    "}\n",
    "\n",
    "rate = total_length/(length(fixed_data[,])*0.8)\n",
    "\n",
    "results_df <- data.frame(mrate = rate,\n",
    "                         mse = block_cal_mse(fixed_data, fixed_net_input, fixed_lags, fixed_mindex)[2])\n",
    "results_df"
   ]
  },
  {
   "cell_type": "code",
   "execution_count": 1389,
   "id": "adcb04d7-e329-4ae2-bb7e-05fb30448870",
   "metadata": {},
   "outputs": [],
   "source": [
    "results_df['dataset'] = 'Chickenpox'\n",
    "results_df['method'] = 'GNAR'\n",
    "results_df['mtype'] = 'block'\n",
    "results_df['lags'] = fixed_lags\n",
    "results_df['nof_filters'] = NA\n",
    "results_df['inter_method'] = NA\n",
    "results_df['epoch'] = NA\n",
    "results_df['calculation_time'] = NA\n",
    "results_df['model'] = 'GNAR'\n",
    "colnames(results_df)[2] <- \"mse\"\n",
    "Chickenpox_block_results <- results_df"
   ]
  },
  {
   "cell_type": "markdown",
   "id": "35131ff6-fde3-4789-8e9c-3205dd389880",
   "metadata": {},
   "source": [
    "# PedalMe"
   ]
  },
  {
   "cell_type": "markdown",
   "id": "8ed2dd8e-2c58-4c2a-9cf7-e2693eb5c4eb",
   "metadata": {},
   "source": [
    "## random"
   ]
  },
  {
   "cell_type": "code",
   "execution_count": 1390,
   "id": "d4a68742-a740-49f8-b49a-4c7207f3eaeb",
   "metadata": {},
   "outputs": [],
   "source": [
    "PedalMe<-read.csv('./data/PedalMe.csv',header = TRUE)"
   ]
  },
  {
   "cell_type": "code",
   "execution_count": 1391,
   "id": "b498688d-9680-40c9-ada6-eef465ad31a6",
   "metadata": {},
   "outputs": [],
   "source": [
    "PedalMe_w<-read.csv('./data/PedalMe_w.csv',header = FALSE)[2:16,2:16]"
   ]
  },
  {
   "cell_type": "code",
   "execution_count": 1455,
   "id": "e83d960b-872c-480e-ac4b-1f6f18393479",
   "metadata": {},
   "outputs": [
    {
     "name": "stdout",
     "output_type": "stream",
     "text": [
      "WARNING: diagonal entries present in original matrix, these will be removed\n"
     ]
    },
    {
     "data": {
      "text/html": [
       "<table class=\"dataframe\">\n",
       "<caption>A data.frame: 9 × 2</caption>\n",
       "<thead>\n",
       "\t<tr><th scope=col>mrate</th><th scope=col>total</th></tr>\n",
       "\t<tr><th scope=col>&lt;dbl&gt;</th><th scope=col>&lt;dbl&gt;</th></tr>\n",
       "</thead>\n",
       "<tbody>\n",
       "\t<tr><td>0.0</td><td>0.5016028</td></tr>\n",
       "\t<tr><td>0.1</td><td>0.4971018</td></tr>\n",
       "\t<tr><td>0.2</td><td>0.5027820</td></tr>\n",
       "\t<tr><td>0.3</td><td>0.5148579</td></tr>\n",
       "\t<tr><td>0.4</td><td>0.5226205</td></tr>\n",
       "\t<tr><td>0.5</td><td>0.5917800</td></tr>\n",
       "\t<tr><td>0.6</td><td>0.4917371</td></tr>\n",
       "\t<tr><td>0.7</td><td>0.4917371</td></tr>\n",
       "\t<tr><td>0.8</td><td>0.4917371</td></tr>\n",
       "</tbody>\n",
       "</table>\n"
      ],
      "text/latex": [
       "A data.frame: 9 × 2\n",
       "\\begin{tabular}{ll}\n",
       " mrate & total\\\\\n",
       " <dbl> & <dbl>\\\\\n",
       "\\hline\n",
       "\t 0.0 & 0.5016028\\\\\n",
       "\t 0.1 & 0.4971018\\\\\n",
       "\t 0.2 & 0.5027820\\\\\n",
       "\t 0.3 & 0.5148579\\\\\n",
       "\t 0.4 & 0.5226205\\\\\n",
       "\t 0.5 & 0.5917800\\\\\n",
       "\t 0.6 & 0.4917371\\\\\n",
       "\t 0.7 & 0.4917371\\\\\n",
       "\t 0.8 & 0.4917371\\\\\n",
       "\\end{tabular}\n"
      ],
      "text/markdown": [
       "\n",
       "A data.frame: 9 × 2\n",
       "\n",
       "| mrate &lt;dbl&gt; | total &lt;dbl&gt; |\n",
       "|---|---|\n",
       "| 0.0 | 0.5016028 |\n",
       "| 0.1 | 0.4971018 |\n",
       "| 0.2 | 0.5027820 |\n",
       "| 0.3 | 0.5148579 |\n",
       "| 0.4 | 0.5226205 |\n",
       "| 0.5 | 0.5917800 |\n",
       "| 0.6 | 0.4917371 |\n",
       "| 0.7 | 0.4917371 |\n",
       "| 0.8 | 0.4917371 |\n",
       "\n"
      ],
      "text/plain": [
       "  mrate total    \n",
       "1 0.0   0.5016028\n",
       "2 0.1   0.4971018\n",
       "3 0.2   0.5027820\n",
       "4 0.3   0.5148579\n",
       "5 0.4   0.5226205\n",
       "6 0.5   0.5917800\n",
       "7 0.6   0.4917371\n",
       "8 0.7   0.4917371\n",
       "9 0.8   0.4917371"
      ]
     },
     "metadata": {},
     "output_type": "display_data"
    }
   ],
   "source": [
    "fixed_data <- as.matrix(PedalMe[,2:ncol(PedalMe)])\n",
    "fixed_net_input <- GNAR::matrixtoGNAR(as.matrix(PedalMe_w))\n",
    "fixed_lags <- 4\n",
    "\n",
    "results_df <- data.frame(mrate = numeric(),\n",
    "                         mse = numeric())\n",
    "\n",
    "missing_rates <- c(0,0.1, 0.2, 0.3, 0.4, 0.5, 0.6,0.7, 0.8) \n",
    "\n",
    "for (rate in missing_rates) {\n",
    "  result <- cal_mse(fixed_data, fixed_net_input, fixed_lags, rate)\n",
    "  results_df <- rbind(results_df, data.frame(mrate = rate, mse = result[2]))\n",
    "}\n",
    "results_df"
   ]
  },
  {
   "cell_type": "code",
   "execution_count": 1456,
   "id": "ed89cca0-fe6d-449e-bce7-b40659ac9114",
   "metadata": {},
   "outputs": [],
   "source": [
    "results_df['dataset'] = 'Pedalme'\n",
    "results_df['method'] = 'GNAR'\n",
    "results_df['mtype'] = 'rand'\n",
    "results_df['lags'] = fixed_lags\n",
    "results_df['nof_filters'] = NA\n",
    "results_df['inter_method'] = NA\n",
    "results_df['epoch'] = NA\n",
    "results_df['calculation_time'] = NA\n",
    "results_df['model'] = 'GNAR'\n",
    "colnames(results_df)[2] <- \"mse\"\n",
    "Pedalme_results <- results_df"
   ]
  },
  {
   "cell_type": "markdown",
   "id": "42d76cbf-5cbd-41ff-b3c0-85382f9a8fff",
   "metadata": {},
   "source": [
    "## block"
   ]
  },
  {
   "cell_type": "code",
   "execution_count": 1457,
   "id": "ee3ceebf-4197-484d-ad9a-f5fc4b365883",
   "metadata": {},
   "outputs": [],
   "source": [
    "Pedalme_mindex <- fromJSON(\"Pedalme_mindex.json\")"
   ]
  },
  {
   "cell_type": "code",
   "execution_count": 1458,
   "id": "1959fafd-b60e-4b40-a721-52c197f51754",
   "metadata": {},
   "outputs": [
    {
     "name": "stdout",
     "output_type": "stream",
     "text": [
      "WARNING: diagonal entries present in original matrix, these will be removed\n"
     ]
    },
    {
     "data": {
      "text/html": [
       "<table class=\"dataframe\">\n",
       "<caption>A data.frame: 1 × 2</caption>\n",
       "<thead>\n",
       "\t<tr><th scope=col>mrate</th><th scope=col>total</th></tr>\n",
       "\t<tr><th scope=col>&lt;dbl&gt;</th><th scope=col>&lt;dbl&gt;</th></tr>\n",
       "</thead>\n",
       "<tbody>\n",
       "\t<tr><td>0.2941176</td><td>0.4916068</td></tr>\n",
       "</tbody>\n",
       "</table>\n"
      ],
      "text/latex": [
       "A data.frame: 1 × 2\n",
       "\\begin{tabular}{ll}\n",
       " mrate & total\\\\\n",
       " <dbl> & <dbl>\\\\\n",
       "\\hline\n",
       "\t 0.2941176 & 0.4916068\\\\\n",
       "\\end{tabular}\n"
      ],
      "text/markdown": [
       "\n",
       "A data.frame: 1 × 2\n",
       "\n",
       "| mrate &lt;dbl&gt; | total &lt;dbl&gt; |\n",
       "|---|---|\n",
       "| 0.2941176 | 0.4916068 |\n",
       "\n"
      ],
      "text/plain": [
       "  mrate     total    \n",
       "1 0.2941176 0.4916068"
      ]
     },
     "metadata": {},
     "output_type": "display_data"
    }
   ],
   "source": [
    "fixed_data <- as.matrix(PedalMe[,2:ncol(PedalMe)])\n",
    "fixed_net_input <- GNAR::matrixtoGNAR(as.matrix(PedalMe_w))\n",
    "fixed_lags <- 4\n",
    "fixed_mindex <- Pedalme_mindex\n",
    "\n",
    "total_length <- 0\n",
    "\n",
    "for (i in seq_along(fixed_mindex)) {\n",
    "  total_length <- total_length + length(fixed_mindex[[i]])\n",
    "}\n",
    "\n",
    "rate = total_length/(length(fixed_data[,])*0.8)\n",
    "\n",
    "results_df <- data.frame(mrate = rate,\n",
    "                         mse = block_cal_mse(fixed_data, fixed_net_input, fixed_lags, fixed_mindex)[2])\n",
    "results_df"
   ]
  },
  {
   "cell_type": "code",
   "execution_count": 1459,
   "id": "fcd69572-2630-47f0-b5d2-c72332b2ba0d",
   "metadata": {},
   "outputs": [],
   "source": [
    "results_df['dataset'] = 'Pedalme'\n",
    "results_df['method'] = 'GNAR'\n",
    "results_df['mtype'] = 'block'\n",
    "results_df['lags'] = fixed_lags\n",
    "results_df['nof_filters'] = NA\n",
    "results_df['inter_method'] = NA\n",
    "results_df['epoch'] = NA\n",
    "results_df['calculation_time'] = NA\n",
    "results_df['model'] = 'GNAR'\n",
    "colnames(results_df)[2] <- \"mse\"\n",
    "Pedalme_block_results <- results_df"
   ]
  },
  {
   "cell_type": "markdown",
   "id": "c0e6bfea-47fb-4a36-9438-0aae60152791",
   "metadata": {},
   "source": [
    "# WikiMath"
   ]
  },
  {
   "cell_type": "markdown",
   "id": "898d06b7-9cd1-40ab-991e-4e43a85666c8",
   "metadata": {},
   "source": [
    "## random"
   ]
  },
  {
   "cell_type": "code",
   "execution_count": 1460,
   "id": "0e6cc4ba-a9ff-40e9-8c4c-6cad2c1eac05",
   "metadata": {},
   "outputs": [],
   "source": [
    "WikiMath <- read.csv('./data/WikiMath.csv',header = TRUE)"
   ]
  },
  {
   "cell_type": "code",
   "execution_count": 1461,
   "id": "0409837a-a90e-44fa-a956-9ad22b4e2907",
   "metadata": {},
   "outputs": [],
   "source": [
    "WikiMath_w<-read.csv('./data/WikiMath_w.csv',header = FALSE)[2:1069,2:1069]"
   ]
  },
  {
   "cell_type": "code",
   "execution_count": null,
   "id": "e307257c-89b0-497e-b50c-3b1552a1ec59",
   "metadata": {},
   "outputs": [],
   "source": [
    "fixed_data <- as.matrix(WikiMath[,2:ncol(WikiMath)])\n",
    "fixed_net_input <- GNAR::matrixtoGNAR(as.matrix(WikiMath_w))\n",
    "fixed_lags <- 8\n",
    "\n",
    "results_df <- data.frame(mrate = numeric(),\n",
    "                         mse = numeric())\n",
    "\n",
    "missing_rates <- c(0, 0.1, 0.2, 0.3, 0.4, 0.5, 0.6, 0.7,0.8) \n",
    "\n",
    "for (rate in missing_rates) {\n",
    "  result <- cal_mse(fixed_data, fixed_net_input, fixed_lags, rate)\n",
    "  results_df <- rbind(results_df, data.frame(mrate = rate, mse = result[2]))\n",
    "}\n",
    "results_df"
   ]
  },
  {
   "cell_type": "code",
   "execution_count": null,
   "id": "4c9f3f69-86d2-4ccf-913d-92a2d2f1a7f3",
   "metadata": {},
   "outputs": [],
   "source": [
    "results_df['dataset'] = 'Wikimath'\n",
    "results_df['method'] = 'GNAR'\n",
    "results_df['mtype'] = 'rand'\n",
    "results_df['lags'] = fixed_lags\n",
    "results_df['nof_filters'] = NA\n",
    "results_df['inter_method'] = NA\n",
    "results_df['epoch'] = NA\n",
    "results_df['calculation_time'] = NA\n",
    "results_df['model'] = 'GNAR'\n",
    "colnames(results_df)[2] <- \"mse\"\n",
    "Wikimath_results <- results_df"
   ]
  },
  {
   "cell_type": "markdown",
   "id": "91d2bff3-bb20-4bbb-9316-d90e9cd2ee7a",
   "metadata": {},
   "source": [
    "## block"
   ]
  },
  {
   "cell_type": "code",
   "execution_count": 1465,
   "id": "bbbbaa02-01a1-47f3-9117-3a289e2c812b",
   "metadata": {},
   "outputs": [],
   "source": [
    "Wikimath_mindex <- fromJSON(\"Wikimath_mindex.json\")"
   ]
  },
  {
   "cell_type": "code",
   "execution_count": 1466,
   "id": "5d86da53-2339-4471-a3fc-4b1c66cfe0cc",
   "metadata": {},
   "outputs": [
    {
     "data": {
      "text/html": [
       "<table class=\"dataframe\">\n",
       "<caption>A data.frame: 1 × 2</caption>\n",
       "<thead>\n",
       "\t<tr><th scope=col>mrate</th><th scope=col>total</th></tr>\n",
       "\t<tr><th scope=col>&lt;dbl&gt;</th><th scope=col>&lt;dbl&gt;</th></tr>\n",
       "</thead>\n",
       "<tbody>\n",
       "\t<tr><td>0.1202478</td><td>0.9009986</td></tr>\n",
       "</tbody>\n",
       "</table>\n"
      ],
      "text/latex": [
       "A data.frame: 1 × 2\n",
       "\\begin{tabular}{ll}\n",
       " mrate & total\\\\\n",
       " <dbl> & <dbl>\\\\\n",
       "\\hline\n",
       "\t 0.1202478 & 0.9009986\\\\\n",
       "\\end{tabular}\n"
      ],
      "text/markdown": [
       "\n",
       "A data.frame: 1 × 2\n",
       "\n",
       "| mrate &lt;dbl&gt; | total &lt;dbl&gt; |\n",
       "|---|---|\n",
       "| 0.1202478 | 0.9009986 |\n",
       "\n"
      ],
      "text/plain": [
       "  mrate     total    \n",
       "1 0.1202478 0.9009986"
      ]
     },
     "metadata": {},
     "output_type": "display_data"
    }
   ],
   "source": [
    "fixed_data <- as.matrix(WikiMath[,2:ncol(WikiMath)])\n",
    "fixed_net_input <- GNAR::matrixtoGNAR(as.matrix(WikiMath_w))\n",
    "fixed_lags <- 8\n",
    "fixed_mindex <- Wikimath_mindex\n",
    "\n",
    "total_length <- 0\n",
    "\n",
    "for (i in seq_along(fixed_mindex)) {\n",
    "  total_length <- total_length + length(fixed_mindex[[i]])\n",
    "}\n",
    "\n",
    "rate = total_length/(length(fixed_data[,])*0.8)\n",
    "\n",
    "results_df <- data.frame(mrate = rate,\n",
    "                         mse = block_cal_mse(fixed_data, fixed_net_input, fixed_lags, fixed_mindex)[2])\n",
    "results_df"
   ]
  },
  {
   "cell_type": "code",
   "execution_count": 1467,
   "id": "be667ccc-4ed6-4bed-8efd-54b21519e531",
   "metadata": {},
   "outputs": [],
   "source": [
    "results_df['dataset'] = 'Wikimath'\n",
    "results_df['method'] = 'GNAR'\n",
    "results_df['mtype'] = 'block'\n",
    "results_df['lags'] = fixed_lags\n",
    "results_df['nof_filters'] = NA\n",
    "results_df['inter_method'] = NA\n",
    "results_df['epoch'] = NA\n",
    "results_df['calculation_time'] = NA\n",
    "results_df['model'] = 'GNAR'\n",
    "colnames(results_df)[2] <- \"mse\"\n",
    "Wikimath_block_results <- results_df"
   ]
  },
  {
   "cell_type": "markdown",
   "id": "3dfd78f0-399c-435b-bba7-2204e2f818d8",
   "metadata": {},
   "source": [
    "# Windmillsmall"
   ]
  },
  {
   "cell_type": "markdown",
   "id": "523ff65d-2976-4732-ba60-5b061cb7f607",
   "metadata": {},
   "source": [
    "## random"
   ]
  },
  {
   "cell_type": "code",
   "execution_count": 1468,
   "id": "984fb82a-9e60-497c-8317-e77494b630b2",
   "metadata": {},
   "outputs": [],
   "source": [
    "Windmillsmall<-read.csv('./data/Windmillsmall.csv',header = TRUE)"
   ]
  },
  {
   "cell_type": "code",
   "execution_count": 1469,
   "id": "913ff377-4620-4493-bc30-6e07e6b40018",
   "metadata": {},
   "outputs": [],
   "source": [
    "Windmillsmall_w<-read.csv('./data/Windmillsmall_w.csv',header = FALSE)[2:12,2:12]"
   ]
  },
  {
   "cell_type": "markdown",
   "id": "b0862b29-7086-4a73-847d-cdb91997f5a8",
   "metadata": {},
   "source": [
    "계속 오류남;;"
   ]
  },
  {
   "cell_type": "code",
   "execution_count": 885,
   "id": "4f1560e6-872f-4993-a5f2-9419b01241a4",
   "metadata": {},
   "outputs": [],
   "source": [
    "# fixed_data <- as.matrix(Windmillsmall[,2:ncol(Windmillsmall)])\n",
    "# fixed_net_input <- GNAR::matrixtoGNAR(as.matrix(Windmillsmall_w))\n",
    "# fixed_lags <- 8\n",
    "\n",
    "# results_df <- data.frame(mrate = numeric(),\n",
    "#                          mse = numeric())\n",
    "\n",
    "# missing_rates <- c(0,0.1, 0.2, 0.3, 0.4, 0.5, 0.6, 0.7,0.8) \n",
    "\n",
    "# for (rate in missing_rates) {\n",
    "#   result <- cal_mse(fixed_data, fixed_net_input, fixed_lags, rate)\n",
    "#   results_df <- rbind(results_df, data.frame(mrate = rate, mse = result))\n",
    "# }\n",
    "# results_df"
   ]
  },
  {
   "cell_type": "code",
   "execution_count": 1543,
   "id": "24c1a989-1683-41bb-a891-56be1635e353",
   "metadata": {},
   "outputs": [],
   "source": [
    "results_df <- data.frame(\n",
    "  mrate = c(0.8, 0.7, 0.6, 0.5, 0.4, 0.3, 0.2, 0.1, 0.0),\n",
    "  mse = c(0.980465007853614,0.980465007853614,0.980742615896619,0.980465007853614, 0.980529157673243, 0.980548927794843,0.980486712335988,0.980471934178215, 0.980486581012802)\n",
    ")"
   ]
  },
  {
   "cell_type": "code",
   "execution_count": 1544,
   "id": "d0d4feb8-9206-4a0a-8e74-b60cbb0efca6",
   "metadata": {},
   "outputs": [],
   "source": [
    "results_df['dataset'] = 'Windmillsmall'\n",
    "results_df['method'] = 'GNAR'\n",
    "results_df['mtype'] = 'rand'\n",
    "results_df['lags'] = fixed_lags\n",
    "results_df['nof_filters'] = NA\n",
    "results_df['inter_method'] = NA\n",
    "results_df['epoch'] = NA\n",
    "results_df['calculation_time'] = NA\n",
    "results_df['model'] = 'GNAR'\n",
    "colnames(results_df)[2] <- \"mse\"\n",
    "Windmillsmall_results <- results_df"
   ]
  },
  {
   "cell_type": "code",
   "execution_count": 1505,
   "id": "bec5a9ee-f48a-4c7a-b7a2-7b1ebb8dbc9c",
   "metadata": {},
   "outputs": [
    {
     "name": "stdout",
     "output_type": "stream",
     "text": [
      "WARNING: diagonal entries present in original matrix, these will be removed\n"
     ]
    }
   ],
   "source": [
    "fixed_data <- as.matrix(Windmillsmall[,2:ncol(Windmillsmall)])\n",
    "fixed_net_input <- GNAR::matrixtoGNAR(as.matrix(Windmillsmall_w))\n",
    "fixed_lags <- 8"
   ]
  },
  {
   "cell_type": "code",
   "execution_count": 1524,
   "id": "7e70c8c4-383d-4268-94c5-3a6c0b82fe69",
   "metadata": {},
   "outputs": [
    {
     "data": {
      "text/html": [
       "<strong>$total</strong> = 0.980465007853614"
      ],
      "text/latex": [
       "\\textbf{\\$total} = 0.980465007853614"
      ],
      "text/markdown": [
       "**$total** = 0.980465007853614"
      ],
      "text/plain": [
       "$total\n",
       "[1] 0.980465\n"
      ]
     },
     "metadata": {},
     "output_type": "display_data"
    }
   ],
   "source": [
    "cal_mse(fixed_data, fixed_net_input, fixed_lags, 0.8)[2]"
   ]
  },
  {
   "cell_type": "code",
   "execution_count": 1541,
   "id": "5e37e519-8a26-4303-942d-994aa199466a",
   "metadata": {},
   "outputs": [
    {
     "data": {
      "text/html": [
       "<strong>$total</strong> = 0.980465007853614"
      ],
      "text/latex": [
       "\\textbf{\\$total} = 0.980465007853614"
      ],
      "text/markdown": [
       "**$total** = 0.980465007853614"
      ],
      "text/plain": [
       "$total\n",
       "[1] 0.980465\n"
      ]
     },
     "metadata": {},
     "output_type": "display_data"
    }
   ],
   "source": [
    "cal_mse(fixed_data, fixed_net_input, fixed_lags, 0.7)[2]"
   ]
  },
  {
   "cell_type": "code",
   "execution_count": 1527,
   "id": "e40d9f44-0009-42da-8649-a19c63c8282a",
   "metadata": {},
   "outputs": [
    {
     "data": {
      "text/html": [
       "<strong>$total</strong> = 0.980742615896619"
      ],
      "text/latex": [
       "\\textbf{\\$total} = 0.980742615896619"
      ],
      "text/markdown": [
       "**$total** = 0.980742615896619"
      ],
      "text/plain": [
       "$total\n",
       "[1] 0.9807426\n"
      ]
     },
     "metadata": {},
     "output_type": "display_data"
    }
   ],
   "source": [
    "cal_mse(fixed_data, fixed_net_input, fixed_lags, 0.6)[2]"
   ]
  },
  {
   "cell_type": "code",
   "execution_count": 1512,
   "id": "e674425e-8b0a-405d-9ab2-64b2b65b4172",
   "metadata": {},
   "outputs": [
    {
     "data": {
      "text/html": [
       "<strong>$total</strong> = 0.980465007853614"
      ],
      "text/latex": [
       "\\textbf{\\$total} = 0.980465007853614"
      ],
      "text/markdown": [
       "**$total** = 0.980465007853614"
      ],
      "text/plain": [
       "$total\n",
       "[1] 0.980465\n"
      ]
     },
     "metadata": {},
     "output_type": "display_data"
    }
   ],
   "source": [
    "cal_mse(fixed_data, fixed_net_input, fixed_lags, 0.5)[2]"
   ]
  },
  {
   "cell_type": "code",
   "execution_count": 1511,
   "id": "177dab61-855e-41bb-9400-56139112e205",
   "metadata": {},
   "outputs": [
    {
     "data": {
      "text/html": [
       "<strong>$total</strong> = 0.980529157673243"
      ],
      "text/latex": [
       "\\textbf{\\$total} = 0.980529157673243"
      ],
      "text/markdown": [
       "**$total** = 0.980529157673243"
      ],
      "text/plain": [
       "$total\n",
       "[1] 0.9805292\n"
      ]
     },
     "metadata": {},
     "output_type": "display_data"
    }
   ],
   "source": [
    "cal_mse(fixed_data, fixed_net_input, fixed_lags, 0.4)[2]"
   ]
  },
  {
   "cell_type": "code",
   "execution_count": 1510,
   "id": "7fc8e99c-b129-411e-9531-54aa3332422f",
   "metadata": {},
   "outputs": [
    {
     "data": {
      "text/html": [
       "<strong>$total</strong> = 0.980548927794843"
      ],
      "text/latex": [
       "\\textbf{\\$total} = 0.980548927794843"
      ],
      "text/markdown": [
       "**$total** = 0.980548927794843"
      ],
      "text/plain": [
       "$total\n",
       "[1] 0.9805489\n"
      ]
     },
     "metadata": {},
     "output_type": "display_data"
    }
   ],
   "source": [
    "cal_mse(fixed_data, fixed_net_input, fixed_lags, 0.3)[2]"
   ]
  },
  {
   "cell_type": "code",
   "execution_count": 1509,
   "id": "c76bca82-6694-43ce-b81d-9a3482a164d6",
   "metadata": {},
   "outputs": [
    {
     "data": {
      "text/html": [
       "<strong>$total</strong> = 0.980486712335988"
      ],
      "text/latex": [
       "\\textbf{\\$total} = 0.980486712335988"
      ],
      "text/markdown": [
       "**$total** = 0.980486712335988"
      ],
      "text/plain": [
       "$total\n",
       "[1] 0.9804867\n"
      ]
     },
     "metadata": {},
     "output_type": "display_data"
    }
   ],
   "source": [
    "cal_mse(fixed_data, fixed_net_input, fixed_lags, 0.2)[2]"
   ]
  },
  {
   "cell_type": "code",
   "execution_count": 1508,
   "id": "7bebad4e-69ea-4d6f-9822-e12f5a43db2a",
   "metadata": {},
   "outputs": [
    {
     "data": {
      "text/html": [
       "<strong>$total</strong> = 0.980471934178215"
      ],
      "text/latex": [
       "\\textbf{\\$total} = 0.980471934178215"
      ],
      "text/markdown": [
       "**$total** = 0.980471934178215"
      ],
      "text/plain": [
       "$total\n",
       "[1] 0.9804719\n"
      ]
     },
     "metadata": {},
     "output_type": "display_data"
    }
   ],
   "source": [
    "cal_mse(fixed_data, fixed_net_input, fixed_lags, 0.1)[2]"
   ]
  },
  {
   "cell_type": "code",
   "execution_count": 1507,
   "id": "46229a5d-0c68-4efd-96ea-0b835449166f",
   "metadata": {},
   "outputs": [
    {
     "data": {
      "text/html": [
       "<strong>$total</strong> = 0.980486581012802"
      ],
      "text/latex": [
       "\\textbf{\\$total} = 0.980486581012802"
      ],
      "text/markdown": [
       "**$total** = 0.980486581012802"
      ],
      "text/plain": [
       "$total\n",
       "[1] 0.9804866\n"
      ]
     },
     "metadata": {},
     "output_type": "display_data"
    }
   ],
   "source": [
    "cal_mse(fixed_data, fixed_net_input, fixed_lags, 0)[2]"
   ]
  },
  {
   "cell_type": "markdown",
   "id": "44729402-9b9d-4768-a5cd-aa128a4fff63",
   "metadata": {},
   "source": [
    "## block"
   ]
  },
  {
   "cell_type": "code",
   "execution_count": 1221,
   "id": "a07efc69-b992-4231-8090-a6b5a5518a95",
   "metadata": {},
   "outputs": [],
   "source": [
    "Windmillsmall_mindex <- fromJSON(\"Windmillsmall_mindex.json\")"
   ]
  },
  {
   "cell_type": "code",
   "execution_count": 1503,
   "id": "c1ecbf79-57f8-4c2d-b767-6b132efa230b",
   "metadata": {},
   "outputs": [
    {
     "name": "stdout",
     "output_type": "stream",
     "text": [
      "WARNING: diagonal entries present in original matrix, these will be removed\n"
     ]
    },
    {
     "data": {
      "text/html": [
       "<table class=\"dataframe\">\n",
       "<caption>A data.frame: 1 × 2</caption>\n",
       "<thead>\n",
       "\t<tr><th scope=col>mrate</th><th scope=col>total</th></tr>\n",
       "\t<tr><th scope=col>&lt;dbl&gt;</th><th scope=col>&lt;dbl&gt;</th></tr>\n",
       "</thead>\n",
       "<tbody>\n",
       "\t<tr><td>0.03252143</td><td>0.9804863</td></tr>\n",
       "</tbody>\n",
       "</table>\n"
      ],
      "text/latex": [
       "A data.frame: 1 × 2\n",
       "\\begin{tabular}{ll}\n",
       " mrate & total\\\\\n",
       " <dbl> & <dbl>\\\\\n",
       "\\hline\n",
       "\t 0.03252143 & 0.9804863\\\\\n",
       "\\end{tabular}\n"
      ],
      "text/markdown": [
       "\n",
       "A data.frame: 1 × 2\n",
       "\n",
       "| mrate &lt;dbl&gt; | total &lt;dbl&gt; |\n",
       "|---|---|\n",
       "| 0.03252143 | 0.9804863 |\n",
       "\n"
      ],
      "text/plain": [
       "  mrate      total    \n",
       "1 0.03252143 0.9804863"
      ]
     },
     "metadata": {},
     "output_type": "display_data"
    }
   ],
   "source": [
    "fixed_data <- as.matrix(Windmillsmall[,2:ncol(Windmillsmall)])\n",
    "fixed_net_input <- GNAR::matrixtoGNAR(as.matrix(Windmillsmall_w))\n",
    "fixed_lags <- 8\n",
    "fixed_mindex <- Windmillsmall_mindex\n",
    "\n",
    "total_length <- 0\n",
    "\n",
    "for (i in seq_along(fixed_mindex)) {\n",
    "  total_length <- total_length + length(fixed_mindex[[i]])\n",
    "}\n",
    "\n",
    "rate = total_length/(length(fixed_data[,])*0.8)\n",
    "\n",
    "results_df <- data.frame(mrate = rate,\n",
    "                         mse = block_cal_mse(fixed_data, fixed_net_input, fixed_lags, fixed_mindex)[2])\n",
    "results_df"
   ]
  },
  {
   "cell_type": "code",
   "execution_count": 1504,
   "id": "eaa26ae0-a8af-4fb8-9f33-bc321bb8fb14",
   "metadata": {},
   "outputs": [],
   "source": [
    "results_df['dataset'] = 'Windmillsmall'\n",
    "results_df['method'] = 'GNAR'\n",
    "results_df['mtype'] = 'block'\n",
    "results_df['lags'] = fixed_lags\n",
    "results_df['nof_filters'] = NA\n",
    "results_df['inter_method'] = NA\n",
    "results_df['epoch'] = NA\n",
    "results_df['calculation_time'] = NA\n",
    "results_df['model'] = 'GNAR'\n",
    "colnames(results_df)[2] <- \"mse\"\n",
    "Windmillsmall_block_results <- results_df"
   ]
  },
  {
   "cell_type": "markdown",
   "id": "e89a7a02-db59-4a21-986b-bb0a5e2c448c",
   "metadata": {},
   "source": [
    "# MontevideoBus"
   ]
  },
  {
   "cell_type": "markdown",
   "id": "4ed844d0-ae02-4a07-abf5-64175b2a8089",
   "metadata": {},
   "source": [
    "## random"
   ]
  },
  {
   "cell_type": "code",
   "execution_count": 877,
   "id": "1369de83-ec43-4b62-9b27-64dc092b9e3e",
   "metadata": {},
   "outputs": [],
   "source": [
    "MontevideoBus<-read.csv('./data/MontevideoBus.csv',header = TRUE)"
   ]
  },
  {
   "cell_type": "code",
   "execution_count": 878,
   "id": "6642a2c5-4d9e-41b1-acd1-111417d504e6",
   "metadata": {},
   "outputs": [],
   "source": [
    "MontevideoBus_w<-read.csv('./data/MontevideoBus_w.csv',header = FALSE)[2:676,2:676]"
   ]
  },
  {
   "cell_type": "code",
   "execution_count": 1498,
   "id": "641b42f8-5450-4f0a-8581-b0c78ddea6d9",
   "metadata": {},
   "outputs": [
    {
     "data": {
      "text/html": [
       "<table class=\"dataframe\">\n",
       "<caption>A data.frame: 9 × 2</caption>\n",
       "<thead>\n",
       "\t<tr><th scope=col>mrate</th><th scope=col>total</th></tr>\n",
       "\t<tr><th scope=col>&lt;dbl&gt;</th><th scope=col>&lt;dbl&gt;</th></tr>\n",
       "</thead>\n",
       "<tbody>\n",
       "\t<tr><td>0.0</td><td>1.002868</td></tr>\n",
       "\t<tr><td>0.1</td><td>1.002744</td></tr>\n",
       "\t<tr><td>0.2</td><td>1.002750</td></tr>\n",
       "\t<tr><td>0.3</td><td>1.002771</td></tr>\n",
       "\t<tr><td>0.4</td><td>1.001533</td></tr>\n",
       "\t<tr><td>0.5</td><td>1.002278</td></tr>\n",
       "\t<tr><td>0.6</td><td>1.002135</td></tr>\n",
       "\t<tr><td>0.7</td><td>1.003126</td></tr>\n",
       "\t<tr><td>0.8</td><td>1.003196</td></tr>\n",
       "</tbody>\n",
       "</table>\n"
      ],
      "text/latex": [
       "A data.frame: 9 × 2\n",
       "\\begin{tabular}{ll}\n",
       " mrate & total\\\\\n",
       " <dbl> & <dbl>\\\\\n",
       "\\hline\n",
       "\t 0.0 & 1.002868\\\\\n",
       "\t 0.1 & 1.002744\\\\\n",
       "\t 0.2 & 1.002750\\\\\n",
       "\t 0.3 & 1.002771\\\\\n",
       "\t 0.4 & 1.001533\\\\\n",
       "\t 0.5 & 1.002278\\\\\n",
       "\t 0.6 & 1.002135\\\\\n",
       "\t 0.7 & 1.003126\\\\\n",
       "\t 0.8 & 1.003196\\\\\n",
       "\\end{tabular}\n"
      ],
      "text/markdown": [
       "\n",
       "A data.frame: 9 × 2\n",
       "\n",
       "| mrate &lt;dbl&gt; | total &lt;dbl&gt; |\n",
       "|---|---|\n",
       "| 0.0 | 1.002868 |\n",
       "| 0.1 | 1.002744 |\n",
       "| 0.2 | 1.002750 |\n",
       "| 0.3 | 1.002771 |\n",
       "| 0.4 | 1.001533 |\n",
       "| 0.5 | 1.002278 |\n",
       "| 0.6 | 1.002135 |\n",
       "| 0.7 | 1.003126 |\n",
       "| 0.8 | 1.003196 |\n",
       "\n"
      ],
      "text/plain": [
       "  mrate total   \n",
       "1 0.0   1.002868\n",
       "2 0.1   1.002744\n",
       "3 0.2   1.002750\n",
       "4 0.3   1.002771\n",
       "5 0.4   1.001533\n",
       "6 0.5   1.002278\n",
       "7 0.6   1.002135\n",
       "8 0.7   1.003126\n",
       "9 0.8   1.003196"
      ]
     },
     "metadata": {},
     "output_type": "display_data"
    }
   ],
   "source": [
    "fixed_data <- as.matrix(MontevideoBus[,2:ncol(MontevideoBus)])\n",
    "fixed_net_input <- GNAR::matrixtoGNAR(as.matrix(MontevideoBus_w))\n",
    "fixed_lags <- 8\n",
    "\n",
    "results_df <- data.frame(mrate = numeric(),\n",
    "                         mse = numeric())\n",
    "\n",
    "missing_rates <- c(0,0.1, 0.2, 0.3, 0.4, 0.5, 0.6, 0.7,0.8) \n",
    "\n",
    "for (rate in missing_rates) {\n",
    "  result <- cal_mse(fixed_data, fixed_net_input, fixed_lags, rate)\n",
    "  results_df <- rbind(results_df, data.frame(mrate = rate, mse = result[2]))\n",
    "}\n",
    "results_df"
   ]
  },
  {
   "cell_type": "code",
   "execution_count": 1499,
   "id": "4a3872dc-3802-4161-a2db-5cc608773eb4",
   "metadata": {},
   "outputs": [],
   "source": [
    "results_df['dataset'] = 'MontevideoBus'\n",
    "results_df['method'] = 'GNAR'\n",
    "results_df['mtype'] = 'rand'\n",
    "results_df['lags'] = fixed_lags\n",
    "results_df['nof_filters'] = NA\n",
    "results_df['inter_method'] = NA\n",
    "results_df['epoch'] = NA\n",
    "results_df['calculation_time'] = NA\n",
    "results_df['model'] = 'GNAR'\n",
    "colnames(results_df)[2] <- \"mse\"\n",
    "MontevideoBus_results <- results_df"
   ]
  },
  {
   "cell_type": "markdown",
   "id": "aa55e92c-03e4-44b6-b531-ed8f711a5616",
   "metadata": {},
   "source": [
    "## block"
   ]
  },
  {
   "cell_type": "code",
   "execution_count": 1226,
   "id": "dcbc4a75-5daf-46d6-90b5-3145651796c7",
   "metadata": {},
   "outputs": [],
   "source": [
    "MontevideoBus_mindex <- fromJSON(\"MontevideoBus_mindex.json\")"
   ]
  },
  {
   "cell_type": "code",
   "execution_count": 1501,
   "id": "df300d62-88c5-495f-8b10-1840bb4f2565",
   "metadata": {},
   "outputs": [
    {
     "data": {
      "text/html": [
       "<table class=\"dataframe\">\n",
       "<caption>A data.frame: 1 × 2</caption>\n",
       "<thead>\n",
       "\t<tr><th scope=col>mrate</th><th scope=col>total</th></tr>\n",
       "\t<tr><th scope=col>&lt;dbl&gt;</th><th scope=col>&lt;dbl&gt;</th></tr>\n",
       "</thead>\n",
       "<tbody>\n",
       "\t<tr><td>0.1495439</td><td>1.002894</td></tr>\n",
       "</tbody>\n",
       "</table>\n"
      ],
      "text/latex": [
       "A data.frame: 1 × 2\n",
       "\\begin{tabular}{ll}\n",
       " mrate & total\\\\\n",
       " <dbl> & <dbl>\\\\\n",
       "\\hline\n",
       "\t 0.1495439 & 1.002894\\\\\n",
       "\\end{tabular}\n"
      ],
      "text/markdown": [
       "\n",
       "A data.frame: 1 × 2\n",
       "\n",
       "| mrate &lt;dbl&gt; | total &lt;dbl&gt; |\n",
       "|---|---|\n",
       "| 0.1495439 | 1.002894 |\n",
       "\n"
      ],
      "text/plain": [
       "  mrate     total   \n",
       "1 0.1495439 1.002894"
      ]
     },
     "metadata": {},
     "output_type": "display_data"
    }
   ],
   "source": [
    "fixed_data <- as.matrix(MontevideoBus[,2:ncol(MontevideoBus)])\n",
    "fixed_net_input <- GNAR::matrixtoGNAR(as.matrix(MontevideoBus_w))\n",
    "fixed_lags <- 8\n",
    "fixed_mindex <- MontevideoBus_mindex\n",
    "\n",
    "total_length <- 0\n",
    "\n",
    "for (i in seq_along(fixed_mindex)) {\n",
    "  total_length <- total_length + length(fixed_mindex[[i]])\n",
    "}\n",
    "\n",
    "rate = total_length/(length(fixed_data[,])*0.8)\n",
    "\n",
    "results_df <- data.frame(mrate = rate,\n",
    "                         mse = block_cal_mse(fixed_data, fixed_net_input, fixed_lags, fixed_mindex)[2])\n",
    "results_df"
   ]
  },
  {
   "cell_type": "code",
   "execution_count": 1502,
   "id": "1d502652-cce7-4c7d-a6ed-e92eaeeaac80",
   "metadata": {},
   "outputs": [],
   "source": [
    "results_df['dataset'] = 'MontevideoBus'\n",
    "results_df['method'] = 'GNAR'\n",
    "results_df['mtype'] = 'block'\n",
    "results_df['lags'] = fixed_lags\n",
    "results_df['nof_filters'] = NA\n",
    "results_df['inter_method'] = NA\n",
    "results_df['epoch'] = NA\n",
    "results_df['calculation_time'] = NA\n",
    "results_df['model'] = 'GNAR'\n",
    "colnames(results_df)[2] <- \"mse\"\n",
    "MontevideoBus_block_results <- results_df"
   ]
  },
  {
   "cell_type": "markdown",
   "id": "c5a1c2e9-898e-43f3-a4b7-d66d0852eeab",
   "metadata": {},
   "source": [
    "# Final Data"
   ]
  },
  {
   "cell_type": "code",
   "execution_count": 1269,
   "id": "eb7adff0-1ec3-44cf-b629-15507f3db048",
   "metadata": {},
   "outputs": [
    {
     "data": {
      "text/html": [
       "<table class=\"dataframe\">\n",
       "<caption>A data.frame: 54 × 11</caption>\n",
       "<thead>\n",
       "\t<tr><th scope=col>mrate</th><th scope=col>mse</th><th scope=col>dataset</th><th scope=col>method</th><th scope=col>mtype</th><th scope=col>lags</th><th scope=col>nof_filters</th><th scope=col>inter_method</th><th scope=col>epoch</th><th scope=col>calculation_time</th><th scope=col>model</th></tr>\n",
       "\t<tr><th scope=col>&lt;dbl&gt;</th><th scope=col>&lt;dbl&gt;</th><th scope=col>&lt;chr&gt;</th><th scope=col>&lt;chr&gt;</th><th scope=col>&lt;chr&gt;</th><th scope=col>&lt;dbl&gt;</th><th scope=col>&lt;lgl&gt;</th><th scope=col>&lt;lgl&gt;</th><th scope=col>&lt;lgl&gt;</th><th scope=col>&lt;lgl&gt;</th><th scope=col>&lt;chr&gt;</th></tr>\n",
       "</thead>\n",
       "<tbody>\n",
       "\t<tr><td>0.0</td><td>1.234698e+00</td><td>FiveVTS      </td><td>GNAR</td><td>rand</td><td>2</td><td>NA</td><td>NA</td><td>NA</td><td>NA</td><td>GNAR</td></tr>\n",
       "\t<tr><td>0.1</td><td>1.244323e+00</td><td>FiveVTS      </td><td>GNAR</td><td>rand</td><td>2</td><td>NA</td><td>NA</td><td>NA</td><td>NA</td><td>GNAR</td></tr>\n",
       "\t<tr><td>0.2</td><td>1.243565e+00</td><td>FiveVTS      </td><td>GNAR</td><td>rand</td><td>2</td><td>NA</td><td>NA</td><td>NA</td><td>NA</td><td>GNAR</td></tr>\n",
       "\t<tr><td>0.3</td><td>1.259479e+00</td><td>FiveVTS      </td><td>GNAR</td><td>rand</td><td>2</td><td>NA</td><td>NA</td><td>NA</td><td>NA</td><td>GNAR</td></tr>\n",
       "\t<tr><td>0.4</td><td>1.262327e+00</td><td>FiveVTS      </td><td>GNAR</td><td>rand</td><td>2</td><td>NA</td><td>NA</td><td>NA</td><td>NA</td><td>GNAR</td></tr>\n",
       "\t<tr><td>0.5</td><td>1.249555e+00</td><td>FiveVTS      </td><td>GNAR</td><td>rand</td><td>2</td><td>NA</td><td>NA</td><td>NA</td><td>NA</td><td>GNAR</td></tr>\n",
       "\t<tr><td>0.6</td><td>1.245251e+00</td><td>FiveVTS      </td><td>GNAR</td><td>rand</td><td>2</td><td>NA</td><td>NA</td><td>NA</td><td>NA</td><td>GNAR</td></tr>\n",
       "\t<tr><td>0.7</td><td>1.276700e+00</td><td>FiveVTS      </td><td>GNAR</td><td>rand</td><td>2</td><td>NA</td><td>NA</td><td>NA</td><td>NA</td><td>GNAR</td></tr>\n",
       "\t<tr><td>0.8</td><td>1.276700e+00</td><td>FiveVTS      </td><td>GNAR</td><td>rand</td><td>2</td><td>NA</td><td>NA</td><td>NA</td><td>NA</td><td>GNAR</td></tr>\n",
       "\t<tr><td>0.0</td><td>1.812694e+00</td><td>Chickenpox   </td><td>GNAR</td><td>rand</td><td>4</td><td>NA</td><td>NA</td><td>NA</td><td>NA</td><td>GNAR</td></tr>\n",
       "\t<tr><td>0.1</td><td>1.812344e+00</td><td>Chickenpox   </td><td>GNAR</td><td>rand</td><td>4</td><td>NA</td><td>NA</td><td>NA</td><td>NA</td><td>GNAR</td></tr>\n",
       "\t<tr><td>0.2</td><td>1.812021e+00</td><td>Chickenpox   </td><td>GNAR</td><td>rand</td><td>4</td><td>NA</td><td>NA</td><td>NA</td><td>NA</td><td>GNAR</td></tr>\n",
       "\t<tr><td>0.3</td><td>1.810589e+00</td><td>Chickenpox   </td><td>GNAR</td><td>rand</td><td>4</td><td>NA</td><td>NA</td><td>NA</td><td>NA</td><td>GNAR</td></tr>\n",
       "\t<tr><td>0.4</td><td>1.810624e+00</td><td>Chickenpox   </td><td>GNAR</td><td>rand</td><td>4</td><td>NA</td><td>NA</td><td>NA</td><td>NA</td><td>GNAR</td></tr>\n",
       "\t<tr><td>0.5</td><td>1.809810e+00</td><td>Chickenpox   </td><td>GNAR</td><td>rand</td><td>4</td><td>NA</td><td>NA</td><td>NA</td><td>NA</td><td>GNAR</td></tr>\n",
       "\t<tr><td>0.6</td><td>1.812751e+00</td><td>Chickenpox   </td><td>GNAR</td><td>rand</td><td>4</td><td>NA</td><td>NA</td><td>NA</td><td>NA</td><td>GNAR</td></tr>\n",
       "\t<tr><td>0.7</td><td>1.816503e+00</td><td>Chickenpox   </td><td>GNAR</td><td>rand</td><td>4</td><td>NA</td><td>NA</td><td>NA</td><td>NA</td><td>GNAR</td></tr>\n",
       "\t<tr><td>0.8</td><td>1.770724e+07</td><td>Chickenpox   </td><td>GNAR</td><td>rand</td><td>4</td><td>NA</td><td>NA</td><td>NA</td><td>NA</td><td>GNAR</td></tr>\n",
       "\t<tr><td>0.0</td><td>4.814888e-02</td><td>Pedalme      </td><td>GNAR</td><td>rand</td><td>4</td><td>NA</td><td>NA</td><td>NA</td><td>NA</td><td>GNAR</td></tr>\n",
       "\t<tr><td>0.1</td><td>5.657444e-02</td><td>Pedalme      </td><td>GNAR</td><td>rand</td><td>4</td><td>NA</td><td>NA</td><td>NA</td><td>NA</td><td>GNAR</td></tr>\n",
       "\t<tr><td>0.2</td><td>4.366488e-02</td><td>Pedalme      </td><td>GNAR</td><td>rand</td><td>4</td><td>NA</td><td>NA</td><td>NA</td><td>NA</td><td>GNAR</td></tr>\n",
       "\t<tr><td>0.3</td><td>4.953273e-02</td><td>Pedalme      </td><td>GNAR</td><td>rand</td><td>4</td><td>NA</td><td>NA</td><td>NA</td><td>NA</td><td>GNAR</td></tr>\n",
       "\t<tr><td>0.4</td><td>3.535602e-02</td><td>Pedalme      </td><td>GNAR</td><td>rand</td><td>4</td><td>NA</td><td>NA</td><td>NA</td><td>NA</td><td>GNAR</td></tr>\n",
       "\t<tr><td>0.5</td><td>1.933136e-01</td><td>Pedalme      </td><td>GNAR</td><td>rand</td><td>4</td><td>NA</td><td>NA</td><td>NA</td><td>NA</td><td>GNAR</td></tr>\n",
       "\t<tr><td>0.6</td><td>4.554239e-01</td><td>Pedalme      </td><td>GNAR</td><td>rand</td><td>4</td><td>NA</td><td>NA</td><td>NA</td><td>NA</td><td>GNAR</td></tr>\n",
       "\t<tr><td>0.7</td><td>3.258657e-02</td><td>Pedalme      </td><td>GNAR</td><td>rand</td><td>4</td><td>NA</td><td>NA</td><td>NA</td><td>NA</td><td>GNAR</td></tr>\n",
       "\t<tr><td>0.8</td><td>5.153976e-02</td><td>Pedalme      </td><td>GNAR</td><td>rand</td><td>4</td><td>NA</td><td>NA</td><td>NA</td><td>NA</td><td>GNAR</td></tr>\n",
       "\t<tr><td>0.0</td><td>7.320174e-01</td><td>Wikimath     </td><td>GNAR</td><td>rand</td><td>8</td><td>NA</td><td>NA</td><td>NA</td><td>NA</td><td>GNAR</td></tr>\n",
       "\t<tr><td>0.1</td><td>7.324401e-01</td><td>Wikimath     </td><td>GNAR</td><td>rand</td><td>8</td><td>NA</td><td>NA</td><td>NA</td><td>NA</td><td>GNAR</td></tr>\n",
       "\t<tr><td>0.2</td><td>7.321362e-01</td><td>Wikimath     </td><td>GNAR</td><td>rand</td><td>8</td><td>NA</td><td>NA</td><td>NA</td><td>NA</td><td>GNAR</td></tr>\n",
       "\t<tr><td>0.3</td><td>7.229894e-01</td><td>Wikimath     </td><td>GNAR</td><td>rand</td><td>8</td><td>NA</td><td>NA</td><td>NA</td><td>NA</td><td>GNAR</td></tr>\n",
       "\t<tr><td>0.4</td><td>7.293667e-01</td><td>Wikimath     </td><td>GNAR</td><td>rand</td><td>8</td><td>NA</td><td>NA</td><td>NA</td><td>NA</td><td>GNAR</td></tr>\n",
       "\t<tr><td>0.5</td><td>7.208269e-01</td><td>Wikimath     </td><td>GNAR</td><td>rand</td><td>8</td><td>NA</td><td>NA</td><td>NA</td><td>NA</td><td>GNAR</td></tr>\n",
       "\t<tr><td>0.6</td><td>7.150696e-01</td><td>Wikimath     </td><td>GNAR</td><td>rand</td><td>8</td><td>NA</td><td>NA</td><td>NA</td><td>NA</td><td>GNAR</td></tr>\n",
       "\t<tr><td>0.7</td><td>7.078671e-01</td><td>Wikimath     </td><td>GNAR</td><td>rand</td><td>8</td><td>NA</td><td>NA</td><td>NA</td><td>NA</td><td>GNAR</td></tr>\n",
       "\t<tr><td>0.8</td><td>7.508246e-01</td><td>Wikimath     </td><td>GNAR</td><td>rand</td><td>8</td><td>NA</td><td>NA</td><td>NA</td><td>NA</td><td>GNAR</td></tr>\n",
       "\t<tr><td>0.8</td><td>1.321516e+00</td><td>Windmillsmall</td><td>GNAR</td><td>rand</td><td>8</td><td>NA</td><td>NA</td><td>NA</td><td>NA</td><td>GNAR</td></tr>\n",
       "\t<tr><td>0.7</td><td>1.321516e+00</td><td>Windmillsmall</td><td>GNAR</td><td>rand</td><td>8</td><td>NA</td><td>NA</td><td>NA</td><td>NA</td><td>GNAR</td></tr>\n",
       "\t<tr><td>0.6</td><td>1.322844e+00</td><td>Windmillsmall</td><td>GNAR</td><td>rand</td><td>8</td><td>NA</td><td>NA</td><td>NA</td><td>NA</td><td>GNAR</td></tr>\n",
       "\t<tr><td>0.5</td><td>9.855608e-01</td><td>Windmillsmall</td><td>GNAR</td><td>rand</td><td>8</td><td>NA</td><td>NA</td><td>NA</td><td>NA</td><td>GNAR</td></tr>\n",
       "\t<tr><td>0.4</td><td>1.321624e+00</td><td>Windmillsmall</td><td>GNAR</td><td>rand</td><td>8</td><td>NA</td><td>NA</td><td>NA</td><td>NA</td><td>GNAR</td></tr>\n",
       "\t<tr><td>0.3</td><td>1.322505e+00</td><td>Windmillsmall</td><td>GNAR</td><td>rand</td><td>8</td><td>NA</td><td>NA</td><td>NA</td><td>NA</td><td>GNAR</td></tr>\n",
       "\t<tr><td>0.2</td><td>1.321910e+00</td><td>Windmillsmall</td><td>GNAR</td><td>rand</td><td>8</td><td>NA</td><td>NA</td><td>NA</td><td>NA</td><td>GNAR</td></tr>\n",
       "\t<tr><td>0.1</td><td>1.321979e+00</td><td>Windmillsmall</td><td>GNAR</td><td>rand</td><td>8</td><td>NA</td><td>NA</td><td>NA</td><td>NA</td><td>GNAR</td></tr>\n",
       "\t<tr><td>0.0</td><td>1.321950e+00</td><td>Windmillsmall</td><td>GNAR</td><td>rand</td><td>8</td><td>NA</td><td>NA</td><td>NA</td><td>NA</td><td>GNAR</td></tr>\n",
       "\t<tr><td>0.0</td><td>1.321950e+00</td><td>MontevideoBus</td><td>GNAR</td><td>rand</td><td>8</td><td>NA</td><td>NA</td><td>NA</td><td>NA</td><td>GNAR</td></tr>\n",
       "\t<tr><td>0.1</td><td>1.321904e+00</td><td>MontevideoBus</td><td>GNAR</td><td>rand</td><td>8</td><td>NA</td><td>NA</td><td>NA</td><td>NA</td><td>GNAR</td></tr>\n",
       "\t<tr><td>0.2</td><td>1.322024e+00</td><td>MontevideoBus</td><td>GNAR</td><td>rand</td><td>8</td><td>NA</td><td>NA</td><td>NA</td><td>NA</td><td>GNAR</td></tr>\n",
       "\t<tr><td>0.3</td><td>1.322280e+00</td><td>MontevideoBus</td><td>GNAR</td><td>rand</td><td>8</td><td>NA</td><td>NA</td><td>NA</td><td>NA</td><td>GNAR</td></tr>\n",
       "\t<tr><td>0.4</td><td>1.322159e+00</td><td>MontevideoBus</td><td>GNAR</td><td>rand</td><td>8</td><td>NA</td><td>NA</td><td>NA</td><td>NA</td><td>GNAR</td></tr>\n",
       "\t<tr><td>0.5</td><td>1.324679e+00</td><td>MontevideoBus</td><td>GNAR</td><td>rand</td><td>8</td><td>NA</td><td>NA</td><td>NA</td><td>NA</td><td>GNAR</td></tr>\n",
       "\t<tr><td>0.6</td><td>1.322054e+00</td><td>MontevideoBus</td><td>GNAR</td><td>rand</td><td>8</td><td>NA</td><td>NA</td><td>NA</td><td>NA</td><td>GNAR</td></tr>\n",
       "\t<tr><td>0.7</td><td>1.322505e+00</td><td>MontevideoBus</td><td>GNAR</td><td>rand</td><td>8</td><td>NA</td><td>NA</td><td>NA</td><td>NA</td><td>GNAR</td></tr>\n",
       "\t<tr><td>0.8</td><td>1.325000e+00</td><td>MontevideoBus</td><td>GNAR</td><td>rand</td><td>8</td><td>NA</td><td>NA</td><td>NA</td><td>NA</td><td>GNAR</td></tr>\n",
       "</tbody>\n",
       "</table>\n"
      ],
      "text/latex": [
       "A data.frame: 54 × 11\n",
       "\\begin{tabular}{lllllllllll}\n",
       " mrate & mse & dataset & method & mtype & lags & nof\\_filters & inter\\_method & epoch & calculation\\_time & model\\\\\n",
       " <dbl> & <dbl> & <chr> & <chr> & <chr> & <dbl> & <lgl> & <lgl> & <lgl> & <lgl> & <chr>\\\\\n",
       "\\hline\n",
       "\t 0.0 & 1.234698e+00 & FiveVTS       & GNAR & rand & 2 & NA & NA & NA & NA & GNAR\\\\\n",
       "\t 0.1 & 1.244323e+00 & FiveVTS       & GNAR & rand & 2 & NA & NA & NA & NA & GNAR\\\\\n",
       "\t 0.2 & 1.243565e+00 & FiveVTS       & GNAR & rand & 2 & NA & NA & NA & NA & GNAR\\\\\n",
       "\t 0.3 & 1.259479e+00 & FiveVTS       & GNAR & rand & 2 & NA & NA & NA & NA & GNAR\\\\\n",
       "\t 0.4 & 1.262327e+00 & FiveVTS       & GNAR & rand & 2 & NA & NA & NA & NA & GNAR\\\\\n",
       "\t 0.5 & 1.249555e+00 & FiveVTS       & GNAR & rand & 2 & NA & NA & NA & NA & GNAR\\\\\n",
       "\t 0.6 & 1.245251e+00 & FiveVTS       & GNAR & rand & 2 & NA & NA & NA & NA & GNAR\\\\\n",
       "\t 0.7 & 1.276700e+00 & FiveVTS       & GNAR & rand & 2 & NA & NA & NA & NA & GNAR\\\\\n",
       "\t 0.8 & 1.276700e+00 & FiveVTS       & GNAR & rand & 2 & NA & NA & NA & NA & GNAR\\\\\n",
       "\t 0.0 & 1.812694e+00 & Chickenpox    & GNAR & rand & 4 & NA & NA & NA & NA & GNAR\\\\\n",
       "\t 0.1 & 1.812344e+00 & Chickenpox    & GNAR & rand & 4 & NA & NA & NA & NA & GNAR\\\\\n",
       "\t 0.2 & 1.812021e+00 & Chickenpox    & GNAR & rand & 4 & NA & NA & NA & NA & GNAR\\\\\n",
       "\t 0.3 & 1.810589e+00 & Chickenpox    & GNAR & rand & 4 & NA & NA & NA & NA & GNAR\\\\\n",
       "\t 0.4 & 1.810624e+00 & Chickenpox    & GNAR & rand & 4 & NA & NA & NA & NA & GNAR\\\\\n",
       "\t 0.5 & 1.809810e+00 & Chickenpox    & GNAR & rand & 4 & NA & NA & NA & NA & GNAR\\\\\n",
       "\t 0.6 & 1.812751e+00 & Chickenpox    & GNAR & rand & 4 & NA & NA & NA & NA & GNAR\\\\\n",
       "\t 0.7 & 1.816503e+00 & Chickenpox    & GNAR & rand & 4 & NA & NA & NA & NA & GNAR\\\\\n",
       "\t 0.8 & 1.770724e+07 & Chickenpox    & GNAR & rand & 4 & NA & NA & NA & NA & GNAR\\\\\n",
       "\t 0.0 & 4.814888e-02 & Pedalme       & GNAR & rand & 4 & NA & NA & NA & NA & GNAR\\\\\n",
       "\t 0.1 & 5.657444e-02 & Pedalme       & GNAR & rand & 4 & NA & NA & NA & NA & GNAR\\\\\n",
       "\t 0.2 & 4.366488e-02 & Pedalme       & GNAR & rand & 4 & NA & NA & NA & NA & GNAR\\\\\n",
       "\t 0.3 & 4.953273e-02 & Pedalme       & GNAR & rand & 4 & NA & NA & NA & NA & GNAR\\\\\n",
       "\t 0.4 & 3.535602e-02 & Pedalme       & GNAR & rand & 4 & NA & NA & NA & NA & GNAR\\\\\n",
       "\t 0.5 & 1.933136e-01 & Pedalme       & GNAR & rand & 4 & NA & NA & NA & NA & GNAR\\\\\n",
       "\t 0.6 & 4.554239e-01 & Pedalme       & GNAR & rand & 4 & NA & NA & NA & NA & GNAR\\\\\n",
       "\t 0.7 & 3.258657e-02 & Pedalme       & GNAR & rand & 4 & NA & NA & NA & NA & GNAR\\\\\n",
       "\t 0.8 & 5.153976e-02 & Pedalme       & GNAR & rand & 4 & NA & NA & NA & NA & GNAR\\\\\n",
       "\t 0.0 & 7.320174e-01 & Wikimath      & GNAR & rand & 8 & NA & NA & NA & NA & GNAR\\\\\n",
       "\t 0.1 & 7.324401e-01 & Wikimath      & GNAR & rand & 8 & NA & NA & NA & NA & GNAR\\\\\n",
       "\t 0.2 & 7.321362e-01 & Wikimath      & GNAR & rand & 8 & NA & NA & NA & NA & GNAR\\\\\n",
       "\t 0.3 & 7.229894e-01 & Wikimath      & GNAR & rand & 8 & NA & NA & NA & NA & GNAR\\\\\n",
       "\t 0.4 & 7.293667e-01 & Wikimath      & GNAR & rand & 8 & NA & NA & NA & NA & GNAR\\\\\n",
       "\t 0.5 & 7.208269e-01 & Wikimath      & GNAR & rand & 8 & NA & NA & NA & NA & GNAR\\\\\n",
       "\t 0.6 & 7.150696e-01 & Wikimath      & GNAR & rand & 8 & NA & NA & NA & NA & GNAR\\\\\n",
       "\t 0.7 & 7.078671e-01 & Wikimath      & GNAR & rand & 8 & NA & NA & NA & NA & GNAR\\\\\n",
       "\t 0.8 & 7.508246e-01 & Wikimath      & GNAR & rand & 8 & NA & NA & NA & NA & GNAR\\\\\n",
       "\t 0.8 & 1.321516e+00 & Windmillsmall & GNAR & rand & 8 & NA & NA & NA & NA & GNAR\\\\\n",
       "\t 0.7 & 1.321516e+00 & Windmillsmall & GNAR & rand & 8 & NA & NA & NA & NA & GNAR\\\\\n",
       "\t 0.6 & 1.322844e+00 & Windmillsmall & GNAR & rand & 8 & NA & NA & NA & NA & GNAR\\\\\n",
       "\t 0.5 & 9.855608e-01 & Windmillsmall & GNAR & rand & 8 & NA & NA & NA & NA & GNAR\\\\\n",
       "\t 0.4 & 1.321624e+00 & Windmillsmall & GNAR & rand & 8 & NA & NA & NA & NA & GNAR\\\\\n",
       "\t 0.3 & 1.322505e+00 & Windmillsmall & GNAR & rand & 8 & NA & NA & NA & NA & GNAR\\\\\n",
       "\t 0.2 & 1.321910e+00 & Windmillsmall & GNAR & rand & 8 & NA & NA & NA & NA & GNAR\\\\\n",
       "\t 0.1 & 1.321979e+00 & Windmillsmall & GNAR & rand & 8 & NA & NA & NA & NA & GNAR\\\\\n",
       "\t 0.0 & 1.321950e+00 & Windmillsmall & GNAR & rand & 8 & NA & NA & NA & NA & GNAR\\\\\n",
       "\t 0.0 & 1.321950e+00 & MontevideoBus & GNAR & rand & 8 & NA & NA & NA & NA & GNAR\\\\\n",
       "\t 0.1 & 1.321904e+00 & MontevideoBus & GNAR & rand & 8 & NA & NA & NA & NA & GNAR\\\\\n",
       "\t 0.2 & 1.322024e+00 & MontevideoBus & GNAR & rand & 8 & NA & NA & NA & NA & GNAR\\\\\n",
       "\t 0.3 & 1.322280e+00 & MontevideoBus & GNAR & rand & 8 & NA & NA & NA & NA & GNAR\\\\\n",
       "\t 0.4 & 1.322159e+00 & MontevideoBus & GNAR & rand & 8 & NA & NA & NA & NA & GNAR\\\\\n",
       "\t 0.5 & 1.324679e+00 & MontevideoBus & GNAR & rand & 8 & NA & NA & NA & NA & GNAR\\\\\n",
       "\t 0.6 & 1.322054e+00 & MontevideoBus & GNAR & rand & 8 & NA & NA & NA & NA & GNAR\\\\\n",
       "\t 0.7 & 1.322505e+00 & MontevideoBus & GNAR & rand & 8 & NA & NA & NA & NA & GNAR\\\\\n",
       "\t 0.8 & 1.325000e+00 & MontevideoBus & GNAR & rand & 8 & NA & NA & NA & NA & GNAR\\\\\n",
       "\\end{tabular}\n"
      ],
      "text/markdown": [
       "\n",
       "A data.frame: 54 × 11\n",
       "\n",
       "| mrate &lt;dbl&gt; | mse &lt;dbl&gt; | dataset &lt;chr&gt; | method &lt;chr&gt; | mtype &lt;chr&gt; | lags &lt;dbl&gt; | nof_filters &lt;lgl&gt; | inter_method &lt;lgl&gt; | epoch &lt;lgl&gt; | calculation_time &lt;lgl&gt; | model &lt;chr&gt; |\n",
       "|---|---|---|---|---|---|---|---|---|---|---|\n",
       "| 0.0 | 1.234698e+00 | FiveVTS       | GNAR | rand | 2 | NA | NA | NA | NA | GNAR |\n",
       "| 0.1 | 1.244323e+00 | FiveVTS       | GNAR | rand | 2 | NA | NA | NA | NA | GNAR |\n",
       "| 0.2 | 1.243565e+00 | FiveVTS       | GNAR | rand | 2 | NA | NA | NA | NA | GNAR |\n",
       "| 0.3 | 1.259479e+00 | FiveVTS       | GNAR | rand | 2 | NA | NA | NA | NA | GNAR |\n",
       "| 0.4 | 1.262327e+00 | FiveVTS       | GNAR | rand | 2 | NA | NA | NA | NA | GNAR |\n",
       "| 0.5 | 1.249555e+00 | FiveVTS       | GNAR | rand | 2 | NA | NA | NA | NA | GNAR |\n",
       "| 0.6 | 1.245251e+00 | FiveVTS       | GNAR | rand | 2 | NA | NA | NA | NA | GNAR |\n",
       "| 0.7 | 1.276700e+00 | FiveVTS       | GNAR | rand | 2 | NA | NA | NA | NA | GNAR |\n",
       "| 0.8 | 1.276700e+00 | FiveVTS       | GNAR | rand | 2 | NA | NA | NA | NA | GNAR |\n",
       "| 0.0 | 1.812694e+00 | Chickenpox    | GNAR | rand | 4 | NA | NA | NA | NA | GNAR |\n",
       "| 0.1 | 1.812344e+00 | Chickenpox    | GNAR | rand | 4 | NA | NA | NA | NA | GNAR |\n",
       "| 0.2 | 1.812021e+00 | Chickenpox    | GNAR | rand | 4 | NA | NA | NA | NA | GNAR |\n",
       "| 0.3 | 1.810589e+00 | Chickenpox    | GNAR | rand | 4 | NA | NA | NA | NA | GNAR |\n",
       "| 0.4 | 1.810624e+00 | Chickenpox    | GNAR | rand | 4 | NA | NA | NA | NA | GNAR |\n",
       "| 0.5 | 1.809810e+00 | Chickenpox    | GNAR | rand | 4 | NA | NA | NA | NA | GNAR |\n",
       "| 0.6 | 1.812751e+00 | Chickenpox    | GNAR | rand | 4 | NA | NA | NA | NA | GNAR |\n",
       "| 0.7 | 1.816503e+00 | Chickenpox    | GNAR | rand | 4 | NA | NA | NA | NA | GNAR |\n",
       "| 0.8 | 1.770724e+07 | Chickenpox    | GNAR | rand | 4 | NA | NA | NA | NA | GNAR |\n",
       "| 0.0 | 4.814888e-02 | Pedalme       | GNAR | rand | 4 | NA | NA | NA | NA | GNAR |\n",
       "| 0.1 | 5.657444e-02 | Pedalme       | GNAR | rand | 4 | NA | NA | NA | NA | GNAR |\n",
       "| 0.2 | 4.366488e-02 | Pedalme       | GNAR | rand | 4 | NA | NA | NA | NA | GNAR |\n",
       "| 0.3 | 4.953273e-02 | Pedalme       | GNAR | rand | 4 | NA | NA | NA | NA | GNAR |\n",
       "| 0.4 | 3.535602e-02 | Pedalme       | GNAR | rand | 4 | NA | NA | NA | NA | GNAR |\n",
       "| 0.5 | 1.933136e-01 | Pedalme       | GNAR | rand | 4 | NA | NA | NA | NA | GNAR |\n",
       "| 0.6 | 4.554239e-01 | Pedalme       | GNAR | rand | 4 | NA | NA | NA | NA | GNAR |\n",
       "| 0.7 | 3.258657e-02 | Pedalme       | GNAR | rand | 4 | NA | NA | NA | NA | GNAR |\n",
       "| 0.8 | 5.153976e-02 | Pedalme       | GNAR | rand | 4 | NA | NA | NA | NA | GNAR |\n",
       "| 0.0 | 7.320174e-01 | Wikimath      | GNAR | rand | 8 | NA | NA | NA | NA | GNAR |\n",
       "| 0.1 | 7.324401e-01 | Wikimath      | GNAR | rand | 8 | NA | NA | NA | NA | GNAR |\n",
       "| 0.2 | 7.321362e-01 | Wikimath      | GNAR | rand | 8 | NA | NA | NA | NA | GNAR |\n",
       "| 0.3 | 7.229894e-01 | Wikimath      | GNAR | rand | 8 | NA | NA | NA | NA | GNAR |\n",
       "| 0.4 | 7.293667e-01 | Wikimath      | GNAR | rand | 8 | NA | NA | NA | NA | GNAR |\n",
       "| 0.5 | 7.208269e-01 | Wikimath      | GNAR | rand | 8 | NA | NA | NA | NA | GNAR |\n",
       "| 0.6 | 7.150696e-01 | Wikimath      | GNAR | rand | 8 | NA | NA | NA | NA | GNAR |\n",
       "| 0.7 | 7.078671e-01 | Wikimath      | GNAR | rand | 8 | NA | NA | NA | NA | GNAR |\n",
       "| 0.8 | 7.508246e-01 | Wikimath      | GNAR | rand | 8 | NA | NA | NA | NA | GNAR |\n",
       "| 0.8 | 1.321516e+00 | Windmillsmall | GNAR | rand | 8 | NA | NA | NA | NA | GNAR |\n",
       "| 0.7 | 1.321516e+00 | Windmillsmall | GNAR | rand | 8 | NA | NA | NA | NA | GNAR |\n",
       "| 0.6 | 1.322844e+00 | Windmillsmall | GNAR | rand | 8 | NA | NA | NA | NA | GNAR |\n",
       "| 0.5 | 9.855608e-01 | Windmillsmall | GNAR | rand | 8 | NA | NA | NA | NA | GNAR |\n",
       "| 0.4 | 1.321624e+00 | Windmillsmall | GNAR | rand | 8 | NA | NA | NA | NA | GNAR |\n",
       "| 0.3 | 1.322505e+00 | Windmillsmall | GNAR | rand | 8 | NA | NA | NA | NA | GNAR |\n",
       "| 0.2 | 1.321910e+00 | Windmillsmall | GNAR | rand | 8 | NA | NA | NA | NA | GNAR |\n",
       "| 0.1 | 1.321979e+00 | Windmillsmall | GNAR | rand | 8 | NA | NA | NA | NA | GNAR |\n",
       "| 0.0 | 1.321950e+00 | Windmillsmall | GNAR | rand | 8 | NA | NA | NA | NA | GNAR |\n",
       "| 0.0 | 1.321950e+00 | MontevideoBus | GNAR | rand | 8 | NA | NA | NA | NA | GNAR |\n",
       "| 0.1 | 1.321904e+00 | MontevideoBus | GNAR | rand | 8 | NA | NA | NA | NA | GNAR |\n",
       "| 0.2 | 1.322024e+00 | MontevideoBus | GNAR | rand | 8 | NA | NA | NA | NA | GNAR |\n",
       "| 0.3 | 1.322280e+00 | MontevideoBus | GNAR | rand | 8 | NA | NA | NA | NA | GNAR |\n",
       "| 0.4 | 1.322159e+00 | MontevideoBus | GNAR | rand | 8 | NA | NA | NA | NA | GNAR |\n",
       "| 0.5 | 1.324679e+00 | MontevideoBus | GNAR | rand | 8 | NA | NA | NA | NA | GNAR |\n",
       "| 0.6 | 1.322054e+00 | MontevideoBus | GNAR | rand | 8 | NA | NA | NA | NA | GNAR |\n",
       "| 0.7 | 1.322505e+00 | MontevideoBus | GNAR | rand | 8 | NA | NA | NA | NA | GNAR |\n",
       "| 0.8 | 1.325000e+00 | MontevideoBus | GNAR | rand | 8 | NA | NA | NA | NA | GNAR |\n",
       "\n"
      ],
      "text/plain": [
       "   mrate mse          dataset       method mtype lags nof_filters inter_method\n",
       "1  0.0   1.234698e+00 FiveVTS       GNAR   rand  2    NA          NA          \n",
       "2  0.1   1.244323e+00 FiveVTS       GNAR   rand  2    NA          NA          \n",
       "3  0.2   1.243565e+00 FiveVTS       GNAR   rand  2    NA          NA          \n",
       "4  0.3   1.259479e+00 FiveVTS       GNAR   rand  2    NA          NA          \n",
       "5  0.4   1.262327e+00 FiveVTS       GNAR   rand  2    NA          NA          \n",
       "6  0.5   1.249555e+00 FiveVTS       GNAR   rand  2    NA          NA          \n",
       "7  0.6   1.245251e+00 FiveVTS       GNAR   rand  2    NA          NA          \n",
       "8  0.7   1.276700e+00 FiveVTS       GNAR   rand  2    NA          NA          \n",
       "9  0.8   1.276700e+00 FiveVTS       GNAR   rand  2    NA          NA          \n",
       "10 0.0   1.812694e+00 Chickenpox    GNAR   rand  4    NA          NA          \n",
       "11 0.1   1.812344e+00 Chickenpox    GNAR   rand  4    NA          NA          \n",
       "12 0.2   1.812021e+00 Chickenpox    GNAR   rand  4    NA          NA          \n",
       "13 0.3   1.810589e+00 Chickenpox    GNAR   rand  4    NA          NA          \n",
       "14 0.4   1.810624e+00 Chickenpox    GNAR   rand  4    NA          NA          \n",
       "15 0.5   1.809810e+00 Chickenpox    GNAR   rand  4    NA          NA          \n",
       "16 0.6   1.812751e+00 Chickenpox    GNAR   rand  4    NA          NA          \n",
       "17 0.7   1.816503e+00 Chickenpox    GNAR   rand  4    NA          NA          \n",
       "18 0.8   1.770724e+07 Chickenpox    GNAR   rand  4    NA          NA          \n",
       "19 0.0   4.814888e-02 Pedalme       GNAR   rand  4    NA          NA          \n",
       "20 0.1   5.657444e-02 Pedalme       GNAR   rand  4    NA          NA          \n",
       "21 0.2   4.366488e-02 Pedalme       GNAR   rand  4    NA          NA          \n",
       "22 0.3   4.953273e-02 Pedalme       GNAR   rand  4    NA          NA          \n",
       "23 0.4   3.535602e-02 Pedalme       GNAR   rand  4    NA          NA          \n",
       "24 0.5   1.933136e-01 Pedalme       GNAR   rand  4    NA          NA          \n",
       "25 0.6   4.554239e-01 Pedalme       GNAR   rand  4    NA          NA          \n",
       "26 0.7   3.258657e-02 Pedalme       GNAR   rand  4    NA          NA          \n",
       "27 0.8   5.153976e-02 Pedalme       GNAR   rand  4    NA          NA          \n",
       "28 0.0   7.320174e-01 Wikimath      GNAR   rand  8    NA          NA          \n",
       "29 0.1   7.324401e-01 Wikimath      GNAR   rand  8    NA          NA          \n",
       "30 0.2   7.321362e-01 Wikimath      GNAR   rand  8    NA          NA          \n",
       "31 0.3   7.229894e-01 Wikimath      GNAR   rand  8    NA          NA          \n",
       "32 0.4   7.293667e-01 Wikimath      GNAR   rand  8    NA          NA          \n",
       "33 0.5   7.208269e-01 Wikimath      GNAR   rand  8    NA          NA          \n",
       "34 0.6   7.150696e-01 Wikimath      GNAR   rand  8    NA          NA          \n",
       "35 0.7   7.078671e-01 Wikimath      GNAR   rand  8    NA          NA          \n",
       "36 0.8   7.508246e-01 Wikimath      GNAR   rand  8    NA          NA          \n",
       "37 0.8   1.321516e+00 Windmillsmall GNAR   rand  8    NA          NA          \n",
       "38 0.7   1.321516e+00 Windmillsmall GNAR   rand  8    NA          NA          \n",
       "39 0.6   1.322844e+00 Windmillsmall GNAR   rand  8    NA          NA          \n",
       "40 0.5   9.855608e-01 Windmillsmall GNAR   rand  8    NA          NA          \n",
       "41 0.4   1.321624e+00 Windmillsmall GNAR   rand  8    NA          NA          \n",
       "42 0.3   1.322505e+00 Windmillsmall GNAR   rand  8    NA          NA          \n",
       "43 0.2   1.321910e+00 Windmillsmall GNAR   rand  8    NA          NA          \n",
       "44 0.1   1.321979e+00 Windmillsmall GNAR   rand  8    NA          NA          \n",
       "45 0.0   1.321950e+00 Windmillsmall GNAR   rand  8    NA          NA          \n",
       "46 0.0   1.321950e+00 MontevideoBus GNAR   rand  8    NA          NA          \n",
       "47 0.1   1.321904e+00 MontevideoBus GNAR   rand  8    NA          NA          \n",
       "48 0.2   1.322024e+00 MontevideoBus GNAR   rand  8    NA          NA          \n",
       "49 0.3   1.322280e+00 MontevideoBus GNAR   rand  8    NA          NA          \n",
       "50 0.4   1.322159e+00 MontevideoBus GNAR   rand  8    NA          NA          \n",
       "51 0.5   1.324679e+00 MontevideoBus GNAR   rand  8    NA          NA          \n",
       "52 0.6   1.322054e+00 MontevideoBus GNAR   rand  8    NA          NA          \n",
       "53 0.7   1.322505e+00 MontevideoBus GNAR   rand  8    NA          NA          \n",
       "54 0.8   1.325000e+00 MontevideoBus GNAR   rand  8    NA          NA          \n",
       "   epoch calculation_time model\n",
       "1  NA    NA               GNAR \n",
       "2  NA    NA               GNAR \n",
       "3  NA    NA               GNAR \n",
       "4  NA    NA               GNAR \n",
       "5  NA    NA               GNAR \n",
       "6  NA    NA               GNAR \n",
       "7  NA    NA               GNAR \n",
       "8  NA    NA               GNAR \n",
       "9  NA    NA               GNAR \n",
       "10 NA    NA               GNAR \n",
       "11 NA    NA               GNAR \n",
       "12 NA    NA               GNAR \n",
       "13 NA    NA               GNAR \n",
       "14 NA    NA               GNAR \n",
       "15 NA    NA               GNAR \n",
       "16 NA    NA               GNAR \n",
       "17 NA    NA               GNAR \n",
       "18 NA    NA               GNAR \n",
       "19 NA    NA               GNAR \n",
       "20 NA    NA               GNAR \n",
       "21 NA    NA               GNAR \n",
       "22 NA    NA               GNAR \n",
       "23 NA    NA               GNAR \n",
       "24 NA    NA               GNAR \n",
       "25 NA    NA               GNAR \n",
       "26 NA    NA               GNAR \n",
       "27 NA    NA               GNAR \n",
       "28 NA    NA               GNAR \n",
       "29 NA    NA               GNAR \n",
       "30 NA    NA               GNAR \n",
       "31 NA    NA               GNAR \n",
       "32 NA    NA               GNAR \n",
       "33 NA    NA               GNAR \n",
       "34 NA    NA               GNAR \n",
       "35 NA    NA               GNAR \n",
       "36 NA    NA               GNAR \n",
       "37 NA    NA               GNAR \n",
       "38 NA    NA               GNAR \n",
       "39 NA    NA               GNAR \n",
       "40 NA    NA               GNAR \n",
       "41 NA    NA               GNAR \n",
       "42 NA    NA               GNAR \n",
       "43 NA    NA               GNAR \n",
       "44 NA    NA               GNAR \n",
       "45 NA    NA               GNAR \n",
       "46 NA    NA               GNAR \n",
       "47 NA    NA               GNAR \n",
       "48 NA    NA               GNAR \n",
       "49 NA    NA               GNAR \n",
       "50 NA    NA               GNAR \n",
       "51 NA    NA               GNAR \n",
       "52 NA    NA               GNAR \n",
       "53 NA    NA               GNAR \n",
       "54 NA    NA               GNAR "
      ]
     },
     "metadata": {},
     "output_type": "display_data"
    }
   ],
   "source": [
    "rbind(FiveVTS_results,Chickenpox_results,Pedalme_results,Wikimath_results,Windmillsmall_results,MontevideoBus_results)"
   ]
  },
  {
   "cell_type": "code",
   "execution_count": 1270,
   "id": "65e3eb25-bb5d-436d-9db2-f9175a79c66f",
   "metadata": {},
   "outputs": [
    {
     "data": {
      "text/html": [
       "<table class=\"dataframe\">\n",
       "<caption>A data.frame: 6 × 11</caption>\n",
       "<thead>\n",
       "\t<tr><th scope=col>mrate</th><th scope=col>mse</th><th scope=col>dataset</th><th scope=col>method</th><th scope=col>mtype</th><th scope=col>lags</th><th scope=col>nof_filters</th><th scope=col>inter_method</th><th scope=col>epoch</th><th scope=col>calculation_time</th><th scope=col>model</th></tr>\n",
       "\t<tr><th scope=col>&lt;dbl&gt;</th><th scope=col>&lt;dbl&gt;</th><th scope=col>&lt;chr&gt;</th><th scope=col>&lt;chr&gt;</th><th scope=col>&lt;chr&gt;</th><th scope=col>&lt;dbl&gt;</th><th scope=col>&lt;lgl&gt;</th><th scope=col>&lt;lgl&gt;</th><th scope=col>&lt;lgl&gt;</th><th scope=col>&lt;lgl&gt;</th><th scope=col>&lt;chr&gt;</th></tr>\n",
       "</thead>\n",
       "<tbody>\n",
       "\t<tr><td>0.12500000</td><td>1.25466526</td><td>FiveVTS      </td><td>GNAR</td><td>block</td><td>2</td><td>NA</td><td>NA</td><td>NA</td><td>NA</td><td>GNAR</td></tr>\n",
       "\t<tr><td>0.28846154</td><td>1.81270606</td><td>Chickenpox   </td><td>GNAR</td><td>block</td><td>4</td><td>NA</td><td>NA</td><td>NA</td><td>NA</td><td>GNAR</td></tr>\n",
       "\t<tr><td>0.29411765</td><td>0.03161668</td><td>Pedalme      </td><td>GNAR</td><td>block</td><td>4</td><td>NA</td><td>NA</td><td>NA</td><td>NA</td><td>GNAR</td></tr>\n",
       "\t<tr><td>0.12024781</td><td>0.73046199</td><td>Wikimath     </td><td>GNAR</td><td>block</td><td>8</td><td>NA</td><td>NA</td><td>NA</td><td>NA</td><td>GNAR</td></tr>\n",
       "\t<tr><td>0.03252143</td><td>0.98558421</td><td>Windmillsmall</td><td>GNAR</td><td>block</td><td>8</td><td>NA</td><td>NA</td><td>NA</td><td>NA</td><td>GNAR</td></tr>\n",
       "\t<tr><td>0.14954389</td><td>1.32200400</td><td>MontevideoBus</td><td>GNAR</td><td>block</td><td>8</td><td>NA</td><td>NA</td><td>NA</td><td>NA</td><td>GNAR</td></tr>\n",
       "</tbody>\n",
       "</table>\n"
      ],
      "text/latex": [
       "A data.frame: 6 × 11\n",
       "\\begin{tabular}{lllllllllll}\n",
       " mrate & mse & dataset & method & mtype & lags & nof\\_filters & inter\\_method & epoch & calculation\\_time & model\\\\\n",
       " <dbl> & <dbl> & <chr> & <chr> & <chr> & <dbl> & <lgl> & <lgl> & <lgl> & <lgl> & <chr>\\\\\n",
       "\\hline\n",
       "\t 0.12500000 & 1.25466526 & FiveVTS       & GNAR & block & 2 & NA & NA & NA & NA & GNAR\\\\\n",
       "\t 0.28846154 & 1.81270606 & Chickenpox    & GNAR & block & 4 & NA & NA & NA & NA & GNAR\\\\\n",
       "\t 0.29411765 & 0.03161668 & Pedalme       & GNAR & block & 4 & NA & NA & NA & NA & GNAR\\\\\n",
       "\t 0.12024781 & 0.73046199 & Wikimath      & GNAR & block & 8 & NA & NA & NA & NA & GNAR\\\\\n",
       "\t 0.03252143 & 0.98558421 & Windmillsmall & GNAR & block & 8 & NA & NA & NA & NA & GNAR\\\\\n",
       "\t 0.14954389 & 1.32200400 & MontevideoBus & GNAR & block & 8 & NA & NA & NA & NA & GNAR\\\\\n",
       "\\end{tabular}\n"
      ],
      "text/markdown": [
       "\n",
       "A data.frame: 6 × 11\n",
       "\n",
       "| mrate &lt;dbl&gt; | mse &lt;dbl&gt; | dataset &lt;chr&gt; | method &lt;chr&gt; | mtype &lt;chr&gt; | lags &lt;dbl&gt; | nof_filters &lt;lgl&gt; | inter_method &lt;lgl&gt; | epoch &lt;lgl&gt; | calculation_time &lt;lgl&gt; | model &lt;chr&gt; |\n",
       "|---|---|---|---|---|---|---|---|---|---|---|\n",
       "| 0.12500000 | 1.25466526 | FiveVTS       | GNAR | block | 2 | NA | NA | NA | NA | GNAR |\n",
       "| 0.28846154 | 1.81270606 | Chickenpox    | GNAR | block | 4 | NA | NA | NA | NA | GNAR |\n",
       "| 0.29411765 | 0.03161668 | Pedalme       | GNAR | block | 4 | NA | NA | NA | NA | GNAR |\n",
       "| 0.12024781 | 0.73046199 | Wikimath      | GNAR | block | 8 | NA | NA | NA | NA | GNAR |\n",
       "| 0.03252143 | 0.98558421 | Windmillsmall | GNAR | block | 8 | NA | NA | NA | NA | GNAR |\n",
       "| 0.14954389 | 1.32200400 | MontevideoBus | GNAR | block | 8 | NA | NA | NA | NA | GNAR |\n",
       "\n"
      ],
      "text/plain": [
       "  mrate      mse        dataset       method mtype lags nof_filters\n",
       "1 0.12500000 1.25466526 FiveVTS       GNAR   block 2    NA         \n",
       "2 0.28846154 1.81270606 Chickenpox    GNAR   block 4    NA         \n",
       "3 0.29411765 0.03161668 Pedalme       GNAR   block 4    NA         \n",
       "4 0.12024781 0.73046199 Wikimath      GNAR   block 8    NA         \n",
       "5 0.03252143 0.98558421 Windmillsmall GNAR   block 8    NA         \n",
       "6 0.14954389 1.32200400 MontevideoBus GNAR   block 8    NA         \n",
       "  inter_method epoch calculation_time model\n",
       "1 NA           NA    NA               GNAR \n",
       "2 NA           NA    NA               GNAR \n",
       "3 NA           NA    NA               GNAR \n",
       "4 NA           NA    NA               GNAR \n",
       "5 NA           NA    NA               GNAR \n",
       "6 NA           NA    NA               GNAR "
      ]
     },
     "metadata": {},
     "output_type": "display_data"
    }
   ],
   "source": [
    "rbind(FiveVTS_block_results,Chickenpox_block_results,Pedalme_block_results,Wikimath_block_results,Windmillsmall_block_results,MontevideoBus_block_results)"
   ]
  },
  {
   "cell_type": "code",
   "execution_count": 1271,
   "id": "bc68953e-b42c-4bef-b3eb-b68f6c48c122",
   "metadata": {},
   "outputs": [],
   "source": [
    "final_df <- rbind(FiveVTS_results,Chickenpox_results,Pedalme_results,Wikimath_results,Windmillsmall_results,MontevideoBus_results,\n",
    "     FiveVTS_block_results,Chickenpox_block_results,Pedalme_block_results,Wikimath_block_results,Windmillsmall_block_results,MontevideoBus_block_results)"
   ]
  },
  {
   "cell_type": "code",
   "execution_count": 1272,
   "id": "7042ac1c-e786-4e4d-a081-1b73783a92f0",
   "metadata": {},
   "outputs": [],
   "source": [
    "write.csv(final_df, file = \"./R_GNAR_results.csv\", row.names = FALSE)"
   ]
  },
  {
   "cell_type": "code",
   "execution_count": null,
   "id": "bf62b062-fe71-47ea-95cc-60a8a6b6bbbb",
   "metadata": {},
   "outputs": [],
   "source": []
  },
  {
   "cell_type": "code",
   "execution_count": null,
   "id": "a6418fdf-7532-4812-8f05-798fe045a730",
   "metadata": {},
   "outputs": [],
   "source": []
  },
  {
   "cell_type": "code",
   "execution_count": null,
   "id": "1d6d970b-713f-4711-91a0-52471065441c",
   "metadata": {},
   "outputs": [],
   "source": []
  }
 ],
 "metadata": {
  "kernelspec": {
   "display_name": "R",
   "language": "R",
   "name": "ir"
  },
  "language_info": {
   "codemirror_mode": "r",
   "file_extension": ".r",
   "mimetype": "text/x-r-source",
   "name": "R",
   "pygments_lexer": "r",
   "version": "4.3.0"
  }
 },
 "nbformat": 4,
 "nbformat_minor": 5
}
