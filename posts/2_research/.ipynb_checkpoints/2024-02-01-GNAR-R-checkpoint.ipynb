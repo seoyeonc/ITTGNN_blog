{
 "cells": [
  {
   "cell_type": "raw",
   "id": "b13b0e95-72d3-42fd-b755-cf9fd011173d",
   "metadata": {
    "id": "cac470df-29e7-4148-9bbd-d8b9a32fa570",
    "tags": []
   },
   "source": [
    "---\n",
    "title: \"GNAR-R\"\n",
    "author: \"SEOYEON CHOI\"\n",
    "date: \"2024-01-28\"\n",
    "---"
   ]
  },
  {
   "cell_type": "markdown",
   "id": "de089eff-4000-4d83-a019-7cc9cd76fe3d",
   "metadata": {},
   "source": [
    "GNAR"
   ]
  },
  {
   "cell_type": "markdown",
   "id": "e938e850-d299-4360-a86c-70c12c91e0b3",
   "metadata": {},
   "source": [
    "| Model               | FiveVTS | Chickenpox | Pedalme | Wikimath | Windmillsmall | MontevideoBus |"
   ]
  },
  {
   "cell_type": "markdown",
   "id": "67eca0e6-2d81-4bdb-9514-1eb4e52e92f1",
   "metadata": {},
   "source": [
    "# Import"
   ]
  },
  {
   "cell_type": "code",
   "execution_count": 240,
   "id": "672be849-32a4-4d06-b65a-6d752b81a4ee",
   "metadata": {},
   "outputs": [],
   "source": [
    "library(GNAR)"
   ]
  },
  {
   "cell_type": "markdown",
   "id": "2bb2724c-4297-4963-a2bc-e8663b9e3286",
   "metadata": {},
   "source": [
    "# Data"
   ]
  },
  {
   "cell_type": "code",
   "execution_count": 341,
   "id": "065b640d-0860-4055-aa05-7d138166211b",
   "metadata": {},
   "outputs": [
    {
     "data": {
      "text/html": [
       "160"
      ],
      "text/latex": [
       "160"
      ],
      "text/markdown": [
       "160"
      ],
      "text/plain": [
       "[1] 160"
      ]
     },
     "metadata": {},
     "output_type": "display_data"
    }
   ],
   "source": [
    "train_ratio <- nrow(fiveVTS) * 0.8\n",
    "train_ratio"
   ]
  },
  {
   "cell_type": "code",
   "execution_count": 342,
   "id": "bdf11d9f-b9b5-41cb-a6eb-5a5b1d5f17cc",
   "metadata": {},
   "outputs": [
    {
     "data": {
      "text/html": [
       "40"
      ],
      "text/latex": [
       "40"
      ],
      "text/markdown": [
       "40"
      ],
      "text/plain": [
       "[1] 40"
      ]
     },
     "metadata": {},
     "output_type": "display_data"
    }
   ],
   "source": [
    "test_ratio <-nrow(fiveVTS) * 0.2\n",
    "test_ratio"
   ]
  },
  {
   "cell_type": "code",
   "execution_count": 343,
   "id": "a27eeb93-cad7-492e-8b30-946dffad669a",
   "metadata": {},
   "outputs": [
    {
     "data": {
      "text/html": [
       "2"
      ],
      "text/latex": [
       "2"
      ],
      "text/markdown": [
       "2"
      ],
      "text/plain": [
       "[1] 2"
      ]
     },
     "metadata": {},
     "output_type": "display_data"
    }
   ],
   "source": [
    "lags<-2\n",
    "lags"
   ]
  },
  {
   "cell_type": "code",
   "execution_count": 344,
   "id": "038f4bbf-e7b7-424e-97d4-7fd4468dbfd1",
   "metadata": {},
   "outputs": [],
   "source": [
    "fiveVTS0<-fiveVTS"
   ]
  },
  {
   "cell_type": "code",
   "execution_count": 345,
   "id": "128fe343-d963-4c2c-ad7a-5c41474e56db",
   "metadata": {},
   "outputs": [],
   "source": [
    "fiveVTS0[sample(c(1:(nrow(fiveVTS) -test_ratio-lags)), size = 0.5 * (nrow(fiveVTS) -test_ratio-lags)),1] <- NA\n",
    "fiveVTS0[sample(c(1:(nrow(fiveVTS) -test_ratio-lags)), size = 0.5 * (nrow(fiveVTS) -test_ratio-lags)),2] <- NA\n",
    "fiveVTS0[sample(c(1:(nrow(fiveVTS) -test_ratio-lags)), size = 0.5 * (nrow(fiveVTS) -test_ratio-lags)),3] <- NA\n",
    "fiveVTS0[sample(c(1:(nrow(fiveVTS) -test_ratio-lags)), size = 0.5 * (nrow(fiveVTS) -test_ratio-lags)),4] <- NA\n",
    "fiveVTS0[sample(c(1:(nrow(fiveVTS) -test_ratio-lags)), size = 0.5 * (nrow(fiveVTS) -test_ratio-lags)),5] <- NA"
   ]
  },
  {
   "cell_type": "code",
   "execution_count": 346,
   "id": "170905a5-ce47-4a6a-8964-3873f5960766",
   "metadata": {},
   "outputs": [],
   "source": [
    "nafit <- GNARfit(vts = fiveVTS0[1:160,], net = fiveNet, alphaOrder = 2, betaOrder = c(1, 1))"
   ]
  },
  {
   "cell_type": "code",
   "execution_count": 347,
   "id": "2c703b56-6a40-4be5-905c-0ebbcdeb3505",
   "metadata": {},
   "outputs": [
    {
     "data": {
      "text/html": [
       "<table class=\"dataframe\">\n",
       "<caption>A matrix: 6 × 5 of type dbl</caption>\n",
       "<thead>\n",
       "\t<tr><th scope=col>Series 1</th><th scope=col>Series 2</th><th scope=col>Series 3</th><th scope=col>Series 4</th><th scope=col>Series 5</th></tr>\n",
       "</thead>\n",
       "<tbody>\n",
       "\t<tr><td>-0.5536453</td><td> 0.34462717</td><td>-0.20782863</td><td> 0.01345721</td><td>-0.7599391</td></tr>\n",
       "\t<tr><td>-0.8354448</td><td> 0.03188536</td><td> 0.50972302</td><td>-0.20061877</td><td>-0.8862751</td></tr>\n",
       "\t<tr><td>-0.3518341</td><td> 0.15769844</td><td>-0.09215197</td><td>-0.02853914</td><td>-0.5127974</td></tr>\n",
       "\t<tr><td>-0.3475899</td><td>-0.01031764</td><td> 0.17851619</td><td>-0.09362315</td><td>-0.3903269</td></tr>\n",
       "\t<tr><td>-0.1890897</td><td> 0.06272636</td><td>-0.04571964</td><td>-0.02874207</td><td>-0.2739000</td></tr>\n",
       "\t<tr><td>-0.1575326</td><td>-0.01560075</td><td> 0.06064327</td><td>-0.04797147</td><td>-0.1832962</td></tr>\n",
       "</tbody>\n",
       "</table>\n"
      ],
      "text/latex": [
       "A matrix: 6 × 5 of type dbl\n",
       "\\begin{tabular}{lllll}\n",
       " Series 1 & Series 2 & Series 3 & Series 4 & Series 5\\\\\n",
       "\\hline\n",
       "\t -0.5536453 &  0.34462717 & -0.20782863 &  0.01345721 & -0.7599391\\\\\n",
       "\t -0.8354448 &  0.03188536 &  0.50972302 & -0.20061877 & -0.8862751\\\\\n",
       "\t -0.3518341 &  0.15769844 & -0.09215197 & -0.02853914 & -0.5127974\\\\\n",
       "\t -0.3475899 & -0.01031764 &  0.17851619 & -0.09362315 & -0.3903269\\\\\n",
       "\t -0.1890897 &  0.06272636 & -0.04571964 & -0.02874207 & -0.2739000\\\\\n",
       "\t -0.1575326 & -0.01560075 &  0.06064327 & -0.04797147 & -0.1832962\\\\\n",
       "\\end{tabular}\n"
      ],
      "text/markdown": [
       "\n",
       "A matrix: 6 × 5 of type dbl\n",
       "\n",
       "| Series 1 | Series 2 | Series 3 | Series 4 | Series 5 |\n",
       "|---|---|---|---|---|\n",
       "| -0.5536453 |  0.34462717 | -0.20782863 |  0.01345721 | -0.7599391 |\n",
       "| -0.8354448 |  0.03188536 |  0.50972302 | -0.20061877 | -0.8862751 |\n",
       "| -0.3518341 |  0.15769844 | -0.09215197 | -0.02853914 | -0.5127974 |\n",
       "| -0.3475899 | -0.01031764 |  0.17851619 | -0.09362315 | -0.3903269 |\n",
       "| -0.1890897 |  0.06272636 | -0.04571964 | -0.02874207 | -0.2739000 |\n",
       "| -0.1575326 | -0.01560075 |  0.06064327 | -0.04797147 | -0.1832962 |\n",
       "\n"
      ],
      "text/plain": [
       "     Series 1   Series 2    Series 3    Series 4    Series 5  \n",
       "[1,] -0.5536453  0.34462717 -0.20782863  0.01345721 -0.7599391\n",
       "[2,] -0.8354448  0.03188536  0.50972302 -0.20061877 -0.8862751\n",
       "[3,] -0.3518341  0.15769844 -0.09215197 -0.02853914 -0.5127974\n",
       "[4,] -0.3475899 -0.01031764  0.17851619 -0.09362315 -0.3903269\n",
       "[5,] -0.1890897  0.06272636 -0.04571964 -0.02874207 -0.2739000\n",
       "[6,] -0.1575326 -0.01560075  0.06064327 -0.04797147 -0.1832962"
      ]
     },
     "metadata": {},
     "output_type": "display_data"
    }
   ],
   "source": [
    "predict<- predict(nafit,n.ahead = 40)\n",
    "head(predict)"
   ]
  },
  {
   "cell_type": "code",
   "execution_count": 348,
   "id": "2a09df26-2e30-4181-8f16-8faa8d926317",
   "metadata": {},
   "outputs": [
    {
     "data": {
      "text/html": [
       "1.27873785453388"
      ],
      "text/latex": [
       "1.27873785453388"
      ],
      "text/markdown": [
       "1.27873785453388"
      ],
      "text/plain": [
       "[1] 1.278738"
      ]
     },
     "metadata": {},
     "output_type": "display_data"
    }
   ],
   "source": [
    "mean((predict[,1] - fiveVTS0[161:200,1])**2)"
   ]
  },
  {
   "cell_type": "markdown",
   "id": "63d0314c-1bc8-4844-bbea-b0eaa5266487",
   "metadata": {},
   "source": [
    "# function"
   ]
  },
  {
   "cell_type": "code",
   "execution_count": 517,
   "id": "f8bd3b52-4dbc-432b-96cc-1795c4cadd8c",
   "metadata": {},
   "outputs": [],
   "source": [
    "cal_mse <- function(data, net_input, lags, missing_rate) {\n",
    "      train_ratio <- floor(nrow(data) * 0.8)\n",
    "      test_ratio <- ceiling(nrow(data) * 0.2)\n",
    "      df <- data\n",
    "      num_cols <- ncol(df)\n",
    "      for (i in 1:num_cols) {\n",
    "              indices_to_replace <- sample(c(1:(nrow(df) - test_ratio - lags)), \n",
    "                                           size = missing_rate * (nrow(df) - test_ratio - lags))\n",
    "              df[indices_to_replace, i] <- NA\n",
    "            }\n",
    "      nafit <- GNARfit(vts = df[1:train_ratio,], net = net_input, alphaOrder = lags, betaOrder = rep(1, lags))\n",
    "      predict<- predict(nafit,n.ahead = test_ratio)\n",
    "      mse_result <- mean((predict[,1] - df[(train_ratio+1):nrow(df),1])**2)\n",
    "      return(mse_result)\n",
    "    }"
   ]
  },
  {
   "cell_type": "markdown",
   "id": "3e980b27-9910-4315-a528-e2d9bc0a4520",
   "metadata": {},
   "source": [
    "# fivenodes"
   ]
  },
  {
   "cell_type": "code",
   "execution_count": 716,
   "id": "0ce9881b-20ec-4db2-a177-85d4d5abaca0",
   "metadata": {},
   "outputs": [
    {
     "data": {
      "text/html": [
       "<table class=\"dataframe\">\n",
       "<caption>A data.frame: 9 × 2</caption>\n",
       "<thead>\n",
       "\t<tr><th scope=col>mrate</th><th scope=col>mse</th></tr>\n",
       "\t<tr><th scope=col>&lt;dbl&gt;</th><th scope=col>&lt;dbl&gt;</th></tr>\n",
       "</thead>\n",
       "<tbody>\n",
       "\t<tr><td>0.0</td><td>1.234698e+00</td></tr>\n",
       "\t<tr><td>0.1</td><td>1.246196e+00</td></tr>\n",
       "\t<tr><td>0.2</td><td>1.242457e+00</td></tr>\n",
       "\t<tr><td>0.3</td><td>1.253235e+00</td></tr>\n",
       "\t<tr><td>0.4</td><td>1.218357e+00</td></tr>\n",
       "\t<tr><td>0.5</td><td>1.244853e+00</td></tr>\n",
       "\t<tr><td>0.6</td><td>1.236368e+00</td></tr>\n",
       "\t<tr><td>0.7</td><td>7.328370e+12</td></tr>\n",
       "\t<tr><td>0.8</td><td>1.276700e+00</td></tr>\n",
       "</tbody>\n",
       "</table>\n"
      ],
      "text/latex": [
       "A data.frame: 9 × 2\n",
       "\\begin{tabular}{ll}\n",
       " mrate & mse\\\\\n",
       " <dbl> & <dbl>\\\\\n",
       "\\hline\n",
       "\t 0.0 & 1.234698e+00\\\\\n",
       "\t 0.1 & 1.246196e+00\\\\\n",
       "\t 0.2 & 1.242457e+00\\\\\n",
       "\t 0.3 & 1.253235e+00\\\\\n",
       "\t 0.4 & 1.218357e+00\\\\\n",
       "\t 0.5 & 1.244853e+00\\\\\n",
       "\t 0.6 & 1.236368e+00\\\\\n",
       "\t 0.7 & 7.328370e+12\\\\\n",
       "\t 0.8 & 1.276700e+00\\\\\n",
       "\\end{tabular}\n"
      ],
      "text/markdown": [
       "\n",
       "A data.frame: 9 × 2\n",
       "\n",
       "| mrate &lt;dbl&gt; | mse &lt;dbl&gt; |\n",
       "|---|---|\n",
       "| 0.0 | 1.234698e+00 |\n",
       "| 0.1 | 1.246196e+00 |\n",
       "| 0.2 | 1.242457e+00 |\n",
       "| 0.3 | 1.253235e+00 |\n",
       "| 0.4 | 1.218357e+00 |\n",
       "| 0.5 | 1.244853e+00 |\n",
       "| 0.6 | 1.236368e+00 |\n",
       "| 0.7 | 7.328370e+12 |\n",
       "| 0.8 | 1.276700e+00 |\n",
       "\n"
      ],
      "text/plain": [
       "  mrate mse         \n",
       "1 0.0   1.234698e+00\n",
       "2 0.1   1.246196e+00\n",
       "3 0.2   1.242457e+00\n",
       "4 0.3   1.253235e+00\n",
       "5 0.4   1.218357e+00\n",
       "6 0.5   1.244853e+00\n",
       "7 0.6   1.236368e+00\n",
       "8 0.7   7.328370e+12\n",
       "9 0.8   1.276700e+00"
      ]
     },
     "metadata": {},
     "output_type": "display_data"
    }
   ],
   "source": [
    "fixed_data <- fiveVTS\n",
    "fixed_net_input <- fiveNet\n",
    "fixed_lags <- 2\n",
    "\n",
    "results_df <- data.frame(mrate = numeric(),\n",
    "                         mse = numeric())\n",
    "\n",
    "missing_rates <- c(0,0.1, 0.2, 0.3, 0.4, 0.5, 0.6, 0.7, 0.8) \n",
    "\n",
    "for (rate in missing_rates) {\n",
    "  result <- cal_mse(fixed_data, fixed_net_input, fixed_lags, rate)\n",
    "  results_df <- rbind(results_df, data.frame(mrate = rate, mse = result))\n",
    "}\n",
    "results_df"
   ]
  },
  {
   "cell_type": "code",
   "execution_count": 717,
   "id": "7dc80088-9201-4db7-b3e6-70061a8c208f",
   "metadata": {},
   "outputs": [],
   "source": [
    "results_df['dataset'] = 'FiveVTS'\n",
    "results_df['method'] = 'GNAR'\n",
    "results_df['mtype'] = 'rand'\n",
    "results_df['lags'] = fixed_lags\n",
    "results_df['nof_filters'] = NA\n",
    "results_df['inter_method'] = NA\n",
    "results_df['epoch'] = NA\n",
    "results_df['calculation_time'] = NA\n",
    "results_df['model'] = 'GNAR'\n",
    "FiveVTS_results <- results_df"
   ]
  },
  {
   "cell_type": "markdown",
   "id": "574fced4-2bdf-42be-906c-ba00720f2cd1",
   "metadata": {},
   "source": [
    "# Chickenpox"
   ]
  },
  {
   "cell_type": "code",
   "execution_count": 718,
   "id": "21e4095c-b7ac-4458-996c-daa37e9d7ff6",
   "metadata": {},
   "outputs": [],
   "source": [
    "Chickenpox<-read.csv('./data/Chickenpox.csv',header = TRUE)"
   ]
  },
  {
   "cell_type": "code",
   "execution_count": 719,
   "id": "c2cc4d9a-78e0-4417-a236-4f814e834998",
   "metadata": {},
   "outputs": [],
   "source": [
    "Chickenpox_w<-read.csv('./data/Chickenpox_w.csv',header = FALSE)[2:21,2:21]"
   ]
  },
  {
   "cell_type": "code",
   "execution_count": 722,
   "id": "f24bf55e-9aa4-47ba-a265-55716cdccc7f",
   "metadata": {},
   "outputs": [
    {
     "name": "stdout",
     "output_type": "stream",
     "text": [
      "WARNING: diagonal entries present in original matrix, these will be removed\n"
     ]
    },
    {
     "data": {
      "text/html": [
       "<table class=\"dataframe\">\n",
       "<caption>A data.frame: 9 × 2</caption>\n",
       "<thead>\n",
       "\t<tr><th scope=col>mrate</th><th scope=col>mse</th></tr>\n",
       "\t<tr><th scope=col>&lt;dbl&gt;</th><th scope=col>&lt;dbl&gt;</th></tr>\n",
       "</thead>\n",
       "<tbody>\n",
       "\t<tr><td>0.0</td><td>1.812694e+00</td></tr>\n",
       "\t<tr><td>0.1</td><td>1.811929e+00</td></tr>\n",
       "\t<tr><td>0.2</td><td>1.812349e+00</td></tr>\n",
       "\t<tr><td>0.3</td><td>1.811433e+00</td></tr>\n",
       "\t<tr><td>0.4</td><td>1.813807e+00</td></tr>\n",
       "\t<tr><td>0.5</td><td>1.808769e+00</td></tr>\n",
       "\t<tr><td>0.6</td><td>1.810532e+00</td></tr>\n",
       "\t<tr><td>0.7</td><td>3.503822e+61</td></tr>\n",
       "\t<tr><td>0.8</td><td>5.849815e+17</td></tr>\n",
       "</tbody>\n",
       "</table>\n"
      ],
      "text/latex": [
       "A data.frame: 9 × 2\n",
       "\\begin{tabular}{ll}\n",
       " mrate & mse\\\\\n",
       " <dbl> & <dbl>\\\\\n",
       "\\hline\n",
       "\t 0.0 & 1.812694e+00\\\\\n",
       "\t 0.1 & 1.811929e+00\\\\\n",
       "\t 0.2 & 1.812349e+00\\\\\n",
       "\t 0.3 & 1.811433e+00\\\\\n",
       "\t 0.4 & 1.813807e+00\\\\\n",
       "\t 0.5 & 1.808769e+00\\\\\n",
       "\t 0.6 & 1.810532e+00\\\\\n",
       "\t 0.7 & 3.503822e+61\\\\\n",
       "\t 0.8 & 5.849815e+17\\\\\n",
       "\\end{tabular}\n"
      ],
      "text/markdown": [
       "\n",
       "A data.frame: 9 × 2\n",
       "\n",
       "| mrate &lt;dbl&gt; | mse &lt;dbl&gt; |\n",
       "|---|---|\n",
       "| 0.0 | 1.812694e+00 |\n",
       "| 0.1 | 1.811929e+00 |\n",
       "| 0.2 | 1.812349e+00 |\n",
       "| 0.3 | 1.811433e+00 |\n",
       "| 0.4 | 1.813807e+00 |\n",
       "| 0.5 | 1.808769e+00 |\n",
       "| 0.6 | 1.810532e+00 |\n",
       "| 0.7 | 3.503822e+61 |\n",
       "| 0.8 | 5.849815e+17 |\n",
       "\n"
      ],
      "text/plain": [
       "  mrate mse         \n",
       "1 0.0   1.812694e+00\n",
       "2 0.1   1.811929e+00\n",
       "3 0.2   1.812349e+00\n",
       "4 0.3   1.811433e+00\n",
       "5 0.4   1.813807e+00\n",
       "6 0.5   1.808769e+00\n",
       "7 0.6   1.810532e+00\n",
       "8 0.7   3.503822e+61\n",
       "9 0.8   5.849815e+17"
      ]
     },
     "metadata": {},
     "output_type": "display_data"
    }
   ],
   "source": [
    "fixed_data <- as.matrix(Chickenpox[,2:ncol(Chickenpox)])\n",
    "fixed_net_input <- GNAR::matrixtoGNAR(as.matrix(Chickenpox_w))\n",
    "fixed_lags <- 4\n",
    "\n",
    "results_df <- data.frame(mrate = numeric(),\n",
    "                         mse = numeric())\n",
    "\n",
    "missing_rates <- c(0,0.1, 0.2, 0.3, 0.4, 0.5, 0.6, 0.7, 0.8)\n",
    "\n",
    "for (rate in missing_rates) {\n",
    "  result <- cal_mse(fixed_data, fixed_net_input, fixed_lags, rate)\n",
    "  results_df <- rbind(results_df, data.frame(mrate = rate, mse = result))\n",
    "}\n",
    "results_df"
   ]
  },
  {
   "cell_type": "code",
   "execution_count": 723,
   "id": "3dd891df-94e1-49ad-b18f-c9a75a52caf1",
   "metadata": {},
   "outputs": [],
   "source": [
    "results_df['dataset'] = 'Chickenpox'\n",
    "results_df['method'] = 'GNAR'\n",
    "results_df['mtype'] = 'rand'\n",
    "results_df['lags'] = fixed_lags\n",
    "results_df['nof_filters'] = NA\n",
    "results_df['inter_method'] = NA\n",
    "results_df['epoch'] = NA\n",
    "results_df['calculation_time'] = NA\n",
    "results_df['model'] = 'GNAR'\n",
    "Chickenpox_results <- results_df"
   ]
  },
  {
   "cell_type": "markdown",
   "id": "35131ff6-fde3-4789-8e9c-3205dd389880",
   "metadata": {},
   "source": [
    "# PedalMe"
   ]
  },
  {
   "cell_type": "code",
   "execution_count": 663,
   "id": "d4a68742-a740-49f8-b49a-4c7207f3eaeb",
   "metadata": {},
   "outputs": [],
   "source": [
    "PedalMe<-read.csv('./data/PedalMe.csv',header = TRUE)"
   ]
  },
  {
   "cell_type": "code",
   "execution_count": 664,
   "id": "b498688d-9680-40c9-ada6-eef465ad31a6",
   "metadata": {},
   "outputs": [],
   "source": [
    "PedalMe_w<-read.csv('./data/PedalMe_w.csv',header = FALSE)[2:16,2:16]"
   ]
  },
  {
   "cell_type": "code",
   "execution_count": 814,
   "id": "e83d960b-872c-480e-ac4b-1f6f18393479",
   "metadata": {},
   "outputs": [
    {
     "name": "stdout",
     "output_type": "stream",
     "text": [
      "WARNING: diagonal entries present in original matrix, these will be removed\n"
     ]
    },
    {
     "ename": "ERROR",
     "evalue": "Error in vals[pvs] <- summary(object$mod)$coefficients[pvs, 1]: NAs are not allowed in subscripted assignments\n",
     "output_type": "error",
     "traceback": [
      "Error in vals[pvs] <- summary(object$mod)$coefficients[pvs, 1]: NAs are not allowed in subscripted assignments\nTraceback:\n",
      "1. cal_mse(fixed_data, fixed_net_input, fixed_lags, rate)",
      "2. predict(nafit, n.ahead = test_ratio)   # at line 12 of file <text>",
      "3. predict.GNARfit(nafit, n.ahead = test_ratio)",
      "4. simulate.GNARfit(object, nsim = n.ahead, future = TRUE, set.noise = 0, \n .     ...)"
     ]
    }
   ],
   "source": [
    "fixed_data <- as.matrix(PedalMe[,2:ncol(PedalMe)])\n",
    "fixed_net_input <- GNAR::matrixtoGNAR(as.matrix(PedalMe_w))\n",
    "fixed_lags <- 4\n",
    "\n",
    "results_df <- data.frame(mrate = numeric(),\n",
    "                         mse = numeric())\n",
    "\n",
    "missing_rates <- c(0,0.1, 0.2, 0.3, 0.4, 0.5, 0.6,0.7, 0.8) \n",
    "\n",
    "for (rate in missing_rates) {\n",
    "  result <- cal_mse(fixed_data, fixed_net_input, fixed_lags, rate)\n",
    "  results_df <- rbind(results_df, data.frame(mrate = rate, mse = result))\n",
    "}\n",
    "results_df"
   ]
  },
  {
   "cell_type": "code",
   "execution_count": 749,
   "id": "ed89cca0-fe6d-449e-bce7-b40659ac9114",
   "metadata": {},
   "outputs": [],
   "source": [
    "results_df['dataset'] = 'Pedalme'\n",
    "results_df['method'] = 'GNAR'\n",
    "results_df['mtype'] = 'rand'\n",
    "results_df['lags'] = fixed_lags\n",
    "results_df['nof_filters'] = NA\n",
    "results_df['inter_method'] = NA\n",
    "results_df['epoch'] = NA\n",
    "results_df['calculation_time'] = NA\n",
    "results_df['model'] = 'GNAR'\n",
    "Pedalme_results <- results_df"
   ]
  },
  {
   "cell_type": "markdown",
   "id": "c0e6bfea-47fb-4a36-9438-0aae60152791",
   "metadata": {},
   "source": [
    "# WikiMath"
   ]
  },
  {
   "cell_type": "code",
   "execution_count": 751,
   "id": "0e6cc4ba-a9ff-40e9-8c4c-6cad2c1eac05",
   "metadata": {},
   "outputs": [],
   "source": [
    "WikiMath <- read.csv('./data/WikiMath.csv',header = TRUE)"
   ]
  },
  {
   "cell_type": "code",
   "execution_count": 752,
   "id": "0409837a-a90e-44fa-a956-9ad22b4e2907",
   "metadata": {},
   "outputs": [],
   "source": [
    "WikiMath_w<-read.csv('./data/WikiMath_w.csv',header = FALSE)[2:1069,2:1069]"
   ]
  },
  {
   "cell_type": "code",
   "execution_count": 753,
   "id": "e307257c-89b0-497e-b50c-3b1552a1ec59",
   "metadata": {},
   "outputs": [
    {
     "data": {
      "text/html": [
       "<table class=\"dataframe\">\n",
       "<caption>A data.frame: 9 × 2</caption>\n",
       "<thead>\n",
       "\t<tr><th scope=col>mrate</th><th scope=col>mse</th></tr>\n",
       "\t<tr><th scope=col>&lt;dbl&gt;</th><th scope=col>&lt;dbl&gt;</th></tr>\n",
       "</thead>\n",
       "<tbody>\n",
       "\t<tr><td>0.0</td><td>0.7320174</td></tr>\n",
       "\t<tr><td>0.1</td><td>0.7324401</td></tr>\n",
       "\t<tr><td>0.2</td><td>0.7321362</td></tr>\n",
       "\t<tr><td>0.3</td><td>0.7229894</td></tr>\n",
       "\t<tr><td>0.4</td><td>0.7293667</td></tr>\n",
       "\t<tr><td>0.5</td><td>0.7208269</td></tr>\n",
       "\t<tr><td>0.6</td><td>0.7150696</td></tr>\n",
       "\t<tr><td>0.7</td><td>0.7078671</td></tr>\n",
       "\t<tr><td>0.8</td><td>0.7508246</td></tr>\n",
       "</tbody>\n",
       "</table>\n"
      ],
      "text/latex": [
       "A data.frame: 9 × 2\n",
       "\\begin{tabular}{ll}\n",
       " mrate & mse\\\\\n",
       " <dbl> & <dbl>\\\\\n",
       "\\hline\n",
       "\t 0.0 & 0.7320174\\\\\n",
       "\t 0.1 & 0.7324401\\\\\n",
       "\t 0.2 & 0.7321362\\\\\n",
       "\t 0.3 & 0.7229894\\\\\n",
       "\t 0.4 & 0.7293667\\\\\n",
       "\t 0.5 & 0.7208269\\\\\n",
       "\t 0.6 & 0.7150696\\\\\n",
       "\t 0.7 & 0.7078671\\\\\n",
       "\t 0.8 & 0.7508246\\\\\n",
       "\\end{tabular}\n"
      ],
      "text/markdown": [
       "\n",
       "A data.frame: 9 × 2\n",
       "\n",
       "| mrate &lt;dbl&gt; | mse &lt;dbl&gt; |\n",
       "|---|---|\n",
       "| 0.0 | 0.7320174 |\n",
       "| 0.1 | 0.7324401 |\n",
       "| 0.2 | 0.7321362 |\n",
       "| 0.3 | 0.7229894 |\n",
       "| 0.4 | 0.7293667 |\n",
       "| 0.5 | 0.7208269 |\n",
       "| 0.6 | 0.7150696 |\n",
       "| 0.7 | 0.7078671 |\n",
       "| 0.8 | 0.7508246 |\n",
       "\n"
      ],
      "text/plain": [
       "  mrate mse      \n",
       "1 0.0   0.7320174\n",
       "2 0.1   0.7324401\n",
       "3 0.2   0.7321362\n",
       "4 0.3   0.7229894\n",
       "5 0.4   0.7293667\n",
       "6 0.5   0.7208269\n",
       "7 0.6   0.7150696\n",
       "8 0.7   0.7078671\n",
       "9 0.8   0.7508246"
      ]
     },
     "metadata": {},
     "output_type": "display_data"
    }
   ],
   "source": [
    "fixed_data <- as.matrix(WikiMath[,2:ncol(WikiMath)])\n",
    "fixed_net_input <- GNAR::matrixtoGNAR(as.matrix(WikiMath_w))\n",
    "fixed_lags <- 8\n",
    "\n",
    "results_df <- data.frame(mrate = numeric(),\n",
    "                         mse = numeric())\n",
    "\n",
    "missing_rates <- c(0, 0.1, 0.2, 0.3, 0.4, 0.5, 0.6, 0.7,0.8) \n",
    "\n",
    "for (rate in missing_rates) {\n",
    "  result <- cal_mse(fixed_data, fixed_net_input, fixed_lags, rate)\n",
    "  results_df <- rbind(results_df, data.frame(mrate = rate, mse = result))\n",
    "}\n",
    "results_df"
   ]
  },
  {
   "cell_type": "code",
   "execution_count": 754,
   "id": "4c9f3f69-86d2-4ccf-913d-92a2d2f1a7f3",
   "metadata": {},
   "outputs": [],
   "source": [
    "results_df['dataset'] = 'Wikimath'\n",
    "results_df['method'] = 'GNAR'\n",
    "results_df['mtype'] = 'rand'\n",
    "results_df['lags'] = fixed_lags\n",
    "results_df['nof_filters'] = NA\n",
    "results_df['inter_method'] = NA\n",
    "results_df['epoch'] = NA\n",
    "results_df['calculation_time'] = NA\n",
    "results_df['model'] = 'GNAR'\n",
    "Wikimath_results <- results_df"
   ]
  },
  {
   "cell_type": "markdown",
   "id": "3dfd78f0-399c-435b-bba7-2204e2f818d8",
   "metadata": {},
   "source": [
    "# Windmillsmall"
   ]
  },
  {
   "cell_type": "code",
   "execution_count": 788,
   "id": "984fb82a-9e60-497c-8317-e77494b630b2",
   "metadata": {},
   "outputs": [],
   "source": [
    "Windmillsmall<-read.csv('./data/Windmillsmall.csv',header = TRUE)"
   ]
  },
  {
   "cell_type": "code",
   "execution_count": 815,
   "id": "913ff377-4620-4493-bc30-6e07e6b40018",
   "metadata": {},
   "outputs": [],
   "source": [
    "Windmillsmall_w<-read.csv('./data/Windmillsmall_w.csv',header = FALSE)[2:12,2:12]"
   ]
  },
  {
   "cell_type": "code",
   "execution_count": null,
   "id": "4f1560e6-872f-4993-a5f2-9419b01241a4",
   "metadata": {},
   "outputs": [
    {
     "name": "stdout",
     "output_type": "stream",
     "text": [
      "WARNING: diagonal entries present in original matrix, these will be removed\n"
     ]
    }
   ],
   "source": [
    "fixed_data <- as.matrix(Windmillsmall[,2:ncol(Windmillsmall)])\n",
    "fixed_net_input <- GNAR::matrixtoGNAR(as.matrix(Windmillsmall_w))\n",
    "fixed_lags <- 8\n",
    "\n",
    "results_df <- data.frame(mrate = numeric(),\n",
    "                         mse = numeric())\n",
    "\n",
    "missing_rates <- c(0,0.1, 0.2, 0.3, 0.4, 0.5, 0.6, 0.7,0.8) \n",
    "\n",
    "for (rate in missing_rates) {\n",
    "  result <- cal_mse(fixed_data, fixed_net_input, fixed_lags, rate)\n",
    "  results_df <- rbind(results_df, data.frame(mrate = rate, mse = result))\n",
    "}\n",
    "results_df"
   ]
  },
  {
   "cell_type": "code",
   "execution_count": null,
   "id": "d0d4feb8-9206-4a0a-8e74-b60cbb0efca6",
   "metadata": {},
   "outputs": [],
   "source": [
    "results_df['dataset'] = 'Windmillsmall'\n",
    "results_df['method'] = 'GNAR'\n",
    "results_df['mtype'] = 'rand'\n",
    "results_df['lags'] = fixed_lags\n",
    "results_df['nof_filters'] = NA\n",
    "results_df['inter_method'] = NA\n",
    "results_df['epoch'] = NA\n",
    "results_df['calculation_time'] = NA\n",
    "results_df['model'] = 'GNAR'\n",
    "Windmillsmall_results <- results_df"
   ]
  },
  {
   "cell_type": "code",
   "execution_count": null,
   "id": "1b68f1f9-6891-41f1-8e04-c64c630595ab",
   "metadata": {},
   "outputs": [],
   "source": [
    "rbind(FiveVTS_results,Chickenpox_results,Pedalme_results,Wikimath_results,Windmillsmall_results)"
   ]
  },
  {
   "cell_type": "code",
   "execution_count": null,
   "id": "7270c475-2131-47aa-a41a-7964827289bb",
   "metadata": {},
   "outputs": [],
   "source": [
    "MontevideoBus |"
   ]
  },
  {
   "cell_type": "code",
   "execution_count": 656,
   "id": "c438c15e-af99-43a0-afbf-ac2a81ff9649",
   "metadata": {},
   "outputs": [],
   "source": [
    "# write.csv(FiveVTS_results, file = \"./FiveVTS_results.csv\", row.names = FALSE)"
   ]
  },
  {
   "cell_type": "markdown",
   "id": "e89a7a02-db59-4a21-986b-bb0a5e2c448c",
   "metadata": {},
   "source": [
    "# Windmillsmall"
   ]
  },
  {
   "cell_type": "code",
   "execution_count": 635,
   "id": "1369de83-ec43-4b62-9b27-64dc092b9e3e",
   "metadata": {},
   "outputs": [],
   "source": [
    "MontevideoBus<-read.csv('./data/MontevideoBus.csv',header = TRUE)"
   ]
  },
  {
   "cell_type": "code",
   "execution_count": 637,
   "id": "6642a2c5-4d9e-41b1-acd1-111417d504e6",
   "metadata": {},
   "outputs": [],
   "source": [
    "MontevideoBus_w<-read.csv('./data/MontevideoBus_w.csv',header = FALSE)[2:676,2:676]"
   ]
  },
  {
   "cell_type": "code",
   "execution_count": null,
   "id": "641b42f8-5450-4f0a-8581-b0c78ddea6d9",
   "metadata": {},
   "outputs": [],
   "source": [
    "fixed_data <- as.matrix(MontevideoBus[,2:ncol(MontevideoBus)])\n",
    "fixed_net_input <- GNAR::matrixtoGNAR(as.matrix(MontevideoBus_w))\n",
    "fixed_lags <- 8\n",
    "\n",
    "results_df <- data.frame(mrate = numeric(),\n",
    "                         mse = numeric())\n",
    "\n",
    "missing_rates <- c(0,0.1, 0.2, 0.3, 0.4, 0.5, 0.6, 0.7,0.8) \n",
    "\n",
    "for (rate in missing_rates) {\n",
    "  result <- cal_mse(fixed_data, fixed_net_input, fixed_lags, rate)\n",
    "  results_df <- rbind(results_df, data.frame(mrate = rate, mse = result))\n",
    "}\n",
    "results_df"
   ]
  },
  {
   "cell_type": "code",
   "execution_count": null,
   "id": "9d98ec71-9678-4d9b-8cf2-7041be6dc51f",
   "metadata": {},
   "outputs": [],
   "source": []
  },
  {
   "cell_type": "code",
   "execution_count": null,
   "id": "bf62b062-fe71-47ea-95cc-60a8a6b6bbbb",
   "metadata": {},
   "outputs": [],
   "source": []
  },
  {
   "cell_type": "code",
   "execution_count": null,
   "id": "91d997e4-08eb-4507-ab5a-7c2c62cc5584",
   "metadata": {},
   "outputs": [],
   "source": []
  },
  {
   "cell_type": "code",
   "execution_count": null,
   "id": "a6418fdf-7532-4812-8f05-798fe045a730",
   "metadata": {},
   "outputs": [],
   "source": []
  },
  {
   "cell_type": "code",
   "execution_count": null,
   "id": "791f45cb-bb5f-4299-a36c-be41eca963f4",
   "metadata": {},
   "outputs": [],
   "source": [
    "library(jsonlite)\n",
    "\n",
    "# JSON 파일 불러오기\n",
    "data <- fromJSON(\"data.json\")"
   ]
  }
 ],
 "metadata": {
  "kernelspec": {
   "display_name": "R",
   "language": "R",
   "name": "ir"
  },
  "language_info": {
   "codemirror_mode": "r",
   "file_extension": ".r",
   "mimetype": "text/x-r-source",
   "name": "R",
   "pygments_lexer": "r",
   "version": "4.3.0"
  }
 },
 "nbformat": 4,
 "nbformat_minor": 5
}
