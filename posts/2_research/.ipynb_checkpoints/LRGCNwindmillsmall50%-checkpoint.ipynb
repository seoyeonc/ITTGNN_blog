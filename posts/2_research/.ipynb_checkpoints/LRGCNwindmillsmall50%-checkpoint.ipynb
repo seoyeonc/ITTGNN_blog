{
 "cells": [
  {
   "cell_type": "raw",
   "id": "bbd0ca3b-7f3f-4648-a6c3-fcdd22a8ebc6",
   "metadata": {
    "id": "cac470df-29e7-4148-9bbd-d8b9a32fa570",
    "tags": []
   },
   "source": [
    "---\n",
    "title: \"wikimathsmall 50% 시뮬 데이터 GConvGRU\"\n",
    "author: \"SEOYEON CHOI\"\n",
    "date: \"2024-01-28\"\n",
    "---"
   ]
  },
  {
   "cell_type": "markdown",
   "id": "3c7f6d75-5321-4a78-992e-6adce920b9fa",
   "metadata": {},
   "source": [
    "50%  \n",
    "\n",
    "wikimath\n",
    "\n",
    "- ~GConvGRU~\n",
    "- GConvLSTM\n",
    "- GCLSTM\n",
    "- LRGCN\n",
    "- DyGrEncoder\n",
    "- ~EvolveGCNH~\n",
    "- ~EvolveGCNO~\n",
    "- ~TGCN~\n",
    "- ~DCRNN~"
   ]
  },
  {
   "cell_type": "markdown",
   "id": "0039cffc-af67-4337-933a-e6e5113e62d1",
   "metadata": {},
   "source": [
    "| Model               | FiveVTS | Chickenpox | Pedalme | Wikimath | Windmillsmall | MontevideoBus |\n",
    "|---------------------|---------|------------|---------|----------|---------------|---------------|\n",
    "| Max iter.           | 30      | 30         | 30      | 30       | 30            | 30            |\n",
    "| Epochs              | 50      | 50         | 50      | 50       | 50            | 50            |\n",
    "| Lags                | 2       | 4          | 4       | 8        | 8             | 4             |\n",
    "| Interpolation       | linear  | linear     | nearest | linear   | linear        | nearest       |\n",
    "| Filters             |         |            |         |          |               |               |\n",
    "| GConvGRU            | 12      | 16         | 12      | 12       | 12            | 12            |\n",
    "| GConvLSTM           | 12      | 32         | 2       | 64       | 16            | 12            |\n",
    "| GCLSTM              | 4       | 16         | 4       | 64       | 16            | 12            |\n",
    "| LRGCN               | 4       | 8          | 8       | 32       | 12            | 2             |\n",
    "| DyGrEncoder         | 12      | 12         | 12      | 12       | 12            | 12            |\n",
    "| EvolveGCNH          | No need | No need    | No need | No need  | No need       | No need       |\n",
    "| EvolveGCNO          | No need | No need    | No need | No need  | No need       | No need       |\n",
    "| TGCN                | 12      | 12         | 12      | 12       | 12            | 8             |\n",
    "| DCRNN               | 2       | 16         | 8       | 12       | 4             | 12            |\n"
   ]
  },
  {
   "cell_type": "code",
   "execution_count": null,
   "id": "15246274-7df9-4bca-b802-1904e37661a2",
   "metadata": {},
   "outputs": [],
   "source": [
    "\n",
    "import torch\n",
    "import itstgcnLRGCN\n",
    "import itstgcnLRGCN.planner \n",
    "import pandas as pd\n",
    "\n",
    "import numpy as np\n",
    "import random"
   ]
  },
  {
   "cell_type": "code",
   "execution_count": 2,
   "id": "3141ca5f-5aec-4fa1-a0c3-60223f37c937",
   "metadata": {},
   "outputs": [],
   "source": [
    "loader6 = itstgcnGConvLSTM.load_data('./data/Windmillsmall.pkl')"
   ]
  },
  {
   "cell_type": "code",
   "execution_count": null,
   "id": "4e48bf70-30b5-4c1d-a9de-1d54dfc3ca8e",
   "metadata": {},
   "outputs": [],
   "source": [
    "plans_stgcn_rand = {\n",
    "    'max_iteration': 1, \n",
    "    'method': ['STGCN', 'IT-STGCN'],\n",
    "    'mrate': [0.8],\n",
    "    'lags': [8], \n",
    "    'nof_filters': [12], \n",
    "    'inter_method': ['linear'],\n",
    "    'epoch': [50]\n",
    "}"
   ]
  },
  {
   "cell_type": "code",
   "execution_count": null,
   "id": "1a51b76d-3069-489d-b493-82083f8ccf32",
   "metadata": {},
   "outputs": [],
   "source": [
    "plnr = itstgcnLRGCN.planner.PLNR_STGCN_RAND(plans_stgcn_rand,loader6,dataset_name='windmillsmallLRGCN')\n",
    "plnr.simulate()"
   ]
  },
  {
   "cell_type": "code",
   "execution_count": null,
   "id": "afb92a6e-0f00-418b-a0cb-9d3565177e89",
   "metadata": {},
   "outputs": [],
   "source": [
    "plnr = itstgcnLRGCN.planner.PLNR_STGCN_RAND(plans_stgcn_rand,loader6,dataset_name='windmillsmallLRGCN')\n",
    "plnr.simulate()"
   ]
  },
  {
   "cell_type": "code",
   "execution_count": null,
   "id": "d3a2463c-4ed6-4a5b-9aa4-21057c82d46e",
   "metadata": {},
   "outputs": [],
   "source": [
    "plnr = itstgcnLRGCN.planner.PLNR_STGCN_RAND(plans_stgcn_rand,loader6,dataset_name='windmillsmallLRGCN')\n",
    "plnr.simulate()"
   ]
  },
  {
   "cell_type": "code",
   "execution_count": null,
   "id": "a7fcaac2-b7c2-4a7d-8add-f56d839faeb1",
   "metadata": {},
   "outputs": [],
   "source": [
    "plnr = itstgcnLRGCN.planner.PLNR_STGCN_RAND(plans_stgcn_rand,loader6,dataset_name='windmillsmallLRGCN')\n",
    "plnr.simulate()"
   ]
  },
  {
   "cell_type": "code",
   "execution_count": null,
   "id": "783d4555-7089-4a60-8340-cc2fe6ecb94b",
   "metadata": {},
   "outputs": [],
   "source": [
    "plnr = itstgcnLRGCN.planner.PLNR_STGCN_RAND(plans_stgcn_rand,loader6,dataset_name='windmillsmallLRGCN')\n",
    "plnr.simulate()"
   ]
  },
  {
   "cell_type": "code",
   "execution_count": null,
   "id": "9413f88c-3ee0-4e45-bb9c-c23b04bfa934",
   "metadata": {},
   "outputs": [],
   "source": [
    "plnr = itstgcnLRGCN.planner.PLNR_STGCN_RAND(plans_stgcn_rand,loader6,dataset_name='windmillsmallLRGCN')\n",
    "plnr.simulate()"
   ]
  },
  {
   "cell_type": "code",
   "execution_count": null,
   "id": "cdfdb861-e43c-4768-a8b7-5fbab6f94f39",
   "metadata": {},
   "outputs": [],
   "source": [
    "plnr = itstgcnLRGCN.planner.PLNR_STGCN_RAND(plans_stgcn_rand,loader6,dataset_name='windmillsmallLRGCN')\n",
    "plnr.simulate()"
   ]
  },
  {
   "cell_type": "code",
   "execution_count": null,
   "id": "452c667e-b36a-469e-a696-4b42e684427c",
   "metadata": {},
   "outputs": [],
   "source": [
    "plnr = itstgcnLRGCN.planner.PLNR_STGCN_RAND(plans_stgcn_rand,loader6,dataset_name='windmillsmallLRGCN')\n",
    "plnr.simulate()"
   ]
  },
  {
   "cell_type": "code",
   "execution_count": null,
   "id": "45eea8b4-7ffc-49f3-aa8e-946662791757",
   "metadata": {},
   "outputs": [],
   "source": [
    "plnr = itstgcnLRGCN.planner.PLNR_STGCN_RAND(plans_stgcn_rand,loader6,dataset_name='windmillsmallLRGCN')\n",
    "plnr.simulate()"
   ]
  },
  {
   "cell_type": "code",
   "execution_count": null,
   "id": "ae4018b7-4616-454f-818b-c076bcf527fc",
   "metadata": {},
   "outputs": [],
   "source": [
    "plnr = itstgcnLRGCN.planner.PLNR_STGCN_RAND(plans_stgcn_rand,loader6,dataset_name='windmillsmallLRGCN')\n",
    "plnr.simulate()"
   ]
  },
  {
   "cell_type": "code",
   "execution_count": null,
   "id": "19dac12d-a9ed-4c64-b6f3-fefa5ec4fff4",
   "metadata": {},
   "outputs": [],
   "source": [
    "plnr = itstgcnLRGCN.planner.PLNR_STGCN_RAND(plans_stgcn_rand,loader6,dataset_name='windmillsmallLRGCN')\n",
    "plnr.simulate()"
   ]
  },
  {
   "cell_type": "code",
   "execution_count": null,
   "id": "d2880ff9-995c-4a00-90d1-403fef1c21c3",
   "metadata": {},
   "outputs": [],
   "source": [
    "plnr = itstgcnLRGCN.planner.PLNR_STGCN_RAND(plans_stgcn_rand,loader6,dataset_name='windmillsmallLRGCN')\n",
    "plnr.simulate()"
   ]
  },
  {
   "cell_type": "code",
   "execution_count": null,
   "id": "2bbd9d11-6b15-4d38-9601-d02f5f4ea1c0",
   "metadata": {},
   "outputs": [],
   "source": [
    "plnr = itstgcnLRGCN.planner.PLNR_STGCN_RAND(plans_stgcn_rand,loader6,dataset_name='windmillsmallLRGCN')\n",
    "plnr.simulate()"
   ]
  },
  {
   "cell_type": "code",
   "execution_count": null,
   "id": "c5ae7de2-541e-4bb0-89fb-ded955344f49",
   "metadata": {},
   "outputs": [],
   "source": [
    "plnr = itstgcnLRGCN.planner.PLNR_STGCN_RAND(plans_stgcn_rand,loader6,dataset_name='windmillsmallLRGCN')\n",
    "plnr.simulate()"
   ]
  },
  {
   "cell_type": "code",
   "execution_count": null,
   "id": "6bd842f5-f2d2-4503-bbcf-af10f59d1bf6",
   "metadata": {},
   "outputs": [],
   "source": [
    "plnr = itstgcnLRGCN.planner.PLNR_STGCN_RAND(plans_stgcn_rand,loader6,dataset_name='windmillsmallLRGCN')\n",
    "plnr.simulate()"
   ]
  },
  {
   "cell_type": "code",
   "execution_count": null,
   "id": "06a6774c-fb1e-47e3-9873-4e60e1bab3ab",
   "metadata": {},
   "outputs": [],
   "source": [
    "plnr = itstgcnLRGCN.planner.PLNR_STGCN_RAND(plans_stgcn_rand,loader6,dataset_name='windmillsmallLRGCN')\n",
    "plnr.simulate()"
   ]
  },
  {
   "cell_type": "code",
   "execution_count": null,
   "id": "09e8aac1-4abe-4010-8f5c-a4cff050d6b9",
   "metadata": {},
   "outputs": [],
   "source": [
    "plnr = itstgcnLRGCN.planner.PLNR_STGCN_RAND(plans_stgcn_rand,loader6,dataset_name='windmillsmallLRGCN')\n",
    "plnr.simulate()"
   ]
  },
  {
   "cell_type": "code",
   "execution_count": null,
   "id": "c2759768-2f8b-4084-88c6-43b5715f6c96",
   "metadata": {},
   "outputs": [],
   "source": [
    "plnr = itstgcnLRGCN.planner.PLNR_STGCN_RAND(plans_stgcn_rand,loader6,dataset_name='windmillsmallLRGCN')\n",
    "plnr.simulate()"
   ]
  },
  {
   "cell_type": "code",
   "execution_count": null,
   "id": "ca181a64-4dd3-4364-a8da-d4adc4e8e641",
   "metadata": {},
   "outputs": [],
   "source": [
    "plnr = itstgcnLRGCN.planner.PLNR_STGCN_RAND(plans_stgcn_rand,loader6,dataset_name='windmillsmallLRGCN')\n",
    "plnr.simulate()"
   ]
  },
  {
   "cell_type": "code",
   "execution_count": null,
   "id": "4d4fe5eb-45a2-4076-9b34-cdb7f15dc91a",
   "metadata": {},
   "outputs": [],
   "source": [
    "plnr = itstgcnLRGCN.planner.PLNR_STGCN_RAND(plans_stgcn_rand,loader6,dataset_name='windmillsmallLRGCN')\n",
    "plnr.simulate()"
   ]
  },
  {
   "cell_type": "code",
   "execution_count": null,
   "id": "9a5c764e-1b02-4770-9c57-22d2579e6c2f",
   "metadata": {},
   "outputs": [],
   "source": [
    "plnr = itstgcnLRGCN.planner.PLNR_STGCN_RAND(plans_stgcn_rand,loader6,dataset_name='windmillsmallLRGCN')\n",
    "plnr.simulate()"
   ]
  },
  {
   "cell_type": "code",
   "execution_count": null,
   "id": "76f27a9f-eb9e-4924-a539-9b7c97dfb9ee",
   "metadata": {},
   "outputs": [],
   "source": [
    "plnr = itstgcnLRGCN.planner.PLNR_STGCN_RAND(plans_stgcn_rand,loader6,dataset_name='windmillsmallLRGCN')\n",
    "plnr.simulate()"
   ]
  },
  {
   "cell_type": "code",
   "execution_count": null,
   "id": "4083971b-3ebf-4567-97ce-fa28dc00d136",
   "metadata": {},
   "outputs": [],
   "source": [
    "plnr = itstgcnLRGCN.planner.PLNR_STGCN_RAND(plans_stgcn_rand,loader6,dataset_name='windmillsmallLRGCN')\n",
    "plnr.simulate()"
   ]
  },
  {
   "cell_type": "code",
   "execution_count": null,
   "id": "1f221a39-c822-4cc4-afc4-a984120dbe37",
   "metadata": {},
   "outputs": [],
   "source": [
    "plnr = itstgcnLRGCN.planner.PLNR_STGCN_RAND(plans_stgcn_rand,loader6,dataset_name='windmillsmallLRGCN')\n",
    "plnr.simulate()"
   ]
  },
  {
   "cell_type": "code",
   "execution_count": null,
   "id": "bc1c2cab-0b78-410b-8d0b-8849aee20d5f",
   "metadata": {},
   "outputs": [],
   "source": [
    "plnr = itstgcnLRGCN.planner.PLNR_STGCN_RAND(plans_stgcn_rand,loader6,dataset_name='windmillsmallLRGCN')\n",
    "plnr.simulate()"
   ]
  },
  {
   "cell_type": "code",
   "execution_count": null,
   "id": "4b4c54e5-4539-4fc7-88d8-706a585dd031",
   "metadata": {},
   "outputs": [],
   "source": [
    "plnr = itstgcnLRGCN.planner.PLNR_STGCN_RAND(plans_stgcn_rand,loader6,dataset_name='windmillsmallLRGCN')\n",
    "plnr.simulate()"
   ]
  },
  {
   "cell_type": "code",
   "execution_count": null,
   "id": "0447e282-1db4-429b-947d-6d17819bc5c2",
   "metadata": {},
   "outputs": [],
   "source": [
    "plnr = itstgcnLRGCN.planner.PLNR_STGCN_RAND(plans_stgcn_rand,loader6,dataset_name='windmillsmallLRGCN')\n",
    "plnr.simulate()"
   ]
  },
  {
   "cell_type": "code",
   "execution_count": null,
   "id": "d36cb1c6-915d-41c2-95ca-d45c10b30e80",
   "metadata": {},
   "outputs": [],
   "source": []
  }
 ],
 "metadata": {
  "kernelspec": {
   "display_name": "Python 3",
   "language": "python",
   "name": "python3"
  },
  "language_info": {
   "codemirror_mode": {
    "name": "ipython",
    "version": 3
   },
   "file_extension": ".py",
   "mimetype": "text/x-python",
   "name": "python",
   "nbconvert_exporter": "python",
   "pygments_lexer": "ipython3",
   "version": "3.8.0"
  }
 },
 "nbformat": 4,
 "nbformat_minor": 5
}
