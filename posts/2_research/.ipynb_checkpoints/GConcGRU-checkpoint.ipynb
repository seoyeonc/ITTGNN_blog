{
 "cells": [
  {
   "cell_type": "markdown",
   "id": "8cae5e5a-3253-4915-bd93-faf669254206",
   "metadata": {},
   "source": [
    "GConcGRU"
   ]
  },
  {
   "cell_type": "code",
   "execution_count": null,
   "id": "55b65332-d8fc-44cf-a04f-26438cf1b822",
   "metadata": {},
   "outputs": [],
   "source": [
    "import itstgcn\n",
    "import torch\n",
    "import itstgcn.planner \n",
    "import pandas as pd\n",
    "\n",
    "import numpy as np\n",
    "import random"
   ]
  },
  {
   "cell_type": "code",
   "execution_count": 2,
   "id": "ed8f558d-c61b-4f3c-aa2d-131e1af04cfa",
   "metadata": {},
   "outputs": [],
   "source": [
    "loader6 = itstgcn.load_data('./data/Windmillsmall.pkl')"
   ]
  },
  {
   "cell_type": "code",
   "execution_count": 3,
   "id": "457fd95f-9a4a-46c4-8825-19ccc85f8390",
   "metadata": {},
   "outputs": [],
   "source": [
    "mindex= [list(range(4500,10000)),list(range(4500,10000)),[],list(range(4500,10000)),list(range(4500,10000)),\\\n",
    "        list(range(4500,10000)),list(range(4500,10000)),[],list(range(4500,10000)),list(range(4500,10000)),[]]\n",
    "plans_stgcn_block = {\n",
    "    'max_iteration': 1, \n",
    "    'method': ['STGCN', 'IT-STGCN'], \n",
    "    'mindex': [mindex],\n",
    "    'lags': [8], \n",
    "    'nof_filters': [12], \n",
    "    'inter_method': ['linear'],\n",
    "    'epoch': [50]\n",
    "}"
   ]
  },
  {
   "cell_type": "code",
   "execution_count": null,
   "id": "2009e447-278d-40f4-b0ba-85c3743d501e",
   "metadata": {},
   "outputs": [
    {
     "name": "stderr",
     "output_type": "stream",
     "text": [
      "/home/csy/Dropbox/ITTGNN_blog/posts/2_research/itstgcn/utils.py:71: UserWarning: Creating a tensor from a list of numpy.ndarrays is extremely slow. Please consider converting the list to a single numpy.ndarray with numpy.array() before converting to a tensor. (Triggered internally at /opt/conda/conda-bld/pytorch_1682343998658/work/torch/csrc/utils/tensor_new.cpp:245.)\n",
      "  lags = torch.tensor(train_dataset.features).shape[-1]\n"
     ]
    },
    {
     "name": "stdout",
     "output_type": "stream",
     "text": [
      "6/50\r"
     ]
    }
   ],
   "source": [
    "plnr = itstgcn.planner.PLNR_STGCN_MANUAL(plans_stgcn_block,loader6,dataset_name='sindmillsmallGConcGRU')\n",
    "plnr.simulate(mindex=mindex,mtype='block')"
   ]
  },
  {
   "cell_type": "code",
   "execution_count": null,
   "id": "9e376aea-b9d0-471f-a193-986b0adf2d71",
   "metadata": {},
   "outputs": [],
   "source": [
    "plnr = itstgcn.planner.PLNR_STGCN_MANUAL(plans_stgcn_block,loader6,dataset_name='sindmillsmallGConcGRU')\n",
    "plnr.simulate(mindex=mindex,mtype='block')"
   ]
  },
  {
   "cell_type": "code",
   "execution_count": null,
   "id": "da5bd272-bc18-4651-a714-86275793d949",
   "metadata": {},
   "outputs": [],
   "source": [
    "plnr = itstgcn.planner.PLNR_STGCN_MANUAL(plans_stgcn_block,loader6,dataset_name='sindmillsmallGConcGRU')\n",
    "plnr.simulate(mindex=mindex,mtype='block')"
   ]
  },
  {
   "cell_type": "code",
   "execution_count": null,
   "id": "119cc993-9a2e-4e97-a1e8-f6a9231740b3",
   "metadata": {},
   "outputs": [],
   "source": [
    "plnr = itstgcn.planner.PLNR_STGCN_MANUAL(plans_stgcn_block,loader6,dataset_name='sindmillsmallGConcGRU')\n",
    "plnr.simulate(mindex=mindex,mtype='block')"
   ]
  },
  {
   "cell_type": "code",
   "execution_count": null,
   "id": "95d2e940-9065-48d8-86aa-b2ec9286bdcd",
   "metadata": {},
   "outputs": [],
   "source": [
    "plnr = itstgcn.planner.PLNR_STGCN_MANUAL(plans_stgcn_block,loader6,dataset_name='sindmillsmallGConcGRU')\n",
    "plnr.simulate(mindex=mindex,mtype='block')"
   ]
  },
  {
   "cell_type": "code",
   "execution_count": null,
   "id": "bc661a84-ebce-4343-a26e-89a2ab5a2a03",
   "metadata": {},
   "outputs": [],
   "source": [
    "plnr = itstgcn.planner.PLNR_STGCN_MANUAL(plans_stgcn_block,loader6,dataset_name='sindmillsmallGConcGRU')\n",
    "plnr.simulate(mindex=mindex,mtype='block')"
   ]
  },
  {
   "cell_type": "code",
   "execution_count": null,
   "id": "fab7d85f-4708-4d5f-b198-12902168fba2",
   "metadata": {},
   "outputs": [],
   "source": [
    "plnr = itstgcn.planner.PLNR_STGCN_MANUAL(plans_stgcn_block,loader6,dataset_name='sindmillsmallGConcGRU')\n",
    "plnr.simulate(mindex=mindex,mtype='block')"
   ]
  },
  {
   "cell_type": "code",
   "execution_count": null,
   "id": "a0a9e377-6acb-457a-97dc-56cfe85ac50d",
   "metadata": {},
   "outputs": [],
   "source": [
    "plnr = itstgcn.planner.PLNR_STGCN_MANUAL(plans_stgcn_block,loader6,dataset_name='sindmillsmallGConcGRU')\n",
    "plnr.simulate(mindex=mindex,mtype='block')"
   ]
  },
  {
   "cell_type": "code",
   "execution_count": null,
   "id": "be0ba142-0410-443e-bc6a-824b3d3862d4",
   "metadata": {},
   "outputs": [],
   "source": [
    "plnr = itstgcn.planner.PLNR_STGCN_MANUAL(plans_stgcn_block,loader6,dataset_name='sindmillsmallGConcGRU')\n",
    "plnr.simulate(mindex=mindex,mtype='block')"
   ]
  },
  {
   "cell_type": "code",
   "execution_count": null,
   "id": "e8b1de12-3081-4ba4-9486-2b54ddf9f11d",
   "metadata": {},
   "outputs": [],
   "source": [
    "plnr = itstgcn.planner.PLNR_STGCN_MANUAL(plans_stgcn_block,loader6,dataset_name='sindmillsmallGConcGRU')\n",
    "plnr.simulate(mindex=mindex,mtype='block')"
   ]
  },
  {
   "cell_type": "code",
   "execution_count": null,
   "id": "3403ae1f-b015-4968-bb35-b258d084ddde",
   "metadata": {},
   "outputs": [],
   "source": [
    "plnr = itstgcn.planner.PLNR_STGCN_MANUAL(plans_stgcn_block,loader6,dataset_name='sindmillsmallGConcGRU')\n",
    "plnr.simulate(mindex=mindex,mtype='block')"
   ]
  },
  {
   "cell_type": "code",
   "execution_count": null,
   "id": "fd6425f6-2a9c-418a-b958-2bc3eb2c3e80",
   "metadata": {},
   "outputs": [],
   "source": [
    "plnr = itstgcn.planner.PLNR_STGCN_MANUAL(plans_stgcn_block,loader6,dataset_name='sindmillsmallGConcGRU')\n",
    "plnr.simulate(mindex=mindex,mtype='block')"
   ]
  },
  {
   "cell_type": "code",
   "execution_count": null,
   "id": "c3ff71f9-8ee1-4591-a539-6aa5b3e6a56c",
   "metadata": {},
   "outputs": [],
   "source": [
    "plnr = itstgcn.planner.PLNR_STGCN_MANUAL(plans_stgcn_block,loader6,dataset_name='sindmillsmallGConcGRU')\n",
    "plnr.simulate(mindex=mindex,mtype='block')"
   ]
  },
  {
   "cell_type": "code",
   "execution_count": null,
   "id": "8d77f336-1c88-4456-96e8-8657d629e56d",
   "metadata": {},
   "outputs": [],
   "source": [
    "plnr = itstgcn.planner.PLNR_STGCN_MANUAL(plans_stgcn_block,loader6,dataset_name='sindmillsmallGConcGRU')\n",
    "plnr.simulate(mindex=mindex,mtype='block')"
   ]
  },
  {
   "cell_type": "code",
   "execution_count": null,
   "id": "ada8280e-fb4e-49eb-af3e-f471dc1aec7e",
   "metadata": {},
   "outputs": [],
   "source": [
    "plnr = itstgcn.planner.PLNR_STGCN_MANUAL(plans_stgcn_block,loader6,dataset_name='sindmillsmallGConcGRU')\n",
    "plnr.simulate(mindex=mindex,mtype='block')"
   ]
  },
  {
   "cell_type": "code",
   "execution_count": null,
   "id": "3eb1137b-dc56-4b36-a884-33e47cfb216d",
   "metadata": {},
   "outputs": [],
   "source": [
    "plnr = itstgcn.planner.PLNR_STGCN_MANUAL(plans_stgcn_block,loader6,dataset_name='sindmillsmallGConcGRU')\n",
    "plnr.simulate(mindex=mindex,mtype='block')"
   ]
  },
  {
   "cell_type": "code",
   "execution_count": null,
   "id": "1774f192-13a2-4d75-8160-f71197c46723",
   "metadata": {},
   "outputs": [],
   "source": []
  },
  {
   "cell_type": "code",
   "execution_count": null,
   "id": "725e71ff-838b-4916-a9b1-682633a888ca",
   "metadata": {},
   "outputs": [],
   "source": []
  }
 ],
 "metadata": {
  "kernelspec": {
   "display_name": "Python 3",
   "language": "python",
   "name": "python3"
  },
  "language_info": {
   "codemirror_mode": {
    "name": "ipython",
    "version": 3
   },
   "file_extension": ".py",
   "mimetype": "text/x-python",
   "name": "python",
   "nbconvert_exporter": "python",
   "pygments_lexer": "ipython3",
   "version": "3.8.0"
  }
 },
 "nbformat": 4,
 "nbformat_minor": 5
}
