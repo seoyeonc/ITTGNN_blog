{
 "cells": [
  {
   "cell_type": "raw",
   "id": "43e511fe-f020-4da6-a9ca-f80abb6cddbf",
   "metadata": {
    "id": "cac470df-29e7-4148-9bbd-d8b9a32fa570",
    "tags": []
   },
   "source": [
    "---\n",
    "title: \"pedalme base check\"\n",
    "author: \"SEOYEON CHOI\"\n",
    "date: \"2024-02-02\"\n",
    "---"
   ]
  },
  {
   "cell_type": "markdown",
   "id": "dd869e37-cc32-486c-99bb-d722e174a24c",
   "metadata": {},
   "source": [
    "| Model               | FiveVTS | Chickenpox | Pedalme | Wikimath | Windmillsmall | MontevideoBus |\n",
    "|---------------------|---------|------------|---------|----------|---------------|---------------|\n",
    "| Max iter.           | 30      | 30         | 30      | 30       | 30            | 30            |\n",
    "| Epochs              | 50      | 50         | 50      | 50       | 50            | 50            |\n",
    "| Lags                | 2       | 4          | 4       | 8        | 8             | 4             |\n",
    "| Interpolation       | linear  | linear     | nearest | linear   | linear        | nearest       |\n",
    "| Filters             |         |            |         |          |               |               |\n",
    "| GConvGRU            | 12      | 16         | 12      | 12       | 12            | 12            |\n",
    "| GConvLSTM           | 12      | 32         | 2       | 64       | 16            | 12            |\n",
    "| GCLSTM              | 4       | 16         | 4       | 64       | 16            | 12            |\n",
    "| LRGCN               | 4       | 8          | 8       | 32       | 12            | 2             |\n",
    "| DyGrEncoder         | 12      | 12         | 12      | 12       | 12            | 12            |\n",
    "| EvolveGCNH          | No need | No need    | No need | No need  | No need       | No need       |\n",
    "| EvolveGCNO          | No need | No need    | No need | No need  | No need       | No need       |\n",
    "| TGCN                | 12      | 12         | 12      | 12       | 12            | 8             |\n",
    "| DCRNN               | 2       | 16         | 8       | 12       | 4             | 12            |\n"
   ]
  },
  {
   "cell_type": "code",
   "execution_count": 3,
   "id": "a44d3da8-572e-4c11-b442-b403e364be26",
   "metadata": {},
   "outputs": [],
   "source": [
    "import pandas as pd\n",
    "\n",
    "import itstgcnTGCN\n",
    "import torch\n",
    "import itstgcnTGCN.planner "
   ]
  },
  {
   "cell_type": "code",
   "execution_count": 4,
   "id": "21b18310-1cd6-45df-9448-87d8d9c8f310",
   "metadata": {},
   "outputs": [],
   "source": [
    "from torch_geometric_temporal.dataset import PedalMeDatasetLoader\n",
    "loader2 = PedalMeDatasetLoader()"
   ]
  },
  {
   "cell_type": "code",
   "execution_count": 25,
   "id": "c35be09f-1689-44ca-ac60-9fbd9a56910a",
   "metadata": {},
   "outputs": [],
   "source": [
    "plans_stgcn_rand = {\n",
    "    'max_iteration': 30, \n",
    "    'method': ['STGCN', 'IT-STGCN'],\n",
    "    'mrate': [0],\n",
    "    'lags': [4], \n",
    "    'nof_filters': [12], \n",
    "    'inter_method': ['linear'],\n",
    "    'epoch': [10]\n",
    "}"
   ]
  },
  {
   "cell_type": "code",
   "execution_count": null,
   "id": "f80ff84b-3851-4f49-b26b-0487da29798f",
   "metadata": {},
   "outputs": [],
   "source": [
    "plnr = itstgcnTGCN.planner.PLNR_STGCN_RAND(plans_stgcn_rand,loader2,dataset_name='pedalme')\n",
    "plnr.simulate()"
   ]
  },
  {
   "cell_type": "code",
   "execution_count": 28,
   "id": "e757cfb7-d7dc-40cb-9ff6-44a7bf0ecf6b",
   "metadata": {},
   "outputs": [
    {
     "data": {
      "text/html": [
       "<div>\n",
       "<style scoped>\n",
       "    .dataframe tbody tr th:only-of-type {\n",
       "        vertical-align: middle;\n",
       "    }\n",
       "\n",
       "    .dataframe tbody tr th {\n",
       "        vertical-align: top;\n",
       "    }\n",
       "\n",
       "    .dataframe thead th {\n",
       "        text-align: right;\n",
       "    }\n",
       "</style>\n",
       "<table border=\"1\" class=\"dataframe\">\n",
       "  <thead>\n",
       "    <tr style=\"text-align: right;\">\n",
       "      <th></th>\n",
       "      <th>mrate</th>\n",
       "      <th>mtype</th>\n",
       "      <th>lags</th>\n",
       "      <th>nof_filters</th>\n",
       "      <th>inter_method</th>\n",
       "      <th>epoch</th>\n",
       "      <th>mse</th>\n",
       "      <th>calculation_time</th>\n",
       "    </tr>\n",
       "    <tr>\n",
       "      <th>method</th>\n",
       "      <th></th>\n",
       "      <th></th>\n",
       "      <th></th>\n",
       "      <th></th>\n",
       "      <th></th>\n",
       "      <th></th>\n",
       "      <th></th>\n",
       "      <th></th>\n",
       "    </tr>\n",
       "  </thead>\n",
       "  <tbody>\n",
       "    <tr>\n",
       "      <th>IT-STGCN</th>\n",
       "      <td>0.0</td>\n",
       "      <td>NaN</td>\n",
       "      <td>4.0</td>\n",
       "      <td>12.0</td>\n",
       "      <td>NaN</td>\n",
       "      <td>10.0</td>\n",
       "      <td>1.225029</td>\n",
       "      <td>0.899266</td>\n",
       "    </tr>\n",
       "    <tr>\n",
       "      <th>STGCN</th>\n",
       "      <td>0.0</td>\n",
       "      <td>NaN</td>\n",
       "      <td>4.0</td>\n",
       "      <td>12.0</td>\n",
       "      <td>NaN</td>\n",
       "      <td>10.0</td>\n",
       "      <td>1.224953</td>\n",
       "      <td>0.648451</td>\n",
       "    </tr>\n",
       "  </tbody>\n",
       "</table>\n",
       "</div>"
      ],
      "text/plain": [
       "          mrate  mtype  lags  nof_filters  inter_method  epoch       mse  \\\n",
       "method                                                                     \n",
       "IT-STGCN    0.0    NaN   4.0         12.0           NaN   10.0  1.225029   \n",
       "STGCN       0.0    NaN   4.0         12.0           NaN   10.0  1.224953   \n",
       "\n",
       "          calculation_time  \n",
       "method                      \n",
       "IT-STGCN          0.899266  \n",
       "STGCN             0.648451  "
      ]
     },
     "execution_count": 28,
     "metadata": {},
     "output_type": "execute_result"
    }
   ],
   "source": [
    "pd.read_csv('./simulation_results/2024-02-04_09-48-52.csv').groupby('method').mean('mse')"
   ]
  },
  {
   "cell_type": "code",
   "execution_count": 29,
   "id": "87ba7848-5fb0-4f5c-ba21-5864faddf561",
   "metadata": {},
   "outputs": [
    {
     "data": {
      "text/html": [
       "<div>\n",
       "<style scoped>\n",
       "    .dataframe tbody tr th:only-of-type {\n",
       "        vertical-align: middle;\n",
       "    }\n",
       "\n",
       "    .dataframe tbody tr th {\n",
       "        vertical-align: top;\n",
       "    }\n",
       "\n",
       "    .dataframe thead th {\n",
       "        text-align: right;\n",
       "    }\n",
       "</style>\n",
       "<table border=\"1\" class=\"dataframe\">\n",
       "  <thead>\n",
       "    <tr style=\"text-align: right;\">\n",
       "      <th></th>\n",
       "      <th>mrate</th>\n",
       "      <th>mtype</th>\n",
       "      <th>lags</th>\n",
       "      <th>nof_filters</th>\n",
       "      <th>inter_method</th>\n",
       "      <th>epoch</th>\n",
       "      <th>mse</th>\n",
       "      <th>calculation_time</th>\n",
       "    </tr>\n",
       "    <tr>\n",
       "      <th>method</th>\n",
       "      <th></th>\n",
       "      <th></th>\n",
       "      <th></th>\n",
       "      <th></th>\n",
       "      <th></th>\n",
       "      <th></th>\n",
       "      <th></th>\n",
       "      <th></th>\n",
       "    </tr>\n",
       "  </thead>\n",
       "  <tbody>\n",
       "    <tr>\n",
       "      <th>IT-STGCN</th>\n",
       "      <td>0.0</td>\n",
       "      <td>NaN</td>\n",
       "      <td>4.0</td>\n",
       "      <td>12.0</td>\n",
       "      <td>NaN</td>\n",
       "      <td>10.0</td>\n",
       "      <td>1.23277</td>\n",
       "      <td>0.799035</td>\n",
       "    </tr>\n",
       "    <tr>\n",
       "      <th>STGCN</th>\n",
       "      <td>0.0</td>\n",
       "      <td>NaN</td>\n",
       "      <td>4.0</td>\n",
       "      <td>12.0</td>\n",
       "      <td>NaN</td>\n",
       "      <td>10.0</td>\n",
       "      <td>1.21171</td>\n",
       "      <td>0.603974</td>\n",
       "    </tr>\n",
       "  </tbody>\n",
       "</table>\n",
       "</div>"
      ],
      "text/plain": [
       "          mrate  mtype  lags  nof_filters  inter_method  epoch      mse  \\\n",
       "method                                                                    \n",
       "IT-STGCN    0.0    NaN   4.0         12.0           NaN   10.0  1.23277   \n",
       "STGCN       0.0    NaN   4.0         12.0           NaN   10.0  1.21171   \n",
       "\n",
       "          calculation_time  \n",
       "method                      \n",
       "IT-STGCN          0.799035  \n",
       "STGCN             0.603974  "
      ]
     },
     "execution_count": 29,
     "metadata": {},
     "output_type": "execute_result"
    }
   ],
   "source": [
    "pd.read_csv('./simulation_results/2024-02-04_09-46-52.csv').groupby('method').mean('mse')"
   ]
  },
  {
   "cell_type": "code",
   "execution_count": 30,
   "id": "9eeb9f98-c385-4111-bcbe-3155b70f1c30",
   "metadata": {},
   "outputs": [
    {
     "data": {
      "text/html": [
       "<div>\n",
       "<style scoped>\n",
       "    .dataframe tbody tr th:only-of-type {\n",
       "        vertical-align: middle;\n",
       "    }\n",
       "\n",
       "    .dataframe tbody tr th {\n",
       "        vertical-align: top;\n",
       "    }\n",
       "\n",
       "    .dataframe thead th {\n",
       "        text-align: right;\n",
       "    }\n",
       "</style>\n",
       "<table border=\"1\" class=\"dataframe\">\n",
       "  <thead>\n",
       "    <tr style=\"text-align: right;\">\n",
       "      <th></th>\n",
       "      <th>mrate</th>\n",
       "      <th>mtype</th>\n",
       "      <th>lags</th>\n",
       "      <th>nof_filters</th>\n",
       "      <th>inter_method</th>\n",
       "      <th>epoch</th>\n",
       "      <th>mse</th>\n",
       "      <th>calculation_time</th>\n",
       "    </tr>\n",
       "    <tr>\n",
       "      <th>method</th>\n",
       "      <th></th>\n",
       "      <th></th>\n",
       "      <th></th>\n",
       "      <th></th>\n",
       "      <th></th>\n",
       "      <th></th>\n",
       "      <th></th>\n",
       "      <th></th>\n",
       "    </tr>\n",
       "  </thead>\n",
       "  <tbody>\n",
       "    <tr>\n",
       "      <th>IT-STGCN</th>\n",
       "      <td>0.0</td>\n",
       "      <td>NaN</td>\n",
       "      <td>4.0</td>\n",
       "      <td>12.0</td>\n",
       "      <td>NaN</td>\n",
       "      <td>50.0</td>\n",
       "      <td>1.283556</td>\n",
       "      <td>3.191565</td>\n",
       "    </tr>\n",
       "    <tr>\n",
       "      <th>STGCN</th>\n",
       "      <td>0.0</td>\n",
       "      <td>NaN</td>\n",
       "      <td>4.0</td>\n",
       "      <td>12.0</td>\n",
       "      <td>NaN</td>\n",
       "      <td>50.0</td>\n",
       "      <td>1.284180</td>\n",
       "      <td>2.613369</td>\n",
       "    </tr>\n",
       "  </tbody>\n",
       "</table>\n",
       "</div>"
      ],
      "text/plain": [
       "          mrate  mtype  lags  nof_filters  inter_method  epoch       mse  \\\n",
       "method                                                                     \n",
       "IT-STGCN    0.0    NaN   4.0         12.0           NaN   50.0  1.283556   \n",
       "STGCN       0.0    NaN   4.0         12.0           NaN   50.0  1.284180   \n",
       "\n",
       "          calculation_time  \n",
       "method                      \n",
       "IT-STGCN          3.191565  \n",
       "STGCN             2.613369  "
      ]
     },
     "execution_count": 30,
     "metadata": {},
     "output_type": "execute_result"
    }
   ],
   "source": [
    "pd.read_csv('./simulation_results/2024-02-04_09-47-32.csv').groupby('method').mean('mse')"
   ]
  },
  {
   "cell_type": "code",
   "execution_count": 16,
   "id": "d8b940e1-8ccf-4f58-ab8d-b4d6d4b8b80b",
   "metadata": {},
   "outputs": [
    {
     "data": {
      "text/html": [
       "<div>\n",
       "<style scoped>\n",
       "    .dataframe tbody tr th:only-of-type {\n",
       "        vertical-align: middle;\n",
       "    }\n",
       "\n",
       "    .dataframe tbody tr th {\n",
       "        vertical-align: top;\n",
       "    }\n",
       "\n",
       "    .dataframe thead th {\n",
       "        text-align: right;\n",
       "    }\n",
       "</style>\n",
       "<table border=\"1\" class=\"dataframe\">\n",
       "  <thead>\n",
       "    <tr style=\"text-align: right;\">\n",
       "      <th></th>\n",
       "      <th>mrate</th>\n",
       "      <th>mtype</th>\n",
       "      <th>lags</th>\n",
       "      <th>nof_filters</th>\n",
       "      <th>inter_method</th>\n",
       "      <th>epoch</th>\n",
       "      <th>mse</th>\n",
       "      <th>calculation_time</th>\n",
       "    </tr>\n",
       "    <tr>\n",
       "      <th>method</th>\n",
       "      <th></th>\n",
       "      <th></th>\n",
       "      <th></th>\n",
       "      <th></th>\n",
       "      <th></th>\n",
       "      <th></th>\n",
       "      <th></th>\n",
       "      <th></th>\n",
       "    </tr>\n",
       "  </thead>\n",
       "  <tbody>\n",
       "    <tr>\n",
       "      <th>IT-STGCN</th>\n",
       "      <td>0.0</td>\n",
       "      <td>NaN</td>\n",
       "      <td>4.0</td>\n",
       "      <td>12.0</td>\n",
       "      <td>NaN</td>\n",
       "      <td>50.0</td>\n",
       "      <td>1.316835</td>\n",
       "      <td>4.958968</td>\n",
       "    </tr>\n",
       "    <tr>\n",
       "      <th>STGCN</th>\n",
       "      <td>0.0</td>\n",
       "      <td>NaN</td>\n",
       "      <td>4.0</td>\n",
       "      <td>12.0</td>\n",
       "      <td>NaN</td>\n",
       "      <td>50.0</td>\n",
       "      <td>1.271410</td>\n",
       "      <td>3.720265</td>\n",
       "    </tr>\n",
       "  </tbody>\n",
       "</table>\n",
       "</div>"
      ],
      "text/plain": [
       "          mrate  mtype  lags  nof_filters  inter_method  epoch       mse  \\\n",
       "method                                                                     \n",
       "IT-STGCN    0.0    NaN   4.0         12.0           NaN   50.0  1.316835   \n",
       "STGCN       0.0    NaN   4.0         12.0           NaN   50.0  1.271410   \n",
       "\n",
       "          calculation_time  \n",
       "method                      \n",
       "IT-STGCN          4.958968  \n",
       "STGCN             3.720265  "
      ]
     },
     "execution_count": 16,
     "metadata": {},
     "output_type": "execute_result"
    }
   ],
   "source": [
    "pd.concat([pd.read_csv('./simulation_results/2024-02-04_09-21-48.csv'),\n",
    "          pd.read_csv('./simulation_results/2024-02-04_09-26-46.csv'),\n",
    "          pd.read_csv('./simulation_results/2024-02-04_09-31-36.csv'),\n",
    "          pd.read_csv('./simulation_results/2024-02-04_09-35-13.csv'),\n",
    "          pd.read_csv('./simulation_results/2024-02-04_09-40-12.csv'),\n",
    "          ]).groupby(['method']).mean('mse')"
   ]
  },
  {
   "cell_type": "code",
   "execution_count": null,
   "id": "1871c1c2-1ad3-4e55-a9b3-8387e5178a28",
   "metadata": {},
   "outputs": [],
   "source": []
  },
  {
   "cell_type": "code",
   "execution_count": null,
   "id": "f24add8e-4853-46ac-89ea-b94532f34c9f",
   "metadata": {},
   "outputs": [],
   "source": []
  },
  {
   "cell_type": "markdown",
   "id": "fc9008d6-4bab-4a98-b5b1-ff19717a367c",
   "metadata": {},
   "source": [
    "# Check"
   ]
  },
  {
   "cell_type": "markdown",
   "id": "baebf0ba-b0ef-4561-9597-c8588445c4fa",
   "metadata": {},
   "source": [
    "---"
   ]
  },
  {
   "cell_type": "code",
   "execution_count": 32,
   "id": "489056af-7e73-44cf-9dea-81f37dbdcd25",
   "metadata": {},
   "outputs": [],
   "source": [
    "import torch_geometric_temporal"
   ]
  },
  {
   "cell_type": "code",
   "execution_count": 33,
   "id": "568c6515-4ab7-4416-baa9-13f888c64b8f",
   "metadata": {},
   "outputs": [],
   "source": [
    "dataset = loader2.get_dataset(lags=4)"
   ]
  },
  {
   "cell_type": "code",
   "execution_count": 34,
   "id": "18d8f925-6f00-47f4-8f92-f2976d66b106",
   "metadata": {},
   "outputs": [],
   "source": [
    "train_dataset, test_dataset = torch_geometric_temporal.signal.temporal_signal_split(dataset, train_ratio=0.8)"
   ]
  },
  {
   "cell_type": "code",
   "execution_count": 35,
   "id": "73c3102d-3edb-47b6-8a23-505353cbe8d6",
   "metadata": {},
   "outputs": [],
   "source": [
    "mtype = None\n",
    "inter_method = None "
   ]
  },
  {
   "cell_type": "code",
   "execution_count": 7,
   "id": "b5454568-b114-4974-8e1e-9d5c3acb7afa",
   "metadata": {},
   "outputs": [
    {
     "name": "stdout",
     "output_type": "stream",
     "text": [
      "1/1\r"
     ]
    },
    {
     "name": "stderr",
     "output_type": "stream",
     "text": [
      "/home/csy/Dropbox/ITTGNN_blog/posts/2_research/itstgcnTGCN/learners.py:84: UserWarning: Creating a tensor from a list of numpy.ndarrays is extremely slow. Please consider converting the list to a single numpy.ndarray with numpy.array() before converting to a tensor. (Triggered internally at /opt/conda/conda-bld/pytorch_1682343998658/work/torch/csrc/utils/tensor_new.cpp:245.)\n",
      "  self.lags = torch.tensor(train_dataset.features).shape[-1]\n"
     ]
    },
    {
     "data": {
      "text/plain": [
       "1.337457299232483"
      ]
     },
     "execution_count": 7,
     "metadata": {},
     "output_type": "execute_result"
    }
   ],
   "source": [
    "method = 'STGCN'\n",
    "lrnr = itstgcnTGCN.StgcnLearner(train_dataset,dataset_name='pedalme')\n",
    "lrnr.learn(filters=12,epoch=1)\n",
    "evtor = itstgcnTGCN.Evaluator(lrnr,train_dataset,test_dataset)\n",
    "evtor.calculate_mse()\n",
    "evtor.mse['test']['total']"
   ]
  },
  {
   "cell_type": "code",
   "execution_count": 8,
   "id": "f0c5c9eb-54ad-4046-bf60-ebdba07375aa",
   "metadata": {},
   "outputs": [
    {
     "name": "stdout",
     "output_type": "stream",
     "text": [
      "1/1\r"
     ]
    },
    {
     "data": {
      "text/plain": [
       "1.200137734413147"
      ]
     },
     "execution_count": 8,
     "metadata": {},
     "output_type": "execute_result"
    }
   ],
   "source": [
    "method = 'IT-STGCN'\n",
    "lrnr = itstgcnTGCN.ITStgcnLearner(train_dataset,dataset_name='pedalme')\n",
    "lrnr.learn(filters=12,epoch=1)\n",
    "evtor = itstgcnTGCN.Evaluator(lrnr,train_dataset,test_dataset)\n",
    "evtor.calculate_mse()\n",
    "evtor.mse['test']['total']"
   ]
  },
  {
   "cell_type": "markdown",
   "id": "6d07573b-d6e6-4a0d-9d3b-42b09b70cd4d",
   "metadata": {},
   "source": [
    "---"
   ]
  },
  {
   "cell_type": "code",
   "execution_count": 81,
   "id": "67b341e4-f9fc-4b15-8cbd-b66fdb88b555",
   "metadata": {},
   "outputs": [],
   "source": [
    "import itstgcnTGCN"
   ]
  },
  {
   "cell_type": "code",
   "execution_count": 82,
   "id": "994944e7-f0e3-4013-8dcc-2a730e35bcdb",
   "metadata": {},
   "outputs": [],
   "source": [
    "from torch_geometric_temporal.dataset import PedalMeDatasetLoader\n",
    "loader2 = PedalMeDatasetLoader()"
   ]
  },
  {
   "cell_type": "code",
   "execution_count": 83,
   "id": "0b42ffa2-5ccf-440f-a821-5e04eff496d7",
   "metadata": {},
   "outputs": [],
   "source": [
    "import torch_geometric_temporal"
   ]
  },
  {
   "cell_type": "code",
   "execution_count": 85,
   "id": "8e3813bf-d42b-434a-af05-ab2611219e3b",
   "metadata": {},
   "outputs": [],
   "source": [
    "dataset = loader2.get_dataset(lags=4)"
   ]
  },
  {
   "cell_type": "code",
   "execution_count": 86,
   "id": "bd76aa7e-409d-463e-b012-fca5206e475b",
   "metadata": {},
   "outputs": [],
   "source": [
    "train_dataset, test_dataset = torch_geometric_temporal.signal.temporal_signal_split(dataset, train_ratio=0.8)"
   ]
  },
  {
   "cell_type": "code",
   "execution_count": 87,
   "id": "f35e4267-ecfc-4d6d-9ae7-3c0a5d732310",
   "metadata": {},
   "outputs": [],
   "source": [
    "f,lags = itstgcnTGCN.convert_train_dataset(train_dataset)"
   ]
  },
  {
   "cell_type": "code",
   "execution_count": 94,
   "id": "1fa25d72-7aec-4b4d-9626-01985f16ba37",
   "metadata": {},
   "outputs": [],
   "source": [
    "\n",
    "from rpy2.robjects.vectors import FloatVector\n",
    "import rpy2.robjects as robjects\n",
    "from rpy2.robjects.packages import importr\n",
    "import rpy2.robjects.numpy2ri as rpyn\n",
    "GNAR = importr('GNAR') # import GNAR \n",
    "#igraph = importr('igraph') # import igraph \n",
    "\n",
    "ebayesthresh = importr('EbayesThresh').ebayesthresh"
   ]
  },
  {
   "cell_type": "code",
   "execution_count": 95,
   "id": "e43c6f28-c70a-416b-a5d2-12566994b561",
   "metadata": {},
   "outputs": [],
   "source": [
    "f = np.array(f)\n",
    "if len(f.shape)==1: f = f.reshape(-1,1)\n",
    "T,N = f.shape\n",
    "Psi = itstgcnTGCN.make_Psi(T)\n",
    "fbar = Psi.T @ f # apply dft \n",
    "fbar_threshed = np.stack([ebayesthresh(FloatVector(fbar[:,i])) for i in range(N)],axis=1)\n",
    "fhat = Psi @ fbar_threshed # inverse dft "
   ]
  },
  {
   "cell_type": "code",
   "execution_count": 100,
   "id": "3323ae04-b033-4c53-8ec0-356865b9b4f7",
   "metadata": {},
   "outputs": [
    {
     "data": {
      "text/plain": [
       "array([[0., 0., 0., 0., 0., 0., 0., 0., 0., 0., 0., 0., 0., 0., 0.],\n",
       "       [0., 0., 0., 0., 0., 0., 0., 0., 0., 0., 0., 0., 0., 0., 0.],\n",
       "       [0., 0., 0., 0., 0., 0., 0., 0., 0., 0., 0., 0., 0., 0., 0.],\n",
       "       [0., 0., 0., 0., 0., 0., 0., 0., 0., 0., 0., 0., 0., 0., 0.],\n",
       "       [0., 0., 0., 0., 0., 0., 0., 0., 0., 0., 0., 0., 0., 0., 0.],\n",
       "       [0., 0., 0., 0., 0., 0., 0., 0., 0., 0., 0., 0., 0., 0., 0.],\n",
       "       [0., 0., 0., 0., 0., 0., 0., 0., 0., 0., 0., 0., 0., 0., 0.],\n",
       "       [0., 0., 0., 0., 0., 0., 0., 0., 0., 0., 0., 0., 0., 0., 0.],\n",
       "       [0., 0., 0., 0., 0., 0., 0., 0., 0., 0., 0., 0., 0., 0., 0.],\n",
       "       [0., 0., 0., 0., 0., 0., 0., 0., 0., 0., 0., 0., 0., 0., 0.],\n",
       "       [0., 0., 0., 0., 0., 0., 0., 0., 0., 0., 0., 0., 0., 0., 0.],\n",
       "       [0., 0., 0., 0., 0., 0., 0., 0., 0., 0., 0., 0., 0., 0., 0.],\n",
       "       [0., 0., 0., 0., 0., 0., 0., 0., 0., 0., 0., 0., 0., 0., 0.],\n",
       "       [0., 0., 0., 0., 0., 0., 0., 0., 0., 0., 0., 0., 0., 0., 0.],\n",
       "       [0., 0., 0., 0., 0., 0., 0., 0., 0., 0., 0., 0., 0., 0., 0.],\n",
       "       [0., 0., 0., 0., 0., 0., 0., 0., 0., 0., 0., 0., 0., 0., 0.],\n",
       "       [0., 0., 0., 0., 0., 0., 0., 0., 0., 0., 0., 0., 0., 0., 0.],\n",
       "       [0., 0., 0., 0., 0., 0., 0., 0., 0., 0., 0., 0., 0., 0., 0.],\n",
       "       [0., 0., 0., 0., 0., 0., 0., 0., 0., 0., 0., 0., 0., 0., 0.],\n",
       "       [0., 0., 0., 0., 0., 0., 0., 0., 0., 0., 0., 0., 0., 0., 0.],\n",
       "       [0., 0., 0., 0., 0., 0., 0., 0., 0., 0., 0., 0., 0., 0., 0.],\n",
       "       [0., 0., 0., 0., 0., 0., 0., 0., 0., 0., 0., 0., 0., 0., 0.],\n",
       "       [0., 0., 0., 0., 0., 0., 0., 0., 0., 0., 0., 0., 0., 0., 0.],\n",
       "       [0., 0., 0., 0., 0., 0., 0., 0., 0., 0., 0., 0., 0., 0., 0.],\n",
       "       [0., 0., 0., 0., 0., 0., 0., 0., 0., 0., 0., 0., 0., 0., 0.],\n",
       "       [0., 0., 0., 0., 0., 0., 0., 0., 0., 0., 0., 0., 0., 0., 0.],\n",
       "       [0., 0., 0., 0., 0., 0., 0., 0., 0., 0., 0., 0., 0., 0., 0.],\n",
       "       [0., 0., 0., 0., 0., 0., 0., 0., 0., 0., 0., 0., 0., 0., 0.]])"
      ]
     },
     "execution_count": 100,
     "metadata": {},
     "output_type": "execute_result"
    }
   ],
   "source": [
    "itstgcnTGCN.update_from_freq_domain(f,None) - f"
   ]
  },
  {
   "cell_type": "markdown",
   "id": "457794f6-2363-4744-a0ff-0e03feadbd76",
   "metadata": {},
   "source": [
    "---\n",
    "                "
   ]
  },
  {
   "cell_type": "code",
   "execution_count": 51,
   "id": "22b22e5f-b8d0-422d-b374-1f422792b4b1",
   "metadata": {},
   "outputs": [],
   "source": [
    "import matplotlib.pyplot as plt"
   ]
  },
  {
   "cell_type": "code",
   "execution_count": null,
   "id": "66857d6d-74c7-4f1d-8263-92420fe32a41",
   "metadata": {},
   "outputs": [
    {
     "name": "stdout",
     "output_type": "stream",
     "text": [
      "4/400\r"
     ]
    }
   ],
   "source": [
    "train_1 = []\n",
    "test_1 = []\n",
    "train_2 = []\n",
    "test_2 = []\n",
    "for i in [1,5,10,30,40,50]:\n",
    "    method = 'STGCN'\n",
    "    lrnr = itstgcnTGCN.StgcnLearner(train_dataset,dataset_name='pedalme')\n",
    "    lrnr.learn(filters=12,epoch=i)\n",
    "    evtor = itstgcnTGCN.Evaluator(lrnr,train_dataset,test_dataset)\n",
    "    evtor.calculate_mse()\n",
    "    train_1.append(evtor.mse['train']['total'])\n",
    "    test_1.append(evtor.mse['test']['total'])\n",
    "    \n",
    "    method = 'IT-STGCN'\n",
    "    lrnr = itstgcnTGCN.StgcnLearner(train_dataset,dataset_name='pedalme')\n",
    "    lrnr.learn(filters=12,epoch=i)\n",
    "    evtor = itstgcnTGCN.Evaluator(lrnr,train_dataset,test_dataset)\n",
    "    evtor.calculate_mse()\n",
    "    train_2.append(evtor.mse['train']['total'])\n",
    "    test_2.append(evtor.mse['test']['total'])\n",
    "plt.plot(test_1, label='STGCN', marker='o')\n",
    "plt.plot(test_2, label='IT-STGCN', marker='o')\n",
    "\n",
    "plt.xlabel('Data Point Index')\n",
    "plt.xticks([0,1,2,3,4,5], ['1','5','10','30','40','50'])\n",
    "plt.ylabel('Values')\n",
    "plt.legend()\n",
    "\n",
    "# Display the plot\n",
    "plt.show()"
   ]
  },
  {
   "cell_type": "code",
   "execution_count": null,
   "id": "14a9c12b-3f46-48b5-9c78-544b96acdd24",
   "metadata": {},
   "outputs": [],
   "source": [
    "train_1 = []\n",
    "test_1 = []\n",
    "train_2 = []\n",
    "test_2 = []\n",
    "for i in [1,5,10,30,40,50]:\n",
    "    method = 'STGCN'\n",
    "    lrnr = itstgcnTGCN.StgcnLearner(train_dataset,dataset_name='pedalme')\n",
    "    lrnr.learn(filters=12,epoch=i)\n",
    "    evtor = itstgcnTGCN.Evaluator(lrnr,train_dataset,test_dataset)\n",
    "    evtor.calculate_mse()\n",
    "    train_1.append(evtor.mse['train']['total'])\n",
    "    test_1.append(evtor.mse['test']['total'])\n",
    "    \n",
    "    method = 'IT-STGCN'\n",
    "    lrnr = itstgcnTGCN.StgcnLearner(train_dataset,dataset_name='pedalme')\n",
    "    lrnr.learn(filters=12,epoch=i)\n",
    "    evtor = itstgcnTGCN.Evaluator(lrnr,train_dataset,test_dataset)\n",
    "    evtor.calculate_mse()\n",
    "    train_2.append(evtor.mse['train']['total'])\n",
    "    test_2.append(evtor.mse['test']['total'])\n",
    "plt.plot(test_1, label='STGCN', marker='o')\n",
    "plt.plot(test_2, label='IT-STGCN', marker='o')\n",
    "\n",
    "plt.xlabel('Data Point Index')\n",
    "plt.xticks([0,1,2,3,4,5], ['1','5','10','30','40','50'])\n",
    "plt.ylabel('Values')\n",
    "plt.legend()\n",
    "\n",
    "# Display the plot\n",
    "plt.show()"
   ]
  },
  {
   "cell_type": "code",
   "execution_count": null,
   "id": "78c6b67a-5b61-403d-8178-0c5e458b2714",
   "metadata": {},
   "outputs": [],
   "source": [
    "train_1 = []\n",
    "test_1 = []\n",
    "train_2 = []\n",
    "test_2 = []\n",
    "for i in [1,5,10,30,40,50]:\n",
    "    method = 'STGCN'\n",
    "    lrnr = itstgcnTGCN.StgcnLearner(train_dataset,dataset_name='pedalme')\n",
    "    lrnr.learn(filters=12,epoch=i)\n",
    "    evtor = itstgcnTGCN.Evaluator(lrnr,train_dataset,test_dataset)\n",
    "    evtor.calculate_mse()\n",
    "    train_1.append(evtor.mse['train']['total'])\n",
    "    test_1.append(evtor.mse['test']['total'])\n",
    "    \n",
    "    method = 'IT-STGCN'\n",
    "    lrnr = itstgcnTGCN.StgcnLearner(train_dataset,dataset_name='pedalme')\n",
    "    lrnr.learn(filters=12,epoch=i)\n",
    "    evtor = itstgcnTGCN.Evaluator(lrnr,train_dataset,test_dataset)\n",
    "    evtor.calculate_mse()\n",
    "    train_2.append(evtor.mse['train']['total'])\n",
    "    test_2.append(evtor.mse['test']['total'])\n",
    "plt.plot(test_1, label='STGCN', marker='o')\n",
    "plt.plot(test_2, label='IT-STGCN', marker='o')\n",
    "\n",
    "plt.xlabel('Data Point Index')\n",
    "plt.xticks([0,1,2,3,4,5], ['1','5','10','30','40','50'])\n",
    "plt.ylabel('Values')\n",
    "plt.legend()\n",
    "\n",
    "# Display the plot\n",
    "plt.show()"
   ]
  },
  {
   "cell_type": "code",
   "execution_count": null,
   "id": "8ea07ead-ed9a-4617-897b-e685b8915ea7",
   "metadata": {},
   "outputs": [],
   "source": [
    "train_1 = []\n",
    "test_1 = []\n",
    "train_2 = []\n",
    "test_2 = []\n",
    "for i in [1,5,10,30,40,50]:\n",
    "    method = 'STGCN'\n",
    "    lrnr = itstgcnTGCN.StgcnLearner(train_dataset,dataset_name='pedalme')\n",
    "    lrnr.learn(filters=12,epoch=i)\n",
    "    evtor = itstgcnTGCN.Evaluator(lrnr,train_dataset,test_dataset)\n",
    "    evtor.calculate_mse()\n",
    "    train_1.append(evtor.mse['train']['total'])\n",
    "    test_1.append(evtor.mse['test']['total'])\n",
    "    \n",
    "    method = 'IT-STGCN'\n",
    "    lrnr = itstgcnTGCN.StgcnLearner(train_dataset,dataset_name='pedalme')\n",
    "    lrnr.learn(filters=12,epoch=i)\n",
    "    evtor = itstgcnTGCN.Evaluator(lrnr,train_dataset,test_dataset)\n",
    "    evtor.calculate_mse()\n",
    "    train_2.append(evtor.mse['train']['total'])\n",
    "    test_2.append(evtor.mse['test']['total'])\n",
    "plt.plot(test_1, label='STGCN', marker='o')\n",
    "plt.plot(test_2, label='IT-STGCN', marker='o')\n",
    "\n",
    "plt.xlabel('Data Point Index')\n",
    "plt.xticks([0,1,2,3,4,5], ['1','5','10','30','40','50'])\n",
    "plt.ylabel('Values')\n",
    "plt.legend()\n",
    "\n",
    "# Display the plot\n",
    "plt.show()"
   ]
  },
  {
   "cell_type": "code",
   "execution_count": null,
   "id": "645203d9-348b-44b2-a7b3-d9de726b2854",
   "metadata": {},
   "outputs": [],
   "source": []
  },
  {
   "cell_type": "code",
   "execution_count": null,
   "id": "bcd79bf9-e750-41ac-b703-706fa6a9b1b7",
   "metadata": {},
   "outputs": [],
   "source": []
  }
 ],
 "metadata": {
  "kernelspec": {
   "display_name": "Python 3",
   "language": "python",
   "name": "python3"
  },
  "language_info": {
   "codemirror_mode": {
    "name": "ipython",
    "version": 3
   },
   "file_extension": ".py",
   "mimetype": "text/x-python",
   "name": "python",
   "nbconvert_exporter": "python",
   "pygments_lexer": "ipython3",
   "version": "3.8.0"
  }
 },
 "nbformat": 4,
 "nbformat_minor": 5
}
