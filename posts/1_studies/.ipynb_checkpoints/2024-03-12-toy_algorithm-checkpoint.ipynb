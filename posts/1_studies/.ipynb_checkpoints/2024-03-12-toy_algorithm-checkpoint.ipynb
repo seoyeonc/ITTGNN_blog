{
 "cells": [
  {
   "cell_type": "raw",
   "id": "9701c85c-527b-4d09-91e9-8736f944cc48",
   "metadata": {
    "id": "cac470df-29e7-4148-9bbd-d8b9a32fa570",
    "tags": []
   },
   "source": [
    "---\n",
    "title: \"Toy example / Algorithm\"\n",
    "author: \"SEOYEON CHOI\"\n",
    "date: \"2024-03-12\"\n",
    "---"
   ]
  },
  {
   "cell_type": "markdown",
   "id": "d9abbd66-e609-4071-b8d8-3140629bad48",
   "metadata": {},
   "source": [
    "https://www.researchgate.net/profile/Liang-Liu-42/publication/339714816_Regression_multiple_imputation_for_missing_data_analysis/links/607f43e32fb9097c0cf91255/Regression-multiple-imputation-for-missing-data-analysis.pdf\n",
    "\n",
    "\n",
    "https://arxiv.org/pdf/1511.03512.pdf\n",
    "\n",
    "\n",
    "https://citeseerx.ist.psu.edu/document?repid=rep1&type=pdf&doi=576cd01f8e2c289651ae0a86374ac6d6abb787c1"
   ]
  },
  {
   "cell_type": "markdown",
   "id": "226876fe-1fc4-4261-b822-1bbfd3a7a2f4",
   "metadata": {},
   "source": [
    "- 모두 undirected data이고, 데이터셋 중 한 개만 directed(Wiki)임."
   ]
  },
  {
   "cell_type": "markdown",
   "id": "7dedaa16-557e-4458-877a-510a7297aa74",
   "metadata": {},
   "source": [
    "| Model               |       Node_feature       | Edge Index | Edge Weight|  Edge Type | \n",
    "|---------------------|:------------------------:|:----------:|:----------:|:----------:|\n",
    "| GConvGRU            |    O, Node features      |      O     |      O     |      X     |\n",
    "| GConvLSTM           |   O, Node features       |      O     |      O     |      X     |\n",
    "| GCLSTM              |   O, Node features       |      O     |      O     |      X     |\n",
    "| LRGCN               |   O, Node features       |      O     |      O     |      O     |\n",
    "| DyGrEncoder         |   O, Node features       |      O     |      O     |      X     |\n",
    "| EvolveGCNH          |   O, Node embedding      |      O     |      O     |      X     |\n",
    "| EvolveGCNO          |   O, Node embedding      |      O     |      O     |      X     |\n",
    "| TGCN                |   O, Node features       |      O     |      O     |      X     |\n",
    "| DCRNN               |   O, Node features       |      O     |      O     |      X     |"
   ]
  },
  {
   "cell_type": "markdown",
   "id": "62513107-4115-4901-a066-990c7aa903eb",
   "metadata": {},
   "source": [
    "**Define Spatio Temporal Graph data**"
   ]
  },
  {
   "cell_type": "markdown",
   "id": "a3ad83b8-1f34-4190-b9a6-247c16c744a5",
   "metadata": {},
   "source": [
    "|Notations|Definitions or Description|\n",
    "|:--:|:--:|\n",
    "|${\\cal G}$|Input Graph|\n",
    "|$T$| the length of the time interval|\n",
    "|$\\cal{V}$| a set of Verteces|\n",
    "|$V$|a set of an index node|\n",
    "|$N$|the number of Verteces|\n",
    "|$\\cal{E}$|a set of undirected Edges|\n",
    "|$\\textbf{y}$|a graph signal, a function defined on the vertices of the graph $\\cal{G}$\n",
    "|$\\textbf{W}$ | a weighted adjacency matrix|"
   ]
  },
  {
   "cell_type": "markdown",
   "id": "b2f79a3c-5ba0-436d-af46-07049cc9889f",
   "metadata": {},
   "source": [
    "- Graph ${\\cal G} = (\\cup_{t \\in {\\cal T}} {\\cal V}_t, \\cup_{t \\in {\\cal T}} {\\cal E}_t, \\textbf{W})$ ,${\\cal T}:=\\{1,\\dots,T\\}$\n",
    "    - $T$ is the length of the time interval.\n",
    "    - $\\cal{V}$ is a set of Verteces. ${\\cal V} = \\{v_0,v_1,\\cdots,v_{N-1}\\}$\n",
    "    - $V$ is a set of an index node of $V = \\{ 0, 1, \\dots, N-1 \\}$\n",
    "        - $N$ is the number of Verteces. $|\\cal{V}| = $$N$\n",
    "    - $\\cal{E}$ is a set of undirected Edges\n",
    "        - ${\\cal E} \\subseteq \\{ ( x,y ) | x,y \\in \\cal{V} $$\\text{ and } x \\ne y \\}$\n",
    "- a graph signal $\\textbf{y}$: ${\\cal V}_t \\to \\mathbb{R}^N$\n",
    "    - $\\textbf{y}$ is a function defined on the vertices of the graph $\\cal{G}$\n",
    "        - $\\textbf{y} = [y_{0,1},y_{0,2}, \\cdots, y_{1,1},y_{1,2}, \\cdots , y_{v,t}]^T$, $v \\in  V$, $t \\in {\\cal T}:=\\{1,\\dots,T\\}$\n",
    "- $\\textbf{W}_{T \\times T}$ is a weighted adjacency matrix and interpreted as a graph shift operator.\n",
    "    - Suppose Graph $\\cal{G}$ is a undirected cyclic graph and has time series periodic data, which allows to consider graph adjacency matrix as $\\begin{bmatrix} 0 & 1 & \\cdots & 0 \\\\ 1 & 0 & \\cdots & 0 \\\\ \\vdots & \\vdots & \\ddots & \\vdots \\\\ 0 & \\cdots & 1 & 0 \\end{bmatrix}$"
   ]
  },
  {
   "cell_type": "markdown",
   "id": "2ae32c97-1069-4ea4-8ab5-98b1b98360b4",
   "metadata": {},
   "source": [
    "---"
   ]
  },
  {
   "cell_type": "markdown",
   "id": "06e72917-ea8b-49e1-91cf-0b7840408f52",
   "metadata": {},
   "source": [
    "**Define Complete Data**"
   ]
  },
  {
   "cell_type": "markdown",
   "id": "d058ee92-9e5e-431f-9e31-d79077bf4c00",
   "metadata": {},
   "source": [
    "1. Define ${\\cal Y} = ({\\cal O} , {\\cal M})$\n",
    "\n",
    "- A incomplete data ${\\cal O}$\n",
    "    - ${\\cal Y} = \\{ y_{v,t}:  t \\in {\\cal T}, v \\in V\\}$\n",
    "    - ${\\cal Y} = \\textbf{Y}_{N \\times T}$\n",
    "    - ${\\cal Y} = \\textbf{y}$\n",
    "- A missing data ${\\cal M} = \\{ y_{v,t_v}:  t_v \\in {\\cal M}_v, v \\in V \\}$\n",
    "    - ${\\cal M}_{v_1}$: $v_1$ 노드에서 결측인 $t$들의 집합\n",
    "- A observed data ${\\cal O} = \\{ y_{v,t_v}:  t_v \\in {\\cal O}_v, v \\in V \\}$.\n",
    "    - ${\\cal O}_{v_1}$ : $v_1$ 노드에서 관측된 $t$들의 집합\n",
    "\n",
    "2. Conduct the linear interpolation and Update ${\\cal M}$ by $\\tilde{{\\cal Y}} = ( {\\cal O} , \\tilde{ {\\cal M} } )$\n",
    "\n",
    "- ${\\cal M}$ is imputated by $\\tilde{{\\cal M}}$."
   ]
  },
  {
   "cell_type": "markdown",
   "id": "239bdc4b-94b1-4605-90ae-f08cb4eb2477",
   "metadata": {},
   "source": [
    "---"
   ]
  },
  {
   "cell_type": "markdown",
   "id": "1fb4d049-c2e4-463a-be83-2b1d5016d570",
   "metadata": {},
   "source": [
    "**Repeat steps Laplacian, Eigenvalue Decomposition, Graph Fourier Transform, Ebayes Thresholding, Inverse Graph Fourier Transform, respectively**"
   ]
  },
  {
   "cell_type": "markdown",
   "id": "25af6d66-8fee-457e-b79a-d2482f6bfaa5",
   "metadata": {},
   "source": [
    "1. Define nomalized Laplacian matrix $\\textbf{L}$ from graph shift operator $W$.\n",
    "\n",
    "- $\\textbf{L} = \\textbf{D}^{-1/2} (\\textbf{I} - \\textbf{W}) \\textbf{D}^{-1/2} = \\textbf{I} - \\bar{\\textbf{W}}$\n",
    "\n",
    "2. Calculate Eigenvalue Decomposition\n",
    "\n",
    "- $\\textbf{L} = \\mathbf{V} \\Lambda \\mathbf{V}^H$\n",
    "\n",
    "3. Apply Graph Fourier Transform\n",
    "\n",
    "- ${{\\mathbf V}}^H {\\bar {\\textbf Y}} = \\tilde{\\textbf{Y}}$\n",
    "    - Transforming a function from the time domain to the frequency domain.\n",
    "    - $p = E([{{\\mathbf V}}^H {\\bar {\\textbf Y}}]^2)$\n",
    "\n",
    "4. Estimate power of $\\bar{\\textbf{Y}}$\n",
    "\n",
    "- $\\hat{p} := \\frac{1}{{\\cal R}} \\sum^{\\cal R}_{r=1} |\\bar{y}_r|^2$\n",
    "    - estimation of $p$ \n",
    "    - $\\bar{Y}$ is a set of vectors $\\tilde{y}_{i} : \\cal{V} $$\\to \\mathbb{R}^N$, $i \\in T$\n",
    "    - ${\\cal R}$: a finite set of realization of the process $\\bar{y}$"
   ]
  },
  {
   "cell_type": "markdown",
   "id": "30a7b4a8-16f7-410e-8c17-aff809addbe8",
   "metadata": {},
   "source": [
    "5. Get $\\hat{\\textbf{p}}_{tr}$ by thresholding $\\hat{p}$ with ebayes thresholding\n",
    "\n",
    "- Estimate ${\\hat p}_{tr}$ by getting median of this posterior distribution of ${\\hat p}$\n",
    "\n",
    "6. Calculate $\\hat{\\textbf{Y}}_{tr}$ from Inverse Graph Fourier Transform \n",
    "\n",
    "- Get $\\hat{\\cal{M}}$ from values of a set of Indexed missing data on $\\hat{\\textbf{Y}}_{tr}$  \n",
    "- Define $\\hat{{\\cal Y}} = ({\\cal O}, \\hat{{\\cal M}})$\n",
    "\n",
    "7. Learn STGCN with $\\hat{{\\cal Y}}$, and Get $\\hat{{\\cal Y}}_{stgcn}$\n",
    "\n",
    "- STGCN function $:= f(\\cdot)$\n",
    "- Get $\\hat{{\\cal M}}^{(1)}$ from values of a set of Indexed missing data on $\\hat{{\\cal Y}}_{tgnn}$\n",
    "- Imputatation from $\\hat{{\\cal M}}$ to $\\hat{{\\cal M}}^{(1)}$\n",
    "    - $\\hat{{\\cal Y}}^{(1)} = ({\\cal O}, \\hat{{\\cal M}}^{(1)})$\n",
    "    \n",
    "8. Repeat every steps\n",
    "\n",
    "- Get $\\hat{{\\cal Y}}^{({\\cal L})} = ({\\cal O}, \\hat{{\\cal M}}^{({\\cal L})})$\n",
    "- ${\\cal L}$ is the iteration.\n",
    "    - ${\\cal L} :=\\{ 2,\\cdots , L\\}$"
   ]
  },
  {
   "cell_type": "markdown",
   "id": "3d9985a1-c7bb-4eea-a4b1-5df4d11011fe",
   "metadata": {},
   "source": [
    "---"
   ]
  },
  {
   "cell_type": "markdown",
   "id": "f69ffd57-26a3-4838-bc6a-bd71ead98a03",
   "metadata": {},
   "source": [
    "**Calculate MSE**"
   ]
  },
  {
   "cell_type": "markdown",
   "id": "233f51c5-3460-4b38-be2b-b86b1152d626",
   "metadata": {},
   "source": [
    "Caculate MSE = $\\frac{1}{NT} \\sum^N_{v=1} \\sum^T_{t=1} (y_{v,t} - (\\hat{y}_{v,t})^{(L)}) ^2$\n",
    "\n",
    "- $\\hat{{\\cal Y}}^{(L)} = ({\\cal O}, \\hat{{\\cal M}}^{(L)})$ \n",
    "- ${\\cal Y}_{com} = \\{ y_{v,t}: v \\in {\\cal V}, t \\in {\\cal T} \\}$"
   ]
  },
  {
   "cell_type": "markdown",
   "id": "582b795a-5833-449e-8a8f-a3c8faa8fb79",
   "metadata": {},
   "source": [
    "---"
   ]
  },
  {
   "cell_type": "markdown",
   "id": "0fd368bf-53f7-4e61-9f71-da0051dfbf62",
   "metadata": {},
   "source": [
    "`Algorithm 1`: GFT, EbayesThresh and STGCN"
   ]
  },
  {
   "cell_type": "markdown",
   "id": "6301c38f-ead1-4ed9-9b3f-1e7f3abaaa4d",
   "metadata": {},
   "source": [
    "**Input** $\\tilde{\\cal{Y}} = ( {\\cal O} , \\tilde{ {\\cal M} } )$($={\\tilde{\\textbf Y}}$)\n",
    "\n",
    "**Output** $\\hat{{\\cal Y}}^{(L)}$"
   ]
  },
  {
   "cell_type": "markdown",
   "id": "575e2cfd-aec3-4f8f-8e1f-455a61731614",
   "metadata": {},
   "source": [
    "**for** $l$ =1, ${\\cal L} :=\\{ 1,2,\\cdots , L\\}$ **do**"
   ]
  },
  {
   "cell_type": "markdown",
   "id": "366ffb28-8bc1-4656-852b-33a8db38462d",
   "metadata": {},
   "source": [
    "Apply GFT ${\\mathbf V}^H {\\tilde {\\textbf Y}} = \\bar{\\textbf{Y}}$\n",
    "\n",
    "$\\hat{p} \\leftarrow \\frac{1}{{\\cal R}} \\sum^{\\cal R}_{r=1} |\\bar{y}_r|^2$\n",
    "\n",
    "EbayesThresh $\\breve{\\textbf{p}} \\leftarrow \\hat{\\textbf{p}}$\n",
    "\n",
    "${\\breve {\\textbf Y}} = \\sqrt{\\breve{\\textbf{p}}}$\n",
    "\n",
    "Apply Inverse GFT ${\\mathbf V} {\\breve {\\textbf Y}} = \\bar{\\textbf{Y}}_{tr}$ \n",
    "\n",
    "$\\bar{ {\\cal M}_{tr} } \\leftarrow {\\cal{\\tilde{M}}}$\n",
    "\n",
    "$\\hat{{\\cal Y}}^{(l)} \\leftarrow \\text{ STGCN } f(\\bar{\\textbf{Y}}_{tr})$\n",
    "\n",
    "${\\cal \\hat{M}}^{(l)} \\leftarrow \\bar{ {\\cal M}_{tr} }$"
   ]
  },
  {
   "cell_type": "markdown",
   "id": "7ad3837e-81d5-4cae-b8dc-f3c89ad2e643",
   "metadata": {},
   "source": [
    "**end for**"
   ]
  },
  {
   "cell_type": "markdown",
   "id": "4a67743a-94bb-42b7-9145-21927c0848d1",
   "metadata": {},
   "source": [
    "---"
   ]
  },
  {
   "cell_type": "markdown",
   "id": "8fec4635-286e-4b94-8047-e1aac0e45d80",
   "metadata": {},
   "source": [
    "`Algorithm 2`: Self Consistency"
   ]
  },
  {
   "cell_type": "markdown",
   "id": "e6138d7a-884c-4f8e-954b-8dd3cf6d67da",
   "metadata": {},
   "source": [
    "**Input** $\\hat{g}_{obs}(\\cdot) = \\tilde{\\cal{Y}}$\n",
    "\n",
    "**Output** $\\hat{g}_{com}(\\cdot) = {\\cal \\hat{Y}}^{(l)}$"
   ]
  },
  {
   "cell_type": "markdown",
   "id": "cdce9872-887d-458d-850f-4ed3778a6581",
   "metadata": {},
   "source": [
    "$E(\\hat{g}_{com} |{\\cal O}; g = \\hat{g}_{obs}) = \\hat{g}_{obs}$\n",
    "\n",
    "${\\cal \\hat{Y}}^{(l)} \\leftarrow \\tilde{\\cal{Y}}$"
   ]
  },
  {
   "cell_type": "markdown",
   "id": "fb8b76b4-0116-4c15-8c1b-6bd68c46d354",
   "metadata": {},
   "source": [
    "---"
   ]
  },
  {
   "cell_type": "markdown",
   "id": "eba23a3c-1dc5-4af1-9468-23dbdf3379c0",
   "metadata": {},
   "source": [
    "`Algorithm 3`: EbayesThresh"
   ]
  },
  {
   "cell_type": "markdown",
   "id": "c1260aa3-7690-4154-9e9e-48589824a58e",
   "metadata": {},
   "source": [
    "**Input** $\\hat{\\textbf{p}}$\n",
    "\n",
    "**Output** $\\breve{\\textbf{p}}$"
   ]
  },
  {
   "cell_type": "markdown",
   "id": "30444195-5d30-424a-8618-209b7da08deb",
   "metadata": {},
   "source": [
    "$\\hat{\\textbf{p}} = \\textbf{p}_{pp} + \\textbf{p}_{ac}$\n",
    "\n",
    "$\\breve{\\textbf{p}} \\leftarrow \\textbf{p}_{pp}$"
   ]
  },
  {
   "cell_type": "markdown",
   "id": "d67ba883-6011-45b9-82af-567bd113203c",
   "metadata": {},
   "source": [
    "---"
   ]
  },
  {
   "cell_type": "markdown",
   "id": "47464258-68d4-4b95-96a8-4da772a84232",
   "metadata": {},
   "source": [
    "`Toy Example`"
   ]
  },
  {
   "cell_type": "markdown",
   "id": "adee2832-ffe5-44ec-a0d6-dc2138e85042",
   "metadata": {},
   "source": [
    "**Define data**"
   ]
  },
  {
   "cell_type": "markdown",
   "id": "07e33d02-de84-44ca-9c69-754f520e128e",
   "metadata": {},
   "source": [
    "Graph ${\\cal G} = (V, E,$$\\textbf{W})$\n",
    "\n",
    "- $\\cal{V}$ is a set of Verteces. ${\\cal V} = \\{ v_0, v_1, v_2 \\}$, $|{\\cal V}| = 3$, $V = \\{ 0,1,2\\}$\n",
    "- $\\cal{E}$ is a set of undirected Edges. ${\\cal E} =\\{ ( 0, 1), ( 0, 2) \\}$\n",
    "- a graph signal $\\textbf{y}$: ${\\cal V}_t \\to \\mathbb{R}^3$\n",
    "- $T = 10$\n",
    "- ${\\cal Y} = \\{y_{0,1},y_{0,2},\\cdots,y_{2,9},y_{2,10} \\}$\n",
    "    - ${\\cal Y} = \\textbf{y}$\n",
    "- $\\textbf{W}_{10 \\times 10}$ is a weighted adjacency matrix.\n",
    "\n",
    "\n",
    "$\\textbf{W}_{10 \\times 10}\n",
    "= \\begin{bmatrix} 0 & 1 & 0 &0 & 0 & 0 &0 & 0 & 0 & 0 \\\\ 1 & 0 & 1 & 0 & 0 & 0 & 0 & 0 &0&0 \\\\ 0 & 1 & 0 & 1 & 0 & 0 & 0 & 0 &0&0\\\\ 0 & 0 & 1 & 0 & 1 & 0 & 0 & 0 & 0 & 0\\\\ 0 & 0 & 0 & 1 & 0 & 1 & 0 & 0 & 0 & 0\\\\ 0 & 0 & 0 & 0 & 1 & 0 & 1 & 0 & 0 & 0\\\\ 0 & 0 & 0 & 0 & 0 & 1 & 0 & 1 & 0 & 0\\\\ 0 & 0 & 0 & 0 & 0 & 0 & 1 & 0 & 1 & 0\\\\ 0 & 0 & 0 & 0 & 0 & 0 & 0 & 1 & 0 & 1\\\\ 0 & 0 & 0 & 0 & 0 & 0 & 0 & 0 & 1 & 0 \\end{bmatrix}$"
   ]
  },
  {
   "cell_type": "markdown",
   "id": "98d5adc3-ca46-43bc-ad41-3cb6d5a66213",
   "metadata": {},
   "source": [
    "- $y_{v,t} \\to y_{v,t-1}$이 이어져 있다고 가정하면 위와 같이 $\\textbf{W}$가 정의 됌. \n",
    "- $v$ 자기 자신끼리는 time series peridic data로 이어져 있다고 가정"
   ]
  },
  {
   "cell_type": "markdown",
   "id": "2f963436-8ea2-4449-89ed-91c2db7817ee",
   "metadata": {},
   "source": [
    "**Incomplete data**"
   ]
  },
  {
   "cell_type": "markdown",
   "id": "70ed79dd-4a4c-4020-ac37-fe24db67c32e",
   "metadata": {},
   "source": [
    "${\\cal y} = ( {\\cal O}, {\\cal M} )$, 노드 3개(0,1,2), 타임 10 $\\therefore 3 \\times 10= 30$\n",
    "\n",
    "- A incomplete data ${\\cal Y} = \\{ y_{0,0},y_{0,1},\\cdots, y_{1,0},y_{1,1},\\cdots, y_{2,0},y_{2,1},\\cdots \\}$\n",
    "    - ${\\cal Y} =$ $\\textbf{Y}_{3 \\times 10}$\n",
    "- A missing data ${\\cal M} = \\{ y_{0,3}, y_{0,4},\\cdots, y_{1,3},y_{1,8},\\cdots,y_{2,4},y_{2,7},\\cdots \\}$ -> 임의로 노드별로 50%의 결측값이 뿌려져 있다고 가정\n",
    "- A observed data ${\\cal O} = \\{ y_{0,0},\\cdots,y_{1,0},\\cdots,y_{2,0}\\cdots \\}$. -> 결측값이 아닌 모든 관찰된 값\n",
    "\n",
    "2. Conduct the linear interpolation $\\bar{{\\cal Y}} = ( {\\cal O} , \\tilde{ {\\cal M} } )$\n",
    "\n",
    "- ${\\cal M}$ is imputated by $\\bar{{\\cal M}}$."
   ]
  },
  {
   "cell_type": "markdown",
   "id": "76e6f4a4-b82a-4809-8cfc-78b157303056",
   "metadata": {},
   "source": [
    "**Repeat**"
   ]
  },
  {
   "cell_type": "markdown",
   "id": "cfba915f-c071-47ec-a56e-941fe8a8299e",
   "metadata": {},
   "source": [
    "행렬 확인차 여기 예제에서만 기호 오른쪽 아래에 행 * 열 입력"
   ]
  },
  {
   "cell_type": "markdown",
   "id": "cea9e726-b1ed-4d99-b9dc-b3b1537a2f36",
   "metadata": {},
   "source": [
    "그래프 라플라시안"
   ]
  },
  {
   "cell_type": "markdown",
   "id": "1bbea2ef-d1c5-4822-a9b4-e70cb2e7b16d",
   "metadata": {},
   "source": [
    "- $\\textbf{L}_{10 \\times 10} = \\textbf{D}^{-1/2}_{10 \\times 10} (\\textbf{I}_{10 \\times 10} - \\textbf{W}_{10 \\times 10}) \\textbf{D}^{-1/2}_{10 \\times 10} = \\textbf{I}_{10 \\times 10} - \\tilde{\\textbf{W}}_{10 \\times 1|0}$"
   ]
  },
  {
   "cell_type": "markdown",
   "id": "d52cfc94-1126-4d3e-b42d-c7887bd63030",
   "metadata": {},
   "source": [
    "고유값 분해"
   ]
  },
  {
   "cell_type": "markdown",
   "id": "8a6b8392-40c0-4b2f-ae2d-59789767dd37",
   "metadata": {},
   "source": [
    "- $\\textbf{L}_{10 \\times 10} = \\mathbf{V}_{10 \\times 10} \\Lambda_{10 \\times 10} \\mathbf{V}^H_{10 \\times 10}$"
   ]
  },
  {
   "cell_type": "markdown",
   "id": "8874cc55-4cb6-4390-955a-ebae79f828dd",
   "metadata": {},
   "source": [
    "그래프 푸리에 변환"
   ]
  },
  {
   "cell_type": "markdown",
   "id": "51180fcd-67de-46dd-9737-34ff7bf0873d",
   "metadata": {},
   "source": [
    "- ${\\mathbf{V}}^H_{10 \\times 10}$ $\\bar{\\textbf{Y}}_{10 \\times 3}$ $= \\tilde{\\textbf{Y}}_{10 \\times 3}$"
   ]
  },
  {
   "cell_type": "markdown",
   "id": "fe057b22-8c57-4b92-a8cf-c5b24d93ec4b",
   "metadata": {},
   "source": [
    "이베이즈"
   ]
  },
  {
   "cell_type": "markdown",
   "id": "40ab2b86-7502-4c0a-9437-a06c88affd8d",
   "metadata": {},
   "source": [
    "- $\\tilde{y}^2$ = $\\hat{p}$ and $\\hat{p}_{tr}$ = $10 \\times 3$ matrix \n",
    "- 노드 수만큼 3번 반복"
   ]
  },
  {
   "cell_type": "markdown",
   "id": "b56d143c-4fe8-4669-99fa-4b9ab600c13b",
   "metadata": {},
   "source": [
    "역 그래프 푸리에 변환"
   ]
  },
  {
   "cell_type": "markdown",
   "id": "56ba7f76-af55-40e1-953d-e1fe41fb4635",
   "metadata": {},
   "source": [
    "- $\\textbf{V}_{10 \\times 10} \\tilde{\\textbf{Y}}^{'}_{10 \\times 3} = \\hat{\\textbf{Y}}_{tr,10 \\times 3}$"
   ]
  },
  {
   "cell_type": "markdown",
   "id": "ecbcb0d5-8107-49af-a646-c40149d0def7",
   "metadata": {},
   "source": [
    "- $\\hat{{\\cal Y}}_{tr} =  \\hat{\\textbf{Y}}_{tr,10 \\times 3}$\n",
    "- 여기서 구한 $\\hat{\\cal{Y}}_{tr}$ = $(\\hat{\\cal{O}},\\hat{\\cal{M}})$ 기존에 구한 $\\bar{{\\cal Y}} = ( {\\cal O} , \\tilde{ {\\cal M} } )$\n",
    "\n",
    "- 결측값 부분만 imputation $\\hat{{\\cal Y}} = ({\\cal O}, \\hat{{\\cal M}})$"
   ]
  },
  {
   "cell_type": "markdown",
   "id": "772db4c2-a682-436b-904a-3ad532d3d7f1",
   "metadata": {},
   "source": [
    "모델로 학습"
   ]
  },
  {
   "cell_type": "markdown",
   "id": "a72502b7-ab85-4b7d-a6b1-ac0d1989b6b2",
   "metadata": {},
   "source": [
    "- $\\hat{{\\cal Y}}$로  TGNN 학습 후 $\\hat{{\\cal Y}}_{tgnn}$ 얻고 거기서 $\\hat{{\\cal M}}^{(1)}$ 얻기\n",
    "\n",
    "- $\\hat{{\\cal M}}$을 $\\hat{{\\cal M}}^{(1)}$로 대체\n",
    "    - $\\hat{{\\cal Y}}^{(1)} = ({\\cal O}, \\hat{{\\cal M}}^{(1)})$\n",
    "    \n",
    "epoch = 20 가정\n",
    "\n",
    "$\\hat{{\\cal Y}}^{(20)} = ({\\cal O}, \\hat{{\\cal M}}^{(20)})$ 을 얻음"
   ]
  },
  {
   "cell_type": "markdown",
   "id": "b41b9676-9526-4967-a5ef-34f27e9336dd",
   "metadata": {},
   "source": [
    "$\\hat{{\\cal Y}}^{(20)} = ({\\cal O}, \\hat{{\\cal M}}^{(20)})$ 를 이용해서 에러 구하기"
   ]
  },
  {
   "cell_type": "markdown",
   "id": "32c71c20-c915-4b66-87ab-88428aa638bf",
   "metadata": {},
   "source": [
    "MSE = $\\frac{1}{30} \\sum^3_{v=1} \\sum^{10}_{t=1} (y_{v,t_v} - (\\hat{y}_{v,t_v})^{(20)}) ^2$"
   ]
  },
  {
   "cell_type": "code",
   "execution_count": null,
   "id": "3c099e39-33f1-49ce-b664-2ca86a15e551",
   "metadata": {},
   "outputs": [],
   "source": []
  }
 ],
 "metadata": {
  "kernelspec": {
   "display_name": "Python 3",
   "language": "python",
   "name": "python3"
  },
  "language_info": {
   "codemirror_mode": {
    "name": "ipython",
    "version": 3
   },
   "file_extension": ".py",
   "mimetype": "text/x-python",
   "name": "python",
   "nbconvert_exporter": "python",
   "pygments_lexer": "ipython3",
   "version": "3.8.0"
  }
 },
 "nbformat": 4,
 "nbformat_minor": 5
}
