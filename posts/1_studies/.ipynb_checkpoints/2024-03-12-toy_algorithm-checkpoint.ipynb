{
 "cells": [
  {
   "cell_type": "raw",
   "id": "9701c85c-527b-4d09-91e9-8736f944cc48",
   "metadata": {
    "id": "cac470df-29e7-4148-9bbd-d8b9a32fa570",
    "tags": []
   },
   "source": [
    "---\n",
    "title: \"Toy example / Algorithm\"\n",
    "author: \"SEOYEON CHOI\"\n",
    "date: \"2024-03-12\"\n",
    "---"
   ]
  },
  {
   "cell_type": "markdown",
   "id": "d9abbd66-e609-4071-b8d8-3140629bad48",
   "metadata": {},
   "source": [
    "https://www.researchgate.net/profile/Liang-Liu-42/publication/339714816_Regression_multiple_imputation_for_missing_data_analysis/links/607f43e32fb9097c0cf91255/Regression-multiple-imputation-for-missing-data-analysis.pdf\n",
    "\n",
    "\n",
    "https://arxiv.org/pdf/1511.03512.pdf\n",
    "\n",
    "\n",
    "https://citeseerx.ist.psu.edu/document?repid=rep1&type=pdf&doi=576cd01f8e2c289651ae0a86374ac6d6abb787c1"
   ]
  },
  {
   "cell_type": "markdown",
   "id": "62513107-4115-4901-a066-990c7aa903eb",
   "metadata": {},
   "source": [
    "**Define Spatio Temporal Graph data**"
   ]
  },
  {
   "cell_type": "markdown",
   "id": "b2f79a3c-5ba0-436d-af46-07049cc9889f",
   "metadata": {},
   "source": [
    "directed and weighted Graph $\\cal{G} = (V, E,$$\\textbf{W})$\n",
    "\n",
    "- $\\cal{V}$ is a set of Verteces. ${\\cal V} = \\{ v_0, v_1, \\dots, v_{N-1}\\}$\n",
    "    - $N$ is the number of Verteces. $|\\cal{V}| = $$N$\n",
    "- $\\cal{E}$ is a set of Edges\n",
    "    - $\\cal{E} $$\\subseteq \\{ \\{ x,y \\} | x,y \\in \\cal{V} $$\\text{ and } x \\ne y \\}$\n",
    "- a graph signal $\\textbf{y}: \\cal{V} $$\\to \\mathbb{R}$\n",
    "    - $\\textbf{y}$ is a function defined on the vertices of the graph $\\cal{G}$\n",
    "        - $\\textbf{y} = [y_{0,1},y_{0,2}, \\cdots, y_{1,1},y_{1,2}, \\cdots , y_{v,t}]^T$, $v \\in {\\cal V}$, $t \\in {\\cal T}:=\\{1,\\dots,T\\}$\n",
    "    - $T$ is the length of the time interval.\n",
    "- $\\textbf{W}_{NT \\times NT}$ is a weighted adjacency matrix and interpreted as a graph shift operator.\n",
    "    - Suppose Graph $\\cal{G}$ is a directed cyclic graph and has time series periodic data, which allows to consider graph adjacency matrix as $\\begin{bmatrix} 0 & 0 & \\cdots & 1 \\\\ 1 & 0 & \\cdots & 0 \\\\ \\vdots & \\vdots & \\ddots & \\vdots \\\\ 0 & \\cdots & 1 & 0 \\end{bmatrix}$"
   ]
  },
  {
   "cell_type": "markdown",
   "id": "cb34080c-c6b6-4b9c-8fd8-0ac314adfd91",
   "metadata": {},
   "source": [
    "---"
   ]
  },
  {
   "cell_type": "markdown",
   "id": "96530153-6bb1-4014-a333-5d2a5cb0d200",
   "metadata": {},
   "source": [
    "`Example`"
   ]
  },
  {
   "cell_type": "markdown",
   "id": "b69d69a9-77cb-424c-bacd-ebc702d64b61",
   "metadata": {},
   "source": [
    "directed Graph $\\cal{G} = (V, E,$$\\textbf{W})$\n",
    "\n",
    "- $\\cal{V}$ is a set of Verteces. ${\\cal V} = \\{ v_0, v_1, v_2 \\}$, $|{\\cal V}| = 3$\n",
    "- $\\cal{E}$ is a set of Edges. ${\\cal E} =\\{ \\{ 0, 1\\}, \\{ 0, 2\\} \\}$\n",
    "- a graph signal $\\textbf{y}: \\cal{V} $$\\to \\mathbb{R}$\n",
    "- $T = 30$\n",
    "- $\\textbf{y} = [y_{0,1},y_{0,2},\\cdots,y_{2,9},y_{2,10}]^T$\n",
    "- $\\textbf{W}_{30 \\times 30}$ is a weighted adjacency matrix.\n",
    "\n",
    "\n",
    "$\\textbf{W}_{3 \\cdot 10 \\times 3 \\cdot 10}\n",
    "= \\begin{bmatrix} \n",
    "\\begin{bmatrix} 0 & 1 & 0 &0 & 0 & 0 &0 & 0 & 0 & 0 \\\\ 1 & 0 & 1 & 0 & 0 & 0 & 0 & 0 &0&0 \\\\ 0 & 1 & 0 & 1 & 0 & 0 & 0 & 0 &0&0\\\\ 0 & 0 & 1 & 0 & 1 & 0 & 0 & 0 & 0 & 0\\\\ 0 & 0 & 0 & 1 & 0 & 1 & 0 & 0 & 0 & 0\\\\ 0 & 0 & 0 & 0 & 1 & 0 & 1 & 0 & 0 & 0\\\\ 0 & 0 & 0 & 0 & 0 & 1 & 0 & 1 & 0 & 0\\\\ 0 & 0 & 0 & 0 & 0 & 0 & 1 & 0 & 1 & 0\\\\ 0 & 0 & 0 & 0 & 0 & 0 & 0 & 1 & 0 & 1\\\\ 0 & 0 & 0 & 0 & 0 & 0 & 0 & 0 & 1 & 0 \\end{bmatrix} &\n",
    "\\begin{bmatrix} 1 & 0 & 0 & 0 & 0 & 0 & 0 & 0 & 0 & 0 \\\\ 0 & 1 & 0 & 0 & 0 & 0 & 0 & 0 & 0 & 0 \\\\ 0 & 0 & 1  & 0 & 0 & 0 & 0 & 0 & 0 & 0 \\\\ 0 & 0 & 0  & 1 & 0 & 0 & 0 & 0 & 0 & 0 \\\\ 0 & 0 & 0  & 0 & 1 & 0 & 0 & 0 & 0 & 0 \\\\ 0 & 0 & 0 &0 & 0 & 1 & 0 & 0 & 0 & 0\\\\0 & 0 & 0 &0 & 0 & 0 & 1 & 0 & 0 & 0\\\\0 & 0 & 0 &0 & 0 & 0 & 0 & 1 & 0 & 0 \\\\0 & 0 & 0 &0 & 0 & 0 & 0 & 0 & 1 & 0 \\\\0 & 0 & 0 &0 & 0 & 0 & 0 & 0 & 0 & 1 \\end{bmatrix} &\n",
    "\\begin{bmatrix} 0 & 0 & 0 & 0 & 0 & 0 & 0 & 0 & 0 & 0 \\\\ 0 & 0 & 0 & 0 & 0 & 0 & 0 & 0 & 0 & 0 \\\\ 0 & 0 & 0  & 0 & 0 & 0 & 0 & 0 & 0 & 0 \\\\0 & 0 & 0 &0 & 0 & 0 & 0 & 0 & 0 & 0\\\\0 & 0 & 0 &0 & 0 & 0 & 0 & 0 & 0 & 0 \\\\0 & 0 & 0 &0 & 0 & 0 & 0 & 0 & 0 & 0 \\\\0 & 0 & 0 &0 & 0 & 0 & 0 & 0 & 0 & 0\\\\0 & 0 & 0 &0 & 0 & 0 & 0 & 0 & 0 & 0\\\\0 & 0 & 0 &0 & 0 & 0 & 0 & 0 & 0 & 0\\\\0 & 0 & 0 &0 & 0 & 0 & 0 & 0 & 0 & 0 \\end{bmatrix} \\\\\n",
    "\\begin{bmatrix} 0 & 0 & 0 & 0 & 0 & 0 & 0 & 0 & 0 & 0 \\\\ 0 & 0 & 0 & 0 & 0 & 0 & 0 & 0 & 0 & 0 \\\\ 0 & 0 & 0  & 0 & 0 & 0 & 0 & 0 & 0 & 0 \\\\0 & 0 & 0 &0 & 0 & 0 & 0 & 0 & 0 & 0\\\\0 & 0 & 0 &0 & 0 & 0 & 0 & 0 & 0 & 0 \\\\0 & 0 & 0 &0 & 0 & 0 & 0 & 0 & 0 & 0\\\\0 & 0 & 0 &0 & 0 & 0 & 0 & 0 & 0 & 0\\\\0 & 0 & 0 &0 & 0 & 0 & 0 & 0 & 0 & 0\\\\0 & 0 & 0 &0 & 0 & 0 & 0 & 0 & 0 & 0\\\\0 & 0 & 0 &0 & 0 & 0 & 0 & 0 & 0 & 0 \\end{bmatrix} &\n",
    "\\begin{bmatrix} 0 & 1 & 0 &0 & 0 & 0 &0 & 0 & 0 & 0 \\\\ 1 & 0 & 1 & 0 & 0 & 0 & 0 & 0 &0&0 \\\\ 0 & 1 & 0 & 1 & 0 & 0 & 0 & 0 &0&0\\\\ 0 & 0 & 1 & 0 & 1 & 0 & 0 & 0 & 0 & 0\\\\ 0 & 0 & 0 & 1 & 0 & 1 & 0 & 0 & 0 & 0\\\\ 0 & 0 & 0 & 0 & 1 & 0 & 1 & 0 & 0 & 0\\\\ 0 & 0 & 0 & 0 & 0 & 1 & 0 & 1 & 0 & 0\\\\ 0 & 0 & 0 & 0 & 0 & 0 & 1 & 0 & 1 & 0\\\\ 0 & 0 & 0 & 0 & 0 & 0 & 0 & 1 & 0 & 1\\\\ 0 & 0 & 0 & 0 & 0 & 0 & 0 & 0 & 1 & 0 \\end{bmatrix} &\n",
    "\\begin{bmatrix} 1 & 0 & 0 & 0 & 0 & 0 & 0 & 0 & 0 & 0 \\\\ 0 & 1 & 0 & 0 & 0 & 0 & 0 & 0 & 0 & 0 \\\\ 0 & 0 & 1  & 0 & 0 & 0 & 0 & 0 & 0 & 0 \\\\ 0 & 0 & 0  & 1 & 0 & 0 & 0 & 0 & 0 & 0 \\\\ 0 & 0 & 0  & 0 & 1 & 0 & 0 & 0 & 0 & 0  \\\\0 & 0 & 0 &0 & 0 & 1 & 0 & 0 & 0 & 0\\\\0 & 0 & 0 &0 & 0 & 0 & 1 & 0 & 0 & 0\\\\0 & 0 & 0 &0 & 0 & 0 & 0 & 1 & 0 & 0 \\\\0 & 0 & 0 &0 & 0 & 0 & 0 & 0 & 1 & 0 \\\\0 & 0 & 0 &0 & 0 & 0 & 0 & 0 & 0 & 1 \\end{bmatrix} \\\\\n",
    "\\begin{bmatrix} 0 & 0 & 0 & 0 & 0 & 0 & 0 & 0 & 0 & 0 \\\\ 0 & 0 & 0 & 0 & 0 & 0 & 0 & 0 & 0 & 0 \\\\ 0 & 0 & 0  & 0 & 0 & 0 & 0 & 0 & 0 & 0 \\\\0 & 0 & 0 &0 & 0 & 0 & 0 & 0 & 0 & 0\\\\0 & 0 & 0 &0 & 0 & 0 & 0 & 0 & 0 & 0  \\\\0 & 0 & 0 &0 & 0 & 0 & 0 & 0 & 0 & 0\\\\0 & 0 & 0 &0 & 0 & 0 & 0 & 0 & 0 & 0\\\\0 & 0 & 0 &0 & 0 & 0 & 0 & 0 & 0 & 0\\\\0 & 0 & 0 &0 & 0 & 0 & 0 & 0 & 0 & 0\\\\0 & 0 & 0 &0 & 0 & 0 & 0 & 0 & 0 & 0 \\end{bmatrix} &\n",
    "\\begin{bmatrix} 0 & 0 & 0 & 0 & 0 & 0 & 0 & 0 & 0 & 0 \\\\ 0 & 0 & 0 & 0 & 0 & 0 & 0 & 0 & 0 & 0 \\\\ 0 & 0 & 0  & 0 & 0 & 0 & 0 & 0 & 0 & 0 \\\\0 & 0 & 0 &0 & 0 & 0 & 0 & 0 & 0 & 0\\\\0 & 0 & 0 &0 & 0 & 0 & 0 & 0 & 0 & 0  \\\\0 & 0 & 0 &0 & 0 & 0 & 0 & 0 & 0 & 0\\\\0 & 0 & 0 &0 & 0 & 0 & 0 & 0 & 0 & 0\\\\0 & 0 & 0 &0 & 0 & 0 & 0 & 0 & 0 & 0\\\\0 & 0 & 0 &0 & 0 & 0 & 0 & 0 & 0 & 0\\\\0 & 0 & 0 &0 & 0 & 0 & 0 & 0 & 0 & 0 \\end{bmatrix} &\n",
    "\\begin{bmatrix} 0 & 1 & 0 &0 & 0 & 0 &0 & 0 & 0 & 0 \\\\ 1 & 0 & 1 & 0 & 0 & 0 & 0 & 0 &0&0 \\\\ 0 & 1 & 0 & 1 & 0 & 0 & 0 & 0 &0&0\\\\ 0 & 0 & 1 & 0 & 1 & 0 & 0 & 0 & 0 & 0\\\\ 0 & 0 & 0 & 1 & 0 & 1 & 0 & 0 & 0 & 0\\\\ 0 & 0 & 0 & 0 & 1 & 0 & 1 & 0 & 0 & 0\\\\ 0 & 0 & 0 & 0 & 0 & 1 & 0 & 1 & 0 & 0\\\\ 0 & 0 & 0 & 0 & 0 & 0 & 1 & 0 & 1 & 0\\\\ 0 & 0 & 0 & 0 & 0 & 0 & 0 & 1 & 0 & 1\\\\ 0 & 0 & 0 & 0 & 0 & 0 & 0 & 0 & 1 & 0 \\end{bmatrix}\n",
    "\\end{bmatrix}$"
   ]
  },
  {
   "cell_type": "markdown",
   "id": "4ef80c05-29bf-4577-89cf-51a4cffca6f5",
   "metadata": {},
   "source": [
    "- $y_{v,t} \\to y_{v,t-1}$이 이어져 있다고 가정하면 위와 같이 $\\textbf{W}$가 정의 됌. \n",
    "- 0 $\\to$ 1, 0 $\\to$ 2만 이어져 있으니까.\n",
    "- $v$ 자기 자신끼리는 time series peridic data로 이어져 있다고 가정"
   ]
  },
  {
   "cell_type": "markdown",
   "id": "2ae32c97-1069-4ea4-8ab5-98b1b98360b4",
   "metadata": {},
   "source": [
    "---"
   ]
  },
  {
   "cell_type": "markdown",
   "id": "06e72917-ea8b-49e1-91cf-0b7840408f52",
   "metadata": {},
   "source": [
    "**Define Complete Data**"
   ]
  },
  {
   "cell_type": "markdown",
   "id": "d058ee92-9e5e-431f-9e31-d79077bf4c00",
   "metadata": {},
   "source": [
    "1. Define $\\textbf{Y} = (\\textbf{Y}^{obs} , \\textbf{Y}^{mis})$\n",
    "\n",
    "- A incomplete data $\\textbf{Y}$ is a set of vectors $y_{i} : \\cal{V} $$\\to \\mathbb{R}^N$, $i \\in T$\n",
    "- A observed data $\\textbf{Y}^{obs}$ is a set of vectors $y^{obs}_{i}$, $i \\in \\textbf{I}$, $\\textbf{I}$ is a set of Indexed observed data.\n",
    "- A missing data $\\textbf{Y}^{mis}$ is a set of vectors $y^{mis}_{i}$, $i \\in \\textbf{M}$, $\\textbf{M}$ is a set of Indexed missing data.\n",
    "\n",
    "2. If $\\textbf{Y}$ is conducted the linear interpolation, $\\bar{\\textbf{Y}}^{mis}$ will be calculated as a interpolated value. And then, $\\textbf{Y}^{mis}$ is imputated by $\\bar{\\textbf{Y}}^{mis}$.\n",
    "\n",
    "3. Now, we can get $\\bar{\\textbf{Y}} = (\\textbf{Y}^{obs}, \\bar{\\textbf{Y}}^{mis})$."
   ]
  },
  {
   "cell_type": "markdown",
   "id": "239bdc4b-94b1-4605-90ae-f08cb4eb2477",
   "metadata": {},
   "source": [
    "---"
   ]
  },
  {
   "cell_type": "markdown",
   "id": "d0bb38f2-2725-4615-8f02-8aa7d045ba77",
   "metadata": {},
   "source": [
    "`\bExample`"
   ]
  },
  {
   "cell_type": "markdown",
   "id": "ed643c86-f609-4cb8-b5fc-92942fe994e3",
   "metadata": {},
   "source": []
  },
  {
   "cell_type": "markdown",
   "id": "256c3bd3-b2d0-4545-af46-dfd8f621aadd",
   "metadata": {},
   "source": [
    "---"
   ]
  },
  {
   "cell_type": "markdown",
   "id": "1fb4d049-c2e4-463a-be83-2b1d5016d570",
   "metadata": {},
   "source": [
    "**Repeat steps Laplacian, Eigenvalue Decomposition, Graph Fourier Transform, Ebayes Thresholding, Inverse Graph Fourier Transform, respectively**"
   ]
  },
  {
   "cell_type": "markdown",
   "id": "25af6d66-8fee-457e-b79a-d2482f6bfaa5",
   "metadata": {},
   "source": [
    "1. Define nomalized Laplacian matrix $\\textbf{L}$ from graph shift operator $W$.\n",
    "\n",
    "- $\\textbf{L} = \\textbf{D}^{-1/2} (\\textbf{I} - \\textbf{W}) \\textbf{D}^{-1/2} = \\textbf{I} - \\tilde{\\textbf{W}}$\n",
    "\n",
    "2. Caculate Eigenvalue Decomposition\n",
    "\n",
    "- $\\textbf{L} = \\mathbf{V} \\Lambda \\mathbf{V}^H$\n",
    "\n",
    "3. Apply Graph Fourier Transform\n",
    "\n",
    "- ${\\mathbf{V}}^H$ $\\bar{\\textbf{Y}}$ $= \\tilde{\\textbf{Y}}$\n",
    "\n",
    "4. Estimate periodogram of $\\tilde{\\textbf{Y}}$\n",
    "\n",
    "- $\\hat{p} := \\frac{1}{R} \\sum^R_{r=1} |\\tilde{y}_r|^2$\n",
    "    - estimation of $p$ from a finite set of $R$ realizations of the process $\\tilde{y}$\n",
    "    - $\\tilde{Y}$ is a set of vectors $\\tilde{y}_{i} : \\cal{V} $$\\to \\mathbb{R}^N$, $i \\in T$\n",
    "\n",
    "5. Get $\\hat{\\textbf{p}}_{tr}$ by thresholding $\\hat{p}$ with ebayes thresholding\n",
    "\n",
    "6. Calculate $\\hat{\\textbf{Y}}_{tr}$ from Inverse Graph Fourier Transform \n",
    "\n",
    "- Get $\\hat{\\textbf{Y}}^{mis}$ from values of a set of Indexed missing data on $\\hat{\\textbf{Y}}_{tr}$  \n",
    "- Define $(\\hat{\\textbf{Y}})^{(0)} = (\\textbf{Y}^{obs}, (\\hat{\\textbf{Y}}^{mis})^{(0)})$\n",
    "\n",
    "7. Learn TGNN with $(\\hat{\\textbf{Y}})^{(0)}$, and Get $\\hat{\\textbf{Y}}_{tgnn}$\n",
    "\n",
    "- Get $(\\hat{\\textbf{Y}}^{mis})^{(1)}$ from values of a set of Indexed missing data on $\\hat{\\textbf{Y}}_{tgnn}$\n",
    "- Imputatation from $(\\hat{\\textbf{Y}}^{mis})^{(0)}$ to $(\\hat{\\textbf{Y}}^{mis})^{(1)}$\n",
    "    - $(\\hat{\\textbf{Y}})^{(1)} = (\\textbf{Y}^{obs}, (\\hat{\\textbf{Y}}^{mis})^{(1)})$"
   ]
  },
  {
   "cell_type": "markdown",
   "id": "f69ffd57-26a3-4838-bc6a-bd71ead98a03",
   "metadata": {},
   "source": [
    "**Calculate MSE**"
   ]
  },
  {
   "cell_type": "markdown",
   "id": "233f51c5-3460-4b38-be2b-b86b1152d626",
   "metadata": {},
   "source": [
    "1. $l$ times Repeat the 9th step, $l$ is hyper parameter and the number of updated-values.\n",
    "\n",
    "- Get $(\\hat{\\textbf{Y}})^{(l)}$\n",
    "- $(\\hat{\\textbf{Y}})^{(l)}$ is set of vectors $(\\hat{y}_i)^{(1)} : V \\to \\mathbb{R}^N$, $i \\in T$\n",
    "- $\\hat{y}^{l}_i, i \\in T$\n",
    "\n",
    "2. Caculate MSE = $\\frac{1}{NT} \\sum^N_{n=1} \\sum^T_{t=1} (y_{nt} - (\\hat{y}_{nt})^{(l)}) ^2$"
   ]
  },
  {
   "cell_type": "markdown",
   "id": "696c17b4-d61c-4756-96fc-dc9fc9a0625e",
   "metadata": {},
   "source": [
    "# Toy Example"
   ]
  },
  {
   "cell_type": "markdown",
   "id": "6d0fb024-62fe-4672-944f-afc93c8adb76",
   "metadata": {},
   "source": [
    "directed and weighted Graph $\\cal{G} = (V, E,$$\\textbf{W})$\n",
    "\n",
    "- $|\\cal{V}| $$= N = 2$\n",
    "- $\\cal{V} = $$\\{ v_0,v_1 \\}$\n",
    "    - 노드 수는 2\n",
    "- $\\cal{E} = $$\\{ 0, 1 \\}$ \n",
    "    - 링크는 노드 0 $\\to$ 노드 1\n",
    "- a graph signal $\\textbf{y}_i: \\cal{V} $$\\to \\mathbb{R}^2$, $i \\in \\{1 \\text{ to } 10,000\\}$\n",
    "    - 노드별 타임이 10,000까지 있는 데이터\n",
    "- Graph Signal Operator $\\textbf{W}$\n",
    "    - $\\begin{bmatrix} 0 & 0 & \\cdots & 1 \\\\ 1 & 0 & \\cdots & 0 \\\\ \\vdots & \\vdots & \\ddots & \\vdots \\\\ 0 & \\cdots & 1 & 0 \\end{bmatrix}$"
   ]
  },
  {
   "cell_type": "markdown",
   "id": "2c0a30a0-8413-4ae9-9a4b-69d996d3ce0b",
   "metadata": {},
   "source": [
    "- Incomplete data $\\textbf{Y} = (\\textbf{Y}^{obs} , \\textbf{Y}^{mis})$\n",
    "    - A incomplete data $\\textbf{Y}$ is a set of vectors $y_{i} : \\cal{V} $$\\to \\mathbb{R}^N$, $i \\in T$\n",
    "    - A observed data $\\textbf{Y}^{obs}$ is a set of vectors $y^{obs}_{i}$, $i \\in \\textbf{I}$, $\\textbf{I}$ is a set of Indexed observed data.\n",
    "    - A missing data $\\textbf{Y}^{mis}$ is a set of vectors $y^{mis}_{i}$, $i \\in \\textbf{M}$, $\\textbf{M}$ is a set of Indexed missing data.\n",
    "\n",
    "\n",
    "- after linear interpolation $\\bar{\\textbf{Y}} = (\\textbf{Y}^{obs}, \\bar{\\textbf{Y}}^{mis})$.\n",
    "    - 선형보간해서 incomplete data를 complete data로\n",
    "    \n",
    "- Update values after carrying out our proposed method, epoch $= 200$ \n",
    "    - $(\\hat{\\textbf{Y}})^{(200)} = (\\textbf{Y}^{obs}, (\\hat{\\textbf{Y}}^{mis})^{(200)})$"
   ]
  },
  {
   "cell_type": "code",
   "execution_count": null,
   "id": "b4d74464-a2c5-461d-80a7-2477739aa004",
   "metadata": {},
   "outputs": [],
   "source": []
  },
  {
   "cell_type": "code",
   "execution_count": null,
   "id": "fb9d8e24-f6d5-46d3-adb9-f40c4ed65587",
   "metadata": {},
   "outputs": [],
   "source": []
  },
  {
   "cell_type": "code",
   "execution_count": null,
   "id": "c8ec9848-b1e3-4c4f-85d5-fb72e8ea0c77",
   "metadata": {},
   "outputs": [],
   "source": []
  },
  {
   "cell_type": "code",
   "execution_count": null,
   "id": "571d191c-1ff2-4bd9-8d7c-90b9c662d338",
   "metadata": {},
   "outputs": [],
   "source": []
  },
  {
   "cell_type": "code",
   "execution_count": null,
   "id": "d660fe7a-a4b5-4984-8540-36df3dc008ba",
   "metadata": {},
   "outputs": [],
   "source": []
  },
  {
   "cell_type": "markdown",
   "id": "32d9cfaf-c368-401c-91f0-5fa8c2139907",
   "metadata": {},
   "source": [
    "https://arxiv.org/pdf/1511.03512.pdf"
   ]
  },
  {
   "cell_type": "code",
   "execution_count": null,
   "id": "416f29e7-6e51-44f4-84ac-cc0e008b8b92",
   "metadata": {},
   "outputs": [],
   "source": []
  }
 ],
 "metadata": {
  "kernelspec": {
   "display_name": "Python 3",
   "language": "python",
   "name": "python3"
  },
  "language_info": {
   "codemirror_mode": {
    "name": "ipython",
    "version": 3
   },
   "file_extension": ".py",
   "mimetype": "text/x-python",
   "name": "python",
   "nbconvert_exporter": "python",
   "pygments_lexer": "ipython3",
   "version": "3.8.0"
  }
 },
 "nbformat": 4,
 "nbformat_minor": 5
}
