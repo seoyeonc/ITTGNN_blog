{
 "cells": [
  {
   "cell_type": "raw",
   "id": "9701c85c-527b-4d09-91e9-8736f944cc48",
   "metadata": {
    "id": "cac470df-29e7-4148-9bbd-d8b9a32fa570",
    "tags": []
   },
   "source": [
    "---\n",
    "title: \"Toy example / Algorithm\"\n",
    "author: \"SEOYEON CHOI\"\n",
    "date: \"2024-03-12\"\n",
    "---"
   ]
  },
  {
   "cell_type": "markdown",
   "id": "27b6f26d-7efd-46ff-b2aa-dd3b9419db74",
   "metadata": {},
   "source": [
    "# Algorithm"
   ]
  },
  {
   "cell_type": "markdown",
   "id": "62513107-4115-4901-a066-990c7aa903eb",
   "metadata": {},
   "source": [
    "**Input**"
   ]
  },
  {
   "cell_type": "markdown",
   "id": "b2f79a3c-5ba0-436d-af46-07049cc9889f",
   "metadata": {},
   "source": [
    "Graph $\\cal{G} = (V, E)$\n",
    "\n",
    "- $V$ is set of vertex $v_i$, $V = \\{ v_1, v_2, \\dots, v_N\\}$\n",
    "    - $N$ is the number $f$ Node(Vertex)\n",
    "- $E$ is set of Edges\n",
    "    - $E \\subseteq \\{ \\{ x,y \\} | x,y \\in V \\text{and } x \\ne y \\}$\n",
    "- a graph signal $y_i: v_i \\to \\mathbb{R}$, $i \\in T$\n",
    "    - $y_i$ is a function defined on the vertices of the graph $\\cal{G}$\n",
    "    - $T$ is Indexed Time.\n",
    "- $W$ is temporal weight matrix($T \\times T$)\n",
    "    - $W_{mn} = \\begin{cases} 1 & \\text{if } n-m = 1 \\\\ 0 & \\text{otherwise} \\end{cases}$\n",
    "    - $n,m \\in T$"
   ]
  },
  {
   "cell_type": "markdown",
   "id": "399aeb59-1429-4ed6-b9dc-10956783ffab",
   "metadata": {},
   "source": [
    "Suppose a equation of complete data\n",
    "\n",
    "- $y_{com}(v_{ij}) = f_{com}(v_{ij}) + \\epsilon_{com}(v_{ij})$, $i \\in N$,$j \\in T$, $V = \\{v_1,v_2, \\dots, v_N \\}$\n",
    "\n",
    "\n",
    "**Output** $\\hat{y}_{com}(v_{ij})$, $i \\in N$,$j \\in T$, $V = \\{v_1,v_2, \\dots, v_N \\}$"
   ]
  },
  {
   "cell_type": "markdown",
   "id": "081761cd-3746-4df7-831e-72b45c4ec8f9",
   "metadata": {},
   "source": [
    "1. Suppose $\\textbf{Y}_{com} = (\\textbf{Y}_{obs} , \\textbf{Y}_{mis})$\n",
    "\n",
    "- $\\textbf{Y}_{com}$ is set of vector $y_{com}(v_{ij})$, $i \\in N$,$j \\in T$, $V = \\{v_1,v_2, \\dots, v_N \\}$\n",
    "- $\\textbf{Y}_{obs}$ is set of vector $y_{obs}(v_{ij})$, $i \\in N$,$j \\in I$, $V = \\{v_1,v_2, \\dots, v_N \\}$\n",
    "    - $I$ is set of Indexed observed data.\n",
    "- $\\textbf{Y}_{mis}$ is set of vector $y_{mis}(v_{ij})$, $i \\in N$,$j \\in M$, $V = \\{v_1,v_2, \\dots, v_N \\}$\n",
    "    - $M$ is set of Indexed missing data."
   ]
  },
  {
   "cell_type": "markdown",
   "id": "662678be-0ea1-499c-be34-dd77ae3bd36e",
   "metadata": {},
   "source": [
    "2. Suppose $\\bar{\\textbf{Y}}_{com} = (\\textbf{Y}_{obs}, \\bar{\\textbf{Y}}_{mis})$\n",
    "\n",
    "-  $\\bar{\\textbf{Y}}_{mis}$ is imputated value getting by caculating Linear Interpolation with $\\textbf{Y}_{obs}$."
   ]
  },
  {
   "cell_type": "markdown",
   "id": "15265b45-e729-4bde-b263-acfe56dc529a",
   "metadata": {},
   "source": [
    "3. Define nomalized Laplacian matrix $\\textbf{L}$.\n",
    "\n",
    "- $\\textbf{L} = \\textbf{D}^{-1/2} (\\textbf{I} - \\textbf{W}) \\textbf{D}^{-1/2} = \\textbf{I} - \\tilde{\\textbf{W}}$"
   ]
  },
  {
   "cell_type": "markdown",
   "id": "7582b4d2-44d2-4125-8cd7-e1d5e7f287d9",
   "metadata": {},
   "source": [
    "4. Caculate eigen value decomposition\n",
    "\n",
    "- $\\textbf{L} = \\mathbf{V} \\Lambda \\mathbf{V}^H$"
   ]
  },
  {
   "cell_type": "markdown",
   "id": "3386a91a-2222-41b0-8a2a-88cc24cfb4ff",
   "metadata": {},
   "source": [
    "5. Apply Graph Furier Transform\n",
    "\n",
    "- ${\\mathbf{V}}^H$ $\\bar{\\textbf{Y}}_{com}$ $= \\tilde{\\textbf{Y}}_{com}$"
   ]
  },
  {
   "cell_type": "markdown",
   "id": "d8ce8d3d-c749-4e52-b265-ae333aeae306",
   "metadata": {},
   "source": [
    "6. Estimate periodogram of $\\tilde{\\textbf{Y}}_{com}$\n",
    "\n",
    "- $\\hat{\\textbf{p}}: \\frac{1}{R} \\sum^R_{r=1} |y_r|^2$, $R$ = Realization"
   ]
  },
  {
   "cell_type": "markdown",
   "id": "1af6f168-78e2-459d-bc8a-d13d5e7e932d",
   "metadata": {},
   "source": [
    "7. Get $\\hat{\\textbf{p}}_{tr}$ from ebayes thresholding"
   ]
  },
  {
   "cell_type": "markdown",
   "id": "bb079c6e-a6f4-4fcf-bd90-761ee150c97a",
   "metadata": {},
   "source": [
    "8. $\\hat{\\textbf{Y}}_{gft}$ from Inverse Graph Furier Transform \n",
    "\n",
    "- Get $\\hat{\\textbf{Y}}_{mis}$ from $\\hat{\\textbf{Y}}_{gft}$\n",
    "- Define $\\hat{\\textbf{Y}}_{com}^{(1)} = (\\textbf{Y}_{obs}, \\hat{\\textbf{Y}}_{mis})$"
   ]
  },
  {
   "cell_type": "markdown",
   "id": "ce220689-4272-49d1-bc87-716823dbaecc",
   "metadata": {},
   "source": [
    "9. Learn TGNN with $\\hat{\\textbf{Y}}_{com}^{(1)}$, and Get $\\hat{\\textbf{Y}}_{tgnn}$\n",
    "\n",
    "- Get $\\hat{\\textbf{Y}}_{mis}^{(2)}$ from $\\hat{\\textbf{Y}}_{tgnn}$\n",
    "- Define $\\hat{\\textbf{Y}}_{com}^{(2)} = (\\textbf{Y}_{obs}, \\hat{\\textbf{Y}}_{mis})$"
   ]
  },
  {
   "cell_type": "markdown",
   "id": "fa844b59-d3d2-47b4-a1c9-1cf62ddf815e",
   "metadata": {},
   "source": [
    "10. $l$ times Repeat 9th step, $l$ is hyper parameter and the number of updated-values.\n",
    "\n",
    "- Get $\\hat{\\textbf{Y}}_{com}^{(l+1)}$\n",
    "- $\\hat{\\textbf{Y}}_{com}$ is set of vector $\\hat{y}_{com}(v_{ij})$, $i \\in N$,$j \\in T$, $V = \\{v_1,v_2, \\dots, v_N \\}$\n",
    "- $\\hat{y}_{com}^{(l+1)}(v_{ij}), j \\in T, V = \\{v_1,v_2, \\dots, v_N\\}$"
   ]
  },
  {
   "cell_type": "markdown",
   "id": "001a7f07-a8e0-4a50-9dfa-0f57627906d0",
   "metadata": {},
   "source": [
    "11. Caculate MSE = $(y_{com} - \\hat{y}_{com}^{l+1}) ^2$"
   ]
  },
  {
   "cell_type": "markdown",
   "id": "696c17b4-d61c-4756-96fc-dc9fc9a0625e",
   "metadata": {},
   "source": [
    "# Toy Example"
   ]
  },
  {
   "cell_type": "markdown",
   "id": "9ff25129-05f5-4416-937d-42d597961b30",
   "metadata": {},
   "source": [
    "Graph $\\cal{G} = (V, E)$\n",
    "\n",
    "- $|V| = N = 2$\n",
    "- $V = \\{ v_1,v_2 \\}$\n",
    "    - 노드 수는 2"
   ]
  },
  {
   "cell_type": "markdown",
   "id": "6e236f76-36f7-4e71-8979-b5c6e6a0ec57",
   "metadata": {},
   "source": [
    "- $E = \\{ 0, 1 \\}$ \n",
    "    - 링크는 노드 0 -? 노드 1"
   ]
  },
  {
   "cell_type": "code",
   "execution_count": null,
   "id": "b4d74464-a2c5-461d-80a7-2477739aa004",
   "metadata": {},
   "outputs": [],
   "source": []
  },
  {
   "cell_type": "code",
   "execution_count": null,
   "id": "fb9d8e24-f6d5-46d3-adb9-f40c4ed65587",
   "metadata": {},
   "outputs": [],
   "source": []
  },
  {
   "cell_type": "code",
   "execution_count": null,
   "id": "c8ec9848-b1e3-4c4f-85d5-fb72e8ea0c77",
   "metadata": {},
   "outputs": [],
   "source": []
  },
  {
   "cell_type": "code",
   "execution_count": null,
   "id": "571d191c-1ff2-4bd9-8d7c-90b9c662d338",
   "metadata": {},
   "outputs": [],
   "source": []
  },
  {
   "cell_type": "code",
   "execution_count": null,
   "id": "d660fe7a-a4b5-4984-8540-36df3dc008ba",
   "metadata": {},
   "outputs": [],
   "source": []
  },
  {
   "cell_type": "code",
   "execution_count": null,
   "id": "81bfdf5e-0db8-4114-879c-f4eb5f44221c",
   "metadata": {},
   "outputs": [],
   "source": []
  }
 ],
 "metadata": {
  "kernelspec": {
   "display_name": "Python 3",
   "language": "python",
   "name": "python3"
  },
  "language_info": {
   "codemirror_mode": {
    "name": "ipython",
    "version": 3
   },
   "file_extension": ".py",
   "mimetype": "text/x-python",
   "name": "python",
   "nbconvert_exporter": "python",
   "pygments_lexer": "ipython3",
   "version": "3.8.0"
  }
 },
 "nbformat": 4,
 "nbformat_minor": 5
}
