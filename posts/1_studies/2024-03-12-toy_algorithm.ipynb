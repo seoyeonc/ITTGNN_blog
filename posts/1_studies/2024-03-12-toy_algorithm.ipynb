{
 "cells": [
  {
   "cell_type": "raw",
   "id": "9701c85c-527b-4d09-91e9-8736f944cc48",
   "metadata": {
    "id": "cac470df-29e7-4148-9bbd-d8b9a32fa570",
    "tags": []
   },
   "source": [
    "---\n",
    "title: \"Toy example / Algorithm\"\n",
    "author: \"SEOYEON CHOI\"\n",
    "date: \"2024-03-12\"\n",
    "---"
   ]
  },
  {
   "cell_type": "markdown",
   "id": "d9abbd66-e609-4071-b8d8-3140629bad48",
   "metadata": {},
   "source": [
    "https://www.researchgate.net/profile/Liang-Liu-42/publication/339714816_Regression_multiple_imputation_for_missing_data_analysis/links/607f43e32fb9097c0cf91255/Regression-multiple-imputation-for-missing-data-analysis.pdf\n",
    "\n",
    "\n",
    "https://arxiv.org/pdf/1511.03512.pdf\n",
    "\n",
    "\n",
    "https://citeseerx.ist.psu.edu/document?repid=rep1&type=pdf&doi=576cd01f8e2c289651ae0a86374ac6d6abb787c1"
   ]
  },
  {
   "cell_type": "markdown",
   "id": "62513107-4115-4901-a066-990c7aa903eb",
   "metadata": {},
   "source": [
    "**Define Spatio Temporal Graph data**"
   ]
  },
  {
   "cell_type": "markdown",
   "id": "b2f79a3c-5ba0-436d-af46-07049cc9889f",
   "metadata": {},
   "source": [
    "Graph ${\\cal G}$\n",
    "\n",
    "- Graph ${\\cal G} = (\\cup_{t \\in {\\cal T}} {\\cal V}_t, \\cup_{t \\in {\\cal T}} {\\cal E}_t, \\textbf{W})$ ,${\\cal T}:=\\{1,\\dots,T\\}$\n",
    "    - $T$ is the length of the time interval.\n",
    "\n",
    "- $\\cal{V}$ is a set of Verteces. ${\\cal V} = \\{v_0,v_1,\\cdots,v_{N-1}\\}$\n",
    "- $V$ is a set of an index node of $V = \\{ 0, 1, \\dots, N-1 \\}$\n",
    "    - $N$ is the number of Verteces. $|\\cal{V}| = $$N$\n",
    "- $\\cal{E}$ is a set of undirected Edges\n",
    "    - ${\\cal E} \\subseteq \\{ ( x,y ) | x,y \\in \\cal{V} $$\\text{ and } x \\ne y \\}$\n",
    "- a graph signal $\\textbf{y}$: ${\\cal V}_t \\to \\mathbb{R}^N$\n",
    "    - $\\textbf{y}$ is a function defined on the vertices of the graph $\\cal{G}$\n",
    "        - $\\textbf{y} = [y_{0,1},y_{0,2}, \\cdots, y_{1,1},y_{1,2}, \\cdots , y_{v,t}]^T$, $v \\in  V$, $t \\in {\\cal T}:=\\{1,\\dots,T\\}$\n",
    "- $\\textbf{W}_{T \\times T}$ is a weighted adjacency matrix and interpreted as a graph shift operator.\n",
    "    - Suppose Graph $\\cal{G}$ is a directed cyclic graph and has time series periodic data, which allows to consider graph adjacency matrix as $\\begin{bmatrix} 0 & 0 & \\cdots & 1 \\\\ 1 & 0 & \\cdots & 0 \\\\ \\vdots & \\vdots & \\ddots & \\vdots \\\\ 0 & \\cdots & 1 & 0 \\end{bmatrix}$"
   ]
  },
  {
   "cell_type": "markdown",
   "id": "cb34080c-c6b6-4b9c-8fd8-0ac314adfd91",
   "metadata": {},
   "source": [
    "---"
   ]
  },
  {
   "cell_type": "markdown",
   "id": "96530153-6bb1-4014-a333-5d2a5cb0d200",
   "metadata": {},
   "source": [
    "`Toy Example`"
   ]
  },
  {
   "cell_type": "markdown",
   "id": "b69d69a9-77cb-424c-bacd-ebc702d64b61",
   "metadata": {},
   "source": [
    "directed Graph $\\cal{G} = (V, E,$$\\textbf{W})$\n",
    "\n",
    "- $\\cal{V}$ is a set of Verteces. ${\\cal V} = \\{ v_0, v_1, v_2 \\}$, $|{\\cal V}| = 3$, $V = \\{ 0,1,2\\}$\n",
    "- $\\cal{E}$ is a set of undirected Edges. ${\\cal E} =\\{ ( 0, 1), ( 0, 2) \\}$\n",
    "- a graph signal $\\textbf{y}$: ${\\cal V}_t \\to \\mathbb{R}^3$\n",
    "- $T = 10$\n",
    "- ${\\cal Y} = \\{y_{0,1},y_{0,2},\\cdots,y_{2,9},y_{2,10} \\}$\n",
    "    - ${\\cal Y} = \\textbf{y}$\n",
    "- $\\textbf{W}_{10 \\times 10}$ is a weighted adjacency matrix.\n",
    "\n",
    "\n",
    "$\\textbf{W}_{10 \\times 10}\n",
    "= \\begin{bmatrix} 0 & 1 & 0 &0 & 0 & 0 &0 & 0 & 0 & 0 \\\\ 1 & 0 & 1 & 0 & 0 & 0 & 0 & 0 &0&0 \\\\ 0 & 1 & 0 & 1 & 0 & 0 & 0 & 0 &0&0\\\\ 0 & 0 & 1 & 0 & 1 & 0 & 0 & 0 & 0 & 0\\\\ 0 & 0 & 0 & 1 & 0 & 1 & 0 & 0 & 0 & 0\\\\ 0 & 0 & 0 & 0 & 1 & 0 & 1 & 0 & 0 & 0\\\\ 0 & 0 & 0 & 0 & 0 & 1 & 0 & 1 & 0 & 0\\\\ 0 & 0 & 0 & 0 & 0 & 0 & 1 & 0 & 1 & 0\\\\ 0 & 0 & 0 & 0 & 0 & 0 & 0 & 1 & 0 & 1\\\\ 0 & 0 & 0 & 0 & 0 & 0 & 0 & 0 & 1 & 0 \\end{bmatrix}$"
   ]
  },
  {
   "cell_type": "markdown",
   "id": "86e32ddb-5035-475a-b5d5-90910d54107e",
   "metadata": {},
   "source": [
    "weight matrix 수정, (dft 형태로 바꾸고, stgcn할때 ~ (패키지에서 엣지 undirect로 잡았는지 확인"
   ]
  },
  {
   "cell_type": "markdown",
   "id": "4ef80c05-29bf-4577-89cf-51a4cffca6f5",
   "metadata": {},
   "source": [
    "- $y_{v,t} \\to y_{v,t-1}$이 이어져 있다고 가정하면 위와 같이 $\\textbf{W}$가 정의 됌. \n",
    "- $v$ 자기 자신끼리는 time series peridic data로 이어져 있다고 가정"
   ]
  },
  {
   "cell_type": "markdown",
   "id": "2ae32c97-1069-4ea4-8ab5-98b1b98360b4",
   "metadata": {},
   "source": [
    "---"
   ]
  },
  {
   "cell_type": "markdown",
   "id": "06e72917-ea8b-49e1-91cf-0b7840408f52",
   "metadata": {},
   "source": [
    "**Define Complete Data**"
   ]
  },
  {
   "cell_type": "markdown",
   "id": "d058ee92-9e5e-431f-9e31-d79077bf4c00",
   "metadata": {},
   "source": [
    "1. Define ${\\cal Y} = ({\\cal O} , {\\cal M})$\n",
    "\n",
    "- A incomplete data ${\\cal O}$\n",
    "    - ${\\cal Y} = \\{ y_{v,t}:  t \\in {\\cal T}, v \\in V,\\}$\n",
    "    - ${\\cal Y} = \\textbf{Y}_{NT \\times 1}$\n",
    "    - ${\\cal Y} = \\textbf{y}$\n",
    "- A missing data ${\\cal M} = \\{ y_{v,t_v}:  t_v \\in {\\cal M}_v, v \\in V \\}$\n",
    "    - ${\\cal M}_{v_1}$: $v_1$ 노드에서 결측인 $t$들의 집합\n",
    "- A observed data ${\\cal O} = \\{ y_{v,t_v}:  t_v \\in {\\cal O}_v, v \\in V \\}$.\n",
    "    - ${\\cal O}_{v_1}$ : $v_1$ 노드에서 관측된 $t$들의 집합\n",
    "\n",
    "2. Conduct the linear interpolation $\\bar{{\\cal Y}} = ( {\\cal O} , \\tilde{ {\\cal M} } )$\n",
    "\n",
    "- ${\\cal M}$ is imputated by $\\bar{{\\cal M}}$."
   ]
  },
  {
   "cell_type": "markdown",
   "id": "239bdc4b-94b1-4605-90ae-f08cb4eb2477",
   "metadata": {},
   "source": [
    "---"
   ]
  },
  {
   "cell_type": "markdown",
   "id": "5141f483-d5c5-4c8a-bfb6-94d1e729bd6b",
   "metadata": {},
   "source": [
    "`Toy Example`"
   ]
  },
  {
   "cell_type": "markdown",
   "id": "ed643c86-f609-4cb8-b5fc-92942fe994e3",
   "metadata": {},
   "source": [
    "${\\cal y} = ( {\\cal O}, {\\cal M} )$, 노드 3개(0,1,2), 타임 10 $\\therefore 3 \\times 10= 30$\n",
    "\n",
    "- A incomplete data ${\\cal Y} = \\{ y_{0,0},y_{0,1},\\cdots, y_{1,0},y_{1,1},\\cdots, y_{2,0},y_{2,1},\\cdots \\}$\n",
    "    - ${\\cal Y} =$ $\\textbf{Y}_{30 \\times 1}$\n",
    "- A missing data ${\\cal M} = \\{ y_{0,3}, y_{0,4},\\cdots, y_{1,3},y_{1,8},\\cdots,y_{2,4},y_{2,7},\\cdots \\}$ -> 임의로 노드별로 50%의 결측값이 뿌려져 있다고 가정\n",
    "- A observed data ${\\cal O} = \\{ y_{0,0},\\cdots,y_{1,0},\\cdots,y_{2,0}\\cdots \\}$. -> 결측값이 아닌 모든 관찰된 값\n",
    "\n",
    "2. Conduct the linear interpolation $\\bar{{\\cal Y}} = ( {\\cal O} , \\tilde{ {\\cal M} } )$\n",
    "\n",
    "- ${\\cal M}$ is imputated by $\\bar{{\\cal M}}$."
   ]
  },
  {
   "cell_type": "markdown",
   "id": "256c3bd3-b2d0-4545-af46-dfd8f621aadd",
   "metadata": {},
   "source": [
    "---"
   ]
  },
  {
   "cell_type": "markdown",
   "id": "1fb4d049-c2e4-463a-be83-2b1d5016d570",
   "metadata": {},
   "source": [
    "**Repeat steps Laplacian, Eigenvalue Decomposition, Graph Fourier Transform, Ebayes Thresholding, Inverse Graph Fourier Transform, respectively**"
   ]
  },
  {
   "cell_type": "markdown",
   "id": "25af6d66-8fee-457e-b79a-d2482f6bfaa5",
   "metadata": {},
   "source": [
    "1. Define nomalized Laplacian matrix $\\textbf{L}$ from graph shift operator $W$.\n",
    "\n",
    "- $\\textbf{L} = \\textbf{D}^{-1/2} (\\textbf{I} - \\textbf{W}) \\textbf{D}^{-1/2} = \\textbf{I} - \\tilde{\\textbf{W}}$\n",
    "\n",
    "2. Caculate Eigenvalue Decomposition\n",
    "\n",
    "- $\\textbf{L} = \\mathbf{V} \\Lambda \\mathbf{V}^H$\n",
    "\n",
    "3. Apply Graph Fourier Transform\n",
    "\n",
    "- ${\\mathbf{V}}^H$ $\\bar{\\textbf{Y}}$ $= \\tilde{\\textbf{Y}}$\n",
    "\n",
    "4. Estimate periodogram of $\\tilde{\\textbf{Y}}$\n",
    "\n",
    "- $\\hat{p} := \\frac{1}{R} \\sum^R_{r=1} |\\tilde{y}_r|^2$\n",
    "    - estimation of $p$ from a finite set of $R$ realizations of the process $\\tilde{y}$\n",
    "    - $\\tilde{Y}$ is a set of vectors $\\tilde{y}_{i} : \\cal{V} $$\\to \\mathbb{R}^N$, $i \\in T$\n",
    "\n",
    "5. Get $\\hat{\\textbf{p}}_{tr}$ by thresholding $\\hat{p}$ with ebayes thresholding\n",
    "\n",
    "6. Calculate $\\hat{\\textbf{Y}}_{tr}$ from Inverse Graph Fourier Transform \n",
    "\n",
    "- Get $\\hat{\\cal{M}}$ from values of a set of Indexed missing data on $\\hat{\\textbf{Y}}_{tr}$  \n",
    "- Define $\\hat{{\\cal Y}} = ({\\cal O}, \\hat{{\\cal M}})$\n",
    "\n",
    "7. Learn TGNN with $\\hat{{\\cal Y}}$, and Get $\\hat{{\\cal Y}}_{tgnn}$\n",
    "\n",
    "- Get $\\hat{{\\cal M}}^{(1)}$ from values of a set of Indexed missing data on $\\hat{{\\cal Y}}_{tgnn}$\n",
    "- Imputatation from $\\hat{{\\cal M}}$ to $\\hat{{\\cal M}}^{(1)}$\n",
    "    - $\\hat{{\\cal Y}}^{(1)} = ({\\cal O}, \\hat{{\\cal M}}^{(1)})$\n",
    "    \n",
    "8. Repeat every steps\n",
    "\n",
    "- Get $\\hat{{\\cal Y}}^{(l)} = ({\\cal O}, \\hat{{\\cal M}}^{(l)})$\n",
    "- $l$ is the iteration."
   ]
  },
  {
   "cell_type": "markdown",
   "id": "c7893c84-9dd3-4505-b8ef-11451a95e6c6",
   "metadata": {},
   "source": [
    "---"
   ]
  },
  {
   "cell_type": "markdown",
   "id": "53502db6-45a8-4040-a87f-1e6e6f43689c",
   "metadata": {},
   "source": [
    "`Algorithm`"
   ]
  },
  {
   "cell_type": "markdown",
   "id": "1cf1ff69-9f19-4c48-9106-edce8c81a3e0",
   "metadata": {},
   "source": [
    "**input**"
   ]
  },
  {
   "cell_type": "markdown",
   "id": "c619334a-caa4-452c-81d9-2fce46b7e3ee",
   "metadata": {},
   "source": []
  },
  {
   "cell_type": "markdown",
   "id": "c2a923cd-09b3-4ddb-a20b-1a624f6048be",
   "metadata": {},
   "source": [
    "---"
   ]
  },
  {
   "cell_type": "markdown",
   "id": "a7957227-e12e-48d2-8581-09bb38777256",
   "metadata": {},
   "source": [
    "`Toy Example`"
   ]
  },
  {
   "cell_type": "markdown",
   "id": "d1486a0f-7436-4d67-a5d5-6dd72307b1dc",
   "metadata": {},
   "source": [
    "행렬 확인차 여기 예제에서만 기호 오른쪽 아래에 행 * 열 입력"
   ]
  },
  {
   "cell_type": "markdown",
   "id": "b1ec8ef3-db15-47bb-b3d0-ea22309212ea",
   "metadata": {},
   "source": [
    "그래프 라플라시안"
   ]
  },
  {
   "cell_type": "markdown",
   "id": "efe79a1a-2b94-4df0-acaa-d4354af28c96",
   "metadata": {},
   "source": [
    "- $\\textbf{L}_{10 \\times 10} = \\textbf{D}^{-1/2}_{10 \\times 10} (\\textbf{I}_{10 \\times 10} - \\textbf{W}_{10 \\times 10}) \\textbf{D}^{-1/2}_{10 \\times 10} = \\textbf{I}_{10 \\times 10} - \\tilde{\\textbf{W}}_{10 \\times 1|0}$"
   ]
  },
  {
   "cell_type": "markdown",
   "id": "0b2a17ac-6a94-495d-aa13-286cb158beb5",
   "metadata": {},
   "source": [
    "고유값 분해"
   ]
  },
  {
   "cell_type": "markdown",
   "id": "bb124fb5-8c6d-4388-9231-6fcd427f0fb2",
   "metadata": {},
   "source": [
    "- $\\textbf{L}_{10 \\times 10} = \\mathbf{V}_{10 \\times 10} \\Lambda_{10 \\times 10} \\mathbf{V}^H_{10 \\times 10}$"
   ]
  },
  {
   "cell_type": "markdown",
   "id": "6a6deaaa-f655-4129-b8ce-2d0d11b94e09",
   "metadata": {},
   "source": [
    "그래프 푸리에 변환"
   ]
  },
  {
   "cell_type": "markdown",
   "id": "cf231550-ae4e-423f-a92e-b214b6ce94d0",
   "metadata": {},
   "source": [
    "- ${\\mathbf{V}}^H_{10 \\times 10}$ $\\bar{\\textbf{Y}}_{10 \\times 3}$ $= \\tilde{\\textbf{Y}}_{10 \\times 3}$"
   ]
  },
  {
   "cell_type": "markdown",
   "id": "addde863-3007-460c-a525-a00e512e38fa",
   "metadata": {},
   "source": [
    "이베이즈"
   ]
  },
  {
   "cell_type": "markdown",
   "id": "76283dfc-e77c-473a-8a15-d6abff207404",
   "metadata": {},
   "source": [
    "- $\\tilde{y}^2$ = $\\hat{p}$ and $\\hat{p}_{tr}$ = $10 \\times 3$ matrix \n",
    "- 노드 수만큼 3번 반복"
   ]
  },
  {
   "cell_type": "markdown",
   "id": "52e527f4-2d48-4647-9174-b9fefe8e4837",
   "metadata": {},
   "source": [
    "역 그래프 푸리에 변환"
   ]
  },
  {
   "cell_type": "markdown",
   "id": "7fa076f3-dd2d-4720-8c29-4bc31ac7ae91",
   "metadata": {},
   "source": [
    "- $\\textbf{V}_{10 \\times 10} \\tilde{\\textbf{Y}}^{'}_{10 \\times 3} = \\hat{\\textbf{Y}}_{tr,10 \\times 3}$"
   ]
  },
  {
   "cell_type": "markdown",
   "id": "5a9f7bbf-e1db-4e0c-9662-5e07f4ab2e5e",
   "metadata": {},
   "source": [
    "- $\\hat{{\\cal Y}}_{tr} =  \\hat{\\textbf{Y}}_{tr,10 \\times 3}$\n",
    "- 여기서 구한 $\\hat{\\cal{Y}}_{tr}$ = $(\\hat{\\cal{O}},\\hat{\\cal{M}})$ 기존에 구한 $\\bar{{\\cal Y}} = ( {\\cal O} , \\tilde{ {\\cal M} } )$\n",
    "\n",
    "- 결측값 부분만 imputation $\\hat{{\\cal Y}} = ({\\cal O}, \\hat{{\\cal M}})$"
   ]
  },
  {
   "cell_type": "markdown",
   "id": "45b12f33-39fc-4dd9-afb6-4af946c76389",
   "metadata": {},
   "source": [
    "모델로 학습"
   ]
  },
  {
   "cell_type": "markdown",
   "id": "04e53d43-0a14-4bb5-9f22-af4f034ef938",
   "metadata": {},
   "source": [
    "- $\\hat{{\\cal Y}}$로  TGNN 학습 후 $\\hat{{\\cal Y}}_{tgnn}$ 얻고 거기서 $\\hat{{\\cal M}}^{(1)}$ 얻기\n",
    "\n",
    "- $\\hat{{\\cal M}}$을 $\\hat{{\\cal M}}^{(1)}$로 대체\n",
    "    - $\\hat{{\\cal Y}}^{(1)} = ({\\cal O}, \\hat{{\\cal M}}^{(1)})$\n",
    "    \n",
    "epoch = 20 가정\n",
    "\n",
    "$\\hat{{\\cal Y}}^{(20)} = ({\\cal O}, \\hat{{\\cal M}}^{(20)})$ 을 얻음"
   ]
  },
  {
   "cell_type": "markdown",
   "id": "3d9985a1-c7bb-4eea-a4b1-5df4d11011fe",
   "metadata": {},
   "source": [
    "---"
   ]
  },
  {
   "cell_type": "markdown",
   "id": "f69ffd57-26a3-4838-bc6a-bd71ead98a03",
   "metadata": {},
   "source": [
    "**Calculate MSE**"
   ]
  },
  {
   "cell_type": "markdown",
   "id": "233f51c5-3460-4b38-be2b-b86b1152d626",
   "metadata": {},
   "source": [
    "Caculate MSE = $\\frac{1}{NT} \\sum^N_{v=1} \\sum^T_{t=1} (y_{v,t} - (\\hat{y}_{v,t})^{(l)}) ^2$\n",
    "\n",
    "- $\\hat{{\\cal Y}}^{(l)} = ({\\cal O}, \\hat{{\\cal M}}^{(l)})$ \n",
    "- ${\\cal Y}_{com} = \\{ y_{v,t}: v \\in {\\cal V}, t \\in {\\cal T} \\}$"
   ]
  },
  {
   "cell_type": "markdown",
   "id": "582b795a-5833-449e-8a8f-a3c8faa8fb79",
   "metadata": {},
   "source": [
    "---"
   ]
  },
  {
   "cell_type": "markdown",
   "id": "10fbe7c6-7459-4555-9921-e92b0ba8a33e",
   "metadata": {},
   "source": [
    "`Toy Example`"
   ]
  },
  {
   "cell_type": "markdown",
   "id": "5361114a-0066-4e12-834a-08b9964326dc",
   "metadata": {},
   "source": [
    "$\\hat{{\\cal Y}}^{(20)} = ({\\cal O}, \\hat{{\\cal M}}^{(20)})$ 를 이용해서 에러 구하기"
   ]
  },
  {
   "cell_type": "markdown",
   "id": "a6d45ac5-e43b-4cc4-b42b-0203d2f6b01f",
   "metadata": {},
   "source": [
    "MSE = $\\frac{1}{30} \\sum^3_{v=1} \\sum^{10}_{t=1} (y_{v,t_v} - (\\hat{y}_{v,t_v})^{(20)}) ^2$"
   ]
  },
  {
   "cell_type": "markdown",
   "id": "e3b9dd31-f493-4ddc-a74b-63a643993bd6",
   "metadata": {},
   "source": [
    "---"
   ]
  },
  {
   "cell_type": "markdown",
   "id": "17ea5bd5-ec75-408b-8362-398cb6750814",
   "metadata": {},
   "source": [
    "`self consistensy`"
   ]
  },
  {
   "cell_type": "markdown",
   "id": "3be6f5ee-fc8d-4262-8e69-f49c88aa20ae",
   "metadata": {},
   "source": [
    "complete data ${\\cal Y}_{com} = ({\\cal O}, {\\cal M})$, $y_{v,t} = f(y_{v,t}) + \\epsilon$"
   ]
  },
  {
   "cell_type": "markdown",
   "id": "3fbf12d3-55c5-4f4a-b951-be15eaa16577",
   "metadata": {},
   "source": [
    "incomplete data ${\\cal Y} = ({\\cal O}, {\\cal M})$ $\\to$ imputation with linear interpolation ${\\cal Y} = ({\\cal O}, \\bar{{\\cal M}})$"
   ]
  },
  {
   "cell_type": "markdown",
   "id": "6e03086e-f04f-4113-a815-f78f80c08ec9",
   "metadata": {},
   "source": [
    "목적: "
   ]
  }
 ],
 "metadata": {
  "kernelspec": {
   "display_name": "Python 3",
   "language": "python",
   "name": "python3"
  },
  "language_info": {
   "codemirror_mode": {
    "name": "ipython",
    "version": 3
   },
   "file_extension": ".py",
   "mimetype": "text/x-python",
   "name": "python",
   "nbconvert_exporter": "python",
   "pygments_lexer": "ipython3",
   "version": "3.8.0"
  }
 },
 "nbformat": 4,
 "nbformat_minor": 5
}
