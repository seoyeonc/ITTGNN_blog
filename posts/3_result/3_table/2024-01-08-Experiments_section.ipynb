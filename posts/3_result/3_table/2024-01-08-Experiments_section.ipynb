{
 "cells": [
  {
   "cell_type": "raw",
   "id": "bafc5b20-e03f-46b7-b285-878eeac2fa5d",
   "metadata": {
    "id": "cac470df-29e7-4148-9bbd-d8b9a32fa570",
    "tags": []
   },
   "source": [
    "---\n",
    "title: \"Research Sections of Experiments\"\n",
    "author: \"SEOYEON CHOI\"\n",
    "date: \"2024-01-08\"\n",
    "execute: \n",
    "  enabled: true\n",
    "  cache: false\n",
    "  freeze: false\n",
    "  error: true\n",
    "---"
   ]
  },
  {
   "cell_type": "markdown",
   "id": "e091ab7f-e326-4c14-9d14-db29a3fff540",
   "metadata": {},
   "source": [
    "https://arxiv.org/pdf/1609.02907.pdf%EF%BC%89"
   ]
  },
  {
   "cell_type": "markdown",
   "id": "f7ba6e87-e61c-4c96-90ed-4d8d71107fbe",
   "metadata": {},
   "source": [
    "---"
   ]
  },
  {
   "cell_type": "markdown",
   "id": "aacd8197-a0e7-4986-a67d-547d21b718d2",
   "metadata": {},
   "source": [
    "Related work"
   ]
  },
  {
   "cell_type": "markdown",
   "id": "43a7cf1a-9808-4bf1-87cf-cd21c30c33bb",
   "metadata": {},
   "source": [
    "gcn은 cnn이 graph로 효율적으로 확장된 분야로 증명되어 왔다. \n",
    "\n",
    "- The progression from Convolutional Neural Networks (CNNs) to Graph Neural Networks (GCNs) \\cite{kipf2016semi} has proven to be an effective adaptation for graph-structured data.\n",
    "\n",
    "그래프 도메인에서 , 특히 입력 데이터가 시간 변수인 것을 처리하기 위해 동적 그래프의 개념이 사용되었으며,  이 그래프는 시간에 따라 정보가 변하기 때문에 시간과 공간의 정보를 캡쳐하여 사용한다면 효과적일 것이다.  \n",
    "\n",
    "- In the domain of graphs, especially when dealing with temporal variations in input data, the concept is referred to as dynamic graphs \\citep{zhou2020graph}. If the graphs captures information that evolves over time, incorporating both temporal and spatial aspects would be effective.\n",
    "\n",
    "\n",
    "이에 dcrnn과 stgcn,st-gcn이 제안되었고, 이러한 방법이다. \n",
    "\n",
    "- To delve into these architectures, a focus on spatial and temporal information is observed in DCRNN (Diffusion Convolution Recurrent Neural Network) \\cite{li2017diffusion} and STGCN (Spatio-temporal graph convolutional networks) \\cite{yu2017spatio}. DCRNN captures spatial data using Graph Neural Networks (GNNs) and subsequently transfers the output to sequence-to-sequence or sequence models like Recurrent Neural Networks (RNNs) to consider temporal dependencies. On the other hand, STGCN stacks multiple spatiotemporal convolutional blocks, each comprising a spatial graph convolutional layer and two temporal gate convolutional layers.\n",
    "\n",
    "- ST-GCN \\cite{yan2018spatial} concurrently captures spatial and temporal messages. To apply traditional GNNs to extended graphs, ST-GCN expands the static graph structure by incorporating temporal connections, involving the construction of spatiotemporal graphs through the stacking of graph frames from each time step.\n",
    "\n",
    "st data와 관련하여 method가 제안될때 다양한 방법으로 irregular에서 regular로 변환하여 사용하려는 시도가 되어져 왔고 대부분 **single imputation**하는 방법을 사용했다. \n",
    "(**simple handle 용어 모호**)\n",
    "\n",
    "-  Various approaches have been attempted in the proposal of methods related to spatiotemporal data, aiming to transform irregular patterns into regular ones. Most attempts involved the application of single imputation methods.\n",
    "\n",
    "하지만 이는 데이터를 예측하거나 분류할때 영향을 끼쳐 낮은 accuracy로 이끌 수 있다.\n",
    "\n",
    "- However, it can adversely impact accuracy when predicting or classifying the data, leading to lower accuracy.\n",
    "\n",
    "이를 개선할 수 있는 방법이 제안된다면 기존에 제안된 st data에 사용된 방법들의 더 정확한 예측값을 얻는 등 효과적인 결과를 이끌 수 있을 것이다. \n",
    "\n",
    "- If there are proposed to improce methods, it could lead to more accurate predictions and, consequently, more effective results compared to the existing approaches used for spatiotemporal data.\n",
    "\n",
    "이에 우리 연구에서는 missing 값을 처리 후 데이터의 normal trend를 활용하여 self consistecy 속성을 이용해 데이터의 예측 정확도를 키울 수 있는 접근 방식을 제안한다.\n",
    "\n",
    "- In this paper, we propose an approach that leverages the normal trend of data after handling missing values, utilizing the self-consistency property to enhance the accuracy of data predictions."
   ]
  },
  {
   "cell_type": "markdown",
   "id": "6e11064a-6755-48ff-b46c-fae3e9fd7c73",
   "metadata": {},
   "source": [
    "데이터 섹션에 추가할 것 train/test 비율 - The validation set is comprised of the final 20% of the training data."
   ]
  },
  {
   "cell_type": "markdown",
   "id": "76609b1b-1c97-4ad7-bcf1-15ab423ff432",
   "metadata": {},
   "source": [
    "1. mrate 에 따라 mse\n",
    "2. time/node ration에 따라 mse\n",
    "3. 기타(interpolation 등)"
   ]
  },
  {
   "cell_type": "code",
   "execution_count": 1,
   "id": "8323b849-e384-4b01-ab93-cbd21978f529",
   "metadata": {},
   "outputs": [
    {
     "ename": "ModuleNotFoundError",
     "evalue": "No module named 'plotly'",
     "output_type": "error",
     "traceback": [
      "\u001b[0;31m---------------------------------------------------------------------------\u001b[0m",
      "\u001b[0;31mModuleNotFoundError\u001b[0m                       Traceback (most recent call last)",
      "\u001b[0;32m/tmp/ipykernel_448692/2261596342.py\u001b[0m in \u001b[0;36m<module>\u001b[0;34m\u001b[0m\n\u001b[0;32m----> 1\u001b[0;31m \u001b[0;32mimport\u001b[0m \u001b[0mplotly\u001b[0m\u001b[0;34m.\u001b[0m\u001b[0mio\u001b[0m \u001b[0;32mas\u001b[0m \u001b[0mpio\u001b[0m\u001b[0;34m\u001b[0m\u001b[0;34m\u001b[0m\u001b[0m\n\u001b[0m",
      "\u001b[0;31mModuleNotFoundError\u001b[0m: No module named 'plotly'"
     ]
    }
   ],
   "source": [
    "\n",
    "import plotly.io as pio"
   ]
  },
  {
   "cell_type": "code",
   "execution_count": 2,
   "id": "2370ef55-1730-42af-b705-51d12ba6f9f1",
   "metadata": {},
   "outputs": [
    {
     "ename": "NameError",
     "evalue": "name 'pd' is not defined",
     "output_type": "error",
     "traceback": [
      "\u001b[0;31m---------------------------------------------------------------------------\u001b[0m",
      "\u001b[0;31mNameError\u001b[0m                                 Traceback (most recent call last)",
      "\u001b[0;32m/tmp/ipykernel_448692/1385089129.py\u001b[0m in \u001b[0;36m<module>\u001b[0;34m\u001b[0m\n\u001b[0;32m----> 1\u001b[0;31m \u001b[0mpd\u001b[0m\u001b[0;34m.\u001b[0m\u001b[0moptions\u001b[0m\u001b[0;34m.\u001b[0m\u001b[0mplotting\u001b[0m\u001b[0;34m.\u001b[0m\u001b[0mbackend\u001b[0m \u001b[0;34m=\u001b[0m \u001b[0;34m\"plotly\"\u001b[0m\u001b[0;34m\u001b[0m\u001b[0;34m\u001b[0m\u001b[0m\n\u001b[0m\u001b[1;32m      2\u001b[0m \u001b[0mpio\u001b[0m\u001b[0;34m.\u001b[0m\u001b[0mtemplates\u001b[0m\u001b[0;34m.\u001b[0m\u001b[0mdefault\u001b[0m \u001b[0;34m=\u001b[0m \u001b[0;34m\"plotly_white\"\u001b[0m\u001b[0;34m\u001b[0m\u001b[0;34m\u001b[0m\u001b[0m\n",
      "\u001b[0;31mNameError\u001b[0m: name 'pd' is not defined"
     ]
    }
   ],
   "source": [
    "pd.options.plotting.backend = \"plotly\"\n",
    "pio.templates.default = \"plotly_white\""
   ]
  },
  {
   "cell_type": "markdown",
   "id": "93d5d61e-292e-46d6-a583-0f6e6c8c598c",
   "metadata": {},
   "source": [
    "# Data"
   ]
  },
  {
   "cell_type": "code",
   "execution_count": 3,
   "id": "0029d80d-2795-480c-9753-0075f29de94c",
   "metadata": {},
   "outputs": [
    {
     "ename": "NameError",
     "evalue": "name 'pd' is not defined",
     "output_type": "error",
     "traceback": [
      "\u001b[0;31m---------------------------------------------------------------------------\u001b[0m",
      "\u001b[0;31mNameError\u001b[0m                                 Traceback (most recent call last)",
      "\u001b[0;32m/tmp/ipykernel_448692/3573772567.py\u001b[0m in \u001b[0;36m<module>\u001b[0;34m\u001b[0m\n\u001b[0;32m----> 1\u001b[0;31m \u001b[0mdf\u001b[0m \u001b[0;34m=\u001b[0m \u001b[0mpd\u001b[0m\u001b[0;34m.\u001b[0m\u001b[0mread_csv\u001b[0m\u001b[0;34m(\u001b[0m\u001b[0;34m'../Data/Body_Results.csv'\u001b[0m\u001b[0;34m)\u001b[0m\u001b[0;34m.\u001b[0m\u001b[0mquery\u001b[0m\u001b[0;34m(\u001b[0m\u001b[0;34m\"method!='GNAR'\"\u001b[0m\u001b[0;34m)\u001b[0m\u001b[0;34m.\u001b[0m\u001b[0miloc\u001b[0m\u001b[0;34m[\u001b[0m\u001b[0;34m:\u001b[0m\u001b[0;34m,\u001b[0m\u001b[0;36m1\u001b[0m\u001b[0;34m:\u001b[0m\u001b[0;34m]\u001b[0m\u001b[0;34m\u001b[0m\u001b[0;34m\u001b[0m\u001b[0m\n\u001b[0m\u001b[1;32m      2\u001b[0m \u001b[0mdf\u001b[0m\u001b[0;34m.\u001b[0m\u001b[0mhead\u001b[0m\u001b[0;34m(\u001b[0m\u001b[0;34m)\u001b[0m\u001b[0;34m\u001b[0m\u001b[0;34m\u001b[0m\u001b[0m\n",
      "\u001b[0;31mNameError\u001b[0m: name 'pd' is not defined"
     ]
    }
   ],
   "source": [
    "df = pd.read_csv('../Data/Body_Results.csv').query(\"method!='GNAR'\").iloc[:,1:]\n",
    "df.head()"
   ]
  },
  {
   "cell_type": "code",
   "execution_count": 4,
   "id": "10c5e1e5-ffec-4c40-906f-b3e57db93daf",
   "metadata": {},
   "outputs": [],
   "source": [
    "# nearest_fivenodes = pd.read_csv('../Data/Add/nearest_fivenodes.csv').query(\"method!='GNAR'\")\n",
    "# nearest_fivenodes.head()"
   ]
  },
  {
   "cell_type": "code",
   "execution_count": 5,
   "id": "af336051-d22a-426e-9410-be00b1d0e30f",
   "metadata": {},
   "outputs": [],
   "source": [
    "# nearest_pedalme = pd.read_csv('../Data/Add/nearest_pedalme.csv').query(\"method!='GNAR'\")\n",
    "# nearest_pedalme.head()"
   ]
  },
  {
   "cell_type": "code",
   "execution_count": 6,
   "id": "c0bf0dfe-f5e2-4595-9b25-82f8b7f67023",
   "metadata": {},
   "outputs": [
    {
     "ename": "NameError",
     "evalue": "name 'pd' is not defined",
     "output_type": "error",
     "traceback": [
      "\u001b[0;31m---------------------------------------------------------------------------\u001b[0m",
      "\u001b[0;31mNameError\u001b[0m                                 Traceback (most recent call last)",
      "\u001b[0;32m/tmp/ipykernel_448692/2847098642.py\u001b[0m in \u001b[0;36m<module>\u001b[0;34m\u001b[0m\n\u001b[0;32m----> 1\u001b[0;31m \u001b[0mpd\u001b[0m\u001b[0;34m.\u001b[0m\u001b[0mread_csv\u001b[0m\u001b[0;34m(\u001b[0m\u001b[0;34m'../Data/pedalme_linear.csv'\u001b[0m\u001b[0;34m)\u001b[0m\u001b[0;31m\\\u001b[0m\u001b[0;34m\u001b[0m\u001b[0;34m\u001b[0m\u001b[0m\n\u001b[0m\u001b[1;32m      2\u001b[0m \u001b[0;34m.\u001b[0m\u001b[0mquery\u001b[0m\u001b[0;34m(\u001b[0m\u001b[0;34m'model==\"TGCN\"'\u001b[0m\u001b[0;34m)\u001b[0m\u001b[0;34m.\u001b[0m\u001b[0mquery\u001b[0m\u001b[0;34m(\u001b[0m\u001b[0;34m'inter_method==\"linear\"'\u001b[0m\u001b[0;34m)\u001b[0m\u001b[0;34m.\u001b[0m\u001b[0mquery\u001b[0m\u001b[0;34m(\u001b[0m\u001b[0;34m'mtype==\"rand\"'\u001b[0m\u001b[0;34m)\u001b[0m\u001b[0;31m\\\u001b[0m\u001b[0;34m\u001b[0m\u001b[0;34m\u001b[0m\u001b[0m\n\u001b[1;32m      3\u001b[0m \u001b[0;34m.\u001b[0m\u001b[0mgroupby\u001b[0m\u001b[0;34m(\u001b[0m\u001b[0;34m[\u001b[0m\u001b[0;34m'mrate'\u001b[0m\u001b[0;34m,\u001b[0m\u001b[0;34m'method'\u001b[0m\u001b[0;34m]\u001b[0m\u001b[0;34m)\u001b[0m\u001b[0;34m.\u001b[0m\u001b[0magg\u001b[0m\u001b[0;34m(\u001b[0m\u001b[0;34m{\u001b[0m\u001b[0;34m'mse'\u001b[0m\u001b[0;34m:\u001b[0m\u001b[0;34m'mean'\u001b[0m\u001b[0;34m}\u001b[0m\u001b[0;34m)\u001b[0m\u001b[0;31m\\\u001b[0m\u001b[0;34m\u001b[0m\u001b[0;34m\u001b[0m\u001b[0m\n\u001b[1;32m      4\u001b[0m \u001b[0;34m.\u001b[0m\u001b[0mstack\u001b[0m\u001b[0;34m(\u001b[0m\u001b[0;34m)\u001b[0m\u001b[0;34m.\u001b[0m\u001b[0mreset_index\u001b[0m\u001b[0;34m(\u001b[0m\u001b[0;34m)\u001b[0m\u001b[0;34m.\u001b[0m\u001b[0mrename\u001b[0m\u001b[0;34m(\u001b[0m\u001b[0;34m{\u001b[0m\u001b[0;36m0\u001b[0m\u001b[0;34m:\u001b[0m\u001b[0;34m'mse'\u001b[0m\u001b[0;34m}\u001b[0m\u001b[0;34m,\u001b[0m\u001b[0maxis\u001b[0m\u001b[0;34m=\u001b[0m\u001b[0;36m1\u001b[0m\u001b[0;34m)\u001b[0m\u001b[0;31m\\\u001b[0m\u001b[0;34m\u001b[0m\u001b[0;34m\u001b[0m\u001b[0m\n\u001b[1;32m      5\u001b[0m \u001b[0;34m.\u001b[0m\u001b[0mplot\u001b[0m\u001b[0;34m.\u001b[0m\u001b[0mline\u001b[0m\u001b[0;34m(\u001b[0m\u001b[0mx\u001b[0m\u001b[0;34m=\u001b[0m\u001b[0;34m'mrate'\u001b[0m\u001b[0;34m,\u001b[0m\u001b[0my\u001b[0m\u001b[0;34m=\u001b[0m\u001b[0;34m'mse'\u001b[0m\u001b[0;34m,\u001b[0m\u001b[0mcolor\u001b[0m\u001b[0;34m=\u001b[0m\u001b[0;34m'method'\u001b[0m\u001b[0;34m)\u001b[0m\u001b[0;34m\u001b[0m\u001b[0;34m\u001b[0m\u001b[0m\n",
      "\u001b[0;31mNameError\u001b[0m: name 'pd' is not defined"
     ]
    }
   ],
   "source": [
    "pd.read_csv('../Data/pedalme_linear.csv')\\\n",
    ".query('model==\"TGCN\"').query('inter_method==\"linear\"').query('mtype==\"rand\"')\\\n",
    ".groupby(['mrate','method']).agg({'mse':'mean'})\\\n",
    ".stack().reset_index().rename({0:'mse'},axis=1)\\\n",
    ".plot.line(x='mrate',y='mse',color='method')"
   ]
  },
  {
   "cell_type": "markdown",
   "id": "4c638d70-4513-4297-97b0-1878126bd890",
   "metadata": {},
   "source": [
    "# 1. Missing Rate"
   ]
  },
  {
   "cell_type": "markdown",
   "id": "69bda507-3d9f-4357-b7a1-c9fcd351a60d",
   "metadata": {},
   "source": [
    "## 1.1 Trend"
   ]
  },
  {
   "cell_type": "markdown",
   "id": "205f5dde-d51a-409b-beac-7dbd6d62bf8a",
   "metadata": {},
   "source": [
    "- 실험 결과에 대한 첫번 째 접근은 다음과 같다. Figure 1의 결과는 각 결측값 비율에 따라 정리한 데이터셋에 대한 결과이다. Classic과 Proposed는 결측값 비율이 점점 증가하면서 평균제곱오차도 함께 증가하는 경향을 보였다. 특히, Classic과 Proposed 각각에 대한 trendline을 비교해본 결과, 결측값 비율이 증가할 수록 Classic에 비해 우리가 제안한 방법((Proposed)의 평균제곱오차가 느리게 증가하는 경향을 띄었다. 반면, Classic 모델은 오히려 빠르게 증가하는 경향을 띄었다. 결측값 비율이 커질수록 우리가 제안하는 방법이 비교적 낮은 오차 내에서 값을 예측해낸다는 것을 알 수 있었다.\n",
    "- The initial approach to the experimental results is as follows. Figure \\ref{} illustrates the outcomes for six datasets organized based on varying levels of missing data, with nine models employed. As the missing data rates increase, both Classic and Proposed models exhibit a tendency for the mean squared error (MSE) to rise. Particularly noteworthy is the comparison between the trendlines of Classic and Proposed: as the rate of missing values increases, the MSE of the Proposed method tends to increase more gradually compared to Classic. In contrast, the Classic model displays a more rapid increase in MSE. This comparison suggests that as the proportion of missing values grows, our proposed method (Proposed) tends to predict values with a slower increase in MSE compared to the Classic model. It becomes evident that as the missing data rate becomes higher, our proposed method performs relatively well, providing predictions with lower errors compared to the Classic model."
   ]
  },
  {
   "cell_type": "code",
   "execution_count": 7,
   "id": "f64c5814-4ecf-4d32-b113-feeb62a34d2b",
   "metadata": {},
   "outputs": [
    {
     "ename": "NameError",
     "evalue": "name 'z' is not defined",
     "output_type": "error",
     "traceback": [
      "\u001b[0;31m---------------------------------------------------------------------------\u001b[0m",
      "\u001b[0;31mNameError\u001b[0m                                 Traceback (most recent call last)",
      "\u001b[0;32m/tmp/ipykernel_448692/117319192.py\u001b[0m in \u001b[0;36m<module>\u001b[0;34m\u001b[0m\n\u001b[0;32m----> 1\u001b[0;31m \u001b[0mz\u001b[0m\u001b[0;31m# tidydata = pd.concat([df.query('dataset==\"fivenodes\" and model==\"GConvGRU\" and mtype==\"rand\"')])\u001b[0m\u001b[0;34m\u001b[0m\u001b[0;34m\u001b[0m\u001b[0m\n\u001b[0m\u001b[1;32m      2\u001b[0m \u001b[0;31m# tidydata['mrate'] = tidydata['mrate'].astype(str)\u001b[0m\u001b[0;34m\u001b[0m\u001b[0;34m\u001b[0m\u001b[0m\n\u001b[1;32m      3\u001b[0m \u001b[0;31m# tidydata = tidydata.sort_values(by=['model','mrate'])\u001b[0m\u001b[0;34m\u001b[0m\u001b[0;34m\u001b[0m\u001b[0m\n\u001b[1;32m      4\u001b[0m \u001b[0;34m\u001b[0m\u001b[0m\n\u001b[1;32m      5\u001b[0m \u001b[0;31m# fig = px.box(tidydata,x='mrate',y='mse',color='method',width=70, log_y=True)\u001b[0m\u001b[0;34m\u001b[0m\u001b[0;34m\u001b[0m\u001b[0m\n",
      "\u001b[0;31mNameError\u001b[0m: name 'z' is not defined"
     ]
    }
   ],
   "source": [
    "z# tidydata = pd.concat([df.query('dataset==\"fivenodes\" and model==\"GConvGRU\" and mtype==\"rand\"')])\n",
    "# tidydata['mrate'] = tidydata['mrate'].astype(str)\n",
    "# tidydata = tidydata.sort_values(by=['model','mrate'])\n",
    "\n",
    "# fig = px.box(tidydata,x='mrate',y='mse',color='method',width=70, log_y=True)\n",
    "\n",
    "\n",
    "# fig.layout['xaxis']['title']['text']='Missing Rate'\n",
    "# fig.layout['yaxis']['title']['text']='Mean Square Error'\n",
    "\n",
    "# fig.data[0]['marker']['color'] = 'blue'\n",
    "# fig.data[0]['name'] = 'Classic'\n",
    "\n",
    "# fig.data[1]['marker']['color'] = 'red'\n",
    "# fig.data[1]['name'] = 'Proposed'\n",
    "\n",
    "# fig.layout['legend']['title']=''\n",
    "\n",
    "# fig.update_layout(template=\"seaborn\")\n",
    "# fig.update_layout(title_text=\"Randomly Missing Values on FiveVTS\")\n",
    "# fig.update_layout(height=600, width=1800)\n",
    "\n",
    "# fig.add_trace(go.Scatter(x=tidydata.query('method==\"STGCN\"').mrate.unique(), y=(tidydata.query('method==\"STGCN\"')).groupby('mrate')['mse'].mean(), \n",
    "#                          mode=\"lines\", name=\"trendline of Classic\", line=dict(color=\"blue\",width=2)))\n",
    "# fig.add_trace(go.Scatter(x=tidydata.query('method==\"STGCN\"').mrate.unique(), y=(tidydata.query('method!=\"STGCN\"')).groupby('mrate')['mse'].mean(), \n",
    "#                          mode=\"lines\", name=\"trendline of Classic\", line=dict(color=\"red\",width=2)))\n",
    "\n",
    "# fig.update_layout(legend=dict(\n",
    "#     yanchor=\"top\",\n",
    "#     y=0.99,\n",
    "#     xanchor=\"left\",\n",
    "#     x=0.01\n",
    "# ))\n",
    "\n",
    "# fig"
   ]
  },
  {
   "cell_type": "markdown",
   "id": "80132bd8-cea6-4643-8c81-65774508eb33",
   "metadata": {
    "toc-hr-collapsed": true
   },
   "source": [
    "## 1.2 "
   ]
  },
  {
   "cell_type": "markdown",
   "id": "a6a58670-065d-4067-9d4b-d618ae8c3fd7",
   "metadata": {},
   "source": [
    "`1`의 내용에 대한 확장으로. `FiveVTS` 데이터 셋에서 `GConvGRU` 방법 이외에 시도한 다른 Classic 모델들에 대한 결과이다. `GConvGRU`, `GConvLSTM`, `GCLSTM`, `LRGCN`, `DyGrEncoder`, `EvolveGCNH`, `EvolveGCNO`, `TGCN`, `DCRNN` 모델의 결과이며. 첫번째 섹션에서 제시한 결과와 비슷하게 결측값 비율이 증가할 수록 예측값에 대한 오차가 증가하였으며. Proposed가 더 낮은 값을 띄는 경향을 보인 것을 확인할 수 있었다. 다른 데이터 셋에 대한 결과도 결측값이 증가할 수록 오차가 증가하되, 우리가 제안한 방법에 대한 mse값이 낮은 비슷한 경향을 보였으며, 나머지 모델에서 나온 6개의 데이터 셋에 대한 결과는 부록에서 확인할 수 있다."
   ]
  },
  {
   "cell_type": "code",
   "execution_count": 8,
   "id": "6ca274e8-871f-44a2-8d63-7fa0b53b615b",
   "metadata": {},
   "outputs": [],
   "source": [
    "# tidydata = pd.DataFrame(df.query(\"dataset=='fivenodes' and mtype=='rand'\"))\n",
    "\n",
    "# tidydata['model'] = pd.Categorical(tidydata['model'], categories=[\"GConvGRU\", \"GConvLSTM\", \"GCLSTM\", \"LRGCN\", \"DyGrEncoder\", \"EvolveGCNH\", \"EvolveGCNO\", \"TGCN\", \"DCRNN\"])\n",
    "# tidydata['method'] = pd.Categorical(tidydata['method'], categories=['STGCN', 'IT-STGCN'])\n",
    "\n",
    "# tidydata['mrate'] = tidydata['mrate'].astype(str)\n",
    "# tidydata = tidydata.sort_values(by=['model','mrate'])\n",
    "\n",
    "# fig = px.box(tidydata,x='mrate',y='mse',color='method',log_y=True,facet_col='model',facet_col_wrap=3)\n",
    "\n",
    "# fig.layout['xaxis']['title']['text']=''\n",
    "# fig.layout['xaxis2']['title']['text']='Missing Rate'\n",
    "# fig.layout['xaxis3']['title']['text']=''\n",
    "# fig.layout['yaxis']['title']['text']=''\n",
    "# fig.layout['yaxis4']['title']['text']='MSE(log scale)'\n",
    "# fig.layout['yaxis7']['title']['text']=''\n",
    "# fig.layout['legend']['title']='Method'\n",
    "\n",
    "# fig.layout.xaxis4.showticklabels=True\n",
    "# fig.layout.xaxis5.showticklabels=True\n",
    "# fig.layout.xaxis6.showticklabels=True\n",
    "# fig.layout.xaxis7.showticklabels=True\n",
    "# fig.layout.xaxis8.showticklabels=True\n",
    "# fig.layout.xaxis9.showticklabels=True\n",
    "\n",
    "# fig.layout.yaxis2.showticklabels=True\n",
    "# fig.layout.yaxis3.showticklabels=True\n",
    "# fig.layout.yaxis5.showticklabels=True\n",
    "# fig.layout.yaxis6.showticklabels=True\n",
    "# fig.layout.yaxis8.showticklabels=True\n",
    "# fig.layout.yaxis9.showticklabels=True\n",
    "\n",
    "# fig.layout['legend']['title']=''\n",
    "\n",
    "# for i in range(0, 9):\n",
    "#     fig.data[i]['marker']['color'] = 'blue'\n",
    "#     fig.data[i]['name'] = 'Classic'\n",
    "# for i in range(9, 18):    \n",
    "#     fig.data[i]['marker']['color'] = 'red'\n",
    "#     fig.data[i]['name'] = 'Proposed'\n",
    "\n",
    "# fig.update_layout(legend=dict(x=1, y=1, traceorder='normal', orientation='v'))\n",
    "# fig.update_layout(template=\"seaborn\")\n",
    "# fig.update_layout(title_text=\"Models on FiveVTS\")\n",
    "# fig.update_layout(height=1200, width=1900)\n",
    "\n",
    "# fig.for_each_annotation(lambda a: a.update(text=a.text.split(\"=\")[-1]))\n",
    "# fig.update_layout(legend=dict(\n",
    "#     yanchor=\"top\",\n",
    "#     y=0.99,\n",
    "#     xanchor=\"left\",\n",
    "#     x=0.01\n",
    "# ))\n",
    "\n",
    "# fig\n",
    "# # with open('fivenodes_fig.pkl', 'wb') as file:\n",
    "# #     pickle.dump(fig, file)\n",
    "# # with open('fivenodes_fig.pkl', 'rb') as file:\n",
    "# #     fivenodes_fig = pickle.load(file)\n",
    "\n",
    "# # fivenodes_fig"
   ]
  },
  {
   "cell_type": "markdown",
   "id": "3f77d79e-4b6c-4aff-8f21-763b78f1e45b",
   "metadata": {},
   "source": [
    "## 1.3 Six Datasets"
   ]
  },
  {
   "cell_type": "markdown",
   "id": "3bd08c85-84bb-4220-be4e-0833603c26af",
   "metadata": {},
   "source": [
    "- 이번 섹션에서는 데이터의 다양성을 고려하기 위하여 사용된 총 6개의 데이터에 대해 결측값 비율이 높을때(70% 혹은 80%) `GConvGRU` 모델에서 예측과 제안된 방법의 비교 결과를 제시하였다. 대부분의 데이터셋의 결과는 Classic 모델보다 Proposed 결과의 mse 값이 낮게 분포되어 있음을 확인하였다."
   ]
  },
  {
   "cell_type": "code",
   "execution_count": 9,
   "id": "bd8d3b40-50a7-41a6-9e40-b451352b3111",
   "metadata": {},
   "outputs": [],
   "source": [
    "# tidydata = pd.concat([df[(df['dataset']=='fivenodes') & (df['mtype']=='rand') & (df['inter_method']=='linear') & (df['nof_filters']==12) & \n",
    "#            (df['lags']==2) & (df['epoch']==50) & (df['model']=='GConvGRU') & (df['mrate'].isin([0.8]))],\n",
    "#         df.query(\"dataset=='chickenpox' & mtype=='rand' & inter_method == 'linear' & nof_filters==16 & lags==4 & epoch==50 & model=='GConvGRU' & (mrate == 0.8)\"),\n",
    "#           df.query(\"dataset=='pedalme' & mtype=='rand' & inter_method == 'nearest' & nof_filters==12 & lags==4 & epoch==50 & model=='GConvGRU' & (mrate == 0.8)\"),\n",
    "#           df.query(\"dataset=='wikimath' & mtype=='rand' & inter_method == 'linear' & nof_filters==12 & lags==8 & epoch==50 & model=='GConvGRU' & (mrate == 0.8)\"),\n",
    "#           df.query(\"dataset=='windmillsmall' & mtype=='rand' & inter_method == 'linear' & nof_filters==12 & lags==8 & epoch==50 & model=='GConvGRU' & (mrate == 0.7)\"),\n",
    "#           df.query(\"dataset=='monte' & mtype=='rand' & inter_method == 'nearest' & nof_filters==12 & lags==4 & epoch==50 & model=='GConvGRU' & (mrate == 0.8)\")])\n",
    "\n",
    "# # tidydata = df.query(\"dataset=='fivenodes' and mtype=='rand' and mrate in [0.7,0.8]\")\n",
    "# tidydata['model'] = pd.Categorical(tidydata['model'], categories=[\"GConvGRU\", \"GConvLSTM\", \"GCLSTM\", \"LRGCN\", \"DyGrEncoder\", \"EvolveGCNH\", \"EvolveGCNO\", \"TGCN\", \"DCRNN\"])\n",
    "# categories=[\"fivenodes\", \"chickenpox\", \"pedalme\", \"wikimath\", \"windmillsmall\", \"monte\"]\n",
    "# tidydata['method'] = pd.Categorical(tidydata['method'], categories=['STGCN', 'IT-STGCN'])\n",
    "\n",
    "# tidydata = tidydata.sort_values(by='dataset', key=lambda x: x.map({dataset: i for i, dataset in enumerate(categories)}))\n",
    "\n",
    "# fig = px.strip(tidydata,x='dataset',y='mse',color='method', log_y=True,stripmode='overlay')\n",
    "\n",
    "# fig.layout['xaxis']['title']['text']='Missing Rate'\n",
    "# fig.layout['yaxis']['title']['text']='MSE(log scale)'\n",
    "\n",
    "# # fig.layout.annotations[0].text = 'FiveVTS'\n",
    "# # fig.layout.annotations[1].text = 'Chickenpox'\n",
    "# # fig.layout.annotations[2].text = 'Pedalme'\n",
    "# # fig.layout.annotations[3].text = 'Wikimath'\n",
    "# # fig.layout.annotations[4].text = 'Windmillsmall'\n",
    "# # fig.layout.annotations[5].text = 'MontevideoBus'\n",
    "\n",
    "# # fig.layout['legend']['title']=''\n",
    "\n",
    "# fig.data[0]['marker']['color'] = 'blue'\n",
    "# fig.data[0]['name'] = 'Classic'\n",
    "# fig.data[1]['marker']['color'] = 'red'\n",
    "# fig.data[1]['name'] = 'Proposed'\n",
    "\n",
    "# fig.update_layout(template=\"seaborn\")\n",
    "# fig.update_layout(title_text=\"GConvGRU on datasets\")\n",
    "# # fig.update_yaxes(matches=None)\n",
    "# fig.update_layout(height=800, width=1900)\n",
    "# fig.update_layout(legend=dict(\n",
    "#     yanchor=\"top\",\n",
    "#     y=0.99,\n",
    "#     xanchor=\"left\",\n",
    "#     x=0.01\n",
    "#  ))\n",
    "# fig"
   ]
  },
  {
   "cell_type": "markdown",
   "id": "3c263023-fd49-45dd-af32-e52beefdb596",
   "metadata": {},
   "source": [
    "---"
   ]
  },
  {
   "cell_type": "markdown",
   "id": "49ab8796-3168-4223-a809-b0f38b872a47",
   "metadata": {},
   "source": [
    "**DCRNN 모델의 wikimath 데이터에서 결측값 비율이 낮을 때 대비 높을 때 비교**\n",
    "\n",
    "- 결측값 비율이 커지니 차이가 커진 mse 값 분포\n",
    "\n",
    "- 내용\n",
    "    - wikimath 데이터셋에서 DCRNN 결과에 대하여 결측값 비율이 작은 경우(30%) 대비 큰 경(80%)에 대하여 비교해보았다. wikimath 데이터셋에서 결측값을 주지 않았을떄, mse 값은 0.936±0.002(mean±sd)와 같았다. figure에서 보다시피, 결측값 비율이 30%으로 작을 때는 오차값이 작게 증가하였지만, 결측값의 비율이 80%로 높아졌을떄는 mse값이 확연히 높아진 것을 확인할 수 있었으며, 특히 classic 보다 proposed 의 값이 낮은 모습도 확인할 수 있었다.\n",
    "    "
   ]
  },
  {
   "cell_type": "code",
   "execution_count": 10,
   "id": "5829ab13-b75b-4b76-a143-bfc53b3f7b2d",
   "metadata": {},
   "outputs": [],
   "source": [
    "# # tidydata = pd.concat([df[(df['dataset']=='fivenodes') & (df['mtype']=='rand') & (df['inter_method']=='linear') & (df['nof_filters']==12) & \n",
    "# #            (df['lags']==2) & (df['epoch']==50) & (df['model']=='GConvGRU') & (df['mrate'].isin([0.3,0.8]))]])\n",
    "# tidydata = df.query(\"model=='DCRNN' and dataset=='wikimath' and mrate in [0.3,0.8]\")\n",
    "# tidydata['method'] = pd.Categorical(tidydata['method'], categories=['STGCN', 'IT-STGCN'])\n",
    "\n",
    "# tidydata['mrate'] = tidydata['mrate'].astype(str)\n",
    "# tidydata = tidydata.sort_values(by=['model','mrate'])\n",
    "\n",
    "# fig = px.box(tidydata,x='mrate',y='mse',width=10, points='all',log_y=True,facet_col='method')\n",
    "\n",
    "# fig.layout['xaxis2']['title']['text']='Missing Rate'\n",
    "# fig.layout['xaxis']['title']['text']='Missing Rate'\n",
    "# fig.layout['yaxis']['title']['text']='MSE(log scale)'\n",
    "\n",
    "# fig.data[0]['marker']['color'] = 'blue'\n",
    "# fig.data[1]['marker']['color'] = 'red'\n",
    "# fig.layout['legend']['title']=''\n",
    "\n",
    "# fig.layout.annotations[0].text = 'Classic'\n",
    "# fig.layout.annotations[1].text = 'Proposed'\n",
    "\n",
    "# fig.update_layout(template=\"seaborn\")\n",
    "# fig.update_layout(title_text=\"DCRNN on Wikimath\")\n",
    "# fig.update_layout(height=1000, width=1500)\n",
    "# fig.update_layout(legend=dict(\n",
    "#     yanchor=\"top\",\n",
    "#     y=0.99,\n",
    "#     xanchor=\"left\",\n",
    "#     x=0.01\n",
    "#  ))\n",
    "\n",
    "# fig"
   ]
  },
  {
   "cell_type": "markdown",
   "id": "ed64d853-18b1-40a9-91f0-d024428f9c9e",
   "metadata": {},
   "source": [
    "---"
   ]
  },
  {
   "cell_type": "code",
   "execution_count": 11,
   "id": "201e1978-6909-4d24-9373-20fdde4af2f1",
   "metadata": {},
   "outputs": [
    {
     "ename": "NameError",
     "evalue": "name 'df' is not defined",
     "output_type": "error",
     "traceback": [
      "\u001b[0;31m---------------------------------------------------------------------------\u001b[0m",
      "\u001b[0;31mNameError\u001b[0m                                 Traceback (most recent call last)",
      "\u001b[0;32m/tmp/ipykernel_448692/3491062861.py\u001b[0m in \u001b[0;36m<module>\u001b[0;34m\u001b[0m\n\u001b[0;32m----> 1\u001b[0;31m \u001b[0mfig\u001b[0m \u001b[0;34m=\u001b[0m \u001b[0mdf\u001b[0m\u001b[0;34m.\u001b[0m\u001b[0mquery\u001b[0m\u001b[0;34m(\u001b[0m\u001b[0;34m\"mtype=='rand'\"\u001b[0m\u001b[0;34m)\u001b[0m\u001b[0;34m.\u001b[0m\u001b[0mquery\u001b[0m\u001b[0;34m(\u001b[0m\u001b[0;34m\"dataset != 'windmillsmall'\"\u001b[0m\u001b[0;34m)\u001b[0m\u001b[0;31m\\\u001b[0m\u001b[0;34m\u001b[0m\u001b[0;34m\u001b[0m\u001b[0m\n\u001b[0m\u001b[1;32m      2\u001b[0m \u001b[0;34m.\u001b[0m\u001b[0mgroupby\u001b[0m\u001b[0;34m(\u001b[0m\u001b[0;34m[\u001b[0m\u001b[0;34m\"method\"\u001b[0m\u001b[0;34m,\u001b[0m\u001b[0;34m\"dataset\"\u001b[0m\u001b[0;34m,\u001b[0m\u001b[0;34m\"mrate\"\u001b[0m\u001b[0;34m,\u001b[0m\u001b[0;34m\"model\"\u001b[0m\u001b[0;34m]\u001b[0m\u001b[0;34m)\u001b[0m\u001b[0;34m.\u001b[0m\u001b[0magg\u001b[0m\u001b[0;34m(\u001b[0m\u001b[0;34m{\u001b[0m\u001b[0;34m'mse'\u001b[0m\u001b[0;34m:\u001b[0m\u001b[0;34m'mean'\u001b[0m\u001b[0;34m}\u001b[0m\u001b[0;34m)\u001b[0m\u001b[0;34m.\u001b[0m\u001b[0mreset_index\u001b[0m\u001b[0;34m(\u001b[0m\u001b[0;34m)\u001b[0m\u001b[0;31m\\\u001b[0m\u001b[0;34m\u001b[0m\u001b[0;34m\u001b[0m\u001b[0m\n\u001b[1;32m      3\u001b[0m .plot.line(\n\u001b[1;32m      4\u001b[0m     \u001b[0mx\u001b[0m\u001b[0;34m=\u001b[0m\u001b[0;34m'mrate'\u001b[0m\u001b[0;34m,\u001b[0m\u001b[0;34m\u001b[0m\u001b[0;34m\u001b[0m\u001b[0m\n\u001b[1;32m      5\u001b[0m     \u001b[0my\u001b[0m\u001b[0;34m=\u001b[0m\u001b[0;34m'mse'\u001b[0m\u001b[0;34m,\u001b[0m\u001b[0;34m\u001b[0m\u001b[0;34m\u001b[0m\u001b[0m\n",
      "\u001b[0;31mNameError\u001b[0m: name 'df' is not defined"
     ]
    }
   ],
   "source": [
    "fig = df.query(\"mtype=='rand'\").query(\"dataset != 'windmillsmall'\")\\\n",
    ".groupby([\"method\",\"dataset\",\"mrate\",\"model\"]).agg({'mse':'mean'}).reset_index()\\\n",
    ".plot.line(\n",
    "    x='mrate',\n",
    "    y='mse',\n",
    "    color='method',\n",
    "    facet_row='model',\n",
    "    facet_col='dataset',\n",
    "    width=1200,\n",
    "    height=1500,\n",
    "    \n",
    ")\n",
    "\n",
    "for scatter in fig.data:\n",
    "    scatter['mode'] = 'lines+markers'\n",
    "    scatter['line']['dash'] = 'dashdot'\n",
    "for annotation in fig.layout['annotations']:\n",
    "    annotation['text'] = annotation['text'].replace('dataset=','')\n",
    "    annotation['text'] = annotation['text'].replace('model=','')\n",
    "for k in [k for k in fig.layout if 'xaxis' in k]:\n",
    "    fig.layout[k]['title']['text'] = None \n",
    "for k in [k for k in fig.layout if 'yaxis' in k]:\n",
    "    fig.layout[k]['title']['text'] = None \n",
    "fig.update_yaxes(showticklabels=True,matches=None)\n",
    "fig.update_xaxes(showticklabels=True,matches=None)"
   ]
  },
  {
   "cell_type": "code",
   "execution_count": 12,
   "id": "876208b4-bcc7-4f1a-827e-25bf9d960cb0",
   "metadata": {},
   "outputs": [
    {
     "ename": "NameError",
     "evalue": "name 'df' is not defined",
     "output_type": "error",
     "traceback": [
      "\u001b[0;31m---------------------------------------------------------------------------\u001b[0m",
      "\u001b[0;31mNameError\u001b[0m                                 Traceback (most recent call last)",
      "\u001b[0;32m/tmp/ipykernel_448692/4071608887.py\u001b[0m in \u001b[0;36m<module>\u001b[0;34m\u001b[0m\n\u001b[0;32m----> 1\u001b[0;31m \u001b[0mbig\u001b[0m \u001b[0;34m=\u001b[0m \u001b[0mdf\u001b[0m\u001b[0;34m.\u001b[0m\u001b[0mquery\u001b[0m\u001b[0;34m(\u001b[0m\u001b[0;34m\"mtype=='rand'\"\u001b[0m\u001b[0;34m)\u001b[0m\u001b[0;34m.\u001b[0m\u001b[0mquery\u001b[0m\u001b[0;34m(\u001b[0m\u001b[0;34m\"dataset == 'wikimath'\"\u001b[0m\u001b[0;34m)\u001b[0m\u001b[0;34m.\u001b[0m\u001b[0mquery\u001b[0m\u001b[0;34m(\u001b[0m\u001b[0;34m\"model == 'GConvLSTM'\"\u001b[0m\u001b[0;34m)\u001b[0m\u001b[0;34m.\u001b[0m\u001b[0msort_values\u001b[0m\u001b[0;34m(\u001b[0m\u001b[0mby\u001b[0m\u001b[0;34m=\u001b[0m\u001b[0;34m'mrate'\u001b[0m\u001b[0;34m)\u001b[0m\u001b[0;31m\\\u001b[0m\u001b[0;34m\u001b[0m\u001b[0;34m\u001b[0m\u001b[0m\n\u001b[0m\u001b[1;32m      2\u001b[0m \u001b[0;34m.\u001b[0m\u001b[0massign\u001b[0m\u001b[0;34m(\u001b[0m\u001b[0mmrate_jittered\u001b[0m \u001b[0;34m=\u001b[0m \u001b[0;32mlambda\u001b[0m \u001b[0mdf\u001b[0m\u001b[0;34m:\u001b[0m \u001b[0mnp\u001b[0m\u001b[0;34m.\u001b[0m\u001b[0marray\u001b[0m\u001b[0;34m(\u001b[0m\u001b[0mdf\u001b[0m\u001b[0;34m[\u001b[0m\u001b[0;34m'mrate'\u001b[0m\u001b[0;34m]\u001b[0m\u001b[0;34m)\u001b[0m\u001b[0;34m+\u001b[0m\u001b[0mnp\u001b[0m\u001b[0;34m.\u001b[0m\u001b[0mrandom\u001b[0m\u001b[0;34m.\u001b[0m\u001b[0mrandn\u001b[0m\u001b[0;34m(\u001b[0m\u001b[0mlen\u001b[0m\u001b[0;34m(\u001b[0m\u001b[0mdf\u001b[0m\u001b[0;34m[\u001b[0m\u001b[0;34m'mrate'\u001b[0m\u001b[0;34m]\u001b[0m\u001b[0;34m)\u001b[0m\u001b[0;34m)\u001b[0m\u001b[0;34m*\u001b[0m\u001b[0;36m0.01\u001b[0m\u001b[0;34m)\u001b[0m\u001b[0;34m\u001b[0m\u001b[0;34m\u001b[0m\u001b[0m\n\u001b[1;32m      3\u001b[0m \u001b[0msmall\u001b[0m \u001b[0;34m=\u001b[0m \u001b[0mbig\u001b[0m\u001b[0;34m.\u001b[0m\u001b[0mgroupby\u001b[0m\u001b[0;34m(\u001b[0m\u001b[0;34m[\u001b[0m\u001b[0;34m\"dataset\"\u001b[0m\u001b[0;34m,\u001b[0m\u001b[0;34m\"mrate\"\u001b[0m\u001b[0;34m,\u001b[0m\u001b[0;34m\"method\"\u001b[0m\u001b[0;34m]\u001b[0m\u001b[0;34m)\u001b[0m\u001b[0;34m.\u001b[0m\u001b[0magg\u001b[0m\u001b[0;34m(\u001b[0m\u001b[0;34m{\u001b[0m\u001b[0;34m'mse'\u001b[0m\u001b[0;34m:\u001b[0m\u001b[0;34m'mean'\u001b[0m\u001b[0;34m}\u001b[0m\u001b[0;34m)\u001b[0m\u001b[0;34m.\u001b[0m\u001b[0mreset_index\u001b[0m\u001b[0;34m(\u001b[0m\u001b[0;34m)\u001b[0m\u001b[0;34m.\u001b[0m\u001b[0mrename\u001b[0m\u001b[0;34m(\u001b[0m\u001b[0;34m{\u001b[0m\u001b[0;34m'mse'\u001b[0m\u001b[0;34m:\u001b[0m\u001b[0;34m'mse_mean'\u001b[0m\u001b[0;34m}\u001b[0m\u001b[0;34m,\u001b[0m\u001b[0maxis\u001b[0m\u001b[0;34m=\u001b[0m\u001b[0;36m1\u001b[0m\u001b[0;34m)\u001b[0m\u001b[0;34m\u001b[0m\u001b[0;34m\u001b[0m\u001b[0m\n\u001b[1;32m      4\u001b[0m \u001b[0mtidydata\u001b[0m \u001b[0;34m=\u001b[0m \u001b[0mbig\u001b[0m\u001b[0;34m.\u001b[0m\u001b[0mmerge\u001b[0m\u001b[0;34m(\u001b[0m\u001b[0msmall\u001b[0m\u001b[0;34m)\u001b[0m\u001b[0;34m\u001b[0m\u001b[0;34m\u001b[0m\u001b[0m\n\u001b[1;32m      5\u001b[0m \u001b[0mtidydata\u001b[0m\u001b[0;34m[\u001b[0m\u001b[0;34m'mrate'\u001b[0m\u001b[0;34m]\u001b[0m \u001b[0;34m=\u001b[0m \u001b[0mtidydata\u001b[0m\u001b[0;34m[\u001b[0m\u001b[0;34m'mrate'\u001b[0m\u001b[0;34m]\u001b[0m\u001b[0;34m.\u001b[0m\u001b[0mastype\u001b[0m\u001b[0;34m(\u001b[0m\u001b[0mstr\u001b[0m\u001b[0;34m)\u001b[0m\u001b[0;34m\u001b[0m\u001b[0;34m\u001b[0m\u001b[0m\n",
      "\u001b[0;31mNameError\u001b[0m: name 'df' is not defined"
     ]
    }
   ],
   "source": [
    "big = df.query(\"mtype=='rand'\").query(\"dataset == 'wikimath'\").query(\"model == 'GConvLSTM'\").sort_values(by='mrate')\\\n",
    ".assign(mrate_jittered = lambda df: np.array(df['mrate'])+np.random.randn(len(df['mrate']))*0.01)\n",
    "small = big.groupby([\"dataset\",\"mrate\",\"method\"]).agg({'mse':'mean'}).reset_index().rename({'mse':'mse_mean'},axis=1)\n",
    "tidydata = big.merge(small)\n",
    "tidydata['mrate'] = tidydata['mrate'].astype(str)\n",
    "fig = px.scatter(\n",
    "    tidydata,\n",
    "    y='mse',\n",
    "    x='mrate_jittered',\n",
    "    opacity=0.3,\n",
    "    color='method',\n",
    "    width=750,\n",
    "    height=500,\n",
    ")\n",
    "_fig1 = px.scatter(\n",
    "    tidydata,\n",
    "    y='mse_mean',\n",
    "    x='mrate',\n",
    "    color='method',\n",
    ")\n",
    "_fig1.data[0]['mode']='markers+lines'\n",
    "_fig1.data[0]['marker']['size'] = 10\n",
    "_fig1.data[0]['line']['width'] = 3\n",
    "_fig1.data[0]['line']['dash'] = 'dashdot'\n",
    "_fig1.data[1]['mode']='markers+lines'\n",
    "_fig1.data[1]['marker']['size'] = 10\n",
    "_fig1.data[1]['line']['width'] = 3\n",
    "_fig1.data[1]['line']['dash'] = 'dashdot'\n",
    "_fig2 = px.violin(\n",
    "    tidydata.query(\"method=='STGCN'\"),\n",
    "    y='mse',\n",
    "    x='mrate',\n",
    ")\n",
    "_fig2.data[0]['opacity']=0.7\n",
    "_fig2.data[0]['marker']['color']='#636efa'\n",
    "_fig3 = px.violin(\n",
    "    tidydata.query(\"method=='IT-STGCN'\"),\n",
    "    y='mse',\n",
    "    x='mrate',\n",
    ")\n",
    "_fig3.data[0]['opacity']=0.7\n",
    "_fig3.data[0]['marker']['color']='#EF553B'\n",
    "_fig3\n",
    "for g in _fig1.data:\n",
    "    fig.add_trace(g)\n",
    "for g in _fig2.data:\n",
    "    fig.add_trace(g)\n",
    "for g in _fig3.data:\n",
    "    fig.add_trace(g)\n",
    "fig.data[0]['showlegend'] =False\n",
    "fig.data[1]['showlegend'] =False\n",
    "fig.layout['xaxis']['title']['text']='Missign Rate'\n",
    "fig.layout['yaxis']['title']['text']='MSE'\n",
    "fig.layout['legend']['title']['text']=\"\"\n",
    "fig.layout['title']['text']='Wikimath/GConvLSTM'\n",
    "fig"
   ]
  },
  {
   "cell_type": "markdown",
   "id": "4dbbec46-f0cc-46c7-97fc-4e017d4b3e6a",
   "metadata": {},
   "source": [
    "## 2.1 Time"
   ]
  },
  {
   "cell_type": "code",
   "execution_count": 13,
   "id": "454a64a5-6ff8-45bf-96da-c01681f7552d",
   "metadata": {},
   "outputs": [
    {
     "ename": "NameError",
     "evalue": "name 'pd' is not defined",
     "output_type": "error",
     "traceback": [
      "\u001b[0;31m---------------------------------------------------------------------------\u001b[0m",
      "\u001b[0;31mNameError\u001b[0m                                 Traceback (most recent call last)",
      "\u001b[0;32m/tmp/ipykernel_448692/3019983353.py\u001b[0m in \u001b[0;36m<module>\u001b[0;34m\u001b[0m\n\u001b[0;32m----> 1\u001b[0;31m \u001b[0mdf_dataset\u001b[0m \u001b[0;34m=\u001b[0m \u001b[0mpd\u001b[0m\u001b[0;34m.\u001b[0m\u001b[0mDataFrame\u001b[0m\u001b[0;34m(\u001b[0m\u001b[0;34m[\u001b[0m\u001b[0;34m[\u001b[0m\u001b[0mi\u001b[0m\u001b[0;34m,\u001b[0m\u001b[0;36m0\u001b[0m\u001b[0;34m,\u001b[0m\u001b[0;36m0\u001b[0m\u001b[0;34m]\u001b[0m \u001b[0;32mfor\u001b[0m \u001b[0mi\u001b[0m \u001b[0;32min\u001b[0m \u001b[0mset\u001b[0m\u001b[0;34m(\u001b[0m\u001b[0mdf\u001b[0m\u001b[0;34m.\u001b[0m\u001b[0mdataset\u001b[0m\u001b[0;34m)\u001b[0m\u001b[0;34m]\u001b[0m\u001b[0;34m)\u001b[0m\u001b[0;34m\u001b[0m\u001b[0;34m\u001b[0m\u001b[0m\n\u001b[0m\u001b[1;32m      2\u001b[0m \u001b[0mdf_dataset\u001b[0m\u001b[0;34m.\u001b[0m\u001b[0mcolumns\u001b[0m \u001b[0;34m=\u001b[0m \u001b[0;34m[\u001b[0m\u001b[0;34m'dataset'\u001b[0m\u001b[0;34m,\u001b[0m\u001b[0;34m'node'\u001b[0m\u001b[0;34m,\u001b[0m\u001b[0;34m'time'\u001b[0m\u001b[0;34m]\u001b[0m\u001b[0;34m\u001b[0m\u001b[0;34m\u001b[0m\u001b[0m\n\u001b[1;32m      3\u001b[0m \u001b[0;34m\u001b[0m\u001b[0m\n\u001b[1;32m      4\u001b[0m dataset_values = {\n\u001b[1;32m      5\u001b[0m     \u001b[0;34m'fivenodes'\u001b[0m\u001b[0;34m:\u001b[0m \u001b[0;34m{\u001b[0m\u001b[0;34m'time'\u001b[0m\u001b[0;34m:\u001b[0m \u001b[0;36m200\u001b[0m\u001b[0;34m,\u001b[0m \u001b[0;34m'node'\u001b[0m\u001b[0;34m:\u001b[0m \u001b[0;36m5\u001b[0m\u001b[0;34m}\u001b[0m\u001b[0;34m,\u001b[0m\u001b[0;34m\u001b[0m\u001b[0;34m\u001b[0m\u001b[0m\n",
      "\u001b[0;31mNameError\u001b[0m: name 'pd' is not defined"
     ]
    }
   ],
   "source": [
    "df_dataset = pd.DataFrame([[i,0,0] for i in set(df.dataset)])\n",
    "df_dataset.columns = ['dataset','node','time']\n",
    "\n",
    "dataset_values = {\n",
    "    'fivenodes': {'time': 200, 'node': 5},\n",
    "    'chickenpox': {'time': 522, 'node': 20},\n",
    "    'pedalme': {'time': 36, 'node': 15},\n",
    "    'wikimath': {'time': 731, 'node': 1068},\n",
    "    'windmillsmall': {'time': 17472, 'node': 11},\n",
    "    'monte': {'time': 744, 'node': 675},\n",
    "}\n",
    "\n",
    "for dataset, values in dataset_values.items():\n",
    "    df_dataset.loc[df_dataset['dataset'] == dataset, ['time', 'node']] = values.values()\n",
    "\n",
    "df_dataset\n",
    "\n",
    "df_dataset"
   ]
  },
  {
   "cell_type": "markdown",
   "id": "95e9318b-0dfa-47ef-b707-d7d17068d742",
   "metadata": {},
   "source": [
    "**time이 적은 pedalme 데이터와 time이 많은 windmillsmall 데이터의 결측값 비율이 높을 때(70% 혹은 80%) 비교**\n",
    "\n",
    "- 내용 \n",
    "    - 이 섹션에서는 train 데이터 양에 따라 학습 결과를 논의해보고자 한다. 데이터가 적은 pedalme(node=15, time=36) 데이터는 proposed method 가 dramatic한 낮은 error값을 보이지 않았다. 반면에 time이 긴 windmillsmall(node=11, time=17472)은 proposed method가 결측값이 많을 때 mse 값이 낮게 나온 모습을 볼 수 있었다. underline function을 추정하여 true 겂을 따라가려는 우리 방법론이 효율적이기 위해서 데이터 양이 많을 경우가 좋다. time이 길거나(예를 들어 오랜 기간 어떤 기계의 센서에서 측정된 값) node가 많은(측정 지점이 많은) 경우가 실제 시공간 데이터의 경우 많을 것을 기대하기 떄문에, proposed의 효과가 있을 경우가 존재할 것이다.\n",
    "    - According to the table (dataset explanation), the Time for the 'Pedalme' dataset is 36, while the time for the 'Windmillsmall' dataset is 17,472. Thus, the two datasets have different amounts of data. We compared between two datasets, and the result is on Figure 555. The variations observed in Figure 555 for each dataset indicate that the disparity between methods is relatively small for the 'Pedalme' dataset, whereas the difference is more pronounced for the 'Windmillsmall' dataset.This phenomenon arises as the increasing quantity of data facilitates learning patterns and trends. Consequently, our approach signifies its effectiveness when there is a substantial amount of data in the time aspect. "
   ]
  },
  {
   "cell_type": "code",
   "execution_count": 14,
   "id": "98acf431-d302-4f1f-a230-f8050edd97e3",
   "metadata": {},
   "outputs": [
    {
     "ename": "NameError",
     "evalue": "name 'pd' is not defined",
     "output_type": "error",
     "traceback": [
      "\u001b[0;31m---------------------------------------------------------------------------\u001b[0m",
      "\u001b[0;31mNameError\u001b[0m                                 Traceback (most recent call last)",
      "\u001b[0;32m/tmp/ipykernel_448692/2420122628.py\u001b[0m in \u001b[0;36m<module>\u001b[0;34m\u001b[0m\n\u001b[1;32m      2\u001b[0m \u001b[0;31m# windmill node = 11 time = 17,472\u001b[0m\u001b[0;34m\u001b[0m\u001b[0;34m\u001b[0m\u001b[0m\n\u001b[1;32m      3\u001b[0m \u001b[0;34m\u001b[0m\u001b[0m\n\u001b[0;32m----> 4\u001b[0;31m tidydata = pd.concat([\n\u001b[0m\u001b[1;32m      5\u001b[0m           \u001b[0mdf\u001b[0m\u001b[0;34m.\u001b[0m\u001b[0mquery\u001b[0m\u001b[0;34m(\u001b[0m\u001b[0;34m\"dataset=='pedalme' & mtype=='rand'  & model=='GCLSTM' & (mrate == 0.8)\"\u001b[0m\u001b[0;34m)\u001b[0m\u001b[0;34m,\u001b[0m\u001b[0;34m\u001b[0m\u001b[0;34m\u001b[0m\u001b[0m\n\u001b[1;32m      6\u001b[0m           df.query(\"dataset=='windmillsmall' & mtype=='rand' &  model=='GCLSTM' & (mrate == 0.7)\")])\n",
      "\u001b[0;31mNameError\u001b[0m: name 'pd' is not defined"
     ]
    }
   ],
   "source": [
    "# pedalme node = 15 time = 36\n",
    "# windmill node = 11 time = 17,472\n",
    "\n",
    "tidydata = pd.concat([\n",
    "          df.query(\"dataset=='pedalme' & mtype=='rand'  & model=='GCLSTM' & (mrate == 0.8)\"),\n",
    "          df.query(\"dataset=='windmillsmall' & mtype=='rand' &  model=='GCLSTM' & (mrate == 0.7)\")])\n",
    "\n",
    "tidydata['method'] = pd.Categorical(tidydata['method'], categories=['STGCN', 'IT-STGCN'])\n",
    "\n",
    "tidydata = tidydata.sort_values(by=['dataset','model','mrate'])\n",
    "\n",
    "fig = px.box(tidydata,x='dataset',y='mse',color='method',width=70, log_y=True, points=\"all\")\n",
    "\n",
    "fig.layout['xaxis']['title']['text']=''\n",
    "fig.layout['yaxis']['title']['text']='MSE(log scale)'\n",
    "\n",
    "fig.data[0]['marker']['color'] = 'blue'\n",
    "fig.data[0]['name'] = 'Classic'\n",
    "fig.data[1]['marker']['color'] = 'red'\n",
    "fig.data[1]['name'] = 'Proposed'\n",
    "\n",
    "# fig.layout.annotations[0].text = 'Pedalme'\n",
    "# fig.layout.annotations[1].text = 'Windmillsmall'\n",
    "\n",
    "fig.layout['legend']['title']=''\n",
    "\n",
    "fig.update_layout(template=\"seaborn\")\n",
    "fig.update_layout(title_text=\"\")\n",
    "fig.update_layout(height=800, width=1800)\n",
    "\n",
    "fig.update_layout(legend=dict(\n",
    "    yanchor=\"top\",\n",
    "    y=0.99,\n",
    "    xanchor=\"left\",\n",
    "    x=0.01\n",
    " ))\n",
    "\n",
    "fig"
   ]
  },
  {
   "cell_type": "markdown",
   "id": "961c268b-c97e-4f80-b007-0a230484acd5",
   "metadata": {},
   "source": [
    "## 2.2 Node"
   ]
  },
  {
   "cell_type": "code",
   "execution_count": 15,
   "id": "2a7d9980-0894-4633-bc5c-9fe2c6a60376",
   "metadata": {},
   "outputs": [
    {
     "ename": "NameError",
     "evalue": "name 'pd' is not defined",
     "output_type": "error",
     "traceback": [
      "\u001b[0;31m---------------------------------------------------------------------------\u001b[0m",
      "\u001b[0;31mNameError\u001b[0m                                 Traceback (most recent call last)",
      "\u001b[0;32m/tmp/ipykernel_448692/1421870093.py\u001b[0m in \u001b[0;36m<module>\u001b[0;34m\u001b[0m\n\u001b[1;32m      2\u001b[0m \u001b[0;31m# monte nodes = 675 time = 744\u001b[0m\u001b[0;34m\u001b[0m\u001b[0;34m\u001b[0m\u001b[0m\n\u001b[1;32m      3\u001b[0m \u001b[0;34m\u001b[0m\u001b[0m\n\u001b[0;32m----> 4\u001b[0;31m tidydata = pd.concat([\n\u001b[0m\u001b[1;32m      5\u001b[0m           \u001b[0mdf\u001b[0m\u001b[0;34m.\u001b[0m\u001b[0mquery\u001b[0m\u001b[0;34m(\u001b[0m\u001b[0;34m\"dataset=='wikimath' & mtype=='rand'  & model=='GCLSTM' & (mrate == 0.8)\"\u001b[0m\u001b[0;34m)\u001b[0m\u001b[0;34m,\u001b[0m\u001b[0;34m\u001b[0m\u001b[0;34m\u001b[0m\u001b[0m\n\u001b[1;32m      6\u001b[0m           df.query(\"dataset=='monte' & mtype=='rand' &  model=='GCLSTM' & (mrate == 0.8)\")])\n",
      "\u001b[0;31mNameError\u001b[0m: name 'pd' is not defined"
     ]
    }
   ],
   "source": [
    "# wikimath nodes = 1068 time = 731\n",
    "# monte nodes = 675 time = 744\n",
    "\n",
    "tidydata = pd.concat([\n",
    "          df.query(\"dataset=='wikimath' & mtype=='rand'  & model=='GCLSTM' & (mrate == 0.8)\"),\n",
    "          df.query(\"dataset=='monte' & mtype=='rand' &  model=='GCLSTM' & (mrate == 0.8)\")])\n",
    "\n",
    "tidydata['method'] = pd.Categorical(tidydata['method'], categories=['STGCN', 'IT-STGCN'])\n",
    "\n",
    "tidydata = tidydata.sort_values(by=['dataset','model','mrate'])\n",
    "\n",
    "fig = px.box(tidydata,x='dataset',y='mse',color='method',width=70, log_y=True, points=\"all\")\n",
    "\n",
    "fig.layout['xaxis']['title']['text']='Missing Rate'\n",
    "fig.layout['yaxis']['title']['text']='MSE(log scale)'\n",
    "\n",
    "fig.data[0]['marker']['color'] = 'blue'\n",
    "fig.data[0]['name'] = 'Classic'\n",
    "fig.data[1]['marker']['color'] = 'red'\n",
    "fig.data[1]['name'] = 'Proposed'\n",
    "\n",
    "fig.layout['legend']['title']=''\n",
    "\n",
    "fig.update_layout(template=\"seaborn\")\n",
    "fig.update_layout(title_text=\"\")\n",
    "fig.update_layout(height=800, width=1800)\n",
    "\n",
    "fig.update_layout(legend=dict(\n",
    "    yanchor=\"top\",\n",
    "    y=0.99,\n",
    "    xanchor=\"left\",\n",
    "    x=0.01\n",
    " ))\n",
    "\n",
    "fig"
   ]
  },
  {
   "cell_type": "code",
   "execution_count": 16,
   "id": "8810a0b8-0570-402f-8f48-4a91dfc96212",
   "metadata": {},
   "outputs": [],
   "source": [
    "# fivenodes = pd.concat([\n",
    "#     df[(df['dataset']=='fivenodes') & (df['mtype']=='rand') & (df['inter_method']=='linear') & (df['nof_filters']==12) & \n",
    "#        (df['lags']==2) & (df['epoch']==50) & (df['model']=='GConvGRU') & (df['mrate'].isin([0.3, 0.5, 0.6, 0.7, 0.8]))],\n",
    "#     df[(df['dataset']=='fivenodes') & (df['mtype']=='rand') & (df['inter_method']=='linear') & (df['nof_filters']==12) & \n",
    "#        (df['lags']==2) & (df['epoch']==50) & (df['model']=='GConvLSTM') & (df['mrate'].isin([0.3, 0.5, 0.6, 0.7, 0.8]))],\n",
    "#     df[(df['dataset']=='fivenodes') & (df['mtype']=='rand') & (df['inter_method']=='linear') & (df['nof_filters']==4) & \n",
    "#        (df['lags']==2) & (df['epoch']==50) & (df['model']=='GCLSTM') & (df['mrate'].isin([0.3, 0.5, 0.6, 0.7, 0.8]))],\n",
    "#     df[(df['dataset']=='fivenodes') & (df['mtype']=='rand') & (df['inter_method']=='linear') & (df['nof_filters']==4) & \n",
    "#        (df['lags']==2) & (df['epoch']==50) & (df['model']=='LRGCN') & (df['mrate'].isin([0.3, 0.5, 0.6, 0.7, 0.8]))],\n",
    "#     df[(df['dataset']=='fivenodes') & (df['mtype']=='rand') & (df['inter_method']=='linear') & (df['nof_filters']==12) & \n",
    "#        (df['lags']==2) & (df['epoch']==50) & (df['model']=='DyGrEncoder') & (df['mrate'].isin([0.3, 0.5, 0.6, 0.7, 0.8]))],\n",
    "#     df[(df['dataset']=='fivenodes') & (df['mtype']=='rand') & (df['inter_method']=='linear') & (df['lags']==2) & \n",
    "#        (df['epoch']==50) & (df['model']=='EvolveGCNH') & (df['mrate'].isin([0.3, 0.5, 0.6, 0.7, 0.8]))],\n",
    "#     df[(df['dataset']=='fivenodes') & (df['mtype']=='rand') & (df['inter_method']=='linear') & (df['lags']==2) & \n",
    "#        (df['epoch']==50) & (df['model']=='EvolveGCNO') & (df['mrate'].isin([0.3, 0.5, 0.6, 0.7, 0.8]))],\n",
    "#     df[(df['dataset']=='fivenodes') & (df['mtype']=='rand') & (df['inter_method']=='linear') & (df['nof_filters']==12) & \n",
    "#        (df['lags']==2) & (df['epoch']==50) & (df['model']=='TGCN') & (df['mrate'].isin([0.3, 0.5, 0.6, 0.7, 0.8]))],\n",
    "#     df[(df['dataset']=='fivenodes') & (df['mtype']=='rand') & (df['inter_method']=='linear') & (df['nof_filters']==2) & \n",
    "#        (df['lags']==2) & (df['epoch']==50) & (df['model']=='DCRNN') & (df['mrate'].isin([0.3, 0.5, 0.6, 0.7, 0.8]))]\n",
    "# ])\n",
    "# fivenodes['nodes'] = 5\n",
    "# fivenodes['time'] = 200\n",
    "# fivenodes = fivenodes.query(\"mrate==0.8\")\n",
    "\n",
    "# chickenpox = pd.concat([\n",
    "#     df.query(\"dataset=='chickenpox' & mtype=='rand' & inter_method == 'linear' & nof_filters==16 & lags==4 & epoch==50 & model=='GConvGRU' & (mrate == 0.3 | mrate == 0.5 | mrate == 0.6 | mrate == 0.8)\"),\n",
    "#     df.query(\"dataset=='chickenpox' & mtype=='rand' & inter_method == 'linear' & nof_filters==32 & lags==4 & epoch==50 & model=='GConvLSTM' & (mrate == 0.3 | mrate == 0.5 | mrate == 0.6 | mrate == 0.8)\"),\n",
    "#     df.query(\"dataset=='chickenpox' & mtype=='rand' & inter_method == 'linear' & nof_filters==16 & lags==4 & epoch==50 & model=='GCLSTM' & (mrate == 0.3 | mrate == 0.5 | mrate == 0.6 | mrate == 0.8)\"),\n",
    "#     df.query(\"dataset=='chickenpox' & mtype=='rand' & inter_method == 'linear' & nof_filters==8 & lags==4 & epoch==50 & model=='LRGCN' & (mrate == 0.3 | mrate == 0.5 | mrate == 0.6 | mrate == 0.8)\"),\n",
    "#     df.query(\"dataset=='chickenpox' & mtype=='rand' & inter_method == 'linear' & nof_filters==12 & lags==4 & epoch==50 & model=='DyGrEncoder' & (mrate == 0.3 | mrate == 0.5 | mrate == 0.6 | mrate == 0.8)\"),\n",
    "#     df.query(\"dataset=='chickenpox' & mtype=='rand' & inter_method == 'linear' & lags==4 & epoch==50 & model=='EvolveGCNH' & (mrate == 0.3 | mrate == 0.5 | mrate == 0.6 | mrate == 0.8)\"),\n",
    "#     df.query(\"dataset=='chickenpox' & mtype=='rand' & inter_method == 'linear' & lags==4 & epoch==50 & model=='EvolveGCNO' & (mrate == 0.3 | mrate == 0.5 | mrate == 0.6 | mrate == 0.8)\"),\n",
    "#     df.query(\"dataset=='chickenpox' & mtype=='rand' & inter_method == 'linear' & nof_filters==12 & lags==4 & epoch==50 & model=='TGCN' & (mrate == 0.3 | mrate == 0.5 | mrate == 0.6 | mrate == 0.8)\"),\n",
    "#     df.query(\"dataset=='chickenpox' & mtype=='rand' & inter_method == 'linear' & nof_filters==16 & lags==4 & epoch==50 & model=='DCRNN' & (mrate == 0.3 | mrate == 0.5 | mrate == 0.6 | mrate == 0.8)\")\n",
    "# ])\n",
    "# chickenpox['nodes'] = 20\n",
    "# chickenpox['time'] = 522\n",
    "# chickenpox = chickenpox.query(\"mrate==0.8\")\n",
    "\n",
    "# pedalme = pd.concat([\n",
    "#     df.query(\"dataset=='pedalme' & mtype=='rand' & inter_method == 'nearest' & nof_filters==12 & lags==4 & epoch==50 & model=='GConvGRU' & (mrate == 0.3 | mrate == 0.5 | mrate == 0.6 | mrate == 0.8)\"),\n",
    "#     df.query(\"dataset=='pedalme' & mtype=='rand' & inter_method == 'nearest' & nof_filters==2 & lags==4 & epoch==50 & model=='GConvLSTM' & (mrate == 0.3 | mrate == 0.5 | mrate == 0.6 | mrate == 0.8)\"),\n",
    "#     df.query(\"dataset=='pedalme' & mtype=='rand' & inter_method == 'nearest' & nof_filters==4 & lags==4 & epoch==50 & model=='GCLSTM' & (mrate == 0.3 | mrate == 0.5 | mrate == 0.6 | mrate == 0.8)\"),\n",
    "#     df.query(\"dataset=='pedalme' & mtype=='rand' & inter_method == 'nearest' & nof_filters==8 & lags==4 & epoch==50 & model=='LRGCN' & (mrate == 0.3 | mrate == 0.5 | mrate == 0.6 | mrate == 0.8)\"),\n",
    "#     df.query(\"dataset=='pedalme' & mtype=='rand' & inter_method == 'nearest' & nof_filters==12 & lags==4 & epoch==50 & model=='DyGrEncoder' & (mrate == 0.3 | mrate == 0.5 | mrate == 0.6 | mrate == 0.8)\"),\n",
    "#     df.query(\"dataset=='pedalme' & mtype=='rand' & inter_method == 'nearest' & lags==4 & epoch==50 & model=='EvolveGCNH' & (mrate == 0.3 | mrate == 0.5 | mrate == 0.6 | mrate == 0.8)\"),\n",
    "#     df.query(\"dataset=='pedalme' & mtype=='rand' & inter_method == 'nearest' & lags==4 & epoch==50 & model=='EvolveGCNO' & (mrate == 0.3 | mrate == 0.5 | mrate == 0.6 | mrate == 0.8)\"),\n",
    "#     df.query(\"dataset=='pedalme' & mtype=='rand' & inter_method == 'nearest' & nof_filters==12 & lags==4 & epoch==50 & model=='TGCN' & (mrate == 0.3 | mrate == 0.5 | mrate == 0.6 | mrate == 0.8)\"),\n",
    "#     df.query(\"dataset=='pedalme' & mtype=='rand' & inter_method == 'nearest' & nof_filters==8 & lags==4 & epoch==50 & model=='DCRNN' & (mrate == 0.3 | mrate == 0.5 | mrate == 0.6 | mrate == 0.8)\")\n",
    "# ], ignore_index=True)\n",
    "# pedalme['nodes'] = 15\n",
    "# pedalme['time'] = 36\n",
    "\n",
    "# pedalme = pedalme.query(\"mrate==0.8\")\n",
    "\n",
    "# wikimath = pd.concat([\n",
    "#     df.query(\"dataset=='wikimath' & mtype=='rand' & inter_method == 'linear' & nof_filters==12 & lags==8 & epoch==50 & model=='GConvGRU' & (mrate == 0.3 | mrate == 0.5 | mrate == 0.6 | mrate == 0.8)\"),\n",
    "#     df.query(\"dataset=='wikimath' & mtype=='rand' & inter_method == 'linear' & nof_filters==64 & lags==8 & epoch==50 & model=='GConvLSTM' & (mrate == 0.3 | mrate == 0.5 | mrate == 0.6 | mrate == 0.8)\"),\n",
    "#     df.query(\"dataset=='wikimath' & mtype=='rand' & inter_method == 'linear' & nof_filters==64 & lags==8 & epoch==50 & model=='GCLSTM' & (mrate == 0.3 | mrate == 0.5 | mrate == 0.6 | mrate == 0.8)\"),\n",
    "#     df.query(\"dataset=='wikimath' & mtype=='rand' & inter_method == 'linear' & nof_filters==32 & lags==8 & epoch==50 & model=='LRGCN' & (mrate == 0.3 | mrate == 0.5 | mrate == 0.6 | mrate == 0.8)\"),\n",
    "#     df.query(\"dataset=='wikimath' & mtype=='rand' & inter_method == 'linear' & nof_filters==12 & lags==8 & epoch==50 & model=='DyGrEncoder' & (mrate == 0.3 | mrate == 0.5 | mrate == 0.6 | mrate == 0.8)\"),\n",
    "#     df.query(\"dataset=='wikimath' & mtype=='rand' & inter_method == 'linear' & lags==8 & epoch==50 & model=='EvolveGCNH' & (mrate == 0.3 | mrate == 0.5 | mrate == 0.6 | mrate == 0.8)\"),\n",
    "#     df.query(\"dataset=='wikimath' & mtype=='rand' & inter_method == 'linear' & lags==8 & epoch==50 & model=='EvolveGCNO' & (mrate == 0.3 | mrate == 0.5 | mrate == 0.6 | mrate == 0.8)\"),\n",
    "#     df.query(\"dataset=='wikimath' & mtype=='rand' & inter_method == 'linear' & nof_filters==12 & lags==8 & epoch==50 & model=='TGCN' & (mrate == 0.3 | mrate == 0.5 | mrate == 0.6 | mrate == 0.8)\"),\n",
    "#     df.query(\"dataset=='wikimath' & mtype=='rand' & inter_method == 'linear' & nof_filters==12 & lags==8 & epoch==50 & model=='DCRNN' & (mrate == 0.3 | mrate == 0.5 | mrate == 0.6 | mrate == 0.8)\")\n",
    "# ], ignore_index=True)\n",
    "# wikimath['nodes'] = 1068\n",
    "# wikimath['time'] = 731\n",
    "# wikimath = wikimath.query(\"mrate==0.8\")\n",
    "\n",
    "# windmillsmall = pd.concat([\n",
    "#     df.query(\"dataset=='windmillsmall' & mtype=='rand' & inter_method == 'linear' & nof_filters==12 & lags==8 & epoch==50 & model=='GConvGRU' & (mrate == 0.3 | mrate == 0.5 | mrate == 0.6 | mrate == 0.7)\"),\n",
    "#     df.query(\"dataset=='windmillsmall' & mtype=='rand' & inter_method == 'linear' & nof_filters==16 & lags==8 & epoch==50 & model=='GConvLSTM' & (mrate == 0.3 | mrate == 0.5 | mrate == 0.6 | mrate == 0.7)\"),\n",
    "#     df.query(\"dataset=='windmillsmall' & mtype=='rand' & inter_method == 'linear' & nof_filters==16 & lags==8 & epoch==50 & model=='GCLSTM' & (mrate == 0.3 | mrate == 0.5 | mrate == 0.6 | mrate == 0.7)\"),\n",
    "#     df.query(\"dataset=='windmillsmall' & mtype=='rand' & inter_method == 'linear' & nof_filters==12 & lags==8 & epoch==50 & model=='LRGCN' & (mrate == 0.3 | mrate == 0.5 | mrate == 0.6 | mrate == 0.7)\"),\n",
    "#     df.query(\"dataset=='windmillsmall' & mtype=='rand' & inter_method == 'linear' & nof_filters==12 & lags==8 & epoch==50 & model=='DyGrEncoder' & (mrate == 0.3 | mrate == 0.5 | mrate == 0.6 | mrate == 0.7)\"),\n",
    "#     df.query(\"dataset=='windmillsmall' & mtype=='rand' & inter_method == 'linear' & lags==8 & epoch==50 & model=='EvolveGCNH' & (mrate == 0.3 | mrate == 0.5 | mrate == 0.6 | mrate == 0.7)\"),\n",
    "#     df.query(\"dataset=='windmillsmall' & mtype=='rand' & inter_method == 'linear' & lags==8 & epoch==50 & model=='EvolveGCNO' & (mrate == 0.3 | mrate == 0.5 | mrate == 0.6 | mrate == 0.7)\"),\n",
    "#     df.query(\"dataset=='windmillsmall' & mtype=='rand' & inter_method == 'linear' & nof_filters==12 & lags==8 & epoch==50 & model=='TGCN' & (mrate == 0.3 | mrate == 0.5 | mrate == 0.6 | mrate == 0.7)\"),\n",
    "#     df.query(\"dataset=='windmillsmall' & mtype=='rand' & inter_method == 'linear' & nof_filters==4 & lags==8 & epoch==50 & model=='DCRNN' & (mrate == 0.3 | mrate == 0.5 | mrate == 0.6 | mrate == 0.7)\")\n",
    "# ], ignore_index=True)\n",
    "# windmillsmall['nodes'] = 11\n",
    "# windmillsmall['time'] = 17472\n",
    "# windmillsmall = windmillsmall.query(\"mrate==0.7\")\n",
    "\n",
    "# monte = pd.concat([\n",
    "#     df.query(\"dataset=='monte' & mtype=='rand' & inter_method == 'nearest' & nof_filters==12 & lags==4 & epoch==50 & model=='GConvGRU' & (mrate == 0.3 | mrate == 0.5 | mrate == 0.7 | mrate == 0.8)\"),\n",
    "#     df.query(\"dataset=='monte' & mtype=='rand' & inter_method == 'nearest' & nof_filters==12 & lags==4 & epoch==50 & model=='GConvLSTM' & (mrate == 0.3 | mrate == 0.5 | mrate == 0.7 | mrate == 0.8)\"),\n",
    "#     df.query(\"dataset=='monte' & mtype=='rand' & inter_method == 'nearest' & nof_filters==12 & lags==4 & epoch==50 & model=='GCLSTM' & (mrate == 0.3 | mrate == 0.5 | mrate == 0.7 | mrate == 0.8)\"),\n",
    "#     df.query(\"dataset=='monte' & mtype=='rand' & inter_method == 'nearest' & nof_filters==2 & lags==4 & epoch==50 & model=='LRGCN' & (mrate == 0.3 | mrate == 0.5 | mrate == 0.7 | mrate == 0.8)\"),\n",
    "#     df.query(\"dataset=='monte' & mtype=='rand' & inter_method == 'nearest' & nof_filters==12 & lags==4 & epoch==50 & model=='DyGrEncoder' & (mrate == 0.3 | mrate == 0.5 | mrate == 0.7 | mrate == 0.8)\"),\n",
    "#     df.query(\"dataset=='monte' & mtype=='rand' & inter_method == 'nearest' & lags==4 & epoch==50 & model=='EvolveGCNH' & (mrate == 0.3 | mrate == 0.5 | mrate == 0.7 | mrate == 0.8)\"),\n",
    "#     df.query(\"dataset=='monte' & mtype=='rand' & inter_method == 'nearest' & lags==4 & epoch==50 & model=='EvolveGCNO' & (mrate == 0.3 | mrate == 0.5 | mrate == 0.7 | mrate == 0.8)\"),\n",
    "#     df.query(\"dataset=='monte' & mtype=='rand' & inter_method == 'nearest' & nof_filters==8 & lags==4 & epoch==50 & model=='TGCN' & (mrate == 0.3 | mrate == 0.5 | mrate == 0.7 | mrate == 0.8)\"),\n",
    "#     df.query(\"dataset=='monte' & mtype=='rand' & inter_method == 'nearest' & nof_filters==12 & lags==4 & epoch==50 & model=='DCRNN' & (mrate == 0.3 | mrate == 0.5 | mrate == 0.7 | mrate == 0.8)\")\n",
    "# ], ignore_index=True)\n",
    "# monte['nodes'] = 675\n",
    "# monte['time'] = 744\n",
    "# monte = monte.query(\"mrate==0.8\")\n",
    "\n",
    "# tidydata = pd.concat([fivenodes, chickenpox, pedalme, wikimath,windmillsmall, monte])\n",
    "\n",
    "# tidydata = tidydata.sort_values(by=['time'])\n",
    "# tidydata['model'] = pd.Categorical(tidydata['model'], categories=[\"GConvGRU\", \"GConvLSTM\", \"GCLSTM\", \"LRGCN\", \"DyGrEncoder\", \"EvolveGCNH\", \"EvolveGCNO\", \"TGCN\", \"DCRNN\"])\n",
    "# tidydata['method'] = pd.Categorical(tidydata['method'], categories=['STGCN', 'IT-STGCN'])\n",
    "# tidydata['time'] = tidydata['time'].astype(str)\n",
    "\n",
    "# fig = px.strip(tidydata,x='time',y='mse',log_y=True,color='model',facet_col='method')\n",
    "# fig.layout.annotations[0].text = 'Classic'\n",
    "# fig.layout.annotations[1].text = 'Proposed'\n",
    "\n",
    "# fig.layout.xaxis.title.text = ''\n",
    "# fig.layout.xaxis2.title.text = ''\n",
    "\n",
    "# fig.layout.yaxis2.showticklabels = True\n",
    "\n",
    "# fig.update_layout(template=\"seaborn\")\n",
    "# fig.update_layout(title_text=\"\")\n",
    "# fig.update_layout(height=1000, width=1800)\n",
    "# fig.update_layout(legend=dict(\n",
    "#     yanchor=\"top\",\n",
    "#     y=0.99,\n",
    "#     xanchor=\"left\",\n",
    "#     x=0.01\n",
    "#  ))\n",
    "# fig"
   ]
  },
  {
   "cell_type": "markdown",
   "id": "d488a307-e23f-41a2-bb0f-58eec65eb681",
   "metadata": {},
   "source": [
    "# 3 Interpolation"
   ]
  },
  {
   "cell_type": "markdown",
   "id": "54b1185e-e1f8-4b20-b29f-68b7b83b0062",
   "metadata": {},
   "source": [
    "## 3.1 Linear vs Nearest"
   ]
  },
  {
   "cell_type": "markdown",
   "id": "6e123ef3-f5fb-454f-a901-3f969e8e3a8b",
   "metadata": {},
   "source": [
    "**Interpolation 에 따라, block은 시각적으로 보이기 좋지 않은 예시**"
   ]
  },
  {
   "cell_type": "code",
   "execution_count": 17,
   "id": "4adf370b-dac9-4af0-b992-56c44393d896",
   "metadata": {},
   "outputs": [
    {
     "ename": "NameError",
     "evalue": "name 'nearest_fivenodes' is not defined",
     "output_type": "error",
     "traceback": [
      "\u001b[0;31m---------------------------------------------------------------------------\u001b[0m",
      "\u001b[0;31mNameError\u001b[0m                                 Traceback (most recent call last)",
      "\u001b[0;32m/tmp/ipykernel_448692/3577036985.py\u001b[0m in \u001b[0;36m<module>\u001b[0;34m\u001b[0m\n\u001b[0;32m----> 1\u001b[0;31m \u001b[0mtt\u001b[0m \u001b[0;34m=\u001b[0m \u001b[0mnearest_fivenodes\u001b[0m\u001b[0;34m.\u001b[0m\u001b[0mquery\u001b[0m\u001b[0;34m(\u001b[0m\u001b[0;34m\"dataset=='fivenodes'  and method!='GNAR' and mtype=='rand'  and nof_filters==12 and lags==2 and epoch==50 and model=='GConvGRU' and mrate in [0.3  , 0.5  , 0.6 ,0.7  , 0.8]\"\u001b[0m\u001b[0;34m)\u001b[0m\u001b[0;34m\u001b[0m\u001b[0;34m\u001b[0m\u001b[0m\n\u001b[0m\u001b[1;32m      2\u001b[0m \u001b[0mtt\u001b[0m\u001b[0;34m[\u001b[0m\u001b[0;34m'mrate'\u001b[0m\u001b[0;34m]\u001b[0m \u001b[0;34m=\u001b[0m \u001b[0mtt\u001b[0m\u001b[0;34m[\u001b[0m\u001b[0;34m'mrate'\u001b[0m\u001b[0;34m]\u001b[0m\u001b[0;34m.\u001b[0m\u001b[0mastype\u001b[0m\u001b[0;34m(\u001b[0m\u001b[0mstr\u001b[0m\u001b[0;34m)\u001b[0m\u001b[0;34m\u001b[0m\u001b[0;34m\u001b[0m\u001b[0m\n\u001b[1;32m      3\u001b[0m \u001b[0mtt\u001b[0m \u001b[0;34m=\u001b[0m \u001b[0mtt\u001b[0m\u001b[0;34m.\u001b[0m\u001b[0msort_values\u001b[0m\u001b[0;34m(\u001b[0m\u001b[0mby\u001b[0m\u001b[0;34m=\u001b[0m\u001b[0;34m[\u001b[0m\u001b[0;34m'model'\u001b[0m\u001b[0;34m,\u001b[0m\u001b[0;34m'mrate'\u001b[0m\u001b[0;34m]\u001b[0m\u001b[0;34m)\u001b[0m\u001b[0;34m\u001b[0m\u001b[0;34m\u001b[0m\u001b[0m\n\u001b[1;32m      4\u001b[0m \u001b[0mtt\u001b[0m\u001b[0;34m[\u001b[0m\u001b[0;34m'method'\u001b[0m\u001b[0;34m]\u001b[0m \u001b[0;34m=\u001b[0m \u001b[0mpd\u001b[0m\u001b[0;34m.\u001b[0m\u001b[0mCategorical\u001b[0m\u001b[0;34m(\u001b[0m\u001b[0mtt\u001b[0m\u001b[0;34m[\u001b[0m\u001b[0;34m'method'\u001b[0m\u001b[0;34m]\u001b[0m\u001b[0;34m,\u001b[0m \u001b[0mcategories\u001b[0m\u001b[0;34m=\u001b[0m\u001b[0;34m[\u001b[0m\u001b[0;34m'STGCN'\u001b[0m\u001b[0;34m,\u001b[0m \u001b[0;34m'IT-STGCN'\u001b[0m\u001b[0;34m]\u001b[0m\u001b[0;34m)\u001b[0m\u001b[0;34m\u001b[0m\u001b[0;34m\u001b[0m\u001b[0m\n\u001b[1;32m      5\u001b[0m \u001b[0;34m\u001b[0m\u001b[0m\n",
      "\u001b[0;31mNameError\u001b[0m: name 'nearest_fivenodes' is not defined"
     ]
    }
   ],
   "source": [
    "tt = nearest_fivenodes.query(\"dataset=='fivenodes'  and method!='GNAR' and mtype=='rand'  and nof_filters==12 and lags==2 and epoch==50 and model=='GConvGRU' and mrate in [0.3  , 0.5  , 0.6 ,0.7  , 0.8]\")\n",
    "tt['mrate'] = tt['mrate'].astype(str)\n",
    "tt = tt.sort_values(by=['model','mrate'])\n",
    "tt['method'] = pd.Categorical(tt['method'], categories=['STGCN', 'IT-STGCN'])\n",
    "\n",
    "fig = px.box(tt,x='mrate',y='mse',color='method',facet_col='inter_method')\n",
    "\n",
    "fig.layout['xaxis']['title']['text']='Missing Rate'\n",
    "fig.layout['yaxis']['title']['text']='MSE(log scale)'\n",
    "\n",
    "fig.data[0]['marker']['color'] = 'blue'\n",
    "fig.data[0]['name'] = 'Classic'\n",
    "fig.data[1]['marker']['color'] = 'blue'\n",
    "fig.data[1]['name'] = 'Classic'\n",
    "fig.data[2]['marker']['color'] = 'red'\n",
    "fig.data[2]['name'] = 'Proposed'\n",
    "fig.data[3]['marker']['color'] = 'red'\n",
    "fig.data[3]['name'] = 'Proposed'\n",
    "\n",
    "fig.layout['legend']['title']=''\n",
    "\n",
    "fig.update_layout(template=\"seaborn\")\n",
    "fig.update_layout(title_text=\"\")\n",
    "fig.update_layout(height=800, width=1800)\n",
    "\n",
    "fig.update_layout(legend=dict(\n",
    "    yanchor=\"top\",\n",
    "    y=0.99,\n",
    "    xanchor=\"left\",\n",
    "    x=0.01\n",
    " ))\n",
    "fig"
   ]
  },
  {
   "cell_type": "code",
   "execution_count": 18,
   "id": "4a790af3-a0c5-4b9d-9705-90141184c59c",
   "metadata": {},
   "outputs": [
    {
     "ename": "NameError",
     "evalue": "name 'nearest_fivenodes' is not defined",
     "output_type": "error",
     "traceback": [
      "\u001b[0;31m---------------------------------------------------------------------------\u001b[0m",
      "\u001b[0;31mNameError\u001b[0m                                 Traceback (most recent call last)",
      "\u001b[0;32m/tmp/ipykernel_448692/406157598.py\u001b[0m in \u001b[0;36m<module>\u001b[0;34m\u001b[0m\n\u001b[0;32m----> 1\u001b[0;31m \u001b[0mnearest_fivenodes\u001b[0m\u001b[0;34m.\u001b[0m\u001b[0mmodel\u001b[0m\u001b[0;34m.\u001b[0m\u001b[0munique\u001b[0m\u001b[0;34m(\u001b[0m\u001b[0;34m)\u001b[0m\u001b[0;34m\u001b[0m\u001b[0;34m\u001b[0m\u001b[0m\n\u001b[0m",
      "\u001b[0;31mNameError\u001b[0m: name 'nearest_fivenodes' is not defined"
     ]
    }
   ],
   "source": [
    "nearest_fivenodes.model.unique()"
   ]
  },
  {
   "cell_type": "code",
   "execution_count": 19,
   "id": "65d21c7b-626c-4060-adfc-121c0a6a4f38",
   "metadata": {},
   "outputs": [
    {
     "ename": "NameError",
     "evalue": "name 'nearest_pedalme' is not defined",
     "output_type": "error",
     "traceback": [
      "\u001b[0;31m---------------------------------------------------------------------------\u001b[0m",
      "\u001b[0;31mNameError\u001b[0m                                 Traceback (most recent call last)",
      "\u001b[0;32m/tmp/ipykernel_448692/1192706541.py\u001b[0m in \u001b[0;36m<module>\u001b[0;34m\u001b[0m\n\u001b[0;32m----> 1\u001b[0;31m \u001b[0mtt\u001b[0m \u001b[0;34m=\u001b[0m \u001b[0mnearest_pedalme\u001b[0m\u001b[0;34m.\u001b[0m\u001b[0mquery\u001b[0m\u001b[0;34m(\u001b[0m\u001b[0;34m\"dataset=='pedalme' and method!='GNAR' and mtype=='rand' and nof_filters==12 and lags==4 and epoch==50 and model=='GConvGRU' and mrate in [0.3,0.5,0.6,0.8]\"\u001b[0m\u001b[0;34m)\u001b[0m\u001b[0;34m\u001b[0m\u001b[0;34m\u001b[0m\u001b[0m\n\u001b[0m\u001b[1;32m      2\u001b[0m \u001b[0mtt\u001b[0m\u001b[0;34m[\u001b[0m\u001b[0;34m'mrate'\u001b[0m\u001b[0;34m]\u001b[0m \u001b[0;34m=\u001b[0m \u001b[0mtt\u001b[0m\u001b[0;34m[\u001b[0m\u001b[0;34m'mrate'\u001b[0m\u001b[0;34m]\u001b[0m\u001b[0;34m.\u001b[0m\u001b[0mastype\u001b[0m\u001b[0;34m(\u001b[0m\u001b[0mstr\u001b[0m\u001b[0;34m)\u001b[0m\u001b[0;34m\u001b[0m\u001b[0;34m\u001b[0m\u001b[0m\n\u001b[1;32m      3\u001b[0m \u001b[0mtt\u001b[0m \u001b[0;34m=\u001b[0m \u001b[0mtt\u001b[0m\u001b[0;34m.\u001b[0m\u001b[0msort_values\u001b[0m\u001b[0;34m(\u001b[0m\u001b[0mby\u001b[0m\u001b[0;34m=\u001b[0m\u001b[0;34m[\u001b[0m\u001b[0;34m'model'\u001b[0m\u001b[0;34m,\u001b[0m\u001b[0;34m'mrate'\u001b[0m\u001b[0;34m]\u001b[0m\u001b[0;34m)\u001b[0m\u001b[0;34m\u001b[0m\u001b[0;34m\u001b[0m\u001b[0m\n\u001b[1;32m      4\u001b[0m \u001b[0mfig\u001b[0m \u001b[0;34m=\u001b[0m \u001b[0mpx\u001b[0m\u001b[0;34m.\u001b[0m\u001b[0mbox\u001b[0m\u001b[0;34m(\u001b[0m\u001b[0mtt\u001b[0m\u001b[0;34m,\u001b[0m\u001b[0mx\u001b[0m\u001b[0;34m=\u001b[0m\u001b[0;34m'mrate'\u001b[0m\u001b[0;34m,\u001b[0m\u001b[0my\u001b[0m\u001b[0;34m=\u001b[0m\u001b[0;34m'mse'\u001b[0m\u001b[0;34m,\u001b[0m\u001b[0mcolor\u001b[0m\u001b[0;34m=\u001b[0m\u001b[0;34m'method'\u001b[0m\u001b[0;34m,\u001b[0m\u001b[0mfacet_col\u001b[0m\u001b[0;34m=\u001b[0m\u001b[0;34m'inter_method'\u001b[0m\u001b[0;34m)\u001b[0m\u001b[0;34m\u001b[0m\u001b[0;34m\u001b[0m\u001b[0m\n\u001b[1;32m      5\u001b[0m \u001b[0mfig\u001b[0m\u001b[0;34m.\u001b[0m\u001b[0mlayout\u001b[0m\u001b[0;34m[\u001b[0m\u001b[0;34m'xaxis'\u001b[0m\u001b[0;34m]\u001b[0m\u001b[0;34m[\u001b[0m\u001b[0;34m'title'\u001b[0m\u001b[0;34m]\u001b[0m\u001b[0;34m[\u001b[0m\u001b[0;34m'text'\u001b[0m\u001b[0;34m]\u001b[0m\u001b[0;34m=\u001b[0m\u001b[0;34m'Missing Rate'\u001b[0m\u001b[0;34m\u001b[0m\u001b[0;34m\u001b[0m\u001b[0m\n",
      "\u001b[0;31mNameError\u001b[0m: name 'nearest_pedalme' is not defined"
     ]
    }
   ],
   "source": [
    "tt = nearest_pedalme.query(\"dataset=='pedalme' and method!='GNAR' and mtype=='rand' and nof_filters==12 and lags==4 and epoch==50 and model=='GConvGRU' and mrate in [0.3,0.5,0.6,0.8]\")\n",
    "tt['mrate'] = tt['mrate'].astype(str)\n",
    "tt = tt.sort_values(by=['model','mrate'])\n",
    "fig = px.box(tt,x='mrate',y='mse',color='method',facet_col='inter_method')\n",
    "fig.layout['xaxis']['title']['text']='Missing Rate'\n",
    "fig.layout['yaxis']['title']['text']='MSE(log scale)'\n",
    "\n",
    "fig.data[0]['marker']['color'] = 'blue'\n",
    "fig.data[0]['name'] = 'Classic'\n",
    "fig.data[1]['marker']['color'] = 'blue'\n",
    "fig.data[1]['name'] = 'Classic'\n",
    "fig.data[2]['marker']['color'] = 'red'\n",
    "fig.data[2]['name'] = 'Proposed'\n",
    "fig.data[3]['marker']['color'] = 'red'\n",
    "fig.data[3]['name'] = 'Proposed'\n",
    "\n",
    "fig.layout['legend']['title']=''\n",
    "\n",
    "fig.update_layout(template=\"seaborn\")\n",
    "fig.update_layout(title_text=\"\")\n",
    "fig.update_layout(height=800, width=1800)\n",
    "\n",
    "fig.update_layout(legend=dict(\n",
    "    yanchor=\"top\",\n",
    "    y=0.99,\n",
    "    xanchor=\"left\",\n",
    "    x=0.01\n",
    " ))\n",
    "fig"
   ]
  },
  {
   "cell_type": "markdown",
   "id": "569e20ff-d67e-4c1c-b33f-d3374a4a2dcd",
   "metadata": {},
   "source": [
    "# 4 Missing Type"
   ]
  },
  {
   "cell_type": "markdown",
   "id": "a4924d17-d56b-4266-9a4f-131dafb9b577",
   "metadata": {},
   "source": [
    "## 4.1 Block vs random"
   ]
  },
  {
   "cell_type": "code",
   "execution_count": 20,
   "id": "dbd61f41-0d4a-4c39-8cc8-c1afc5bf8c20",
   "metadata": {},
   "outputs": [
    {
     "ename": "NameError",
     "evalue": "name 'df' is not defined",
     "output_type": "error",
     "traceback": [
      "\u001b[0;31m---------------------------------------------------------------------------\u001b[0m",
      "\u001b[0;31mNameError\u001b[0m                                 Traceback (most recent call last)",
      "\u001b[0;32m/tmp/ipykernel_448692/2720413677.py\u001b[0m in \u001b[0;36m<module>\u001b[0;34m\u001b[0m\n\u001b[0;32m----> 1\u001b[0;31m \u001b[0mtt\u001b[0m\u001b[0;34m=\u001b[0m\u001b[0mdf\u001b[0m\u001b[0;34m.\u001b[0m\u001b[0mquery\u001b[0m\u001b[0;34m(\u001b[0m\u001b[0;34m\"mtype in ['rand','block'] and mrate in [0.2877697841726618, 0.3] and dataset=='chickenpox'\"\u001b[0m\u001b[0;34m)\u001b[0m\u001b[0;34m\u001b[0m\u001b[0;34m\u001b[0m\u001b[0m\n\u001b[0m\u001b[1;32m      2\u001b[0m \u001b[0mtt\u001b[0m\u001b[0;34m[\u001b[0m\u001b[0;34m'mrate'\u001b[0m\u001b[0;34m]\u001b[0m \u001b[0;34m=\u001b[0m \u001b[0mtt\u001b[0m\u001b[0;34m[\u001b[0m\u001b[0;34m'mrate'\u001b[0m\u001b[0;34m]\u001b[0m\u001b[0;34m.\u001b[0m\u001b[0mastype\u001b[0m\u001b[0;34m(\u001b[0m\u001b[0mstr\u001b[0m\u001b[0;34m)\u001b[0m\u001b[0;34m\u001b[0m\u001b[0;34m\u001b[0m\u001b[0m\n\u001b[1;32m      3\u001b[0m \u001b[0mtt\u001b[0m \u001b[0;34m=\u001b[0m \u001b[0mtt\u001b[0m\u001b[0;34m.\u001b[0m\u001b[0msort_values\u001b[0m\u001b[0;34m(\u001b[0m\u001b[0mby\u001b[0m\u001b[0;34m=\u001b[0m\u001b[0;34m[\u001b[0m\u001b[0;34m'model'\u001b[0m\u001b[0;34m,\u001b[0m\u001b[0;34m'mrate'\u001b[0m\u001b[0;34m]\u001b[0m\u001b[0;34m)\u001b[0m\u001b[0;34m\u001b[0m\u001b[0;34m\u001b[0m\u001b[0m\n\u001b[1;32m      4\u001b[0m \u001b[0;34m\u001b[0m\u001b[0m\n\u001b[1;32m      5\u001b[0m \u001b[0mfig\u001b[0m \u001b[0;34m=\u001b[0m \u001b[0mpx\u001b[0m\u001b[0;34m.\u001b[0m\u001b[0mbox\u001b[0m\u001b[0;34m(\u001b[0m\u001b[0mtt\u001b[0m\u001b[0;34m,\u001b[0m\u001b[0mx\u001b[0m\u001b[0;34m=\u001b[0m\u001b[0;34m'mrate'\u001b[0m\u001b[0;34m,\u001b[0m\u001b[0my\u001b[0m\u001b[0;34m=\u001b[0m\u001b[0;34m'mse'\u001b[0m\u001b[0;34m,\u001b[0m\u001b[0mcolor\u001b[0m\u001b[0;34m=\u001b[0m\u001b[0;34m'method'\u001b[0m\u001b[0;34m)\u001b[0m\u001b[0;34m\u001b[0m\u001b[0;34m\u001b[0m\u001b[0m\n",
      "\u001b[0;31mNameError\u001b[0m: name 'df' is not defined"
     ]
    }
   ],
   "source": [
    "tt=df.query(\"mtype in ['rand','block'] and mrate in [0.2877697841726618, 0.3] and dataset=='chickenpox'\")\n",
    "tt['mrate'] = tt['mrate'].astype(str)\n",
    "tt = tt.sort_values(by=['model','mrate'])\n",
    "\n",
    "fig = px.box(tt,x='mrate',y='mse',color='method')\n",
    "fig.layout['xaxis']['title']['text']='Missing Rate'\n",
    "fig.layout['yaxis']['title']['text']='MSE'\n",
    "\n",
    "fig.data[0]['marker']['color'] = 'blue'\n",
    "fig.data[0]['name'] = 'Classic'\n",
    "fig.data[1]['marker']['color'] = 'red'\n",
    "fig.data[1]['name'] = 'Proposed'\n",
    "\n",
    "fig.layout['legend']['title']=''\n",
    "\n",
    "fig.update_layout(template=\"seaborn\")\n",
    "fig.update_layout(title_text=\"\")\n",
    "fig.update_layout(height=800, width=1800)\n",
    "\n",
    "fig.update_layout(legend=dict(\n",
    "    yanchor=\"top\",\n",
    "    y=0.99,\n",
    "    xanchor=\"left\",\n",
    "    x=0.01\n",
    " ))\n",
    "fig"
   ]
  },
  {
   "cell_type": "code",
   "execution_count": 21,
   "id": "78daa2ea-89a3-43c9-a7b3-3cd12a5c02e5",
   "metadata": {},
   "outputs": [
    {
     "ename": "NameError",
     "evalue": "name 'df' is not defined",
     "output_type": "error",
     "traceback": [
      "\u001b[0;31m---------------------------------------------------------------------------\u001b[0m",
      "\u001b[0;31mNameError\u001b[0m                                 Traceback (most recent call last)",
      "\u001b[0;32m/tmp/ipykernel_448692/2778115558.py\u001b[0m in \u001b[0;36m<module>\u001b[0;34m\u001b[0m\n\u001b[0;32m----> 1\u001b[0;31m \u001b[0mtt\u001b[0m\u001b[0;34m=\u001b[0m\u001b[0mdf\u001b[0m\u001b[0;34m.\u001b[0m\u001b[0mquery\u001b[0m\u001b[0;34m(\u001b[0m\u001b[0;34m\"mtype in ['rand','block'] and mrate in [0.2857142857142857, 0.3] and model=='LRGCN' and dataset=='pedalme'\"\u001b[0m\u001b[0;34m)\u001b[0m\u001b[0;34m\u001b[0m\u001b[0;34m\u001b[0m\u001b[0m\n\u001b[0m\u001b[1;32m      2\u001b[0m \u001b[0mtt\u001b[0m\u001b[0;34m[\u001b[0m\u001b[0;34m'mrate'\u001b[0m\u001b[0;34m]\u001b[0m \u001b[0;34m=\u001b[0m \u001b[0mtt\u001b[0m\u001b[0;34m[\u001b[0m\u001b[0;34m'mrate'\u001b[0m\u001b[0;34m]\u001b[0m\u001b[0;34m.\u001b[0m\u001b[0mastype\u001b[0m\u001b[0;34m(\u001b[0m\u001b[0mstr\u001b[0m\u001b[0;34m)\u001b[0m\u001b[0;34m\u001b[0m\u001b[0;34m\u001b[0m\u001b[0m\n\u001b[1;32m      3\u001b[0m \u001b[0mtt\u001b[0m \u001b[0;34m=\u001b[0m \u001b[0mtt\u001b[0m\u001b[0;34m.\u001b[0m\u001b[0msort_values\u001b[0m\u001b[0;34m(\u001b[0m\u001b[0mby\u001b[0m\u001b[0;34m=\u001b[0m\u001b[0;34m[\u001b[0m\u001b[0;34m'model'\u001b[0m\u001b[0;34m,\u001b[0m\u001b[0;34m'mrate'\u001b[0m\u001b[0;34m]\u001b[0m\u001b[0;34m)\u001b[0m\u001b[0;34m\u001b[0m\u001b[0;34m\u001b[0m\u001b[0m\n\u001b[1;32m      4\u001b[0m \u001b[0;34m\u001b[0m\u001b[0m\n\u001b[1;32m      5\u001b[0m \u001b[0mfig\u001b[0m \u001b[0;34m=\u001b[0m \u001b[0mpx\u001b[0m\u001b[0;34m.\u001b[0m\u001b[0mbox\u001b[0m\u001b[0;34m(\u001b[0m\u001b[0mtt\u001b[0m\u001b[0;34m,\u001b[0m\u001b[0mx\u001b[0m\u001b[0;34m=\u001b[0m\u001b[0;34m'mrate'\u001b[0m\u001b[0;34m,\u001b[0m\u001b[0my\u001b[0m\u001b[0;34m=\u001b[0m\u001b[0;34m'mse'\u001b[0m\u001b[0;34m,\u001b[0m\u001b[0mcolor\u001b[0m\u001b[0;34m=\u001b[0m\u001b[0;34m'method'\u001b[0m\u001b[0;34m)\u001b[0m\u001b[0;34m\u001b[0m\u001b[0;34m\u001b[0m\u001b[0m\n",
      "\u001b[0;31mNameError\u001b[0m: name 'df' is not defined"
     ]
    }
   ],
   "source": [
    "tt=df.query(\"mtype in ['rand','block'] and mrate in [0.2857142857142857, 0.3] and model=='LRGCN' and dataset=='pedalme'\")\n",
    "tt['mrate'] = tt['mrate'].astype(str)\n",
    "tt = tt.sort_values(by=['model','mrate'])\n",
    "\n",
    "fig = px.box(tt,x='mrate',y='mse',color='method')\n",
    "fig.layout['xaxis']['title']['text']='Missing Rate'\n",
    "fig.layout['yaxis']['title']['text']='MSE'\n",
    "\n",
    "fig.data[0]['marker']['color'] = 'blue'\n",
    "fig.data[0]['name'] = 'Classic'\n",
    "fig.data[1]['marker']['color'] = 'red'\n",
    "fig.data[1]['name'] = 'Proposed'\n",
    "\n",
    "fig.layout['legend']['title']=''\n",
    "\n",
    "fig.update_layout(template=\"seaborn\")\n",
    "fig.update_layout(title_text=\"\")\n",
    "fig.update_layout(height=800, width=1800)\n",
    "\n",
    "fig.update_layout(legend=dict(\n",
    "    yanchor=\"top\",\n",
    "    y=0.99,\n",
    "    xanchor=\"left\",\n",
    "    x=0.01\n",
    " ))\n",
    "fig"
   ]
  },
  {
   "cell_type": "code",
   "execution_count": 22,
   "id": "d7b94be4-c6a6-403c-9610-f494d1eb1624",
   "metadata": {},
   "outputs": [],
   "source": [
    "\n"
   ]
  }
 ],
 "metadata": {
  "kernelspec": {
   "display_name": "Python 3",
   "language": "python",
   "name": "python3"
  },
  "language_info": {
   "codemirror_mode": {
    "name": "ipython",
    "version": 3
   },
   "file_extension": ".py",
   "mimetype": "text/x-python",
   "name": "python",
   "nbconvert_exporter": "python",
   "pygments_lexer": "ipython3",
   "version": "3.9.7"
  }
 },
 "nbformat": 4,
 "nbformat_minor": 5
}
