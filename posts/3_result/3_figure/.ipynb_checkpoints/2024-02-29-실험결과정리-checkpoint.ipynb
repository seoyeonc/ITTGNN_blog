{
 "cells": [
  {
   "cell_type": "raw",
   "id": "bafc5b20-e03f-46b7-b285-878eeac2fa5d",
   "metadata": {
    "id": "cac470df-29e7-4148-9bbd-d8b9a32fa570",
    "tags": []
   },
   "source": [
    "---\n",
    "title: \"실험결과정리\"\n",
    "author: \"SEOYEON CHOI\"\n",
    "date: \"2024-02-29\"\n",
    "execute: \n",
    "  enabled: true\n",
    "  cache: false\n",
    "  freeze: false\n",
    "  error: true\n",
    "---"
   ]
  },
  {
   "cell_type": "markdown",
   "id": "ab229edd-4df5-4313-8574-e7bdf086abb9",
   "metadata": {},
   "source": [
    "# Import"
   ]
  },
  {
   "cell_type": "code",
   "execution_count": 19,
   "id": "c533477a-7e40-48ec-afd2-8ae980a5b378",
   "metadata": {},
   "outputs": [],
   "source": [
    "import pandas as pd\n",
    "import numpy as np\n",
    "\n",
    "import plotly.express as px\n",
    "import plotly.graph_objects as go\n",
    "import pickle\n",
    "\n",
    "import plotly.io as pio"
   ]
  },
  {
   "cell_type": "code",
   "execution_count": 20,
   "id": "a74da524-127e-4724-b222-88d65b059aed",
   "metadata": {},
   "outputs": [],
   "source": [
    "pd.options.plotting.backend = \"plotly\"\n",
    "pio.templates.default = \"plotly_white\""
   ]
  },
  {
   "cell_type": "code",
   "execution_count": 22,
   "id": "f6e91ab1-c49f-4e9c-9a58-bcf60cc6f9e9",
   "metadata": {},
   "outputs": [],
   "source": [
    "df = pd.concat([pd.read_csv('../Data/Body_Results.csv'),\n",
    "            pd.read_csv('../Data/chicken_inter_final.csv'), # chickenpox cubic + nearest mrate 0.8 에서\n",
    "            pd.read_csv('../Data/R_GNAR_results.csv'), # GNAR을 R에서 돌린 결과 RANDOM, BLOCK\n",
    "            pd.concat([pd.read_csv('../Data/DCRNN_50_windmillsmall.csv'), # 50% windmillsmall 결과들\n",
    "                       pd.read_csv('../Data/GConvGRU_50_windmillsmall.csv'),\n",
    "                       pd.read_csv('../Data/GConvLSTM_50_windmillsmall.csv'),\n",
    "                       pd.read_csv('../Data/LRGCN_50_windmillsmall.csv'),\n",
    "                       pd.read_csv('../Data/DyGrEncoder_50_windmillsmall.csv'),\n",
    "                       pd.read_csv('../Data/TGCN_50_windmillsmall.csv'),\n",
    "                       pd.read_csv('../Data/GCLSTM_50_windmillsmall.csv'),\n",
    "                       pd.read_csv('../Data/EvolveGCNO_50_windmillsmall.csv'),\n",
    "                       pd.read_csv('../Data/EvolveGCNH_50_windmillsmall.csv'),\n",
    "                      ]),\n",
    "            pd.concat([pd.read_csv('../Data/DCRNN_80_windmillsmall.csv'), # 80% windmillsmall 결과들\n",
    "                       pd.read_csv('../Data/LRGCN_80_windmillsmall.csv'),\n",
    "                       pd.read_csv('../Data/DyGrEncoder_80_windmillsmall.csv'),\n",
    "                       pd.read_csv('../Data/GConvLSTM_80_windmillsmall.csv'),\n",
    "                       pd.read_csv('../Data/GConvGRU_80_windmillsmall.csv'),\n",
    "                       pd.read_csv('../Data/TGCN_80_windmillsmall.csv'),\n",
    "                       pd.read_csv('../Data/GCLSTM_80_windmillsmall.csv'),\n",
    "                       pd.read_csv('../Data/EvolveGCNO_80_windmillsmall.csv'),\n",
    "                      ])\n",
    "               ]).assign(model = lambda df: df.model.apply(lambda x: 'GConvGRU' if x == \"GComvGRU\" else x))\n",
    "df = df.iloc[:,:-1]"
   ]
  },
  {
   "cell_type": "markdown",
   "id": "57520240-6516-4457-978d-06c0daae5700",
   "metadata": {},
   "source": [
    "# Conditions"
   ]
  },
  {
   "cell_type": "markdown",
   "id": "8ffc7372-53e0-4094-a413-4702dc47fc5a",
   "metadata": {},
   "source": [
    "| Model               | FiveVTS | Chickenpox | Pedalme | Wikimath | Windmillsmall | MontevideoBus |\n",
    "|---------------------|---------|------------|---------|----------|---------------|---------------|\n",
    "| Max iter.           | 30      | 30         | 30      | 30       | 30            | 30            |\n",
    "| Epochs              | 50      | 50         | 50      | 50       | 50            | 50            |\n",
    "| Lags                | 2       | 4          | 4       | 8        | 8             | 4             |\n",
    "| Interpolation       | linear  | linear,nearest,cubic     | linear  | linear   | linear        | linear       |\n",
    "| Filters             |         |            |         |          |               |               |\n",
    "| GConvGRU            | 12      | 16         | 12      | 12       | 12            | 12            |\n",
    "| GConvLSTM           | 12      | 32         | 2       | 64       | 16            | 12            |\n",
    "| GCLSTM              | 4       | 16         | 4       | 64       | 16            | 12            |\n",
    "| LRGCN               | 4       | 8          | 8       | 32       | 12            | 2             |\n",
    "| DyGrEncoder         | 12      | 12         | 12      | 12       | 12            | 12            |\n",
    "| EvolveGCNH          | No need | No need    | No need | No need  | No need       | No need       |\n",
    "| EvolveGCNO          | No need | No need    | No need | No need  | No need       | No need       |\n",
    "| TGCN                | 12      | 12         | 12      | 12       | 12            | 8             |\n",
    "| DCRNN               | 2       | 16         | 8       | 12       | 4             | 12            |\n"
   ]
  },
  {
   "cell_type": "markdown",
   "id": "93d5d61e-292e-46d6-a583-0f6e6c8c598c",
   "metadata": {},
   "source": [
    "# Data & 사용자정의함수"
   ]
  },
  {
   "cell_type": "code",
   "execution_count": 23,
   "id": "0029d80d-2795-480c-9753-0075f29de94c",
   "metadata": {},
   "outputs": [],
   "source": [
    "df_dataset = pd.DataFrame({\n",
    "    'dataset':['fivenodes','chickenpox','pedalme','wikimath','windmillsmall','monte'],\n",
    "    'node':[5,20,15,1068,11,675],\n",
    "    'time':[200,522,36,731,17472,744]\n",
    "})\n",
    "df = df\\\n",
    ".merge(df_dataset)\\\n",
    ".assign(method = lambda df: df['method'].map({'STGCN':'STGNN','IT-STGCN':'IT-STGNN','GNAR':'GNAR'}))"
   ]
  },
  {
   "cell_type": "code",
   "execution_count": 24,
   "id": "05c74686-5fe7-40e9-b22c-6e2cbe2946ac",
   "metadata": {},
   "outputs": [
    {
     "data": {
      "text/html": [
       "<div>\n",
       "<style scoped>\n",
       "    .dataframe tbody tr th:only-of-type {\n",
       "        vertical-align: middle;\n",
       "    }\n",
       "\n",
       "    .dataframe tbody tr th {\n",
       "        vertical-align: top;\n",
       "    }\n",
       "\n",
       "    .dataframe thead th {\n",
       "        text-align: right;\n",
       "    }\n",
       "</style>\n",
       "<table border=\"1\" class=\"dataframe\">\n",
       "  <thead>\n",
       "    <tr style=\"text-align: right;\">\n",
       "      <th></th>\n",
       "      <th>dataset</th>\n",
       "      <th>method</th>\n",
       "      <th>mrate</th>\n",
       "      <th>mtype</th>\n",
       "      <th>lags</th>\n",
       "      <th>nof_filters</th>\n",
       "      <th>inter_method</th>\n",
       "      <th>epoch</th>\n",
       "      <th>mse</th>\n",
       "      <th>calculation_time</th>\n",
       "      <th>model</th>\n",
       "      <th>node</th>\n",
       "      <th>time</th>\n",
       "    </tr>\n",
       "  </thead>\n",
       "  <tbody>\n",
       "    <tr>\n",
       "      <th>0</th>\n",
       "      <td>fivenodes</td>\n",
       "      <td>STGNN</td>\n",
       "      <td>0.0</td>\n",
       "      <td>NaN</td>\n",
       "      <td>2</td>\n",
       "      <td>12.0</td>\n",
       "      <td>NaN</td>\n",
       "      <td>50.0</td>\n",
       "      <td>0.729374</td>\n",
       "      <td>80.985221</td>\n",
       "      <td>GConvGRU</td>\n",
       "      <td>5</td>\n",
       "      <td>200</td>\n",
       "    </tr>\n",
       "    <tr>\n",
       "      <th>1</th>\n",
       "      <td>fivenodes</td>\n",
       "      <td>STGNN</td>\n",
       "      <td>0.0</td>\n",
       "      <td>NaN</td>\n",
       "      <td>2</td>\n",
       "      <td>12.0</td>\n",
       "      <td>NaN</td>\n",
       "      <td>50.0</td>\n",
       "      <td>0.729082</td>\n",
       "      <td>80.891788</td>\n",
       "      <td>GConvGRU</td>\n",
       "      <td>5</td>\n",
       "      <td>200</td>\n",
       "    </tr>\n",
       "    <tr>\n",
       "      <th>2</th>\n",
       "      <td>fivenodes</td>\n",
       "      <td>IT-STGNN</td>\n",
       "      <td>0.0</td>\n",
       "      <td>NaN</td>\n",
       "      <td>2</td>\n",
       "      <td>12.0</td>\n",
       "      <td>NaN</td>\n",
       "      <td>50.0</td>\n",
       "      <td>0.731600</td>\n",
       "      <td>114.492592</td>\n",
       "      <td>GConvGRU</td>\n",
       "      <td>5</td>\n",
       "      <td>200</td>\n",
       "    </tr>\n",
       "    <tr>\n",
       "      <th>3</th>\n",
       "      <td>fivenodes</td>\n",
       "      <td>IT-STGNN</td>\n",
       "      <td>0.0</td>\n",
       "      <td>NaN</td>\n",
       "      <td>2</td>\n",
       "      <td>12.0</td>\n",
       "      <td>NaN</td>\n",
       "      <td>50.0</td>\n",
       "      <td>0.735026</td>\n",
       "      <td>115.544274</td>\n",
       "      <td>GConvGRU</td>\n",
       "      <td>5</td>\n",
       "      <td>200</td>\n",
       "    </tr>\n",
       "    <tr>\n",
       "      <th>4</th>\n",
       "      <td>fivenodes</td>\n",
       "      <td>STGNN</td>\n",
       "      <td>0.0</td>\n",
       "      <td>NaN</td>\n",
       "      <td>2</td>\n",
       "      <td>12.0</td>\n",
       "      <td>NaN</td>\n",
       "      <td>50.0</td>\n",
       "      <td>0.727182</td>\n",
       "      <td>102.783140</td>\n",
       "      <td>GConvGRU</td>\n",
       "      <td>5</td>\n",
       "      <td>200</td>\n",
       "    </tr>\n",
       "  </tbody>\n",
       "</table>\n",
       "</div>"
      ],
      "text/plain": [
       "     dataset    method  mrate mtype  lags  nof_filters inter_method  epoch  \\\n",
       "0  fivenodes     STGNN    0.0   NaN     2         12.0          NaN   50.0   \n",
       "1  fivenodes     STGNN    0.0   NaN     2         12.0          NaN   50.0   \n",
       "2  fivenodes  IT-STGNN    0.0   NaN     2         12.0          NaN   50.0   \n",
       "3  fivenodes  IT-STGNN    0.0   NaN     2         12.0          NaN   50.0   \n",
       "4  fivenodes     STGNN    0.0   NaN     2         12.0          NaN   50.0   \n",
       "\n",
       "        mse  calculation_time     model  node  time  \n",
       "0  0.729374         80.985221  GConvGRU     5   200  \n",
       "1  0.729082         80.891788  GConvGRU     5   200  \n",
       "2  0.731600        114.492592  GConvGRU     5   200  \n",
       "3  0.735026        115.544274  GConvGRU     5   200  \n",
       "4  0.727182        102.783140  GConvGRU     5   200  "
      ]
     },
     "execution_count": 24,
     "metadata": {},
     "output_type": "execute_result"
    }
   ],
   "source": [
    "df.head()"
   ]
  },
  {
   "cell_type": "code",
   "execution_count": 7,
   "id": "f4cfb5b6-e984-46ed-9e4e-705ed344ebad",
   "metadata": {},
   "outputs": [],
   "source": [
    "# df2 = pd.read_csv('../Data/Appendix_Results.csv').iloc[:,1:]"
   ]
  },
  {
   "cell_type": "code",
   "execution_count": null,
   "id": "4b2a73f0-2c44-42fe-be6b-50929b6d7742",
   "metadata": {},
   "outputs": [],
   "source": [
    "df.assign(model = lambda df: df.model.apply(lambda x: '' if x == \"GNAR\" else x))\\\n",
    ".eval('model = method+model')"
   ]
  },
  {
   "cell_type": "code",
   "execution_count": null,
   "id": "52679e07-7a56-4964-9c70-963c0275defd",
   "metadata": {},
   "outputs": [],
   "source": [
    "df2 = df.assign(model = lambda df: df.model.apply(lambda x: '' if x == \"GNAR\" else x))\\\n",
    ".eval('model = method+model')\\\n",
    ".assign(model = lambda df: df.model.str.replace(\"STGNN\",\"\"))\n",
    "df2.head()"
   ]
  },
  {
   "cell_type": "code",
   "execution_count": 64,
   "id": "8e5518ba-4a5b-424d-9b6e-7873c3a70ac5",
   "metadata": {},
   "outputs": [
    {
     "data": {
      "text/plain": [
       "{'IT-STGNN', 'STGNN'}"
      ]
     },
     "execution_count": 64,
     "metadata": {},
     "output_type": "execute_result"
    }
   ],
   "source": [
    "set(df.method)"
   ]
  },
  {
   "cell_type": "code",
   "execution_count": 25,
   "id": "00370fa1-bce3-4fbf-a182-8434d1c74219",
   "metadata": {},
   "outputs": [],
   "source": [
    "df2 = df.assign(model = lambda df: df.model.apply(lambda x: '' if x == \"GNAR\" else x))"
   ]
  },
  {
   "cell_type": "code",
   "execution_count": 26,
   "id": "0e608b3c-f4f9-49e8-bcc3-b348c07aff46",
   "metadata": {},
   "outputs": [],
   "source": [
    "def show_experiment_spec(df):\n",
    "    df_cols = ['method','mrate','mtype','lags','nof_filters','inter_method','epoch','model']\n",
    "    for dataset in df.dataset.unique():\n",
    "        print(f'dataset: {dataset}')\n",
    "        for col in df_cols: \n",
    "            df_query = df[df['dataset'] == dataset]\n",
    "            print(f'{col}: {df_query[col].unique().tolist()}')\n",
    "        print('---')"
   ]
  },
  {
   "cell_type": "markdown",
   "id": "32804be5-fea9-435f-ac51-86f74001f755",
   "metadata": {},
   "source": [
    "`-` 데이터세트별 실험셋팅 "
   ]
  },
  {
   "cell_type": "code",
   "execution_count": 27,
   "id": "d4494dec-dabe-4a2d-a2f2-bd263f0b785a",
   "metadata": {},
   "outputs": [
    {
     "name": "stdout",
     "output_type": "stream",
     "text": [
      "dataset: fivenodes\n",
      "method: ['STGNN', 'IT-STGNN']\n",
      "mrate: [0.0, 0.7, 0.8, 0.3, 0.5, 0.6, 0.125]\n",
      "mtype: [nan, 'rand', 'block']\n",
      "lags: [2]\n",
      "nof_filters: [12.0, 4.0, 2.0]\n",
      "inter_method: [nan, 'linear']\n",
      "epoch: [50.0]\n",
      "model: ['GConvGRU', 'GConvLSTM', 'GCLSTM', 'DCRNN', 'LRGCN', 'TGCN', 'EvolveGCNO', 'DyGrEncoder', 'EvolveGCNH']\n",
      "---\n",
      "dataset: chickenpox\n",
      "method: ['STGNN', 'IT-STGNN']\n",
      "mrate: [0.0, 0.3, 0.8, 0.5, 0.6, 0.2877697841726618]\n",
      "mtype: [nan, 'rand', 'block']\n",
      "lags: [4]\n",
      "nof_filters: [16.0, 32.0, 8.0, 12.0]\n",
      "inter_method: [nan, 'linear', 'cubic', 'nearest']\n",
      "epoch: [50.0]\n",
      "model: ['GConvGRU', 'GConvLSTM', 'GCLSTM', 'DCRNN', 'LRGCN', 'TGCN', 'EvolveGCNO', 'DyGrEncoder', 'EvolveGCNH']\n",
      "---\n",
      "dataset: pedalme\n",
      "method: ['STGNN', 'IT-STGNN']\n",
      "mrate: [0.0, 0.3, 0.5, 0.6, 0.8, 0.2857142857142857]\n",
      "mtype: [nan, 'rand', 'block']\n",
      "lags: [4]\n",
      "nof_filters: [12.0, 2.0, 4.0, 8.0]\n",
      "inter_method: [nan, 'linear']\n",
      "epoch: [50.0]\n",
      "model: ['GConvGRU', 'GConvLSTM', 'GCLSTM', 'DCRNN', 'LRGCN', 'TGCN', 'EvolveGCNO', 'DyGrEncoder', 'EvolveGCNH']\n",
      "---\n",
      "dataset: wikimath\n",
      "method: ['STGNN', 'IT-STGNN']\n",
      "mrate: [0.3, 0.8, 0.0, 0.0958699236875407, 0.0038347969475016, 0.5, 0.1198374046094259, 0.6]\n",
      "mtype: ['rand', nan, 'block']\n",
      "lags: [8]\n",
      "nof_filters: [12.0, 64.0, 32.0]\n",
      "inter_method: ['linear', nan]\n",
      "epoch: [50.0]\n",
      "model: ['GConvGRU', 'GConvLSTM', 'GCLSTM', 'DCRNN', 'LRGCN', 'TGCN', 'EvolveGCNO', 'DyGrEncoder', 'EvolveGCNH']\n",
      "---\n",
      "dataset: windmillsmall\n",
      "method: ['STGNN', 'IT-STGNN']\n",
      "mrate: [0.0, 0.7, 0.0812907673198108, 0.5, 0.8]\n",
      "mtype: [nan, 'rand', 'block']\n",
      "lags: [8]\n",
      "nof_filters: [12.0, 16.0, 4.0]\n",
      "inter_method: [nan, 'linear']\n",
      "epoch: [50.0]\n",
      "model: ['GConvGRU', 'GConvLSTM', 'GCLSTM', 'DCRNN', 'LRGCN', 'TGCN', 'EvolveGCNO', 'DyGrEncoder', 'EvolveGCNH']\n",
      "---\n",
      "dataset: monte\n",
      "method: ['STGNN', 'IT-STGNN']\n",
      "mrate: [0.0, 0.3, 0.5, 0.7, 0.8, 0.1491424310216256]\n",
      "mtype: [nan, 'rand', 'block']\n",
      "lags: [4]\n",
      "nof_filters: [12.0, 2.0, 8.0]\n",
      "inter_method: [nan, 'linear']\n",
      "epoch: [50.0]\n",
      "model: ['GConvGRU', 'GConvLSTM', 'GCLSTM', 'DCRNN', 'LRGCN', 'TGCN', 'EvolveGCNO', 'DyGrEncoder', 'EvolveGCNH']\n",
      "---\n"
     ]
    }
   ],
   "source": [
    "show_experiment_spec(df)"
   ]
  },
  {
   "cell_type": "markdown",
   "id": "241494f6-771b-4cdd-97aa-a854123ee22e",
   "metadata": {},
   "source": [
    "`-` 요약 "
   ]
  },
  {
   "cell_type": "code",
   "execution_count": 28,
   "id": "aedbe830-ef9a-41b7-b138-9a96960c4624",
   "metadata": {},
   "outputs": [
    {
     "data": {
      "text/html": [
       "<div>\n",
       "<style scoped>\n",
       "    .dataframe tbody tr th:only-of-type {\n",
       "        vertical-align: middle;\n",
       "    }\n",
       "\n",
       "    .dataframe tbody tr th {\n",
       "        vertical-align: top;\n",
       "    }\n",
       "\n",
       "    .dataframe thead th {\n",
       "        text-align: right;\n",
       "    }\n",
       "</style>\n",
       "<table border=\"1\" class=\"dataframe\">\n",
       "  <thead>\n",
       "    <tr style=\"text-align: right;\">\n",
       "      <th>dataset</th>\n",
       "      <th>chickenpox</th>\n",
       "      <th>fivenodes</th>\n",
       "      <th>monte</th>\n",
       "      <th>pedalme</th>\n",
       "      <th>wikimath</th>\n",
       "      <th>windmillsmall</th>\n",
       "    </tr>\n",
       "    <tr>\n",
       "      <th>model</th>\n",
       "      <th></th>\n",
       "      <th></th>\n",
       "      <th></th>\n",
       "      <th></th>\n",
       "      <th></th>\n",
       "      <th></th>\n",
       "    </tr>\n",
       "  </thead>\n",
       "  <tbody>\n",
       "    <tr>\n",
       "      <th>DCRNN</th>\n",
       "      <td>1.186396</td>\n",
       "      <td>1.245254</td>\n",
       "      <td>1.040303</td>\n",
       "      <td>1.315441</td>\n",
       "      <td>0.629504</td>\n",
       "      <td>1.121333</td>\n",
       "    </tr>\n",
       "    <tr>\n",
       "      <th>DyGrEncoder</th>\n",
       "      <td>1.230307</td>\n",
       "      <td>1.268549</td>\n",
       "      <td>1.189316</td>\n",
       "      <td>1.313140</td>\n",
       "      <td>0.594728</td>\n",
       "      <td>1.209075</td>\n",
       "    </tr>\n",
       "    <tr>\n",
       "      <th>EvolveGCNH</th>\n",
       "      <td>1.068355</td>\n",
       "      <td>1.191876</td>\n",
       "      <td>1.634331</td>\n",
       "      <td>1.256039</td>\n",
       "      <td>0.807636</td>\n",
       "      <td>1.078108</td>\n",
       "    </tr>\n",
       "    <tr>\n",
       "      <th>EvolveGCNO</th>\n",
       "      <td>1.079361</td>\n",
       "      <td>1.181221</td>\n",
       "      <td>1.818289</td>\n",
       "      <td>1.270238</td>\n",
       "      <td>0.756906</td>\n",
       "      <td>1.165485</td>\n",
       "    </tr>\n",
       "    <tr>\n",
       "      <th>GCLSTM</th>\n",
       "      <td>1.226473</td>\n",
       "      <td>1.229599</td>\n",
       "      <td>1.021227</td>\n",
       "      <td>1.265733</td>\n",
       "      <td>0.761064</td>\n",
       "      <td>1.174773</td>\n",
       "    </tr>\n",
       "    <tr>\n",
       "      <th>GConvGRU</th>\n",
       "      <td>1.436439</td>\n",
       "      <td>1.294271</td>\n",
       "      <td>1.064923</td>\n",
       "      <td>1.496929</td>\n",
       "      <td>0.587541</td>\n",
       "      <td>1.245208</td>\n",
       "    </tr>\n",
       "    <tr>\n",
       "      <th>GConvLSTM</th>\n",
       "      <td>1.329921</td>\n",
       "      <td>1.252394</td>\n",
       "      <td>1.011046</td>\n",
       "      <td>1.259794</td>\n",
       "      <td>0.813429</td>\n",
       "      <td>1.200515</td>\n",
       "    </tr>\n",
       "    <tr>\n",
       "      <th>LRGCN</th>\n",
       "      <td>1.142547</td>\n",
       "      <td>1.231416</td>\n",
       "      <td>0.982733</td>\n",
       "      <td>1.291406</td>\n",
       "      <td>0.721472</td>\n",
       "      <td>1.147056</td>\n",
       "    </tr>\n",
       "    <tr>\n",
       "      <th>TGCN</th>\n",
       "      <td>1.164413</td>\n",
       "      <td>1.119728</td>\n",
       "      <td>1.060148</td>\n",
       "      <td>1.281458</td>\n",
       "      <td>0.754307</td>\n",
       "      <td>1.108685</td>\n",
       "    </tr>\n",
       "  </tbody>\n",
       "</table>\n",
       "</div>"
      ],
      "text/plain": [
       "dataset      chickenpox  fivenodes     monte   pedalme  wikimath  \\\n",
       "model                                                              \n",
       "DCRNN          1.186396   1.245254  1.040303  1.315441  0.629504   \n",
       "DyGrEncoder    1.230307   1.268549  1.189316  1.313140  0.594728   \n",
       "EvolveGCNH     1.068355   1.191876  1.634331  1.256039  0.807636   \n",
       "EvolveGCNO     1.079361   1.181221  1.818289  1.270238  0.756906   \n",
       "GCLSTM         1.226473   1.229599  1.021227  1.265733  0.761064   \n",
       "GConvGRU       1.436439   1.294271  1.064923  1.496929  0.587541   \n",
       "GConvLSTM      1.329921   1.252394  1.011046  1.259794  0.813429   \n",
       "LRGCN          1.142547   1.231416  0.982733  1.291406  0.721472   \n",
       "TGCN           1.164413   1.119728  1.060148  1.281458  0.754307   \n",
       "\n",
       "dataset      windmillsmall  \n",
       "model                       \n",
       "DCRNN             1.121333  \n",
       "DyGrEncoder       1.209075  \n",
       "EvolveGCNH        1.078108  \n",
       "EvolveGCNO        1.165485  \n",
       "GCLSTM            1.174773  \n",
       "GConvGRU          1.245208  \n",
       "GConvLSTM         1.200515  \n",
       "LRGCN             1.147056  \n",
       "TGCN              1.108685  "
      ]
     },
     "execution_count": 28,
     "metadata": {},
     "output_type": "execute_result"
    }
   ],
   "source": [
    "df_summary = df2.groupby([\"method\",\"dataset\",\"mrate\",\"model\"]).agg({'mse':'mean'}).reset_index()\\\n",
    ".pivot_table(index=['model'],columns=['dataset'],values='mse')\n",
    "df_summary"
   ]
  },
  {
   "cell_type": "code",
   "execution_count": 29,
   "id": "780b564e-ae7f-42c6-98fe-84bb7f63866e",
   "metadata": {},
   "outputs": [
    {
     "data": {
      "text/html": [
       "<div>\n",
       "<style scoped>\n",
       "    .dataframe tbody tr th:only-of-type {\n",
       "        vertical-align: middle;\n",
       "    }\n",
       "\n",
       "    .dataframe tbody tr th {\n",
       "        vertical-align: top;\n",
       "    }\n",
       "\n",
       "    .dataframe thead th {\n",
       "        text-align: right;\n",
       "    }\n",
       "</style>\n",
       "<table border=\"1\" class=\"dataframe\">\n",
       "  <thead>\n",
       "    <tr style=\"text-align: right;\">\n",
       "      <th></th>\n",
       "      <th>dataset</th>\n",
       "      <th>chickenpox</th>\n",
       "      <th>fivenodes</th>\n",
       "      <th>monte</th>\n",
       "      <th>pedalme</th>\n",
       "      <th>wikimath</th>\n",
       "      <th>windmillsmall</th>\n",
       "    </tr>\n",
       "    <tr>\n",
       "      <th>model</th>\n",
       "      <th>method</th>\n",
       "      <th></th>\n",
       "      <th></th>\n",
       "      <th></th>\n",
       "      <th></th>\n",
       "      <th></th>\n",
       "      <th></th>\n",
       "    </tr>\n",
       "  </thead>\n",
       "  <tbody>\n",
       "    <tr>\n",
       "      <th rowspan=\"2\" valign=\"top\">DCRNN</th>\n",
       "      <th>IT-STGNN</th>\n",
       "      <td>0.973239</td>\n",
       "      <td>1.237063</td>\n",
       "      <td>0.989507</td>\n",
       "      <td>1.257928</td>\n",
       "      <td>0.601082</td>\n",
       "      <td>1.054938</td>\n",
       "    </tr>\n",
       "    <tr>\n",
       "      <th>STGNN</th>\n",
       "      <td>1.399553</td>\n",
       "      <td>1.253446</td>\n",
       "      <td>1.091098</td>\n",
       "      <td>1.372954</td>\n",
       "      <td>0.657926</td>\n",
       "      <td>1.187728</td>\n",
       "    </tr>\n",
       "    <tr>\n",
       "      <th rowspan=\"2\" valign=\"top\">DyGrEncoder</th>\n",
       "      <th>IT-STGNN</th>\n",
       "      <td>1.033385</td>\n",
       "      <td>1.192339</td>\n",
       "      <td>1.089981</td>\n",
       "      <td>1.270727</td>\n",
       "      <td>0.573470</td>\n",
       "      <td>1.068568</td>\n",
       "    </tr>\n",
       "    <tr>\n",
       "      <th>STGNN</th>\n",
       "      <td>1.427229</td>\n",
       "      <td>1.344759</td>\n",
       "      <td>1.288651</td>\n",
       "      <td>1.355552</td>\n",
       "      <td>0.615986</td>\n",
       "      <td>1.349583</td>\n",
       "    </tr>\n",
       "    <tr>\n",
       "      <th rowspan=\"2\" valign=\"top\">EvolveGCNH</th>\n",
       "      <th>IT-STGNN</th>\n",
       "      <td>1.041603</td>\n",
       "      <td>1.188203</td>\n",
       "      <td>1.530757</td>\n",
       "      <td>1.248588</td>\n",
       "      <td>0.799767</td>\n",
       "      <td>1.025276</td>\n",
       "    </tr>\n",
       "    <tr>\n",
       "      <th>STGNN</th>\n",
       "      <td>1.095108</td>\n",
       "      <td>1.195548</td>\n",
       "      <td>1.737905</td>\n",
       "      <td>1.263490</td>\n",
       "      <td>0.815505</td>\n",
       "      <td>1.130941</td>\n",
       "    </tr>\n",
       "    <tr>\n",
       "      <th rowspan=\"2\" valign=\"top\">EvolveGCNO</th>\n",
       "      <th>IT-STGNN</th>\n",
       "      <td>1.042245</td>\n",
       "      <td>1.176323</td>\n",
       "      <td>1.628969</td>\n",
       "      <td>1.262417</td>\n",
       "      <td>0.745595</td>\n",
       "      <td>1.075853</td>\n",
       "    </tr>\n",
       "    <tr>\n",
       "      <th>STGNN</th>\n",
       "      <td>1.116477</td>\n",
       "      <td>1.186119</td>\n",
       "      <td>2.007608</td>\n",
       "      <td>1.278059</td>\n",
       "      <td>0.768218</td>\n",
       "      <td>1.255117</td>\n",
       "    </tr>\n",
       "    <tr>\n",
       "      <th rowspan=\"2\" valign=\"top\">GCLSTM</th>\n",
       "      <th>IT-STGNN</th>\n",
       "      <td>1.020271</td>\n",
       "      <td>1.219957</td>\n",
       "      <td>0.984011</td>\n",
       "      <td>1.230769</td>\n",
       "      <td>0.667062</td>\n",
       "      <td>1.057227</td>\n",
       "    </tr>\n",
       "    <tr>\n",
       "      <th>STGNN</th>\n",
       "      <td>1.432674</td>\n",
       "      <td>1.239241</td>\n",
       "      <td>1.058442</td>\n",
       "      <td>1.300697</td>\n",
       "      <td>0.855066</td>\n",
       "      <td>1.292318</td>\n",
       "    </tr>\n",
       "    <tr>\n",
       "      <th rowspan=\"2\" valign=\"top\">GConvGRU</th>\n",
       "      <th>IT-STGNN</th>\n",
       "      <td>1.082791</td>\n",
       "      <td>1.161540</td>\n",
       "      <td>0.980661</td>\n",
       "      <td>1.432194</td>\n",
       "      <td>0.547157</td>\n",
       "      <td>1.108584</td>\n",
       "    </tr>\n",
       "    <tr>\n",
       "      <th>STGNN</th>\n",
       "      <td>1.790088</td>\n",
       "      <td>1.427002</td>\n",
       "      <td>1.149185</td>\n",
       "      <td>1.561664</td>\n",
       "      <td>0.627924</td>\n",
       "      <td>1.381831</td>\n",
       "    </tr>\n",
       "    <tr>\n",
       "      <th rowspan=\"2\" valign=\"top\">GConvLSTM</th>\n",
       "      <th>IT-STGNN</th>\n",
       "      <td>1.067433</td>\n",
       "      <td>1.197745</td>\n",
       "      <td>0.976181</td>\n",
       "      <td>1.245974</td>\n",
       "      <td>0.700808</td>\n",
       "      <td>1.080793</td>\n",
       "    </tr>\n",
       "    <tr>\n",
       "      <th>STGNN</th>\n",
       "      <td>1.592409</td>\n",
       "      <td>1.307044</td>\n",
       "      <td>1.045911</td>\n",
       "      <td>1.273614</td>\n",
       "      <td>0.926050</td>\n",
       "      <td>1.320238</td>\n",
       "    </tr>\n",
       "    <tr>\n",
       "      <th rowspan=\"2\" valign=\"top\">LRGCN</th>\n",
       "      <th>IT-STGNN</th>\n",
       "      <td>1.002685</td>\n",
       "      <td>1.224613</td>\n",
       "      <td>0.982096</td>\n",
       "      <td>1.247820</td>\n",
       "      <td>0.645970</td>\n",
       "      <td>1.053308</td>\n",
       "    </tr>\n",
       "    <tr>\n",
       "      <th>STGNN</th>\n",
       "      <td>1.282408</td>\n",
       "      <td>1.238219</td>\n",
       "      <td>0.983369</td>\n",
       "      <td>1.334992</td>\n",
       "      <td>0.796974</td>\n",
       "      <td>1.240803</td>\n",
       "    </tr>\n",
       "    <tr>\n",
       "      <th rowspan=\"2\" valign=\"top\">TGCN</th>\n",
       "      <th>IT-STGNN</th>\n",
       "      <td>1.098706</td>\n",
       "      <td>1.105367</td>\n",
       "      <td>1.013108</td>\n",
       "      <td>1.277836</td>\n",
       "      <td>0.747570</td>\n",
       "      <td>1.036137</td>\n",
       "    </tr>\n",
       "    <tr>\n",
       "      <th>STGNN</th>\n",
       "      <td>1.230120</td>\n",
       "      <td>1.134089</td>\n",
       "      <td>1.107188</td>\n",
       "      <td>1.285080</td>\n",
       "      <td>0.761045</td>\n",
       "      <td>1.181232</td>\n",
       "    </tr>\n",
       "  </tbody>\n",
       "</table>\n",
       "</div>"
      ],
      "text/plain": [
       "dataset               chickenpox  fivenodes     monte   pedalme  wikimath  \\\n",
       "model       method                                                          \n",
       "DCRNN       IT-STGNN    0.973239   1.237063  0.989507  1.257928  0.601082   \n",
       "            STGNN       1.399553   1.253446  1.091098  1.372954  0.657926   \n",
       "DyGrEncoder IT-STGNN    1.033385   1.192339  1.089981  1.270727  0.573470   \n",
       "            STGNN       1.427229   1.344759  1.288651  1.355552  0.615986   \n",
       "EvolveGCNH  IT-STGNN    1.041603   1.188203  1.530757  1.248588  0.799767   \n",
       "            STGNN       1.095108   1.195548  1.737905  1.263490  0.815505   \n",
       "EvolveGCNO  IT-STGNN    1.042245   1.176323  1.628969  1.262417  0.745595   \n",
       "            STGNN       1.116477   1.186119  2.007608  1.278059  0.768218   \n",
       "GCLSTM      IT-STGNN    1.020271   1.219957  0.984011  1.230769  0.667062   \n",
       "            STGNN       1.432674   1.239241  1.058442  1.300697  0.855066   \n",
       "GConvGRU    IT-STGNN    1.082791   1.161540  0.980661  1.432194  0.547157   \n",
       "            STGNN       1.790088   1.427002  1.149185  1.561664  0.627924   \n",
       "GConvLSTM   IT-STGNN    1.067433   1.197745  0.976181  1.245974  0.700808   \n",
       "            STGNN       1.592409   1.307044  1.045911  1.273614  0.926050   \n",
       "LRGCN       IT-STGNN    1.002685   1.224613  0.982096  1.247820  0.645970   \n",
       "            STGNN       1.282408   1.238219  0.983369  1.334992  0.796974   \n",
       "TGCN        IT-STGNN    1.098706   1.105367  1.013108  1.277836  0.747570   \n",
       "            STGNN       1.230120   1.134089  1.107188  1.285080  0.761045   \n",
       "\n",
       "dataset               windmillsmall  \n",
       "model       method                   \n",
       "DCRNN       IT-STGNN       1.054938  \n",
       "            STGNN          1.187728  \n",
       "DyGrEncoder IT-STGNN       1.068568  \n",
       "            STGNN          1.349583  \n",
       "EvolveGCNH  IT-STGNN       1.025276  \n",
       "            STGNN          1.130941  \n",
       "EvolveGCNO  IT-STGNN       1.075853  \n",
       "            STGNN          1.255117  \n",
       "GCLSTM      IT-STGNN       1.057227  \n",
       "            STGNN          1.292318  \n",
       "GConvGRU    IT-STGNN       1.108584  \n",
       "            STGNN          1.381831  \n",
       "GConvLSTM   IT-STGNN       1.080793  \n",
       "            STGNN          1.320238  \n",
       "LRGCN       IT-STGNN       1.053308  \n",
       "            STGNN          1.240803  \n",
       "TGCN        IT-STGNN       1.036137  \n",
       "            STGNN          1.181232  "
      ]
     },
     "execution_count": 29,
     "metadata": {},
     "output_type": "execute_result"
    }
   ],
   "source": [
    "df_summary = df2.groupby([\"method\",\"dataset\",\"mrate\",\"model\"]).agg({'mse':'mean'}).reset_index()\\\n",
    ".pivot_table(index=['model','method'],columns=['dataset'],values='mse')\n",
    "df_summary"
   ]
  },
  {
   "cell_type": "markdown",
   "id": "cb9ebbf2-5feb-483e-afbb-94592a28fd9d",
   "metadata": {},
   "source": [
    "# 시각화1: MissingRate (본문)"
   ]
  },
  {
   "cell_type": "code",
   "execution_count": 30,
   "id": "dde27dd1-f3a7-4ff5-9830-809c74d0d561",
   "metadata": {},
   "outputs": [
    {
     "data": {
      "application/vnd.plotly.v1+json": {
       "config": {
        "plotlyServerURL": "https://plot.ly"
       },
       "data": [
        {
         "hovertemplate": "method=STGNN<br>mrate=%{x}<br>mse_median=%{y}<extra></extra>",
         "legendgroup": "STGNN",
         "line": {
          "dash": "dashdot",
          "width": 1.5
         },
         "marker": {
          "color": "#EF553B",
          "opacity": 0.3,
          "size": 6,
          "symbol": "circle"
         },
         "mode": "markers+lines",
         "name": "STGNN",
         "orientation": "v",
         "showlegend": false,
         "type": "scatter",
         "x": [
          0,
          0,
          0,
          0,
          0,
          0,
          0,
          0,
          0,
          0,
          0,
          0,
          0,
          0,
          0,
          0,
          0,
          0,
          0,
          0,
          0,
          0,
          0,
          0,
          0,
          0,
          0,
          0,
          0,
          0,
          0.3,
          0.3,
          0.3,
          0.3,
          0.3,
          0.3,
          0.3,
          0.3,
          0.3,
          0.3,
          0.3,
          0.3,
          0.3,
          0.3,
          0.3,
          0.3,
          0.3,
          0.3,
          0.3,
          0.3,
          0.3,
          0.3,
          0.3,
          0.3,
          0.3,
          0.3,
          0.3,
          0.3,
          0.3,
          0.3,
          0.5,
          0.5,
          0.5,
          0.5,
          0.5,
          0.5,
          0.5,
          0.5,
          0.5,
          0.5,
          0.5,
          0.5,
          0.5,
          0.5,
          0.5,
          0.5,
          0.5,
          0.5,
          0.5,
          0.5,
          0.5,
          0.5,
          0.5,
          0.5,
          0.5,
          0.5,
          0.5,
          0.5,
          0.5,
          0.5,
          0.6,
          0.6,
          0.6,
          0.6,
          0.6,
          0.6,
          0.6,
          0.6,
          0.6,
          0.6,
          0.6,
          0.6,
          0.6,
          0.6,
          0.6,
          0.6,
          0.6,
          0.6,
          0.6,
          0.6,
          0.6,
          0.6,
          0.6,
          0.6,
          0.6,
          0.6,
          0.6,
          0.6,
          0.6,
          0.6,
          0.8,
          0.8,
          0.8,
          0.8,
          0.8,
          0.8,
          0.8,
          0.8,
          0.8,
          0.8,
          0.8,
          0.8,
          0.8,
          0.8,
          0.8,
          0.8,
          0.8,
          0.8,
          0.8,
          0.8,
          0.8,
          0.8,
          0.8,
          0.8,
          0.8,
          0.8,
          0.8,
          0.8,
          0.8,
          0.8,
          0.8,
          0.8,
          0.8,
          0.8,
          0.8,
          0.8,
          0.8,
          0.8,
          0.8,
          0.8,
          0.8,
          0.8,
          0.8,
          0.8,
          0.8,
          0.8,
          0.8,
          0.8,
          0.8,
          0.8,
          0.8,
          0.8,
          0.8,
          0.8,
          0.8,
          0.8,
          0.8,
          0.8,
          0.8,
          0.8,
          0.8,
          0.8,
          0.8,
          0.8,
          0.8,
          0.8,
          0.8,
          0.8,
          0.8,
          0.8,
          0.8,
          0.8,
          0.8,
          0.8,
          0.8,
          0.8,
          0.8,
          0.8,
          0.8,
          0.8,
          0.8,
          0.8,
          0.8,
          0.8,
          0.8,
          0.8,
          0.8,
          0.8,
          0.8,
          0.8
         ],
         "xaxis": "x",
         "y": [
          0.9485098123550415,
          0.9485098123550415,
          0.9485098123550415,
          0.9485098123550415,
          0.9485098123550415,
          0.9485098123550415,
          0.9485098123550415,
          0.9485098123550415,
          0.9485098123550415,
          0.9485098123550415,
          0.9485098123550415,
          0.9485098123550415,
          0.9485098123550415,
          0.9485098123550415,
          0.9485098123550415,
          0.9485098123550415,
          0.9485098123550415,
          0.9485098123550415,
          0.9485098123550415,
          0.9485098123550415,
          0.9485098123550415,
          0.9485098123550415,
          0.9485098123550415,
          0.9485098123550415,
          0.9485098123550415,
          0.9485098123550415,
          0.9485098123550415,
          0.9485098123550415,
          0.9485098123550415,
          0.9485098123550415,
          1.116011619567871,
          1.116011619567871,
          1.116011619567871,
          1.116011619567871,
          1.116011619567871,
          1.116011619567871,
          1.116011619567871,
          1.116011619567871,
          1.116011619567871,
          1.116011619567871,
          1.116011619567871,
          1.116011619567871,
          1.116011619567871,
          1.116011619567871,
          1.116011619567871,
          1.116011619567871,
          1.116011619567871,
          1.116011619567871,
          1.116011619567871,
          1.116011619567871,
          1.116011619567871,
          1.116011619567871,
          1.116011619567871,
          1.116011619567871,
          1.116011619567871,
          1.116011619567871,
          1.116011619567871,
          1.116011619567871,
          1.116011619567871,
          1.116011619567871,
          1.5255959033966064,
          1.5255959033966064,
          1.5255959033966064,
          1.5255959033966064,
          1.5255959033966064,
          1.5255959033966064,
          1.5255959033966064,
          1.5255959033966064,
          1.5255959033966064,
          1.5255959033966064,
          1.5255959033966064,
          1.5255959033966064,
          1.5255959033966064,
          1.5255959033966064,
          1.5255959033966064,
          1.5255959033966064,
          1.5255959033966064,
          1.5255959033966064,
          1.5255959033966064,
          1.5255959033966064,
          1.5255959033966064,
          1.5255959033966064,
          1.5255959033966064,
          1.5255959033966064,
          1.5255959033966064,
          1.5255959033966064,
          1.5255959033966064,
          1.5255959033966064,
          1.5255959033966064,
          1.5255959033966064,
          1.789802610874176,
          1.789802610874176,
          1.789802610874176,
          1.789802610874176,
          1.789802610874176,
          1.789802610874176,
          1.789802610874176,
          1.789802610874176,
          1.789802610874176,
          1.789802610874176,
          1.789802610874176,
          1.789802610874176,
          1.789802610874176,
          1.789802610874176,
          1.789802610874176,
          1.789802610874176,
          1.789802610874176,
          1.789802610874176,
          1.789802610874176,
          1.789802610874176,
          1.789802610874176,
          1.789802610874176,
          1.789802610874176,
          1.789802610874176,
          1.789802610874176,
          1.789802610874176,
          1.789802610874176,
          1.789802610874176,
          1.789802610874176,
          1.789802610874176,
          2.540595054626465,
          2.540595054626465,
          2.540595054626465,
          2.540595054626465,
          2.540595054626465,
          2.540595054626465,
          2.540595054626465,
          2.540595054626465,
          2.540595054626465,
          2.540595054626465,
          2.540595054626465,
          2.540595054626465,
          2.540595054626465,
          2.540595054626465,
          2.540595054626465,
          2.540595054626465,
          2.540595054626465,
          2.540595054626465,
          2.540595054626465,
          2.540595054626465,
          2.540595054626465,
          2.540595054626465,
          2.540595054626465,
          2.540595054626465,
          2.540595054626465,
          2.540595054626465,
          2.540595054626465,
          2.540595054626465,
          2.540595054626465,
          2.540595054626465,
          2.540595054626465,
          2.540595054626465,
          2.540595054626465,
          2.540595054626465,
          2.540595054626465,
          2.540595054626465,
          2.540595054626465,
          2.540595054626465,
          2.540595054626465,
          2.540595054626465,
          2.540595054626465,
          2.540595054626465,
          2.540595054626465,
          2.540595054626465,
          2.540595054626465,
          2.540595054626465,
          2.540595054626465,
          2.540595054626465,
          2.540595054626465,
          2.540595054626465,
          2.540595054626465,
          2.540595054626465,
          2.540595054626465,
          2.540595054626465,
          2.540595054626465,
          2.540595054626465,
          2.540595054626465,
          2.540595054626465,
          2.540595054626465,
          2.540595054626465,
          2.540595054626465,
          2.540595054626465,
          2.540595054626465,
          2.540595054626465,
          2.540595054626465,
          2.540595054626465,
          2.540595054626465,
          2.540595054626465,
          2.540595054626465,
          2.540595054626465,
          2.540595054626465,
          2.540595054626465,
          2.540595054626465,
          2.540595054626465,
          2.540595054626465,
          2.540595054626465,
          2.540595054626465,
          2.540595054626465,
          2.540595054626465,
          2.540595054626465,
          2.540595054626465,
          2.540595054626465,
          2.540595054626465,
          2.540595054626465,
          2.540595054626465,
          2.540595054626465,
          2.540595054626465,
          2.540595054626465,
          2.540595054626465,
          2.540595054626465
         ],
         "yaxis": "y"
        },
        {
         "hovertemplate": "method=IT-STGNN<br>mrate=%{x}<br>mse_median=%{y}<extra></extra>",
         "legendgroup": "IT-STGNN",
         "line": {
          "dash": "dashdot",
          "width": 1.5
         },
         "marker": {
          "color": "#636efa",
          "opacity": 0.3,
          "size": 6,
          "symbol": "circle"
         },
         "mode": "markers+lines",
         "name": "IT-STGNN",
         "orientation": "v",
         "showlegend": false,
         "type": "scatter",
         "x": [
          0,
          0,
          0,
          0,
          0,
          0,
          0,
          0,
          0,
          0,
          0,
          0,
          0,
          0,
          0,
          0,
          0,
          0,
          0,
          0,
          0,
          0,
          0,
          0,
          0,
          0,
          0,
          0,
          0,
          0,
          0.3,
          0.3,
          0.3,
          0.3,
          0.3,
          0.3,
          0.3,
          0.3,
          0.3,
          0.3,
          0.3,
          0.3,
          0.3,
          0.3,
          0.3,
          0.3,
          0.3,
          0.3,
          0.3,
          0.3,
          0.3,
          0.3,
          0.3,
          0.3,
          0.3,
          0.3,
          0.3,
          0.3,
          0.3,
          0.3,
          0.5,
          0.5,
          0.5,
          0.5,
          0.5,
          0.5,
          0.5,
          0.5,
          0.5,
          0.5,
          0.5,
          0.5,
          0.5,
          0.5,
          0.5,
          0.5,
          0.5,
          0.5,
          0.5,
          0.5,
          0.5,
          0.5,
          0.5,
          0.5,
          0.5,
          0.5,
          0.5,
          0.5,
          0.5,
          0.5,
          0.6,
          0.6,
          0.6,
          0.6,
          0.6,
          0.6,
          0.6,
          0.6,
          0.6,
          0.6,
          0.6,
          0.6,
          0.6,
          0.6,
          0.6,
          0.6,
          0.6,
          0.6,
          0.6,
          0.6,
          0.6,
          0.6,
          0.6,
          0.6,
          0.6,
          0.6,
          0.6,
          0.6,
          0.6,
          0.6,
          0.8,
          0.8,
          0.8,
          0.8,
          0.8,
          0.8,
          0.8,
          0.8,
          0.8,
          0.8,
          0.8,
          0.8,
          0.8,
          0.8,
          0.8,
          0.8,
          0.8,
          0.8,
          0.8,
          0.8,
          0.8,
          0.8,
          0.8,
          0.8,
          0.8,
          0.8,
          0.8,
          0.8,
          0.8,
          0.8,
          0.8,
          0.8,
          0.8,
          0.8,
          0.8,
          0.8,
          0.8,
          0.8,
          0.8,
          0.8,
          0.8,
          0.8,
          0.8,
          0.8,
          0.8,
          0.8,
          0.8,
          0.8,
          0.8,
          0.8,
          0.8,
          0.8,
          0.8,
          0.8,
          0.8,
          0.8,
          0.8,
          0.8,
          0.8,
          0.8,
          0.8,
          0.8,
          0.8,
          0.8,
          0.8,
          0.8,
          0.8,
          0.8,
          0.8,
          0.8,
          0.8,
          0.8,
          0.8,
          0.8,
          0.8,
          0.8,
          0.8,
          0.8,
          0.8,
          0.8,
          0.8,
          0.8,
          0.8,
          0.8,
          0.8,
          0.8,
          0.8,
          0.8,
          0.8,
          0.8
         ],
         "xaxis": "x",
         "y": [
          0.9683322906494141,
          0.9683322906494141,
          0.9683322906494141,
          0.9683322906494141,
          0.9683322906494141,
          0.9683322906494141,
          0.9683322906494141,
          0.9683322906494141,
          0.9683322906494141,
          0.9683322906494141,
          0.9683322906494141,
          0.9683322906494141,
          0.9683322906494141,
          0.9683322906494141,
          0.9683322906494141,
          0.9683322906494141,
          0.9683322906494141,
          0.9683322906494141,
          0.9683322906494141,
          0.9683322906494141,
          0.9683322906494141,
          0.9683322906494141,
          0.9683322906494141,
          0.9683322906494141,
          0.9683322906494141,
          0.9683322906494141,
          0.9683322906494141,
          0.9683322906494141,
          0.9683322906494141,
          0.9683322906494141,
          0.8696453273296356,
          0.8696453273296356,
          0.8696453273296356,
          0.8696453273296356,
          0.8696453273296356,
          0.8696453273296356,
          0.8696453273296356,
          0.8696453273296356,
          0.8696453273296356,
          0.8696453273296356,
          0.8696453273296356,
          0.8696453273296356,
          0.8696453273296356,
          0.8696453273296356,
          0.8696453273296356,
          0.8696453273296356,
          0.8696453273296356,
          0.8696453273296356,
          0.8696453273296356,
          0.8696453273296356,
          0.8696453273296356,
          0.8696453273296356,
          0.8696453273296356,
          0.8696453273296356,
          0.8696453273296356,
          0.8696453273296356,
          0.8696453273296356,
          0.8696453273296356,
          0.8696453273296356,
          0.8696453273296356,
          0.9008314311504364,
          0.9008314311504364,
          0.9008314311504364,
          0.9008314311504364,
          0.9008314311504364,
          0.9008314311504364,
          0.9008314311504364,
          0.9008314311504364,
          0.9008314311504364,
          0.9008314311504364,
          0.9008314311504364,
          0.9008314311504364,
          0.9008314311504364,
          0.9008314311504364,
          0.9008314311504364,
          0.9008314311504364,
          0.9008314311504364,
          0.9008314311504364,
          0.9008314311504364,
          0.9008314311504364,
          0.9008314311504364,
          0.9008314311504364,
          0.9008314311504364,
          0.9008314311504364,
          0.9008314311504364,
          0.9008314311504364,
          0.9008314311504364,
          0.9008314311504364,
          0.9008314311504364,
          0.9008314311504364,
          0.9994088411331177,
          0.9994088411331177,
          0.9994088411331177,
          0.9994088411331177,
          0.9994088411331177,
          0.9994088411331177,
          0.9994088411331177,
          0.9994088411331177,
          0.9994088411331177,
          0.9994088411331177,
          0.9994088411331177,
          0.9994088411331177,
          0.9994088411331177,
          0.9994088411331177,
          0.9994088411331177,
          0.9994088411331177,
          0.9994088411331177,
          0.9994088411331177,
          0.9994088411331177,
          0.9994088411331177,
          0.9994088411331177,
          0.9994088411331177,
          0.9994088411331177,
          0.9994088411331177,
          0.9994088411331177,
          0.9994088411331177,
          0.9994088411331177,
          0.9994088411331177,
          0.9994088411331177,
          0.9994088411331177,
          1.4703577756881714,
          1.4703577756881714,
          1.4703577756881714,
          1.4703577756881714,
          1.4703577756881714,
          1.4703577756881714,
          1.4703577756881714,
          1.4703577756881714,
          1.4703577756881714,
          1.4703577756881714,
          1.4703577756881714,
          1.4703577756881714,
          1.4703577756881714,
          1.4703577756881714,
          1.4703577756881714,
          1.4703577756881714,
          1.4703577756881714,
          1.4703577756881714,
          1.4703577756881714,
          1.4703577756881714,
          1.4703577756881714,
          1.4703577756881714,
          1.4703577756881714,
          1.4703577756881714,
          1.4703577756881714,
          1.4703577756881714,
          1.4703577756881714,
          1.4703577756881714,
          1.4703577756881714,
          1.4703577756881714,
          1.4703577756881714,
          1.4703577756881714,
          1.4703577756881714,
          1.4703577756881714,
          1.4703577756881714,
          1.4703577756881714,
          1.4703577756881714,
          1.4703577756881714,
          1.4703577756881714,
          1.4703577756881714,
          1.4703577756881714,
          1.4703577756881714,
          1.4703577756881714,
          1.4703577756881714,
          1.4703577756881714,
          1.4703577756881714,
          1.4703577756881714,
          1.4703577756881714,
          1.4703577756881714,
          1.4703577756881714,
          1.4703577756881714,
          1.4703577756881714,
          1.4703577756881714,
          1.4703577756881714,
          1.4703577756881714,
          1.4703577756881714,
          1.4703577756881714,
          1.4703577756881714,
          1.4703577756881714,
          1.4703577756881714,
          1.4703577756881714,
          1.4703577756881714,
          1.4703577756881714,
          1.4703577756881714,
          1.4703577756881714,
          1.4703577756881714,
          1.4703577756881714,
          1.4703577756881714,
          1.4703577756881714,
          1.4703577756881714,
          1.4703577756881714,
          1.4703577756881714,
          1.4703577756881714,
          1.4703577756881714,
          1.4703577756881714,
          1.4703577756881714,
          1.4703577756881714,
          1.4703577756881714,
          1.4703577756881714,
          1.4703577756881714,
          1.4703577756881714,
          1.4703577756881714,
          1.4703577756881714,
          1.4703577756881714,
          1.4703577756881714,
          1.4703577756881714,
          1.4703577756881714,
          1.4703577756881714,
          1.4703577756881714,
          1.4703577756881714
         ],
         "yaxis": "y"
        },
        {
         "alignmentgroup": "True",
         "hovertemplate": "mrate=%{x}<br>mse=%{y}<extra></extra>",
         "legendgroup": "",
         "marker": {
          "color": "#EF553B"
         },
         "name": "",
         "notched": false,
         "offsetgroup": "",
         "opacity": 0.5,
         "orientation": "v",
         "showlegend": false,
         "type": "box",
         "x": [
          0,
          0,
          0,
          0,
          0,
          0,
          0,
          0,
          0,
          0,
          0,
          0,
          0,
          0,
          0,
          0,
          0,
          0,
          0,
          0,
          0,
          0,
          0,
          0,
          0,
          0,
          0,
          0,
          0,
          0,
          0.3,
          0.3,
          0.3,
          0.3,
          0.3,
          0.3,
          0.3,
          0.3,
          0.3,
          0.3,
          0.3,
          0.3,
          0.3,
          0.3,
          0.3,
          0.3,
          0.3,
          0.3,
          0.3,
          0.3,
          0.3,
          0.3,
          0.3,
          0.3,
          0.3,
          0.3,
          0.3,
          0.3,
          0.3,
          0.3,
          0.5,
          0.5,
          0.5,
          0.5,
          0.5,
          0.5,
          0.5,
          0.5,
          0.5,
          0.5,
          0.5,
          0.5,
          0.5,
          0.5,
          0.5,
          0.5,
          0.5,
          0.5,
          0.5,
          0.5,
          0.5,
          0.5,
          0.5,
          0.5,
          0.5,
          0.5,
          0.5,
          0.5,
          0.5,
          0.5,
          0.6,
          0.6,
          0.6,
          0.6,
          0.6,
          0.6,
          0.6,
          0.6,
          0.6,
          0.6,
          0.6,
          0.6,
          0.6,
          0.6,
          0.6,
          0.6,
          0.6,
          0.6,
          0.6,
          0.6,
          0.6,
          0.6,
          0.6,
          0.6,
          0.6,
          0.6,
          0.6,
          0.6,
          0.6,
          0.6,
          0.8,
          0.8,
          0.8,
          0.8,
          0.8,
          0.8,
          0.8,
          0.8,
          0.8,
          0.8,
          0.8,
          0.8,
          0.8,
          0.8,
          0.8,
          0.8,
          0.8,
          0.8,
          0.8,
          0.8,
          0.8,
          0.8,
          0.8,
          0.8,
          0.8,
          0.8,
          0.8,
          0.8,
          0.8,
          0.8,
          0.8,
          0.8,
          0.8,
          0.8,
          0.8,
          0.8,
          0.8,
          0.8,
          0.8,
          0.8,
          0.8,
          0.8,
          0.8,
          0.8,
          0.8,
          0.8,
          0.8,
          0.8,
          0.8,
          0.8,
          0.8,
          0.8,
          0.8,
          0.8,
          0.8,
          0.8,
          0.8,
          0.8,
          0.8,
          0.8,
          0.8,
          0.8,
          0.8,
          0.8,
          0.8,
          0.8,
          0.8,
          0.8,
          0.8,
          0.8,
          0.8,
          0.8,
          0.8,
          0.8,
          0.8,
          0.8,
          0.8,
          0.8,
          0.8,
          0.8,
          0.8,
          0.8,
          0.8,
          0.8,
          0.8,
          0.8,
          0.8,
          0.8,
          0.8,
          0.8
         ],
         "x0": " ",
         "xaxis": "x",
         "y": [
          0.878224790096283,
          0.9400696754455566,
          0.8051757216453552,
          0.7869590520858765,
          0.9584046602249146,
          0.9470146894454956,
          0.9959319829940796,
          0.7961194515228271,
          0.8894031047821045,
          0.9410082697868348,
          1.1162763833999634,
          0.984142243862152,
          0.9500049352645874,
          0.8508350849151611,
          1.065972924232483,
          0.9306325316429138,
          0.9315527081489564,
          0.8821834921836853,
          0.9825312495231628,
          1.0329943895339966,
          0.796339750289917,
          0.9800927639007568,
          0.9518452882766724,
          0.9608127474784852,
          1.0024265050888062,
          0.9519636034965516,
          0.9514760971069336,
          0.9099218249320984,
          0.907282054424286,
          1.027765870094299,
          1.0911216735839844,
          1.1759403944015503,
          1.1040196418762207,
          1.089476466178894,
          1.2294284105300903,
          1.0384750366210938,
          1.1775016784667969,
          1.048393726348877,
          1.0910959243774414,
          1.138793706893921,
          1.0817877054214478,
          1.1307646036148071,
          1.107380986213684,
          1.008258581161499,
          1.1832122802734375,
          1.133663296699524,
          1.209850788116455,
          1.1310657262802124,
          1.1442815065383911,
          1.124642252922058,
          1.0674182176589966,
          1.1629021167755127,
          1.134744644165039,
          1.0309064388275146,
          1.175586819648743,
          1.029935359954834,
          1.0733338594436646,
          1.1611595153808594,
          1.099887132644653,
          1.041639804840088,
          1.6116863489151,
          1.5160924196243286,
          1.3707953691482544,
          1.6205365657806396,
          1.558376431465149,
          1.526062250137329,
          1.5470616817474363,
          1.4493675231933594,
          1.4920539855957031,
          1.3677170276641846,
          1.5242124795913696,
          1.4503629207611084,
          1.5657531023025513,
          1.563511610031128,
          1.539101243019104,
          1.5651832818984983,
          1.6083065271377563,
          1.5251295566558838,
          1.4182831048965454,
          1.5101028680801392,
          1.4920322895050049,
          1.52112078666687,
          1.4934680461883545,
          1.452234983444214,
          1.5829685926437378,
          1.5355478525161743,
          1.4930981397628784,
          1.5565121173858645,
          1.5333003997802734,
          1.5607208013534546,
          1.823231816291809,
          1.8270808458328247,
          1.7555392980575562,
          1.8135911226272583,
          1.762623906135559,
          1.793165922164917,
          1.841535925865173,
          1.8144985437393188,
          1.7932943105697632,
          1.8530081510543823,
          1.7725926637649536,
          1.7585164308547974,
          1.8520978689193728,
          1.692979335784912,
          1.6744208335876465,
          1.7604258060455322,
          1.7372492551803589,
          1.69110107421875,
          1.826484203338623,
          1.7674332857131958,
          1.759521245956421,
          1.8392342329025269,
          1.778372287750244,
          1.8257144689559937,
          1.9019455909729004,
          1.858214974403381,
          1.786439299583435,
          1.7964571714401243,
          1.737854242324829,
          1.706994891166687,
          5.260487079620361,
          5.142705917358398,
          2.385251045227051,
          2.2854061126708984,
          5.750339984893799,
          2.2574944496154785,
          5.818289756774902,
          2.273346424102783,
          5.38845682144165,
          2.306881666183472,
          2.364302158355713,
          4.613171577453613,
          5.611685752868652,
          2.353280782699585,
          5.382199287414551,
          2.397148847579956,
          4.983593463897705,
          2.2073276042938232,
          5.351346015930176,
          2.3291170597076416,
          4.416447639465332,
          2.3505263328552246,
          5.263935565948486,
          2.3165853023529053,
          2.4367384910583496,
          4.732212543487549,
          2.212939739227295,
          5.495389461517334,
          4.63203239440918,
          2.3178086280822754,
          4.8478522300720215,
          2.414273977279663,
          2.2413244247436523,
          5.6314215660095215,
          2.412404775619507,
          4.7689313888549805,
          2.3864667415618896,
          4.307370662689209,
          2.2640743255615234,
          4.637911319732666,
          2.2684402465820312,
          4.6535468101501465,
          2.4112133979797363,
          4.803574085235596,
          2.2952327728271484,
          2.3492677211761475,
          2.425903558731079,
          2.6245834827423096,
          2.4923458099365234,
          2.342793703079224,
          2.605711936950684,
          2.5726168155670166,
          2.46928334236145,
          2.447866916656494,
          2.64227294921875,
          2.7349729537963867,
          2.579792261123657,
          2.384052038192749,
          2.53678822517395,
          2.505067825317383,
          2.5665907859802246,
          2.760765552520752,
          2.5901615619659424,
          2.3974146842956543,
          2.324040174484253,
          2.5092198848724365,
          2.4108774662017822,
          2.578709363937378,
          4.76667070388794,
          2.258852005004883,
          4.985151767730713,
          2.3856592178344727,
          4.9730987548828125,
          2.3317368030548096,
          5.477793216705322,
          2.4442732334136963,
          5.3008880615234375,
          2.3502163887023926,
          4.556369304656982,
          4.492476940155029,
          2.56313157081604,
          2.505772590637207,
          2.578941583633423,
          2.600013256072998,
          2.384645700454712,
          2.630146741867065,
          2.5444018840789795,
          5.31781530380249,
          2.2355446815490723,
          2.318302869796753
         ],
         "y0": " ",
         "yaxis": "y"
        },
        {
         "alignmentgroup": "True",
         "hovertemplate": "mrate=%{x}<br>mse=%{y}<extra></extra>",
         "legendgroup": "",
         "marker": {
          "color": "#636efa"
         },
         "name": "",
         "notched": false,
         "offsetgroup": "",
         "opacity": 0.5,
         "orientation": "v",
         "showlegend": false,
         "type": "box",
         "x": [
          0,
          0,
          0,
          0,
          0,
          0,
          0,
          0,
          0,
          0,
          0,
          0,
          0,
          0,
          0,
          0,
          0,
          0,
          0,
          0,
          0,
          0,
          0,
          0,
          0,
          0,
          0,
          0,
          0,
          0,
          0.3,
          0.3,
          0.3,
          0.3,
          0.3,
          0.3,
          0.3,
          0.3,
          0.3,
          0.3,
          0.3,
          0.3,
          0.3,
          0.3,
          0.3,
          0.3,
          0.3,
          0.3,
          0.3,
          0.3,
          0.3,
          0.3,
          0.3,
          0.3,
          0.3,
          0.3,
          0.3,
          0.3,
          0.3,
          0.3,
          0.5,
          0.5,
          0.5,
          0.5,
          0.5,
          0.5,
          0.5,
          0.5,
          0.5,
          0.5,
          0.5,
          0.5,
          0.5,
          0.5,
          0.5,
          0.5,
          0.5,
          0.5,
          0.5,
          0.5,
          0.5,
          0.5,
          0.5,
          0.5,
          0.5,
          0.5,
          0.5,
          0.5,
          0.5,
          0.5,
          0.6,
          0.6,
          0.6,
          0.6,
          0.6,
          0.6,
          0.6,
          0.6,
          0.6,
          0.6,
          0.6,
          0.6,
          0.6,
          0.6,
          0.6,
          0.6,
          0.6,
          0.6,
          0.6,
          0.6,
          0.6,
          0.6,
          0.6,
          0.6,
          0.6,
          0.6,
          0.6,
          0.6,
          0.6,
          0.6,
          0.8,
          0.8,
          0.8,
          0.8,
          0.8,
          0.8,
          0.8,
          0.8,
          0.8,
          0.8,
          0.8,
          0.8,
          0.8,
          0.8,
          0.8,
          0.8,
          0.8,
          0.8,
          0.8,
          0.8,
          0.8,
          0.8,
          0.8,
          0.8,
          0.8,
          0.8,
          0.8,
          0.8,
          0.8,
          0.8,
          0.8,
          0.8,
          0.8,
          0.8,
          0.8,
          0.8,
          0.8,
          0.8,
          0.8,
          0.8,
          0.8,
          0.8,
          0.8,
          0.8,
          0.8,
          0.8,
          0.8,
          0.8,
          0.8,
          0.8,
          0.8,
          0.8,
          0.8,
          0.8,
          0.8,
          0.8,
          0.8,
          0.8,
          0.8,
          0.8,
          0.8,
          0.8,
          0.8,
          0.8,
          0.8,
          0.8,
          0.8,
          0.8,
          0.8,
          0.8,
          0.8,
          0.8,
          0.8,
          0.8,
          0.8,
          0.8,
          0.8,
          0.8,
          0.8,
          0.8,
          0.8,
          0.8,
          0.8,
          0.8,
          0.8,
          0.8,
          0.8,
          0.8,
          0.8,
          0.8
         ],
         "x0": " ",
         "xaxis": "x",
         "y": [
          1.0028198957443235,
          1.0093005895614624,
          0.9421307444572448,
          1.005632400512695,
          0.9958528876304626,
          1.2612193822860718,
          0.8485183715820312,
          1.030606389045715,
          0.8305052518844604,
          0.9671956300735474,
          0.950186550617218,
          0.8598496913909912,
          0.9631581902503968,
          1.0277780294418335,
          0.930810570716858,
          1.090095281600952,
          0.9997382760047911,
          0.9650077223777772,
          0.971306324005127,
          0.9694689512252808,
          0.9968351125717164,
          0.9506178498268129,
          0.9200228452682496,
          0.9058720469474792,
          1.1813548803329468,
          1.130162239074707,
          0.9765868186950684,
          0.9272892475128174,
          0.9340044856071472,
          0.8837889432907104,
          0.9043009281158448,
          0.8754433393478394,
          0.8610203862190247,
          0.8645129799842834,
          0.9009425044059752,
          0.9135943055152892,
          0.8809950351715088,
          0.8455267548561096,
          0.8422359824180603,
          0.9824572801589966,
          0.8699935674667358,
          0.8486875891685486,
          0.8395102620124817,
          0.8896583914756775,
          0.8661194443702698,
          0.8759350776672363,
          0.872726321220398,
          0.8421153426170349,
          0.862273633480072,
          0.9190791845321656,
          0.9222312569618224,
          0.8675554990768433,
          0.8737065196037292,
          0.8229553699493408,
          0.8133566379547119,
          0.8808164000511169,
          0.8449809551239014,
          0.8140660524368286,
          0.8692970871925354,
          0.8815234899520874,
          0.9038130640983582,
          0.905635416507721,
          0.88218092918396,
          0.9001876711845398,
          0.8990706205368042,
          0.9128010869026184,
          0.8923256397247314,
          0.9457527995109558,
          0.876510739326477,
          0.9470889568328856,
          0.8673438429832458,
          0.9075524806976318,
          0.9195002317428588,
          0.8968054056167603,
          0.8958805203437805,
          0.8840386867523193,
          0.9034718871116638,
          0.8833195567131042,
          0.9344570636749268,
          0.8785080313682556,
          0.8845660090446472,
          0.884499192237854,
          0.901475191116333,
          0.9183335900306702,
          0.902157425880432,
          0.8376575708389282,
          0.9247159957885742,
          0.927612602710724,
          0.9365820288658142,
          0.8739476799964905,
          0.997322678565979,
          0.9511775970458984,
          1.020256280899048,
          1.0640170574188232,
          0.9700883030891418,
          0.978420078754425,
          0.974738836288452,
          0.998916745185852,
          1.0177408456802368,
          1.037876844406128,
          0.998589038848877,
          0.9535425305366516,
          1.0314358472824097,
          0.9821112155914308,
          0.9468722343444824,
          0.9680507183074952,
          1.0326180458068848,
          1.0058627128601074,
          1.0817526578903198,
          0.9653294682502748,
          1.0134422779083252,
          0.9999009370803832,
          1.000610589981079,
          1.0672961473464966,
          0.9578129053115844,
          0.9797062873840332,
          1.0466738939285278,
          1.0748164653778076,
          0.9813449382781982,
          1.0194745063781738,
          2.704423427581787,
          1.3390779495239258,
          2.0809803009033203,
          1.401423454284668,
          2.24069619178772,
          1.4955700635910034,
          2.354587316513061,
          1.3667306900024414,
          2.426884651184082,
          1.4593496322631836,
          2.3527538776397705,
          1.3501042127609253,
          2.429117679595948,
          1.3564342260360718,
          2.426010847091675,
          1.4709200859069824,
          2.36985182762146,
          1.4037916660308838,
          2.083791732788086,
          1.6425830125808716,
          1.550129532814026,
          1.3411158323287964,
          1.408663272857666,
          2.745837688446045,
          2.9413540363311768,
          1.359824776649475,
          2.2295796871185303,
          2.402168273925781,
          1.3365341424942017,
          2.6075947284698486,
          1.4230692386627195,
          2.2886929512023926,
          1.3365062475204468,
          1.417738676071167,
          2.3776602745056152,
          1.4746304750442505,
          2.362863063812256,
          1.3286628723144531,
          2.170217990875244,
          1.2479839324951172,
          2.31606125831604,
          1.345458984375,
          2.329246759414673,
          2.351044178009033,
          1.4742248058319092,
          1.4312130212783811,
          1.3456062078475952,
          2.264668703079224,
          1.4179517030715942,
          1.3250055313110352,
          1.449971079826355,
          1.5820887088775637,
          1.4317841529846191,
          1.469737887382507,
          1.3550244569778442,
          1.3707334995269775,
          1.4925079345703125,
          1.389999270439148,
          1.313412308692932,
          1.392616868019104,
          1.4214444160461426,
          1.4221419095993042,
          1.3846514225006104,
          1.4507932662963867,
          1.293109655380249,
          1.5978103876113892,
          1.4899485111236572,
          1.5695351362228394,
          2.4413230419158936,
          1.434666633605957,
          2.3198680877685547,
          1.402056097984314,
          2.1389477252960205,
          1.4966567754745483,
          2.639093399047852,
          1.424849271774292,
          1.9544129371643064,
          1.4697954654693604,
          2.3829054832458496,
          1.4029542207717896,
          1.3905322551727295,
          1.4836331605911257,
          1.4006143808364868,
          1.412209153175354,
          1.6073064804077148,
          1.408270001411438,
          1.4833415746688845,
          2.258199691772461,
          1.3151038885116575,
          1.4496018886566162
         ],
         "y0": " ",
         "yaxis": "y"
        }
       ],
       "layout": {
        "height": 425,
        "legend": {
         "title": {
          "text": ""
         },
         "tracegroupgap": 0
        },
        "margin": {
         "t": 60
        },
        "template": {
         "data": {
          "bar": [
           {
            "error_x": {
             "color": "#2a3f5f"
            },
            "error_y": {
             "color": "#2a3f5f"
            },
            "marker": {
             "line": {
              "color": "white",
              "width": 0.5
             },
             "pattern": {
              "fillmode": "overlay",
              "size": 10,
              "solidity": 0.2
             }
            },
            "type": "bar"
           }
          ],
          "barpolar": [
           {
            "marker": {
             "line": {
              "color": "white",
              "width": 0.5
             },
             "pattern": {
              "fillmode": "overlay",
              "size": 10,
              "solidity": 0.2
             }
            },
            "type": "barpolar"
           }
          ],
          "carpet": [
           {
            "aaxis": {
             "endlinecolor": "#2a3f5f",
             "gridcolor": "#C8D4E3",
             "linecolor": "#C8D4E3",
             "minorgridcolor": "#C8D4E3",
             "startlinecolor": "#2a3f5f"
            },
            "baxis": {
             "endlinecolor": "#2a3f5f",
             "gridcolor": "#C8D4E3",
             "linecolor": "#C8D4E3",
             "minorgridcolor": "#C8D4E3",
             "startlinecolor": "#2a3f5f"
            },
            "type": "carpet"
           }
          ],
          "choropleth": [
           {
            "colorbar": {
             "outlinewidth": 0,
             "ticks": ""
            },
            "type": "choropleth"
           }
          ],
          "contour": [
           {
            "colorbar": {
             "outlinewidth": 0,
             "ticks": ""
            },
            "colorscale": [
             [
              0,
              "#0d0887"
             ],
             [
              0.1111111111111111,
              "#46039f"
             ],
             [
              0.2222222222222222,
              "#7201a8"
             ],
             [
              0.3333333333333333,
              "#9c179e"
             ],
             [
              0.4444444444444444,
              "#bd3786"
             ],
             [
              0.5555555555555556,
              "#d8576b"
             ],
             [
              0.6666666666666666,
              "#ed7953"
             ],
             [
              0.7777777777777778,
              "#fb9f3a"
             ],
             [
              0.8888888888888888,
              "#fdca26"
             ],
             [
              1,
              "#f0f921"
             ]
            ],
            "type": "contour"
           }
          ],
          "contourcarpet": [
           {
            "colorbar": {
             "outlinewidth": 0,
             "ticks": ""
            },
            "type": "contourcarpet"
           }
          ],
          "heatmap": [
           {
            "colorbar": {
             "outlinewidth": 0,
             "ticks": ""
            },
            "colorscale": [
             [
              0,
              "#0d0887"
             ],
             [
              0.1111111111111111,
              "#46039f"
             ],
             [
              0.2222222222222222,
              "#7201a8"
             ],
             [
              0.3333333333333333,
              "#9c179e"
             ],
             [
              0.4444444444444444,
              "#bd3786"
             ],
             [
              0.5555555555555556,
              "#d8576b"
             ],
             [
              0.6666666666666666,
              "#ed7953"
             ],
             [
              0.7777777777777778,
              "#fb9f3a"
             ],
             [
              0.8888888888888888,
              "#fdca26"
             ],
             [
              1,
              "#f0f921"
             ]
            ],
            "type": "heatmap"
           }
          ],
          "heatmapgl": [
           {
            "colorbar": {
             "outlinewidth": 0,
             "ticks": ""
            },
            "colorscale": [
             [
              0,
              "#0d0887"
             ],
             [
              0.1111111111111111,
              "#46039f"
             ],
             [
              0.2222222222222222,
              "#7201a8"
             ],
             [
              0.3333333333333333,
              "#9c179e"
             ],
             [
              0.4444444444444444,
              "#bd3786"
             ],
             [
              0.5555555555555556,
              "#d8576b"
             ],
             [
              0.6666666666666666,
              "#ed7953"
             ],
             [
              0.7777777777777778,
              "#fb9f3a"
             ],
             [
              0.8888888888888888,
              "#fdca26"
             ],
             [
              1,
              "#f0f921"
             ]
            ],
            "type": "heatmapgl"
           }
          ],
          "histogram": [
           {
            "marker": {
             "pattern": {
              "fillmode": "overlay",
              "size": 10,
              "solidity": 0.2
             }
            },
            "type": "histogram"
           }
          ],
          "histogram2d": [
           {
            "colorbar": {
             "outlinewidth": 0,
             "ticks": ""
            },
            "colorscale": [
             [
              0,
              "#0d0887"
             ],
             [
              0.1111111111111111,
              "#46039f"
             ],
             [
              0.2222222222222222,
              "#7201a8"
             ],
             [
              0.3333333333333333,
              "#9c179e"
             ],
             [
              0.4444444444444444,
              "#bd3786"
             ],
             [
              0.5555555555555556,
              "#d8576b"
             ],
             [
              0.6666666666666666,
              "#ed7953"
             ],
             [
              0.7777777777777778,
              "#fb9f3a"
             ],
             [
              0.8888888888888888,
              "#fdca26"
             ],
             [
              1,
              "#f0f921"
             ]
            ],
            "type": "histogram2d"
           }
          ],
          "histogram2dcontour": [
           {
            "colorbar": {
             "outlinewidth": 0,
             "ticks": ""
            },
            "colorscale": [
             [
              0,
              "#0d0887"
             ],
             [
              0.1111111111111111,
              "#46039f"
             ],
             [
              0.2222222222222222,
              "#7201a8"
             ],
             [
              0.3333333333333333,
              "#9c179e"
             ],
             [
              0.4444444444444444,
              "#bd3786"
             ],
             [
              0.5555555555555556,
              "#d8576b"
             ],
             [
              0.6666666666666666,
              "#ed7953"
             ],
             [
              0.7777777777777778,
              "#fb9f3a"
             ],
             [
              0.8888888888888888,
              "#fdca26"
             ],
             [
              1,
              "#f0f921"
             ]
            ],
            "type": "histogram2dcontour"
           }
          ],
          "mesh3d": [
           {
            "colorbar": {
             "outlinewidth": 0,
             "ticks": ""
            },
            "type": "mesh3d"
           }
          ],
          "parcoords": [
           {
            "line": {
             "colorbar": {
              "outlinewidth": 0,
              "ticks": ""
             }
            },
            "type": "parcoords"
           }
          ],
          "pie": [
           {
            "automargin": true,
            "type": "pie"
           }
          ],
          "scatter": [
           {
            "fillpattern": {
             "fillmode": "overlay",
             "size": 10,
             "solidity": 0.2
            },
            "type": "scatter"
           }
          ],
          "scatter3d": [
           {
            "line": {
             "colorbar": {
              "outlinewidth": 0,
              "ticks": ""
             }
            },
            "marker": {
             "colorbar": {
              "outlinewidth": 0,
              "ticks": ""
             }
            },
            "type": "scatter3d"
           }
          ],
          "scattercarpet": [
           {
            "marker": {
             "colorbar": {
              "outlinewidth": 0,
              "ticks": ""
             }
            },
            "type": "scattercarpet"
           }
          ],
          "scattergeo": [
           {
            "marker": {
             "colorbar": {
              "outlinewidth": 0,
              "ticks": ""
             }
            },
            "type": "scattergeo"
           }
          ],
          "scattergl": [
           {
            "marker": {
             "colorbar": {
              "outlinewidth": 0,
              "ticks": ""
             }
            },
            "type": "scattergl"
           }
          ],
          "scattermapbox": [
           {
            "marker": {
             "colorbar": {
              "outlinewidth": 0,
              "ticks": ""
             }
            },
            "type": "scattermapbox"
           }
          ],
          "scatterpolar": [
           {
            "marker": {
             "colorbar": {
              "outlinewidth": 0,
              "ticks": ""
             }
            },
            "type": "scatterpolar"
           }
          ],
          "scatterpolargl": [
           {
            "marker": {
             "colorbar": {
              "outlinewidth": 0,
              "ticks": ""
             }
            },
            "type": "scatterpolargl"
           }
          ],
          "scatterternary": [
           {
            "marker": {
             "colorbar": {
              "outlinewidth": 0,
              "ticks": ""
             }
            },
            "type": "scatterternary"
           }
          ],
          "surface": [
           {
            "colorbar": {
             "outlinewidth": 0,
             "ticks": ""
            },
            "colorscale": [
             [
              0,
              "#0d0887"
             ],
             [
              0.1111111111111111,
              "#46039f"
             ],
             [
              0.2222222222222222,
              "#7201a8"
             ],
             [
              0.3333333333333333,
              "#9c179e"
             ],
             [
              0.4444444444444444,
              "#bd3786"
             ],
             [
              0.5555555555555556,
              "#d8576b"
             ],
             [
              0.6666666666666666,
              "#ed7953"
             ],
             [
              0.7777777777777778,
              "#fb9f3a"
             ],
             [
              0.8888888888888888,
              "#fdca26"
             ],
             [
              1,
              "#f0f921"
             ]
            ],
            "type": "surface"
           }
          ],
          "table": [
           {
            "cells": {
             "fill": {
              "color": "#EBF0F8"
             },
             "line": {
              "color": "white"
             }
            },
            "header": {
             "fill": {
              "color": "#C8D4E3"
             },
             "line": {
              "color": "white"
             }
            },
            "type": "table"
           }
          ]
         },
         "layout": {
          "annotationdefaults": {
           "arrowcolor": "#2a3f5f",
           "arrowhead": 0,
           "arrowwidth": 1
          },
          "autotypenumbers": "strict",
          "coloraxis": {
           "colorbar": {
            "outlinewidth": 0,
            "ticks": ""
           }
          },
          "colorscale": {
           "diverging": [
            [
             0,
             "#8e0152"
            ],
            [
             0.1,
             "#c51b7d"
            ],
            [
             0.2,
             "#de77ae"
            ],
            [
             0.3,
             "#f1b6da"
            ],
            [
             0.4,
             "#fde0ef"
            ],
            [
             0.5,
             "#f7f7f7"
            ],
            [
             0.6,
             "#e6f5d0"
            ],
            [
             0.7,
             "#b8e186"
            ],
            [
             0.8,
             "#7fbc41"
            ],
            [
             0.9,
             "#4d9221"
            ],
            [
             1,
             "#276419"
            ]
           ],
           "sequential": [
            [
             0,
             "#0d0887"
            ],
            [
             0.1111111111111111,
             "#46039f"
            ],
            [
             0.2222222222222222,
             "#7201a8"
            ],
            [
             0.3333333333333333,
             "#9c179e"
            ],
            [
             0.4444444444444444,
             "#bd3786"
            ],
            [
             0.5555555555555556,
             "#d8576b"
            ],
            [
             0.6666666666666666,
             "#ed7953"
            ],
            [
             0.7777777777777778,
             "#fb9f3a"
            ],
            [
             0.8888888888888888,
             "#fdca26"
            ],
            [
             1,
             "#f0f921"
            ]
           ],
           "sequentialminus": [
            [
             0,
             "#0d0887"
            ],
            [
             0.1111111111111111,
             "#46039f"
            ],
            [
             0.2222222222222222,
             "#7201a8"
            ],
            [
             0.3333333333333333,
             "#9c179e"
            ],
            [
             0.4444444444444444,
             "#bd3786"
            ],
            [
             0.5555555555555556,
             "#d8576b"
            ],
            [
             0.6666666666666666,
             "#ed7953"
            ],
            [
             0.7777777777777778,
             "#fb9f3a"
            ],
            [
             0.8888888888888888,
             "#fdca26"
            ],
            [
             1,
             "#f0f921"
            ]
           ]
          },
          "colorway": [
           "#636efa",
           "#EF553B",
           "#00cc96",
           "#ab63fa",
           "#FFA15A",
           "#19d3f3",
           "#FF6692",
           "#B6E880",
           "#FF97FF",
           "#FECB52"
          ],
          "font": {
           "color": "#2a3f5f"
          },
          "geo": {
           "bgcolor": "white",
           "lakecolor": "white",
           "landcolor": "white",
           "showlakes": true,
           "showland": true,
           "subunitcolor": "#C8D4E3"
          },
          "hoverlabel": {
           "align": "left"
          },
          "hovermode": "closest",
          "mapbox": {
           "style": "light"
          },
          "paper_bgcolor": "white",
          "plot_bgcolor": "white",
          "polar": {
           "angularaxis": {
            "gridcolor": "#EBF0F8",
            "linecolor": "#EBF0F8",
            "ticks": ""
           },
           "bgcolor": "white",
           "radialaxis": {
            "gridcolor": "#EBF0F8",
            "linecolor": "#EBF0F8",
            "ticks": ""
           }
          },
          "scene": {
           "xaxis": {
            "backgroundcolor": "white",
            "gridcolor": "#DFE8F3",
            "gridwidth": 2,
            "linecolor": "#EBF0F8",
            "showbackground": true,
            "ticks": "",
            "zerolinecolor": "#EBF0F8"
           },
           "yaxis": {
            "backgroundcolor": "white",
            "gridcolor": "#DFE8F3",
            "gridwidth": 2,
            "linecolor": "#EBF0F8",
            "showbackground": true,
            "ticks": "",
            "zerolinecolor": "#EBF0F8"
           },
           "zaxis": {
            "backgroundcolor": "white",
            "gridcolor": "#DFE8F3",
            "gridwidth": 2,
            "linecolor": "#EBF0F8",
            "showbackground": true,
            "ticks": "",
            "zerolinecolor": "#EBF0F8"
           }
          },
          "shapedefaults": {
           "line": {
            "color": "#2a3f5f"
           }
          },
          "ternary": {
           "aaxis": {
            "gridcolor": "#DFE8F3",
            "linecolor": "#A2B1C6",
            "ticks": ""
           },
           "baxis": {
            "gridcolor": "#DFE8F3",
            "linecolor": "#A2B1C6",
            "ticks": ""
           },
           "bgcolor": "white",
           "caxis": {
            "gridcolor": "#DFE8F3",
            "linecolor": "#A2B1C6",
            "ticks": ""
           }
          },
          "title": {
           "x": 0.05
          },
          "xaxis": {
           "automargin": true,
           "gridcolor": "#EBF0F8",
           "linecolor": "#EBF0F8",
           "ticks": "",
           "title": {
            "standoff": 15
           },
           "zerolinecolor": "#EBF0F8",
           "zerolinewidth": 2
          },
          "yaxis": {
           "automargin": true,
           "gridcolor": "#EBF0F8",
           "linecolor": "#EBF0F8",
           "ticks": "",
           "title": {
            "standoff": 15
           },
           "zerolinecolor": "#EBF0F8",
           "zerolinewidth": 2
          }
         }
        },
        "title": {
         "text": "Chickenpox/GConvLSTM"
        },
        "width": 425,
        "xaxis": {
         "anchor": "y",
         "autorange": true,
         "domain": [
          0,
          1
         ],
         "range": [
          -0.05887445887445887,
          0.8588744588744589
         ],
         "title": {
          "text": "Missign Rate"
         },
         "type": "linear"
        },
        "yaxis": {
         "anchor": "x",
         "autorange": true,
         "domain": [
          0,
          1
         ],
         "range": [
          0.5074406796031528,
          6.097808129257626
         ],
         "title": {
          "text": "MSE"
         },
         "type": "linear"
        }
       }
      },
      "image/png": "[encoded data removed]",
      "text/html": [
       "<div>                            <div id=\"4287cb96-2679-488c-a1e2-ee212c7cc814\" class=\"plotly-graph-div\" style=\"height:425px; width:425px;\"></div>            <script type=\"text/javascript\">                require([\"plotly\"], function(Plotly) {                    window.PLOTLYENV=window.PLOTLYENV || {};                                    if (document.getElementById(\"4287cb96-2679-488c-a1e2-ee212c7cc814\")) {                    Plotly.newPlot(                        \"4287cb96-2679-488c-a1e2-ee212c7cc814\",                        [{\"hovertemplate\":\"method=STGNN<br>mrate=%{x}<br>mse_median=%{y}<extra></extra>\",\"legendgroup\":\"STGNN\",\"marker\":{\"color\":\"#EF553B\",\"opacity\":0.3,\"symbol\":\"circle\",\"size\":6},\"mode\":\"markers+lines\",\"name\":\"STGNN\",\"orientation\":\"v\",\"showlegend\":false,\"x\":[0.0,0.0,0.0,0.0,0.0,0.0,0.0,0.0,0.0,0.0,0.0,0.0,0.0,0.0,0.0,0.0,0.0,0.0,0.0,0.0,0.0,0.0,0.0,0.0,0.0,0.0,0.0,0.0,0.0,0.0,0.3,0.3,0.3,0.3,0.3,0.3,0.3,0.3,0.3,0.3,0.3,0.3,0.3,0.3,0.3,0.3,0.3,0.3,0.3,0.3,0.3,0.3,0.3,0.3,0.3,0.3,0.3,0.3,0.3,0.3,0.5,0.5,0.5,0.5,0.5,0.5,0.5,0.5,0.5,0.5,0.5,0.5,0.5,0.5,0.5,0.5,0.5,0.5,0.5,0.5,0.5,0.5,0.5,0.5,0.5,0.5,0.5,0.5,0.5,0.5,0.6,0.6,0.6,0.6,0.6,0.6,0.6,0.6,0.6,0.6,0.6,0.6,0.6,0.6,0.6,0.6,0.6,0.6,0.6,0.6,0.6,0.6,0.6,0.6,0.6,0.6,0.6,0.6,0.6,0.6,0.8,0.8,0.8,0.8,0.8,0.8,0.8,0.8,0.8,0.8,0.8,0.8,0.8,0.8,0.8,0.8,0.8,0.8,0.8,0.8,0.8,0.8,0.8,0.8,0.8,0.8,0.8,0.8,0.8,0.8,0.8,0.8,0.8,0.8,0.8,0.8,0.8,0.8,0.8,0.8,0.8,0.8,0.8,0.8,0.8,0.8,0.8,0.8,0.8,0.8,0.8,0.8,0.8,0.8,0.8,0.8,0.8,0.8,0.8,0.8,0.8,0.8,0.8,0.8,0.8,0.8,0.8,0.8,0.8,0.8,0.8,0.8,0.8,0.8,0.8,0.8,0.8,0.8,0.8,0.8,0.8,0.8,0.8,0.8,0.8,0.8,0.8,0.8,0.8,0.8],\"xaxis\":\"x\",\"y\":[0.9485098123550415,0.9485098123550415,0.9485098123550415,0.9485098123550415,0.9485098123550415,0.9485098123550415,0.9485098123550415,0.9485098123550415,0.9485098123550415,0.9485098123550415,0.9485098123550415,0.9485098123550415,0.9485098123550415,0.9485098123550415,0.9485098123550415,0.9485098123550415,0.9485098123550415,0.9485098123550415,0.9485098123550415,0.9485098123550415,0.9485098123550415,0.9485098123550415,0.9485098123550415,0.9485098123550415,0.9485098123550415,0.9485098123550415,0.9485098123550415,0.9485098123550415,0.9485098123550415,0.9485098123550415,1.116011619567871,1.116011619567871,1.116011619567871,1.116011619567871,1.116011619567871,1.116011619567871,1.116011619567871,1.116011619567871,1.116011619567871,1.116011619567871,1.116011619567871,1.116011619567871,1.116011619567871,1.116011619567871,1.116011619567871,1.116011619567871,1.116011619567871,1.116011619567871,1.116011619567871,1.116011619567871,1.116011619567871,1.116011619567871,1.116011619567871,1.116011619567871,1.116011619567871,1.116011619567871,1.116011619567871,1.116011619567871,1.116011619567871,1.116011619567871,1.5255959033966064,1.5255959033966064,1.5255959033966064,1.5255959033966064,1.5255959033966064,1.5255959033966064,1.5255959033966064,1.5255959033966064,1.5255959033966064,1.5255959033966064,1.5255959033966064,1.5255959033966064,1.5255959033966064,1.5255959033966064,1.5255959033966064,1.5255959033966064,1.5255959033966064,1.5255959033966064,1.5255959033966064,1.5255959033966064,1.5255959033966064,1.5255959033966064,1.5255959033966064,1.5255959033966064,1.5255959033966064,1.5255959033966064,1.5255959033966064,1.5255959033966064,1.5255959033966064,1.5255959033966064,1.789802610874176,1.789802610874176,1.789802610874176,1.789802610874176,1.789802610874176,1.789802610874176,1.789802610874176,1.789802610874176,1.789802610874176,1.789802610874176,1.789802610874176,1.789802610874176,1.789802610874176,1.789802610874176,1.789802610874176,1.789802610874176,1.789802610874176,1.789802610874176,1.789802610874176,1.789802610874176,1.789802610874176,1.789802610874176,1.789802610874176,1.789802610874176,1.789802610874176,1.789802610874176,1.789802610874176,1.789802610874176,1.789802610874176,1.789802610874176,2.540595054626465,2.540595054626465,2.540595054626465,2.540595054626465,2.540595054626465,2.540595054626465,2.540595054626465,2.540595054626465,2.540595054626465,2.540595054626465,2.540595054626465,2.540595054626465,2.540595054626465,2.540595054626465,2.540595054626465,2.540595054626465,2.540595054626465,2.540595054626465,2.540595054626465,2.540595054626465,2.540595054626465,2.540595054626465,2.540595054626465,2.540595054626465,2.540595054626465,2.540595054626465,2.540595054626465,2.540595054626465,2.540595054626465,2.540595054626465,2.540595054626465,2.540595054626465,2.540595054626465,2.540595054626465,2.540595054626465,2.540595054626465,2.540595054626465,2.540595054626465,2.540595054626465,2.540595054626465,2.540595054626465,2.540595054626465,2.540595054626465,2.540595054626465,2.540595054626465,2.540595054626465,2.540595054626465,2.540595054626465,2.540595054626465,2.540595054626465,2.540595054626465,2.540595054626465,2.540595054626465,2.540595054626465,2.540595054626465,2.540595054626465,2.540595054626465,2.540595054626465,2.540595054626465,2.540595054626465,2.540595054626465,2.540595054626465,2.540595054626465,2.540595054626465,2.540595054626465,2.540595054626465,2.540595054626465,2.540595054626465,2.540595054626465,2.540595054626465,2.540595054626465,2.540595054626465,2.540595054626465,2.540595054626465,2.540595054626465,2.540595054626465,2.540595054626465,2.540595054626465,2.540595054626465,2.540595054626465,2.540595054626465,2.540595054626465,2.540595054626465,2.540595054626465,2.540595054626465,2.540595054626465,2.540595054626465,2.540595054626465,2.540595054626465,2.540595054626465],\"yaxis\":\"y\",\"type\":\"scatter\",\"line\":{\"width\":1.5,\"dash\":\"dashdot\"}},{\"hovertemplate\":\"method=IT-STGNN<br>mrate=%{x}<br>mse_median=%{y}<extra></extra>\",\"legendgroup\":\"IT-STGNN\",\"marker\":{\"color\":\"#636efa\",\"opacity\":0.3,\"symbol\":\"circle\",\"size\":6},\"mode\":\"markers+lines\",\"name\":\"IT-STGNN\",\"orientation\":\"v\",\"showlegend\":false,\"x\":[0.0,0.0,0.0,0.0,0.0,0.0,0.0,0.0,0.0,0.0,0.0,0.0,0.0,0.0,0.0,0.0,0.0,0.0,0.0,0.0,0.0,0.0,0.0,0.0,0.0,0.0,0.0,0.0,0.0,0.0,0.3,0.3,0.3,0.3,0.3,0.3,0.3,0.3,0.3,0.3,0.3,0.3,0.3,0.3,0.3,0.3,0.3,0.3,0.3,0.3,0.3,0.3,0.3,0.3,0.3,0.3,0.3,0.3,0.3,0.3,0.5,0.5,0.5,0.5,0.5,0.5,0.5,0.5,0.5,0.5,0.5,0.5,0.5,0.5,0.5,0.5,0.5,0.5,0.5,0.5,0.5,0.5,0.5,0.5,0.5,0.5,0.5,0.5,0.5,0.5,0.6,0.6,0.6,0.6,0.6,0.6,0.6,0.6,0.6,0.6,0.6,0.6,0.6,0.6,0.6,0.6,0.6,0.6,0.6,0.6,0.6,0.6,0.6,0.6,0.6,0.6,0.6,0.6,0.6,0.6,0.8,0.8,0.8,0.8,0.8,0.8,0.8,0.8,0.8,0.8,0.8,0.8,0.8,0.8,0.8,0.8,0.8,0.8,0.8,0.8,0.8,0.8,0.8,0.8,0.8,0.8,0.8,0.8,0.8,0.8,0.8,0.8,0.8,0.8,0.8,0.8,0.8,0.8,0.8,0.8,0.8,0.8,0.8,0.8,0.8,0.8,0.8,0.8,0.8,0.8,0.8,0.8,0.8,0.8,0.8,0.8,0.8,0.8,0.8,0.8,0.8,0.8,0.8,0.8,0.8,0.8,0.8,0.8,0.8,0.8,0.8,0.8,0.8,0.8,0.8,0.8,0.8,0.8,0.8,0.8,0.8,0.8,0.8,0.8,0.8,0.8,0.8,0.8,0.8,0.8],\"xaxis\":\"x\",\"y\":[0.9683322906494141,0.9683322906494141,0.9683322906494141,0.9683322906494141,0.9683322906494141,0.9683322906494141,0.9683322906494141,0.9683322906494141,0.9683322906494141,0.9683322906494141,0.9683322906494141,0.9683322906494141,0.9683322906494141,0.9683322906494141,0.9683322906494141,0.9683322906494141,0.9683322906494141,0.9683322906494141,0.9683322906494141,0.9683322906494141,0.9683322906494141,0.9683322906494141,0.9683322906494141,0.9683322906494141,0.9683322906494141,0.9683322906494141,0.9683322906494141,0.9683322906494141,0.9683322906494141,0.9683322906494141,0.8696453273296356,0.8696453273296356,0.8696453273296356,0.8696453273296356,0.8696453273296356,0.8696453273296356,0.8696453273296356,0.8696453273296356,0.8696453273296356,0.8696453273296356,0.8696453273296356,0.8696453273296356,0.8696453273296356,0.8696453273296356,0.8696453273296356,0.8696453273296356,0.8696453273296356,0.8696453273296356,0.8696453273296356,0.8696453273296356,0.8696453273296356,0.8696453273296356,0.8696453273296356,0.8696453273296356,0.8696453273296356,0.8696453273296356,0.8696453273296356,0.8696453273296356,0.8696453273296356,0.8696453273296356,0.9008314311504364,0.9008314311504364,0.9008314311504364,0.9008314311504364,0.9008314311504364,0.9008314311504364,0.9008314311504364,0.9008314311504364,0.9008314311504364,0.9008314311504364,0.9008314311504364,0.9008314311504364,0.9008314311504364,0.9008314311504364,0.9008314311504364,0.9008314311504364,0.9008314311504364,0.9008314311504364,0.9008314311504364,0.9008314311504364,0.9008314311504364,0.9008314311504364,0.9008314311504364,0.9008314311504364,0.9008314311504364,0.9008314311504364,0.9008314311504364,0.9008314311504364,0.9008314311504364,0.9008314311504364,0.9994088411331177,0.9994088411331177,0.9994088411331177,0.9994088411331177,0.9994088411331177,0.9994088411331177,0.9994088411331177,0.9994088411331177,0.9994088411331177,0.9994088411331177,0.9994088411331177,0.9994088411331177,0.9994088411331177,0.9994088411331177,0.9994088411331177,0.9994088411331177,0.9994088411331177,0.9994088411331177,0.9994088411331177,0.9994088411331177,0.9994088411331177,0.9994088411331177,0.9994088411331177,0.9994088411331177,0.9994088411331177,0.9994088411331177,0.9994088411331177,0.9994088411331177,0.9994088411331177,0.9994088411331177,1.4703577756881714,1.4703577756881714,1.4703577756881714,1.4703577756881714,1.4703577756881714,1.4703577756881714,1.4703577756881714,1.4703577756881714,1.4703577756881714,1.4703577756881714,1.4703577756881714,1.4703577756881714,1.4703577756881714,1.4703577756881714,1.4703577756881714,1.4703577756881714,1.4703577756881714,1.4703577756881714,1.4703577756881714,1.4703577756881714,1.4703577756881714,1.4703577756881714,1.4703577756881714,1.4703577756881714,1.4703577756881714,1.4703577756881714,1.4703577756881714,1.4703577756881714,1.4703577756881714,1.4703577756881714,1.4703577756881714,1.4703577756881714,1.4703577756881714,1.4703577756881714,1.4703577756881714,1.4703577756881714,1.4703577756881714,1.4703577756881714,1.4703577756881714,1.4703577756881714,1.4703577756881714,1.4703577756881714,1.4703577756881714,1.4703577756881714,1.4703577756881714,1.4703577756881714,1.4703577756881714,1.4703577756881714,1.4703577756881714,1.4703577756881714,1.4703577756881714,1.4703577756881714,1.4703577756881714,1.4703577756881714,1.4703577756881714,1.4703577756881714,1.4703577756881714,1.4703577756881714,1.4703577756881714,1.4703577756881714,1.4703577756881714,1.4703577756881714,1.4703577756881714,1.4703577756881714,1.4703577756881714,1.4703577756881714,1.4703577756881714,1.4703577756881714,1.4703577756881714,1.4703577756881714,1.4703577756881714,1.4703577756881714,1.4703577756881714,1.4703577756881714,1.4703577756881714,1.4703577756881714,1.4703577756881714,1.4703577756881714,1.4703577756881714,1.4703577756881714,1.4703577756881714,1.4703577756881714,1.4703577756881714,1.4703577756881714,1.4703577756881714,1.4703577756881714,1.4703577756881714,1.4703577756881714,1.4703577756881714,1.4703577756881714],\"yaxis\":\"y\",\"type\":\"scatter\",\"line\":{\"width\":1.5,\"dash\":\"dashdot\"}},{\"alignmentgroup\":\"True\",\"hovertemplate\":\"mrate=%{x}<br>mse=%{y}<extra></extra>\",\"legendgroup\":\"\",\"marker\":{\"color\":\"#EF553B\"},\"name\":\"\",\"notched\":false,\"offsetgroup\":\"\",\"opacity\":0.5,\"orientation\":\"v\",\"showlegend\":false,\"x\":[0.0,0.0,0.0,0.0,0.0,0.0,0.0,0.0,0.0,0.0,0.0,0.0,0.0,0.0,0.0,0.0,0.0,0.0,0.0,0.0,0.0,0.0,0.0,0.0,0.0,0.0,0.0,0.0,0.0,0.0,0.3,0.3,0.3,0.3,0.3,0.3,0.3,0.3,0.3,0.3,0.3,0.3,0.3,0.3,0.3,0.3,0.3,0.3,0.3,0.3,0.3,0.3,0.3,0.3,0.3,0.3,0.3,0.3,0.3,0.3,0.5,0.5,0.5,0.5,0.5,0.5,0.5,0.5,0.5,0.5,0.5,0.5,0.5,0.5,0.5,0.5,0.5,0.5,0.5,0.5,0.5,0.5,0.5,0.5,0.5,0.5,0.5,0.5,0.5,0.5,0.6,0.6,0.6,0.6,0.6,0.6,0.6,0.6,0.6,0.6,0.6,0.6,0.6,0.6,0.6,0.6,0.6,0.6,0.6,0.6,0.6,0.6,0.6,0.6,0.6,0.6,0.6,0.6,0.6,0.6,0.8,0.8,0.8,0.8,0.8,0.8,0.8,0.8,0.8,0.8,0.8,0.8,0.8,0.8,0.8,0.8,0.8,0.8,0.8,0.8,0.8,0.8,0.8,0.8,0.8,0.8,0.8,0.8,0.8,0.8,0.8,0.8,0.8,0.8,0.8,0.8,0.8,0.8,0.8,0.8,0.8,0.8,0.8,0.8,0.8,0.8,0.8,0.8,0.8,0.8,0.8,0.8,0.8,0.8,0.8,0.8,0.8,0.8,0.8,0.8,0.8,0.8,0.8,0.8,0.8,0.8,0.8,0.8,0.8,0.8,0.8,0.8,0.8,0.8,0.8,0.8,0.8,0.8,0.8,0.8,0.8,0.8,0.8,0.8,0.8,0.8,0.8,0.8,0.8,0.8],\"x0\":\" \",\"xaxis\":\"x\",\"y\":[0.878224790096283,0.9400696754455566,0.8051757216453552,0.7869590520858765,0.9584046602249146,0.9470146894454956,0.9959319829940796,0.7961194515228271,0.8894031047821045,0.9410082697868348,1.1162763833999634,0.984142243862152,0.9500049352645874,0.8508350849151611,1.065972924232483,0.9306325316429138,0.9315527081489564,0.8821834921836853,0.9825312495231628,1.0329943895339966,0.796339750289917,0.9800927639007568,0.9518452882766724,0.9608127474784852,1.0024265050888062,0.9519636034965516,0.9514760971069336,0.9099218249320984,0.907282054424286,1.027765870094299,1.0911216735839844,1.1759403944015503,1.1040196418762207,1.089476466178894,1.2294284105300903,1.0384750366210938,1.1775016784667969,1.048393726348877,1.0910959243774414,1.138793706893921,1.0817877054214478,1.1307646036148071,1.107380986213684,1.008258581161499,1.1832122802734375,1.133663296699524,1.209850788116455,1.1310657262802124,1.1442815065383911,1.124642252922058,1.0674182176589966,1.1629021167755127,1.134744644165039,1.0309064388275146,1.175586819648743,1.029935359954834,1.0733338594436646,1.1611595153808594,1.099887132644653,1.041639804840088,1.6116863489151,1.5160924196243286,1.3707953691482544,1.6205365657806396,1.558376431465149,1.526062250137329,1.5470616817474363,1.4493675231933594,1.4920539855957031,1.3677170276641846,1.5242124795913696,1.4503629207611084,1.5657531023025513,1.563511610031128,1.539101243019104,1.5651832818984983,1.6083065271377563,1.5251295566558838,1.4182831048965454,1.5101028680801392,1.4920322895050049,1.52112078666687,1.4934680461883545,1.452234983444214,1.5829685926437378,1.5355478525161743,1.4930981397628784,1.5565121173858645,1.5333003997802734,1.5607208013534546,1.823231816291809,1.8270808458328247,1.7555392980575562,1.8135911226272583,1.762623906135559,1.793165922164917,1.841535925865173,1.8144985437393188,1.7932943105697632,1.8530081510543823,1.7725926637649536,1.7585164308547974,1.8520978689193728,1.692979335784912,1.6744208335876465,1.7604258060455322,1.7372492551803589,1.69110107421875,1.826484203338623,1.7674332857131958,1.759521245956421,1.8392342329025269,1.778372287750244,1.8257144689559937,1.9019455909729004,1.858214974403381,1.786439299583435,1.7964571714401243,1.737854242324829,1.706994891166687,5.260487079620361,5.142705917358398,2.385251045227051,2.2854061126708984,5.750339984893799,2.2574944496154785,5.818289756774902,2.273346424102783,5.38845682144165,2.306881666183472,2.364302158355713,4.613171577453613,5.611685752868652,2.353280782699585,5.382199287414551,2.397148847579956,4.983593463897705,2.2073276042938232,5.351346015930176,2.3291170597076416,4.416447639465332,2.3505263328552246,5.263935565948486,2.3165853023529053,2.4367384910583496,4.732212543487549,2.212939739227295,5.495389461517334,4.63203239440918,2.3178086280822754,4.8478522300720215,2.414273977279663,2.2413244247436523,5.6314215660095215,2.412404775619507,4.7689313888549805,2.3864667415618896,4.307370662689209,2.2640743255615234,4.637911319732666,2.2684402465820312,4.6535468101501465,2.4112133979797363,4.803574085235596,2.2952327728271484,2.3492677211761475,2.425903558731079,2.6245834827423096,2.4923458099365234,2.342793703079224,2.605711936950684,2.5726168155670166,2.46928334236145,2.447866916656494,2.64227294921875,2.7349729537963867,2.579792261123657,2.384052038192749,2.53678822517395,2.505067825317383,2.5665907859802246,2.760765552520752,2.5901615619659424,2.3974146842956543,2.324040174484253,2.5092198848724365,2.4108774662017822,2.578709363937378,4.76667070388794,2.258852005004883,4.985151767730713,2.3856592178344727,4.9730987548828125,2.3317368030548096,5.477793216705322,2.4442732334136963,5.3008880615234375,2.3502163887023926,4.556369304656982,4.492476940155029,2.56313157081604,2.505772590637207,2.578941583633423,2.600013256072998,2.384645700454712,2.630146741867065,2.5444018840789795,5.31781530380249,2.2355446815490723,2.318302869796753],\"y0\":\" \",\"yaxis\":\"y\",\"type\":\"box\"},{\"alignmentgroup\":\"True\",\"hovertemplate\":\"mrate=%{x}<br>mse=%{y}<extra></extra>\",\"legendgroup\":\"\",\"marker\":{\"color\":\"#636efa\"},\"name\":\"\",\"notched\":false,\"offsetgroup\":\"\",\"opacity\":0.5,\"orientation\":\"v\",\"showlegend\":false,\"x\":[0.0,0.0,0.0,0.0,0.0,0.0,0.0,0.0,0.0,0.0,0.0,0.0,0.0,0.0,0.0,0.0,0.0,0.0,0.0,0.0,0.0,0.0,0.0,0.0,0.0,0.0,0.0,0.0,0.0,0.0,0.3,0.3,0.3,0.3,0.3,0.3,0.3,0.3,0.3,0.3,0.3,0.3,0.3,0.3,0.3,0.3,0.3,0.3,0.3,0.3,0.3,0.3,0.3,0.3,0.3,0.3,0.3,0.3,0.3,0.3,0.5,0.5,0.5,0.5,0.5,0.5,0.5,0.5,0.5,0.5,0.5,0.5,0.5,0.5,0.5,0.5,0.5,0.5,0.5,0.5,0.5,0.5,0.5,0.5,0.5,0.5,0.5,0.5,0.5,0.5,0.6,0.6,0.6,0.6,0.6,0.6,0.6,0.6,0.6,0.6,0.6,0.6,0.6,0.6,0.6,0.6,0.6,0.6,0.6,0.6,0.6,0.6,0.6,0.6,0.6,0.6,0.6,0.6,0.6,0.6,0.8,0.8,0.8,0.8,0.8,0.8,0.8,0.8,0.8,0.8,0.8,0.8,0.8,0.8,0.8,0.8,0.8,0.8,0.8,0.8,0.8,0.8,0.8,0.8,0.8,0.8,0.8,0.8,0.8,0.8,0.8,0.8,0.8,0.8,0.8,0.8,0.8,0.8,0.8,0.8,0.8,0.8,0.8,0.8,0.8,0.8,0.8,0.8,0.8,0.8,0.8,0.8,0.8,0.8,0.8,0.8,0.8,0.8,0.8,0.8,0.8,0.8,0.8,0.8,0.8,0.8,0.8,0.8,0.8,0.8,0.8,0.8,0.8,0.8,0.8,0.8,0.8,0.8,0.8,0.8,0.8,0.8,0.8,0.8,0.8,0.8,0.8,0.8,0.8,0.8],\"x0\":\" \",\"xaxis\":\"x\",\"y\":[1.0028198957443235,1.0093005895614624,0.9421307444572448,1.005632400512695,0.9958528876304626,1.2612193822860718,0.8485183715820312,1.030606389045715,0.8305052518844604,0.9671956300735474,0.950186550617218,0.8598496913909912,0.9631581902503968,1.0277780294418335,0.930810570716858,1.090095281600952,0.9997382760047911,0.9650077223777772,0.971306324005127,0.9694689512252808,0.9968351125717164,0.9506178498268129,0.9200228452682496,0.9058720469474792,1.1813548803329468,1.130162239074707,0.9765868186950684,0.9272892475128174,0.9340044856071472,0.8837889432907104,0.9043009281158448,0.8754433393478394,0.8610203862190247,0.8645129799842834,0.9009425044059752,0.9135943055152892,0.8809950351715088,0.8455267548561096,0.8422359824180603,0.9824572801589966,0.8699935674667358,0.8486875891685486,0.8395102620124817,0.8896583914756775,0.8661194443702698,0.8759350776672363,0.872726321220398,0.8421153426170349,0.862273633480072,0.9190791845321656,0.9222312569618224,0.8675554990768433,0.8737065196037292,0.8229553699493408,0.8133566379547119,0.8808164000511169,0.8449809551239014,0.8140660524368286,0.8692970871925354,0.8815234899520874,0.9038130640983582,0.905635416507721,0.88218092918396,0.9001876711845398,0.8990706205368042,0.9128010869026184,0.8923256397247314,0.9457527995109558,0.876510739326477,0.9470889568328856,0.8673438429832458,0.9075524806976318,0.9195002317428588,0.8968054056167603,0.8958805203437805,0.8840386867523193,0.9034718871116638,0.8833195567131042,0.9344570636749268,0.8785080313682556,0.8845660090446472,0.884499192237854,0.901475191116333,0.9183335900306702,0.902157425880432,0.8376575708389282,0.9247159957885742,0.927612602710724,0.9365820288658142,0.8739476799964905,0.997322678565979,0.9511775970458984,1.020256280899048,1.0640170574188232,0.9700883030891418,0.978420078754425,0.974738836288452,0.998916745185852,1.0177408456802368,1.037876844406128,0.998589038848877,0.9535425305366516,1.0314358472824097,0.9821112155914308,0.9468722343444824,0.9680507183074952,1.0326180458068848,1.0058627128601074,1.0817526578903198,0.9653294682502748,1.0134422779083252,0.9999009370803832,1.000610589981079,1.0672961473464966,0.9578129053115844,0.9797062873840332,1.0466738939285278,1.0748164653778076,0.9813449382781982,1.0194745063781738,2.704423427581787,1.3390779495239258,2.0809803009033203,1.401423454284668,2.24069619178772,1.4955700635910034,2.354587316513061,1.3667306900024414,2.426884651184082,1.4593496322631836,2.3527538776397705,1.3501042127609253,2.429117679595948,1.3564342260360718,2.426010847091675,1.4709200859069824,2.36985182762146,1.4037916660308838,2.083791732788086,1.6425830125808716,1.550129532814026,1.3411158323287964,1.408663272857666,2.745837688446045,2.9413540363311768,1.359824776649475,2.2295796871185303,2.402168273925781,1.3365341424942017,2.6075947284698486,1.4230692386627195,2.2886929512023926,1.3365062475204468,1.417738676071167,2.3776602745056152,1.4746304750442505,2.362863063812256,1.3286628723144531,2.170217990875244,1.2479839324951172,2.31606125831604,1.345458984375,2.329246759414673,2.351044178009033,1.4742248058319092,1.4312130212783811,1.3456062078475952,2.264668703079224,1.4179517030715942,1.3250055313110352,1.449971079826355,1.5820887088775637,1.4317841529846191,1.469737887382507,1.3550244569778442,1.3707334995269775,1.4925079345703125,1.389999270439148,1.313412308692932,1.392616868019104,1.4214444160461426,1.4221419095993042,1.3846514225006104,1.4507932662963867,1.293109655380249,1.5978103876113892,1.4899485111236572,1.5695351362228394,2.4413230419158936,1.434666633605957,2.3198680877685547,1.402056097984314,2.1389477252960205,1.4966567754745483,2.639093399047852,1.424849271774292,1.9544129371643064,1.4697954654693604,2.3829054832458496,1.4029542207717896,1.3905322551727295,1.4836331605911257,1.4006143808364868,1.412209153175354,1.6073064804077148,1.408270001411438,1.4833415746688845,2.258199691772461,1.3151038885116575,1.4496018886566162],\"y0\":\" \",\"yaxis\":\"y\",\"type\":\"box\"}],                        {\"template\":{\"data\":{\"histogram2dcontour\":[{\"type\":\"histogram2dcontour\",\"colorbar\":{\"outlinewidth\":0,\"ticks\":\"\"},\"colorscale\":[[0.0,\"#0d0887\"],[0.1111111111111111,\"#46039f\"],[0.2222222222222222,\"#7201a8\"],[0.3333333333333333,\"#9c179e\"],[0.4444444444444444,\"#bd3786\"],[0.5555555555555556,\"#d8576b\"],[0.6666666666666666,\"#ed7953\"],[0.7777777777777778,\"#fb9f3a\"],[0.8888888888888888,\"#fdca26\"],[1.0,\"#f0f921\"]]}],\"choropleth\":[{\"type\":\"choropleth\",\"colorbar\":{\"outlinewidth\":0,\"ticks\":\"\"}}],\"histogram2d\":[{\"type\":\"histogram2d\",\"colorbar\":{\"outlinewidth\":0,\"ticks\":\"\"},\"colorscale\":[[0.0,\"#0d0887\"],[0.1111111111111111,\"#46039f\"],[0.2222222222222222,\"#7201a8\"],[0.3333333333333333,\"#9c179e\"],[0.4444444444444444,\"#bd3786\"],[0.5555555555555556,\"#d8576b\"],[0.6666666666666666,\"#ed7953\"],[0.7777777777777778,\"#fb9f3a\"],[0.8888888888888888,\"#fdca26\"],[1.0,\"#f0f921\"]]}],\"heatmap\":[{\"type\":\"heatmap\",\"colorbar\":{\"outlinewidth\":0,\"ticks\":\"\"},\"colorscale\":[[0.0,\"#0d0887\"],[0.1111111111111111,\"#46039f\"],[0.2222222222222222,\"#7201a8\"],[0.3333333333333333,\"#9c179e\"],[0.4444444444444444,\"#bd3786\"],[0.5555555555555556,\"#d8576b\"],[0.6666666666666666,\"#ed7953\"],[0.7777777777777778,\"#fb9f3a\"],[0.8888888888888888,\"#fdca26\"],[1.0,\"#f0f921\"]]}],\"heatmapgl\":[{\"type\":\"heatmapgl\",\"colorbar\":{\"outlinewidth\":0,\"ticks\":\"\"},\"colorscale\":[[0.0,\"#0d0887\"],[0.1111111111111111,\"#46039f\"],[0.2222222222222222,\"#7201a8\"],[0.3333333333333333,\"#9c179e\"],[0.4444444444444444,\"#bd3786\"],[0.5555555555555556,\"#d8576b\"],[0.6666666666666666,\"#ed7953\"],[0.7777777777777778,\"#fb9f3a\"],[0.8888888888888888,\"#fdca26\"],[1.0,\"#f0f921\"]]}],\"contourcarpet\":[{\"type\":\"contourcarpet\",\"colorbar\":{\"outlinewidth\":0,\"ticks\":\"\"}}],\"contour\":[{\"type\":\"contour\",\"colorbar\":{\"outlinewidth\":0,\"ticks\":\"\"},\"colorscale\":[[0.0,\"#0d0887\"],[0.1111111111111111,\"#46039f\"],[0.2222222222222222,\"#7201a8\"],[0.3333333333333333,\"#9c179e\"],[0.4444444444444444,\"#bd3786\"],[0.5555555555555556,\"#d8576b\"],[0.6666666666666666,\"#ed7953\"],[0.7777777777777778,\"#fb9f3a\"],[0.8888888888888888,\"#fdca26\"],[1.0,\"#f0f921\"]]}],\"surface\":[{\"type\":\"surface\",\"colorbar\":{\"outlinewidth\":0,\"ticks\":\"\"},\"colorscale\":[[0.0,\"#0d0887\"],[0.1111111111111111,\"#46039f\"],[0.2222222222222222,\"#7201a8\"],[0.3333333333333333,\"#9c179e\"],[0.4444444444444444,\"#bd3786\"],[0.5555555555555556,\"#d8576b\"],[0.6666666666666666,\"#ed7953\"],[0.7777777777777778,\"#fb9f3a\"],[0.8888888888888888,\"#fdca26\"],[1.0,\"#f0f921\"]]}],\"mesh3d\":[{\"type\":\"mesh3d\",\"colorbar\":{\"outlinewidth\":0,\"ticks\":\"\"}}],\"scatter\":[{\"fillpattern\":{\"fillmode\":\"overlay\",\"size\":10,\"solidity\":0.2},\"type\":\"scatter\"}],\"parcoords\":[{\"type\":\"parcoords\",\"line\":{\"colorbar\":{\"outlinewidth\":0,\"ticks\":\"\"}}}],\"scatterpolargl\":[{\"type\":\"scatterpolargl\",\"marker\":{\"colorbar\":{\"outlinewidth\":0,\"ticks\":\"\"}}}],\"bar\":[{\"error_x\":{\"color\":\"#2a3f5f\"},\"error_y\":{\"color\":\"#2a3f5f\"},\"marker\":{\"line\":{\"color\":\"white\",\"width\":0.5},\"pattern\":{\"fillmode\":\"overlay\",\"size\":10,\"solidity\":0.2}},\"type\":\"bar\"}],\"scattergeo\":[{\"type\":\"scattergeo\",\"marker\":{\"colorbar\":{\"outlinewidth\":0,\"ticks\":\"\"}}}],\"scatterpolar\":[{\"type\":\"scatterpolar\",\"marker\":{\"colorbar\":{\"outlinewidth\":0,\"ticks\":\"\"}}}],\"histogram\":[{\"marker\":{\"pattern\":{\"fillmode\":\"overlay\",\"size\":10,\"solidity\":0.2}},\"type\":\"histogram\"}],\"scattergl\":[{\"type\":\"scattergl\",\"marker\":{\"colorbar\":{\"outlinewidth\":0,\"ticks\":\"\"}}}],\"scatter3d\":[{\"type\":\"scatter3d\",\"line\":{\"colorbar\":{\"outlinewidth\":0,\"ticks\":\"\"}},\"marker\":{\"colorbar\":{\"outlinewidth\":0,\"ticks\":\"\"}}}],\"scattermapbox\":[{\"type\":\"scattermapbox\",\"marker\":{\"colorbar\":{\"outlinewidth\":0,\"ticks\":\"\"}}}],\"scatterternary\":[{\"type\":\"scatterternary\",\"marker\":{\"colorbar\":{\"outlinewidth\":0,\"ticks\":\"\"}}}],\"scattercarpet\":[{\"type\":\"scattercarpet\",\"marker\":{\"colorbar\":{\"outlinewidth\":0,\"ticks\":\"\"}}}],\"carpet\":[{\"aaxis\":{\"endlinecolor\":\"#2a3f5f\",\"gridcolor\":\"#C8D4E3\",\"linecolor\":\"#C8D4E3\",\"minorgridcolor\":\"#C8D4E3\",\"startlinecolor\":\"#2a3f5f\"},\"baxis\":{\"endlinecolor\":\"#2a3f5f\",\"gridcolor\":\"#C8D4E3\",\"linecolor\":\"#C8D4E3\",\"minorgridcolor\":\"#C8D4E3\",\"startlinecolor\":\"#2a3f5f\"},\"type\":\"carpet\"}],\"table\":[{\"cells\":{\"fill\":{\"color\":\"#EBF0F8\"},\"line\":{\"color\":\"white\"}},\"header\":{\"fill\":{\"color\":\"#C8D4E3\"},\"line\":{\"color\":\"white\"}},\"type\":\"table\"}],\"barpolar\":[{\"marker\":{\"line\":{\"color\":\"white\",\"width\":0.5},\"pattern\":{\"fillmode\":\"overlay\",\"size\":10,\"solidity\":0.2}},\"type\":\"barpolar\"}],\"pie\":[{\"automargin\":true,\"type\":\"pie\"}]},\"layout\":{\"autotypenumbers\":\"strict\",\"colorway\":[\"#636efa\",\"#EF553B\",\"#00cc96\",\"#ab63fa\",\"#FFA15A\",\"#19d3f3\",\"#FF6692\",\"#B6E880\",\"#FF97FF\",\"#FECB52\"],\"font\":{\"color\":\"#2a3f5f\"},\"hovermode\":\"closest\",\"hoverlabel\":{\"align\":\"left\"},\"paper_bgcolor\":\"white\",\"plot_bgcolor\":\"white\",\"polar\":{\"bgcolor\":\"white\",\"angularaxis\":{\"gridcolor\":\"#EBF0F8\",\"linecolor\":\"#EBF0F8\",\"ticks\":\"\"},\"radialaxis\":{\"gridcolor\":\"#EBF0F8\",\"linecolor\":\"#EBF0F8\",\"ticks\":\"\"}},\"ternary\":{\"bgcolor\":\"white\",\"aaxis\":{\"gridcolor\":\"#DFE8F3\",\"linecolor\":\"#A2B1C6\",\"ticks\":\"\"},\"baxis\":{\"gridcolor\":\"#DFE8F3\",\"linecolor\":\"#A2B1C6\",\"ticks\":\"\"},\"caxis\":{\"gridcolor\":\"#DFE8F3\",\"linecolor\":\"#A2B1C6\",\"ticks\":\"\"}},\"coloraxis\":{\"colorbar\":{\"outlinewidth\":0,\"ticks\":\"\"}},\"colorscale\":{\"sequential\":[[0.0,\"#0d0887\"],[0.1111111111111111,\"#46039f\"],[0.2222222222222222,\"#7201a8\"],[0.3333333333333333,\"#9c179e\"],[0.4444444444444444,\"#bd3786\"],[0.5555555555555556,\"#d8576b\"],[0.6666666666666666,\"#ed7953\"],[0.7777777777777778,\"#fb9f3a\"],[0.8888888888888888,\"#fdca26\"],[1.0,\"#f0f921\"]],\"sequentialminus\":[[0.0,\"#0d0887\"],[0.1111111111111111,\"#46039f\"],[0.2222222222222222,\"#7201a8\"],[0.3333333333333333,\"#9c179e\"],[0.4444444444444444,\"#bd3786\"],[0.5555555555555556,\"#d8576b\"],[0.6666666666666666,\"#ed7953\"],[0.7777777777777778,\"#fb9f3a\"],[0.8888888888888888,\"#fdca26\"],[1.0,\"#f0f921\"]],\"diverging\":[[0,\"#8e0152\"],[0.1,\"#c51b7d\"],[0.2,\"#de77ae\"],[0.3,\"#f1b6da\"],[0.4,\"#fde0ef\"],[0.5,\"#f7f7f7\"],[0.6,\"#e6f5d0\"],[0.7,\"#b8e186\"],[0.8,\"#7fbc41\"],[0.9,\"#4d9221\"],[1,\"#276419\"]]},\"xaxis\":{\"gridcolor\":\"#EBF0F8\",\"linecolor\":\"#EBF0F8\",\"ticks\":\"\",\"title\":{\"standoff\":15},\"zerolinecolor\":\"#EBF0F8\",\"automargin\":true,\"zerolinewidth\":2},\"yaxis\":{\"gridcolor\":\"#EBF0F8\",\"linecolor\":\"#EBF0F8\",\"ticks\":\"\",\"title\":{\"standoff\":15},\"zerolinecolor\":\"#EBF0F8\",\"automargin\":true,\"zerolinewidth\":2},\"scene\":{\"xaxis\":{\"backgroundcolor\":\"white\",\"gridcolor\":\"#DFE8F3\",\"linecolor\":\"#EBF0F8\",\"showbackground\":true,\"ticks\":\"\",\"zerolinecolor\":\"#EBF0F8\",\"gridwidth\":2},\"yaxis\":{\"backgroundcolor\":\"white\",\"gridcolor\":\"#DFE8F3\",\"linecolor\":\"#EBF0F8\",\"showbackground\":true,\"ticks\":\"\",\"zerolinecolor\":\"#EBF0F8\",\"gridwidth\":2},\"zaxis\":{\"backgroundcolor\":\"white\",\"gridcolor\":\"#DFE8F3\",\"linecolor\":\"#EBF0F8\",\"showbackground\":true,\"ticks\":\"\",\"zerolinecolor\":\"#EBF0F8\",\"gridwidth\":2}},\"shapedefaults\":{\"line\":{\"color\":\"#2a3f5f\"}},\"annotationdefaults\":{\"arrowcolor\":\"#2a3f5f\",\"arrowhead\":0,\"arrowwidth\":1},\"geo\":{\"bgcolor\":\"white\",\"landcolor\":\"white\",\"subunitcolor\":\"#C8D4E3\",\"showland\":true,\"showlakes\":true,\"lakecolor\":\"white\"},\"title\":{\"x\":0.05},\"mapbox\":{\"style\":\"light\"}}},\"xaxis\":{\"anchor\":\"y\",\"domain\":[0.0,1.0],\"title\":{\"text\":\"Missign Rate\"}},\"yaxis\":{\"anchor\":\"x\",\"domain\":[0.0,1.0],\"title\":{\"text\":\"MSE\"}},\"legend\":{\"title\":{\"text\":\"\"},\"tracegroupgap\":0},\"margin\":{\"t\":60},\"height\":425,\"width\":425,\"title\":{\"text\":\"Chickenpox/GConvLSTM\"}},                        {\"responsive\": true}                    ).then(function(){\n",
       "                            \n",
       "var gd = document.getElementById('4287cb96-2679-488c-a1e2-ee212c7cc814');\n",
       "var x = new MutationObserver(function (mutations, observer) {{\n",
       "        var display = window.getComputedStyle(gd).display;\n",
       "        if (!display || display === 'none') {{\n",
       "            console.log([gd, 'removed!']);\n",
       "            Plotly.purge(gd);\n",
       "            observer.disconnect();\n",
       "        }}\n",
       "}});\n",
       "\n",
       "// Listen for the removal of the full notebook cells\n",
       "var notebookContainer = gd.closest('#notebook-container');\n",
       "if (notebookContainer) {{\n",
       "    x.observe(notebookContainer, {childList: true});\n",
       "}}\n",
       "\n",
       "// Listen for the clearing of the current output cell\n",
       "var outputEl = gd.closest('.output');\n",
       "if (outputEl) {{\n",
       "    x.observe(outputEl, {childList: true});\n",
       "}}\n",
       "\n",
       "                        })                };                });            </script>        </div>"
      ]
     },
     "metadata": {},
     "output_type": "display_data"
    }
   ],
   "source": [
    "big = df.query(\"mtype=='rand' or mtype.isna()\").query(\"dataset == 'chickenpox'\").query(\"model == 'GConvLSTM'\")\\\n",
    ".sort_values(by='mrate')\\\n",
    ".assign(mrate_jittered = lambda df: np.array(df['mrate'])+np.random.randn(len(df['mrate']))*0.01)\n",
    "small = big.groupby([\"dataset\",\"mrate\",\"method\"]).agg({'mse':np.median}).reset_index().rename({'mse':'mse_median'},axis=1)\n",
    "tidydata = big.merge(small)\n",
    "#---#\n",
    "fig = px.scatter(\n",
    "    tidydata,\n",
    "    y='mse_median',\n",
    "    x='mrate',\n",
    "    opacity=0.3,\n",
    "    color='method',\n",
    "    width=425,\n",
    "    height=425,\n",
    "    hover_data='mrate',\n",
    ")\n",
    "fig.data[0]['mode']='markers+lines'\n",
    "fig.data[0]['marker']['size'] = 6\n",
    "fig.data[0]['line']['width'] = 1.5\n",
    "fig.data[0]['line']['dash'] = 'dashdot'\n",
    "fig.data[1]['mode']='markers+lines'\n",
    "fig.data[1]['marker']['size'] = 6\n",
    "fig.data[1]['line']['width'] =1.5\n",
    "fig.data[1]['line']['dash'] = 'dashdot'\n",
    "fig.data[0].marker.color='#EF553B'\n",
    "fig.data[1].marker.color='#636efa'\n",
    "box1 = px.box(\n",
    "    tidydata.query(\"method=='STGNN'\"),\n",
    "    y='mse',\n",
    "    x='mrate',\n",
    ")\n",
    "box1.data[0]['opacity']=0.5\n",
    "box1.data[0]['marker']['color']='#EF553B'\n",
    "box2 = px.box(\n",
    "    tidydata.query(\"method=='IT-STGNN'\"),\n",
    "    y='mse',\n",
    "    x='mrate',\n",
    ")\n",
    "box2.data[0]['opacity']=0.5\n",
    "box2.data[0]['marker']['color']='#636efa'\n",
    "fig.add_traces(box1.data)\n",
    "fig.add_traces(box2.data)\n",
    "fig.data[0]['showlegend'] =False\n",
    "fig.data[1]['showlegend'] =False\n",
    "fig.layout['xaxis']['title']['text']='Missign Rate'\n",
    "fig.layout['yaxis']['title']['text']='MSE'\n",
    "fig.layout['legend']['title']['text']=\"\"\n",
    "fig.layout['title']['text']='Chickenpox/GConvLSTM'\n",
    "fig"
   ]
  },
  {
   "cell_type": "markdown",
   "id": "2373a999-9e7d-4175-a52b-b8c6d7447c76",
   "metadata": {},
   "source": [
    "# 시각화2: MissingRate (부록)"
   ]
  },
  {
   "cell_type": "code",
   "execution_count": null,
   "id": "18fa97a0-f497-464b-8333-5011055a9849",
   "metadata": {
    "tags": []
   },
   "outputs": [
    {
     "data": {
      "application/vnd.plotly.v1+json": {
       "config": {
        "plotlyServerURL": "https://plot.ly"
       },
       "data": [
        {
         "hovertemplate": "method=IT-STGNN<br>model=DCRNN<br>dataset=chickenpox<br>mrate=%{x}<br>mse=%{y}<extra></extra>",
         "legendgroup": "IT-STGNN",
         "line": {
          "color": "#636efa",
          "dash": "dashdot"
         },
         "marker": {
          "symbol": "circle"
         },
         "mode": "lines+markers",
         "name": "IT-STGNN",
         "orientation": "v",
         "showlegend": true,
         "type": "scatter",
         "x": [
          0,
          0.3,
          0.5,
          0.6,
          0.8
         ],
         "xaxis": "x41",
         "y": [
          0.7262935300668081,
          0.7974194288253784,
          0.8688039183616638,
          0.9730672180652619,
          1.467026937007904
         ],
         "yaxis": "y41"
        },
        {
         "hovertemplate": "method=IT-STGNN<br>model=DCRNN<br>dataset=monte<br>mrate=%{x}<br>mse=%{y}<extra></extra>",
         "legendgroup": "IT-STGNN",
         "line": {
          "color": "#636efa",
          "dash": "dashdot"
         },
         "marker": {
          "symbol": "circle"
         },
         "mode": "lines+markers",
         "name": "IT-STGNN",
         "orientation": "v",
         "showlegend": false,
         "type": "scatter",
         "x": [
          0,
          0.3,
          0.5,
          0.7,
          0.8
         ],
         "xaxis": "x42",
         "y": [
          0.9356310884157817,
          0.9382766405741374,
          0.9491940677165985,
          1.0459894021352132,
          1.128611409664154
         ],
         "yaxis": "y42"
        },
        {
         "hovertemplate": "method=IT-STGNN<br>model=DCRNN<br>dataset=pedalme<br>mrate=%{x}<br>mse=%{y}<extra></extra>",
         "legendgroup": "IT-STGNN",
         "line": {
          "color": "#636efa",
          "dash": "dashdot"
         },
         "marker": {
          "symbol": "circle"
         },
         "mode": "lines+markers",
         "name": "IT-STGNN",
         "orientation": "v",
         "showlegend": false,
         "type": "scatter",
         "x": [
          0,
          0.3,
          0.5,
          0.6,
          0.8
         ],
         "xaxis": "x43",
         "y": [
          1.1311138921313815,
          1.1891250173250834,
          1.2333789745966592,
          1.3146649758021036,
          1.529643189907074
         ],
         "yaxis": "y43"
        },
        {
         "hovertemplate": "method=IT-STGNN<br>model=DCRNN<br>dataset=wikimath<br>mrate=%{x}<br>mse=%{y}<extra></extra>",
         "legendgroup": "IT-STGNN",
         "line": {
          "color": "#636efa",
          "dash": "dashdot"
         },
         "marker": {
          "symbol": "circle"
         },
         "mode": "lines+markers",
         "name": "IT-STGNN",
         "orientation": "v",
         "showlegend": false,
         "type": "scatter",
         "x": [
          0,
          0.3,
          0.5,
          0.6,
          0.8
         ],
         "xaxis": "x44",
         "y": [
          0.5821457962195079,
          0.5876641611258189,
          0.5897436062494914,
          0.5919398883978526,
          0.6724015136559804
         ],
         "yaxis": "y44"
        },
        {
         "hovertemplate": "method=IT-STGNN<br>model=DCRNN<br>dataset=windmillsmall<br>mrate=%{x}<br>mse=%{y}<extra></extra>",
         "legendgroup": "IT-STGNN",
         "line": {
          "color": "#636efa",
          "dash": "dashdot"
         },
         "marker": {
          "symbol": "circle"
         },
         "mode": "lines+markers",
         "name": "IT-STGNN",
         "orientation": "v",
         "showlegend": false,
         "type": "scatter",
         "x": [
          0,
          0.5,
          0.7,
          0.8
         ],
         "xaxis": "x45",
         "y": [
          0.9879489362239837,
          0.9943119585514069,
          1.116618851820628,
          1.1924490094184876
         ],
         "yaxis": "y45"
        },
        {
         "hovertemplate": "method=IT-STGNN<br>model=DyGrEncoder<br>dataset=chickenpox<br>mrate=%{x}<br>mse=%{y}<extra></extra>",
         "legendgroup": "IT-STGNN",
         "line": {
          "color": "#636efa",
          "dash": "dashdot"
         },
         "marker": {
          "symbol": "circle"
         },
         "mode": "lines+markers",
         "name": "IT-STGNN",
         "orientation": "v",
         "showlegend": false,
         "type": "scatter",
         "x": [
          0,
          0.3,
          0.5,
          0.6,
          0.8
         ],
         "xaxis": "x36",
         "y": [
          0.9102867841720581,
          0.8682008723417918,
          0.9145062724749248,
          1.0129274507363637,
          1.398728601137797
         ],
         "yaxis": "y36"
        },
        {
         "hovertemplate": "method=IT-STGNN<br>model=DyGrEncoder<br>dataset=monte<br>mrate=%{x}<br>mse=%{y}<extra></extra>",
         "legendgroup": "IT-STGNN",
         "line": {
          "color": "#636efa",
          "dash": "dashdot"
         },
         "marker": {
          "symbol": "circle"
         },
         "mode": "lines+markers",
         "name": "IT-STGNN",
         "orientation": "v",
         "showlegend": false,
         "type": "scatter",
         "x": [
          0,
          0.3,
          0.5,
          0.7,
          0.8
         ],
         "xaxis": "x37",
         "y": [
          1.0075618505477906,
          1.0232724726200104,
          1.099248456954956,
          1.2115114649136862,
          1.1973179936408997
         ],
         "yaxis": "y37"
        },
        {
         "hovertemplate": "method=IT-STGNN<br>model=DyGrEncoder<br>dataset=pedalme<br>mrate=%{x}<br>mse=%{y}<extra></extra>",
         "legendgroup": "IT-STGNN",
         "line": {
          "color": "#636efa",
          "dash": "dashdot"
         },
         "marker": {
          "symbol": "circle"
         },
         "mode": "lines+markers",
         "name": "IT-STGNN",
         "orientation": "v",
         "showlegend": false,
         "type": "scatter",
         "x": [
          0,
          0.3,
          0.5,
          0.6,
          0.8
         ],
         "xaxis": "x38",
         "y": [
          1.2018906633059183,
          1.2154395739237467,
          1.230454138914744,
          1.290368103981018,
          1.516058373451233
         ],
         "yaxis": "y38"
        },
        {
         "hovertemplate": "method=IT-STGNN<br>model=DyGrEncoder<br>dataset=wikimath<br>mrate=%{x}<br>mse=%{y}<extra></extra>",
         "legendgroup": "IT-STGNN",
         "line": {
          "color": "#636efa",
          "dash": "dashdot"
         },
         "marker": {
          "symbol": "circle"
         },
         "mode": "lines+markers",
         "name": "IT-STGNN",
         "orientation": "v",
         "showlegend": false,
         "type": "scatter",
         "x": [
          0,
          0.3,
          0.5,
          0.6,
          0.8
         ],
         "xaxis": "x39",
         "y": [
          0.5625448822975159,
          0.5782144705454508,
          0.5646102329095205,
          0.5660300393899281,
          0.6059201280275981
         ],
         "yaxis": "y39"
        },
        {
         "hovertemplate": "method=IT-STGNN<br>model=DyGrEncoder<br>dataset=windmillsmall<br>mrate=%{x}<br>mse=%{y}<extra></extra>",
         "legendgroup": "IT-STGNN",
         "line": {
          "color": "#636efa",
          "dash": "dashdot"
         },
         "marker": {
          "symbol": "circle"
         },
         "mode": "lines+markers",
         "name": "IT-STGNN",
         "orientation": "v",
         "showlegend": false,
         "type": "scatter",
         "x": [
          0,
          0.5,
          0.7,
          0.8
         ],
         "xaxis": "x40",
         "y": [
          0.988743931055069,
          0.995404036839803,
          1.126743221282959,
          1.2468897501627605
         ],
         "yaxis": "y40"
        },
        {
         "hovertemplate": "method=IT-STGNN<br>model=EvolveGCNH<br>dataset=chickenpox<br>mrate=%{x}<br>mse=%{y}<extra></extra>",
         "legendgroup": "IT-STGNN",
         "line": {
          "color": "#636efa",
          "dash": "dashdot"
         },
         "marker": {
          "symbol": "circle"
         },
         "mode": "lines+markers",
         "name": "IT-STGNN",
         "orientation": "v",
         "showlegend": false,
         "type": "scatter",
         "x": [
          0,
          0.3,
          0.5,
          0.6,
          0.8
         ],
         "xaxis": "x31",
         "y": [
          0.9961331367492676,
          1.0113655090332032,
          1.0263081113497416,
          1.0543007373809814,
          1.1400945703188579
         ],
         "yaxis": "y31"
        },
        {
         "hovertemplate": "method=IT-STGNN<br>model=EvolveGCNH<br>dataset=monte<br>mrate=%{x}<br>mse=%{y}<extra></extra>",
         "legendgroup": "IT-STGNN",
         "line": {
          "color": "#636efa",
          "dash": "dashdot"
         },
         "marker": {
          "symbol": "circle"
         },
         "mode": "lines+markers",
         "name": "IT-STGNN",
         "orientation": "v",
         "showlegend": false,
         "type": "scatter",
         "x": [
          0,
          0.3,
          0.5,
          0.7,
          0.8
         ],
         "xaxis": "x32",
         "y": [
          1.3576573431491852,
          1.4222269256909688,
          1.4418497562408448,
          1.647766613960266,
          1.9633623242378235
         ],
         "yaxis": "y32"
        },
        {
         "hovertemplate": "method=IT-STGNN<br>model=EvolveGCNH<br>dataset=pedalme<br>mrate=%{x}<br>mse=%{y}<extra></extra>",
         "legendgroup": "IT-STGNN",
         "line": {
          "color": "#636efa",
          "dash": "dashdot"
         },
         "marker": {
          "symbol": "circle"
         },
         "mode": "lines+markers",
         "name": "IT-STGNN",
         "orientation": "v",
         "showlegend": false,
         "type": "scatter",
         "x": [
          0,
          0.3,
          0.5,
          0.6,
          0.8
         ],
         "xaxis": "x33",
         "y": [
          1.2189862688382467,
          1.2488263448079426,
          1.2678825656572978,
          1.2531297127405803,
          1.2851717829704286
         ],
         "yaxis": "y33"
        },
        {
         "hovertemplate": "method=IT-STGNN<br>model=EvolveGCNH<br>dataset=wikimath<br>mrate=%{x}<br>mse=%{y}<extra></extra>",
         "legendgroup": "IT-STGNN",
         "line": {
          "color": "#636efa",
          "dash": "dashdot"
         },
         "marker": {
          "symbol": "circle"
         },
         "mode": "lines+markers",
         "name": "IT-STGNN",
         "orientation": "v",
         "showlegend": false,
         "type": "scatter",
         "x": [
          0,
          0.3,
          0.5,
          0.6,
          0.8
         ],
         "xaxis": "x34",
         "y": [
          0.7842468957106272,
          0.775075908501943,
          0.7911452790101369,
          0.7950286130110423,
          0.8772536794344584
         ],
         "yaxis": "y34"
        },
        {
         "hovertemplate": "method=IT-STGNN<br>model=EvolveGCNH<br>dataset=windmillsmall<br>mrate=%{x}<br>mse=%{y}<extra></extra>",
         "legendgroup": "IT-STGNN",
         "line": {
          "color": "#636efa",
          "dash": "dashdot"
         },
         "marker": {
          "symbol": "circle"
         },
         "mode": "lines+markers",
         "name": "IT-STGNN",
         "orientation": "v",
         "showlegend": false,
         "type": "scatter",
         "x": [
          0,
          0.5,
          0.7
         ],
         "xaxis": "x35",
         "y": [
          0.9856936732927958,
          1.0002388219038645,
          1.1291911323865256
         ],
         "yaxis": "y35"
        },
        {
         "hovertemplate": "method=IT-STGNN<br>model=EvolveGCNO<br>dataset=chickenpox<br>mrate=%{x}<br>mse=%{y}<extra></extra>",
         "legendgroup": "IT-STGNN",
         "line": {
          "color": "#636efa",
          "dash": "dashdot"
         },
         "marker": {
          "symbol": "circle"
         },
         "mode": "lines+markers",
         "name": "IT-STGNN",
         "orientation": "v",
         "showlegend": false,
         "type": "scatter",
         "x": [
          0,
          0.3,
          0.5,
          0.6,
          0.8
         ],
         "xaxis": "x26",
         "y": [
          0.9837769170602163,
          0.9984626730283102,
          1.0199275851249694,
          1.0501808325449626,
          1.1613912542661031
         ],
         "yaxis": "y26"
        },
        {
         "hovertemplate": "method=IT-STGNN<br>model=EvolveGCNO<br>dataset=monte<br>mrate=%{x}<br>mse=%{y}<extra></extra>",
         "legendgroup": "IT-STGNN",
         "line": {
          "color": "#636efa",
          "dash": "dashdot"
         },
         "marker": {
          "symbol": "circle"
         },
         "mode": "lines+markers",
         "name": "IT-STGNN",
         "orientation": "v",
         "showlegend": false,
         "type": "scatter",
         "x": [
          0,
          0.3,
          0.5,
          0.7,
          0.8
         ],
         "xaxis": "x27",
         "y": [
          1.3174769202868144,
          1.4178244153658548,
          1.446950610478719,
          1.9013519724210104,
          2.310218000411987
         ],
         "yaxis": "y27"
        },
        {
         "hovertemplate": "method=IT-STGNN<br>model=EvolveGCNO<br>dataset=pedalme<br>mrate=%{x}<br>mse=%{y}<extra></extra>",
         "legendgroup": "IT-STGNN",
         "line": {
          "color": "#636efa",
          "dash": "dashdot"
         },
         "marker": {
          "symbol": "circle"
         },
         "mode": "lines+markers",
         "name": "IT-STGNN",
         "orientation": "v",
         "showlegend": false,
         "type": "scatter",
         "x": [
          0,
          0.3,
          0.5,
          0.6,
          0.8
         ],
         "xaxis": "x28",
         "y": [
          1.2212571925587123,
          1.237326979637146,
          1.2616107980410258,
          1.2811598141988119,
          1.3172834277153016
         ],
         "yaxis": "y28"
        },
        {
         "hovertemplate": "method=IT-STGNN<br>model=EvolveGCNO<br>dataset=wikimath<br>mrate=%{x}<br>mse=%{y}<extra></extra>",
         "legendgroup": "IT-STGNN",
         "line": {
          "color": "#636efa",
          "dash": "dashdot"
         },
         "marker": {
          "symbol": "circle"
         },
         "mode": "lines+markers",
         "name": "IT-STGNN",
         "orientation": "v",
         "showlegend": false,
         "type": "scatter",
         "x": [
          0,
          0.3,
          0.5,
          0.6,
          0.8
         ],
         "xaxis": "x29",
         "y": [
          0.7345361292362214,
          0.7379984100659688,
          0.7436200221379597,
          0.7447938958803813,
          0.7801654100418091
         ],
         "yaxis": "y29"
        },
        {
         "hovertemplate": "method=IT-STGNN<br>model=EvolveGCNO<br>dataset=windmillsmall<br>mrate=%{x}<br>mse=%{y}<extra></extra>",
         "legendgroup": "IT-STGNN",
         "line": {
          "color": "#636efa",
          "dash": "dashdot"
         },
         "marker": {
          "symbol": "circle"
         },
         "mode": "lines+markers",
         "name": "IT-STGNN",
         "orientation": "v",
         "showlegend": false,
         "type": "scatter",
         "x": [
          0,
          0.5,
          0.7,
          0.8
         ],
         "xaxis": "x30",
         "y": [
          0.9836756110191345,
          0.9959156473477682,
          1.149026878674825,
          1.2675793051719666
         ],
         "yaxis": "y30"
        },
        {
         "hovertemplate": "method=IT-STGNN<br>model=GCLSTM<br>dataset=chickenpox<br>mrate=%{x}<br>mse=%{y}<extra></extra>",
         "legendgroup": "IT-STGNN",
         "line": {
          "color": "#636efa",
          "dash": "dashdot"
         },
         "marker": {
          "symbol": "circle"
         },
         "mode": "lines+markers",
         "name": "IT-STGNN",
         "orientation": "v",
         "showlegend": false,
         "type": "scatter",
         "x": [
          0,
          0.3,
          0.5,
          0.6,
          0.8
         ],
         "xaxis": "x21",
         "y": [
          0.877674525976181,
          0.8501742561658223,
          0.8993159830570221,
          1.0025737524032592,
          1.3705498377482097
         ],
         "yaxis": "y21"
        },
        {
         "hovertemplate": "method=IT-STGNN<br>model=GCLSTM<br>dataset=monte<br>mrate=%{x}<br>mse=%{y}<extra></extra>",
         "legendgroup": "IT-STGNN",
         "line": {
          "color": "#636efa",
          "dash": "dashdot"
         },
         "marker": {
          "symbol": "circle"
         },
         "mode": "lines+markers",
         "name": "IT-STGNN",
         "orientation": "v",
         "showlegend": false,
         "type": "scatter",
         "x": [
          0,
          0.3,
          0.5,
          0.7,
          0.8
         ],
         "xaxis": "x22",
         "y": [
          0.9690772255261739,
          0.9663439631462097,
          0.9628626505533854,
          1.0078295747439066,
          1.039767434199651
         ],
         "yaxis": "y22"
        },
        {
         "hovertemplate": "method=IT-STGNN<br>model=GCLSTM<br>dataset=pedalme<br>mrate=%{x}<br>mse=%{y}<extra></extra>",
         "legendgroup": "IT-STGNN",
         "line": {
          "color": "#636efa",
          "dash": "dashdot"
         },
         "marker": {
          "symbol": "circle"
         },
         "mode": "lines+markers",
         "name": "IT-STGNN",
         "orientation": "v",
         "showlegend": false,
         "type": "scatter",
         "x": [
          0,
          0.3,
          0.5,
          0.6,
          0.8
         ],
         "xaxis": "x23",
         "y": [
          1.1725218428505793,
          1.2071600476900737,
          1.2232555786768595,
          1.2627062519391379,
          1.3343246936798097
         ],
         "yaxis": "y23"
        },
        {
         "hovertemplate": "method=IT-STGNN<br>model=GCLSTM<br>dataset=wikimath<br>mrate=%{x}<br>mse=%{y}<extra></extra>",
         "legendgroup": "IT-STGNN",
         "line": {
          "color": "#636efa",
          "dash": "dashdot"
         },
         "marker": {
          "symbol": "circle"
         },
         "mode": "lines+markers",
         "name": "IT-STGNN",
         "orientation": "v",
         "showlegend": false,
         "type": "scatter",
         "x": [
          0,
          0.3,
          0.5,
          0.6,
          0.8
         ],
         "xaxis": "x24",
         "y": [
          0.6428504089514414,
          0.6282905658086141,
          0.6255914509296417,
          0.6502514521280924,
          0.8149297118186951
         ],
         "yaxis": "y24"
        },
        {
         "hovertemplate": "method=IT-STGNN<br>model=GCLSTM<br>dataset=windmillsmall<br>mrate=%{x}<br>mse=%{y}<extra></extra>",
         "legendgroup": "IT-STGNN",
         "line": {
          "color": "#636efa",
          "dash": "dashdot"
         },
         "marker": {
          "symbol": "circle"
         },
         "mode": "lines+markers",
         "name": "IT-STGNN",
         "orientation": "v",
         "showlegend": false,
         "type": "scatter",
         "x": [
          0,
          0.5,
          0.7,
          0.8
         ],
         "xaxis": "x25",
         "y": [
          0.9921382089455922,
          0.9955821732680002,
          1.1164294712005123,
          1.1969113230705262
         ],
         "yaxis": "y25"
        },
        {
         "hovertemplate": "method=IT-STGNN<br>model=GConvGRU<br>dataset=chickenpox<br>mrate=%{x}<br>mse=%{y}<extra></extra>",
         "legendgroup": "IT-STGNN",
         "line": {
          "color": "#636efa",
          "dash": "dashdot"
         },
         "marker": {
          "symbol": "circle"
         },
         "mode": "lines+markers",
         "name": "IT-STGNN",
         "orientation": "v",
         "showlegend": false,
         "type": "scatter",
         "x": [
          0,
          0.3,
          0.5,
          0.6,
          0.8
         ],
         "xaxis": "x16",
         "y": [
          0.7519446770350139,
          0.8508427083492279,
          0.9575517396132152,
          1.1203747113545737,
          1.585524276892344
         ],
         "yaxis": "y16"
        },
        {
         "hovertemplate": "method=IT-STGNN<br>model=GConvGRU<br>dataset=monte<br>mrate=%{x}<br>mse=%{y}<extra></extra>",
         "legendgroup": "IT-STGNN",
         "line": {
          "color": "#636efa",
          "dash": "dashdot"
         },
         "marker": {
          "symbol": "circle"
         },
         "mode": "lines+markers",
         "name": "IT-STGNN",
         "orientation": "v",
         "showlegend": false,
         "type": "scatter",
         "x": [
          0,
          0.3,
          0.5,
          0.7,
          0.8
         ],
         "xaxis": "x17",
         "y": [
          0.930523885289828,
          0.936832865079244,
          0.9438559095064799,
          1.0208435932795206,
          1.120380707581838
         ],
         "yaxis": "y17"
        },
        {
         "hovertemplate": "method=IT-STGNN<br>model=GConvGRU<br>dataset=pedalme<br>mrate=%{x}<br>mse=%{y}<extra></extra>",
         "legendgroup": "IT-STGNN",
         "line": {
          "color": "#636efa",
          "dash": "dashdot"
         },
         "marker": {
          "symbol": "circle"
         },
         "mode": "lines+markers",
         "name": "IT-STGNN",
         "orientation": "v",
         "showlegend": false,
         "type": "scatter",
         "x": [
          0,
          0.3,
          0.5,
          0.6,
          0.8
         ],
         "xaxis": "x18",
         "y": [
          1.2271701296170552,
          1.3959883054097493,
          1.464823031425476,
          1.5475072344144185,
          1.6745760758717856
         ],
         "yaxis": "y18"
        },
        {
         "hovertemplate": "method=IT-STGNN<br>model=GConvGRU<br>dataset=wikimath<br>mrate=%{x}<br>mse=%{y}<extra></extra>",
         "legendgroup": "IT-STGNN",
         "line": {
          "color": "#636efa",
          "dash": "dashdot"
         },
         "marker": {
          "symbol": "circle"
         },
         "mode": "lines+markers",
         "name": "IT-STGNN",
         "orientation": "v",
         "showlegend": false,
         "type": "scatter",
         "x": [
          0,
          0.3,
          0.5,
          0.6,
          0.8
         ],
         "xaxis": "x19",
         "y": [
          0.5286022325356802,
          0.5180512388547261,
          0.5239666879177094,
          0.5388371666272481,
          0.6867994070053101
         ],
         "yaxis": "y19"
        },
        {
         "hovertemplate": "method=IT-STGNN<br>model=GConvGRU<br>dataset=windmillsmall<br>mrate=%{x}<br>mse=%{y}<extra></extra>",
         "legendgroup": "IT-STGNN",
         "line": {
          "color": "#636efa",
          "dash": "dashdot"
         },
         "marker": {
          "symbol": "circle"
         },
         "mode": "lines+markers",
         "name": "IT-STGNN",
         "orientation": "v",
         "showlegend": false,
         "type": "scatter",
         "x": [
          0,
          0.5,
          0.7,
          0.8
         ],
         "xaxis": "x20",
         "y": [
          1.0036083248353773,
          1.01889688372612,
          1.1938863454326507,
          1.3198695699373881
         ],
         "yaxis": "y20"
        },
        {
         "hovertemplate": "method=IT-STGNN<br>model=GConvLSTM<br>dataset=chickenpox<br>mrate=%{x}<br>mse=%{y}<extra></extra>",
         "legendgroup": "IT-STGNN",
         "line": {
          "color": "#636efa",
          "dash": "dashdot"
         },
         "marker": {
          "symbol": "circle"
         },
         "mode": "lines+markers",
         "name": "IT-STGNN",
         "orientation": "v",
         "showlegend": false,
         "type": "scatter",
         "x": [
          0,
          0.3,
          0.5,
          0.6,
          0.8
         ],
         "xaxis": "x11",
         "y": [
          0.9809238533178966,
          0.8715872526168823,
          0.9009263972441356,
          1.0039266228675843,
          1.4328649520874024
         ],
         "yaxis": "y11"
        },
        {
         "hovertemplate": "method=IT-STGNN<br>model=GConvLSTM<br>dataset=monte<br>mrate=%{x}<br>mse=%{y}<extra></extra>",
         "legendgroup": "IT-STGNN",
         "line": {
          "color": "#636efa",
          "dash": "dashdot"
         },
         "marker": {
          "symbol": "circle"
         },
         "mode": "lines+markers",
         "name": "IT-STGNN",
         "orientation": "v",
         "showlegend": false,
         "type": "scatter",
         "x": [
          0,
          0.3,
          0.5,
          0.7,
          0.8
         ],
         "xaxis": "x12",
         "y": [
          0.9592961370944977,
          0.95368559161822,
          0.9486012677351634,
          1.0076044420401256,
          1.0404942393302918
         ],
         "yaxis": "y12"
        },
        {
         "hovertemplate": "method=IT-STGNN<br>model=GConvLSTM<br>dataset=pedalme<br>mrate=%{x}<br>mse=%{y}<extra></extra>",
         "legendgroup": "IT-STGNN",
         "line": {
          "color": "#636efa",
          "dash": "dashdot"
         },
         "marker": {
          "symbol": "circle"
         },
         "mode": "lines+markers",
         "name": "IT-STGNN",
         "orientation": "v",
         "showlegend": false,
         "type": "scatter",
         "x": [
          0,
          0.3,
          0.5,
          0.6,
          0.8
         ],
         "xaxis": "x13",
         "y": [
          1.2127226988474529,
          1.2290040771166484,
          1.2488541682561238,
          1.2557734886805216,
          1.2973714788754782
         ],
         "yaxis": "y13"
        },
        {
         "hovertemplate": "method=IT-STGNN<br>model=GConvLSTM<br>dataset=wikimath<br>mrate=%{x}<br>mse=%{y}<extra></extra>",
         "legendgroup": "IT-STGNN",
         "line": {
          "color": "#636efa",
          "dash": "dashdot"
         },
         "marker": {
          "symbol": "circle"
         },
         "mode": "lines+markers",
         "name": "IT-STGNN",
         "orientation": "v",
         "showlegend": false,
         "type": "scatter",
         "x": [
          0,
          0.3,
          0.5,
          0.6,
          0.8
         ],
         "xaxis": "x14",
         "y": [
          0.6263718565305074,
          0.6308103601137797,
          0.6686412215232849,
          0.7313987930615743,
          0.9203040659427643
         ],
         "yaxis": "y14"
        },
        {
         "hovertemplate": "method=IT-STGNN<br>model=GConvLSTM<br>dataset=windmillsmall<br>mrate=%{x}<br>mse=%{y}<extra></extra>",
         "legendgroup": "IT-STGNN",
         "line": {
          "color": "#636efa",
          "dash": "dashdot"
         },
         "marker": {
          "symbol": "circle"
         },
         "mode": "lines+markers",
         "name": "IT-STGNN",
         "orientation": "v",
         "showlegend": false,
         "type": "scatter",
         "x": [
          0,
          0.5,
          0.7,
          0.8
         ],
         "xaxis": "x15",
         "y": [
          1.0143079911508868,
          0.9965369800726572,
          1.1418147087097168,
          1.2543538133303325
         ],
         "yaxis": "y15"
        },
        {
         "hovertemplate": "method=IT-STGNN<br>model=LRGCN<br>dataset=chickenpox<br>mrate=%{x}<br>mse=%{y}<extra></extra>",
         "legendgroup": "IT-STGNN",
         "line": {
          "color": "#636efa",
          "dash": "dashdot"
         },
         "marker": {
          "symbol": "circle"
         },
         "mode": "lines+markers",
         "name": "IT-STGNN",
         "orientation": "v",
         "showlegend": false,
         "type": "scatter",
         "x": [
          0,
          0.3,
          0.5,
          0.6,
          0.8
         ],
         "xaxis": "x6",
         "y": [
          0.8650834282239278,
          0.8700646877288818,
          0.9307576994101207,
          1.017380851507187,
          1.3335242430369059
         ],
         "yaxis": "y6"
        },
        {
         "hovertemplate": "method=IT-STGNN<br>model=LRGCN<br>dataset=monte<br>mrate=%{x}<br>mse=%{y}<extra></extra>",
         "legendgroup": "IT-STGNN",
         "line": {
          "color": "#636efa",
          "dash": "dashdot"
         },
         "marker": {
          "symbol": "circle"
         },
         "mode": "lines+markers",
         "name": "IT-STGNN",
         "orientation": "v",
         "showlegend": false,
         "type": "scatter",
         "x": [
          0,
          0.3,
          0.5,
          0.7,
          0.8
         ],
         "xaxis": "x7",
         "y": [
          0.9765360315640768,
          0.9791332006454467,
          0.9841234763463338,
          0.9825885375340779,
          0.9882083714008332
         ],
         "yaxis": "y7"
        },
        {
         "hovertemplate": "method=IT-STGNN<br>model=LRGCN<br>dataset=pedalme<br>mrate=%{x}<br>mse=%{y}<extra></extra>",
         "legendgroup": "IT-STGNN",
         "line": {
          "color": "#636efa",
          "dash": "dashdot"
         },
         "marker": {
          "symbol": "circle"
         },
         "mode": "lines+markers",
         "name": "IT-STGNN",
         "orientation": "v",
         "showlegend": false,
         "type": "scatter",
         "x": [
          0,
          0.3,
          0.5,
          0.6,
          0.8
         ],
         "xaxis": "x8",
         "y": [
          1.1854228218396505,
          1.203865937391917,
          1.2332569400469462,
          1.282073473930359,
          1.4152490297953289
         ],
         "yaxis": "y8"
        },
        {
         "hovertemplate": "method=IT-STGNN<br>model=LRGCN<br>dataset=wikimath<br>mrate=%{x}<br>mse=%{y}<extra></extra>",
         "legendgroup": "IT-STGNN",
         "line": {
          "color": "#636efa",
          "dash": "dashdot"
         },
         "marker": {
          "symbol": "circle"
         },
         "mode": "lines+markers",
         "name": "IT-STGNN",
         "orientation": "v",
         "showlegend": false,
         "type": "scatter",
         "x": [
          0,
          0.3,
          0.5,
          0.6,
          0.8
         ],
         "xaxis": "x9",
         "y": [
          0.6102288663387299,
          0.6194596389929453,
          0.6211064040660859,
          0.6475779275099437,
          0.7690745731194814
         ],
         "yaxis": "y9"
        },
        {
         "hovertemplate": "method=IT-STGNN<br>model=LRGCN<br>dataset=windmillsmall<br>mrate=%{x}<br>mse=%{y}<extra></extra>",
         "legendgroup": "IT-STGNN",
         "line": {
          "color": "#636efa",
          "dash": "dashdot"
         },
         "marker": {
          "symbol": "circle"
         },
         "mode": "lines+markers",
         "name": "IT-STGNN",
         "orientation": "v",
         "showlegend": false,
         "type": "scatter",
         "x": [
          0,
          0.5,
          0.7,
          0.8
         ],
         "xaxis": "x10",
         "y": [
          0.9868966420491536,
          0.994585903485616,
          1.1100961804389953,
          1.1903531988461813
         ],
         "yaxis": "y10"
        },
        {
         "hovertemplate": "method=IT-STGNN<br>model=TGCN<br>dataset=chickenpox<br>mrate=%{x}<br>mse=%{y}<extra></extra>",
         "legendgroup": "IT-STGNN",
         "line": {
          "color": "#636efa",
          "dash": "dashdot"
         },
         "marker": {
          "symbol": "circle"
         },
         "mode": "lines+markers",
         "name": "IT-STGNN",
         "orientation": "v",
         "showlegend": false,
         "type": "scatter",
         "x": [
          0,
          0.3,
          0.5,
          0.6,
          0.8
         ],
         "xaxis": "x",
         "y": [
          1.0929674585660298,
          1.0423652052879333,
          1.031901470820109,
          1.0539491613705954,
          1.1833927472432455
         ],
         "yaxis": "y"
        },
        {
         "hovertemplate": "method=IT-STGNN<br>model=TGCN<br>dataset=monte<br>mrate=%{x}<br>mse=%{y}<extra></extra>",
         "legendgroup": "IT-STGNN",
         "line": {
          "color": "#636efa",
          "dash": "dashdot"
         },
         "marker": {
          "symbol": "circle"
         },
         "mode": "lines+markers",
         "name": "IT-STGNN",
         "orientation": "v",
         "showlegend": false,
         "type": "scatter",
         "x": [
          0,
          0.3,
          0.5,
          0.7,
          0.8
         ],
         "xaxis": "x2",
         "y": [
          0.9838025073210398,
          0.9873201111952464,
          0.9909935673077901,
          1.0339128216107687,
          1.0953158597151438
         ],
         "yaxis": "y2"
        },
        {
         "hovertemplate": "method=IT-STGNN<br>model=TGCN<br>dataset=pedalme<br>mrate=%{x}<br>mse=%{y}<extra></extra>",
         "legendgroup": "IT-STGNN",
         "line": {
          "color": "#636efa",
          "dash": "dashdot"
         },
         "marker": {
          "symbol": "circle"
         },
         "mode": "lines+markers",
         "name": "IT-STGNN",
         "orientation": "v",
         "showlegend": false,
         "type": "scatter",
         "x": [
          0,
          0.3,
          0.5,
          0.6,
          0.8
         ],
         "xaxis": "x3",
         "y": [
          1.3397087984614902,
          1.277748954296112,
          1.256255062421163,
          1.2538527965545654,
          1.270234469572703
         ],
         "yaxis": "y3"
        },
        {
         "hovertemplate": "method=IT-STGNN<br>model=TGCN<br>dataset=wikimath<br>mrate=%{x}<br>mse=%{y}<extra></extra>",
         "legendgroup": "IT-STGNN",
         "line": {
          "color": "#636efa",
          "dash": "dashdot"
         },
         "marker": {
          "symbol": "circle"
         },
         "mode": "lines+markers",
         "name": "IT-STGNN",
         "orientation": "v",
         "showlegend": false,
         "type": "scatter",
         "x": [
          0,
          0.3,
          0.5,
          0.6,
          0.8
         ],
         "xaxis": "x4",
         "y": [
          0.7295065224170685,
          0.7392048398653667,
          0.7566385646661122,
          0.7416430433591207,
          0.7708451449871063
         ],
         "yaxis": "y4"
        },
        {
         "hovertemplate": "method=IT-STGNN<br>model=TGCN<br>dataset=windmillsmall<br>mrate=%{x}<br>mse=%{y}<extra></extra>",
         "legendgroup": "IT-STGNN",
         "line": {
          "color": "#636efa",
          "dash": "dashdot"
         },
         "marker": {
          "symbol": "circle"
         },
         "mode": "lines+markers",
         "name": "IT-STGNN",
         "orientation": "v",
         "showlegend": false,
         "type": "scatter",
         "x": [
          0,
          0.5,
          0.7,
          0.8
         ],
         "xaxis": "x5",
         "y": [
          0.9917504866917928,
          0.9967518150806427,
          1.0714038173357645,
          1.128608759244283
         ],
         "yaxis": "y5"
        },
        {
         "hovertemplate": "method=STGNN<br>model=DCRNN<br>dataset=chickenpox<br>mrate=%{x}<br>mse=%{y}<extra></extra>",
         "legendgroup": "STGNN",
         "line": {
          "color": "#EF553B",
          "dash": "dashdot"
         },
         "marker": {
          "symbol": "circle"
         },
         "mode": "lines+markers",
         "name": "STGNN",
         "orientation": "v",
         "showlegend": true,
         "type": "scatter",
         "x": [
          0,
          0.3,
          0.5,
          0.6,
          0.8
         ],
         "xaxis": "x41",
         "y": [
          0.7273993372917176,
          1.0321223318576813,
          1.4730505307515462,
          1.8480618437131247,
          2.2874269167582195
         ],
         "yaxis": "y41"
        },
        {
         "hovertemplate": "method=STGNN<br>model=DCRNN<br>dataset=monte<br>mrate=%{x}<br>mse=%{y}<extra></extra>",
         "legendgroup": "STGNN",
         "line": {
          "color": "#EF553B",
          "dash": "dashdot"
         },
         "marker": {
          "symbol": "circle"
         },
         "mode": "lines+markers",
         "name": "STGNN",
         "orientation": "v",
         "showlegend": false,
         "type": "scatter",
         "x": [
          0,
          0.3,
          0.5,
          0.7,
          0.8
         ],
         "xaxis": "x42",
         "y": [
          0.9356155276298523,
          1.0300873835881552,
          1.1521857500076294,
          1.2537708441416422,
          1.2221420168876649
         ],
         "yaxis": "y42"
        },
        {
         "hovertemplate": "method=STGNN<br>model=DCRNN<br>dataset=pedalme<br>mrate=%{x}<br>mse=%{y}<extra></extra>",
         "legendgroup": "STGNN",
         "line": {
          "color": "#EF553B",
          "dash": "dashdot"
         },
         "marker": {
          "symbol": "circle"
         },
         "mode": "lines+markers",
         "name": "STGNN",
         "orientation": "v",
         "showlegend": false,
         "type": "scatter",
         "x": [
          0,
          0.3,
          0.5,
          0.6,
          0.8
         ],
         "xaxis": "x43",
         "y": [
          1.1302862140867445,
          1.2766597708066305,
          1.4470741510391236,
          1.5523638804753621,
          1.5881086667378743
         ],
         "yaxis": "y43"
        },
        {
         "hovertemplate": "method=STGNN<br>model=DCRNN<br>dataset=wikimath<br>mrate=%{x}<br>mse=%{y}<extra></extra>",
         "legendgroup": "STGNN",
         "line": {
          "color": "#EF553B",
          "dash": "dashdot"
         },
         "marker": {
          "symbol": "circle"
         },
         "mode": "lines+markers",
         "name": "STGNN",
         "orientation": "v",
         "showlegend": false,
         "type": "scatter",
         "x": [
          0,
          0.3,
          0.5,
          0.6,
          0.8
         ],
         "xaxis": "x44",
         "y": [
          0.579703829685847,
          0.6030041297276815,
          0.6518642942110697,
          0.6880961994330088,
          0.8464834769566854
         ],
         "yaxis": "y44"
        },
        {
         "hovertemplate": "method=STGNN<br>model=DCRNN<br>dataset=windmillsmall<br>mrate=%{x}<br>mse=%{y}<extra></extra>",
         "legendgroup": "STGNN",
         "line": {
          "color": "#EF553B",
          "dash": "dashdot"
         },
         "marker": {
          "symbol": "circle"
         },
         "mode": "lines+markers",
         "name": "STGNN",
         "orientation": "v",
         "showlegend": false,
         "type": "scatter",
         "x": [
          0,
          0.5,
          0.7,
          0.8
         ],
         "xaxis": "x45",
         "y": [
          0.98705299894015,
          1.2669925530751547,
          1.3477184931437174,
          1.3426406820615133
         ],
         "yaxis": "y45"
        },
        {
         "hovertemplate": "method=STGNN<br>model=DyGrEncoder<br>dataset=chickenpox<br>mrate=%{x}<br>mse=%{y}<extra></extra>",
         "legendgroup": "STGNN",
         "line": {
          "color": "#EF553B",
          "dash": "dashdot"
         },
         "marker": {
          "symbol": "circle"
         },
         "mode": "lines+markers",
         "name": "STGNN",
         "orientation": "v",
         "showlegend": false,
         "type": "scatter",
         "x": [
          0,
          0.3,
          0.5,
          0.6,
          0.8
         ],
         "xaxis": "x36",
         "y": [
          0.9017379403114318,
          1.0801025032997131,
          1.5404859145482381,
          1.8070445855458577,
          2.126992173989614
         ],
         "yaxis": "y36"
        },
        {
         "hovertemplate": "method=STGNN<br>model=DyGrEncoder<br>dataset=monte<br>mrate=%{x}<br>mse=%{y}<extra></extra>",
         "legendgroup": "STGNN",
         "line": {
          "color": "#EF553B",
          "dash": "dashdot"
         },
         "marker": {
          "symbol": "circle"
         },
         "mode": "lines+markers",
         "name": "STGNN",
         "orientation": "v",
         "showlegend": false,
         "type": "scatter",
         "x": [
          0,
          0.3,
          0.5,
          0.7,
          0.8
         ],
         "xaxis": "x37",
         "y": [
          0.9827527443567912,
          1.2673101584116617,
          1.4070239265759785,
          1.5345815499623616,
          1.5002676169077556
         ],
         "yaxis": "y37"
        },
        {
         "hovertemplate": "method=STGNN<br>model=DyGrEncoder<br>dataset=pedalme<br>mrate=%{x}<br>mse=%{y}<extra></extra>",
         "legendgroup": "STGNN",
         "line": {
          "color": "#EF553B",
          "dash": "dashdot"
         },
         "marker": {
          "symbol": "circle"
         },
         "mode": "lines+markers",
         "name": "STGNN",
         "orientation": "v",
         "showlegend": false,
         "type": "scatter",
         "x": [
          0,
          0.3,
          0.5,
          0.6,
          0.8
         ],
         "xaxis": "x38",
         "y": [
          1.1844657513830397,
          1.2929784417152406,
          1.404069177309672,
          1.4894124229749044,
          1.5520978768666585
         ],
         "yaxis": "y38"
        },
        {
         "hovertemplate": "method=STGNN<br>model=DyGrEncoder<br>dataset=wikimath<br>mrate=%{x}<br>mse=%{y}<extra></extra>",
         "legendgroup": "STGNN",
         "line": {
          "color": "#EF553B",
          "dash": "dashdot"
         },
         "marker": {
          "symbol": "circle"
         },
         "mode": "lines+markers",
         "name": "STGNN",
         "orientation": "v",
         "showlegend": false,
         "type": "scatter",
         "x": [
          0,
          0.3,
          0.5,
          0.6,
          0.8
         ],
         "xaxis": "x39",
         "y": [
          0.5600802143414815,
          0.5617958088715871,
          0.6135105192661285,
          0.6438442011674245,
          0.770462958017985
         ],
         "yaxis": "y39"
        },
        {
         "hovertemplate": "method=STGNN<br>model=DyGrEncoder<br>dataset=windmillsmall<br>mrate=%{x}<br>mse=%{y}<extra></extra>",
         "legendgroup": "STGNN",
         "line": {
          "color": "#EF553B",
          "dash": "dashdot"
         },
         "marker": {
          "symbol": "circle"
         },
         "mode": "lines+markers",
         "name": "STGNN",
         "orientation": "v",
         "showlegend": false,
         "type": "scatter",
         "x": [
          0,
          0.5,
          0.7,
          0.8
         ],
         "xaxis": "x40",
         "y": [
          0.9866737067699433,
          1.3732937534650167,
          1.7088625272115072,
          1.694408905506134
         ],
         "yaxis": "y40"
        },
        {
         "hovertemplate": "method=STGNN<br>model=EvolveGCNH<br>dataset=chickenpox<br>mrate=%{x}<br>mse=%{y}<extra></extra>",
         "legendgroup": "STGNN",
         "line": {
          "color": "#EF553B",
          "dash": "dashdot"
         },
         "marker": {
          "symbol": "circle"
         },
         "mode": "lines+markers",
         "name": "STGNN",
         "orientation": "v",
         "showlegend": false,
         "type": "scatter",
         "x": [
          0,
          0.3,
          0.5,
          0.6,
          0.8
         ],
         "xaxis": "x31",
         "y": [
          1.0039118786652883,
          1.057721447944641,
          1.1216460744539896,
          1.1620551586151122,
          1.2029269218444825
         ],
         "yaxis": "y31"
        },
        {
         "hovertemplate": "method=STGNN<br>model=EvolveGCNH<br>dataset=monte<br>mrate=%{x}<br>mse=%{y}<extra></extra>",
         "legendgroup": "STGNN",
         "line": {
          "color": "#EF553B",
          "dash": "dashdot"
         },
         "marker": {
          "symbol": "circle"
         },
         "mode": "lines+markers",
         "name": "STGNN",
         "orientation": "v",
         "showlegend": false,
         "type": "scatter",
         "x": [
          0,
          0.3,
          0.5,
          0.7,
          0.8
         ],
         "xaxis": "x32",
         "y": [
          1.005818854769071,
          1.5866058111190795,
          1.9638814051946005,
          2.2074975768725076,
          2.1565616528193154
         ],
         "yaxis": "y32"
        },
        {
         "hovertemplate": "method=STGNN<br>model=EvolveGCNH<br>dataset=pedalme<br>mrate=%{x}<br>mse=%{y}<extra></extra>",
         "legendgroup": "STGNN",
         "line": {
          "color": "#EF553B",
          "dash": "dashdot"
         },
         "marker": {
          "symbol": "circle"
         },
         "mode": "lines+markers",
         "name": "STGNN",
         "orientation": "v",
         "showlegend": false,
         "type": "scatter",
         "x": [
          0,
          0.3,
          0.5,
          0.6,
          0.8
         ],
         "xaxis": "x33",
         "y": [
          1.2009795599513584,
          1.2463468631108603,
          1.2951630751291912,
          1.284329617023468,
          1.3214564204216004
         ],
         "yaxis": "y33"
        },
        {
         "hovertemplate": "method=STGNN<br>model=EvolveGCNH<br>dataset=wikimath<br>mrate=%{x}<br>mse=%{y}<extra></extra>",
         "legendgroup": "STGNN",
         "line": {
          "color": "#EF553B",
          "dash": "dashdot"
         },
         "marker": {
          "symbol": "circle"
         },
         "mode": "lines+markers",
         "name": "STGNN",
         "orientation": "v",
         "showlegend": false,
         "type": "scatter",
         "x": [
          0,
          0.3,
          0.5,
          0.6,
          0.8
         ],
         "xaxis": "x34",
         "y": [
          0.770507158835729,
          0.7869792938232422,
          0.8044674317042033,
          0.8427968084812164,
          0.914908234278361
         ],
         "yaxis": "y34"
        },
        {
         "hovertemplate": "method=STGNN<br>model=EvolveGCNH<br>dataset=windmillsmall<br>mrate=%{x}<br>mse=%{y}<extra></extra>",
         "legendgroup": "STGNN",
         "line": {
          "color": "#EF553B",
          "dash": "dashdot"
         },
         "marker": {
          "symbol": "circle"
         },
         "mode": "lines+markers",
         "name": "STGNN",
         "orientation": "v",
         "showlegend": false,
         "type": "scatter",
         "x": [
          0,
          0.5,
          0.7
         ],
         "xaxis": "x35",
         "y": [
          0.9856338123480479,
          1.214960547288259,
          1.3301299333572387
         ],
         "yaxis": "y35"
        },
        {
         "hovertemplate": "method=STGNN<br>model=EvolveGCNO<br>dataset=chickenpox<br>mrate=%{x}<br>mse=%{y}<extra></extra>",
         "legendgroup": "STGNN",
         "line": {
          "color": "#EF553B",
          "dash": "dashdot"
         },
         "marker": {
          "symbol": "circle"
         },
         "mode": "lines+markers",
         "name": "STGNN",
         "orientation": "v",
         "showlegend": false,
         "type": "scatter",
         "x": [
          0,
          0.3,
          0.5,
          0.6,
          0.8
         ],
         "xaxis": "x26",
         "y": [
          0.9880264123280843,
          1.053731127580007,
          1.1448416352272033,
          1.2049764434496562,
          1.2336700876553854
         ],
         "yaxis": "y26"
        },
        {
         "hovertemplate": "method=STGNN<br>model=EvolveGCNO<br>dataset=monte<br>mrate=%{x}<br>mse=%{y}<extra></extra>",
         "legendgroup": "STGNN",
         "line": {
          "color": "#EF553B",
          "dash": "dashdot"
         },
         "marker": {
          "symbol": "circle"
         },
         "mode": "lines+markers",
         "name": "STGNN",
         "orientation": "v",
         "showlegend": false,
         "type": "scatter",
         "x": [
          0,
          0.3,
          0.5,
          0.7,
          0.8
         ],
         "xaxis": "x27",
         "y": [
          0.9970530728499095,
          1.7166413466135662,
          2.1826417803764344,
          2.6760526339213055,
          2.8427196383476256
         ],
         "yaxis": "y27"
        },
        {
         "hovertemplate": "method=STGNN<br>model=EvolveGCNO<br>dataset=pedalme<br>mrate=%{x}<br>mse=%{y}<extra></extra>",
         "legendgroup": "STGNN",
         "line": {
          "color": "#EF553B",
          "dash": "dashdot"
         },
         "marker": {
          "symbol": "circle"
         },
         "mode": "lines+markers",
         "name": "STGNN",
         "orientation": "v",
         "showlegend": false,
         "type": "scatter",
         "x": [
          0,
          0.3,
          0.5,
          0.6,
          0.8
         ],
         "xaxis": "x28",
         "y": [
          1.2347244011031258,
          1.2698127110799153,
          1.3107923189798991,
          1.3021109422047934,
          1.3207719405492147
         ],
         "yaxis": "y28"
        },
        {
         "hovertemplate": "method=STGNN<br>model=EvolveGCNO<br>dataset=wikimath<br>mrate=%{x}<br>mse=%{y}<extra></extra>",
         "legendgroup": "STGNN",
         "line": {
          "color": "#EF553B",
          "dash": "dashdot"
         },
         "marker": {
          "symbol": "circle"
         },
         "mode": "lines+markers",
         "name": "STGNN",
         "orientation": "v",
         "showlegend": false,
         "type": "scatter",
         "x": [
          0,
          0.3,
          0.5,
          0.6,
          0.8
         ],
         "xaxis": "x29",
         "y": [
          0.7337246815363566,
          0.7430313646793365,
          0.7589549700419108,
          0.7754075646400451,
          0.86331374446551
         ],
         "yaxis": "y29"
        },
        {
         "hovertemplate": "method=STGNN<br>model=EvolveGCNO<br>dataset=windmillsmall<br>mrate=%{x}<br>mse=%{y}<extra></extra>",
         "legendgroup": "STGNN",
         "line": {
          "color": "#EF553B",
          "dash": "dashdot"
         },
         "marker": {
          "symbol": "circle"
         },
         "mode": "lines+markers",
         "name": "STGNN",
         "orientation": "v",
         "showlegend": false,
         "type": "scatter",
         "x": [
          0,
          0.5,
          0.7,
          0.8
         ],
         "xaxis": "x30",
         "y": [
          0.9828523218631744,
          1.2715096314748129,
          1.494529922803243,
          1.5369391202926637
         ],
         "yaxis": "y30"
        },
        {
         "hovertemplate": "method=STGNN<br>model=GCLSTM<br>dataset=chickenpox<br>mrate=%{x}<br>mse=%{y}<extra></extra>",
         "legendgroup": "STGNN",
         "line": {
          "color": "#EF553B",
          "dash": "dashdot"
         },
         "marker": {
          "symbol": "circle"
         },
         "mode": "lines+markers",
         "name": "STGNN",
         "orientation": "v",
         "showlegend": false,
         "type": "scatter",
         "x": [
          0,
          0.3,
          0.5,
          0.6,
          0.8
         ],
         "xaxis": "x21",
         "y": [
          0.8917715013027191,
          1.0497510651747386,
          1.5143744508425394,
          1.808076790968577,
          2.1722838799158732
         ],
         "yaxis": "y21"
        },
        {
         "hovertemplate": "method=STGNN<br>model=GCLSTM<br>dataset=monte<br>mrate=%{x}<br>mse=%{y}<extra></extra>",
         "legendgroup": "STGNN",
         "line": {
          "color": "#EF553B",
          "dash": "dashdot"
         },
         "marker": {
          "symbol": "circle"
         },
         "mode": "lines+markers",
         "name": "STGNN",
         "orientation": "v",
         "showlegend": false,
         "type": "scatter",
         "x": [
          0,
          0.3,
          0.5,
          0.7,
          0.8
         ],
         "xaxis": "x22",
         "y": [
          0.9700358351071675,
          1.0241592288017274,
          1.106816679239273,
          1.1494606018066407,
          1.1458539923032125
         ],
         "yaxis": "y22"
        },
        {
         "hovertemplate": "method=STGNN<br>model=GCLSTM<br>dataset=pedalme<br>mrate=%{x}<br>mse=%{y}<extra></extra>",
         "legendgroup": "STGNN",
         "line": {
          "color": "#EF553B",
          "dash": "dashdot"
         },
         "marker": {
          "symbol": "circle"
         },
         "mode": "lines+markers",
         "name": "STGNN",
         "orientation": "v",
         "showlegend": false,
         "type": "scatter",
         "x": [
          0,
          0.3,
          0.5,
          0.6,
          0.8
         ],
         "xaxis": "x23",
         "y": [
          1.1910131997532314,
          1.257922653357188,
          1.3449461420377096,
          1.3859962304433187,
          1.402389685312907
         ],
         "yaxis": "y23"
        },
        {
         "hovertemplate": "method=STGNN<br>model=GCLSTM<br>dataset=wikimath<br>mrate=%{x}<br>mse=%{y}<extra></extra>",
         "legendgroup": "STGNN",
         "line": {
          "color": "#EF553B",
          "dash": "dashdot"
         },
         "marker": {
          "symbol": "circle"
         },
         "mode": "lines+markers",
         "name": "STGNN",
         "orientation": "v",
         "showlegend": false,
         "type": "scatter",
         "x": [
          0,
          0.3,
          0.5,
          0.6,
          0.8
         ],
         "xaxis": "x24",
         "y": [
          0.644963405529658,
          0.6736441890398661,
          0.824881660938263,
          0.9423624296983083,
          1.406770400206248
         ],
         "yaxis": "y24"
        },
        {
         "hovertemplate": "method=STGNN<br>model=GCLSTM<br>dataset=windmillsmall<br>mrate=%{x}<br>mse=%{y}<extra></extra>",
         "legendgroup": "STGNN",
         "line": {
          "color": "#EF553B",
          "dash": "dashdot"
         },
         "marker": {
          "symbol": "circle"
         },
         "mode": "lines+markers",
         "name": "STGNN",
         "orientation": "v",
         "showlegend": false,
         "type": "scatter",
         "x": [
          0,
          0.5,
          0.7,
          0.8
         ],
         "xaxis": "x25",
         "y": [
          0.9923375864823659,
          1.3417901277542115,
          1.5732998040414625,
          1.5694031119346619
         ],
         "yaxis": "y25"
        },
        {
         "hovertemplate": "method=STGNN<br>model=GConvGRU<br>dataset=chickenpox<br>mrate=%{x}<br>mse=%{y}<extra></extra>",
         "legendgroup": "STGNN",
         "line": {
          "color": "#EF553B",
          "dash": "dashdot"
         },
         "marker": {
          "symbol": "circle"
         },
         "mode": "lines+markers",
         "name": "STGNN",
         "orientation": "v",
         "showlegend": false,
         "type": "scatter",
         "x": [
          0,
          0.3,
          0.5,
          0.6,
          0.8
         ],
         "xaxis": "x16",
         "y": [
          0.752304365237554,
          1.0873496949672699,
          1.5300888339678447,
          1.7527565677960715,
          2.528949332237244
         ],
         "yaxis": "y16"
        },
        {
         "hovertemplate": "method=STGNN<br>model=GConvGRU<br>dataset=monte<br>mrate=%{x}<br>mse=%{y}<extra></extra>",
         "legendgroup": "STGNN",
         "line": {
          "color": "#EF553B",
          "dash": "dashdot"
         },
         "marker": {
          "symbol": "circle"
         },
         "mode": "lines+markers",
         "name": "STGNN",
         "orientation": "v",
         "showlegend": false,
         "type": "scatter",
         "x": [
          0,
          0.3,
          0.5,
          0.7,
          0.8
         ],
         "xaxis": "x17",
         "y": [
          0.9306245803833008,
          0.9866827289263408,
          1.1160845796267191,
          1.3631733258565266,
          1.5660197933514912
         ],
         "yaxis": "y17"
        },
        {
         "hovertemplate": "method=STGNN<br>model=GConvGRU<br>dataset=pedalme<br>mrate=%{x}<br>mse=%{y}<extra></extra>",
         "legendgroup": "STGNN",
         "line": {
          "color": "#EF553B",
          "dash": "dashdot"
         },
         "marker": {
          "symbol": "circle"
         },
         "mode": "lines+markers",
         "name": "STGNN",
         "orientation": "v",
         "showlegend": false,
         "type": "scatter",
         "x": [
          0,
          0.3,
          0.5,
          0.6,
          0.8
         ],
         "xaxis": "x18",
         "y": [
          1.2268278823958503,
          1.578854763507843,
          1.6728057821591695,
          1.7499488552411397,
          1.7808353185653687
         ],
         "yaxis": "y18"
        },
        {
         "hovertemplate": "method=STGNN<br>model=GConvGRU<br>dataset=wikimath<br>mrate=%{x}<br>mse=%{y}<extra></extra>",
         "legendgroup": "STGNN",
         "line": {
          "color": "#EF553B",
          "dash": "dashdot"
         },
         "marker": {
          "symbol": "circle"
         },
         "mode": "lines+markers",
         "name": "STGNN",
         "orientation": "v",
         "showlegend": false,
         "type": "scatter",
         "x": [
          0,
          0.3,
          0.5,
          0.6,
          0.8
         ],
         "xaxis": "x19",
         "y": [
          0.527652645111084,
          0.5703602870305379,
          0.6584665417671204,
          0.7313244203726451,
          0.9323520263036092
         ],
         "yaxis": "y19"
        },
        {
         "hovertemplate": "method=STGNN<br>model=GConvGRU<br>dataset=windmillsmall<br>mrate=%{x}<br>mse=%{y}<extra></extra>",
         "legendgroup": "STGNN",
         "line": {
          "color": "#EF553B",
          "dash": "dashdot"
         },
         "marker": {
          "symbol": "circle"
         },
         "mode": "lines+markers",
         "name": "STGNN",
         "orientation": "v",
         "showlegend": false,
         "type": "scatter",
         "x": [
          0,
          0.5,
          0.7,
          0.8
         ],
         "xaxis": "x20",
         "y": [
          1.0029826087336386,
          1.4441781163215637,
          1.6618889608690817,
          1.791900364557902
         ],
         "yaxis": "y20"
        },
        {
         "hovertemplate": "method=STGNN<br>model=GConvLSTM<br>dataset=chickenpox<br>mrate=%{x}<br>mse=%{y}<extra></extra>",
         "legendgroup": "STGNN",
         "line": {
          "color": "#EF553B",
          "dash": "dashdot"
         },
         "marker": {
          "symbol": "circle"
         },
         "mode": "lines+markers",
         "name": "STGNN",
         "orientation": "v",
         "showlegend": false,
         "type": "scatter",
         "x": [
          0,
          0.3,
          0.5,
          0.6,
          0.8
         ],
         "xaxis": "x11",
         "y": [
          0.9368454615275065,
          1.113888943195343,
          1.5183566768964132,
          1.786720633506775,
          2.521938411394755
         ],
         "yaxis": "y11"
        },
        {
         "hovertemplate": "method=STGNN<br>model=GConvLSTM<br>dataset=monte<br>mrate=%{x}<br>mse=%{y}<extra></extra>",
         "legendgroup": "STGNN",
         "line": {
          "color": "#EF553B",
          "dash": "dashdot"
         },
         "marker": {
          "symbol": "circle"
         },
         "mode": "lines+markers",
         "name": "STGNN",
         "orientation": "v",
         "showlegend": false,
         "type": "scatter",
         "x": [
          0,
          0.3,
          0.5,
          0.7,
          0.8
         ],
         "xaxis": "x12",
         "y": [
          0.9604162633419037,
          0.9985695064067841,
          1.0904069662094116,
          1.1389258642991384,
          1.1363385677337647
         ],
         "yaxis": "y12"
        },
        {
         "hovertemplate": "method=STGNN<br>model=GConvLSTM<br>dataset=pedalme<br>mrate=%{x}<br>mse=%{y}<extra></extra>",
         "legendgroup": "STGNN",
         "line": {
          "color": "#EF553B",
          "dash": "dashdot"
         },
         "marker": {
          "symbol": "circle"
         },
         "mode": "lines+markers",
         "name": "STGNN",
         "orientation": "v",
         "showlegend": false,
         "type": "scatter",
         "x": [
          0,
          0.3,
          0.5,
          0.6,
          0.8
         ],
         "xaxis": "x13",
         "y": [
          1.2254736728138393,
          1.2401859561602275,
          1.2918402314186097,
          1.3142287492752076,
          1.363617209593455
         ],
         "yaxis": "y13"
        },
        {
         "hovertemplate": "method=STGNN<br>model=GConvLSTM<br>dataset=wikimath<br>mrate=%{x}<br>mse=%{y}<extra></extra>",
         "legendgroup": "STGNN",
         "line": {
          "color": "#EF553B",
          "dash": "dashdot"
         },
         "marker": {
          "symbol": "circle"
         },
         "mode": "lines+markers",
         "name": "STGNN",
         "orientation": "v",
         "showlegend": false,
         "type": "scatter",
         "x": [
          0,
          0.3,
          0.5,
          0.6,
          0.8
         ],
         "xaxis": "x14",
         "y": [
          0.6397915740807851,
          0.7642852425575256,
          0.9651655813058218,
          1.1036300559838612,
          1.4230417132377624
         ],
         "yaxis": "y14"
        },
        {
         "hovertemplate": "method=STGNN<br>model=GConvLSTM<br>dataset=windmillsmall<br>mrate=%{x}<br>mse=%{y}<extra></extra>",
         "legendgroup": "STGNN",
         "line": {
          "color": "#EF553B",
          "dash": "dashdot"
         },
         "marker": {
          "symbol": "circle"
         },
         "mode": "lines+markers",
         "name": "STGNN",
         "orientation": "v",
         "showlegend": false,
         "type": "scatter",
         "x": [
          0,
          0.5,
          0.7,
          0.8
         ],
         "xaxis": "x15",
         "y": [
          1.0233653860707437,
          1.3304302851359049,
          1.5990776399086262,
          1.6595269680023192
         ],
         "yaxis": "y15"
        },
        {
         "hovertemplate": "method=STGNN<br>model=LRGCN<br>dataset=chickenpox<br>mrate=%{x}<br>mse=%{y}<extra></extra>",
         "legendgroup": "STGNN",
         "line": {
          "color": "#EF553B",
          "dash": "dashdot"
         },
         "marker": {
          "symbol": "circle"
         },
         "mode": "lines+markers",
         "name": "STGNN",
         "orientation": "v",
         "showlegend": false,
         "type": "scatter",
         "x": [
          0,
          0.3,
          0.5,
          0.6,
          0.8
         ],
         "xaxis": "x6",
         "y": [
          0.8718462765216828,
          1.085606614748637,
          1.458146858215332,
          1.6153934677441915,
          1.6320517897605895
         ],
         "yaxis": "y6"
        },
        {
         "hovertemplate": "method=STGNN<br>model=LRGCN<br>dataset=monte<br>mrate=%{x}<br>mse=%{y}<extra></extra>",
         "legendgroup": "STGNN",
         "line": {
          "color": "#EF553B",
          "dash": "dashdot"
         },
         "marker": {
          "symbol": "circle"
         },
         "mode": "lines+markers",
         "name": "STGNN",
         "orientation": "v",
         "showlegend": false,
         "type": "scatter",
         "x": [
          0,
          0.3,
          0.5,
          0.7,
          0.8
         ],
         "xaxis": "x7",
         "y": [
          0.9831988374392192,
          0.9790308872858683,
          0.9850472311178843,
          0.989633462826411,
          0.9895487089951833
         ],
         "yaxis": "y7"
        },
        {
         "hovertemplate": "method=STGNN<br>model=LRGCN<br>dataset=pedalme<br>mrate=%{x}<br>mse=%{y}<extra></extra>",
         "legendgroup": "STGNN",
         "line": {
          "color": "#EF553B",
          "dash": "dashdot"
         },
         "marker": {
          "symbol": "circle"
         },
         "mode": "lines+markers",
         "name": "STGNN",
         "orientation": "v",
         "showlegend": false,
         "type": "scatter",
         "x": [
          0,
          0.3,
          0.5,
          0.6,
          0.8
         ],
         "xaxis": "x8",
         "y": [
          1.1871252020200094,
          1.2772556821505228,
          1.4084373792012532,
          1.4432549913724264,
          1.498203957080841
         ],
         "yaxis": "y8"
        },
        {
         "hovertemplate": "method=STGNN<br>model=LRGCN<br>dataset=wikimath<br>mrate=%{x}<br>mse=%{y}<extra></extra>",
         "legendgroup": "STGNN",
         "line": {
          "color": "#EF553B",
          "dash": "dashdot"
         },
         "marker": {
          "symbol": "circle"
         },
         "mode": "lines+markers",
         "name": "STGNN",
         "orientation": "v",
         "showlegend": false,
         "type": "scatter",
         "x": [
          0,
          0.3,
          0.5,
          0.6,
          0.8
         ],
         "xaxis": "x9",
         "y": [
          0.6080588142077128,
          0.6893625636895497,
          0.8375950992107392,
          0.9172505060831706,
          1.1053302109241485
         ],
         "yaxis": "y9"
        },
        {
         "hovertemplate": "method=STGNN<br>model=LRGCN<br>dataset=windmillsmall<br>mrate=%{x}<br>mse=%{y}<extra></extra>",
         "legendgroup": "STGNN",
         "line": {
          "color": "#EF553B",
          "dash": "dashdot"
         },
         "marker": {
          "symbol": "circle"
         },
         "mode": "lines+markers",
         "name": "STGNN",
         "orientation": "v",
         "showlegend": false,
         "type": "scatter",
         "x": [
          0,
          0.5,
          0.7,
          0.8
         ],
         "xaxis": "x10",
         "y": [
          0.9879741052786509,
          1.346710729598999,
          1.4917972604433696,
          1.3929911692937216
         ],
         "yaxis": "y10"
        },
        {
         "hovertemplate": "method=STGNN<br>model=TGCN<br>dataset=chickenpox<br>mrate=%{x}<br>mse=%{y}<extra></extra>",
         "legendgroup": "STGNN",
         "line": {
          "color": "#EF553B",
          "dash": "dashdot"
         },
         "marker": {
          "symbol": "circle"
         },
         "mode": "lines+markers",
         "name": "STGNN",
         "orientation": "v",
         "showlegend": false,
         "type": "scatter",
         "x": [
          0,
          0.3,
          0.5,
          0.6,
          0.8
         ],
         "xaxis": "x",
         "y": [
          1.0880127906799317,
          1.0536463975906372,
          1.1673845052719116,
          1.2415316065152486,
          1.465696108341217
         ],
         "yaxis": "y"
        },
        {
         "hovertemplate": "method=STGNN<br>model=TGCN<br>dataset=monte<br>mrate=%{x}<br>mse=%{y}<extra></extra>",
         "legendgroup": "STGNN",
         "line": {
          "color": "#EF553B",
          "dash": "dashdot"
         },
         "marker": {
          "symbol": "circle"
         },
         "mode": "lines+markers",
         "name": "STGNN",
         "orientation": "v",
         "showlegend": false,
         "type": "scatter",
         "x": [
          0,
          0.3,
          0.5,
          0.7,
          0.8
         ],
         "xaxis": "x2",
         "y": [
          0.9824497163295746,
          1.0453638195991517,
          1.1323519309361776,
          1.2196598728497823,
          1.27865176598231
         ],
         "yaxis": "y2"
        },
        {
         "hovertemplate": "method=STGNN<br>model=TGCN<br>dataset=pedalme<br>mrate=%{x}<br>mse=%{y}<extra></extra>",
         "legendgroup": "STGNN",
         "line": {
          "color": "#EF553B",
          "dash": "dashdot"
         },
         "marker": {
          "symbol": "circle"
         },
         "mode": "lines+markers",
         "name": "STGNN",
         "orientation": "v",
         "showlegend": false,
         "type": "scatter",
         "x": [
          0,
          0.3,
          0.5,
          0.6,
          0.8
         ],
         "xaxis": "x3",
         "y": [
          1.2800188647376167,
          1.324417491753896,
          1.291247804959615,
          1.3101406574249268,
          1.2854824145634969
         ],
         "yaxis": "y3"
        },
        {
         "hovertemplate": "method=STGNN<br>model=TGCN<br>dataset=wikimath<br>mrate=%{x}<br>mse=%{y}<extra></extra>",
         "legendgroup": "STGNN",
         "line": {
          "color": "#EF553B",
          "dash": "dashdot"
         },
         "marker": {
          "symbol": "circle"
         },
         "mode": "lines+markers",
         "name": "STGNN",
         "orientation": "v",
         "showlegend": false,
         "type": "scatter",
         "x": [
          0,
          0.3,
          0.5,
          0.6,
          0.8
         ],
         "xaxis": "x4",
         "y": [
          0.7324025352795919,
          0.7344819446404774,
          0.7573648432890574,
          0.7742546598116556,
          0.8266303598880768
         ],
         "yaxis": "y4"
        },
        {
         "hovertemplate": "method=STGNN<br>model=TGCN<br>dataset=windmillsmall<br>mrate=%{x}<br>mse=%{y}<extra></extra>",
         "legendgroup": "STGNN",
         "line": {
          "color": "#EF553B",
          "dash": "dashdot"
         },
         "marker": {
          "symbol": "circle"
         },
         "mode": "lines+markers",
         "name": "STGNN",
         "orientation": "v",
         "showlegend": false,
         "type": "scatter",
         "x": [
          0,
          0.5,
          0.7,
          0.8
         ],
         "xaxis": "x5",
         "y": [
          0.9899344603220622,
          1.2292506615320842,
          1.3049984494845073,
          1.3829668045043946
         ],
         "yaxis": "y5"
        }
       ],
       "layout": {
        "annotations": [
         {
          "font": {},
          "showarrow": false,
          "text": "chickenpox",
          "x": 0.09000000000000001,
          "xanchor": "center",
          "xref": "paper",
          "y": 1,
          "yanchor": "bottom",
          "yref": "paper"
         },
         {
          "font": {},
          "showarrow": false,
          "text": "monte",
          "x": 0.29000000000000004,
          "xanchor": "center",
          "xref": "paper",
          "y": 1,
          "yanchor": "bottom",
          "yref": "paper"
         },
         {
          "font": {},
          "showarrow": false,
          "text": "pedalme",
          "x": 0.49000000000000005,
          "xanchor": "center",
          "xref": "paper",
          "y": 1,
          "yanchor": "bottom",
          "yref": "paper"
         },
         {
          "font": {},
          "showarrow": false,
          "text": "wikimath",
          "x": 0.6900000000000002,
          "xanchor": "center",
          "xref": "paper",
          "y": 1,
          "yanchor": "bottom",
          "yref": "paper"
         },
         {
          "font": {},
          "showarrow": false,
          "text": "windmillsmall",
          "x": 0.8900000000000001,
          "xanchor": "center",
          "xref": "paper",
          "y": 1,
          "yanchor": "bottom",
          "yref": "paper"
         },
         {
          "font": {},
          "showarrow": false,
          "text": "TGCN",
          "textangle": 90,
          "x": 0.9800000000000001,
          "xanchor": "left",
          "xref": "paper",
          "y": 0.042222222222222223,
          "yanchor": "middle",
          "yref": "paper"
         },
         {
          "font": {},
          "showarrow": false,
          "text": "LRGCN",
          "textangle": 90,
          "x": 0.9800000000000001,
          "xanchor": "left",
          "xref": "paper",
          "y": 0.15666666666666668,
          "yanchor": "middle",
          "yref": "paper"
         },
         {
          "font": {},
          "showarrow": false,
          "text": "GConvLSTM",
          "textangle": 90,
          "x": 0.9800000000000001,
          "xanchor": "left",
          "xref": "paper",
          "y": 0.27111111111111114,
          "yanchor": "middle",
          "yref": "paper"
         },
         {
          "font": {},
          "showarrow": false,
          "text": "GConvGRU",
          "textangle": 90,
          "x": 0.9800000000000001,
          "xanchor": "left",
          "xref": "paper",
          "y": 0.3855555555555556,
          "yanchor": "middle",
          "yref": "paper"
         },
         {
          "font": {},
          "showarrow": false,
          "text": "GCLSTM",
          "textangle": 90,
          "x": 0.9800000000000001,
          "xanchor": "left",
          "xref": "paper",
          "y": 0.5,
          "yanchor": "middle",
          "yref": "paper"
         },
         {
          "font": {},
          "showarrow": false,
          "text": "EvolveGCNO",
          "textangle": 90,
          "x": 0.9800000000000001,
          "xanchor": "left",
          "xref": "paper",
          "y": 0.6144444444444443,
          "yanchor": "middle",
          "yref": "paper"
         },
         {
          "font": {},
          "showarrow": false,
          "text": "EvolveGCNH",
          "textangle": 90,
          "x": 0.9800000000000001,
          "xanchor": "left",
          "xref": "paper",
          "y": 0.7288888888888889,
          "yanchor": "middle",
          "yref": "paper"
         },
         {
          "font": {},
          "showarrow": false,
          "text": "DyGrEncoder",
          "textangle": 90,
          "x": 0.9800000000000001,
          "xanchor": "left",
          "xref": "paper",
          "y": 0.8433333333333333,
          "yanchor": "middle",
          "yref": "paper"
         },
         {
          "font": {},
          "showarrow": false,
          "text": "DCRNN",
          "textangle": 90,
          "x": 0.9800000000000001,
          "xanchor": "left",
          "xref": "paper",
          "y": 0.9577777777777778,
          "yanchor": "middle",
          "yref": "paper"
         }
        ],
        "height": 1000,
        "legend": {
         "title": {
          "text": "method"
         },
         "tracegroupgap": 0
        },
        "margin": {
         "t": 60
        },
        "template": {
         "data": {
          "bar": [
           {
            "error_x": {
             "color": "#2a3f5f"
            },
            "error_y": {
             "color": "#2a3f5f"
            },
            "marker": {
             "line": {
              "color": "white",
              "width": 0.5
             },
             "pattern": {
              "fillmode": "overlay",
              "size": 10,
              "solidity": 0.2
             }
            },
            "type": "bar"
           }
          ],
          "barpolar": [
           {
            "marker": {
             "line": {
              "color": "white",
              "width": 0.5
             },
             "pattern": {
              "fillmode": "overlay",
              "size": 10,
              "solidity": 0.2
             }
            },
            "type": "barpolar"
           }
          ],
          "carpet": [
           {
            "aaxis": {
             "endlinecolor": "#2a3f5f",
             "gridcolor": "#C8D4E3",
             "linecolor": "#C8D4E3",
             "minorgridcolor": "#C8D4E3",
             "startlinecolor": "#2a3f5f"
            },
            "baxis": {
             "endlinecolor": "#2a3f5f",
             "gridcolor": "#C8D4E3",
             "linecolor": "#C8D4E3",
             "minorgridcolor": "#C8D4E3",
             "startlinecolor": "#2a3f5f"
            },
            "type": "carpet"
           }
          ],
          "choropleth": [
           {
            "colorbar": {
             "outlinewidth": 0,
             "ticks": ""
            },
            "type": "choropleth"
           }
          ],
          "contour": [
           {
            "colorbar": {
             "outlinewidth": 0,
             "ticks": ""
            },
            "colorscale": [
             [
              0,
              "#0d0887"
             ],
             [
              0.1111111111111111,
              "#46039f"
             ],
             [
              0.2222222222222222,
              "#7201a8"
             ],
             [
              0.3333333333333333,
              "#9c179e"
             ],
             [
              0.4444444444444444,
              "#bd3786"
             ],
             [
              0.5555555555555556,
              "#d8576b"
             ],
             [
              0.6666666666666666,
              "#ed7953"
             ],
             [
              0.7777777777777778,
              "#fb9f3a"
             ],
             [
              0.8888888888888888,
              "#fdca26"
             ],
             [
              1,
              "#f0f921"
             ]
            ],
            "type": "contour"
           }
          ],
          "contourcarpet": [
           {
            "colorbar": {
             "outlinewidth": 0,
             "ticks": ""
            },
            "type": "contourcarpet"
           }
          ],
          "heatmap": [
           {
            "colorbar": {
             "outlinewidth": 0,
             "ticks": ""
            },
            "colorscale": [
             [
              0,
              "#0d0887"
             ],
             [
              0.1111111111111111,
              "#46039f"
             ],
             [
              0.2222222222222222,
              "#7201a8"
             ],
             [
              0.3333333333333333,
              "#9c179e"
             ],
             [
              0.4444444444444444,
              "#bd3786"
             ],
             [
              0.5555555555555556,
              "#d8576b"
             ],
             [
              0.6666666666666666,
              "#ed7953"
             ],
             [
              0.7777777777777778,
              "#fb9f3a"
             ],
             [
              0.8888888888888888,
              "#fdca26"
             ],
             [
              1,
              "#f0f921"
             ]
            ],
            "type": "heatmap"
           }
          ],
          "heatmapgl": [
           {
            "colorbar": {
             "outlinewidth": 0,
             "ticks": ""
            },
            "colorscale": [
             [
              0,
              "#0d0887"
             ],
             [
              0.1111111111111111,
              "#46039f"
             ],
             [
              0.2222222222222222,
              "#7201a8"
             ],
             [
              0.3333333333333333,
              "#9c179e"
             ],
             [
              0.4444444444444444,
              "#bd3786"
             ],
             [
              0.5555555555555556,
              "#d8576b"
             ],
             [
              0.6666666666666666,
              "#ed7953"
             ],
             [
              0.7777777777777778,
              "#fb9f3a"
             ],
             [
              0.8888888888888888,
              "#fdca26"
             ],
             [
              1,
              "#f0f921"
             ]
            ],
            "type": "heatmapgl"
           }
          ],
          "histogram": [
           {
            "marker": {
             "pattern": {
              "fillmode": "overlay",
              "size": 10,
              "solidity": 0.2
             }
            },
            "type": "histogram"
           }
          ],
          "histogram2d": [
           {
            "colorbar": {
             "outlinewidth": 0,
             "ticks": ""
            },
            "colorscale": [
             [
              0,
              "#0d0887"
             ],
             [
              0.1111111111111111,
              "#46039f"
             ],
             [
              0.2222222222222222,
              "#7201a8"
             ],
             [
              0.3333333333333333,
              "#9c179e"
             ],
             [
              0.4444444444444444,
              "#bd3786"
             ],
             [
              0.5555555555555556,
              "#d8576b"
             ],
             [
              0.6666666666666666,
              "#ed7953"
             ],
             [
              0.7777777777777778,
              "#fb9f3a"
             ],
             [
              0.8888888888888888,
              "#fdca26"
             ],
             [
              1,
              "#f0f921"
             ]
            ],
            "type": "histogram2d"
           }
          ],
          "histogram2dcontour": [
           {
            "colorbar": {
             "outlinewidth": 0,
             "ticks": ""
            },
            "colorscale": [
             [
              0,
              "#0d0887"
             ],
             [
              0.1111111111111111,
              "#46039f"
             ],
             [
              0.2222222222222222,
              "#7201a8"
             ],
             [
              0.3333333333333333,
              "#9c179e"
             ],
             [
              0.4444444444444444,
              "#bd3786"
             ],
             [
              0.5555555555555556,
              "#d8576b"
             ],
             [
              0.6666666666666666,
              "#ed7953"
             ],
             [
              0.7777777777777778,
              "#fb9f3a"
             ],
             [
              0.8888888888888888,
              "#fdca26"
             ],
             [
              1,
              "#f0f921"
             ]
            ],
            "type": "histogram2dcontour"
           }
          ],
          "mesh3d": [
           {
            "colorbar": {
             "outlinewidth": 0,
             "ticks": ""
            },
            "type": "mesh3d"
           }
          ],
          "parcoords": [
           {
            "line": {
             "colorbar": {
              "outlinewidth": 0,
              "ticks": ""
             }
            },
            "type": "parcoords"
           }
          ],
          "pie": [
           {
            "automargin": true,
            "type": "pie"
           }
          ],
          "scatter": [
           {
            "fillpattern": {
             "fillmode": "overlay",
             "size": 10,
             "solidity": 0.2
            },
            "type": "scatter"
           }
          ],
          "scatter3d": [
           {
            "line": {
             "colorbar": {
              "outlinewidth": 0,
              "ticks": ""
             }
            },
            "marker": {
             "colorbar": {
              "outlinewidth": 0,
              "ticks": ""
             }
            },
            "type": "scatter3d"
           }
          ],
          "scattercarpet": [
           {
            "marker": {
             "colorbar": {
              "outlinewidth": 0,
              "ticks": ""
             }
            },
            "type": "scattercarpet"
           }
          ],
          "scattergeo": [
           {
            "marker": {
             "colorbar": {
              "outlinewidth": 0,
              "ticks": ""
             }
            },
            "type": "scattergeo"
           }
          ],
          "scattergl": [
           {
            "marker": {
             "colorbar": {
              "outlinewidth": 0,
              "ticks": ""
             }
            },
            "type": "scattergl"
           }
          ],
          "scattermapbox": [
           {
            "marker": {
             "colorbar": {
              "outlinewidth": 0,
              "ticks": ""
             }
            },
            "type": "scattermapbox"
           }
          ],
          "scatterpolar": [
           {
            "marker": {
             "colorbar": {
              "outlinewidth": 0,
              "ticks": ""
             }
            },
            "type": "scatterpolar"
           }
          ],
          "scatterpolargl": [
           {
            "marker": {
             "colorbar": {
              "outlinewidth": 0,
              "ticks": ""
             }
            },
            "type": "scatterpolargl"
           }
          ],
          "scatterternary": [
           {
            "marker": {
             "colorbar": {
              "outlinewidth": 0,
              "ticks": ""
             }
            },
            "type": "scatterternary"
           }
          ],
          "surface": [
           {
            "colorbar": {
             "outlinewidth": 0,
             "ticks": ""
            },
            "colorscale": [
             [
              0,
              "#0d0887"
             ],
             [
              0.1111111111111111,
              "#46039f"
             ],
             [
              0.2222222222222222,
              "#7201a8"
             ],
             [
              0.3333333333333333,
              "#9c179e"
             ],
             [
              0.4444444444444444,
              "#bd3786"
             ],
             [
              0.5555555555555556,
              "#d8576b"
             ],
             [
              0.6666666666666666,
              "#ed7953"
             ],
             [
              0.7777777777777778,
              "#fb9f3a"
             ],
             [
              0.8888888888888888,
              "#fdca26"
             ],
             [
              1,
              "#f0f921"
             ]
            ],
            "type": "surface"
           }
          ],
          "table": [
           {
            "cells": {
             "fill": {
              "color": "#EBF0F8"
             },
             "line": {
              "color": "white"
             }
            },
            "header": {
             "fill": {
              "color": "#C8D4E3"
             },
             "line": {
              "color": "white"
             }
            },
            "type": "table"
           }
          ]
         },
         "layout": {
          "annotationdefaults": {
           "arrowcolor": "#2a3f5f",
           "arrowhead": 0,
           "arrowwidth": 1
          },
          "autotypenumbers": "strict",
          "coloraxis": {
           "colorbar": {
            "outlinewidth": 0,
            "ticks": ""
           }
          },
          "colorscale": {
           "diverging": [
            [
             0,
             "#8e0152"
            ],
            [
             0.1,
             "#c51b7d"
            ],
            [
             0.2,
             "#de77ae"
            ],
            [
             0.3,
             "#f1b6da"
            ],
            [
             0.4,
             "#fde0ef"
            ],
            [
             0.5,
             "#f7f7f7"
            ],
            [
             0.6,
             "#e6f5d0"
            ],
            [
             0.7,
             "#b8e186"
            ],
            [
             0.8,
             "#7fbc41"
            ],
            [
             0.9,
             "#4d9221"
            ],
            [
             1,
             "#276419"
            ]
           ],
           "sequential": [
            [
             0,
             "#0d0887"
            ],
            [
             0.1111111111111111,
             "#46039f"
            ],
            [
             0.2222222222222222,
             "#7201a8"
            ],
            [
             0.3333333333333333,
             "#9c179e"
            ],
            [
             0.4444444444444444,
             "#bd3786"
            ],
            [
             0.5555555555555556,
             "#d8576b"
            ],
            [
             0.6666666666666666,
             "#ed7953"
            ],
            [
             0.7777777777777778,
             "#fb9f3a"
            ],
            [
             0.8888888888888888,
             "#fdca26"
            ],
            [
             1,
             "#f0f921"
            ]
           ],
           "sequentialminus": [
            [
             0,
             "#0d0887"
            ],
            [
             0.1111111111111111,
             "#46039f"
            ],
            [
             0.2222222222222222,
             "#7201a8"
            ],
            [
             0.3333333333333333,
             "#9c179e"
            ],
            [
             0.4444444444444444,
             "#bd3786"
            ],
            [
             0.5555555555555556,
             "#d8576b"
            ],
            [
             0.6666666666666666,
             "#ed7953"
            ],
            [
             0.7777777777777778,
             "#fb9f3a"
            ],
            [
             0.8888888888888888,
             "#fdca26"
            ],
            [
             1,
             "#f0f921"
            ]
           ]
          },
          "colorway": [
           "#636efa",
           "#EF553B",
           "#00cc96",
           "#ab63fa",
           "#FFA15A",
           "#19d3f3",
           "#FF6692",
           "#B6E880",
           "#FF97FF",
           "#FECB52"
          ],
          "font": {
           "color": "#2a3f5f"
          },
          "geo": {
           "bgcolor": "white",
           "lakecolor": "white",
           "landcolor": "white",
           "showlakes": true,
           "showland": true,
           "subunitcolor": "#C8D4E3"
          },
          "hoverlabel": {
           "align": "left"
          },
          "hovermode": "closest",
          "mapbox": {
           "style": "light"
          },
          "paper_bgcolor": "white",
          "plot_bgcolor": "white",
          "polar": {
           "angularaxis": {
            "gridcolor": "#EBF0F8",
            "linecolor": "#EBF0F8",
            "ticks": ""
           },
           "bgcolor": "white",
           "radialaxis": {
            "gridcolor": "#EBF0F8",
            "linecolor": "#EBF0F8",
            "ticks": ""
           }
          },
          "scene": {
           "xaxis": {
            "backgroundcolor": "white",
            "gridcolor": "#DFE8F3",
            "gridwidth": 2,
            "linecolor": "#EBF0F8",
            "showbackground": true,
            "ticks": "",
            "zerolinecolor": "#EBF0F8"
           },
           "yaxis": {
            "backgroundcolor": "white",
            "gridcolor": "#DFE8F3",
            "gridwidth": 2,
            "linecolor": "#EBF0F8",
            "showbackground": true,
            "ticks": "",
            "zerolinecolor": "#EBF0F8"
           },
           "zaxis": {
            "backgroundcolor": "white",
            "gridcolor": "#DFE8F3",
            "gridwidth": 2,
            "linecolor": "#EBF0F8",
            "showbackground": true,
            "ticks": "",
            "zerolinecolor": "#EBF0F8"
           }
          },
          "shapedefaults": {
           "line": {
            "color": "#2a3f5f"
           }
          },
          "ternary": {
           "aaxis": {
            "gridcolor": "#DFE8F3",
            "linecolor": "#A2B1C6",
            "ticks": ""
           },
           "baxis": {
            "gridcolor": "#DFE8F3",
            "linecolor": "#A2B1C6",
            "ticks": ""
           },
           "bgcolor": "white",
           "caxis": {
            "gridcolor": "#DFE8F3",
            "linecolor": "#A2B1C6",
            "ticks": ""
           }
          },
          "title": {
           "x": 0.05
          },
          "xaxis": {
           "automargin": true,
           "gridcolor": "#EBF0F8",
           "linecolor": "#EBF0F8",
           "ticks": "",
           "title": {
            "standoff": 15
           },
           "zerolinecolor": "#EBF0F8",
           "zerolinewidth": 2
          },
          "yaxis": {
           "automargin": true,
           "gridcolor": "#EBF0F8",
           "linecolor": "#EBF0F8",
           "ticks": "",
           "title": {
            "standoff": 15
           },
           "zerolinecolor": "#EBF0F8",
           "zerolinewidth": 2
          }
         }
        },
        "width": 850,
        "xaxis": {
         "anchor": "y",
         "autorange": true,
         "domain": [
          0,
          0.18000000000000002
         ],
         "range": [
          -0.07910168434185902,
          0.8791016843418591
         ],
         "showticklabels": true,
         "title": {},
         "type": "linear"
        },
        "xaxis10": {
         "anchor": "y10",
         "autorange": true,
         "domain": [
          0.8,
          0.9800000000000001
         ],
         "range": [
          -0.07910168434185902,
          0.8791016843418591
         ],
         "showticklabels": true,
         "type": "linear"
        },
        "xaxis11": {
         "anchor": "y11",
         "autorange": true,
         "domain": [
          0,
          0.18000000000000002
         ],
         "range": [
          -0.07910168434185902,
          0.8791016843418591
         ],
         "showticklabels": true,
         "type": "linear"
        },
        "xaxis12": {
         "anchor": "y12",
         "autorange": true,
         "domain": [
          0.2,
          0.38
         ],
         "range": [
          -0.07910168434185905,
          0.8791016843418591
         ],
         "showticklabels": true,
         "type": "linear"
        },
        "xaxis13": {
         "anchor": "y13",
         "autorange": true,
         "domain": [
          0.4,
          0.5800000000000001
         ],
         "range": [
          -0.07910168434185902,
          0.8791016843418591
         ],
         "showticklabels": true,
         "type": "linear"
        },
        "xaxis14": {
         "anchor": "y14",
         "autorange": true,
         "domain": [
          0.6000000000000001,
          0.7800000000000001
         ],
         "range": [
          -0.07910168434185902,
          0.8791016843418591
         ],
         "showticklabels": true,
         "type": "linear"
        },
        "xaxis15": {
         "anchor": "y15",
         "autorange": true,
         "domain": [
          0.8,
          0.9800000000000001
         ],
         "range": [
          -0.07910168434185902,
          0.8791016843418591
         ],
         "showticklabels": true,
         "type": "linear"
        },
        "xaxis16": {
         "anchor": "y16",
         "autorange": true,
         "domain": [
          0,
          0.18000000000000002
         ],
         "range": [
          -0.07910168434185902,
          0.8791016843418591
         ],
         "showticklabels": true,
         "type": "linear"
        },
        "xaxis17": {
         "anchor": "y17",
         "autorange": true,
         "domain": [
          0.2,
          0.38
         ],
         "range": [
          -0.07910168434185905,
          0.8791016843418591
         ],
         "showticklabels": true,
         "type": "linear"
        },
        "xaxis18": {
         "anchor": "y18",
         "autorange": true,
         "domain": [
          0.4,
          0.5800000000000001
         ],
         "range": [
          -0.07910168434185902,
          0.8791016843418591
         ],
         "showticklabels": true,
         "type": "linear"
        },
        "xaxis19": {
         "anchor": "y19",
         "autorange": true,
         "domain": [
          0.6000000000000001,
          0.7800000000000001
         ],
         "range": [
          -0.07910168434185902,
          0.8791016843418591
         ],
         "showticklabels": true,
         "type": "linear"
        },
        "xaxis2": {
         "anchor": "y2",
         "autorange": true,
         "domain": [
          0.2,
          0.38
         ],
         "range": [
          -0.07910168434185905,
          0.8791016843418591
         ],
         "showticklabels": true,
         "title": {},
         "type": "linear"
        },
        "xaxis20": {
         "anchor": "y20",
         "autorange": true,
         "domain": [
          0.8,
          0.9800000000000001
         ],
         "range": [
          -0.07910168434185902,
          0.8791016843418591
         ],
         "showticklabels": true,
         "type": "linear"
        },
        "xaxis21": {
         "anchor": "y21",
         "autorange": true,
         "domain": [
          0,
          0.18000000000000002
         ],
         "range": [
          -0.07910168434185902,
          0.8791016843418591
         ],
         "showticklabels": true,
         "type": "linear"
        },
        "xaxis22": {
         "anchor": "y22",
         "autorange": true,
         "domain": [
          0.2,
          0.38
         ],
         "range": [
          -0.07910168434185905,
          0.8791016843418591
         ],
         "showticklabels": true,
         "type": "linear"
        },
        "xaxis23": {
         "anchor": "y23",
         "autorange": true,
         "domain": [
          0.4,
          0.5800000000000001
         ],
         "range": [
          -0.07910168434185902,
          0.8791016843418591
         ],
         "showticklabels": true,
         "type": "linear"
        },
        "xaxis24": {
         "anchor": "y24",
         "autorange": true,
         "domain": [
          0.6000000000000001,
          0.7800000000000001
         ],
         "range": [
          -0.07910168434185902,
          0.8791016843418591
         ],
         "showticklabels": true,
         "type": "linear"
        },
        "xaxis25": {
         "anchor": "y25",
         "autorange": true,
         "domain": [
          0.8,
          0.9800000000000001
         ],
         "range": [
          -0.07910168434185902,
          0.8791016843418591
         ],
         "showticklabels": true,
         "type": "linear"
        },
        "xaxis26": {
         "anchor": "y26",
         "autorange": true,
         "domain": [
          0,
          0.18000000000000002
         ],
         "range": [
          -0.07910168434185902,
          0.8791016843418591
         ],
         "showticklabels": true,
         "type": "linear"
        },
        "xaxis27": {
         "anchor": "y27",
         "autorange": true,
         "domain": [
          0.2,
          0.38
         ],
         "range": [
          -0.07910168434185905,
          0.8791016843418591
         ],
         "showticklabels": true,
         "type": "linear"
        },
        "xaxis28": {
         "anchor": "y28",
         "autorange": true,
         "domain": [
          0.4,
          0.5800000000000001
         ],
         "range": [
          -0.07910168434185902,
          0.8791016843418591
         ],
         "showticklabels": true,
         "type": "linear"
        },
        "xaxis29": {
         "anchor": "y29",
         "autorange": true,
         "domain": [
          0.6000000000000001,
          0.7800000000000001
         ],
         "range": [
          -0.07910168434185902,
          0.8791016843418591
         ],
         "showticklabels": true,
         "type": "linear"
        },
        "xaxis3": {
         "anchor": "y3",
         "autorange": true,
         "domain": [
          0.4,
          0.5800000000000001
         ],
         "range": [
          -0.07910168434185902,
          0.8791016843418591
         ],
         "showticklabels": true,
         "title": {},
         "type": "linear"
        },
        "xaxis30": {
         "anchor": "y30",
         "autorange": true,
         "domain": [
          0.8,
          0.9800000000000001
         ],
         "range": [
          -0.07910168434185902,
          0.8791016843418591
         ],
         "showticklabels": true,
         "type": "linear"
        },
        "xaxis31": {
         "anchor": "y31",
         "autorange": true,
         "domain": [
          0,
          0.18000000000000002
         ],
         "range": [
          -0.07910168434185902,
          0.8791016843418591
         ],
         "showticklabels": true,
         "type": "linear"
        },
        "xaxis32": {
         "anchor": "y32",
         "autorange": true,
         "domain": [
          0.2,
          0.38
         ],
         "range": [
          -0.07910168434185905,
          0.8791016843418591
         ],
         "showticklabels": true,
         "type": "linear"
        },
        "xaxis33": {
         "anchor": "y33",
         "autorange": true,
         "domain": [
          0.4,
          0.5800000000000001
         ],
         "range": [
          -0.07910168434185902,
          0.8791016843418591
         ],
         "showticklabels": true,
         "type": "linear"
        },
        "xaxis34": {
         "anchor": "y34",
         "autorange": true,
         "domain": [
          0.6000000000000001,
          0.7800000000000001
         ],
         "range": [
          -0.07910168434185902,
          0.8791016843418591
         ],
         "showticklabels": true,
         "type": "linear"
        },
        "xaxis35": {
         "anchor": "y35",
         "autorange": true,
         "domain": [
          0.8,
          0.9800000000000001
         ],
         "range": [
          -0.06921397379912664,
          0.7692139737991266
         ],
         "showticklabels": true,
         "type": "linear"
        },
        "xaxis36": {
         "anchor": "y36",
         "autorange": true,
         "domain": [
          0,
          0.18000000000000002
         ],
         "range": [
          -0.07910168434185902,
          0.8791016843418591
         ],
         "showticklabels": true,
         "type": "linear"
        },
        "xaxis37": {
         "anchor": "y37",
         "autorange": true,
         "domain": [
          0.2,
          0.38
         ],
         "range": [
          -0.07910168434185905,
          0.8791016843418591
         ],
         "showticklabels": true,
         "type": "linear"
        },
        "xaxis38": {
         "anchor": "y38",
         "autorange": true,
         "domain": [
          0.4,
          0.5800000000000001
         ],
         "range": [
          -0.07910168434185902,
          0.8791016843418591
         ],
         "showticklabels": true,
         "type": "linear"
        },
        "xaxis39": {
         "anchor": "y39",
         "autorange": true,
         "domain": [
          0.6000000000000001,
          0.7800000000000001
         ],
         "range": [
          -0.07910168434185902,
          0.8791016843418591
         ],
         "showticklabels": true,
         "type": "linear"
        },
        "xaxis4": {
         "anchor": "y4",
         "autorange": true,
         "domain": [
          0.6000000000000001,
          0.7800000000000001
         ],
         "range": [
          -0.07910168434185902,
          0.8791016843418591
         ],
         "showticklabels": true,
         "title": {},
         "type": "linear"
        },
        "xaxis40": {
         "anchor": "y40",
         "autorange": true,
         "domain": [
          0.8,
          0.9800000000000001
         ],
         "range": [
          -0.07910168434185902,
          0.8791016843418591
         ],
         "showticklabels": true,
         "type": "linear"
        },
        "xaxis41": {
         "anchor": "y41",
         "autorange": true,
         "domain": [
          0,
          0.18000000000000002
         ],
         "range": [
          -0.07910168434185902,
          0.8791016843418591
         ],
         "showticklabels": true,
         "type": "linear"
        },
        "xaxis42": {
         "anchor": "y42",
         "autorange": true,
         "domain": [
          0.2,
          0.38
         ],
         "range": [
          -0.07910168434185905,
          0.8791016843418591
         ],
         "showticklabels": true,
         "type": "linear"
        },
        "xaxis43": {
         "anchor": "y43",
         "autorange": true,
         "domain": [
          0.4,
          0.5800000000000001
         ],
         "range": [
          -0.07910168434185902,
          0.8791016843418591
         ],
         "showticklabels": true,
         "type": "linear"
        },
        "xaxis44": {
         "anchor": "y44",
         "autorange": true,
         "domain": [
          0.6000000000000001,
          0.7800000000000001
         ],
         "range": [
          -0.07910168434185902,
          0.8791016843418591
         ],
         "showticklabels": true,
         "type": "linear"
        },
        "xaxis45": {
         "anchor": "y45",
         "autorange": true,
         "domain": [
          0.8,
          0.9800000000000001
         ],
         "range": [
          -0.07910168434185902,
          0.8791016843418591
         ],
         "showticklabels": true,
         "type": "linear"
        },
        "xaxis5": {
         "anchor": "y5",
         "autorange": true,
         "domain": [
          0.8,
          0.9800000000000001
         ],
         "range": [
          -0.07910168434185902,
          0.8791016843418591
         ],
         "showticklabels": true,
         "title": {},
         "type": "linear"
        },
        "xaxis6": {
         "anchor": "y6",
         "autorange": true,
         "domain": [
          0,
          0.18000000000000002
         ],
         "range": [
          -0.07910168434185902,
          0.8791016843418591
         ],
         "showticklabels": true,
         "type": "linear"
        },
        "xaxis7": {
         "anchor": "y7",
         "autorange": true,
         "domain": [
          0.2,
          0.38
         ],
         "range": [
          -0.07910168434185905,
          0.8791016843418591
         ],
         "showticklabels": true,
         "type": "linear"
        },
        "xaxis8": {
         "anchor": "y8",
         "autorange": true,
         "domain": [
          0.4,
          0.5800000000000001
         ],
         "range": [
          -0.07910168434185902,
          0.8791016843418591
         ],
         "showticklabels": true,
         "type": "linear"
        },
        "xaxis9": {
         "anchor": "y9",
         "autorange": true,
         "domain": [
          0.6000000000000001,
          0.7800000000000001
         ],
         "range": [
          -0.07910168434185902,
          0.8791016843418591
         ],
         "showticklabels": true,
         "type": "linear"
        },
        "yaxis": {
         "anchor": "x",
         "autorange": true,
         "domain": [
          0,
          0.08444444444444445
         ],
         "range": [
          0.9765629568389914,
          1.5210346223223346
         ],
         "showticklabels": true,
         "title": {},
         "type": "linear"
        },
        "yaxis10": {
         "anchor": "x10",
         "autorange": true,
         "domain": [
          0.11444444444444445,
          0.1988888888888889
         ],
         "range": [
          0.922487247572202,
          1.556206654920321
         ],
         "showticklabels": true,
         "type": "linear"
        },
        "yaxis11": {
         "anchor": "x11",
         "autorange": true,
         "domain": [
          0.2288888888888889,
          0.31333333333333335
         ],
         "range": [
          0.6610544963899474,
          2.73247116762169
         ],
         "showticklabels": true,
         "title": {},
         "type": "linear"
        },
        "yaxis12": {
         "anchor": "x12",
         "autorange": true,
         "domain": [
          0.2288888888888889,
          0.31333333333333335
         ],
         "range": [
          0.9243218520003535,
          1.1632052800339483
         ],
         "showticklabels": true,
         "type": "linear"
        },
        "yaxis13": {
         "anchor": "x13",
         "autorange": true,
         "domain": [
          0.2288888888888889,
          0.31333333333333335
         ],
         "range": [
          1.19347331844868,
          1.3828665899922277
         ],
         "showticklabels": true,
         "type": "linear"
        },
        "yaxis14": {
         "anchor": "x14",
         "autorange": true,
         "domain": [
          0.2288888888888889,
          0.31333333333333335
         ],
         "range": [
          0.524741909568371,
          1.5246716601998989
         ],
         "showticklabels": true,
         "type": "linear"
        },
        "yaxis15": {
         "anchor": "x15",
         "autorange": true,
         "domain": [
          0.2288888888888889,
          0.31333333333333335
         ],
         "range": [
          0.9119603681393172,
          1.7441035799356592
         ],
         "showticklabels": true,
         "type": "linear"
        },
        "yaxis16": {
         "anchor": "x16",
         "autorange": true,
         "domain": [
          0.3433333333333334,
          0.4277777777777778
         ],
         "range": [
          0.5252549292816548,
          2.755639079990603
         ],
         "showticklabels": true,
         "title": {},
         "type": "linear"
        },
        "yaxis17": {
         "anchor": "x17",
         "autorange": true,
         "domain": [
          0.3433333333333334,
          0.4277777777777778
         ],
         "range": [
          0.8494546507917362,
          1.6470890278495829
         ],
         "showticklabels": true,
         "type": "linear"
        },
        "yaxis18": {
         "anchor": "x18",
         "autorange": true,
         "domain": [
          0.3433333333333334,
          0.4277777777777778
         ],
         "range": [
          1.1561540067866383,
          1.8515091941745807
         ],
         "showticklabels": true,
         "type": "linear"
        },
        "yaxis19": {
         "anchor": "x19",
         "autorange": true,
         "domain": [
          0.3433333333333334,
          0.4277777777777778
         ],
         "range": [
          0.465199525312019,
          0.9852037398463164
         ],
         "showticklabels": true,
         "type": "linear"
        },
        "yaxis2": {
         "anchor": "x2",
         "autorange": true,
         "domain": [
          0,
          0.08444444444444445
         ],
         "range": [
          0.9446636769271257,
          1.316437805384759
         ],
         "showticklabels": true,
         "type": "linear"
        },
        "yaxis20": {
         "anchor": "x20",
         "autorange": true,
         "domain": [
          0.3433333333333334,
          0.4277777777777778
         ],
         "range": [
          0.9023415853449882,
          1.8925413879465522
         ],
         "showticklabels": true,
         "type": "linear"
        },
        "yaxis21": {
         "anchor": "x21",
         "autorange": true,
         "domain": [
          0.4577777777777778,
          0.5422222222222223
         ],
         "range": [
          0.6815147671584177,
          2.340943368923278
         ],
         "showticklabels": true,
         "title": {},
         "type": "linear"
        },
        "yaxis22": {
         "anchor": "x22",
         "autorange": true,
         "domain": [
          0.4577777777777778,
          0.5422222222222223
         ],
         "range": [
          0.9390586372228293,
          1.1732646151371966
         ],
         "showticklabels": true,
         "type": "linear"
        },
        "yaxis23": {
         "anchor": "x23",
         "autorange": true,
         "domain": [
          0.4577777777777778,
          0.5422222222222223
         ],
         "range": [
          1.1431979561225145,
          1.4317135720409717
         ],
         "showticklabels": true,
         "type": "linear"
        },
        "yaxis24": {
         "anchor": "x24",
         "autorange": true,
         "domain": [
          0.4577777777777778,
          0.5422222222222223
         ],
         "range": [
          0.5259376551765885,
          1.5064241959593012
         ],
         "showticklabels": true,
         "type": "linear"
        },
        "yaxis25": {
         "anchor": "x25",
         "autorange": true,
         "domain": [
          0.4577777777777778,
          0.5422222222222223
         ],
         "range": [
          0.9180003190922708,
          1.6474376938947841
         ],
         "showticklabels": true,
         "type": "linear"
        },
        "yaxis26": {
         "anchor": "x26",
         "autorange": true,
         "domain": [
          0.5722222222222222,
          0.6566666666666666
         ],
         "range": [
          0.9518984300558819,
          1.26554857465972
         ],
         "showticklabels": true,
         "title": {},
         "type": "linear"
        },
        "yaxis27": {
         "anchor": "x27",
         "autorange": true,
         "domain": [
          0.5722222222222222,
          0.6566666666666666
         ],
         "range": [
          0.7616042309210903,
          3.0781684802764446
         ],
         "showticklabels": true,
         "type": "linear"
        },
        "yaxis28": {
         "anchor": "x28",
         "autorange": true,
         "domain": [
          0.5722222222222222,
          0.6566666666666666
         ],
         "range": [
          1.208562249383598,
          1.333466883724329
         ],
         "showticklabels": true,
         "type": "linear"
        },
        "yaxis29": {
         "anchor": "x29",
         "autorange": true,
         "domain": [
          0.5722222222222222,
          0.6566666666666666
         ],
         "range": [
          0.7171932043109012,
          0.8798452216909655
         ],
         "showticklabels": true,
         "type": "linear"
        },
        "yaxis3": {
         "anchor": "x3",
         "autorange": true,
         "domain": [
          0,
          0.08444444444444445
         ],
         "range": [
          1.2429002785865257,
          1.3506613164295298
         ],
         "showticklabels": true,
         "type": "linear"
        },
        "yaxis30": {
         "anchor": "x30",
         "autorange": true,
         "domain": [
          0.5722222222222222,
          0.6566666666666666
         ],
         "range": [
          0.9121683221326544,
          1.6076231200231836
         ],
         "showticklabels": true,
         "type": "linear"
        },
        "yaxis31": {
         "anchor": "x31",
         "autorange": true,
         "domain": [
          0.6866666666666668,
          0.7711111111111112
         ],
         "range": [
          0.9697527719916628,
          1.2293072866020873
         ],
         "showticklabels": true,
         "title": {},
         "type": "linear"
        },
        "yaxis32": {
         "anchor": "x32",
         "autorange": true,
         "domain": [
          0.6866666666666668,
          0.7711111111111112
         ],
         "range": [
          0.8525225504534215,
          2.3607938811881573
         ],
         "showticklabels": true,
         "type": "linear"
        },
        "yaxis33": {
         "anchor": "x33",
         "autorange": true,
         "domain": [
          0.6866666666666668,
          0.7711111111111112
         ],
         "range": [
          1.1856105123632372,
          1.3368254680097216
         ],
         "showticklabels": true,
         "type": "linear"
        },
        "yaxis34": {
         "anchor": "x34",
         "autorange": true,
         "domain": [
          0.6866666666666668,
          0.7711111111111112
         ],
         "range": [
          0.7520861359804575,
          0.9333292571336325
         ],
         "showticklabels": true,
         "type": "linear"
        },
        "yaxis35": {
         "anchor": "x35",
         "autorange": true,
         "domain": [
          0.6866666666666668,
          0.7711111111111112
         ],
         "range": [
          0.9416869726225793,
          1.3740767730827075
         ],
         "showticklabels": true,
         "type": "linear"
        },
        "yaxis36": {
         "anchor": "x36",
         "autorange": true,
         "domain": [
          0.8011111111111111,
          0.8855555555555555
         ],
         "range": [
          0.7076188041917268,
          2.2875742421396787
         ],
         "showticklabels": true,
         "title": {},
         "type": "linear"
        },
        "yaxis37": {
         "anchor": "x37",
         "autorange": true,
         "domain": [
          0.8011111111111111,
          0.8855555555555555
         ],
         "range": [
          0.9123567932941149,
          1.604977501025038
         ],
         "showticklabels": true,
         "type": "linear"
        },
        "yaxis38": {
         "anchor": "x38",
         "autorange": true,
         "domain": [
          0.8011111111111111,
          0.8855555555555555
         ],
         "range": [
          1.1375674871900128,
          1.5989961410596853
         ],
         "showticklabels": true,
         "type": "linear"
        },
        "yaxis39": {
         "anchor": "x39",
         "autorange": true,
         "domain": [
          0.8011111111111111,
          0.8855555555555555
         ],
         "range": [
          0.5332420116636958,
          0.7973011606957707
         ],
         "showticklabels": true,
         "type": "linear"
        },
        "yaxis4": {
         "anchor": "x4",
         "autorange": true,
         "domain": [
          0,
          0.08444444444444445
         ],
         "range": [
          0.7171165840155647,
          0.8390202982895806
         ],
         "showticklabels": true,
         "type": "linear"
        },
        "yaxis40": {
         "anchor": "x40",
         "autorange": true,
         "domain": [
          0.8011111111111111,
          0.8855555555555555
         ],
         "range": [
          0.894545190923392,
          1.8009910430580585
         ],
         "showticklabels": true,
         "type": "linear"
        },
        "yaxis41": {
         "anchor": "x41",
         "autorange": true,
         "domain": [
          0.9155555555555556,
          1
         ],
         "range": [
          0.5271421476534914,
          2.486578299171536
         ],
         "showticklabels": true,
         "title": {},
         "type": "linear"
        },
        "yaxis42": {
         "anchor": "x42",
         "autorange": true,
         "domain": [
          0.9155555555555556,
          1
         ],
         "range": [
          0.8950289437763397,
          1.2943574279951549
         ],
         "showticklabels": true,
         "type": "linear"
        },
        "yaxis43": {
         "anchor": "x43",
         "autorange": true,
         "domain": [
          0.9155555555555556,
          1
         ],
         "range": [
          1.0718825087258839,
          1.646512372098735
         ],
         "showticklabels": true,
         "type": "linear"
        },
        "yaxis44": {
         "anchor": "x44",
         "autorange": true,
         "domain": [
          0.9155555555555556,
          1
         ],
         "range": [
          0.5456711608526447,
          0.8805161457898877
         ],
         "showticklabels": true,
         "type": "linear"
        },
        "yaxis45": {
         "anchor": "x45",
         "autorange": true,
         "domain": [
          0.9155555555555556,
          1
         ],
         "range": [
          0.9410434571727747,
          1.3937280349110925
         ],
         "showticklabels": true,
         "type": "linear"
        },
        "yaxis5": {
         "anchor": "x5",
         "autorange": true,
         "domain": [
          0,
          0.08444444444444445
         ],
         "range": [
          0.939795929339168,
          1.433105335487289
         ],
         "showticklabels": true,
         "type": "linear"
        },
        "yaxis6": {
         "anchor": "x6",
         "autorange": true,
         "domain": [
          0.11444444444444445,
          0.1988888888888889
         ],
         "range": [
          0.7672424552683638,
          1.7298927627161536
         ],
         "showticklabels": true,
         "title": {},
         "type": "linear"
        },
        "yaxis7": {
         "anchor": "x7",
         "autorange": true,
         "domain": [
          0.11444444444444445,
          0.1988888888888889
         ],
         "range": [
          0.9748652124244738,
          0.991304281966014
         ],
         "showticklabels": true,
         "type": "linear"
        },
        "yaxis8": {
         "anchor": "x8",
         "autorange": true,
         "domain": [
          0.11444444444444445,
          0.1988888888888889
         ],
         "range": [
          1.1455218140160297,
          1.5381049649044618
         ],
         "showticklabels": true,
         "type": "linear"
        },
        "yaxis9": {
         "anchor": "x9",
         "autorange": true,
         "domain": [
          0.11444444444444445,
          0.1988888888888889
         ],
         "range": [
          0.5446226677932395,
          1.1687663573386218
         ],
         "showticklabels": true,
         "type": "linear"
        }
       }
      },
      "text/html": [
       "<div>                            <div id=\"42d34661-3930-4e75-84b6-82cf88fa2882\" class=\"plotly-graph-div\" style=\"height:1000px; width:850px;\"></div>            <script type=\"text/javascript\">                require([\"plotly\"], function(Plotly) {                    window.PLOTLYENV=window.PLOTLYENV || {};                                    if (document.getElementById(\"42d34661-3930-4e75-84b6-82cf88fa2882\")) {                    Plotly.newPlot(                        \"42d34661-3930-4e75-84b6-82cf88fa2882\",                        [{\"hovertemplate\":\"method=IT-STGNN<br>model=DCRNN<br>dataset=chickenpox<br>mrate=%{x}<br>mse=%{y}<extra></extra>\",\"legendgroup\":\"IT-STGNN\",\"line\":{\"color\":\"#636efa\",\"dash\":\"dashdot\"},\"marker\":{\"symbol\":\"circle\"},\"mode\":\"lines+markers\",\"name\":\"IT-STGNN\",\"orientation\":\"v\",\"showlegend\":true,\"x\":[0.0,0.3,0.5,0.6,0.8],\"xaxis\":\"x41\",\"y\":[0.7262935300668081,0.7974194288253784,0.8688039183616638,0.9730672180652619,1.467026937007904],\"yaxis\":\"y41\",\"type\":\"scatter\"},{\"hovertemplate\":\"method=IT-STGNN<br>model=DCRNN<br>dataset=monte<br>mrate=%{x}<br>mse=%{y}<extra></extra>\",\"legendgroup\":\"IT-STGNN\",\"line\":{\"color\":\"#636efa\",\"dash\":\"dashdot\"},\"marker\":{\"symbol\":\"circle\"},\"mode\":\"lines+markers\",\"name\":\"IT-STGNN\",\"orientation\":\"v\",\"showlegend\":false,\"x\":[0.0,0.3,0.5,0.7,0.8],\"xaxis\":\"x42\",\"y\":[0.9356310884157817,0.9382766405741374,0.9491940677165985,1.0459894021352132,1.128611409664154],\"yaxis\":\"y42\",\"type\":\"scatter\"},{\"hovertemplate\":\"method=IT-STGNN<br>model=DCRNN<br>dataset=pedalme<br>mrate=%{x}<br>mse=%{y}<extra></extra>\",\"legendgroup\":\"IT-STGNN\",\"line\":{\"color\":\"#636efa\",\"dash\":\"dashdot\"},\"marker\":{\"symbol\":\"circle\"},\"mode\":\"lines+markers\",\"name\":\"IT-STGNN\",\"orientation\":\"v\",\"showlegend\":false,\"x\":[0.0,0.3,0.5,0.6,0.8],\"xaxis\":\"x43\",\"y\":[1.1311138921313815,1.1891250173250834,1.2333789745966592,1.3146649758021036,1.529643189907074],\"yaxis\":\"y43\",\"type\":\"scatter\"},{\"hovertemplate\":\"method=IT-STGNN<br>model=DCRNN<br>dataset=wikimath<br>mrate=%{x}<br>mse=%{y}<extra></extra>\",\"legendgroup\":\"IT-STGNN\",\"line\":{\"color\":\"#636efa\",\"dash\":\"dashdot\"},\"marker\":{\"symbol\":\"circle\"},\"mode\":\"lines+markers\",\"name\":\"IT-STGNN\",\"orientation\":\"v\",\"showlegend\":false,\"x\":[0.0,0.3,0.5,0.6,0.8],\"xaxis\":\"x44\",\"y\":[0.5821457962195079,0.5876641611258189,0.5897436062494914,0.5919398883978526,0.6724015136559804],\"yaxis\":\"y44\",\"type\":\"scatter\"},{\"hovertemplate\":\"method=IT-STGNN<br>model=DCRNN<br>dataset=windmillsmall<br>mrate=%{x}<br>mse=%{y}<extra></extra>\",\"legendgroup\":\"IT-STGNN\",\"line\":{\"color\":\"#636efa\",\"dash\":\"dashdot\"},\"marker\":{\"symbol\":\"circle\"},\"mode\":\"lines+markers\",\"name\":\"IT-STGNN\",\"orientation\":\"v\",\"showlegend\":false,\"x\":[0.0,0.5,0.7,0.8],\"xaxis\":\"x45\",\"y\":[0.9879489362239837,0.9943119585514069,1.116618851820628,1.1924490094184876],\"yaxis\":\"y45\",\"type\":\"scatter\"},{\"hovertemplate\":\"method=IT-STGNN<br>model=DyGrEncoder<br>dataset=chickenpox<br>mrate=%{x}<br>mse=%{y}<extra></extra>\",\"legendgroup\":\"IT-STGNN\",\"line\":{\"color\":\"#636efa\",\"dash\":\"dashdot\"},\"marker\":{\"symbol\":\"circle\"},\"mode\":\"lines+markers\",\"name\":\"IT-STGNN\",\"orientation\":\"v\",\"showlegend\":false,\"x\":[0.0,0.3,0.5,0.6,0.8],\"xaxis\":\"x36\",\"y\":[0.9102867841720581,0.8682008723417918,0.9145062724749248,1.0129274507363637,1.398728601137797],\"yaxis\":\"y36\",\"type\":\"scatter\"},{\"hovertemplate\":\"method=IT-STGNN<br>model=DyGrEncoder<br>dataset=monte<br>mrate=%{x}<br>mse=%{y}<extra></extra>\",\"legendgroup\":\"IT-STGNN\",\"line\":{\"color\":\"#636efa\",\"dash\":\"dashdot\"},\"marker\":{\"symbol\":\"circle\"},\"mode\":\"lines+markers\",\"name\":\"IT-STGNN\",\"orientation\":\"v\",\"showlegend\":false,\"x\":[0.0,0.3,0.5,0.7,0.8],\"xaxis\":\"x37\",\"y\":[1.0075618505477906,1.0232724726200104,1.099248456954956,1.2115114649136862,1.1973179936408997],\"yaxis\":\"y37\",\"type\":\"scatter\"},{\"hovertemplate\":\"method=IT-STGNN<br>model=DyGrEncoder<br>dataset=pedalme<br>mrate=%{x}<br>mse=%{y}<extra></extra>\",\"legendgroup\":\"IT-STGNN\",\"line\":{\"color\":\"#636efa\",\"dash\":\"dashdot\"},\"marker\":{\"symbol\":\"circle\"},\"mode\":\"lines+markers\",\"name\":\"IT-STGNN\",\"orientation\":\"v\",\"showlegend\":false,\"x\":[0.0,0.3,0.5,0.6,0.8],\"xaxis\":\"x38\",\"y\":[1.2018906633059183,1.2154395739237467,1.230454138914744,1.290368103981018,1.516058373451233],\"yaxis\":\"y38\",\"type\":\"scatter\"},{\"hovertemplate\":\"method=IT-STGNN<br>model=DyGrEncoder<br>dataset=wikimath<br>mrate=%{x}<br>mse=%{y}<extra></extra>\",\"legendgroup\":\"IT-STGNN\",\"line\":{\"color\":\"#636efa\",\"dash\":\"dashdot\"},\"marker\":{\"symbol\":\"circle\"},\"mode\":\"lines+markers\",\"name\":\"IT-STGNN\",\"orientation\":\"v\",\"showlegend\":false,\"x\":[0.0,0.3,0.5,0.6,0.8],\"xaxis\":\"x39\",\"y\":[0.5625448822975159,0.5782144705454508,0.5646102329095205,0.5660300393899281,0.6059201280275981],\"yaxis\":\"y39\",\"type\":\"scatter\"},{\"hovertemplate\":\"method=IT-STGNN<br>model=DyGrEncoder<br>dataset=windmillsmall<br>mrate=%{x}<br>mse=%{y}<extra></extra>\",\"legendgroup\":\"IT-STGNN\",\"line\":{\"color\":\"#636efa\",\"dash\":\"dashdot\"},\"marker\":{\"symbol\":\"circle\"},\"mode\":\"lines+markers\",\"name\":\"IT-STGNN\",\"orientation\":\"v\",\"showlegend\":false,\"x\":[0.0,0.5,0.7,0.8],\"xaxis\":\"x40\",\"y\":[0.988743931055069,0.995404036839803,1.126743221282959,1.2468897501627605],\"yaxis\":\"y40\",\"type\":\"scatter\"},{\"hovertemplate\":\"method=IT-STGNN<br>model=EvolveGCNH<br>dataset=chickenpox<br>mrate=%{x}<br>mse=%{y}<extra></extra>\",\"legendgroup\":\"IT-STGNN\",\"line\":{\"color\":\"#636efa\",\"dash\":\"dashdot\"},\"marker\":{\"symbol\":\"circle\"},\"mode\":\"lines+markers\",\"name\":\"IT-STGNN\",\"orientation\":\"v\",\"showlegend\":false,\"x\":[0.0,0.3,0.5,0.6,0.8],\"xaxis\":\"x31\",\"y\":[0.9961331367492676,1.0113655090332032,1.0263081113497416,1.0543007373809814,1.1400945703188579],\"yaxis\":\"y31\",\"type\":\"scatter\"},{\"hovertemplate\":\"method=IT-STGNN<br>model=EvolveGCNH<br>dataset=monte<br>mrate=%{x}<br>mse=%{y}<extra></extra>\",\"legendgroup\":\"IT-STGNN\",\"line\":{\"color\":\"#636efa\",\"dash\":\"dashdot\"},\"marker\":{\"symbol\":\"circle\"},\"mode\":\"lines+markers\",\"name\":\"IT-STGNN\",\"orientation\":\"v\",\"showlegend\":false,\"x\":[0.0,0.3,0.5,0.7,0.8],\"xaxis\":\"x32\",\"y\":[1.3576573431491852,1.4222269256909688,1.4418497562408448,1.647766613960266,1.9633623242378235],\"yaxis\":\"y32\",\"type\":\"scatter\"},{\"hovertemplate\":\"method=IT-STGNN<br>model=EvolveGCNH<br>dataset=pedalme<br>mrate=%{x}<br>mse=%{y}<extra></extra>\",\"legendgroup\":\"IT-STGNN\",\"line\":{\"color\":\"#636efa\",\"dash\":\"dashdot\"},\"marker\":{\"symbol\":\"circle\"},\"mode\":\"lines+markers\",\"name\":\"IT-STGNN\",\"orientation\":\"v\",\"showlegend\":false,\"x\":[0.0,0.3,0.5,0.6,0.8],\"xaxis\":\"x33\",\"y\":[1.2189862688382467,1.2488263448079426,1.2678825656572978,1.2531297127405803,1.2851717829704286],\"yaxis\":\"y33\",\"type\":\"scatter\"},{\"hovertemplate\":\"method=IT-STGNN<br>model=EvolveGCNH<br>dataset=wikimath<br>mrate=%{x}<br>mse=%{y}<extra></extra>\",\"legendgroup\":\"IT-STGNN\",\"line\":{\"color\":\"#636efa\",\"dash\":\"dashdot\"},\"marker\":{\"symbol\":\"circle\"},\"mode\":\"lines+markers\",\"name\":\"IT-STGNN\",\"orientation\":\"v\",\"showlegend\":false,\"x\":[0.0,0.3,0.5,0.6,0.8],\"xaxis\":\"x34\",\"y\":[0.7842468957106272,0.775075908501943,0.7911452790101369,0.7950286130110423,0.8772536794344584],\"yaxis\":\"y34\",\"type\":\"scatter\"},{\"hovertemplate\":\"method=IT-STGNN<br>model=EvolveGCNH<br>dataset=windmillsmall<br>mrate=%{x}<br>mse=%{y}<extra></extra>\",\"legendgroup\":\"IT-STGNN\",\"line\":{\"color\":\"#636efa\",\"dash\":\"dashdot\"},\"marker\":{\"symbol\":\"circle\"},\"mode\":\"lines+markers\",\"name\":\"IT-STGNN\",\"orientation\":\"v\",\"showlegend\":false,\"x\":[0.0,0.5,0.7],\"xaxis\":\"x35\",\"y\":[0.9856936732927958,1.0002388219038645,1.1291911323865256],\"yaxis\":\"y35\",\"type\":\"scatter\"},{\"hovertemplate\":\"method=IT-STGNN<br>model=EvolveGCNO<br>dataset=chickenpox<br>mrate=%{x}<br>mse=%{y}<extra></extra>\",\"legendgroup\":\"IT-STGNN\",\"line\":{\"color\":\"#636efa\",\"dash\":\"dashdot\"},\"marker\":{\"symbol\":\"circle\"},\"mode\":\"lines+markers\",\"name\":\"IT-STGNN\",\"orientation\":\"v\",\"showlegend\":false,\"x\":[0.0,0.3,0.5,0.6,0.8],\"xaxis\":\"x26\",\"y\":[0.9837769170602163,0.9984626730283102,1.0199275851249694,1.0501808325449626,1.1613912542661031],\"yaxis\":\"y26\",\"type\":\"scatter\"},{\"hovertemplate\":\"method=IT-STGNN<br>model=EvolveGCNO<br>dataset=monte<br>mrate=%{x}<br>mse=%{y}<extra></extra>\",\"legendgroup\":\"IT-STGNN\",\"line\":{\"color\":\"#636efa\",\"dash\":\"dashdot\"},\"marker\":{\"symbol\":\"circle\"},\"mode\":\"lines+markers\",\"name\":\"IT-STGNN\",\"orientation\":\"v\",\"showlegend\":false,\"x\":[0.0,0.3,0.5,0.7,0.8],\"xaxis\":\"x27\",\"y\":[1.3174769202868144,1.4178244153658548,1.446950610478719,1.9013519724210104,2.310218000411987],\"yaxis\":\"y27\",\"type\":\"scatter\"},{\"hovertemplate\":\"method=IT-STGNN<br>model=EvolveGCNO<br>dataset=pedalme<br>mrate=%{x}<br>mse=%{y}<extra></extra>\",\"legendgroup\":\"IT-STGNN\",\"line\":{\"color\":\"#636efa\",\"dash\":\"dashdot\"},\"marker\":{\"symbol\":\"circle\"},\"mode\":\"lines+markers\",\"name\":\"IT-STGNN\",\"orientation\":\"v\",\"showlegend\":false,\"x\":[0.0,0.3,0.5,0.6,0.8],\"xaxis\":\"x28\",\"y\":[1.2212571925587123,1.237326979637146,1.2616107980410258,1.2811598141988119,1.3172834277153016],\"yaxis\":\"y28\",\"type\":\"scatter\"},{\"hovertemplate\":\"method=IT-STGNN<br>model=EvolveGCNO<br>dataset=wikimath<br>mrate=%{x}<br>mse=%{y}<extra></extra>\",\"legendgroup\":\"IT-STGNN\",\"line\":{\"color\":\"#636efa\",\"dash\":\"dashdot\"},\"marker\":{\"symbol\":\"circle\"},\"mode\":\"lines+markers\",\"name\":\"IT-STGNN\",\"orientation\":\"v\",\"showlegend\":false,\"x\":[0.0,0.3,0.5,0.6,0.8],\"xaxis\":\"x29\",\"y\":[0.7345361292362214,0.7379984100659688,0.7436200221379597,0.7447938958803813,0.7801654100418091],\"yaxis\":\"y29\",\"type\":\"scatter\"},{\"hovertemplate\":\"method=IT-STGNN<br>model=EvolveGCNO<br>dataset=windmillsmall<br>mrate=%{x}<br>mse=%{y}<extra></extra>\",\"legendgroup\":\"IT-STGNN\",\"line\":{\"color\":\"#636efa\",\"dash\":\"dashdot\"},\"marker\":{\"symbol\":\"circle\"},\"mode\":\"lines+markers\",\"name\":\"IT-STGNN\",\"orientation\":\"v\",\"showlegend\":false,\"x\":[0.0,0.5,0.7,0.8],\"xaxis\":\"x30\",\"y\":[0.9836756110191345,0.9959156473477682,1.149026878674825,1.2675793051719666],\"yaxis\":\"y30\",\"type\":\"scatter\"},{\"hovertemplate\":\"method=IT-STGNN<br>model=GCLSTM<br>dataset=chickenpox<br>mrate=%{x}<br>mse=%{y}<extra></extra>\",\"legendgroup\":\"IT-STGNN\",\"line\":{\"color\":\"#636efa\",\"dash\":\"dashdot\"},\"marker\":{\"symbol\":\"circle\"},\"mode\":\"lines+markers\",\"name\":\"IT-STGNN\",\"orientation\":\"v\",\"showlegend\":false,\"x\":[0.0,0.3,0.5,0.6,0.8],\"xaxis\":\"x21\",\"y\":[0.877674525976181,0.8501742561658223,0.8993159830570221,1.0025737524032592,1.3705498377482097],\"yaxis\":\"y21\",\"type\":\"scatter\"},{\"hovertemplate\":\"method=IT-STGNN<br>model=GCLSTM<br>dataset=monte<br>mrate=%{x}<br>mse=%{y}<extra></extra>\",\"legendgroup\":\"IT-STGNN\",\"line\":{\"color\":\"#636efa\",\"dash\":\"dashdot\"},\"marker\":{\"symbol\":\"circle\"},\"mode\":\"lines+markers\",\"name\":\"IT-STGNN\",\"orientation\":\"v\",\"showlegend\":false,\"x\":[0.0,0.3,0.5,0.7,0.8],\"xaxis\":\"x22\",\"y\":[0.9690772255261739,0.9663439631462097,0.9628626505533854,1.0078295747439066,1.039767434199651],\"yaxis\":\"y22\",\"type\":\"scatter\"},{\"hovertemplate\":\"method=IT-STGNN<br>model=GCLSTM<br>dataset=pedalme<br>mrate=%{x}<br>mse=%{y}<extra></extra>\",\"legendgroup\":\"IT-STGNN\",\"line\":{\"color\":\"#636efa\",\"dash\":\"dashdot\"},\"marker\":{\"symbol\":\"circle\"},\"mode\":\"lines+markers\",\"name\":\"IT-STGNN\",\"orientation\":\"v\",\"showlegend\":false,\"x\":[0.0,0.3,0.5,0.6,0.8],\"xaxis\":\"x23\",\"y\":[1.1725218428505793,1.2071600476900737,1.2232555786768595,1.2627062519391379,1.3343246936798097],\"yaxis\":\"y23\",\"type\":\"scatter\"},{\"hovertemplate\":\"method=IT-STGNN<br>model=GCLSTM<br>dataset=wikimath<br>mrate=%{x}<br>mse=%{y}<extra></extra>\",\"legendgroup\":\"IT-STGNN\",\"line\":{\"color\":\"#636efa\",\"dash\":\"dashdot\"},\"marker\":{\"symbol\":\"circle\"},\"mode\":\"lines+markers\",\"name\":\"IT-STGNN\",\"orientation\":\"v\",\"showlegend\":false,\"x\":[0.0,0.3,0.5,0.6,0.8],\"xaxis\":\"x24\",\"y\":[0.6428504089514414,0.6282905658086141,0.6255914509296417,0.6502514521280924,0.8149297118186951],\"yaxis\":\"y24\",\"type\":\"scatter\"},{\"hovertemplate\":\"method=IT-STGNN<br>model=GCLSTM<br>dataset=windmillsmall<br>mrate=%{x}<br>mse=%{y}<extra></extra>\",\"legendgroup\":\"IT-STGNN\",\"line\":{\"color\":\"#636efa\",\"dash\":\"dashdot\"},\"marker\":{\"symbol\":\"circle\"},\"mode\":\"lines+markers\",\"name\":\"IT-STGNN\",\"orientation\":\"v\",\"showlegend\":false,\"x\":[0.0,0.5,0.7,0.8],\"xaxis\":\"x25\",\"y\":[0.9921382089455922,0.9955821732680002,1.1164294712005123,1.1969113230705262],\"yaxis\":\"y25\",\"type\":\"scatter\"},{\"hovertemplate\":\"method=IT-STGNN<br>model=GConvGRU<br>dataset=chickenpox<br>mrate=%{x}<br>mse=%{y}<extra></extra>\",\"legendgroup\":\"IT-STGNN\",\"line\":{\"color\":\"#636efa\",\"dash\":\"dashdot\"},\"marker\":{\"symbol\":\"circle\"},\"mode\":\"lines+markers\",\"name\":\"IT-STGNN\",\"orientation\":\"v\",\"showlegend\":false,\"x\":[0.0,0.3,0.5,0.6,0.8],\"xaxis\":\"x16\",\"y\":[0.7519446770350139,0.8508427083492279,0.9575517396132152,1.1203747113545737,1.585524276892344],\"yaxis\":\"y16\",\"type\":\"scatter\"},{\"hovertemplate\":\"method=IT-STGNN<br>model=GConvGRU<br>dataset=monte<br>mrate=%{x}<br>mse=%{y}<extra></extra>\",\"legendgroup\":\"IT-STGNN\",\"line\":{\"color\":\"#636efa\",\"dash\":\"dashdot\"},\"marker\":{\"symbol\":\"circle\"},\"mode\":\"lines+markers\",\"name\":\"IT-STGNN\",\"orientation\":\"v\",\"showlegend\":false,\"x\":[0.0,0.3,0.5,0.7,0.8],\"xaxis\":\"x17\",\"y\":[0.930523885289828,0.936832865079244,0.9438559095064799,1.0208435932795206,1.120380707581838],\"yaxis\":\"y17\",\"type\":\"scatter\"},{\"hovertemplate\":\"method=IT-STGNN<br>model=GConvGRU<br>dataset=pedalme<br>mrate=%{x}<br>mse=%{y}<extra></extra>\",\"legendgroup\":\"IT-STGNN\",\"line\":{\"color\":\"#636efa\",\"dash\":\"dashdot\"},\"marker\":{\"symbol\":\"circle\"},\"mode\":\"lines+markers\",\"name\":\"IT-STGNN\",\"orientation\":\"v\",\"showlegend\":false,\"x\":[0.0,0.3,0.5,0.6,0.8],\"xaxis\":\"x18\",\"y\":[1.2271701296170552,1.3959883054097493,1.464823031425476,1.5475072344144185,1.6745760758717856],\"yaxis\":\"y18\",\"type\":\"scatter\"},{\"hovertemplate\":\"method=IT-STGNN<br>model=GConvGRU<br>dataset=wikimath<br>mrate=%{x}<br>mse=%{y}<extra></extra>\",\"legendgroup\":\"IT-STGNN\",\"line\":{\"color\":\"#636efa\",\"dash\":\"dashdot\"},\"marker\":{\"symbol\":\"circle\"},\"mode\":\"lines+markers\",\"name\":\"IT-STGNN\",\"orientation\":\"v\",\"showlegend\":false,\"x\":[0.0,0.3,0.5,0.6,0.8],\"xaxis\":\"x19\",\"y\":[0.5286022325356802,0.5180512388547261,0.5239666879177094,0.5388371666272481,0.6867994070053101],\"yaxis\":\"y19\",\"type\":\"scatter\"},{\"hovertemplate\":\"method=IT-STGNN<br>model=GConvGRU<br>dataset=windmillsmall<br>mrate=%{x}<br>mse=%{y}<extra></extra>\",\"legendgroup\":\"IT-STGNN\",\"line\":{\"color\":\"#636efa\",\"dash\":\"dashdot\"},\"marker\":{\"symbol\":\"circle\"},\"mode\":\"lines+markers\",\"name\":\"IT-STGNN\",\"orientation\":\"v\",\"showlegend\":false,\"x\":[0.0,0.5,0.7,0.8],\"xaxis\":\"x20\",\"y\":[1.0036083248353773,1.01889688372612,1.1938863454326507,1.3198695699373881],\"yaxis\":\"y20\",\"type\":\"scatter\"},{\"hovertemplate\":\"method=IT-STGNN<br>model=GConvLSTM<br>dataset=chickenpox<br>mrate=%{x}<br>mse=%{y}<extra></extra>\",\"legendgroup\":\"IT-STGNN\",\"line\":{\"color\":\"#636efa\",\"dash\":\"dashdot\"},\"marker\":{\"symbol\":\"circle\"},\"mode\":\"lines+markers\",\"name\":\"IT-STGNN\",\"orientation\":\"v\",\"showlegend\":false,\"x\":[0.0,0.3,0.5,0.6,0.8],\"xaxis\":\"x11\",\"y\":[0.9809238533178966,0.8715872526168823,0.9009263972441356,1.0039266228675843,1.4328649520874024],\"yaxis\":\"y11\",\"type\":\"scatter\"},{\"hovertemplate\":\"method=IT-STGNN<br>model=GConvLSTM<br>dataset=monte<br>mrate=%{x}<br>mse=%{y}<extra></extra>\",\"legendgroup\":\"IT-STGNN\",\"line\":{\"color\":\"#636efa\",\"dash\":\"dashdot\"},\"marker\":{\"symbol\":\"circle\"},\"mode\":\"lines+markers\",\"name\":\"IT-STGNN\",\"orientation\":\"v\",\"showlegend\":false,\"x\":[0.0,0.3,0.5,0.7,0.8],\"xaxis\":\"x12\",\"y\":[0.9592961370944977,0.95368559161822,0.9486012677351634,1.0076044420401256,1.0404942393302918],\"yaxis\":\"y12\",\"type\":\"scatter\"},{\"hovertemplate\":\"method=IT-STGNN<br>model=GConvLSTM<br>dataset=pedalme<br>mrate=%{x}<br>mse=%{y}<extra></extra>\",\"legendgroup\":\"IT-STGNN\",\"line\":{\"color\":\"#636efa\",\"dash\":\"dashdot\"},\"marker\":{\"symbol\":\"circle\"},\"mode\":\"lines+markers\",\"name\":\"IT-STGNN\",\"orientation\":\"v\",\"showlegend\":false,\"x\":[0.0,0.3,0.5,0.6,0.8],\"xaxis\":\"x13\",\"y\":[1.2127226988474529,1.2290040771166484,1.2488541682561238,1.2557734886805216,1.2973714788754782],\"yaxis\":\"y13\",\"type\":\"scatter\"},{\"hovertemplate\":\"method=IT-STGNN<br>model=GConvLSTM<br>dataset=wikimath<br>mrate=%{x}<br>mse=%{y}<extra></extra>\",\"legendgroup\":\"IT-STGNN\",\"line\":{\"color\":\"#636efa\",\"dash\":\"dashdot\"},\"marker\":{\"symbol\":\"circle\"},\"mode\":\"lines+markers\",\"name\":\"IT-STGNN\",\"orientation\":\"v\",\"showlegend\":false,\"x\":[0.0,0.3,0.5,0.6,0.8],\"xaxis\":\"x14\",\"y\":[0.6263718565305074,0.6308103601137797,0.6686412215232849,0.7313987930615743,0.9203040659427643],\"yaxis\":\"y14\",\"type\":\"scatter\"},{\"hovertemplate\":\"method=IT-STGNN<br>model=GConvLSTM<br>dataset=windmillsmall<br>mrate=%{x}<br>mse=%{y}<extra></extra>\",\"legendgroup\":\"IT-STGNN\",\"line\":{\"color\":\"#636efa\",\"dash\":\"dashdot\"},\"marker\":{\"symbol\":\"circle\"},\"mode\":\"lines+markers\",\"name\":\"IT-STGNN\",\"orientation\":\"v\",\"showlegend\":false,\"x\":[0.0,0.5,0.7,0.8],\"xaxis\":\"x15\",\"y\":[1.0143079911508868,0.9965369800726572,1.1418147087097168,1.2543538133303325],\"yaxis\":\"y15\",\"type\":\"scatter\"},{\"hovertemplate\":\"method=IT-STGNN<br>model=LRGCN<br>dataset=chickenpox<br>mrate=%{x}<br>mse=%{y}<extra></extra>\",\"legendgroup\":\"IT-STGNN\",\"line\":{\"color\":\"#636efa\",\"dash\":\"dashdot\"},\"marker\":{\"symbol\":\"circle\"},\"mode\":\"lines+markers\",\"name\":\"IT-STGNN\",\"orientation\":\"v\",\"showlegend\":false,\"x\":[0.0,0.3,0.5,0.6,0.8],\"xaxis\":\"x6\",\"y\":[0.8650834282239278,0.8700646877288818,0.9307576994101207,1.017380851507187,1.3335242430369059],\"yaxis\":\"y6\",\"type\":\"scatter\"},{\"hovertemplate\":\"method=IT-STGNN<br>model=LRGCN<br>dataset=monte<br>mrate=%{x}<br>mse=%{y}<extra></extra>\",\"legendgroup\":\"IT-STGNN\",\"line\":{\"color\":\"#636efa\",\"dash\":\"dashdot\"},\"marker\":{\"symbol\":\"circle\"},\"mode\":\"lines+markers\",\"name\":\"IT-STGNN\",\"orientation\":\"v\",\"showlegend\":false,\"x\":[0.0,0.3,0.5,0.7,0.8],\"xaxis\":\"x7\",\"y\":[0.9765360315640768,0.9791332006454467,0.9841234763463338,0.9825885375340779,0.9882083714008332],\"yaxis\":\"y7\",\"type\":\"scatter\"},{\"hovertemplate\":\"method=IT-STGNN<br>model=LRGCN<br>dataset=pedalme<br>mrate=%{x}<br>mse=%{y}<extra></extra>\",\"legendgroup\":\"IT-STGNN\",\"line\":{\"color\":\"#636efa\",\"dash\":\"dashdot\"},\"marker\":{\"symbol\":\"circle\"},\"mode\":\"lines+markers\",\"name\":\"IT-STGNN\",\"orientation\":\"v\",\"showlegend\":false,\"x\":[0.0,0.3,0.5,0.6,0.8],\"xaxis\":\"x8\",\"y\":[1.1854228218396505,1.203865937391917,1.2332569400469462,1.282073473930359,1.4152490297953289],\"yaxis\":\"y8\",\"type\":\"scatter\"},{\"hovertemplate\":\"method=IT-STGNN<br>model=LRGCN<br>dataset=wikimath<br>mrate=%{x}<br>mse=%{y}<extra></extra>\",\"legendgroup\":\"IT-STGNN\",\"line\":{\"color\":\"#636efa\",\"dash\":\"dashdot\"},\"marker\":{\"symbol\":\"circle\"},\"mode\":\"lines+markers\",\"name\":\"IT-STGNN\",\"orientation\":\"v\",\"showlegend\":false,\"x\":[0.0,0.3,0.5,0.6,0.8],\"xaxis\":\"x9\",\"y\":[0.6102288663387299,0.6194596389929453,0.6211064040660859,0.6475779275099437,0.7690745731194814],\"yaxis\":\"y9\",\"type\":\"scatter\"},{\"hovertemplate\":\"method=IT-STGNN<br>model=LRGCN<br>dataset=windmillsmall<br>mrate=%{x}<br>mse=%{y}<extra></extra>\",\"legendgroup\":\"IT-STGNN\",\"line\":{\"color\":\"#636efa\",\"dash\":\"dashdot\"},\"marker\":{\"symbol\":\"circle\"},\"mode\":\"lines+markers\",\"name\":\"IT-STGNN\",\"orientation\":\"v\",\"showlegend\":false,\"x\":[0.0,0.5,0.7,0.8],\"xaxis\":\"x10\",\"y\":[0.9868966420491536,0.994585903485616,1.1100961804389953,1.1903531988461813],\"yaxis\":\"y10\",\"type\":\"scatter\"},{\"hovertemplate\":\"method=IT-STGNN<br>model=TGCN<br>dataset=chickenpox<br>mrate=%{x}<br>mse=%{y}<extra></extra>\",\"legendgroup\":\"IT-STGNN\",\"line\":{\"color\":\"#636efa\",\"dash\":\"dashdot\"},\"marker\":{\"symbol\":\"circle\"},\"mode\":\"lines+markers\",\"name\":\"IT-STGNN\",\"orientation\":\"v\",\"showlegend\":false,\"x\":[0.0,0.3,0.5,0.6,0.8],\"xaxis\":\"x\",\"y\":[1.0929674585660298,1.0423652052879333,1.031901470820109,1.0539491613705954,1.1833927472432455],\"yaxis\":\"y\",\"type\":\"scatter\"},{\"hovertemplate\":\"method=IT-STGNN<br>model=TGCN<br>dataset=monte<br>mrate=%{x}<br>mse=%{y}<extra></extra>\",\"legendgroup\":\"IT-STGNN\",\"line\":{\"color\":\"#636efa\",\"dash\":\"dashdot\"},\"marker\":{\"symbol\":\"circle\"},\"mode\":\"lines+markers\",\"name\":\"IT-STGNN\",\"orientation\":\"v\",\"showlegend\":false,\"x\":[0.0,0.3,0.5,0.7,0.8],\"xaxis\":\"x2\",\"y\":[0.9838025073210398,0.9873201111952464,0.9909935673077901,1.0339128216107687,1.0953158597151438],\"yaxis\":\"y2\",\"type\":\"scatter\"},{\"hovertemplate\":\"method=IT-STGNN<br>model=TGCN<br>dataset=pedalme<br>mrate=%{x}<br>mse=%{y}<extra></extra>\",\"legendgroup\":\"IT-STGNN\",\"line\":{\"color\":\"#636efa\",\"dash\":\"dashdot\"},\"marker\":{\"symbol\":\"circle\"},\"mode\":\"lines+markers\",\"name\":\"IT-STGNN\",\"orientation\":\"v\",\"showlegend\":false,\"x\":[0.0,0.3,0.5,0.6,0.8],\"xaxis\":\"x3\",\"y\":[1.3397087984614902,1.277748954296112,1.256255062421163,1.2538527965545654,1.270234469572703],\"yaxis\":\"y3\",\"type\":\"scatter\"},{\"hovertemplate\":\"method=IT-STGNN<br>model=TGCN<br>dataset=wikimath<br>mrate=%{x}<br>mse=%{y}<extra></extra>\",\"legendgroup\":\"IT-STGNN\",\"line\":{\"color\":\"#636efa\",\"dash\":\"dashdot\"},\"marker\":{\"symbol\":\"circle\"},\"mode\":\"lines+markers\",\"name\":\"IT-STGNN\",\"orientation\":\"v\",\"showlegend\":false,\"x\":[0.0,0.3,0.5,0.6,0.8],\"xaxis\":\"x4\",\"y\":[0.7295065224170685,0.7392048398653667,0.7566385646661122,0.7416430433591207,0.7708451449871063],\"yaxis\":\"y4\",\"type\":\"scatter\"},{\"hovertemplate\":\"method=IT-STGNN<br>model=TGCN<br>dataset=windmillsmall<br>mrate=%{x}<br>mse=%{y}<extra></extra>\",\"legendgroup\":\"IT-STGNN\",\"line\":{\"color\":\"#636efa\",\"dash\":\"dashdot\"},\"marker\":{\"symbol\":\"circle\"},\"mode\":\"lines+markers\",\"name\":\"IT-STGNN\",\"orientation\":\"v\",\"showlegend\":false,\"x\":[0.0,0.5,0.7,0.8],\"xaxis\":\"x5\",\"y\":[0.9917504866917928,0.9967518150806427,1.0714038173357645,1.128608759244283],\"yaxis\":\"y5\",\"type\":\"scatter\"},{\"hovertemplate\":\"method=STGNN<br>model=DCRNN<br>dataset=chickenpox<br>mrate=%{x}<br>mse=%{y}<extra></extra>\",\"legendgroup\":\"STGNN\",\"line\":{\"color\":\"#EF553B\",\"dash\":\"dashdot\"},\"marker\":{\"symbol\":\"circle\"},\"mode\":\"lines+markers\",\"name\":\"STGNN\",\"orientation\":\"v\",\"showlegend\":true,\"x\":[0.0,0.3,0.5,0.6,0.8],\"xaxis\":\"x41\",\"y\":[0.7273993372917176,1.0321223318576813,1.4730505307515462,1.8480618437131247,2.2874269167582195],\"yaxis\":\"y41\",\"type\":\"scatter\"},{\"hovertemplate\":\"method=STGNN<br>model=DCRNN<br>dataset=monte<br>mrate=%{x}<br>mse=%{y}<extra></extra>\",\"legendgroup\":\"STGNN\",\"line\":{\"color\":\"#EF553B\",\"dash\":\"dashdot\"},\"marker\":{\"symbol\":\"circle\"},\"mode\":\"lines+markers\",\"name\":\"STGNN\",\"orientation\":\"v\",\"showlegend\":false,\"x\":[0.0,0.3,0.5,0.7,0.8],\"xaxis\":\"x42\",\"y\":[0.9356155276298523,1.0300873835881552,1.1521857500076294,1.2537708441416422,1.2221420168876649],\"yaxis\":\"y42\",\"type\":\"scatter\"},{\"hovertemplate\":\"method=STGNN<br>model=DCRNN<br>dataset=pedalme<br>mrate=%{x}<br>mse=%{y}<extra></extra>\",\"legendgroup\":\"STGNN\",\"line\":{\"color\":\"#EF553B\",\"dash\":\"dashdot\"},\"marker\":{\"symbol\":\"circle\"},\"mode\":\"lines+markers\",\"name\":\"STGNN\",\"orientation\":\"v\",\"showlegend\":false,\"x\":[0.0,0.3,0.5,0.6,0.8],\"xaxis\":\"x43\",\"y\":[1.1302862140867445,1.2766597708066305,1.4470741510391236,1.5523638804753621,1.5881086667378743],\"yaxis\":\"y43\",\"type\":\"scatter\"},{\"hovertemplate\":\"method=STGNN<br>model=DCRNN<br>dataset=wikimath<br>mrate=%{x}<br>mse=%{y}<extra></extra>\",\"legendgroup\":\"STGNN\",\"line\":{\"color\":\"#EF553B\",\"dash\":\"dashdot\"},\"marker\":{\"symbol\":\"circle\"},\"mode\":\"lines+markers\",\"name\":\"STGNN\",\"orientation\":\"v\",\"showlegend\":false,\"x\":[0.0,0.3,0.5,0.6,0.8],\"xaxis\":\"x44\",\"y\":[0.579703829685847,0.6030041297276815,0.6518642942110697,0.6880961994330088,0.8464834769566854],\"yaxis\":\"y44\",\"type\":\"scatter\"},{\"hovertemplate\":\"method=STGNN<br>model=DCRNN<br>dataset=windmillsmall<br>mrate=%{x}<br>mse=%{y}<extra></extra>\",\"legendgroup\":\"STGNN\",\"line\":{\"color\":\"#EF553B\",\"dash\":\"dashdot\"},\"marker\":{\"symbol\":\"circle\"},\"mode\":\"lines+markers\",\"name\":\"STGNN\",\"orientation\":\"v\",\"showlegend\":false,\"x\":[0.0,0.5,0.7,0.8],\"xaxis\":\"x45\",\"y\":[0.98705299894015,1.2669925530751547,1.3477184931437174,1.3426406820615133],\"yaxis\":\"y45\",\"type\":\"scatter\"},{\"hovertemplate\":\"method=STGNN<br>model=DyGrEncoder<br>dataset=chickenpox<br>mrate=%{x}<br>mse=%{y}<extra></extra>\",\"legendgroup\":\"STGNN\",\"line\":{\"color\":\"#EF553B\",\"dash\":\"dashdot\"},\"marker\":{\"symbol\":\"circle\"},\"mode\":\"lines+markers\",\"name\":\"STGNN\",\"orientation\":\"v\",\"showlegend\":false,\"x\":[0.0,0.3,0.5,0.6,0.8],\"xaxis\":\"x36\",\"y\":[0.9017379403114318,1.0801025032997131,1.5404859145482381,1.8070445855458577,2.126992173989614],\"yaxis\":\"y36\",\"type\":\"scatter\"},{\"hovertemplate\":\"method=STGNN<br>model=DyGrEncoder<br>dataset=monte<br>mrate=%{x}<br>mse=%{y}<extra></extra>\",\"legendgroup\":\"STGNN\",\"line\":{\"color\":\"#EF553B\",\"dash\":\"dashdot\"},\"marker\":{\"symbol\":\"circle\"},\"mode\":\"lines+markers\",\"name\":\"STGNN\",\"orientation\":\"v\",\"showlegend\":false,\"x\":[0.0,0.3,0.5,0.7,0.8],\"xaxis\":\"x37\",\"y\":[0.9827527443567912,1.2673101584116617,1.4070239265759785,1.5345815499623616,1.5002676169077556],\"yaxis\":\"y37\",\"type\":\"scatter\"},{\"hovertemplate\":\"method=STGNN<br>model=DyGrEncoder<br>dataset=pedalme<br>mrate=%{x}<br>mse=%{y}<extra></extra>\",\"legendgroup\":\"STGNN\",\"line\":{\"color\":\"#EF553B\",\"dash\":\"dashdot\"},\"marker\":{\"symbol\":\"circle\"},\"mode\":\"lines+markers\",\"name\":\"STGNN\",\"orientation\":\"v\",\"showlegend\":false,\"x\":[0.0,0.3,0.5,0.6,0.8],\"xaxis\":\"x38\",\"y\":[1.1844657513830397,1.2929784417152406,1.404069177309672,1.4894124229749044,1.5520978768666585],\"yaxis\":\"y38\",\"type\":\"scatter\"},{\"hovertemplate\":\"method=STGNN<br>model=DyGrEncoder<br>dataset=wikimath<br>mrate=%{x}<br>mse=%{y}<extra></extra>\",\"legendgroup\":\"STGNN\",\"line\":{\"color\":\"#EF553B\",\"dash\":\"dashdot\"},\"marker\":{\"symbol\":\"circle\"},\"mode\":\"lines+markers\",\"name\":\"STGNN\",\"orientation\":\"v\",\"showlegend\":false,\"x\":[0.0,0.3,0.5,0.6,0.8],\"xaxis\":\"x39\",\"y\":[0.5600802143414815,0.5617958088715871,0.6135105192661285,0.6438442011674245,0.770462958017985],\"yaxis\":\"y39\",\"type\":\"scatter\"},{\"hovertemplate\":\"method=STGNN<br>model=DyGrEncoder<br>dataset=windmillsmall<br>mrate=%{x}<br>mse=%{y}<extra></extra>\",\"legendgroup\":\"STGNN\",\"line\":{\"color\":\"#EF553B\",\"dash\":\"dashdot\"},\"marker\":{\"symbol\":\"circle\"},\"mode\":\"lines+markers\",\"name\":\"STGNN\",\"orientation\":\"v\",\"showlegend\":false,\"x\":[0.0,0.5,0.7,0.8],\"xaxis\":\"x40\",\"y\":[0.9866737067699433,1.3732937534650167,1.7088625272115072,1.694408905506134],\"yaxis\":\"y40\",\"type\":\"scatter\"},{\"hovertemplate\":\"method=STGNN<br>model=EvolveGCNH<br>dataset=chickenpox<br>mrate=%{x}<br>mse=%{y}<extra></extra>\",\"legendgroup\":\"STGNN\",\"line\":{\"color\":\"#EF553B\",\"dash\":\"dashdot\"},\"marker\":{\"symbol\":\"circle\"},\"mode\":\"lines+markers\",\"name\":\"STGNN\",\"orientation\":\"v\",\"showlegend\":false,\"x\":[0.0,0.3,0.5,0.6,0.8],\"xaxis\":\"x31\",\"y\":[1.0039118786652883,1.057721447944641,1.1216460744539896,1.1620551586151122,1.2029269218444825],\"yaxis\":\"y31\",\"type\":\"scatter\"},{\"hovertemplate\":\"method=STGNN<br>model=EvolveGCNH<br>dataset=monte<br>mrate=%{x}<br>mse=%{y}<extra></extra>\",\"legendgroup\":\"STGNN\",\"line\":{\"color\":\"#EF553B\",\"dash\":\"dashdot\"},\"marker\":{\"symbol\":\"circle\"},\"mode\":\"lines+markers\",\"name\":\"STGNN\",\"orientation\":\"v\",\"showlegend\":false,\"x\":[0.0,0.3,0.5,0.7,0.8],\"xaxis\":\"x32\",\"y\":[1.005818854769071,1.5866058111190795,1.9638814051946005,2.2074975768725076,2.1565616528193154],\"yaxis\":\"y32\",\"type\":\"scatter\"},{\"hovertemplate\":\"method=STGNN<br>model=EvolveGCNH<br>dataset=pedalme<br>mrate=%{x}<br>mse=%{y}<extra></extra>\",\"legendgroup\":\"STGNN\",\"line\":{\"color\":\"#EF553B\",\"dash\":\"dashdot\"},\"marker\":{\"symbol\":\"circle\"},\"mode\":\"lines+markers\",\"name\":\"STGNN\",\"orientation\":\"v\",\"showlegend\":false,\"x\":[0.0,0.3,0.5,0.6,0.8],\"xaxis\":\"x33\",\"y\":[1.2009795599513584,1.2463468631108603,1.2951630751291912,1.284329617023468,1.3214564204216004],\"yaxis\":\"y33\",\"type\":\"scatter\"},{\"hovertemplate\":\"method=STGNN<br>model=EvolveGCNH<br>dataset=wikimath<br>mrate=%{x}<br>mse=%{y}<extra></extra>\",\"legendgroup\":\"STGNN\",\"line\":{\"color\":\"#EF553B\",\"dash\":\"dashdot\"},\"marker\":{\"symbol\":\"circle\"},\"mode\":\"lines+markers\",\"name\":\"STGNN\",\"orientation\":\"v\",\"showlegend\":false,\"x\":[0.0,0.3,0.5,0.6,0.8],\"xaxis\":\"x34\",\"y\":[0.770507158835729,0.7869792938232422,0.8044674317042033,0.8427968084812164,0.914908234278361],\"yaxis\":\"y34\",\"type\":\"scatter\"},{\"hovertemplate\":\"method=STGNN<br>model=EvolveGCNH<br>dataset=windmillsmall<br>mrate=%{x}<br>mse=%{y}<extra></extra>\",\"legendgroup\":\"STGNN\",\"line\":{\"color\":\"#EF553B\",\"dash\":\"dashdot\"},\"marker\":{\"symbol\":\"circle\"},\"mode\":\"lines+markers\",\"name\":\"STGNN\",\"orientation\":\"v\",\"showlegend\":false,\"x\":[0.0,0.5,0.7],\"xaxis\":\"x35\",\"y\":[0.9856338123480479,1.214960547288259,1.3301299333572387],\"yaxis\":\"y35\",\"type\":\"scatter\"},{\"hovertemplate\":\"method=STGNN<br>model=EvolveGCNO<br>dataset=chickenpox<br>mrate=%{x}<br>mse=%{y}<extra></extra>\",\"legendgroup\":\"STGNN\",\"line\":{\"color\":\"#EF553B\",\"dash\":\"dashdot\"},\"marker\":{\"symbol\":\"circle\"},\"mode\":\"lines+markers\",\"name\":\"STGNN\",\"orientation\":\"v\",\"showlegend\":false,\"x\":[0.0,0.3,0.5,0.6,0.8],\"xaxis\":\"x26\",\"y\":[0.9880264123280843,1.053731127580007,1.1448416352272033,1.2049764434496562,1.2336700876553854],\"yaxis\":\"y26\",\"type\":\"scatter\"},{\"hovertemplate\":\"method=STGNN<br>model=EvolveGCNO<br>dataset=monte<br>mrate=%{x}<br>mse=%{y}<extra></extra>\",\"legendgroup\":\"STGNN\",\"line\":{\"color\":\"#EF553B\",\"dash\":\"dashdot\"},\"marker\":{\"symbol\":\"circle\"},\"mode\":\"lines+markers\",\"name\":\"STGNN\",\"orientation\":\"v\",\"showlegend\":false,\"x\":[0.0,0.3,0.5,0.7,0.8],\"xaxis\":\"x27\",\"y\":[0.9970530728499095,1.7166413466135662,2.1826417803764344,2.6760526339213055,2.8427196383476256],\"yaxis\":\"y27\",\"type\":\"scatter\"},{\"hovertemplate\":\"method=STGNN<br>model=EvolveGCNO<br>dataset=pedalme<br>mrate=%{x}<br>mse=%{y}<extra></extra>\",\"legendgroup\":\"STGNN\",\"line\":{\"color\":\"#EF553B\",\"dash\":\"dashdot\"},\"marker\":{\"symbol\":\"circle\"},\"mode\":\"lines+markers\",\"name\":\"STGNN\",\"orientation\":\"v\",\"showlegend\":false,\"x\":[0.0,0.3,0.5,0.6,0.8],\"xaxis\":\"x28\",\"y\":[1.2347244011031258,1.2698127110799153,1.3107923189798991,1.3021109422047934,1.3207719405492147],\"yaxis\":\"y28\",\"type\":\"scatter\"},{\"hovertemplate\":\"method=STGNN<br>model=EvolveGCNO<br>dataset=wikimath<br>mrate=%{x}<br>mse=%{y}<extra></extra>\",\"legendgroup\":\"STGNN\",\"line\":{\"color\":\"#EF553B\",\"dash\":\"dashdot\"},\"marker\":{\"symbol\":\"circle\"},\"mode\":\"lines+markers\",\"name\":\"STGNN\",\"orientation\":\"v\",\"showlegend\":false,\"x\":[0.0,0.3,0.5,0.6,0.8],\"xaxis\":\"x29\",\"y\":[0.7337246815363566,0.7430313646793365,0.7589549700419108,0.7754075646400451,0.86331374446551],\"yaxis\":\"y29\",\"type\":\"scatter\"},{\"hovertemplate\":\"method=STGNN<br>model=EvolveGCNO<br>dataset=windmillsmall<br>mrate=%{x}<br>mse=%{y}<extra></extra>\",\"legendgroup\":\"STGNN\",\"line\":{\"color\":\"#EF553B\",\"dash\":\"dashdot\"},\"marker\":{\"symbol\":\"circle\"},\"mode\":\"lines+markers\",\"name\":\"STGNN\",\"orientation\":\"v\",\"showlegend\":false,\"x\":[0.0,0.5,0.7,0.8],\"xaxis\":\"x30\",\"y\":[0.9828523218631744,1.2715096314748129,1.494529922803243,1.5369391202926637],\"yaxis\":\"y30\",\"type\":\"scatter\"},{\"hovertemplate\":\"method=STGNN<br>model=GCLSTM<br>dataset=chickenpox<br>mrate=%{x}<br>mse=%{y}<extra></extra>\",\"legendgroup\":\"STGNN\",\"line\":{\"color\":\"#EF553B\",\"dash\":\"dashdot\"},\"marker\":{\"symbol\":\"circle\"},\"mode\":\"lines+markers\",\"name\":\"STGNN\",\"orientation\":\"v\",\"showlegend\":false,\"x\":[0.0,0.3,0.5,0.6,0.8],\"xaxis\":\"x21\",\"y\":[0.8917715013027191,1.0497510651747386,1.5143744508425394,1.808076790968577,2.1722838799158732],\"yaxis\":\"y21\",\"type\":\"scatter\"},{\"hovertemplate\":\"method=STGNN<br>model=GCLSTM<br>dataset=monte<br>mrate=%{x}<br>mse=%{y}<extra></extra>\",\"legendgroup\":\"STGNN\",\"line\":{\"color\":\"#EF553B\",\"dash\":\"dashdot\"},\"marker\":{\"symbol\":\"circle\"},\"mode\":\"lines+markers\",\"name\":\"STGNN\",\"orientation\":\"v\",\"showlegend\":false,\"x\":[0.0,0.3,0.5,0.7,0.8],\"xaxis\":\"x22\",\"y\":[0.9700358351071675,1.0241592288017274,1.106816679239273,1.1494606018066407,1.1458539923032125],\"yaxis\":\"y22\",\"type\":\"scatter\"},{\"hovertemplate\":\"method=STGNN<br>model=GCLSTM<br>dataset=pedalme<br>mrate=%{x}<br>mse=%{y}<extra></extra>\",\"legendgroup\":\"STGNN\",\"line\":{\"color\":\"#EF553B\",\"dash\":\"dashdot\"},\"marker\":{\"symbol\":\"circle\"},\"mode\":\"lines+markers\",\"name\":\"STGNN\",\"orientation\":\"v\",\"showlegend\":false,\"x\":[0.0,0.3,0.5,0.6,0.8],\"xaxis\":\"x23\",\"y\":[1.1910131997532314,1.257922653357188,1.3449461420377096,1.3859962304433187,1.402389685312907],\"yaxis\":\"y23\",\"type\":\"scatter\"},{\"hovertemplate\":\"method=STGNN<br>model=GCLSTM<br>dataset=wikimath<br>mrate=%{x}<br>mse=%{y}<extra></extra>\",\"legendgroup\":\"STGNN\",\"line\":{\"color\":\"#EF553B\",\"dash\":\"dashdot\"},\"marker\":{\"symbol\":\"circle\"},\"mode\":\"lines+markers\",\"name\":\"STGNN\",\"orientation\":\"v\",\"showlegend\":false,\"x\":[0.0,0.3,0.5,0.6,0.8],\"xaxis\":\"x24\",\"y\":[0.644963405529658,0.6736441890398661,0.824881660938263,0.9423624296983083,1.406770400206248],\"yaxis\":\"y24\",\"type\":\"scatter\"},{\"hovertemplate\":\"method=STGNN<br>model=GCLSTM<br>dataset=windmillsmall<br>mrate=%{x}<br>mse=%{y}<extra></extra>\",\"legendgroup\":\"STGNN\",\"line\":{\"color\":\"#EF553B\",\"dash\":\"dashdot\"},\"marker\":{\"symbol\":\"circle\"},\"mode\":\"lines+markers\",\"name\":\"STGNN\",\"orientation\":\"v\",\"showlegend\":false,\"x\":[0.0,0.5,0.7,0.8],\"xaxis\":\"x25\",\"y\":[0.9923375864823659,1.3417901277542115,1.5732998040414625,1.5694031119346619],\"yaxis\":\"y25\",\"type\":\"scatter\"},{\"hovertemplate\":\"method=STGNN<br>model=GConvGRU<br>dataset=chickenpox<br>mrate=%{x}<br>mse=%{y}<extra></extra>\",\"legendgroup\":\"STGNN\",\"line\":{\"color\":\"#EF553B\",\"dash\":\"dashdot\"},\"marker\":{\"symbol\":\"circle\"},\"mode\":\"lines+markers\",\"name\":\"STGNN\",\"orientation\":\"v\",\"showlegend\":false,\"x\":[0.0,0.3,0.5,0.6,0.8],\"xaxis\":\"x16\",\"y\":[0.752304365237554,1.0873496949672699,1.5300888339678447,1.7527565677960715,2.528949332237244],\"yaxis\":\"y16\",\"type\":\"scatter\"},{\"hovertemplate\":\"method=STGNN<br>model=GConvGRU<br>dataset=monte<br>mrate=%{x}<br>mse=%{y}<extra></extra>\",\"legendgroup\":\"STGNN\",\"line\":{\"color\":\"#EF553B\",\"dash\":\"dashdot\"},\"marker\":{\"symbol\":\"circle\"},\"mode\":\"lines+markers\",\"name\":\"STGNN\",\"orientation\":\"v\",\"showlegend\":false,\"x\":[0.0,0.3,0.5,0.7,0.8],\"xaxis\":\"x17\",\"y\":[0.9306245803833008,0.9866827289263408,1.1160845796267191,1.3631733258565266,1.5660197933514912],\"yaxis\":\"y17\",\"type\":\"scatter\"},{\"hovertemplate\":\"method=STGNN<br>model=GConvGRU<br>dataset=pedalme<br>mrate=%{x}<br>mse=%{y}<extra></extra>\",\"legendgroup\":\"STGNN\",\"line\":{\"color\":\"#EF553B\",\"dash\":\"dashdot\"},\"marker\":{\"symbol\":\"circle\"},\"mode\":\"lines+markers\",\"name\":\"STGNN\",\"orientation\":\"v\",\"showlegend\":false,\"x\":[0.0,0.3,0.5,0.6,0.8],\"xaxis\":\"x18\",\"y\":[1.2268278823958503,1.578854763507843,1.6728057821591695,1.7499488552411397,1.7808353185653687],\"yaxis\":\"y18\",\"type\":\"scatter\"},{\"hovertemplate\":\"method=STGNN<br>model=GConvGRU<br>dataset=wikimath<br>mrate=%{x}<br>mse=%{y}<extra></extra>\",\"legendgroup\":\"STGNN\",\"line\":{\"color\":\"#EF553B\",\"dash\":\"dashdot\"},\"marker\":{\"symbol\":\"circle\"},\"mode\":\"lines+markers\",\"name\":\"STGNN\",\"orientation\":\"v\",\"showlegend\":false,\"x\":[0.0,0.3,0.5,0.6,0.8],\"xaxis\":\"x19\",\"y\":[0.527652645111084,0.5703602870305379,0.6584665417671204,0.7313244203726451,0.9323520263036092],\"yaxis\":\"y19\",\"type\":\"scatter\"},{\"hovertemplate\":\"method=STGNN<br>model=GConvGRU<br>dataset=windmillsmall<br>mrate=%{x}<br>mse=%{y}<extra></extra>\",\"legendgroup\":\"STGNN\",\"line\":{\"color\":\"#EF553B\",\"dash\":\"dashdot\"},\"marker\":{\"symbol\":\"circle\"},\"mode\":\"lines+markers\",\"name\":\"STGNN\",\"orientation\":\"v\",\"showlegend\":false,\"x\":[0.0,0.5,0.7,0.8],\"xaxis\":\"x20\",\"y\":[1.0029826087336386,1.4441781163215637,1.6618889608690817,1.791900364557902],\"yaxis\":\"y20\",\"type\":\"scatter\"},{\"hovertemplate\":\"method=STGNN<br>model=GConvLSTM<br>dataset=chickenpox<br>mrate=%{x}<br>mse=%{y}<extra></extra>\",\"legendgroup\":\"STGNN\",\"line\":{\"color\":\"#EF553B\",\"dash\":\"dashdot\"},\"marker\":{\"symbol\":\"circle\"},\"mode\":\"lines+markers\",\"name\":\"STGNN\",\"orientation\":\"v\",\"showlegend\":false,\"x\":[0.0,0.3,0.5,0.6,0.8],\"xaxis\":\"x11\",\"y\":[0.9368454615275065,1.113888943195343,1.5183566768964132,1.786720633506775,2.521938411394755],\"yaxis\":\"y11\",\"type\":\"scatter\"},{\"hovertemplate\":\"method=STGNN<br>model=GConvLSTM<br>dataset=monte<br>mrate=%{x}<br>mse=%{y}<extra></extra>\",\"legendgroup\":\"STGNN\",\"line\":{\"color\":\"#EF553B\",\"dash\":\"dashdot\"},\"marker\":{\"symbol\":\"circle\"},\"mode\":\"lines+markers\",\"name\":\"STGNN\",\"orientation\":\"v\",\"showlegend\":false,\"x\":[0.0,0.3,0.5,0.7,0.8],\"xaxis\":\"x12\",\"y\":[0.9604162633419037,0.9985695064067841,1.0904069662094116,1.1389258642991384,1.1363385677337647],\"yaxis\":\"y12\",\"type\":\"scatter\"},{\"hovertemplate\":\"method=STGNN<br>model=GConvLSTM<br>dataset=pedalme<br>mrate=%{x}<br>mse=%{y}<extra></extra>\",\"legendgroup\":\"STGNN\",\"line\":{\"color\":\"#EF553B\",\"dash\":\"dashdot\"},\"marker\":{\"symbol\":\"circle\"},\"mode\":\"lines+markers\",\"name\":\"STGNN\",\"orientation\":\"v\",\"showlegend\":false,\"x\":[0.0,0.3,0.5,0.6,0.8],\"xaxis\":\"x13\",\"y\":[1.2254736728138393,1.2401859561602275,1.2918402314186097,1.3142287492752076,1.363617209593455],\"yaxis\":\"y13\",\"type\":\"scatter\"},{\"hovertemplate\":\"method=STGNN<br>model=GConvLSTM<br>dataset=wikimath<br>mrate=%{x}<br>mse=%{y}<extra></extra>\",\"legendgroup\":\"STGNN\",\"line\":{\"color\":\"#EF553B\",\"dash\":\"dashdot\"},\"marker\":{\"symbol\":\"circle\"},\"mode\":\"lines+markers\",\"name\":\"STGNN\",\"orientation\":\"v\",\"showlegend\":false,\"x\":[0.0,0.3,0.5,0.6,0.8],\"xaxis\":\"x14\",\"y\":[0.6397915740807851,0.7642852425575256,0.9651655813058218,1.1036300559838612,1.4230417132377624],\"yaxis\":\"y14\",\"type\":\"scatter\"},{\"hovertemplate\":\"method=STGNN<br>model=GConvLSTM<br>dataset=windmillsmall<br>mrate=%{x}<br>mse=%{y}<extra></extra>\",\"legendgroup\":\"STGNN\",\"line\":{\"color\":\"#EF553B\",\"dash\":\"dashdot\"},\"marker\":{\"symbol\":\"circle\"},\"mode\":\"lines+markers\",\"name\":\"STGNN\",\"orientation\":\"v\",\"showlegend\":false,\"x\":[0.0,0.5,0.7,0.8],\"xaxis\":\"x15\",\"y\":[1.0233653860707437,1.3304302851359049,1.5990776399086262,1.6595269680023192],\"yaxis\":\"y15\",\"type\":\"scatter\"},{\"hovertemplate\":\"method=STGNN<br>model=LRGCN<br>dataset=chickenpox<br>mrate=%{x}<br>mse=%{y}<extra></extra>\",\"legendgroup\":\"STGNN\",\"line\":{\"color\":\"#EF553B\",\"dash\":\"dashdot\"},\"marker\":{\"symbol\":\"circle\"},\"mode\":\"lines+markers\",\"name\":\"STGNN\",\"orientation\":\"v\",\"showlegend\":false,\"x\":[0.0,0.3,0.5,0.6,0.8],\"xaxis\":\"x6\",\"y\":[0.8718462765216828,1.085606614748637,1.458146858215332,1.6153934677441915,1.6320517897605895],\"yaxis\":\"y6\",\"type\":\"scatter\"},{\"hovertemplate\":\"method=STGNN<br>model=LRGCN<br>dataset=monte<br>mrate=%{x}<br>mse=%{y}<extra></extra>\",\"legendgroup\":\"STGNN\",\"line\":{\"color\":\"#EF553B\",\"dash\":\"dashdot\"},\"marker\":{\"symbol\":\"circle\"},\"mode\":\"lines+markers\",\"name\":\"STGNN\",\"orientation\":\"v\",\"showlegend\":false,\"x\":[0.0,0.3,0.5,0.7,0.8],\"xaxis\":\"x7\",\"y\":[0.9831988374392192,0.9790308872858683,0.9850472311178843,0.989633462826411,0.9895487089951833],\"yaxis\":\"y7\",\"type\":\"scatter\"},{\"hovertemplate\":\"method=STGNN<br>model=LRGCN<br>dataset=pedalme<br>mrate=%{x}<br>mse=%{y}<extra></extra>\",\"legendgroup\":\"STGNN\",\"line\":{\"color\":\"#EF553B\",\"dash\":\"dashdot\"},\"marker\":{\"symbol\":\"circle\"},\"mode\":\"lines+markers\",\"name\":\"STGNN\",\"orientation\":\"v\",\"showlegend\":false,\"x\":[0.0,0.3,0.5,0.6,0.8],\"xaxis\":\"x8\",\"y\":[1.1871252020200094,1.2772556821505228,1.4084373792012532,1.4432549913724264,1.498203957080841],\"yaxis\":\"y8\",\"type\":\"scatter\"},{\"hovertemplate\":\"method=STGNN<br>model=LRGCN<br>dataset=wikimath<br>mrate=%{x}<br>mse=%{y}<extra></extra>\",\"legendgroup\":\"STGNN\",\"line\":{\"color\":\"#EF553B\",\"dash\":\"dashdot\"},\"marker\":{\"symbol\":\"circle\"},\"mode\":\"lines+markers\",\"name\":\"STGNN\",\"orientation\":\"v\",\"showlegend\":false,\"x\":[0.0,0.3,0.5,0.6,0.8],\"xaxis\":\"x9\",\"y\":[0.6080588142077128,0.6893625636895497,0.8375950992107392,0.9172505060831706,1.1053302109241485],\"yaxis\":\"y9\",\"type\":\"scatter\"},{\"hovertemplate\":\"method=STGNN<br>model=LRGCN<br>dataset=windmillsmall<br>mrate=%{x}<br>mse=%{y}<extra></extra>\",\"legendgroup\":\"STGNN\",\"line\":{\"color\":\"#EF553B\",\"dash\":\"dashdot\"},\"marker\":{\"symbol\":\"circle\"},\"mode\":\"lines+markers\",\"name\":\"STGNN\",\"orientation\":\"v\",\"showlegend\":false,\"x\":[0.0,0.5,0.7,0.8],\"xaxis\":\"x10\",\"y\":[0.9879741052786509,1.346710729598999,1.4917972604433696,1.3929911692937216],\"yaxis\":\"y10\",\"type\":\"scatter\"},{\"hovertemplate\":\"method=STGNN<br>model=TGCN<br>dataset=chickenpox<br>mrate=%{x}<br>mse=%{y}<extra></extra>\",\"legendgroup\":\"STGNN\",\"line\":{\"color\":\"#EF553B\",\"dash\":\"dashdot\"},\"marker\":{\"symbol\":\"circle\"},\"mode\":\"lines+markers\",\"name\":\"STGNN\",\"orientation\":\"v\",\"showlegend\":false,\"x\":[0.0,0.3,0.5,0.6,0.8],\"xaxis\":\"x\",\"y\":[1.0880127906799317,1.0536463975906372,1.1673845052719116,1.2415316065152486,1.465696108341217],\"yaxis\":\"y\",\"type\":\"scatter\"},{\"hovertemplate\":\"method=STGNN<br>model=TGCN<br>dataset=monte<br>mrate=%{x}<br>mse=%{y}<extra></extra>\",\"legendgroup\":\"STGNN\",\"line\":{\"color\":\"#EF553B\",\"dash\":\"dashdot\"},\"marker\":{\"symbol\":\"circle\"},\"mode\":\"lines+markers\",\"name\":\"STGNN\",\"orientation\":\"v\",\"showlegend\":false,\"x\":[0.0,0.3,0.5,0.7,0.8],\"xaxis\":\"x2\",\"y\":[0.9824497163295746,1.0453638195991517,1.1323519309361776,1.2196598728497823,1.27865176598231],\"yaxis\":\"y2\",\"type\":\"scatter\"},{\"hovertemplate\":\"method=STGNN<br>model=TGCN<br>dataset=pedalme<br>mrate=%{x}<br>mse=%{y}<extra></extra>\",\"legendgroup\":\"STGNN\",\"line\":{\"color\":\"#EF553B\",\"dash\":\"dashdot\"},\"marker\":{\"symbol\":\"circle\"},\"mode\":\"lines+markers\",\"name\":\"STGNN\",\"orientation\":\"v\",\"showlegend\":false,\"x\":[0.0,0.3,0.5,0.6,0.8],\"xaxis\":\"x3\",\"y\":[1.2800188647376167,1.324417491753896,1.291247804959615,1.3101406574249268,1.2854824145634969],\"yaxis\":\"y3\",\"type\":\"scatter\"},{\"hovertemplate\":\"method=STGNN<br>model=TGCN<br>dataset=wikimath<br>mrate=%{x}<br>mse=%{y}<extra></extra>\",\"legendgroup\":\"STGNN\",\"line\":{\"color\":\"#EF553B\",\"dash\":\"dashdot\"},\"marker\":{\"symbol\":\"circle\"},\"mode\":\"lines+markers\",\"name\":\"STGNN\",\"orientation\":\"v\",\"showlegend\":false,\"x\":[0.0,0.3,0.5,0.6,0.8],\"xaxis\":\"x4\",\"y\":[0.7324025352795919,0.7344819446404774,0.7573648432890574,0.7742546598116556,0.8266303598880768],\"yaxis\":\"y4\",\"type\":\"scatter\"},{\"hovertemplate\":\"method=STGNN<br>model=TGCN<br>dataset=windmillsmall<br>mrate=%{x}<br>mse=%{y}<extra></extra>\",\"legendgroup\":\"STGNN\",\"line\":{\"color\":\"#EF553B\",\"dash\":\"dashdot\"},\"marker\":{\"symbol\":\"circle\"},\"mode\":\"lines+markers\",\"name\":\"STGNN\",\"orientation\":\"v\",\"showlegend\":false,\"x\":[0.0,0.5,0.7,0.8],\"xaxis\":\"x5\",\"y\":[0.9899344603220622,1.2292506615320842,1.3049984494845073,1.3829668045043946],\"yaxis\":\"y5\",\"type\":\"scatter\"}],                        {\"template\":{\"data\":{\"histogram2dcontour\":[{\"type\":\"histogram2dcontour\",\"colorbar\":{\"outlinewidth\":0,\"ticks\":\"\"},\"colorscale\":[[0.0,\"#0d0887\"],[0.1111111111111111,\"#46039f\"],[0.2222222222222222,\"#7201a8\"],[0.3333333333333333,\"#9c179e\"],[0.4444444444444444,\"#bd3786\"],[0.5555555555555556,\"#d8576b\"],[0.6666666666666666,\"#ed7953\"],[0.7777777777777778,\"#fb9f3a\"],[0.8888888888888888,\"#fdca26\"],[1.0,\"#f0f921\"]]}],\"choropleth\":[{\"type\":\"choropleth\",\"colorbar\":{\"outlinewidth\":0,\"ticks\":\"\"}}],\"histogram2d\":[{\"type\":\"histogram2d\",\"colorbar\":{\"outlinewidth\":0,\"ticks\":\"\"},\"colorscale\":[[0.0,\"#0d0887\"],[0.1111111111111111,\"#46039f\"],[0.2222222222222222,\"#7201a8\"],[0.3333333333333333,\"#9c179e\"],[0.4444444444444444,\"#bd3786\"],[0.5555555555555556,\"#d8576b\"],[0.6666666666666666,\"#ed7953\"],[0.7777777777777778,\"#fb9f3a\"],[0.8888888888888888,\"#fdca26\"],[1.0,\"#f0f921\"]]}],\"heatmap\":[{\"type\":\"heatmap\",\"colorbar\":{\"outlinewidth\":0,\"ticks\":\"\"},\"colorscale\":[[0.0,\"#0d0887\"],[0.1111111111111111,\"#46039f\"],[0.2222222222222222,\"#7201a8\"],[0.3333333333333333,\"#9c179e\"],[0.4444444444444444,\"#bd3786\"],[0.5555555555555556,\"#d8576b\"],[0.6666666666666666,\"#ed7953\"],[0.7777777777777778,\"#fb9f3a\"],[0.8888888888888888,\"#fdca26\"],[1.0,\"#f0f921\"]]}],\"heatmapgl\":[{\"type\":\"heatmapgl\",\"colorbar\":{\"outlinewidth\":0,\"ticks\":\"\"},\"colorscale\":[[0.0,\"#0d0887\"],[0.1111111111111111,\"#46039f\"],[0.2222222222222222,\"#7201a8\"],[0.3333333333333333,\"#9c179e\"],[0.4444444444444444,\"#bd3786\"],[0.5555555555555556,\"#d8576b\"],[0.6666666666666666,\"#ed7953\"],[0.7777777777777778,\"#fb9f3a\"],[0.8888888888888888,\"#fdca26\"],[1.0,\"#f0f921\"]]}],\"contourcarpet\":[{\"type\":\"contourcarpet\",\"colorbar\":{\"outlinewidth\":0,\"ticks\":\"\"}}],\"contour\":[{\"type\":\"contour\",\"colorbar\":{\"outlinewidth\":0,\"ticks\":\"\"},\"colorscale\":[[0.0,\"#0d0887\"],[0.1111111111111111,\"#46039f\"],[0.2222222222222222,\"#7201a8\"],[0.3333333333333333,\"#9c179e\"],[0.4444444444444444,\"#bd3786\"],[0.5555555555555556,\"#d8576b\"],[0.6666666666666666,\"#ed7953\"],[0.7777777777777778,\"#fb9f3a\"],[0.8888888888888888,\"#fdca26\"],[1.0,\"#f0f921\"]]}],\"surface\":[{\"type\":\"surface\",\"colorbar\":{\"outlinewidth\":0,\"ticks\":\"\"},\"colorscale\":[[0.0,\"#0d0887\"],[0.1111111111111111,\"#46039f\"],[0.2222222222222222,\"#7201a8\"],[0.3333333333333333,\"#9c179e\"],[0.4444444444444444,\"#bd3786\"],[0.5555555555555556,\"#d8576b\"],[0.6666666666666666,\"#ed7953\"],[0.7777777777777778,\"#fb9f3a\"],[0.8888888888888888,\"#fdca26\"],[1.0,\"#f0f921\"]]}],\"mesh3d\":[{\"type\":\"mesh3d\",\"colorbar\":{\"outlinewidth\":0,\"ticks\":\"\"}}],\"scatter\":[{\"fillpattern\":{\"fillmode\":\"overlay\",\"size\":10,\"solidity\":0.2},\"type\":\"scatter\"}],\"parcoords\":[{\"type\":\"parcoords\",\"line\":{\"colorbar\":{\"outlinewidth\":0,\"ticks\":\"\"}}}],\"scatterpolargl\":[{\"type\":\"scatterpolargl\",\"marker\":{\"colorbar\":{\"outlinewidth\":0,\"ticks\":\"\"}}}],\"bar\":[{\"error_x\":{\"color\":\"#2a3f5f\"},\"error_y\":{\"color\":\"#2a3f5f\"},\"marker\":{\"line\":{\"color\":\"white\",\"width\":0.5},\"pattern\":{\"fillmode\":\"overlay\",\"size\":10,\"solidity\":0.2}},\"type\":\"bar\"}],\"scattergeo\":[{\"type\":\"scattergeo\",\"marker\":{\"colorbar\":{\"outlinewidth\":0,\"ticks\":\"\"}}}],\"scatterpolar\":[{\"type\":\"scatterpolar\",\"marker\":{\"colorbar\":{\"outlinewidth\":0,\"ticks\":\"\"}}}],\"histogram\":[{\"marker\":{\"pattern\":{\"fillmode\":\"overlay\",\"size\":10,\"solidity\":0.2}},\"type\":\"histogram\"}],\"scattergl\":[{\"type\":\"scattergl\",\"marker\":{\"colorbar\":{\"outlinewidth\":0,\"ticks\":\"\"}}}],\"scatter3d\":[{\"type\":\"scatter3d\",\"line\":{\"colorbar\":{\"outlinewidth\":0,\"ticks\":\"\"}},\"marker\":{\"colorbar\":{\"outlinewidth\":0,\"ticks\":\"\"}}}],\"scattermapbox\":[{\"type\":\"scattermapbox\",\"marker\":{\"colorbar\":{\"outlinewidth\":0,\"ticks\":\"\"}}}],\"scatterternary\":[{\"type\":\"scatterternary\",\"marker\":{\"colorbar\":{\"outlinewidth\":0,\"ticks\":\"\"}}}],\"scattercarpet\":[{\"type\":\"scattercarpet\",\"marker\":{\"colorbar\":{\"outlinewidth\":0,\"ticks\":\"\"}}}],\"carpet\":[{\"aaxis\":{\"endlinecolor\":\"#2a3f5f\",\"gridcolor\":\"#C8D4E3\",\"linecolor\":\"#C8D4E3\",\"minorgridcolor\":\"#C8D4E3\",\"startlinecolor\":\"#2a3f5f\"},\"baxis\":{\"endlinecolor\":\"#2a3f5f\",\"gridcolor\":\"#C8D4E3\",\"linecolor\":\"#C8D4E3\",\"minorgridcolor\":\"#C8D4E3\",\"startlinecolor\":\"#2a3f5f\"},\"type\":\"carpet\"}],\"table\":[{\"cells\":{\"fill\":{\"color\":\"#EBF0F8\"},\"line\":{\"color\":\"white\"}},\"header\":{\"fill\":{\"color\":\"#C8D4E3\"},\"line\":{\"color\":\"white\"}},\"type\":\"table\"}],\"barpolar\":[{\"marker\":{\"line\":{\"color\":\"white\",\"width\":0.5},\"pattern\":{\"fillmode\":\"overlay\",\"size\":10,\"solidity\":0.2}},\"type\":\"barpolar\"}],\"pie\":[{\"automargin\":true,\"type\":\"pie\"}]},\"layout\":{\"autotypenumbers\":\"strict\",\"colorway\":[\"#636efa\",\"#EF553B\",\"#00cc96\",\"#ab63fa\",\"#FFA15A\",\"#19d3f3\",\"#FF6692\",\"#B6E880\",\"#FF97FF\",\"#FECB52\"],\"font\":{\"color\":\"#2a3f5f\"},\"hovermode\":\"closest\",\"hoverlabel\":{\"align\":\"left\"},\"paper_bgcolor\":\"white\",\"plot_bgcolor\":\"white\",\"polar\":{\"bgcolor\":\"white\",\"angularaxis\":{\"gridcolor\":\"#EBF0F8\",\"linecolor\":\"#EBF0F8\",\"ticks\":\"\"},\"radialaxis\":{\"gridcolor\":\"#EBF0F8\",\"linecolor\":\"#EBF0F8\",\"ticks\":\"\"}},\"ternary\":{\"bgcolor\":\"white\",\"aaxis\":{\"gridcolor\":\"#DFE8F3\",\"linecolor\":\"#A2B1C6\",\"ticks\":\"\"},\"baxis\":{\"gridcolor\":\"#DFE8F3\",\"linecolor\":\"#A2B1C6\",\"ticks\":\"\"},\"caxis\":{\"gridcolor\":\"#DFE8F3\",\"linecolor\":\"#A2B1C6\",\"ticks\":\"\"}},\"coloraxis\":{\"colorbar\":{\"outlinewidth\":0,\"ticks\":\"\"}},\"colorscale\":{\"sequential\":[[0.0,\"#0d0887\"],[0.1111111111111111,\"#46039f\"],[0.2222222222222222,\"#7201a8\"],[0.3333333333333333,\"#9c179e\"],[0.4444444444444444,\"#bd3786\"],[0.5555555555555556,\"#d8576b\"],[0.6666666666666666,\"#ed7953\"],[0.7777777777777778,\"#fb9f3a\"],[0.8888888888888888,\"#fdca26\"],[1.0,\"#f0f921\"]],\"sequentialminus\":[[0.0,\"#0d0887\"],[0.1111111111111111,\"#46039f\"],[0.2222222222222222,\"#7201a8\"],[0.3333333333333333,\"#9c179e\"],[0.4444444444444444,\"#bd3786\"],[0.5555555555555556,\"#d8576b\"],[0.6666666666666666,\"#ed7953\"],[0.7777777777777778,\"#fb9f3a\"],[0.8888888888888888,\"#fdca26\"],[1.0,\"#f0f921\"]],\"diverging\":[[0,\"#8e0152\"],[0.1,\"#c51b7d\"],[0.2,\"#de77ae\"],[0.3,\"#f1b6da\"],[0.4,\"#fde0ef\"],[0.5,\"#f7f7f7\"],[0.6,\"#e6f5d0\"],[0.7,\"#b8e186\"],[0.8,\"#7fbc41\"],[0.9,\"#4d9221\"],[1,\"#276419\"]]},\"xaxis\":{\"gridcolor\":\"#EBF0F8\",\"linecolor\":\"#EBF0F8\",\"ticks\":\"\",\"title\":{\"standoff\":15},\"zerolinecolor\":\"#EBF0F8\",\"automargin\":true,\"zerolinewidth\":2},\"yaxis\":{\"gridcolor\":\"#EBF0F8\",\"linecolor\":\"#EBF0F8\",\"ticks\":\"\",\"title\":{\"standoff\":15},\"zerolinecolor\":\"#EBF0F8\",\"automargin\":true,\"zerolinewidth\":2},\"scene\":{\"xaxis\":{\"backgroundcolor\":\"white\",\"gridcolor\":\"#DFE8F3\",\"linecolor\":\"#EBF0F8\",\"showbackground\":true,\"ticks\":\"\",\"zerolinecolor\":\"#EBF0F8\",\"gridwidth\":2},\"yaxis\":{\"backgroundcolor\":\"white\",\"gridcolor\":\"#DFE8F3\",\"linecolor\":\"#EBF0F8\",\"showbackground\":true,\"ticks\":\"\",\"zerolinecolor\":\"#EBF0F8\",\"gridwidth\":2},\"zaxis\":{\"backgroundcolor\":\"white\",\"gridcolor\":\"#DFE8F3\",\"linecolor\":\"#EBF0F8\",\"showbackground\":true,\"ticks\":\"\",\"zerolinecolor\":\"#EBF0F8\",\"gridwidth\":2}},\"shapedefaults\":{\"line\":{\"color\":\"#2a3f5f\"}},\"annotationdefaults\":{\"arrowcolor\":\"#2a3f5f\",\"arrowhead\":0,\"arrowwidth\":1},\"geo\":{\"bgcolor\":\"white\",\"landcolor\":\"white\",\"subunitcolor\":\"#C8D4E3\",\"showland\":true,\"showlakes\":true,\"lakecolor\":\"white\"},\"title\":{\"x\":0.05},\"mapbox\":{\"style\":\"light\"}}},\"xaxis\":{\"anchor\":\"y\",\"domain\":[0.0,0.18000000000000002],\"title\":{},\"showticklabels\":true},\"yaxis\":{\"anchor\":\"x\",\"domain\":[0.0,0.08444444444444445],\"title\":{},\"showticklabels\":true},\"xaxis2\":{\"anchor\":\"y2\",\"domain\":[0.2,0.38],\"title\":{},\"showticklabels\":true},\"yaxis2\":{\"anchor\":\"x2\",\"domain\":[0.0,0.08444444444444445],\"showticklabels\":true},\"xaxis3\":{\"anchor\":\"y3\",\"domain\":[0.4,0.5800000000000001],\"title\":{},\"showticklabels\":true},\"yaxis3\":{\"anchor\":\"x3\",\"domain\":[0.0,0.08444444444444445],\"showticklabels\":true},\"xaxis4\":{\"anchor\":\"y4\",\"domain\":[0.6000000000000001,0.7800000000000001],\"title\":{},\"showticklabels\":true},\"yaxis4\":{\"anchor\":\"x4\",\"domain\":[0.0,0.08444444444444445],\"showticklabels\":true},\"xaxis5\":{\"anchor\":\"y5\",\"domain\":[0.8,0.9800000000000001],\"title\":{},\"showticklabels\":true},\"yaxis5\":{\"anchor\":\"x5\",\"domain\":[0.0,0.08444444444444445],\"showticklabels\":true},\"xaxis6\":{\"anchor\":\"y6\",\"domain\":[0.0,0.18000000000000002],\"showticklabels\":true},\"yaxis6\":{\"anchor\":\"x6\",\"domain\":[0.11444444444444445,0.1988888888888889],\"title\":{},\"showticklabels\":true},\"xaxis7\":{\"anchor\":\"y7\",\"domain\":[0.2,0.38],\"showticklabels\":true},\"yaxis7\":{\"anchor\":\"x7\",\"domain\":[0.11444444444444445,0.1988888888888889],\"showticklabels\":true},\"xaxis8\":{\"anchor\":\"y8\",\"domain\":[0.4,0.5800000000000001],\"showticklabels\":true},\"yaxis8\":{\"anchor\":\"x8\",\"domain\":[0.11444444444444445,0.1988888888888889],\"showticklabels\":true},\"xaxis9\":{\"anchor\":\"y9\",\"domain\":[0.6000000000000001,0.7800000000000001],\"showticklabels\":true},\"yaxis9\":{\"anchor\":\"x9\",\"domain\":[0.11444444444444445,0.1988888888888889],\"showticklabels\":true},\"xaxis10\":{\"anchor\":\"y10\",\"domain\":[0.8,0.9800000000000001],\"showticklabels\":true},\"yaxis10\":{\"anchor\":\"x10\",\"domain\":[0.11444444444444445,0.1988888888888889],\"showticklabels\":true},\"xaxis11\":{\"anchor\":\"y11\",\"domain\":[0.0,0.18000000000000002],\"showticklabels\":true},\"yaxis11\":{\"anchor\":\"x11\",\"domain\":[0.2288888888888889,0.31333333333333335],\"title\":{},\"showticklabels\":true},\"xaxis12\":{\"anchor\":\"y12\",\"domain\":[0.2,0.38],\"showticklabels\":true},\"yaxis12\":{\"anchor\":\"x12\",\"domain\":[0.2288888888888889,0.31333333333333335],\"showticklabels\":true},\"xaxis13\":{\"anchor\":\"y13\",\"domain\":[0.4,0.5800000000000001],\"showticklabels\":true},\"yaxis13\":{\"anchor\":\"x13\",\"domain\":[0.2288888888888889,0.31333333333333335],\"showticklabels\":true},\"xaxis14\":{\"anchor\":\"y14\",\"domain\":[0.6000000000000001,0.7800000000000001],\"showticklabels\":true},\"yaxis14\":{\"anchor\":\"x14\",\"domain\":[0.2288888888888889,0.31333333333333335],\"showticklabels\":true},\"xaxis15\":{\"anchor\":\"y15\",\"domain\":[0.8,0.9800000000000001],\"showticklabels\":true},\"yaxis15\":{\"anchor\":\"x15\",\"domain\":[0.2288888888888889,0.31333333333333335],\"showticklabels\":true},\"xaxis16\":{\"anchor\":\"y16\",\"domain\":[0.0,0.18000000000000002],\"showticklabels\":true},\"yaxis16\":{\"anchor\":\"x16\",\"domain\":[0.3433333333333334,0.4277777777777778],\"title\":{},\"showticklabels\":true},\"xaxis17\":{\"anchor\":\"y17\",\"domain\":[0.2,0.38],\"showticklabels\":true},\"yaxis17\":{\"anchor\":\"x17\",\"domain\":[0.3433333333333334,0.4277777777777778],\"showticklabels\":true},\"xaxis18\":{\"anchor\":\"y18\",\"domain\":[0.4,0.5800000000000001],\"showticklabels\":true},\"yaxis18\":{\"anchor\":\"x18\",\"domain\":[0.3433333333333334,0.4277777777777778],\"showticklabels\":true},\"xaxis19\":{\"anchor\":\"y19\",\"domain\":[0.6000000000000001,0.7800000000000001],\"showticklabels\":true},\"yaxis19\":{\"anchor\":\"x19\",\"domain\":[0.3433333333333334,0.4277777777777778],\"showticklabels\":true},\"xaxis20\":{\"anchor\":\"y20\",\"domain\":[0.8,0.9800000000000001],\"showticklabels\":true},\"yaxis20\":{\"anchor\":\"x20\",\"domain\":[0.3433333333333334,0.4277777777777778],\"showticklabels\":true},\"xaxis21\":{\"anchor\":\"y21\",\"domain\":[0.0,0.18000000000000002],\"showticklabels\":true},\"yaxis21\":{\"anchor\":\"x21\",\"domain\":[0.4577777777777778,0.5422222222222223],\"title\":{},\"showticklabels\":true},\"xaxis22\":{\"anchor\":\"y22\",\"domain\":[0.2,0.38],\"showticklabels\":true},\"yaxis22\":{\"anchor\":\"x22\",\"domain\":[0.4577777777777778,0.5422222222222223],\"showticklabels\":true},\"xaxis23\":{\"anchor\":\"y23\",\"domain\":[0.4,0.5800000000000001],\"showticklabels\":true},\"yaxis23\":{\"anchor\":\"x23\",\"domain\":[0.4577777777777778,0.5422222222222223],\"showticklabels\":true},\"xaxis24\":{\"anchor\":\"y24\",\"domain\":[0.6000000000000001,0.7800000000000001],\"showticklabels\":true},\"yaxis24\":{\"anchor\":\"x24\",\"domain\":[0.4577777777777778,0.5422222222222223],\"showticklabels\":true},\"xaxis25\":{\"anchor\":\"y25\",\"domain\":[0.8,0.9800000000000001],\"showticklabels\":true},\"yaxis25\":{\"anchor\":\"x25\",\"domain\":[0.4577777777777778,0.5422222222222223],\"showticklabels\":true},\"xaxis26\":{\"anchor\":\"y26\",\"domain\":[0.0,0.18000000000000002],\"showticklabels\":true},\"yaxis26\":{\"anchor\":\"x26\",\"domain\":[0.5722222222222222,0.6566666666666666],\"title\":{},\"showticklabels\":true},\"xaxis27\":{\"anchor\":\"y27\",\"domain\":[0.2,0.38],\"showticklabels\":true},\"yaxis27\":{\"anchor\":\"x27\",\"domain\":[0.5722222222222222,0.6566666666666666],\"showticklabels\":true},\"xaxis28\":{\"anchor\":\"y28\",\"domain\":[0.4,0.5800000000000001],\"showticklabels\":true},\"yaxis28\":{\"anchor\":\"x28\",\"domain\":[0.5722222222222222,0.6566666666666666],\"showticklabels\":true},\"xaxis29\":{\"anchor\":\"y29\",\"domain\":[0.6000000000000001,0.7800000000000001],\"showticklabels\":true},\"yaxis29\":{\"anchor\":\"x29\",\"domain\":[0.5722222222222222,0.6566666666666666],\"showticklabels\":true},\"xaxis30\":{\"anchor\":\"y30\",\"domain\":[0.8,0.9800000000000001],\"showticklabels\":true},\"yaxis30\":{\"anchor\":\"x30\",\"domain\":[0.5722222222222222,0.6566666666666666],\"showticklabels\":true},\"xaxis31\":{\"anchor\":\"y31\",\"domain\":[0.0,0.18000000000000002],\"showticklabels\":true},\"yaxis31\":{\"anchor\":\"x31\",\"domain\":[0.6866666666666668,0.7711111111111112],\"title\":{},\"showticklabels\":true},\"xaxis32\":{\"anchor\":\"y32\",\"domain\":[0.2,0.38],\"showticklabels\":true},\"yaxis32\":{\"anchor\":\"x32\",\"domain\":[0.6866666666666668,0.7711111111111112],\"showticklabels\":true},\"xaxis33\":{\"anchor\":\"y33\",\"domain\":[0.4,0.5800000000000001],\"showticklabels\":true},\"yaxis33\":{\"anchor\":\"x33\",\"domain\":[0.6866666666666668,0.7711111111111112],\"showticklabels\":true},\"xaxis34\":{\"anchor\":\"y34\",\"domain\":[0.6000000000000001,0.7800000000000001],\"showticklabels\":true},\"yaxis34\":{\"anchor\":\"x34\",\"domain\":[0.6866666666666668,0.7711111111111112],\"showticklabels\":true},\"xaxis35\":{\"anchor\":\"y35\",\"domain\":[0.8,0.9800000000000001],\"showticklabels\":true},\"yaxis35\":{\"anchor\":\"x35\",\"domain\":[0.6866666666666668,0.7711111111111112],\"showticklabels\":true},\"xaxis36\":{\"anchor\":\"y36\",\"domain\":[0.0,0.18000000000000002],\"showticklabels\":true},\"yaxis36\":{\"anchor\":\"x36\",\"domain\":[0.8011111111111111,0.8855555555555555],\"title\":{},\"showticklabels\":true},\"xaxis37\":{\"anchor\":\"y37\",\"domain\":[0.2,0.38],\"showticklabels\":true},\"yaxis37\":{\"anchor\":\"x37\",\"domain\":[0.8011111111111111,0.8855555555555555],\"showticklabels\":true},\"xaxis38\":{\"anchor\":\"y38\",\"domain\":[0.4,0.5800000000000001],\"showticklabels\":true},\"yaxis38\":{\"anchor\":\"x38\",\"domain\":[0.8011111111111111,0.8855555555555555],\"showticklabels\":true},\"xaxis39\":{\"anchor\":\"y39\",\"domain\":[0.6000000000000001,0.7800000000000001],\"showticklabels\":true},\"yaxis39\":{\"anchor\":\"x39\",\"domain\":[0.8011111111111111,0.8855555555555555],\"showticklabels\":true},\"xaxis40\":{\"anchor\":\"y40\",\"domain\":[0.8,0.9800000000000001],\"showticklabels\":true},\"yaxis40\":{\"anchor\":\"x40\",\"domain\":[0.8011111111111111,0.8855555555555555],\"showticklabels\":true},\"xaxis41\":{\"anchor\":\"y41\",\"domain\":[0.0,0.18000000000000002],\"showticklabels\":true},\"yaxis41\":{\"anchor\":\"x41\",\"domain\":[0.9155555555555556,1.0],\"title\":{},\"showticklabels\":true},\"xaxis42\":{\"anchor\":\"y42\",\"domain\":[0.2,0.38],\"showticklabels\":true},\"yaxis42\":{\"anchor\":\"x42\",\"domain\":[0.9155555555555556,1.0],\"showticklabels\":true},\"xaxis43\":{\"anchor\":\"y43\",\"domain\":[0.4,0.5800000000000001],\"showticklabels\":true},\"yaxis43\":{\"anchor\":\"x43\",\"domain\":[0.9155555555555556,1.0],\"showticklabels\":true},\"xaxis44\":{\"anchor\":\"y44\",\"domain\":[0.6000000000000001,0.7800000000000001],\"showticklabels\":true},\"yaxis44\":{\"anchor\":\"x44\",\"domain\":[0.9155555555555556,1.0],\"showticklabels\":true},\"xaxis45\":{\"anchor\":\"y45\",\"domain\":[0.8,0.9800000000000001],\"showticklabels\":true},\"yaxis45\":{\"anchor\":\"x45\",\"domain\":[0.9155555555555556,1.0],\"showticklabels\":true},\"annotations\":[{\"font\":{},\"showarrow\":false,\"text\":\"chickenpox\",\"x\":0.09000000000000001,\"xanchor\":\"center\",\"xref\":\"paper\",\"y\":1.0,\"yanchor\":\"bottom\",\"yref\":\"paper\"},{\"font\":{},\"showarrow\":false,\"text\":\"monte\",\"x\":0.29000000000000004,\"xanchor\":\"center\",\"xref\":\"paper\",\"y\":1.0,\"yanchor\":\"bottom\",\"yref\":\"paper\"},{\"font\":{},\"showarrow\":false,\"text\":\"pedalme\",\"x\":0.49000000000000005,\"xanchor\":\"center\",\"xref\":\"paper\",\"y\":1.0,\"yanchor\":\"bottom\",\"yref\":\"paper\"},{\"font\":{},\"showarrow\":false,\"text\":\"wikimath\",\"x\":0.6900000000000002,\"xanchor\":\"center\",\"xref\":\"paper\",\"y\":1.0,\"yanchor\":\"bottom\",\"yref\":\"paper\"},{\"font\":{},\"showarrow\":false,\"text\":\"windmillsmall\",\"x\":0.8900000000000001,\"xanchor\":\"center\",\"xref\":\"paper\",\"y\":1.0,\"yanchor\":\"bottom\",\"yref\":\"paper\"},{\"font\":{},\"showarrow\":false,\"text\":\"TGCN\",\"textangle\":90,\"x\":0.9800000000000001,\"xanchor\":\"left\",\"xref\":\"paper\",\"y\":0.042222222222222223,\"yanchor\":\"middle\",\"yref\":\"paper\"},{\"font\":{},\"showarrow\":false,\"text\":\"LRGCN\",\"textangle\":90,\"x\":0.9800000000000001,\"xanchor\":\"left\",\"xref\":\"paper\",\"y\":0.15666666666666668,\"yanchor\":\"middle\",\"yref\":\"paper\"},{\"font\":{},\"showarrow\":false,\"text\":\"GConvLSTM\",\"textangle\":90,\"x\":0.9800000000000001,\"xanchor\":\"left\",\"xref\":\"paper\",\"y\":0.27111111111111114,\"yanchor\":\"middle\",\"yref\":\"paper\"},{\"font\":{},\"showarrow\":false,\"text\":\"GConvGRU\",\"textangle\":90,\"x\":0.9800000000000001,\"xanchor\":\"left\",\"xref\":\"paper\",\"y\":0.3855555555555556,\"yanchor\":\"middle\",\"yref\":\"paper\"},{\"font\":{},\"showarrow\":false,\"text\":\"GCLSTM\",\"textangle\":90,\"x\":0.9800000000000001,\"xanchor\":\"left\",\"xref\":\"paper\",\"y\":0.5,\"yanchor\":\"middle\",\"yref\":\"paper\"},{\"font\":{},\"showarrow\":false,\"text\":\"EvolveGCNO\",\"textangle\":90,\"x\":0.9800000000000001,\"xanchor\":\"left\",\"xref\":\"paper\",\"y\":0.6144444444444443,\"yanchor\":\"middle\",\"yref\":\"paper\"},{\"font\":{},\"showarrow\":false,\"text\":\"EvolveGCNH\",\"textangle\":90,\"x\":0.9800000000000001,\"xanchor\":\"left\",\"xref\":\"paper\",\"y\":0.7288888888888889,\"yanchor\":\"middle\",\"yref\":\"paper\"},{\"font\":{},\"showarrow\":false,\"text\":\"DyGrEncoder\",\"textangle\":90,\"x\":0.9800000000000001,\"xanchor\":\"left\",\"xref\":\"paper\",\"y\":0.8433333333333333,\"yanchor\":\"middle\",\"yref\":\"paper\"},{\"font\":{},\"showarrow\":false,\"text\":\"DCRNN\",\"textangle\":90,\"x\":0.9800000000000001,\"xanchor\":\"left\",\"xref\":\"paper\",\"y\":0.9577777777777778,\"yanchor\":\"middle\",\"yref\":\"paper\"}],\"legend\":{\"title\":{\"text\":\"method\"},\"tracegroupgap\":0},\"margin\":{\"t\":60},\"height\":1000,\"width\":850},                        {\"responsive\": true}                    ).then(function(){\n",
       "                            \n",
       "var gd = document.getElementById('42d34661-3930-4e75-84b6-82cf88fa2882');\n",
       "var x = new MutationObserver(function (mutations, observer) {{\n",
       "        var display = window.getComputedStyle(gd).display;\n",
       "        if (!display || display === 'none') {{\n",
       "            console.log([gd, 'removed!']);\n",
       "            Plotly.purge(gd);\n",
       "            observer.disconnect();\n",
       "        }}\n",
       "}});\n",
       "\n",
       "// Listen for the removal of the full notebook cells\n",
       "var notebookContainer = gd.closest('#notebook-container');\n",
       "if (notebookContainer) {{\n",
       "    x.observe(notebookContainer, {childList: true});\n",
       "}}\n",
       "\n",
       "// Listen for the clearing of the current output cell\n",
       "var outputEl = gd.closest('.output');\n",
       "if (outputEl) {{\n",
       "    x.observe(outputEl, {childList: true});\n",
       "}}\n",
       "\n",
       "                        })                };                });            </script>        </div>"
      ]
     },
     "metadata": {},
     "output_type": "display_data"
    }
   ],
   "source": [
    "tidydata = df.query(\"mtype!='block'\").query(\"method!='GNAR'\").query(\"dataset != 'fivenodes' and inter_method not in ('cubic','nearest')\")\\\n",
    ".groupby([\"method\",\"dataset\",\"mrate\",\"model\"]).agg({'mse':'mean'}).reset_index()\n",
    "#---#\n",
    "fig = px.line(\n",
    "    tidydata,\n",
    "    x='mrate',\n",
    "    y='mse',\n",
    "    color='method',\n",
    "    facet_row='model',\n",
    "    facet_col='dataset',\n",
    "    width=850,\n",
    "    height=1000,\n",
    "    \n",
    ")\n",
    "for scatter in fig.data:\n",
    "    scatter['mode'] = 'lines+markers'\n",
    "    scatter['line']['dash'] = 'dashdot'\n",
    "for annotation in fig.layout['annotations']:\n",
    "    annotation['text'] = annotation['text'].replace('dataset=','')\n",
    "    annotation['text'] = annotation['text'].replace('model=','')\n",
    "for k in [k for k in fig.layout if 'xaxis' in k]:\n",
    "    fig.layout[k]['title']['text'] = None \n",
    "for k in [k for k in fig.layout if 'yaxis' in k]:\n",
    "    fig.layout[k]['title']['text'] = None \n",
    "fig.update_yaxes(showticklabels=True,matches=None)\n",
    "fig.update_xaxes(showticklabels=True,matches=None)"
   ]
  },
  {
   "cell_type": "markdown",
   "id": "559ec12e-293f-466d-bc5b-790b70bc0943",
   "metadata": {},
   "source": [
    "# 시각화3 "
   ]
  },
  {
   "cell_type": "code",
   "execution_count": null,
   "id": "8795adcc-9bbf-48db-8feb-248bf258151d",
   "metadata": {},
   "outputs": [],
   "source": [
    "def func(x):\n",
    "    if 'IT-STGCN' in x:\n",
    "        return 'IT-STGNN'\n",
    "    elif 'GNAR' in x:\n",
    "        return 'GNAR'\n",
    "    else: \n",
    "        return 'STGNN'"
   ]
  },
  {
   "cell_type": "code",
   "execution_count": null,
   "id": "b663c99a-a5ab-496a-84cf-d5fc59180192",
   "metadata": {},
   "outputs": [],
   "source": [
    "tidydata = df2.query('mtype != \"block\"').query('method!=\"GNAR\"').groupby([\"method\",\"dataset\",\"mrate\",\"model\"]).agg({'mse':'mean'}).reset_index()\\\n",
    ".pivot_table(index=['model','method'],columns=['dataset'],values='mse').stack().reset_index().rename({0:'mse'},axis=1)\n",
    "tidydata = pd.concat([df.sort_values('mse').reset_index(drop=True).reset_index() for _,df in tidydata.groupby([\"dataset\"])])\n",
    "#---#\n",
    "fig = px.bar(\n",
    "    tidydata,\n",
    "    x='index',\n",
    "    y='mse',\n",
    "    color='method',\n",
    "    facet_col='dataset',\n",
    "    facet_col_wrap=2,\n",
    "    text='model',\n",
    "    height=800\n",
    ")\n",
    "fig"
   ]
  },
  {
   "cell_type": "markdown",
   "id": "4df490bc-4ba6-4770-b614-3539d1694975",
   "metadata": {},
   "source": [
    "# 시각화4"
   ]
  },
  {
   "cell_type": "code",
   "execution_count": null,
   "id": "bc53c699-673f-45ab-9195-5a8525ef60cd",
   "metadata": {},
   "outputs": [],
   "source": [
    "tidydata = df.query('mtype != \"block\"').query('dataset != \"fivenodes\"')\\\n",
    ".groupby([\"method\",\"dataset\",\"node\",\"time\"]).agg({'mse':'mean'}).reset_index()\\\n",
    ".assign(ratio = lambda df: df['time']/df['node'])\\\n",
    ".pivot_table(index=['dataset','ratio'] ,columns=['method'],values='mse')\\\n",
    ".assign(mse_diff = lambda df: df['STGNN']- df['IT-STGNN']).loc[:,'mse_diff']\\\n",
    ".reset_index()\n",
    "tidydata\n",
    "fig = px.scatter(\n",
    "    tidydata,\n",
    "    x='ratio',\n",
    "    log_x=True,\n",
    "    y='mse_diff',\n",
    "    text='dataset',\n",
    "    width=625,\n",
    "    height=425,\n",
    ")\n",
    "fig.data[0]['textposition'] = ['top right']*3 + ['bottom right'] + ['top left']\n",
    "fig.data[0]['marker']['size'] = 8\n",
    "fig.data[0].text = ['Chickenpox', 'MontevieoBus', 'Pedalme', 'Wikimath', 'Windmillsmall']\n",
    "fig"
   ]
  },
  {
   "cell_type": "markdown",
   "id": "7e2535f9-f258-4056-bae8-abd302719b34",
   "metadata": {},
   "source": [
    "# 시각화5"
   ]
  },
  {
   "cell_type": "code",
   "execution_count": null,
   "id": "6cb00f0e-f317-4804-8b61-3963c764cd52",
   "metadata": {},
   "outputs": [],
   "source": [
    "tidydata = df.assign(mtype = df['mtype'].fillna(\"rand\"))\\\n",
    ".query('method != \"GNAR\"').query('dataset != \"windmillsmall\"').query('dataset != \"wikimath\"')\\\n",
    ".groupby([\"method\",\"dataset\",\"mtype\",\"mrate\"]).agg({'mse':'mean'}).reset_index()\\\n",
    ".sort_values('mrate')\\\n",
    ".assign(mrate = lambda df: df['mrate'].apply(lambda x: f'{x:.3f}'))\n",
    "#---#\n",
    "fig = px.bar(\n",
    "    tidydata,\n",
    "    x='mrate',\n",
    "    y='mse',\n",
    "    color='method',\n",
    "    facet_col='dataset',\n",
    "    facet_col_wrap=2,    \n",
    "    width=850,\n",
    "    height=650,\n",
    "    barmode='group',\n",
    "    hover_data='mtype',\n",
    "    opacity=0.2\n",
    ")\n",
    "fig.update_yaxes(showticklabels=True,matches=None)\n",
    "fig.update_xaxes(showticklabels=True,matches=None) \n",
    "for trace in fig.data:\n",
    "    trace['marker']['opacity']=[0.2, 1, 0.2, 0.2, 0.2, 0.2, 0.2]\n",
    "fig"
   ]
  },
  {
   "cell_type": "code",
   "execution_count": null,
   "id": "d8689e38-c79f-42b4-9fda-c2ffedf8caf5",
   "metadata": {},
   "outputs": [],
   "source": []
  },
  {
   "cell_type": "code",
   "execution_count": null,
   "id": "c4991b67-fb76-453c-9197-5d773105ca5e",
   "metadata": {},
   "outputs": [],
   "source": []
  },
  {
   "cell_type": "code",
   "execution_count": null,
   "id": "4d4442b6-0d4f-43f6-9c5b-5f64b60b38f5",
   "metadata": {},
   "outputs": [],
   "source": []
  },
  {
   "cell_type": "code",
   "execution_count": null,
   "id": "6e2839d8-4585-4b23-8ed9-8a3aa5ea1e2c",
   "metadata": {},
   "outputs": [],
   "source": []
  },
  {
   "cell_type": "code",
   "execution_count": null,
   "id": "9630f4c3-b280-4db2-aaa7-065531ff2038",
   "metadata": {},
   "outputs": [],
   "source": []
  },
  {
   "cell_type": "code",
   "execution_count": null,
   "id": "84d03025-c741-4082-8167-5c98a0f8653c",
   "metadata": {},
   "outputs": [],
   "source": []
  },
  {
   "cell_type": "code",
   "execution_count": null,
   "id": "f5dd57ac-8c34-4aab-80c8-380350c3ffed",
   "metadata": {},
   "outputs": [],
   "source": []
  }
 ],
 "metadata": {
  "kernelspec": {
   "display_name": "Python 3",
   "language": "python",
   "name": "python3"
  },
  "language_info": {
   "codemirror_mode": {
    "name": "ipython",
    "version": 3
   },
   "file_extension": ".py",
   "mimetype": "text/x-python",
   "name": "python",
   "nbconvert_exporter": "python",
   "pygments_lexer": "ipython3",
   "version": "3.8.0"
  }
 },
 "nbformat": 4,
 "nbformat_minor": 5
}
